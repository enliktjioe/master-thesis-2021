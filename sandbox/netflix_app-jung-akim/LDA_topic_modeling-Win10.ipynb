{
 "cells": [
  {
   "cell_type": "markdown",
   "metadata": {},
   "source": [
    "### Import modules"
   ]
  },
  {
   "cell_type": "code",
   "execution_count": 46,
   "metadata": {},
   "outputs": [],
   "source": [
    "from utils import * \n",
    "\n",
    "import numpy as np\n",
    "import pandas as pd\n",
    "from pprint import pprint\n",
    "import os\n",
    "import matplotlib.pyplot as plt\n",
    "from collections import defaultdict\n",
    "\n",
    "# Gensim\n",
    "from gensim.test.utils import datapath\n",
    "from gensim.test.utils import common_texts, get_tmpfile\n",
    "\n",
    "# Plotting tools\n",
    "import pyLDAvis\n",
    "import pyLDAvis.gensim  # don't skip this\n",
    "import matplotlib.pyplot as plt\n",
    "%matplotlib inline\n",
    "\n",
    "pd.set_option('display.max_rows', 500)\n",
    "pd.set_option('display.max_columns', 500)\n",
    "pd.option_context('display.max_colwidth', 500);"
   ]
  },
  {
   "cell_type": "code",
   "execution_count": 2,
   "metadata": {},
   "outputs": [],
   "source": [
    "# Import dataset\n",
    "df = pd.read_pickle('raw_data/netflix.pkl')\n",
    "reviews = df.review"
   ]
  },
  {
   "cell_type": "markdown",
   "metadata": {},
   "source": [
    "NLPpipeline"
   ]
  },
  {
   "cell_type": "code",
   "execution_count": 3,
   "metadata": {},
   "outputs": [],
   "source": [
    "term_doc = pd.read_pickle('preprocessed_data/term_doc.pkl')\n",
    "data_lemmatized = pd.read_pickle('preprocessed_data/data_lemmatized.pkl')\n",
    "dictionary = pd.read_pickle('preprocessed_data/dictionary.pkl')\n",
    "tf_idf = pd.read_pickle('preprocessed_data/tf_idf.pkl')"
   ]
  },
  {
   "cell_type": "markdown",
   "metadata": {},
   "source": [
    "<string>Code for piepelining</strong>\n",
    "<code style=\"font-size: 10px; background-color:transparent;\">\n",
    "nlp_pipe = NLPpipe()\n",
    "term_doc = nlp_pipe.fit_transform(reviews, min_count = 3, threshold = -0.5)\n",
    "tf_idf = nlp_pipe.transform(reviews, tf_idf = True)\n",
    "data_lemmatized = nlp_pipe.clean_text\n",
    "dictionary = create_dictionary(data_lemmatized)\n",
    "</code>"
   ]
  },
  {
   "cell_type": "markdown",
   "metadata": {},
   "source": [
    "### (Standard) LDA model after tuning"
   ]
  },
  {
   "cell_type": "code",
   "execution_count": 33,
   "metadata": {},
   "outputs": [],
   "source": [
    "lda_model = gensim.models.ldamodel.LdaModel(corpus=term_doc,\n",
    "                                           id2word=dictionary,\n",
    "                                           num_topics= 6, \n",
    "                                           random_state=100,\n",
    "                                           update_every=1,\n",
    "                                           chunksize=2000,\n",
    "                                           passes=10,\n",
    "                                           alpha= 1.5,\n",
    "                                           per_word_topics=True)"
   ]
  },
  {
   "cell_type": "markdown",
   "metadata": {},
   "source": [
    "#### Visualize Standard LDA model"
   ]
  },
  {
   "cell_type": "code",
   "execution_count": 34,
   "metadata": {},
   "outputs": [],
   "source": [
    "vis_data = pyLDAvis.gensim.prepare(lda_model, term_doc, dictionary, sort_topics=False)\n",
    "pyLDAvis.save_html(vis_data, 'std_lda_vis/std_lda_topics=6&a=1.5&batchsize=1.html')"
   ]
  },
  {
   "cell_type": "markdown",
   "metadata": {},
   "source": [
    "*With chunksize = 100 after tuning, although the coherence scores are higher than stochastic one('update_every=1'), the topics are not much distinguishable and uninterpretable.*"
   ]
  },
  {
   "cell_type": "code",
   "execution_count": 35,
   "metadata": {},
   "outputs": [],
   "source": [
    "lda_model_100 = gensim.models.ldamodel.LdaModel(corpus=term_doc,\n",
    "                                           id2word=dictionary,\n",
    "                                           num_topics= 15, \n",
    "                                           random_state=100,\n",
    "                                           update_every=100,\n",
    "                                           chunksize=2000,\n",
    "                                           passes=10,\n",
    "                                           alpha= 1.5,\n",
    "                                           per_word_topics=True)\n",
    "\n",
    "vis_data = pyLDAvis.gensim.prepare(lda_model_100, term_doc, dictionary, sort_topics=False)\n",
    "pyLDAvis.save_html(vis_data, 'std_lda_vis/std_lda_topics=15&a=1.5&batchsize=100.html')"
   ]
  },
  {
   "cell_type": "code",
   "execution_count": 36,
   "metadata": {},
   "outputs": [
    {
     "data": {
      "text/plain": [
       "-0.07157395340265418"
      ]
     },
     "execution_count": 36,
     "metadata": {},
     "output_type": "execute_result"
    }
   ],
   "source": [
    "coherence_model = CoherenceModel(model=lda_model_100, texts=data_lemmatized, dictionary=dictionary, coherence='c_npmi')\n",
    "np.mean(coherence_model.get_coherence_per_topic())"
   ]
  },
  {
   "cell_type": "markdown",
   "metadata": {},
   "source": [
    "## <mark>Mallet's LDA model after tuning &#8592; Best Model\n",
    "*The difference between Mallet and Gensim’s standard LDA is that Gensim uses a Variational Bayes sampling method which is faster but less precise that Mallet’s Gibbs Sampling.*  [link](https://towardsdatascience.com/basic-nlp-on-the-texts-of-harry-potter-topic-modeling-with-latent-dirichlet-allocation-f3c00f77b0f5)"
   ]
  },
  {
   "cell_type": "code",
   "execution_count": 37,
   "metadata": {},
   "outputs": [],
   "source": [
    "# mallet_path = '../mallet-2.0.8/bin/mallet' # update this path\n",
    "\n",
    "import os\n",
    "os.environ.update({'MALLET_HOME':r'C:/mallet-2.0.8/'})\n",
    "\n",
    "# mallet_path = 'mallet-2.0.8/bin/mallet.bat' # update this path\n",
    "mallet_path = 'C:/mallet-2.0.8/bin/mallet.bat'\n",
    "\n",
    "ldamallet = gensim.models.wrappers.LdaMallet(mallet_path, \n",
    "                                             corpus = term_doc,\n",
    "                                             num_topics = 6, \n",
    "                                             random_seed = 100,\n",
    "                                             id2word = dictionary,\n",
    "                                             alpha = 1.5)"
   ]
  },
  {
   "cell_type": "code",
   "execution_count": 38,
   "metadata": {},
   "outputs": [],
   "source": [
    "ldamallet.save(datapath(\"model\"))\n",
    "# ldamallet = gensim.models.wrappers.LdaMallet.load(datapath(\"model\"))"
   ]
  },
  {
   "cell_type": "markdown",
   "metadata": {},
   "source": [
    "#### Visualize Mallet's LDA model"
   ]
  },
  {
   "cell_type": "code",
   "execution_count": 39,
   "metadata": {},
   "outputs": [],
   "source": [
    "# Visualize the topics\n",
    "model = gensim.models.wrappers.ldamallet.malletmodel2ldamodel(ldamallet)\n",
    "pyLDAvis.enable_notebook()"
   ]
  },
  {
   "cell_type": "code",
   "execution_count": 40,
   "metadata": {},
   "outputs": [
    {
     "name": "stderr",
     "output_type": "stream",
     "text": [
      "C:\\Users\\enlik\\Miniconda3\\lib\\site-packages\\pyLDAvis\\_prepare.py:247: FutureWarning: In a future version of pandas all arguments of DataFrame.drop except for the argument 'labels' will be keyword-only\n",
      "  default_term_info = default_term_info.sort_values(\n"
     ]
    }
   ],
   "source": [
    "vis = pyLDAvis.gensim.prepare(model, term_doc, dictionary)\n",
    "pyLDAvis.save_html(vis, 'mallet_lda_vis/mallet_lda_topics=6&a=1.5.html')"
   ]
  },
  {
   "cell_type": "code",
   "execution_count": 41,
   "metadata": {},
   "outputs": [
    {
     "data": {
      "text/plain": [
       "[-0.059887677995452145,\n",
       " -0.08540541347219917,\n",
       " -0.026354790404547596,\n",
       " -0.04867638381820212,\n",
       " 0.002685968866744477,\n",
       " -0.08213902199226049]"
      ]
     },
     "execution_count": 41,
     "metadata": {},
     "output_type": "execute_result"
    }
   ],
   "source": [
    "coherence_model_m = CoherenceModel(model=model, texts=data_lemmatized, dictionary=dictionary, coherence='c_npmi')\n",
    "coherence_model_m.get_coherence_per_topic()"
   ]
  },
  {
   "cell_type": "code",
   "execution_count": 42,
   "metadata": {},
   "outputs": [],
   "source": [
    "# model = gensim.models.wrappers.ldamallet.malletmodel2ldamodel(ldamallet)\n",
    "# model.top_topics(corpus = term_doc,topn=10)"
   ]
  },
  {
   "cell_type": "markdown",
   "metadata": {},
   "source": [
    "#### For each topic, we could look at frequent and relevant words"
   ]
  },
  {
   "cell_type": "code",
   "execution_count": 43,
   "metadata": {},
   "outputs": [
    {
     "name": "stderr",
     "output_type": "stream",
     "text": [
      "C:\\Users\\enlik\\AppData\\Local\\Temp/ipykernel_4212/1698140663.py:3: RuntimeWarning: invalid value encountered in true_divide\n",
      "  p_word_given_topic = ldamallet.word_topics / np.sum(ldamallet.word_topics, axis = 0)\n"
     ]
    }
   ],
   "source": [
    "frequencies = ldamallet.word_topics.sum(axis=0)\n",
    "p_word = frequencies / ldamallet.word_topics.sum()\n",
    "p_word_given_topic = ldamallet.word_topics / np.sum(ldamallet.word_topics, axis = 0)\n",
    "\n",
    "lamda = 0.5\n",
    "relevance = lamda * p_word_given_topic + (1-lamda) * p_word_given_topic / p_word "
   ]
  },
  {
   "cell_type": "code",
   "execution_count": 44,
   "metadata": {},
   "outputs": [
    {
     "name": "stdout",
     "output_type": "stream",
     "text": [
      "Topic: Platform/Device\n",
      "['take', 'none', 'become', 'one', 'please', 'allow', 'welcome', 'come', 'mean', 'anywhere', 'believe', 'com', 'th', 'try', 'out']\n",
      "\n",
      "\n",
      "Topic: User Experience\n",
      "['ok', 'everyone', 'one', 'seeing', 'que', 'believe', 'together', 'try', 'second', 'sorry', 'down', 'become', 'course', 'considering', 'trying']\n",
      "\n",
      "\n",
      "Topic: Value\n",
      "['sorry', 'value', 'wonder', 'last', 'etc', 'self', 'course', 'novel', 'over', 'nothing', 'together', 'try', 'd', 'help', 'like']\n",
      "\n",
      "\n",
      "Topic: Service\n",
      "['need', 'value', 'believe', 's', 'way', 'seeing', 'thank', 'tell', 'something', 'might', 'out', 'enough', 'other', 'whole', 'want']\n",
      "\n",
      "\n",
      "Topic: Trouble-shooting\n",
      "['way', 'together', 'd', 'enough', 'welcome', 'everyone', 'novel', 'etc', 'one', 'anywhere', 'overall', 'might', 'try', 'th', 'wonder']\n",
      "\n",
      "\n",
      "Topic: Shows\n",
      "['like', 'allow', 'need', 'd', 'up', 'enough', 'name', 'look', 'over', 'want', 'overall', 'might', 'please', 'thank', 'value']\n",
      "\n",
      "\n"
     ]
    }
   ],
   "source": [
    "topic_dict = {0.: \"Platform/Device\", 1.: \"User Experience\", 2.: \"Value\", 3.: \"Service\", 4.: \"Trouble-shooting\", 5.:\"Shows\"}\n",
    "\n",
    "for topic_id in range(6):\n",
    "    words = []\n",
    "    for id in np.argsort(relevance[topic_id,])[::-1][:15]:\n",
    "        words.append(dictionary[id])\n",
    "    print(f\"Topic: {topic_dict[topic_id]}\")\n",
    "    print(words)\n",
    "    print('\\n')"
   ]
  },
  {
   "cell_type": "markdown",
   "metadata": {},
   "source": [
    "## Interpret the topic model\n",
    "1. Finding the dominant topic in each document\n",
    "2. Find the most representative document for each topic\n",
    "3. Topic distribution across documents\n",
    "**The code used here for interpretation of the model are based on this website with a little modification by the user myself: <br>\n",
    "https://www.machinelearningplus.com/nlp/topic-modeling-gensim-python/#11createthedictionaryandcorpusneededfortopicmodeling**"
   ]
  },
  {
   "cell_type": "markdown",
   "metadata": {},
   "source": [
    "### Standard LDA - Interpret the model"
   ]
  },
  {
   "cell_type": "code",
   "execution_count": 48,
   "metadata": {},
   "outputs": [
    {
     "name": "stdout",
     "output_type": "stream",
     "text": [
      "Getting main topic for document...\n",
      "0  1000  2000  3000  4000  5000  6000  7000  8000  9000  10000  11000  12000  "
     ]
    }
   ],
   "source": [
    "# df_topic_sents_keywords = format_topics_sentences(ldamodel=lda_model, corpus=term_doc, texts=data_lemmatized, df=df)\n",
    "df_topic_sents_keywords = format_topics_sentences(ldamodel=lda_model, corpus=term_doc, texts=data_lemmatized)"
   ]
  },
  {
   "cell_type": "markdown",
   "metadata": {},
   "source": [
    "#### 1. Standard LDA - Finding the dominant topic in each document"
   ]
  },
  {
   "cell_type": "code",
   "execution_count": 49,
   "metadata": {},
   "outputs": [
    {
     "name": "stdout",
     "output_type": "stream",
     "text": [
      "Finding the dominant topic in each document\n"
     ]
    },
    {
     "data": {
      "text/html": [
       "<style type=\"text/css\">\n",
       "#T_6db18_row0_col7, #T_6db18_row1_col7, #T_6db18_row2_col7, #T_6db18_row3_col7, #T_6db18_row4_col7 {\n",
       "  width: 600px;\n",
       "}\n",
       "</style>\n",
       "<table id=\"T_6db18_\">\n",
       "  <thead>\n",
       "    <tr>\n",
       "      <th class=\"blank level0\" >&nbsp;</th>\n",
       "      <th class=\"col_heading level0 col0\" >Dominant_Topic</th>\n",
       "      <th class=\"col_heading level0 col1\" >Perc_Contribution</th>\n",
       "      <th class=\"col_heading level0 col2\" >Keywords</th>\n",
       "      <th class=\"col_heading level0 col3\" >Text</th>\n",
       "      <th class=\"col_heading level0 col4\" >star_rating</th>\n",
       "      <th class=\"col_heading level0 col5\" >helpful_votes</th>\n",
       "      <th class=\"col_heading level0 col6\" >total_votes</th>\n",
       "      <th class=\"col_heading level0 col7\" >review</th>\n",
       "    </tr>\n",
       "  </thead>\n",
       "  <tbody>\n",
       "    <tr>\n",
       "      <th id=\"T_6db18_level0_row0\" class=\"row_heading level0 row0\" >0</th>\n",
       "      <td id=\"T_6db18_row0_col0\" class=\"data row0 col0\" >0.000000</td>\n",
       "      <td id=\"T_6db18_row0_col1\" class=\"data row0 col1\" >0.166700</td>\n",
       "      <td id=\"T_6db18_row0_col2\" class=\"data row0 col2\" >service, thing, program, product, kid, cable, option, shows_movie, stuff, device</td>\n",
       "      <td id=\"T_6db18_row0_col3\" class=\"data row0 col3\" >[]</td>\n",
       "      <td id=\"T_6db18_row0_col4\" class=\"data row0 col4\" >5</td>\n",
       "      <td id=\"T_6db18_row0_col5\" class=\"data row0 col5\" >0</td>\n",
       "      <td id=\"T_6db18_row0_col6\" class=\"data row0 col6\" >0</td>\n",
       "      <td id=\"T_6db18_row0_col7\" class=\"data row0 col7\" >Five Stars netflix is great!</td>\n",
       "    </tr>\n",
       "    <tr>\n",
       "      <th id=\"T_6db18_level0_row1\" class=\"row_heading level0 row1\" >1</th>\n",
       "      <td id=\"T_6db18_row1_col0\" class=\"data row1 col0\" >1.000000</td>\n",
       "      <td id=\"T_6db18_row1_col1\" class=\"data row1 col1\" >0.354500</td>\n",
       "      <td id=\"T_6db18_row1_col2\" class=\"data row1 col2\" >time, show, price, computer, watch_movie, content, screen, movie, quality, player</td>\n",
       "      <td id=\"T_6db18_row1_col3\" class=\"data row1 col3\" >['buck', 'show', 'buck']</td>\n",
       "      <td id=\"T_6db18_row1_col4\" class=\"data row1 col4\" >5</td>\n",
       "      <td id=\"T_6db18_row1_col5\" class=\"data row1 col5\" >0</td>\n",
       "      <td id=\"T_6db18_row1_col6\" class=\"data row1 col6\" >0</td>\n",
       "      <td id=\"T_6db18_row1_col7\" class=\"data row1 col7\" >GREAT Why pay per view like the others? 8 bucks for all you want to watch. Want to watch every episode of a show? 8 bucks.</td>\n",
       "    </tr>\n",
       "    <tr>\n",
       "      <th id=\"T_6db18_level0_row2\" class=\"row_heading level0 row2\" >2</th>\n",
       "      <td id=\"T_6db18_row2_col0\" class=\"data row2 col0\" >2.000000</td>\n",
       "      <td id=\"T_6db18_row2_col1\" class=\"data row2 col1\" >0.271100</td>\n",
       "      <td id=\"T_6db18_row2_col2\" class=\"data row2 col2\" >love, phone, year, episode, month, lot, list, day, picture, series</td>\n",
       "      <td id=\"T_6db18_row2_col3\" class=\"data row2 col3\" >['navigation', 'movies_show', 'hitch', 'device']</td>\n",
       "      <td id=\"T_6db18_row2_col4\" class=\"data row2 col4\" >3</td>\n",
       "      <td id=\"T_6db18_row2_col5\" class=\"data row2 col5\" >0</td>\n",
       "      <td id=\"T_6db18_row2_col6\" class=\"data row2 col6\" >0</td>\n",
       "      <td id=\"T_6db18_row2_col7\" class=\"data row2 col7\" >Satisfactory App runs fine on kindle fire HD. Navigation thru app efficient, movies/shows play without hitch, sound is great. Video quality needs work, expected better from an HD device.</td>\n",
       "    </tr>\n",
       "    <tr>\n",
       "      <th id=\"T_6db18_level0_row3\" class=\"row_heading level0 row3\" >3</th>\n",
       "      <td id=\"T_6db18_row3_col0\" class=\"data row3 col0\" >0.000000</td>\n",
       "      <td id=\"T_6db18_row3_col1\" class=\"data row3 col1\" >0.166700</td>\n",
       "      <td id=\"T_6db18_row3_col2\" class=\"data row3 col2\" >service, thing, program, product, kid, cable, option, shows_movie, stuff, device</td>\n",
       "      <td id=\"T_6db18_row3_col3\" class=\"data row3 col3\" >[]</td>\n",
       "      <td id=\"T_6db18_row3_col4\" class=\"data row3 col4\" >5</td>\n",
       "      <td id=\"T_6db18_row3_col5\" class=\"data row3 col5\" >0</td>\n",
       "      <td id=\"T_6db18_row3_col6\" class=\"data row3 col6\" >0</td>\n",
       "      <td id=\"T_6db18_row3_col7\" class=\"data row3 col7\" >Five Stars The best</td>\n",
       "    </tr>\n",
       "    <tr>\n",
       "      <th id=\"T_6db18_level0_row4\" class=\"row_heading level0 row4\" >4</th>\n",
       "      <td id=\"T_6db18_row4_col0\" class=\"data row4 col0\" >2.000000</td>\n",
       "      <td id=\"T_6db18_row4_col1\" class=\"data row4 col1\" >0.172900</td>\n",
       "      <td id=\"T_6db18_row4_col2\" class=\"data row4 col2\" >love, phone, year, episode, month, lot, list, day, picture, series</td>\n",
       "      <td id=\"T_6db18_row4_col3\" class=\"data row4 col3\" >['original_series']</td>\n",
       "      <td id=\"T_6db18_row4_col4\" class=\"data row4 col4\" >5</td>\n",
       "      <td id=\"T_6db18_row4_col5\" class=\"data row4 col5\" >0</td>\n",
       "      <td id=\"T_6db18_row4_col6\" class=\"data row4 col6\" >0</td>\n",
       "      <td id=\"T_6db18_row4_col7\" class=\"data row4 col7\" >Excellent! Love netflix! Worked great on my Kindle. Watched one of the original series that I've been wanting to watch for awhile.</td>\n",
       "    </tr>\n",
       "  </tbody>\n",
       "</table>\n"
      ],
      "text/plain": [
       "<pandas.io.formats.style.Styler at 0x1de693eb6d0>"
      ]
     },
     "execution_count": 49,
     "metadata": {},
     "output_type": "execute_result"
    }
   ],
   "source": [
    "df_dominant_topic = find_dominant_topic_in_each_doc(df_topic_sents_keywords, df=df)\n",
    "print(\"Finding the dominant topic in each document\")\n",
    "df_dominant_topic.head(5).style.set_properties(subset=['review'], **{'width': '600px'})"
   ]
  },
  {
   "cell_type": "markdown",
   "metadata": {},
   "source": [
    "#### 2. Standard LDA - Find the most representative document for each topic"
   ]
  },
  {
   "cell_type": "code",
   "execution_count": 50,
   "metadata": {},
   "outputs": [
    {
     "name": "stdout",
     "output_type": "stream",
     "text": [
      "Find the most representative document for each topic\n"
     ]
    },
    {
     "data": {
      "text/html": [
       "<style type=\"text/css\">\n",
       "#T_b56b8_row0_col6, #T_b56b8_row1_col6, #T_b56b8_row2_col6, #T_b56b8_row3_col6, #T_b56b8_row4_col6, #T_b56b8_row5_col6 {\n",
       "  width: 1000px;\n",
       "}\n",
       "</style>\n",
       "<table id=\"T_b56b8_\">\n",
       "  <thead>\n",
       "    <tr>\n",
       "      <th class=\"blank level0\" >&nbsp;</th>\n",
       "      <th class=\"col_heading level0 col0\" >Dominant_Topic</th>\n",
       "      <th class=\"col_heading level0 col1\" >Perc_Contribution</th>\n",
       "      <th class=\"col_heading level0 col2\" >Topic_Keywords</th>\n",
       "      <th class=\"col_heading level0 col3\" >star_rating</th>\n",
       "      <th class=\"col_heading level0 col4\" >helpful_votes</th>\n",
       "      <th class=\"col_heading level0 col5\" >total_votes</th>\n",
       "      <th class=\"col_heading level0 col6\" >review</th>\n",
       "    </tr>\n",
       "  </thead>\n",
       "  <tbody>\n",
       "    <tr>\n",
       "      <th id=\"T_b56b8_level0_row0\" class=\"row_heading level0 row0\" >0</th>\n",
       "      <td id=\"T_b56b8_row0_col0\" class=\"data row0 col0\" >0.000000</td>\n",
       "      <td id=\"T_b56b8_row0_col1\" class=\"data row0 col1\" >0.751800</td>\n",
       "      <td id=\"T_b56b8_row0_col2\" class=\"data row0 col2\" >service, thing, program, product, kid, cable, option, shows_movie, stuff, device</td>\n",
       "      <td id=\"T_b56b8_row0_col3\" class=\"data row0 col3\" >5</td>\n",
       "      <td id=\"T_b56b8_row0_col4\" class=\"data row0 col4\" >18</td>\n",
       "      <td id=\"T_b56b8_row0_col5\" class=\"data row0 col5\" >21</td>\n",
       "      <td id=\"T_b56b8_row0_col6\" class=\"data row0 col6\" >What's not to love about streaming movies and TV? I've taken the 1 month free trial on streaming netflix.  I used to be a netflix DVD, and then blue-ray, but had two kids and it became an expense that wasn't worth it (we'd kept a movie for 30 days, never watched it, and sent it back).  I wasn't sure how well it would work this go around with just the streaming service, but so far the whole family has enjoyed it.  The streaming service has improved a lot since 3 years ago when I cancelled the DVD/streaming.  So far the service has been positive and I'm leaning heavily on reup'ing when the free trial ends.<br /><br />This has probably been said a hundred times over, so I'll bullet the features that are great:<br /><br />Pros:<br />- Multi-platform support: iPhone, Android, Kindle, PS3, Wii - and the kids (both under 5) can operate them all but the PS3<br />- Kid only section - the kids don't need to sift through the adult stuff to find their own interests (younger kids)<br />- Low buffering even with HD movies on a slower internet connection speed (Time Warners $40 month solo plan)<br />- 3 different throttling options for network speed issues and data plans with smaller allotments<br />- Simultaneous use on multiple platforms - one kid watches one thing on one device, wife and I on another, other kid on another device<br />- Decent selection of TV shows - lots of good kids programing from Disney, Nick, Cartoon Network, HUB (kids really like the superhero shows - would be an extra $6 with DirecTV to get these monthly, and I'd have to worry about configuring DVR (not hard, but videos corrupt over time), and deal with commercial breaks and then shows starting up for a min that then end.  Granted that setting can be changed for some programing, but it then cuts off the end of the show.<br />- Movie selection is good for Parents that haven't seen some movies and don't want to try and rent through, or want to catch up on some shows that aren't on anymore<br />- The venture into new content solely available on netflix is an interesting concept, will be nice to see where it goes<br /><br />Cons - not too many yet but...<br />- Movies are older, about what you'd expect to see as filler with HBO, Cinemax, Showtime, etc., but not a lot of new stuff on the streaming.<br />- noticeable strain on ISP network speed - but that was to be expected, especially with HD, but kinda of a bummer when trying to stay with lower tiered network plans (but that's more of an infrastructure issue with the US and ISPs than Netflix) - however the throttling options to help that.<br />- shows drop off - over time, things fall off the streaming availability, but I guess with licensing fees and storage constraints they can't stay up forever...  Would be nice if there was a feature to allow you to request an older show that would let you live stream but store instead for a day or two - I'd be willing to pay extra money for that ($2-$3 extra a month perhaps?)</td>\n",
       "    </tr>\n",
       "    <tr>\n",
       "      <th id=\"T_b56b8_level0_row1\" class=\"row_heading level0 row1\" >1</th>\n",
       "      <td id=\"T_b56b8_row1_col0\" class=\"data row1 col0\" >1.000000</td>\n",
       "      <td id=\"T_b56b8_row1_col1\" class=\"data row1 col1\" >0.815900</td>\n",
       "      <td id=\"T_b56b8_row1_col2\" class=\"data row1 col2\" >time, show, price, computer, watch_movie, content, screen, movie, quality, player</td>\n",
       "      <td id=\"T_b56b8_row1_col3\" class=\"data row1 col3\" >3</td>\n",
       "      <td id=\"T_b56b8_row1_col4\" class=\"data row1 col4\" >1</td>\n",
       "      <td id=\"T_b56b8_row1_col5\" class=\"data row1 col5\" >2</td>\n",
       "      <td id=\"T_b56b8_row1_col6\" class=\"data row1 col6\" >What DOES Netflix do with all their money? Netflix, or the Android Netflix app, I don't know which, is pretty much the minimum one might expect from streaming video. If all you want to do is watch a movie or TV show continuously, or with a few pauses and resumes, then it does okay. A TIVO this is not and I find that simple things such as rewinding and playing back a challenge the app just is not up to.<br /><br />At least, this has been my experience. Here is a list of some issues I have met:<br /><br />1. The app does not respond to the pause and resume buttons on my Android G-Box remote. I have to use their on-screen stuff.<br />2. The app almost always stalls a few seconds into streaming and I have to click on the red button in the progress bar in order to resume. It might go on its own if I were to give it enough time. I am not patient enough with it..<br />3. When I pause, I have to click on the pause icon; as I said, the remote is not recognized. Almost always, the app will not resume clicking the play icon. I have to use the escape key to get out of the video and then renter it.<br />4. The video is pixilated when it first starts to run. I assume that is to stream lower quality video until it has pumped out enough to get going reliably. As you can see from above, it has trouble even doing that.<br />5. Clicking on the replay icon takes you back so short a distance as to be virtually worthless. There is a mental delay from the time you think you want to rewind, and then the time it takes to get the keyboard out and do it; that time is longer than tha time Netflix goes back. When I click the icon several times, I often lose the stream or it can go WAY back erratically.<br />6. Fast forward? Forget about it. You can shift the video forward by manipulating the slider bar image but it is hit and miss because you don't have any time info on the screen, so you have to guess where you might want to be. I have to do that to the end of the show if I want to fool Netflix into believing that I have watched the show.<br />7. Some things such as changing lists need to be set on Netflix on your computer, rather than through the G-Box on the TV screen.<br /><br />It surprises me that Netflix seems to have such a clunky, kludgey interface. Netflix has been around since the late 1990s but the G-Box is much more recent. Computers don't usually have remote controls, nor do phones. Perhaps this is partly why Netflix is remote challenged.<br /><br />My G-Box came with a Netflix app installed, but one day Netflix crashed and would no longer open. I downloaded this app and upgraded the old app. That didn't fix the problem. A call to Netflix eventually led to my solution which was to flush the caches on the app. This app has the same functionality, and disfunctionality, of the original app had.<br /><br />I had read the reviews on this app and I frankly wonder what planet some of the gushy and gooey reviews are from. My experience is different. Perhaps I am a victim of expectations. I have Dish and its TIVO-like pause. rewind, and fast forward work like a dream. Netflix is Cro-Magnon in this respect.<br /><br />There are benefits to Netflix. It usually streams more reliably that 1 Channel or Ice on the XBMC app on the box. On the other side, Netflix has limited content and is usually at least a year behind on TV shows currently running. It must be licensing issues for the TV shows.<br /><br />I like old movies and this is not a forte of Netflix. Movies are spotty. Don't expect to find Casablanca, Cabaret, or The Maltese Falcon on Netflix. I find four, count them four, John Wayne movies on Netflix. Classic Sci-Fi? Unlikely. Downton Abbey? No, Amazon has that. (Amazon does not have an Android app yet for its Prime Instant Video movies, alas.) Netflix focuses on the current and that liked by today's (juvenile) tastes.<br /><br />Netflix has made a recent profit of $8M. What is it doing with its money? Is it making Netflix better? Is it making its Android app any better? I would hope so.<br/><br />Hmm, maybe I'll check out Hulu?<br /><br />Update: I forgot about subtitles. We often use subtitles because many actors mumble and swallow their words, especially at the punch line, some show's music drowns out dialog, and we watch some British stuff (\\\\\"Sherlock\\\\\" and \\\\\"Doc Martin\\\\\", for example) that is often audibly challenged to my American ear. Netflix's subtitles proceed the actual spoken words, sometimes by several seconds. If there is to be a lag, I would prefer if the subtitle followed. That way, if I don't understand something I can keep an eye out for it to come up in a second. Netflix's way is perverse.<br /><br />Netflix's subtitles on my G-Box are yellow upper and lower case on a transparent background. This makes them difficult to read, especially on a brighter image. As with most of Android Land, documentation is scarce so I do not know if I have choices available for subtitles on Netflix. (Update this update: I did find a way to modify subtitle settings on my computer and logged into my account. Now I have small caps in white on a black background. Now if I could solve the sync thing...)<br /><br />The sorry documentation is a general lament for Android apps. It seems that using Android is a never ending parade of Easter Egg opportunities; that is, fining out hidden and obscure surprises built in by the programmers for those who are not old enough for the term \\\\\"easter Egg\\\\\". This of clever Android programmers coming up with all sorts of goodies but failing to let us in on them. If we are lucky, we stumble on them from time to time.<br /><br />Netfix support can be a little Nitwitflix at times. I called early on to see how I could scroll a window and I got several bat $^!# crazy answers, none of which were at all correct. Eventually I found out by accident to hold down the left mouse key and drag the window, one direction or the other, I forget which.<br /><br />All together, the Netflix app appears to be a dull knife of the cutting edge./><br />Hmm, maybe I'll check out Hulu?<br /><br />Update: I forgot about subtitles. We often use subtitles because many actors mumble and swallow their words, especially at the punch line, some show's music drowns out dialog, and we watch some British stuff (\\\\\"Sherlock\\\\\" and \\\\\"Doc Martin\\\\\", for example) that is often audibly challenged to my American ear. Netflix's subtitles proceed the actual spoken words, sometimes by several seconds. If there is to be a lag, I would prefer if the subtitle followed. That way, if I don't understand something I can keep an eye out for it to come up in a second. Netflix's way is perverse.<br /><br />Netflix's subtitles on my G-Box are yellow upper and lower case on a transparent background. This makes them difficult to read, especially on a brighter image. As with most of Android Land, documentation is scarce so I do not know if I have choices available for subtitles on Netflix. (Update this update: I did find a way to modify subtitle settings on my computer and logged into my account. Now I have small caps in white on a black background. Now if I could solve the sync thing...)<br /><br />The sorry documentation is a general lament for Android apps. It seems that using Android is a never ending parade of Easter Egg opportunities; that is, fining out hidden and obscure surprises built in by the programmers for those who are not old enough for the term \\\\\"easter Egg\\\\\". This of clever Android programmers coming up with all sorts of goodies but failing to let us in on them. If we are lucky, we stumble on them from time to time.<br /><br />Netfix support can be a little Nitwitflix at times. I called early on to see how I could scroll a window and I got several bat $^!# crazy answers, none of which were at all correct. Eventually I found out by accident to hold down the left mouse key and drag the window, one direction or the other, I forget which.<br /><br />All together, the Netflix app appears to be a dull knife of the cutting edge.</td>\n",
       "    </tr>\n",
       "    <tr>\n",
       "      <th id=\"T_b56b8_level0_row2\" class=\"row_heading level0 row2\" >2</th>\n",
       "      <td id=\"T_b56b8_row2_col0\" class=\"data row2 col0\" >2.000000</td>\n",
       "      <td id=\"T_b56b8_row2_col1\" class=\"data row2 col1\" >0.602800</td>\n",
       "      <td id=\"T_b56b8_row2_col2\" class=\"data row2 col2\" >love, phone, year, episode, month, lot, list, day, picture, series</td>\n",
       "      <td id=\"T_b56b8_row2_col3\" class=\"data row2 col3\" >2</td>\n",
       "      <td id=\"T_b56b8_row2_col4\" class=\"data row2 col4\" >9</td>\n",
       "      <td id=\"T_b56b8_row2_col5\" class=\"data row2 col5\" >14</td>\n",
       "      <td id=\"T_b56b8_row2_col6\" class=\"data row2 col6\" >Netflix Ignores Customer Feedback I like Netflix, but this company is notorious for not listening to their customers. The latest app update is the worst yet. I like watching the intros and credits of my shows and movies, but now the app skips the TV show intros and always minimizes the show or movie when the credits roll. Often the minimizing happens while the show is still playing!!!! This is extremely irritating. To top it all off, Netflix no longer allows user feedback on its Facebook page. I desperately wish Netflix had more competition, because I would have left years ago. Amazon Prime and Hulu Plus are good, but unfortunately Netflix is still the industry leader. Overall the service is valuable, but the user experience is terrible and continues to get worse regularly. I've had Netflix for years, but I hate it more and more everyday.</td>\n",
       "    </tr>\n",
       "    <tr>\n",
       "      <th id=\"T_b56b8_level0_row3\" class=\"row_heading level0 row3\" >3</th>\n",
       "      <td id=\"T_b56b8_row3_col0\" class=\"data row3 col0\" >3.000000</td>\n",
       "      <td id=\"T_b56b8_row3_col1\" class=\"data row3 col1\" >0.641000</td>\n",
       "      <td id=\"T_b56b8_row3_col2\" class=\"data row3 col2\" >movie, tv, selection, tablet, choice, film, family, commercial, use, watch</td>\n",
       "      <td id=\"T_b56b8_row3_col3\" class=\"data row3 col3\" >3</td>\n",
       "      <td id=\"T_b56b8_row3_col4\" class=\"data row3 col4\" >0</td>\n",
       "      <td id=\"T_b56b8_row3_col5\" class=\"data row3 col5\" >0</td>\n",
       "      <td id=\"T_b56b8_row3_col6\" class=\"data row3 col6\" >life saver!! My husband and I are staying with his sister until our new place is ready to move in and her husband is a total d-Dag so I have been avoiding him by staying in our room and watching netflix. While Netflix is good and it has some awesome films on its service, I really wish there was a bigger selection of genres. For an example, I'm from Ireland so I tend to miss the Irish shows now that I am in the States, I also miss my period dramas like Emma (Kate Beckinsale one) and the newest Persuasion.</td>\n",
       "    </tr>\n",
       "    <tr>\n",
       "      <th id=\"T_b56b8_level0_row4\" class=\"row_heading level0 row4\" >4</th>\n",
       "      <td id=\"T_b56b8_row4_col0\" class=\"data row4 col0\" >4.000000</td>\n",
       "      <td id=\"T_b56b8_row4_col1\" class=\"data row4 col1\" >0.677900</td>\n",
       "      <td id=\"T_b56b8_row4_col2\" class=\"data row4 col2\" >account, kindle, problem, tv_show, money, access, streaming, version, people, subscription</td>\n",
       "      <td id=\"T_b56b8_row4_col3\" class=\"data row4 col3\" >5</td>\n",
       "      <td id=\"T_b56b8_row4_col4\" class=\"data row4 col4\" >5</td>\n",
       "      <td id=\"T_b56b8_row4_col5\" class=\"data row4 col5\" >7</td>\n",
       "      <td id=\"T_b56b8_row4_col6\" class=\"data row4 col6\" >Great Movies, Shows, and Money Saver You have to pay fee every month to gain access to a large library of movies/TV shows.<br /><br />Pro:<br />- There are no commercials<br />- Low monthly fee (I think about 9$)<br />- Stream through multiple devices: I used it on my PC, tabet (Ipad/Samsung), and PS3/4<br />- Great anime library (I watch a lot of anime)<br />- Great collection of TV shows: SuperNatural, Walking Dead, and other well known shows<br /><br />Cons<br />- Several seasons behind current shows<br />- The user interface is a little getting used to. I think it could be better<br /><br />Overall, I really enjoy Netflix. If you don't mind waiting for shows to eventually stream through Netflix, this app could save you a lot on cable bills. I don't pay or have cable. For the prices of NetFlix compared to cable tv, it can't be beat.</td>\n",
       "    </tr>\n",
       "    <tr>\n",
       "      <th id=\"T_b56b8_level0_row5\" class=\"row_heading level0 row5\" >5</th>\n",
       "      <td id=\"T_b56b8_row5_col0\" class=\"data row5 col0\" >5.000000</td>\n",
       "      <td id=\"T_b56b8_row5_col1\" class=\"data row5 col1\" >0.653100</td>\n",
       "      <td id=\"T_b56b8_row5_col2\" class=\"data row5 col2\" >app, fire, video, issue, problem, update, device, review, load, way</td>\n",
       "      <td id=\"T_b56b8_row5_col3\" class=\"data row5 col3\" >2</td>\n",
       "      <td id=\"T_b56b8_row5_col4\" class=\"data row5 col4\" >22</td>\n",
       "      <td id=\"T_b56b8_row5_col5\" class=\"data row5 col5\" >26</td>\n",
       "      <td id=\"T_b56b8_row5_col6\" class=\"data row5 col6\" >constant problems on the kindle fire The kindle Fire version of this app has persistent problems. Most of the time it will load the video, but then we just get a black screen with sound. Since the Fire lacks a task manager there and basic menu access for each app, there is no way to force close the app and restart it. I think this is a fundamental design flaw in the Fire, that it is difficult to close/exit an app and restart it. Netflix needs to issue an update.</td>\n",
       "    </tr>\n",
       "  </tbody>\n",
       "</table>\n"
      ],
      "text/plain": [
       "<pandas.io.formats.style.Styler at 0x1de6ba4c5b0>"
      ]
     },
     "execution_count": 50,
     "metadata": {},
     "output_type": "execute_result"
    }
   ],
   "source": [
    "print(\"Find the most representative document for each topic\")\n",
    "sent_topics_sorteddf = find_most_representative_doc_for_each_doc(df_topic_sents_keywords,df=df)\n",
    "sent_topics_sorteddf.style.set_properties(subset=['review'], **{'width': '1000px'})"
   ]
  },
  {
   "cell_type": "markdown",
   "metadata": {},
   "source": [
    "#### 3. Standard LDA - Topic distribution across documents"
   ]
  },
  {
   "cell_type": "code",
   "execution_count": 51,
   "metadata": {},
   "outputs": [
    {
     "name": "stdout",
     "output_type": "stream",
     "text": [
      "Topic distribution across documents\n"
     ]
    },
    {
     "data": {
      "text/html": [
       "<style type=\"text/css\">\n",
       "#T_f2313_row0_col1, #T_f2313_row1_col1, #T_f2313_row2_col1, #T_f2313_row3_col1, #T_f2313_row4_col1, #T_f2313_row5_col1 {\n",
       "  width: 400px;\n",
       "}\n",
       "</style>\n",
       "<table id=\"T_f2313_\">\n",
       "  <thead>\n",
       "    <tr>\n",
       "      <th class=\"blank level0\" >&nbsp;</th>\n",
       "      <th class=\"col_heading level0 col0\" >Dominant_Topic</th>\n",
       "      <th class=\"col_heading level0 col1\" >Keywords</th>\n",
       "      <th class=\"col_heading level0 col2\" >Num_Documents</th>\n",
       "      <th class=\"col_heading level0 col3\" >Perc_Documents</th>\n",
       "    </tr>\n",
       "  </thead>\n",
       "  <tbody>\n",
       "    <tr>\n",
       "      <th id=\"T_f2313_level0_row0\" class=\"row_heading level0 row0\" >0</th>\n",
       "      <td id=\"T_f2313_row0_col0\" class=\"data row0 col0\" >0.000000</td>\n",
       "      <td id=\"T_f2313_row0_col1\" class=\"data row0 col1\" >service, thing, program, product, kid, cable, option, shows_movie, stuff, device</td>\n",
       "      <td id=\"T_f2313_row0_col2\" class=\"data row0 col2\" >3853</td>\n",
       "      <td id=\"T_f2313_row0_col3\" class=\"data row0 col3\" >0.306600</td>\n",
       "    </tr>\n",
       "    <tr>\n",
       "      <th id=\"T_f2313_level0_row1\" class=\"row_heading level0 row1\" >1</th>\n",
       "      <td id=\"T_f2313_row1_col0\" class=\"data row1 col0\" >1.000000</td>\n",
       "      <td id=\"T_f2313_row1_col1\" class=\"data row1 col1\" >time, show, price, computer, watch_movie, content, screen, movie, quality, player</td>\n",
       "      <td id=\"T_f2313_row1_col2\" class=\"data row1 col2\" >1883</td>\n",
       "      <td id=\"T_f2313_row1_col3\" class=\"data row1 col3\" >0.149800</td>\n",
       "    </tr>\n",
       "    <tr>\n",
       "      <th id=\"T_f2313_level0_row2\" class=\"row_heading level0 row2\" >2</th>\n",
       "      <td id=\"T_f2313_row2_col0\" class=\"data row2 col0\" >2.000000</td>\n",
       "      <td id=\"T_f2313_row2_col1\" class=\"data row2 col1\" >love, phone, year, episode, month, lot, list, day, picture, series</td>\n",
       "      <td id=\"T_f2313_row2_col2\" class=\"data row2 col2\" >1810</td>\n",
       "      <td id=\"T_f2313_row2_col3\" class=\"data row2 col3\" >0.144000</td>\n",
       "    </tr>\n",
       "    <tr>\n",
       "      <th id=\"T_f2313_level0_row3\" class=\"row_heading level0 row3\" >3</th>\n",
       "      <td id=\"T_f2313_row3_col0\" class=\"data row3 col0\" >3.000000</td>\n",
       "      <td id=\"T_f2313_row3_col1\" class=\"data row3 col1\" >movie, tv, selection, tablet, choice, film, family, commercial, use, watch</td>\n",
       "      <td id=\"T_f2313_row3_col2\" class=\"data row3 col2\" >1760</td>\n",
       "      <td id=\"T_f2313_row3_col3\" class=\"data row3 col3\" >0.140100</td>\n",
       "    </tr>\n",
       "    <tr>\n",
       "      <th id=\"T_f2313_level0_row4\" class=\"row_heading level0 row4\" >4</th>\n",
       "      <td id=\"T_f2313_row4_col0\" class=\"data row4 col0\" >4.000000</td>\n",
       "      <td id=\"T_f2313_row4_col1\" class=\"data row4 col1\" >account, kindle, problem, tv_show, money, access, streaming, version, people, subscription</td>\n",
       "      <td id=\"T_f2313_row4_col2\" class=\"data row4 col2\" >1672</td>\n",
       "      <td id=\"T_f2313_row4_col3\" class=\"data row4 col3\" >0.133100</td>\n",
       "    </tr>\n",
       "    <tr>\n",
       "      <th id=\"T_f2313_level0_row5\" class=\"row_heading level0 row5\" >5</th>\n",
       "      <td id=\"T_f2313_row5_col0\" class=\"data row5 col0\" >5.000000</td>\n",
       "      <td id=\"T_f2313_row5_col1\" class=\"data row5 col1\" >app, fire, video, issue, problem, update, device, review, load, way</td>\n",
       "      <td id=\"T_f2313_row5_col2\" class=\"data row5 col2\" >1588</td>\n",
       "      <td id=\"T_f2313_row5_col3\" class=\"data row5 col3\" >0.126400</td>\n",
       "    </tr>\n",
       "  </tbody>\n",
       "</table>\n"
      ],
      "text/plain": [
       "<pandas.io.formats.style.Styler at 0x1de6d258340>"
      ]
     },
     "execution_count": 51,
     "metadata": {},
     "output_type": "execute_result"
    }
   ],
   "source": [
    "# Show\n",
    "print(\"Topic distribution across documents\")\n",
    "df_dominant_topic = topic_distribution_across_docs(df_topic_sents_keywords)\n",
    "df_dominant_topic.style.set_properties(subset=['Keywords'], **{'width': '400px'})"
   ]
  },
  {
   "cell_type": "code",
   "execution_count": 52,
   "metadata": {},
   "outputs": [
    {
     "data": {
      "text/plain": [
       "[-0.15454075846523566,\n",
       " -0.2798088158452113,\n",
       " -0.20324172476237276,\n",
       " -0.1508941120870968,\n",
       " -0.1815778265361459,\n",
       " -0.01638147407704615]"
      ]
     },
     "execution_count": 52,
     "metadata": {},
     "output_type": "execute_result"
    }
   ],
   "source": [
    "coherence_model = CoherenceModel(model=lda_model, texts=data_lemmatized, dictionary=dictionary, coherence='c_npmi')\n",
    "coherence_model.get_coherence_per_topic()"
   ]
  },
  {
   "cell_type": "markdown",
   "metadata": {},
   "source": [
    "### <mark>Mallet Model - Interpret the model</mark>"
   ]
  },
  {
   "cell_type": "code",
   "execution_count": 53,
   "metadata": {},
   "outputs": [],
   "source": [
    "# ldamallet = gensim.models.wrappers.LdaMallet.load(datapath('model'))\n",
    "model = gensim.models.wrappers.ldamallet.malletmodel2ldamodel(ldamallet)"
   ]
  },
  {
   "cell_type": "code",
   "execution_count": 55,
   "metadata": {},
   "outputs": [
    {
     "name": "stdout",
     "output_type": "stream",
     "text": [
      "Getting main topic for document...\n",
      "0  1000  2000  3000  4000  5000  6000  7000  8000  9000  10000  11000  12000  "
     ]
    }
   ],
   "source": [
    "# df_topic_sents_keywords_m = format_topics_sentences(model, term_doc, data_lemmatized, df)\n",
    "df_topic_sents_keywords_m = format_topics_sentences(model, term_doc, data_lemmatized)"
   ]
  },
  {
   "cell_type": "code",
   "execution_count": 56,
   "metadata": {},
   "outputs": [],
   "source": [
    "all_topics = model.get_document_topics(bow = term_doc)"
   ]
  },
  {
   "cell_type": "code",
   "execution_count": 57,
   "metadata": {},
   "outputs": [
    {
     "data": {
      "text/html": [
       "<div>\n",
       "<style scoped>\n",
       "    .dataframe tbody tr th:only-of-type {\n",
       "        vertical-align: middle;\n",
       "    }\n",
       "\n",
       "    .dataframe tbody tr th {\n",
       "        vertical-align: top;\n",
       "    }\n",
       "\n",
       "    .dataframe thead th {\n",
       "        text-align: right;\n",
       "    }\n",
       "</style>\n",
       "<table border=\"1\" class=\"dataframe\">\n",
       "  <thead>\n",
       "    <tr style=\"text-align: right;\">\n",
       "      <th></th>\n",
       "      <th>Dominant_Topic</th>\n",
       "      <th>Perc_Contribution</th>\n",
       "      <th>Keywords</th>\n",
       "      <th>0</th>\n",
       "    </tr>\n",
       "  </thead>\n",
       "  <tbody>\n",
       "    <tr>\n",
       "      <th>0</th>\n",
       "      <td>0.0</td>\n",
       "      <td>0.1667</td>\n",
       "      <td>time, work, app, fire, love, phone, movie, tab...</td>\n",
       "      <td>[]</td>\n",
       "    </tr>\n",
       "    <tr>\n",
       "      <th>1</th>\n",
       "      <td>2.0</td>\n",
       "      <td>0.7205</td>\n",
       "      <td>movie, program, cable, tv, show, selection, lo...</td>\n",
       "      <td>[buck, show, buck]</td>\n",
       "    </tr>\n",
       "    <tr>\n",
       "      <th>2</th>\n",
       "      <td>4.0</td>\n",
       "      <td>0.4058</td>\n",
       "      <td>app, video, problem, issue, update, time, devi...</td>\n",
       "      <td>[navigation, movies_show, hitch, device]</td>\n",
       "    </tr>\n",
       "    <tr>\n",
       "      <th>3</th>\n",
       "      <td>0.0</td>\n",
       "      <td>0.1667</td>\n",
       "      <td>time, work, app, fire, love, phone, movie, tab...</td>\n",
       "      <td>[]</td>\n",
       "    </tr>\n",
       "    <tr>\n",
       "      <th>4</th>\n",
       "      <td>5.0</td>\n",
       "      <td>0.5000</td>\n",
       "      <td>love, movie, tv_show, season, lot, watch, tv, ...</td>\n",
       "      <td>[original_series]</td>\n",
       "    </tr>\n",
       "    <tr>\n",
       "      <th>...</th>\n",
       "      <td>...</td>\n",
       "      <td>...</td>\n",
       "      <td>...</td>\n",
       "      <td>...</td>\n",
       "    </tr>\n",
       "    <tr>\n",
       "      <th>12561</th>\n",
       "      <td>4.0</td>\n",
       "      <td>0.6429</td>\n",
       "      <td>app, video, problem, issue, update, time, devi...</td>\n",
       "      <td>[zone, edge]</td>\n",
       "    </tr>\n",
       "    <tr>\n",
       "      <th>12562</th>\n",
       "      <td>0.0</td>\n",
       "      <td>0.4958</td>\n",
       "      <td>time, work, app, fire, love, phone, movie, tab...</td>\n",
       "      <td>[work]</td>\n",
       "    </tr>\n",
       "    <tr>\n",
       "      <th>12563</th>\n",
       "      <td>3.0</td>\n",
       "      <td>0.4965</td>\n",
       "      <td>service, streaming, time, product, year, price...</td>\n",
       "      <td>[service]</td>\n",
       "    </tr>\n",
       "    <tr>\n",
       "      <th>12564</th>\n",
       "      <td>0.0</td>\n",
       "      <td>0.1667</td>\n",
       "      <td>time, work, app, fire, love, phone, movie, tab...</td>\n",
       "      <td>[]</td>\n",
       "    </tr>\n",
       "    <tr>\n",
       "      <th>12565</th>\n",
       "      <td>1.0</td>\n",
       "      <td>0.3612</td>\n",
       "      <td>movie, kid, profile, account, selection, famil...</td>\n",
       "      <td>[destroyer, month, clockwork, watch_cartoon, m...</td>\n",
       "    </tr>\n",
       "  </tbody>\n",
       "</table>\n",
       "<p>12566 rows × 4 columns</p>\n",
       "</div>"
      ],
      "text/plain": [
       "       Dominant_Topic  Perc_Contribution  \\\n",
       "0                 0.0             0.1667   \n",
       "1                 2.0             0.7205   \n",
       "2                 4.0             0.4058   \n",
       "3                 0.0             0.1667   \n",
       "4                 5.0             0.5000   \n",
       "...               ...                ...   \n",
       "12561             4.0             0.6429   \n",
       "12562             0.0             0.4958   \n",
       "12563             3.0             0.4965   \n",
       "12564             0.0             0.1667   \n",
       "12565             1.0             0.3612   \n",
       "\n",
       "                                                Keywords  \\\n",
       "0      time, work, app, fire, love, phone, movie, tab...   \n",
       "1      movie, program, cable, tv, show, selection, lo...   \n",
       "2      app, video, problem, issue, update, time, devi...   \n",
       "3      time, work, app, fire, love, phone, movie, tab...   \n",
       "4      love, movie, tv_show, season, lot, watch, tv, ...   \n",
       "...                                                  ...   \n",
       "12561  app, video, problem, issue, update, time, devi...   \n",
       "12562  time, work, app, fire, love, phone, movie, tab...   \n",
       "12563  service, streaming, time, product, year, price...   \n",
       "12564  time, work, app, fire, love, phone, movie, tab...   \n",
       "12565  movie, kid, profile, account, selection, famil...   \n",
       "\n",
       "                                                       0  \n",
       "0                                                     []  \n",
       "1                                     [buck, show, buck]  \n",
       "2               [navigation, movies_show, hitch, device]  \n",
       "3                                                     []  \n",
       "4                                      [original_series]  \n",
       "...                                                  ...  \n",
       "12561                                       [zone, edge]  \n",
       "12562                                             [work]  \n",
       "12563                                          [service]  \n",
       "12564                                                 []  \n",
       "12565  [destroyer, month, clockwork, watch_cartoon, m...  \n",
       "\n",
       "[12566 rows x 4 columns]"
      ]
     },
     "execution_count": 57,
     "metadata": {},
     "output_type": "execute_result"
    }
   ],
   "source": [
    "df_topic_sents_keywords_m"
   ]
  },
  {
   "cell_type": "markdown",
   "metadata": {},
   "source": [
    "#### 1. Mallet LDA - Finding the dominant topic in each document"
   ]
  },
  {
   "cell_type": "code",
   "execution_count": 58,
   "metadata": {},
   "outputs": [
    {
     "name": "stdout",
     "output_type": "stream",
     "text": [
      "Finding the dominant topic in each document\n"
     ]
    },
    {
     "data": {
      "text/html": [
       "<style type=\"text/css\">\n",
       "#T_526b4_row0_col7, #T_526b4_row1_col7, #T_526b4_row2_col7, #T_526b4_row3_col7, #T_526b4_row4_col7 {\n",
       "  width: 400px;\n",
       "}\n",
       "</style>\n",
       "<table id=\"T_526b4_\">\n",
       "  <thead>\n",
       "    <tr>\n",
       "      <th class=\"blank level0\" >&nbsp;</th>\n",
       "      <th class=\"col_heading level0 col0\" >Dominant_Topic</th>\n",
       "      <th class=\"col_heading level0 col1\" >Perc_Contribution</th>\n",
       "      <th class=\"col_heading level0 col2\" >Keywords</th>\n",
       "      <th class=\"col_heading level0 col3\" >Text</th>\n",
       "      <th class=\"col_heading level0 col4\" >star_rating</th>\n",
       "      <th class=\"col_heading level0 col5\" >helpful_votes</th>\n",
       "      <th class=\"col_heading level0 col6\" >total_votes</th>\n",
       "      <th class=\"col_heading level0 col7\" >review</th>\n",
       "    </tr>\n",
       "  </thead>\n",
       "  <tbody>\n",
       "    <tr>\n",
       "      <th id=\"T_526b4_level0_row0\" class=\"row_heading level0 row0\" >0</th>\n",
       "      <td id=\"T_526b4_row0_col0\" class=\"data row0 col0\" >0.000000</td>\n",
       "      <td id=\"T_526b4_row0_col1\" class=\"data row0 col1\" >0.166700</td>\n",
       "      <td id=\"T_526b4_row0_col2\" class=\"data row0 col2\" >time, work, app, fire, love, phone, movie, tablet, download, kindle</td>\n",
       "      <td id=\"T_526b4_row0_col3\" class=\"data row0 col3\" >[]</td>\n",
       "      <td id=\"T_526b4_row0_col4\" class=\"data row0 col4\" >5</td>\n",
       "      <td id=\"T_526b4_row0_col5\" class=\"data row0 col5\" >0</td>\n",
       "      <td id=\"T_526b4_row0_col6\" class=\"data row0 col6\" >0</td>\n",
       "      <td id=\"T_526b4_row0_col7\" class=\"data row0 col7\" >Five Stars netflix is great!</td>\n",
       "    </tr>\n",
       "    <tr>\n",
       "      <th id=\"T_526b4_level0_row1\" class=\"row_heading level0 row1\" >1</th>\n",
       "      <td id=\"T_526b4_row1_col0\" class=\"data row1 col0\" >2.000000</td>\n",
       "      <td id=\"T_526b4_row1_col1\" class=\"data row1 col1\" >0.720500</td>\n",
       "      <td id=\"T_526b4_row1_col2\" class=\"data row1 col2\" >movie, program, cable, tv, show, selection, love, service, year, choice</td>\n",
       "      <td id=\"T_526b4_row1_col3\" class=\"data row1 col3\" >['buck', 'show', 'buck']</td>\n",
       "      <td id=\"T_526b4_row1_col4\" class=\"data row1 col4\" >5</td>\n",
       "      <td id=\"T_526b4_row1_col5\" class=\"data row1 col5\" >0</td>\n",
       "      <td id=\"T_526b4_row1_col6\" class=\"data row1 col6\" >0</td>\n",
       "      <td id=\"T_526b4_row1_col7\" class=\"data row1 col7\" >GREAT Why pay per view like the others? 8 bucks for all you want to watch. Want to watch every episode of a show? 8 bucks.</td>\n",
       "    </tr>\n",
       "    <tr>\n",
       "      <th id=\"T_526b4_level0_row2\" class=\"row_heading level0 row2\" >2</th>\n",
       "      <td id=\"T_526b4_row2_col0\" class=\"data row2 col0\" >4.000000</td>\n",
       "      <td id=\"T_526b4_row2_col1\" class=\"data row2 col1\" >0.405800</td>\n",
       "      <td id=\"T_526b4_row2_col2\" class=\"data row2 col2\" >app, video, problem, issue, update, time, device, fire, work, fix</td>\n",
       "      <td id=\"T_526b4_row2_col3\" class=\"data row2 col3\" >['navigation', 'movies_show', 'hitch', 'device']</td>\n",
       "      <td id=\"T_526b4_row2_col4\" class=\"data row2 col4\" >3</td>\n",
       "      <td id=\"T_526b4_row2_col5\" class=\"data row2 col5\" >0</td>\n",
       "      <td id=\"T_526b4_row2_col6\" class=\"data row2 col6\" >0</td>\n",
       "      <td id=\"T_526b4_row2_col7\" class=\"data row2 col7\" >Satisfactory App runs fine on kindle fire HD. Navigation thru app efficient, movies/shows play without hitch, sound is great. Video quality needs work, expected better from an HD device.</td>\n",
       "    </tr>\n",
       "    <tr>\n",
       "      <th id=\"T_526b4_level0_row3\" class=\"row_heading level0 row3\" >3</th>\n",
       "      <td id=\"T_526b4_row3_col0\" class=\"data row3 col0\" >0.000000</td>\n",
       "      <td id=\"T_526b4_row3_col1\" class=\"data row3 col1\" >0.166700</td>\n",
       "      <td id=\"T_526b4_row3_col2\" class=\"data row3 col2\" >time, work, app, fire, love, phone, movie, tablet, download, kindle</td>\n",
       "      <td id=\"T_526b4_row3_col3\" class=\"data row3 col3\" >[]</td>\n",
       "      <td id=\"T_526b4_row3_col4\" class=\"data row3 col4\" >5</td>\n",
       "      <td id=\"T_526b4_row3_col5\" class=\"data row3 col5\" >0</td>\n",
       "      <td id=\"T_526b4_row3_col6\" class=\"data row3 col6\" >0</td>\n",
       "      <td id=\"T_526b4_row3_col7\" class=\"data row3 col7\" >Five Stars The best</td>\n",
       "    </tr>\n",
       "    <tr>\n",
       "      <th id=\"T_526b4_level0_row4\" class=\"row_heading level0 row4\" >4</th>\n",
       "      <td id=\"T_526b4_row4_col0\" class=\"data row4 col0\" >5.000000</td>\n",
       "      <td id=\"T_526b4_row4_col1\" class=\"data row4 col1\" >0.500000</td>\n",
       "      <td id=\"T_526b4_row4_col2\" class=\"data row4 col2\" >love, movie, tv_show, season, lot, watch, tv, watch_movie, love_great, month</td>\n",
       "      <td id=\"T_526b4_row4_col3\" class=\"data row4 col3\" >['original_series']</td>\n",
       "      <td id=\"T_526b4_row4_col4\" class=\"data row4 col4\" >5</td>\n",
       "      <td id=\"T_526b4_row4_col5\" class=\"data row4 col5\" >0</td>\n",
       "      <td id=\"T_526b4_row4_col6\" class=\"data row4 col6\" >0</td>\n",
       "      <td id=\"T_526b4_row4_col7\" class=\"data row4 col7\" >Excellent! Love netflix! Worked great on my Kindle. Watched one of the original series that I've been wanting to watch for awhile.</td>\n",
       "    </tr>\n",
       "  </tbody>\n",
       "</table>\n"
      ],
      "text/plain": [
       "<pandas.io.formats.style.Styler at 0x1de68da8eb0>"
      ]
     },
     "execution_count": 58,
     "metadata": {},
     "output_type": "execute_result"
    }
   ],
   "source": [
    "df_dominant_topic_m = find_dominant_topic_in_each_doc(df_topic_sents_keywords_m, df)\n",
    "print(\"Finding the dominant topic in each document\")\n",
    "df_dominant_topic_m.head(5).style.set_properties(subset=['review'], **{'width': '400px'})"
   ]
  },
  {
   "cell_type": "markdown",
   "metadata": {},
   "source": [
    "#### 2. Mallet LDA - Find the most representative document for each topic"
   ]
  },
  {
   "cell_type": "code",
   "execution_count": 36,
   "metadata": {},
   "outputs": [
    {
     "name": "stdout",
     "output_type": "stream",
     "text": [
      "Find the most representative document for each topic\n"
     ]
    },
    {
     "data": {
      "text/html": [
       "<style type=\"text/css\">\n",
       "#T_1af29_row0_col6, #T_1af29_row1_col6, #T_1af29_row2_col6, #T_1af29_row3_col6, #T_1af29_row4_col6, #T_1af29_row5_col6 {\n",
       "  width: 400px;\n",
       "}\n",
       "</style>\n",
       "<table id=\"T_1af29_\">\n",
       "  <thead>\n",
       "    <tr>\n",
       "      <th class=\"blank level0\" >&nbsp;</th>\n",
       "      <th class=\"col_heading level0 col0\" >Dominant_Topic</th>\n",
       "      <th class=\"col_heading level0 col1\" >Perc_Contribution</th>\n",
       "      <th class=\"col_heading level0 col2\" >Topic_Keywords</th>\n",
       "      <th class=\"col_heading level0 col3\" >star_rating</th>\n",
       "      <th class=\"col_heading level0 col4\" >helpful_votes</th>\n",
       "      <th class=\"col_heading level0 col5\" >total_votes</th>\n",
       "      <th class=\"col_heading level0 col6\" >review</th>\n",
       "    </tr>\n",
       "  </thead>\n",
       "  <tbody>\n",
       "    <tr>\n",
       "      <th id=\"T_1af29_level0_row0\" class=\"row_heading level0 row0\" >0</th>\n",
       "      <td id=\"T_1af29_row0_col0\" class=\"data row0 col0\" >0.000000</td>\n",
       "      <td id=\"T_1af29_row0_col1\" class=\"data row0 col1\" >0.893600</td>\n",
       "      <td id=\"T_1af29_row0_col2\" class=\"data row0 col2\" >time, work, app, fire, love, phone, movie, tablet, download, kindle</td>\n",
       "      <td id=\"T_1af29_row0_col3\" class=\"data row0 col3\" >4</td>\n",
       "      <td id=\"T_1af29_row0_col4\" class=\"data row0 col4\" >2</td>\n",
       "      <td id=\"T_1af29_row0_col5\" class=\"data row0 col5\" >3</td>\n",
       "      <td id=\"T_1af29_row0_col6\" class=\"data row0 col6\" >very good I like this app overall but I don't like that their can only be two people on it at a time. It would be better if you could use it without Internet. Sometimes it takes a long to to load or buffer an it makes you shows blurry. There is not as much movies and shows that some other thing like netflix have. Netflix is very good app for sitting down with you family and watching a movie or being alone and watching a show or movie on the couch or even in your bed. Netflix has a lot of great movies and shows to watch. If you find one that you like but you don't want to watch it the you can add it to your list. Overall netflix is really great app and if<br /> you like to watch movies then I would get this app for sure. I like the fact that it is free so for sure get it.I guess you can pay more money monthly for netflix to work on more than two devices at a time. Overall other than the long load times that we encounter once in a great while we will continue to be a netflix customer. We have been now for 4 years and it runs great on out kindles,laptops,and I pods. You can also use it where they have free WiFi like mcdonalds.</td>\n",
       "    </tr>\n",
       "    <tr>\n",
       "      <th id=\"T_1af29_level0_row1\" class=\"row_heading level0 row1\" >1</th>\n",
       "      <td id=\"T_1af29_row1_col0\" class=\"data row1 col0\" >1.000000</td>\n",
       "      <td id=\"T_1af29_row1_col1\" class=\"data row1 col1\" >0.923200</td>\n",
       "      <td id=\"T_1af29_row1_col2\" class=\"data row1 col2\" >movie, kid, profile, account, selection, family, child, shows_movie, site, watch</td>\n",
       "      <td id=\"T_1af29_row1_col3\" class=\"data row1 col3\" >4</td>\n",
       "      <td id=\"T_1af29_row1_col4\" class=\"data row1 col4\" >10</td>\n",
       "      <td id=\"T_1af29_row1_col5\" class=\"data row1 col5\" >12</td>\n",
       "      <td id=\"T_1af29_row1_col6\" class=\"data row1 col6\" >NETFLIX is great! I really enjoy using NETFLIX.  It is user-friendly, very convenient and inexpensive.<br /><br />The one thing I would change about NETFLIX is the content availability, for example, my children, ages 7 and 8 love to watch movies on NETFLIX and they do have a great selection of children/family content, but at the same time, my kids have access to R-rated, gay-lesbian, horror, etc.  I wish they had a setting which I could prevent them from viewing those genres.  For now, I just closely monitor them, as any good parent should do anyway!</td>\n",
       "    </tr>\n",
       "    <tr>\n",
       "      <th id=\"T_1af29_level0_row2\" class=\"row_heading level0 row2\" >2</th>\n",
       "      <td id=\"T_1af29_row2_col0\" class=\"data row2 col0\" >2.000000</td>\n",
       "      <td id=\"T_1af29_row2_col1\" class=\"data row2 col1\" >0.923500</td>\n",
       "      <td id=\"T_1af29_row2_col2\" class=\"data row2 col2\" >movie, program, cable, tv, show, selection, love, service, year, choice</td>\n",
       "      <td id=\"T_1af29_row2_col3\" class=\"data row2 col3\" >4</td>\n",
       "      <td id=\"T_1af29_row2_col4\" class=\"data row2 col4\" >1</td>\n",
       "      <td id=\"T_1af29_row2_col5\" class=\"data row2 col5\" >2</td>\n",
       "      <td id=\"T_1af29_row2_col6\" class=\"data row2 col6\" >It's worth the monthly fee! Considering the cost of a movie theater ticket, what a bargain!  I can enjoy a movie without a considerable amount of commercials,  if I am interruped, I can pause the movie and if I am hard of hearing, most movies have closed caption!  I can<br />even make my own popcorn at home!  I can also just stop the movie if it think it's something not of my liking, and start another!!<br />I don't have to drive to and from the theater, no long lines, etc. and if you happen to own a large screen .......... what more could you ask for????????</td>\n",
       "    </tr>\n",
       "    <tr>\n",
       "      <th id=\"T_1af29_level0_row3\" class=\"row_heading level0 row3\" >3</th>\n",
       "      <td id=\"T_1af29_row3_col0\" class=\"data row3 col0\" >3.000000</td>\n",
       "      <td id=\"T_1af29_row3_col1\" class=\"data row3 col1\" >0.943300</td>\n",
       "      <td id=\"T_1af29_row3_col2\" class=\"data row3 col2\" >service, streaming, time, product, year, price, customer, movie, film, option</td>\n",
       "      <td id=\"T_1af29_row3_col3\" class=\"data row3 col3\" >1</td>\n",
       "      <td id=\"T_1af29_row3_col4\" class=\"data row3 col4\" >21</td>\n",
       "      <td id=\"T_1af29_row3_col5\" class=\"data row3 col5\" >29</td>\n",
       "      <td id=\"T_1af29_row3_col6\" class=\"data row3 col6\" >Netflix and the Arrogant App The arrogance of this application is amazing.  I am sure some &#34;team&#34; thought they new enough, did enough market research, etc. to believe the credits to a film don't matter.  The &#34;team&#34; also apparently believes giving people fewer options is better because it's all just too advanced for us sheep to understand.  I now have to scroll more, hit the back button more, use the navigation ring on Fire TV remote more, and I don't enjoy Netflix as much as I used to.  Eventually there will be increasing options outside of Netflix and that will be a good thing.  I'm thinking maybe I should try Amazon Prime. Although Amazon is getting arrogant too, at least the Prime service lets the movie play to the end without shrinking the credits into oblivion.  I'll decide when to stop watching a movie Netflix, you don't need to prompt me.</td>\n",
       "    </tr>\n",
       "    <tr>\n",
       "      <th id=\"T_1af29_level0_row4\" class=\"row_heading level0 row4\" >4</th>\n",
       "      <td id=\"T_1af29_row4_col0\" class=\"data row4 col0\" >4.000000</td>\n",
       "      <td id=\"T_1af29_row4_col1\" class=\"data row4 col1\" >0.934800</td>\n",
       "      <td id=\"T_1af29_row4_col2\" class=\"data row4 col2\" >app, video, problem, issue, update, time, device, fire, work, fix</td>\n",
       "      <td id=\"T_1af29_row4_col3\" class=\"data row4 col3\" >3</td>\n",
       "      <td id=\"T_1af29_row4_col4\" class=\"data row4 col4\" >0</td>\n",
       "      <td id=\"T_1af29_row4_col5\" class=\"data row4 col5\" >0</td>\n",
       "      <td id=\"T_1af29_row4_col6\" class=\"data row4 col6\" >good, browsing ui can be a bit too sluggish Streaming works fairly well. I've noticed that the browsing UI can be a bit sluggish.  My guess is that some tasks are being handled in the UI thread, which should actually be delegated to a background thread (I'm a professional developer). This issue should be a high priority fix -- it really detracts from the experience of browsing the available movies and shows, when the Netfix app takes seconds to respond to a drag request.  Also, this should have been caught during QA -- it's pretty basic and important stuff..</td>\n",
       "    </tr>\n",
       "    <tr>\n",
       "      <th id=\"T_1af29_level0_row5\" class=\"row_heading level0 row5\" >5</th>\n",
       "      <td id=\"T_1af29_row5_col0\" class=\"data row5 col0\" >5.000000</td>\n",
       "      <td id=\"T_1af29_row5_col1\" class=\"data row5 col1\" >0.866700</td>\n",
       "      <td id=\"T_1af29_row5_col2\" class=\"data row5 col2\" >love, movie, tv_show, season, lot, watch, tv, watch_movie, love_great, month</td>\n",
       "      <td id=\"T_1af29_row5_col3\" class=\"data row5 col3\" >5</td>\n",
       "      <td id=\"T_1af29_row5_col4\" class=\"data row5 col4\" >0</td>\n",
       "      <td id=\"T_1af29_row5_col5\" class=\"data row5 col5\" >0</td>\n",
       "      <td id=\"T_1af29_row5_col6\" class=\"data row5 col6\" >Who really doesn't love netflix. It is everything in one place Who really doesn't love netflix. It is everything in one place. I mean they could have a few more things but if not there is project TV or hulu.</td>\n",
       "    </tr>\n",
       "  </tbody>\n",
       "</table>\n"
      ],
      "text/plain": [
       "<pandas.io.formats.style.Styler at 0x1d45c84eb80>"
      ]
     },
     "execution_count": 36,
     "metadata": {},
     "output_type": "execute_result"
    }
   ],
   "source": [
    "print(\"Find the most representative document for each topic\")\n",
    "sent_topics_sorteddf_m = find_most_representative_doc_for_each_doc(df_topic_sents_keywords_m, df)\n",
    "sent_topics_sorteddf_m.style.set_properties(subset=['review'], **{'width': '400px'})"
   ]
  },
  {
   "cell_type": "markdown",
   "metadata": {},
   "source": [
    "#### 3. Mallet LDA - Topic distribution across documents"
   ]
  },
  {
   "cell_type": "code",
   "execution_count": 37,
   "metadata": {},
   "outputs": [
    {
     "name": "stdout",
     "output_type": "stream",
     "text": [
      "Topic distribution across documents\n"
     ]
    },
    {
     "data": {
      "text/html": [
       "<style type=\"text/css\">\n",
       "#T_055cb_row0_col1, #T_055cb_row1_col1, #T_055cb_row2_col1, #T_055cb_row3_col1, #T_055cb_row4_col1, #T_055cb_row5_col1 {\n",
       "  width: 400px;\n",
       "}\n",
       "</style>\n",
       "<table id=\"T_055cb_\">\n",
       "  <thead>\n",
       "    <tr>\n",
       "      <th class=\"blank level0\" >&nbsp;</th>\n",
       "      <th class=\"col_heading level0 col0\" >Dominant_Topic</th>\n",
       "      <th class=\"col_heading level0 col1\" >Keywords</th>\n",
       "      <th class=\"col_heading level0 col2\" >Num_Documents</th>\n",
       "      <th class=\"col_heading level0 col3\" >Perc_Documents</th>\n",
       "    </tr>\n",
       "  </thead>\n",
       "  <tbody>\n",
       "    <tr>\n",
       "      <th id=\"T_055cb_level0_row0\" class=\"row_heading level0 row0\" >0</th>\n",
       "      <td id=\"T_055cb_row0_col0\" class=\"data row0 col0\" >0.000000</td>\n",
       "      <td id=\"T_055cb_row0_col1\" class=\"data row0 col1\" >time, work, app, fire, love, phone, movie, tablet, download, kindle</td>\n",
       "      <td id=\"T_055cb_row0_col2\" class=\"data row0 col2\" >4030</td>\n",
       "      <td id=\"T_055cb_row0_col3\" class=\"data row0 col3\" >0.320700</td>\n",
       "    </tr>\n",
       "    <tr>\n",
       "      <th id=\"T_055cb_level0_row1\" class=\"row_heading level0 row1\" >1</th>\n",
       "      <td id=\"T_055cb_row1_col0\" class=\"data row1 col0\" >1.000000</td>\n",
       "      <td id=\"T_055cb_row1_col1\" class=\"data row1 col1\" >movie, kid, profile, account, selection, family, child, shows_movie, site, watch</td>\n",
       "      <td id=\"T_055cb_row1_col2\" class=\"data row1 col2\" >1985</td>\n",
       "      <td id=\"T_055cb_row1_col3\" class=\"data row1 col3\" >0.158000</td>\n",
       "    </tr>\n",
       "    <tr>\n",
       "      <th id=\"T_055cb_level0_row2\" class=\"row_heading level0 row2\" >2</th>\n",
       "      <td id=\"T_055cb_row2_col0\" class=\"data row2 col0\" >2.000000</td>\n",
       "      <td id=\"T_055cb_row2_col1\" class=\"data row2 col1\" >movie, program, cable, tv, show, selection, love, service, year, choice</td>\n",
       "      <td id=\"T_055cb_row2_col2\" class=\"data row2 col2\" >1823</td>\n",
       "      <td id=\"T_055cb_row2_col3\" class=\"data row2 col3\" >0.145100</td>\n",
       "    </tr>\n",
       "    <tr>\n",
       "      <th id=\"T_055cb_level0_row3\" class=\"row_heading level0 row3\" >3</th>\n",
       "      <td id=\"T_055cb_row3_col0\" class=\"data row3 col0\" >3.000000</td>\n",
       "      <td id=\"T_055cb_row3_col1\" class=\"data row3 col1\" >service, streaming, time, product, year, price, customer, movie, film, option</td>\n",
       "      <td id=\"T_055cb_row3_col2\" class=\"data row3 col2\" >1629</td>\n",
       "      <td id=\"T_055cb_row3_col3\" class=\"data row3 col3\" >0.129600</td>\n",
       "    </tr>\n",
       "    <tr>\n",
       "      <th id=\"T_055cb_level0_row4\" class=\"row_heading level0 row4\" >4</th>\n",
       "      <td id=\"T_055cb_row4_col0\" class=\"data row4 col0\" >4.000000</td>\n",
       "      <td id=\"T_055cb_row4_col1\" class=\"data row4 col1\" >app, video, problem, issue, update, time, device, fire, work, fix</td>\n",
       "      <td id=\"T_055cb_row4_col2\" class=\"data row4 col2\" >1615</td>\n",
       "      <td id=\"T_055cb_row4_col3\" class=\"data row4 col3\" >0.128500</td>\n",
       "    </tr>\n",
       "    <tr>\n",
       "      <th id=\"T_055cb_level0_row5\" class=\"row_heading level0 row5\" >5</th>\n",
       "      <td id=\"T_055cb_row5_col0\" class=\"data row5 col0\" >5.000000</td>\n",
       "      <td id=\"T_055cb_row5_col1\" class=\"data row5 col1\" >love, movie, tv_show, season, lot, watch, tv, watch_movie, love_great, month</td>\n",
       "      <td id=\"T_055cb_row5_col2\" class=\"data row5 col2\" >1484</td>\n",
       "      <td id=\"T_055cb_row5_col3\" class=\"data row5 col3\" >0.118100</td>\n",
       "    </tr>\n",
       "  </tbody>\n",
       "</table>\n"
      ],
      "text/plain": [
       "<pandas.io.formats.style.Styler at 0x1d45c7e0e20>"
      ]
     },
     "execution_count": 37,
     "metadata": {},
     "output_type": "execute_result"
    }
   ],
   "source": [
    "# Show\n",
    "print(\"Topic distribution across documents\")\n",
    "df_dominant_topic_m = topic_distribution_across_docs(df_topic_sents_keywords_m)\n",
    "df_dominant_topic_m.style.set_properties(subset=['Keywords'], **{'width': '400px'})"
   ]
  },
  {
   "cell_type": "code",
   "execution_count": 38,
   "metadata": {},
   "outputs": [
    {
     "data": {
      "text/plain": [
       "[-0.059887677995452145,\n",
       " -0.08540541347219917,\n",
       " -0.026354790404547596,\n",
       " -0.04867638381820212,\n",
       " 0.002685968866744477,\n",
       " -0.08213902199226049]"
      ]
     },
     "execution_count": 38,
     "metadata": {},
     "output_type": "execute_result"
    }
   ],
   "source": [
    "coherence_model = CoherenceModel(model=ldamallet, texts=data_lemmatized, dictionary=dictionary, coherence='c_npmi')\n",
    "coherence_model.get_coherence_per_topic()"
   ]
  },
  {
   "cell_type": "markdown",
   "metadata": {},
   "source": [
    "## Try the model with TF-IDF dataset"
   ]
  },
  {
   "cell_type": "markdown",
   "metadata": {},
   "source": [
    "### Standard LDA with TF-IDF"
   ]
  },
  {
   "cell_type": "code",
   "execution_count": 5,
   "metadata": {},
   "outputs": [],
   "source": [
    "lda_model_tfidf = gensim.models.ldamodel.LdaModel(corpus=tf_idf,\n",
    "                                           num_topics= 6, \n",
    "                                           random_state=100,\n",
    "                                           update_every=1,\n",
    "                                           chunksize=2000,\n",
    "                                           passes=10,\n",
    "                                           alpha=1.5,\n",
    "                                           per_word_topics=True)"
   ]
  },
  {
   "cell_type": "code",
   "execution_count": 6,
   "metadata": {},
   "outputs": [
    {
     "name": "stderr",
     "output_type": "stream",
     "text": [
      "C:\\Users\\enlik\\Miniconda3\\lib\\site-packages\\pyLDAvis\\_prepare.py:247: FutureWarning: In a future version of pandas all arguments of DataFrame.drop except for the argument 'labels' will be keyword-only\n",
      "  default_term_info = default_term_info.sort_values(\n"
     ]
    }
   ],
   "source": [
    "vis_data = pyLDAvis.gensim.prepare(lda_model_tfidf, tf_idf, dictionary, sort_topics=False)\n",
    "pyLDAvis.save_html(vis_data, 'std_lda_vis/std_lda_vis_tfidf_num_topics=6&alpha=1.5.html')"
   ]
  },
  {
   "cell_type": "code",
   "execution_count": 7,
   "metadata": {},
   "outputs": [
    {
     "data": {
      "text/plain": [
       "[-0.12354832277346144,\n",
       " -0.27506340107114513,\n",
       " -0.21936770506896217,\n",
       " -0.15886486640839953,\n",
       " -0.315369990391699,\n",
       " -0.06717851894875705]"
      ]
     },
     "execution_count": 7,
     "metadata": {},
     "output_type": "execute_result"
    }
   ],
   "source": [
    "coherence_model_m = CoherenceModel(model=lda_model_tfidf, texts=data_lemmatized, dictionary=dictionary, coherence='c_npmi')\n",
    "coherence_model_m.get_coherence_per_topic()"
   ]
  },
  {
   "cell_type": "code",
   "execution_count": 8,
   "metadata": {},
   "outputs": [
    {
     "name": "stdout",
     "output_type": "stream",
     "text": [
      "Getting main topic for document...\n",
      "0  1000  2000  3000  4000  5000  6000  7000  8000  9000  10000  11000  12000  "
     ]
    }
   ],
   "source": [
    "df_topic_sents_keywords_tfidf = format_topics_sentences(ldamodel=lda_model_tfidf, corpus=term_doc, texts=data_lemmatized)"
   ]
  },
  {
   "cell_type": "markdown",
   "metadata": {},
   "source": [
    "#### 1. Standard LDA with TF-IDF - Finding the dominant topic in each document"
   ]
  },
  {
   "cell_type": "code",
   "execution_count": 15,
   "metadata": {},
   "outputs": [
    {
     "name": "stdout",
     "output_type": "stream",
     "text": [
      "Finding the dominant topic in each document\n"
     ]
    },
    {
     "data": {
      "text/html": [
       "<style type=\"text/css\">\n",
       "#T_325ca_row0_col7, #T_325ca_row1_col7, #T_325ca_row2_col7, #T_325ca_row3_col7, #T_325ca_row4_col7 {\n",
       "  width: 400px;\n",
       "}\n",
       "</style>\n",
       "<table id=\"T_325ca_\">\n",
       "  <thead>\n",
       "    <tr>\n",
       "      <th class=\"blank level0\" >&nbsp;</th>\n",
       "      <th class=\"col_heading level0 col0\" >Dominant_Topic</th>\n",
       "      <th class=\"col_heading level0 col1\" >Perc_Contribution</th>\n",
       "      <th class=\"col_heading level0 col2\" >Keywords</th>\n",
       "      <th class=\"col_heading level0 col3\" >Text</th>\n",
       "      <th class=\"col_heading level0 col4\" >star_rating</th>\n",
       "      <th class=\"col_heading level0 col5\" >helpful_votes</th>\n",
       "      <th class=\"col_heading level0 col6\" >total_votes</th>\n",
       "      <th class=\"col_heading level0 col7\" >review</th>\n",
       "    </tr>\n",
       "  </thead>\n",
       "  <tbody>\n",
       "    <tr>\n",
       "      <th id=\"T_325ca_level0_row0\" class=\"row_heading level0 row0\" >0</th>\n",
       "      <td id=\"T_325ca_row0_col0\" class=\"data row0 col0\" >0.000000</td>\n",
       "      <td id=\"T_325ca_row0_col1\" class=\"data row0 col1\" >0.166700</td>\n",
       "      <td id=\"T_325ca_row0_col2\" class=\"data row0 col2\" >168, 272, 84, 190, 64, 358, 364, 122, 118, 240</td>\n",
       "      <td id=\"T_325ca_row0_col3\" class=\"data row0 col3\" >[]</td>\n",
       "      <td id=\"T_325ca_row0_col4\" class=\"data row0 col4\" >5</td>\n",
       "      <td id=\"T_325ca_row0_col5\" class=\"data row0 col5\" >0</td>\n",
       "      <td id=\"T_325ca_row0_col6\" class=\"data row0 col6\" >0</td>\n",
       "      <td id=\"T_325ca_row0_col7\" class=\"data row0 col7\" >Five Stars netflix is great!</td>\n",
       "    </tr>\n",
       "    <tr>\n",
       "      <th id=\"T_325ca_level0_row1\" class=\"row_heading level0 row1\" >1</th>\n",
       "      <td id=\"T_325ca_row1_col0\" class=\"data row1 col0\" >1.000000</td>\n",
       "      <td id=\"T_325ca_row1_col1\" class=\"data row1 col1\" >0.340100</td>\n",
       "      <td id=\"T_325ca_row1_col2\" class=\"data row1 col2\" >721, 59, 85, 18, 529, 165, 19, 1, 284, 128</td>\n",
       "      <td id=\"T_325ca_row1_col3\" class=\"data row1 col3\" >['buck', 'show', 'buck']</td>\n",
       "      <td id=\"T_325ca_row1_col4\" class=\"data row1 col4\" >5</td>\n",
       "      <td id=\"T_325ca_row1_col5\" class=\"data row1 col5\" >0</td>\n",
       "      <td id=\"T_325ca_row1_col6\" class=\"data row1 col6\" >0</td>\n",
       "      <td id=\"T_325ca_row1_col7\" class=\"data row1 col7\" >GREAT Why pay per view like the others? 8 bucks for all you want to watch. Want to watch every episode of a show? 8 bucks.</td>\n",
       "    </tr>\n",
       "    <tr>\n",
       "      <th id=\"T_325ca_level0_row2\" class=\"row_heading level0 row2\" >2</th>\n",
       "      <td id=\"T_325ca_row2_col0\" class=\"data row2 col0\" >2.000000</td>\n",
       "      <td id=\"T_325ca_row2_col1\" class=\"data row2 col1\" >0.273800</td>\n",
       "      <td id=\"T_325ca_row2_col2\" class=\"data row2 col2\" >109, 173, 230, 303, 186, 132, 23, 102, 111, 332</td>\n",
       "      <td id=\"T_325ca_row2_col3\" class=\"data row2 col3\" >['navigation', 'movies_show', 'hitch', 'device']</td>\n",
       "      <td id=\"T_325ca_row2_col4\" class=\"data row2 col4\" >3</td>\n",
       "      <td id=\"T_325ca_row2_col5\" class=\"data row2 col5\" >0</td>\n",
       "      <td id=\"T_325ca_row2_col6\" class=\"data row2 col6\" >0</td>\n",
       "      <td id=\"T_325ca_row2_col7\" class=\"data row2 col7\" >Satisfactory App runs fine on kindle fire HD. Navigation thru app efficient, movies/shows play without hitch, sound is great. Video quality needs work, expected better from an HD device.</td>\n",
       "    </tr>\n",
       "    <tr>\n",
       "      <th id=\"T_325ca_level0_row3\" class=\"row_heading level0 row3\" >3</th>\n",
       "      <td id=\"T_325ca_row3_col0\" class=\"data row3 col0\" >0.000000</td>\n",
       "      <td id=\"T_325ca_row3_col1\" class=\"data row3 col1\" >0.166700</td>\n",
       "      <td id=\"T_325ca_row3_col2\" class=\"data row3 col2\" >168, 272, 84, 190, 64, 358, 364, 122, 118, 240</td>\n",
       "      <td id=\"T_325ca_row3_col3\" class=\"data row3 col3\" >[]</td>\n",
       "      <td id=\"T_325ca_row3_col4\" class=\"data row3 col4\" >5</td>\n",
       "      <td id=\"T_325ca_row3_col5\" class=\"data row3 col5\" >0</td>\n",
       "      <td id=\"T_325ca_row3_col6\" class=\"data row3 col6\" >0</td>\n",
       "      <td id=\"T_325ca_row3_col7\" class=\"data row3 col7\" >Five Stars The best</td>\n",
       "    </tr>\n",
       "    <tr>\n",
       "      <th id=\"T_325ca_level0_row4\" class=\"row_heading level0 row4\" >4</th>\n",
       "      <td id=\"T_325ca_row4_col0\" class=\"data row4 col0\" >2.000000</td>\n",
       "      <td id=\"T_325ca_row4_col1\" class=\"data row4 col1\" >0.169000</td>\n",
       "      <td id=\"T_325ca_row4_col2\" class=\"data row4 col2\" >109, 173, 230, 303, 186, 132, 23, 102, 111, 332</td>\n",
       "      <td id=\"T_325ca_row4_col3\" class=\"data row4 col3\" >['original_series']</td>\n",
       "      <td id=\"T_325ca_row4_col4\" class=\"data row4 col4\" >5</td>\n",
       "      <td id=\"T_325ca_row4_col5\" class=\"data row4 col5\" >0</td>\n",
       "      <td id=\"T_325ca_row4_col6\" class=\"data row4 col6\" >0</td>\n",
       "      <td id=\"T_325ca_row4_col7\" class=\"data row4 col7\" >Excellent! Love netflix! Worked great on my Kindle. Watched one of the original series that I've been wanting to watch for awhile.</td>\n",
       "    </tr>\n",
       "  </tbody>\n",
       "</table>\n"
      ],
      "text/plain": [
       "<pandas.io.formats.style.Styler at 0x1de43b58fa0>"
      ]
     },
     "execution_count": 15,
     "metadata": {},
     "output_type": "execute_result"
    }
   ],
   "source": [
    "df_dominant_topic_tfidf = find_dominant_topic_in_each_doc(df_topic_sents_keywords_tfidf, df)\n",
    "print(\"Finding the dominant topic in each document\")\n",
    "df_dominant_topic_tfidf.head(5).style.set_properties(subset=['review'], **{'width': '400px'})"
   ]
  },
  {
   "cell_type": "markdown",
   "metadata": {},
   "source": [
    "#### 2. Standard LDA with TF-IDF - Find the most representative document for each topic"
   ]
  },
  {
   "cell_type": "code",
   "execution_count": 16,
   "metadata": {},
   "outputs": [
    {
     "name": "stdout",
     "output_type": "stream",
     "text": [
      "Find the most representative document for each topic\n"
     ]
    },
    {
     "data": {
      "text/html": [
       "<style type=\"text/css\">\n",
       "#T_24510_row0_col6, #T_24510_row1_col6, #T_24510_row2_col6, #T_24510_row3_col6, #T_24510_row4_col6, #T_24510_row5_col6 {\n",
       "  width: 400px;\n",
       "}\n",
       "</style>\n",
       "<table id=\"T_24510_\">\n",
       "  <thead>\n",
       "    <tr>\n",
       "      <th class=\"blank level0\" >&nbsp;</th>\n",
       "      <th class=\"col_heading level0 col0\" >Dominant_Topic</th>\n",
       "      <th class=\"col_heading level0 col1\" >Perc_Contribution</th>\n",
       "      <th class=\"col_heading level0 col2\" >Topic_Keywords</th>\n",
       "      <th class=\"col_heading level0 col3\" >star_rating</th>\n",
       "      <th class=\"col_heading level0 col4\" >helpful_votes</th>\n",
       "      <th class=\"col_heading level0 col5\" >total_votes</th>\n",
       "      <th class=\"col_heading level0 col6\" >review</th>\n",
       "    </tr>\n",
       "  </thead>\n",
       "  <tbody>\n",
       "    <tr>\n",
       "      <th id=\"T_24510_level0_row0\" class=\"row_heading level0 row0\" >0</th>\n",
       "      <td id=\"T_24510_row0_col0\" class=\"data row0 col0\" >0.000000</td>\n",
       "      <td id=\"T_24510_row0_col1\" class=\"data row0 col1\" >0.540000</td>\n",
       "      <td id=\"T_24510_row0_col2\" class=\"data row0 col2\" >168, 272, 84, 190, 64, 358, 364, 122, 118, 240</td>\n",
       "      <td id=\"T_24510_row0_col3\" class=\"data row0 col3\" >5</td>\n",
       "      <td id=\"T_24510_row0_col4\" class=\"data row0 col4\" >0</td>\n",
       "      <td id=\"T_24510_row0_col5\" class=\"data row0 col5\" >5</td>\n",
       "      <td id=\"T_24510_row0_col6\" class=\"data row0 col6\" >i ate a mushroom cloud I ate a mushroom cloud out of the toilet and it smelled bad. I had to spray perfume in the toilet....oopsie.</td>\n",
       "    </tr>\n",
       "    <tr>\n",
       "      <th id=\"T_24510_level0_row1\" class=\"row_heading level0 row1\" >1</th>\n",
       "      <td id=\"T_24510_row1_col0\" class=\"data row1 col0\" >1.000000</td>\n",
       "      <td id=\"T_24510_row1_col1\" class=\"data row1 col1\" >0.523300</td>\n",
       "      <td id=\"T_24510_row1_col2\" class=\"data row1 col2\" >721, 59, 85, 18, 529, 165, 19, 1, 284, 128</td>\n",
       "      <td id=\"T_24510_row1_col3\" class=\"data row1 col3\" >4</td>\n",
       "      <td id=\"T_24510_row1_col4\" class=\"data row1 col4\" >11</td>\n",
       "      <td id=\"T_24510_row1_col5\" class=\"data row1 col5\" >14</td>\n",
       "      <td id=\"T_24510_row1_col6\" class=\"data row1 col6\" >Excellent streaming service, probably the best one. Netflix is great, still a good deal for the price and NO COMMERCIALS. Interface is fluid and easy to navigate. Content is good. Content used to be great but there doesn't seem to be as many new releases(good new releases that is) and blockbusters as in the past but there is still a lot of offerings. When you think Netflix most people think movies but Netflix has tons of good shows. Complete collections of old and new t.v. shows. Lots of documentaries(but not enough serious science or political ones in my opinion). Plenty of cartoons and other kids shows. Some anime shows and movies. One thing I don't like is how they recommend shows to you based on what you watched previously. &#34;Because you watched Shrek&#34; and then it'll show you one related movie and twenty unrelated movies. It wouldn't be so bad if it didn't take up appx.50% of its interface. Its not bad just mostly inaccurate in my opinion. Also I would like to be able to search/browse by genre. In the main interface it lists movies under genre but you can't browse every movie or show under that genre.These are very minor issues and more like pet peeves than actual issues. There's a lot of B-movies(which I like) and then there are movies that are so bad they shouldn't exist but you are forced to navigate through them to find something good to watch. I'd like would like if I didn't have dig through these worse than B-movies. Overall Netflix is the best streaming service of its kind and if they would start offering just a few more blockbusters or above 3 star new releases a month then I give it 5 stars.</td>\n",
       "    </tr>\n",
       "    <tr>\n",
       "      <th id=\"T_24510_level0_row2\" class=\"row_heading level0 row2\" >2</th>\n",
       "      <td id=\"T_24510_row2_col0\" class=\"data row2 col0\" >2.000000</td>\n",
       "      <td id=\"T_24510_row2_col1\" class=\"data row2 col1\" >0.560200</td>\n",
       "      <td id=\"T_24510_row2_col2\" class=\"data row2 col2\" >109, 173, 230, 303, 186, 132, 23, 102, 111, 332</td>\n",
       "      <td id=\"T_24510_row2_col3\" class=\"data row2 col3\" >2</td>\n",
       "      <td id=\"T_24510_row2_col4\" class=\"data row2 col4\" >1</td>\n",
       "      <td id=\"T_24510_row2_col5\" class=\"data row2 col5\" >2</td>\n",
       "      <td id=\"T_24510_row2_col6\" class=\"data row2 col6\" >1000's of movies, but none you want to watch Every time I hear about a movie I want to see it's never available on Netflix. Even basic classic movies like Clockwork Orange. Only about 20% of the titles I actually want to watch are available. Another thing is that I will often times see movies I'm interested in watching and all of a sudden they disappear and I can't even search for them. Even though it was recommended under a week ago. Not a good value.</td>\n",
       "    </tr>\n",
       "    <tr>\n",
       "      <th id=\"T_24510_level0_row3\" class=\"row_heading level0 row3\" >3</th>\n",
       "      <td id=\"T_24510_row3_col0\" class=\"data row3 col0\" >3.000000</td>\n",
       "      <td id=\"T_24510_row3_col1\" class=\"data row3 col1\" >0.504400</td>\n",
       "      <td id=\"T_24510_row3_col2\" class=\"data row3 col2\" >47, 266, 77, 20, 85, 216, 541, 1, 2, 204</td>\n",
       "      <td id=\"T_24510_row3_col3\" class=\"data row3 col3\" >5</td>\n",
       "      <td id=\"T_24510_row3_col4\" class=\"data row3 col4\" >1</td>\n",
       "      <td id=\"T_24510_row3_col5\" class=\"data row3 col5\" >1</td>\n",
       "      <td id=\"T_24510_row3_col6\" class=\"data row3 col6\" >Quick turn around I get three discs at a time, but the price is going up yet again, so I'm going to let the meteor land and the dinosaurs turn into fossils, uh landfill at the end their long and expensive reign, and go 100% offsite and online for movies and tv, which frankly is inevitable anyway. The price hike just makes the time to go become clear.</td>\n",
       "    </tr>\n",
       "    <tr>\n",
       "      <th id=\"T_24510_level0_row4\" class=\"row_heading level0 row4\" >4</th>\n",
       "      <td id=\"T_24510_row4_col0\" class=\"data row4 col0\" >4.000000</td>\n",
       "      <td id=\"T_24510_row4_col1\" class=\"data row4 col1\" >0.556500</td>\n",
       "      <td id=\"T_24510_row4_col2\" class=\"data row4 col2\" >76, 117, 212, 35, 96, 328, 53, 218, 469, 610</td>\n",
       "      <td id=\"T_24510_row4_col3\" class=\"data row4 col3\" >2</td>\n",
       "      <td id=\"T_24510_row4_col4\" class=\"data row4 col4\" >0</td>\n",
       "      <td id=\"T_24510_row4_col5\" class=\"data row4 col5\" >1</td>\n",
       "      <td id=\"T_24510_row4_col6\" class=\"data row4 col6\" >Netflix Kindle version doesn't support latest features (profiles) of netflix Netflix recently added a profile feature that allows each member of the family to have their own queues and viewing history instead of the old way of just having a single primary shared profile.  The Kindle version of Netflix only supports interacting with the original primary profile not my own personal profile.  My TV has the same problem  but there's no updated firmware for it.  You'd think Amazon would keep the app up to date.  Or maybe not since Netflix competes with Amazon Instant.<br /><br />Other than that the movies play great on my new Kindle Fire HDX!</td>\n",
       "    </tr>\n",
       "    <tr>\n",
       "      <th id=\"T_24510_level0_row5\" class=\"row_heading level0 row5\" >5</th>\n",
       "      <td id=\"T_24510_row5_col0\" class=\"data row5 col0\" >5.000000</td>\n",
       "      <td id=\"T_24510_row5_col1\" class=\"data row5 col1\" >0.567700</td>\n",
       "      <td id=\"T_24510_row5_col2\" class=\"data row5 col2\" >85, 49, 242, 302, 297, 30, 452, 237, 339, 420</td>\n",
       "      <td id=\"T_24510_row5_col3\" class=\"data row5 col3\" >3</td>\n",
       "      <td id=\"T_24510_row5_col4\" class=\"data row5 col4\" >0</td>\n",
       "      <td id=\"T_24510_row5_col5\" class=\"data row5 col5\" >0</td>\n",
       "      <td id=\"T_24510_row5_col6\" class=\"data row5 col6\" >great looking app but some probs that need to.b fixed while I love the layout of netflix on the fire, they need to fix video playback. Hulu plus blows away netflix in that respect, and the qulaity of hulu plus makes me hopful that netflix can fix their playback issues. Netflix also needs to get rid of that bar at the bottom of the screen. there should also b a way to change volume without pausing video like u can in hulu plus.</td>\n",
       "    </tr>\n",
       "  </tbody>\n",
       "</table>\n"
      ],
      "text/plain": [
       "<pandas.io.formats.style.Styler at 0x1de6933a8b0>"
      ]
     },
     "execution_count": 16,
     "metadata": {},
     "output_type": "execute_result"
    }
   ],
   "source": [
    "print(\"Find the most representative document for each topic\")\n",
    "sent_topics_sorteddf_tfidf = find_most_representative_doc_for_each_doc(df_topic_sents_keywords_tfidf, df)\n",
    "sent_topics_sorteddf_tfidf.style.set_properties(subset=['review'], **{'width': '400px'})"
   ]
  },
  {
   "cell_type": "markdown",
   "metadata": {},
   "source": [
    "#### 3. Standard LDA with TF-IDF - Topic distribution across documents"
   ]
  },
  {
   "cell_type": "code",
   "execution_count": 18,
   "metadata": {},
   "outputs": [
    {
     "name": "stdout",
     "output_type": "stream",
     "text": [
      "Topic distribution across documents\n"
     ]
    },
    {
     "data": {
      "text/html": [
       "<style type=\"text/css\">\n",
       "#T_87a70_row0_col1, #T_87a70_row1_col1, #T_87a70_row2_col1, #T_87a70_row3_col1, #T_87a70_row4_col1, #T_87a70_row5_col1 {\n",
       "  width: 400px;\n",
       "}\n",
       "</style>\n",
       "<table id=\"T_87a70_\">\n",
       "  <thead>\n",
       "    <tr>\n",
       "      <th class=\"blank level0\" >&nbsp;</th>\n",
       "      <th class=\"col_heading level0 col0\" >Dominant_Topic</th>\n",
       "      <th class=\"col_heading level0 col1\" >Keywords</th>\n",
       "      <th class=\"col_heading level0 col2\" >Num_Documents</th>\n",
       "      <th class=\"col_heading level0 col3\" >Perc_Documents</th>\n",
       "    </tr>\n",
       "  </thead>\n",
       "  <tbody>\n",
       "    <tr>\n",
       "      <th id=\"T_87a70_level0_row0\" class=\"row_heading level0 row0\" >0</th>\n",
       "      <td id=\"T_87a70_row0_col0\" class=\"data row0 col0\" >0.000000</td>\n",
       "      <td id=\"T_87a70_row0_col1\" class=\"data row0 col1\" >168, 272, 84, 190, 64, 358, 364, 122, 118, 240</td>\n",
       "      <td id=\"T_87a70_row0_col2\" class=\"data row0 col2\" >3901</td>\n",
       "      <td id=\"T_87a70_row0_col3\" class=\"data row0 col3\" >0.310400</td>\n",
       "    </tr>\n",
       "    <tr>\n",
       "      <th id=\"T_87a70_level0_row1\" class=\"row_heading level0 row1\" >1</th>\n",
       "      <td id=\"T_87a70_row1_col0\" class=\"data row1 col0\" >1.000000</td>\n",
       "      <td id=\"T_87a70_row1_col1\" class=\"data row1 col1\" >721, 59, 85, 18, 529, 165, 19, 1, 284, 128</td>\n",
       "      <td id=\"T_87a70_row1_col2\" class=\"data row1 col2\" >1851</td>\n",
       "      <td id=\"T_87a70_row1_col3\" class=\"data row1 col3\" >0.147300</td>\n",
       "    </tr>\n",
       "    <tr>\n",
       "      <th id=\"T_87a70_level0_row2\" class=\"row_heading level0 row2\" >2</th>\n",
       "      <td id=\"T_87a70_row2_col0\" class=\"data row2 col0\" >2.000000</td>\n",
       "      <td id=\"T_87a70_row2_col1\" class=\"data row2 col1\" >109, 173, 230, 303, 186, 132, 23, 102, 111, 332</td>\n",
       "      <td id=\"T_87a70_row2_col2\" class=\"data row2 col2\" >1797</td>\n",
       "      <td id=\"T_87a70_row2_col3\" class=\"data row2 col3\" >0.143000</td>\n",
       "    </tr>\n",
       "    <tr>\n",
       "      <th id=\"T_87a70_level0_row3\" class=\"row_heading level0 row3\" >3</th>\n",
       "      <td id=\"T_87a70_row3_col0\" class=\"data row3 col0\" >3.000000</td>\n",
       "      <td id=\"T_87a70_row3_col1\" class=\"data row3 col1\" >47, 266, 77, 20, 85, 216, 541, 1, 2, 204</td>\n",
       "      <td id=\"T_87a70_row3_col2\" class=\"data row3 col2\" >1705</td>\n",
       "      <td id=\"T_87a70_row3_col3\" class=\"data row3 col3\" >0.135700</td>\n",
       "    </tr>\n",
       "    <tr>\n",
       "      <th id=\"T_87a70_level0_row4\" class=\"row_heading level0 row4\" >4</th>\n",
       "      <td id=\"T_87a70_row4_col0\" class=\"data row4 col0\" >4.000000</td>\n",
       "      <td id=\"T_87a70_row4_col1\" class=\"data row4 col1\" >76, 117, 212, 35, 96, 328, 53, 218, 469, 610</td>\n",
       "      <td id=\"T_87a70_row4_col2\" class=\"data row4 col2\" >1691</td>\n",
       "      <td id=\"T_87a70_row4_col3\" class=\"data row4 col3\" >0.134600</td>\n",
       "    </tr>\n",
       "    <tr>\n",
       "      <th id=\"T_87a70_level0_row5\" class=\"row_heading level0 row5\" >5</th>\n",
       "      <td id=\"T_87a70_row5_col0\" class=\"data row5 col0\" >5.000000</td>\n",
       "      <td id=\"T_87a70_row5_col1\" class=\"data row5 col1\" >85, 49, 242, 302, 297, 30, 452, 237, 339, 420</td>\n",
       "      <td id=\"T_87a70_row5_col2\" class=\"data row5 col2\" >1621</td>\n",
       "      <td id=\"T_87a70_row5_col3\" class=\"data row5 col3\" >0.129000</td>\n",
       "    </tr>\n",
       "  </tbody>\n",
       "</table>\n"
      ],
      "text/plain": [
       "<pandas.io.formats.style.Styler at 0x1de43b4f700>"
      ]
     },
     "execution_count": 18,
     "metadata": {},
     "output_type": "execute_result"
    }
   ],
   "source": [
    "# Show\n",
    "print(\"Topic distribution across documents\")\n",
    "df_dominant_topic_tfidf = topic_distribution_across_docs(df_topic_sents_keywords_tfidf)\n",
    "df_dominant_topic_tfidf.style.set_properties(subset=['Keywords'], **{'width': '400px'})"
   ]
  },
  {
   "cell_type": "code",
   "execution_count": 20,
   "metadata": {},
   "outputs": [],
   "source": [
    "coherence_model_tfidf = CoherenceModel(model=lda_model_tfidf, texts=data_lemmatized, dictionary=dictionary, coherence='c_npmi')"
   ]
  },
  {
   "cell_type": "code",
   "execution_count": 21,
   "metadata": {},
   "outputs": [
    {
     "data": {
      "text/plain": [
       "[-0.12354832277346144,\n",
       " -0.27506340107114513,\n",
       " -0.21936770506896217,\n",
       " -0.15886486640839953,\n",
       " -0.315369990391699,\n",
       " -0.06717851894875705]"
      ]
     },
     "execution_count": 21,
     "metadata": {},
     "output_type": "execute_result"
    }
   ],
   "source": [
    "coherence_model_tfidf.get_coherence_per_topic()"
   ]
  },
  {
   "cell_type": "markdown",
   "metadata": {},
   "source": [
    "### Mallet's LDA with TF-IDF"
   ]
  },
  {
   "cell_type": "code",
   "execution_count": 22,
   "metadata": {},
   "outputs": [],
   "source": [
    "import os\n",
    "os.environ.update({'MALLET_HOME':r'C:/mallet-2.0.8/'})\n",
    "\n",
    "mallet_path = 'C:/mallet-2.0.8/bin/mallet.bat'\n",
    "\n",
    "ldamallet_tfidf = gensim.models.wrappers.LdaMallet(mallet_path, \n",
    "                                                   corpus=tf_idf, \n",
    "                                                   num_topics=6, \n",
    "                                                   random_seed = 100,\n",
    "                                                   id2word=dictionary,\n",
    "                                                   alpha = 1.5)"
   ]
  },
  {
   "cell_type": "code",
   "execution_count": 23,
   "metadata": {},
   "outputs": [],
   "source": [
    "# Visualize the topics\n",
    "model = gensim.models.wrappers.ldamallet.malletmodel2ldamodel(ldamallet_tfidf)\n",
    "pyLDAvis.enable_notebook()\n",
    "vis = pyLDAvis.gensim.prepare(model, tf_idf, dictionary)\n",
    "pyLDAvis.save_html(vis, 'mallet_lda_vis/mallet_lda_vis_tfidf_num_topics=6&alpha=1.5.html')"
   ]
  },
  {
   "cell_type": "code",
   "execution_count": 24,
   "metadata": {},
   "outputs": [
    {
     "data": {
      "text/plain": [
       "[-0.4393429433580468,\n",
       " -0.30618507026926095,\n",
       " -0.30168656037564956,\n",
       " -0.3299832958579991,\n",
       " -0.2606296052781025,\n",
       " -0.35151733260671064]"
      ]
     },
     "execution_count": 24,
     "metadata": {},
     "output_type": "execute_result"
    }
   ],
   "source": [
    "coherence_model_m = CoherenceModel(model=model, texts=data_lemmatized, dictionary=dictionary, coherence='c_npmi')\n",
    "coherence_model_m.get_coherence_per_topic()"
   ]
  },
  {
   "cell_type": "code",
   "execution_count": 25,
   "metadata": {},
   "outputs": [
    {
     "name": "stdout",
     "output_type": "stream",
     "text": [
      "Getting main topic for document...\n",
      "0  1000  2000  3000  4000  5000  6000  7000  8000  9000  10000  11000  12000  "
     ]
    }
   ],
   "source": [
    "df_topic_sents_keywords_tfidf_m = format_topics_sentences(ldamodel=ldamallet_tfidf, corpus=term_doc, texts=data_lemmatized)"
   ]
  },
  {
   "cell_type": "markdown",
   "metadata": {},
   "source": [
    "#### 1. Mallet's LDA with TF-IDF - Finding the dominant topic in each document"
   ]
  },
  {
   "cell_type": "code",
   "execution_count": 27,
   "metadata": {},
   "outputs": [
    {
     "name": "stdout",
     "output_type": "stream",
     "text": [
      "Finding the dominant topic in each document\n"
     ]
    },
    {
     "data": {
      "text/html": [
       "<style type=\"text/css\">\n",
       "#T_94f2c_row0_col7, #T_94f2c_row1_col7, #T_94f2c_row2_col7, #T_94f2c_row3_col7, #T_94f2c_row4_col7 {\n",
       "  width: 400px;\n",
       "}\n",
       "</style>\n",
       "<table id=\"T_94f2c_\">\n",
       "  <thead>\n",
       "    <tr>\n",
       "      <th class=\"blank level0\" >&nbsp;</th>\n",
       "      <th class=\"col_heading level0 col0\" >Dominant_Topic</th>\n",
       "      <th class=\"col_heading level0 col1\" >Perc_Contribution</th>\n",
       "      <th class=\"col_heading level0 col2\" >Keywords</th>\n",
       "      <th class=\"col_heading level0 col3\" >Text</th>\n",
       "      <th class=\"col_heading level0 col4\" >star_rating</th>\n",
       "      <th class=\"col_heading level0 col5\" >helpful_votes</th>\n",
       "      <th class=\"col_heading level0 col6\" >total_votes</th>\n",
       "      <th class=\"col_heading level0 col7\" >review</th>\n",
       "    </tr>\n",
       "  </thead>\n",
       "  <tbody>\n",
       "    <tr>\n",
       "      <th id=\"T_94f2c_level0_row0\" class=\"row_heading level0 row0\" >0</th>\n",
       "      <td id=\"T_94f2c_row0_col0\" class=\"data row0 col0\" >0.000000</td>\n",
       "      <td id=\"T_94f2c_row0_col1\" class=\"data row0 col1\" >0.166700</td>\n",
       "      <td id=\"T_94f2c_row0_col2\" class=\"data row0 col2\" >love, lot, film, house, choice_movie, account, picture, freeze, content, great_movie</td>\n",
       "      <td id=\"T_94f2c_row0_col3\" class=\"data row0 col3\" >[]</td>\n",
       "      <td id=\"T_94f2c_row0_col4\" class=\"data row0 col4\" >5</td>\n",
       "      <td id=\"T_94f2c_row0_col5\" class=\"data row0 col5\" >0</td>\n",
       "      <td id=\"T_94f2c_row0_col6\" class=\"data row0 col6\" >0</td>\n",
       "      <td id=\"T_94f2c_row0_col7\" class=\"data row0 col7\" >Five Stars netflix is great!</td>\n",
       "    </tr>\n",
       "    <tr>\n",
       "      <th id=\"T_94f2c_level0_row1\" class=\"row_heading level0 row1\" >1</th>\n",
       "      <td id=\"T_94f2c_row1_col0\" class=\"data row1 col0\" >2.000000</td>\n",
       "      <td id=\"T_94f2c_row1_col1\" class=\"data row1 col1\" >0.524700</td>\n",
       "      <td id=\"T_94f2c_row1_col2\" class=\"data row1 col2\" >tv, four_great, fire, program, tv_show, service, price, option, newer_movie, good_movie</td>\n",
       "      <td id=\"T_94f2c_row1_col3\" class=\"data row1 col3\" >['buck', 'show', 'buck']</td>\n",
       "      <td id=\"T_94f2c_row1_col4\" class=\"data row1 col4\" >5</td>\n",
       "      <td id=\"T_94f2c_row1_col5\" class=\"data row1 col5\" >0</td>\n",
       "      <td id=\"T_94f2c_row1_col6\" class=\"data row1 col6\" >0</td>\n",
       "      <td id=\"T_94f2c_row1_col7\" class=\"data row1 col7\" >GREAT Why pay per view like the others? 8 bucks for all you want to watch. Want to watch every episode of a show? 8 bucks.</td>\n",
       "    </tr>\n",
       "    <tr>\n",
       "      <th id=\"T_94f2c_level0_row2\" class=\"row_heading level0 row2\" >2</th>\n",
       "      <td id=\"T_94f2c_row2_col0\" class=\"data row2 col0\" >0.000000</td>\n",
       "      <td id=\"T_94f2c_row2_col1\" class=\"data row2 col1\" >0.302500</td>\n",
       "      <td id=\"T_94f2c_row2_col2\" class=\"data row2 col2\" >love, lot, film, house, choice_movie, account, picture, freeze, content, great_movie</td>\n",
       "      <td id=\"T_94f2c_row2_col3\" class=\"data row2 col3\" >['navigation', 'movies_show', 'hitch', 'device']</td>\n",
       "      <td id=\"T_94f2c_row2_col4\" class=\"data row2 col4\" >3</td>\n",
       "      <td id=\"T_94f2c_row2_col5\" class=\"data row2 col5\" >0</td>\n",
       "      <td id=\"T_94f2c_row2_col6\" class=\"data row2 col6\" >0</td>\n",
       "      <td id=\"T_94f2c_row2_col7\" class=\"data row2 col7\" >Satisfactory App runs fine on kindle fire HD. Navigation thru app efficient, movies/shows play without hitch, sound is great. Video quality needs work, expected better from an HD device.</td>\n",
       "    </tr>\n",
       "    <tr>\n",
       "      <th id=\"T_94f2c_level0_row3\" class=\"row_heading level0 row3\" >3</th>\n",
       "      <td id=\"T_94f2c_row3_col0\" class=\"data row3 col0\" >0.000000</td>\n",
       "      <td id=\"T_94f2c_row3_col1\" class=\"data row3 col1\" >0.166700</td>\n",
       "      <td id=\"T_94f2c_row3_col2\" class=\"data row3 col2\" >love, lot, film, house, choice_movie, account, picture, freeze, content, great_movie</td>\n",
       "      <td id=\"T_94f2c_row3_col3\" class=\"data row3 col3\" >[]</td>\n",
       "      <td id=\"T_94f2c_row3_col4\" class=\"data row3 col4\" >5</td>\n",
       "      <td id=\"T_94f2c_row3_col5\" class=\"data row3 col5\" >0</td>\n",
       "      <td id=\"T_94f2c_row3_col6\" class=\"data row3 col6\" >0</td>\n",
       "      <td id=\"T_94f2c_row3_col7\" class=\"data row3 col7\" >Five Stars The best</td>\n",
       "    </tr>\n",
       "    <tr>\n",
       "      <th id=\"T_94f2c_level0_row4\" class=\"row_heading level0 row4\" >4</th>\n",
       "      <td id=\"T_94f2c_row4_col0\" class=\"data row4 col0\" >3.000000</td>\n",
       "      <td id=\"T_94f2c_row4_col1\" class=\"data row4 col1\" >0.455600</td>\n",
       "      <td id=\"T_94f2c_row4_col2\" class=\"data row4 col2\" >love, kid, cable, version, interface, issue, order, excelent, year, friend</td>\n",
       "      <td id=\"T_94f2c_row4_col3\" class=\"data row4 col3\" >['original_series']</td>\n",
       "      <td id=\"T_94f2c_row4_col4\" class=\"data row4 col4\" >5</td>\n",
       "      <td id=\"T_94f2c_row4_col5\" class=\"data row4 col5\" >0</td>\n",
       "      <td id=\"T_94f2c_row4_col6\" class=\"data row4 col6\" >0</td>\n",
       "      <td id=\"T_94f2c_row4_col7\" class=\"data row4 col7\" >Excellent! Love netflix! Worked great on my Kindle. Watched one of the original series that I've been wanting to watch for awhile.</td>\n",
       "    </tr>\n",
       "  </tbody>\n",
       "</table>\n"
      ],
      "text/plain": [
       "<pandas.io.formats.style.Styler at 0x1de6ba4d790>"
      ]
     },
     "execution_count": 27,
     "metadata": {},
     "output_type": "execute_result"
    }
   ],
   "source": [
    "# df_dominant_topic_tfidf_m = find_dominant_topic_in_each_doc(df_topic_sents_keywords_tfidf_m)\n",
    "df_dominant_topic_tfidf_m = find_dominant_topic_in_each_doc(df_topic_sents_keywords_tfidf_m, df)\n",
    "print(\"Finding the dominant topic in each document\")\n",
    "df_dominant_topic_tfidf_m.head(5).style.set_properties(subset=['review'], **{'width': '400px'})"
   ]
  },
  {
   "cell_type": "markdown",
   "metadata": {},
   "source": [
    "#### 2. Mallet's LDA with TF-IDF - Find the most representative document for each topic"
   ]
  },
  {
   "cell_type": "code",
   "execution_count": 29,
   "metadata": {},
   "outputs": [
    {
     "name": "stdout",
     "output_type": "stream",
     "text": [
      "Find the most representative document for each topic\n"
     ]
    },
    {
     "data": {
      "text/html": [
       "<style type=\"text/css\">\n",
       "#T_4caab_row0_col6, #T_4caab_row1_col6, #T_4caab_row2_col6, #T_4caab_row3_col6, #T_4caab_row4_col6, #T_4caab_row5_col6, #T_4caab_row6_col6, #T_4caab_row7_col6, #T_4caab_row8_col6 {\n",
       "  width: 400px;\n",
       "}\n",
       "</style>\n",
       "<table id=\"T_4caab_\">\n",
       "  <thead>\n",
       "    <tr>\n",
       "      <th class=\"blank level0\" >&nbsp;</th>\n",
       "      <th class=\"col_heading level0 col0\" >Dominant_Topic</th>\n",
       "      <th class=\"col_heading level0 col1\" >Perc_Contribution</th>\n",
       "      <th class=\"col_heading level0 col2\" >Topic_Keywords</th>\n",
       "      <th class=\"col_heading level0 col3\" >star_rating</th>\n",
       "      <th class=\"col_heading level0 col4\" >helpful_votes</th>\n",
       "      <th class=\"col_heading level0 col5\" >total_votes</th>\n",
       "      <th class=\"col_heading level0 col6\" >review</th>\n",
       "    </tr>\n",
       "  </thead>\n",
       "  <tbody>\n",
       "    <tr>\n",
       "      <th id=\"T_4caab_level0_row0\" class=\"row_heading level0 row0\" >0</th>\n",
       "      <td id=\"T_4caab_row0_col0\" class=\"data row0 col0\" >0.000000</td>\n",
       "      <td id=\"T_4caab_row0_col1\" class=\"data row0 col1\" >0.772700</td>\n",
       "      <td id=\"T_4caab_row0_col2\" class=\"data row0 col2\" >love, lot, film, house, choice_movie, account, picture, freeze, content, great_movie</td>\n",
       "      <td id=\"T_4caab_row0_col3\" class=\"data row0 col3\" >4</td>\n",
       "      <td id=\"T_4caab_row0_col4\" class=\"data row0 col4\" >1</td>\n",
       "      <td id=\"T_4caab_row0_col5\" class=\"data row0 col5\" >2</td>\n",
       "      <td id=\"T_4caab_row0_col6\" class=\"data row0 col6\" >Enjoy selection of films Enjoy having such a large selection of movies, but was not able to locate an older film.  Would like to have the ability to pull up some classic films.</td>\n",
       "    </tr>\n",
       "    <tr>\n",
       "      <th id=\"T_4caab_level0_row1\" class=\"row_heading level0 row1\" >1</th>\n",
       "      <td id=\"T_4caab_row1_col0\" class=\"data row1 col0\" >1.000000</td>\n",
       "      <td id=\"T_4caab_row1_col1\" class=\"data row1 col1\" >0.807700</td>\n",
       "      <td id=\"T_4caab_row1_col2\" class=\"data row1 col2\" >movie, app, watch, choice, thing, commercial, phone, download, month, four_work</td>\n",
       "      <td id=\"T_4caab_row1_col3\" class=\"data row1 col3\" >1</td>\n",
       "      <td id=\"T_4caab_row1_col4\" class=\"data row1 col4\" >3</td>\n",
       "      <td id=\"T_4caab_row1_col5\" class=\"data row1 col5\" >5</td>\n",
       "      <td id=\"T_4caab_row1_col6\" class=\"data row1 col6\" >Fails to install on Velocity Cruz T301 with Android 2.2 Amazon reports that this device works with my tablet, which is linked to my Amazon account. But the installation process fails. My tablet is a Velocity Cruz T301 with Android 2.2.  Note that this is not the only app that fails to install in the T301. About 1/2 of the apps I download from Amazon fail to install, and I have read that other users have not been able to install Netflix on the T301. So this is a limitation on the T301. But would be nice if Amazon accurately identified that the app does not install on the T301, or that it is not tested.</td>\n",
       "    </tr>\n",
       "    <tr>\n",
       "      <th id=\"T_4caab_level0_row2\" class=\"row_heading level0 row2\" >2</th>\n",
       "      <td id=\"T_4caab_row2_col0\" class=\"data row2 col0\" >2.000000</td>\n",
       "      <td id=\"T_4caab_row2_col1\" class=\"data row2 col1\" >0.790600</td>\n",
       "      <td id=\"T_4caab_row2_col2\" class=\"data row2 col2\" >tv, four_great, fire, program, tv_show, service, price, option, newer_movie, good_movie</td>\n",
       "      <td id=\"T_4caab_row2_col3\" class=\"data row2 col3\" >5</td>\n",
       "      <td id=\"T_4caab_row2_col4\" class=\"data row2 col4\" >0</td>\n",
       "      <td id=\"T_4caab_row2_col5\" class=\"data row2 col5\" >1</td>\n",
       "      <td id=\"T_4caab_row2_col6\" class=\"data row2 col6\" >keep up the excellent service and quality productions Outstanding service!  My only issue isn't with the company, it's with me.  I'm upset with myself for waiting until this year to purchase the service.  I have been busy trying to catch up to everything I have been missing.  Thank you NETFLIX, keep up the excellent service and quality productions.</td>\n",
       "    </tr>\n",
       "    <tr>\n",
       "      <th id=\"T_4caab_level0_row3\" class=\"row_heading level0 row3\" >3</th>\n",
       "      <td id=\"T_4caab_row3_col0\" class=\"data row3 col0\" >3.000000</td>\n",
       "      <td id=\"T_4caab_row3_col1\" class=\"data row3 col1\" >0.722200</td>\n",
       "      <td id=\"T_4caab_row3_col2\" class=\"data row3 col2\" >love, kid, cable, version, interface, issue, order, excelent, year, friend</td>\n",
       "      <td id=\"T_4caab_row3_col3\" class=\"data row3 col3\" >2</td>\n",
       "      <td id=\"T_4caab_row3_col4\" class=\"data row3 col4\" >0</td>\n",
       "      <td id=\"T_4caab_row3_col5\" class=\"data row3 col5\" >0</td>\n",
       "      <td id=\"T_4caab_row3_col6\" class=\"data row3 col6\" >Netflix After I downloaded it said you need a membership which is $8 a month I couldn't watch anything because of the stupid membership. No good if u don't have a membership.</td>\n",
       "    </tr>\n",
       "    <tr>\n",
       "      <th id=\"T_4caab_level0_row4\" class=\"row_heading level0 row4\" >4</th>\n",
       "      <td id=\"T_4caab_row4_col0\" class=\"data row4 col0\" >3.000000</td>\n",
       "      <td id=\"T_4caab_row4_col1\" class=\"data row4 col1\" >0.722200</td>\n",
       "      <td id=\"T_4caab_row4_col2\" class=\"data row4 col2\" >love, kid, cable, version, interface, issue, order, excelent, year, friend</td>\n",
       "      <td id=\"T_4caab_row4_col3\" class=\"data row4 col3\" >5</td>\n",
       "      <td id=\"T_4caab_row4_col4\" class=\"data row4 col4\" >0</td>\n",
       "      <td id=\"T_4caab_row4_col5\" class=\"data row4 col5\" >0</td>\n",
       "      <td id=\"T_4caab_row4_col6\" class=\"data row4 col6\" >love netflix! I wish there were a few more movies on here but the app is fantastic.  The interface is very User friendly...my kids have it figured out!  We don't have cable but who needs it when there's so many shows on here?!  I do wonder where TNT shows are on here...everything else is stellar.</td>\n",
       "    </tr>\n",
       "    <tr>\n",
       "      <th id=\"T_4caab_level0_row5\" class=\"row_heading level0 row5\" >5</th>\n",
       "      <td id=\"T_4caab_row5_col0\" class=\"data row5 col0\" >3.000000</td>\n",
       "      <td id=\"T_4caab_row5_col1\" class=\"data row5 col1\" >0.722200</td>\n",
       "      <td id=\"T_4caab_row5_col2\" class=\"data row5 col2\" >love, kid, cable, version, interface, issue, order, excelent, year, friend</td>\n",
       "      <td id=\"T_4caab_row5_col3\" class=\"data row5 col3\" >1</td>\n",
       "      <td id=\"T_4caab_row5_col4\" class=\"data row5 col4\" >0</td>\n",
       "      <td id=\"T_4caab_row5_col5\" class=\"data row5 col5\" >0</td>\n",
       "      <td id=\"T_4caab_row5_col6\" class=\"data row5 col6\" >netflix I do not have, or want netflex.  I did not order Netflix.  idid not order Netflix.  please do not  include me in this order.</td>\n",
       "    </tr>\n",
       "    <tr>\n",
       "      <th id=\"T_4caab_level0_row6\" class=\"row_heading level0 row6\" >6</th>\n",
       "      <td id=\"T_4caab_row6_col0\" class=\"data row6 col0\" >3.000000</td>\n",
       "      <td id=\"T_4caab_row6_col1\" class=\"data row6 col1\" >0.722200</td>\n",
       "      <td id=\"T_4caab_row6_col2\" class=\"data row6 col2\" >love, kid, cable, version, interface, issue, order, excelent, year, friend</td>\n",
       "      <td id=\"T_4caab_row6_col3\" class=\"data row6 col3\" >5</td>\n",
       "      <td id=\"T_4caab_row6_col4\" class=\"data row6 col4\" >0</td>\n",
       "      <td id=\"T_4caab_row6_col5\" class=\"data row6 col5\" >0</td>\n",
       "      <td id=\"T_4caab_row6_col6\" class=\"data row6 col6\" >Grandchild I have two grandchildren the problem was that one of them is 17 and her brother is 3 so they do not want to watch the same thing but they want to be in the same room I have headphones and I give the 3 year old the Kindle and let him watch videos and the problem is solved</td>\n",
       "    </tr>\n",
       "    <tr>\n",
       "      <th id=\"T_4caab_level0_row7\" class=\"row_heading level0 row7\" >7</th>\n",
       "      <td id=\"T_4caab_row7_col0\" class=\"data row7 col0\" >4.000000</td>\n",
       "      <td id=\"T_4caab_row7_col1\" class=\"data row7 col1\" >0.772700</td>\n",
       "      <td id=\"T_4caab_row7_col2\" class=\"data row7 col2\" >selection, time, watch_movie, tablet, show, love_great, computer, recent_movie, series, episode</td>\n",
       "      <td id=\"T_4caab_row7_col3\" class=\"data row7 col3\" >3</td>\n",
       "      <td id=\"T_4caab_row7_col4\" class=\"data row7 col4\" >4</td>\n",
       "      <td id=\"T_4caab_row7_col5\" class=\"data row7 col5\" >4</td>\n",
       "      <td id=\"T_4caab_row7_col6\" class=\"data row7 col6\" >Do not like the netflix app on amazon fire Do not like the netflix app on amazon fire. It does not work as good as the computer and doesnt easily show you what you watched and also some show that are on the computer dont show up on the app.</td>\n",
       "    </tr>\n",
       "    <tr>\n",
       "      <th id=\"T_4caab_level0_row8\" class=\"row_heading level0 row8\" >8</th>\n",
       "      <td id=\"T_4caab_row8_col0\" class=\"data row8 col0\" >5.000000</td>\n",
       "      <td id=\"T_4caab_row8_col1\" class=\"data row8 col1\" >0.833300</td>\n",
       "      <td id=\"T_4caab_row8_col2\" class=\"data row8 col2\" >work, kindle, problem, family, shows_movie, update, entertainment, good_good, season, rock</td>\n",
       "      <td id=\"T_4caab_row8_col3\" class=\"data row8 col3\" >3</td>\n",
       "      <td id=\"T_4caab_row8_col4\" class=\"data row8 col4\" >0</td>\n",
       "      <td id=\"T_4caab_row8_col5\" class=\"data row8 col5\" >0</td>\n",
       "      <td id=\"T_4caab_row8_col6\" class=\"data row8 col6\" >Such Profile. Does what you expect it to do, except there are no profiles! Where are my profiles! Needs more profiles! Wow, such profile, many profile, amaze profile!!</td>\n",
       "    </tr>\n",
       "  </tbody>\n",
       "</table>\n"
      ],
      "text/plain": [
       "<pandas.io.formats.style.Styler at 0x1de6931f640>"
      ]
     },
     "execution_count": 29,
     "metadata": {},
     "output_type": "execute_result"
    }
   ],
   "source": [
    "print(\"Find the most representative document for each topic\")\n",
    "sent_topics_sorteddf_tfidf_m = find_most_representative_doc_for_each_doc(df_topic_sents_keywords_tfidf_m, df)\n",
    "sent_topics_sorteddf_tfidf_m.style.set_properties(subset=['review'], **{'width': '400px'})"
   ]
  },
  {
   "cell_type": "markdown",
   "metadata": {},
   "source": [
    "#### 3. Mallet's LDA with TF-IDF - Topic distribution across documents"
   ]
  },
  {
   "cell_type": "code",
   "execution_count": 30,
   "metadata": {},
   "outputs": [
    {
     "name": "stdout",
     "output_type": "stream",
     "text": [
      "Topic distribution across documents\n"
     ]
    },
    {
     "data": {
      "text/html": [
       "<style type=\"text/css\">\n",
       "#T_9983b_row0_col1, #T_9983b_row1_col1, #T_9983b_row2_col1, #T_9983b_row3_col1, #T_9983b_row4_col1, #T_9983b_row5_col1 {\n",
       "  width: 400px;\n",
       "}\n",
       "</style>\n",
       "<table id=\"T_9983b_\">\n",
       "  <thead>\n",
       "    <tr>\n",
       "      <th class=\"blank level0\" >&nbsp;</th>\n",
       "      <th class=\"col_heading level0 col0\" >Dominant_Topic</th>\n",
       "      <th class=\"col_heading level0 col1\" >Keywords</th>\n",
       "      <th class=\"col_heading level0 col2\" >Num_Documents</th>\n",
       "      <th class=\"col_heading level0 col3\" >Perc_Documents</th>\n",
       "    </tr>\n",
       "  </thead>\n",
       "  <tbody>\n",
       "    <tr>\n",
       "      <th id=\"T_9983b_level0_row0\" class=\"row_heading level0 row0\" >0</th>\n",
       "      <td id=\"T_9983b_row0_col0\" class=\"data row0 col0\" >0.000000</td>\n",
       "      <td id=\"T_9983b_row0_col1\" class=\"data row0 col1\" >love, lot, film, house, choice_movie, account, picture, freeze, content, great_movie</td>\n",
       "      <td id=\"T_9983b_row0_col2\" class=\"data row0 col2\" >4131</td>\n",
       "      <td id=\"T_9983b_row0_col3\" class=\"data row0 col3\" >0.328700</td>\n",
       "    </tr>\n",
       "    <tr>\n",
       "      <th id=\"T_9983b_level0_row1\" class=\"row_heading level0 row1\" >1</th>\n",
       "      <td id=\"T_9983b_row1_col0\" class=\"data row1 col0\" >1.000000</td>\n",
       "      <td id=\"T_9983b_row1_col1\" class=\"data row1 col1\" >movie, app, watch, choice, thing, commercial, phone, download, month, four_work</td>\n",
       "      <td id=\"T_9983b_row1_col2\" class=\"data row1 col2\" >2224</td>\n",
       "      <td id=\"T_9983b_row1_col3\" class=\"data row1 col3\" >0.177000</td>\n",
       "    </tr>\n",
       "    <tr>\n",
       "      <th id=\"T_9983b_level0_row2\" class=\"row_heading level0 row2\" >2</th>\n",
       "      <td id=\"T_9983b_row2_col0\" class=\"data row2 col0\" >2.000000</td>\n",
       "      <td id=\"T_9983b_row2_col1\" class=\"data row2 col1\" >tv, four_great, fire, program, tv_show, service, price, option, newer_movie, good_movie</td>\n",
       "      <td id=\"T_9983b_row2_col2\" class=\"data row2 col2\" >1873</td>\n",
       "      <td id=\"T_9983b_row2_col3\" class=\"data row2 col3\" >0.149100</td>\n",
       "    </tr>\n",
       "    <tr>\n",
       "      <th id=\"T_9983b_level0_row3\" class=\"row_heading level0 row3\" >3</th>\n",
       "      <td id=\"T_9983b_row3_col0\" class=\"data row3 col0\" >3.000000</td>\n",
       "      <td id=\"T_9983b_row3_col1\" class=\"data row3 col1\" >love, kid, cable, version, interface, issue, order, excelent, year, friend</td>\n",
       "      <td id=\"T_9983b_row3_col2\" class=\"data row3 col2\" >1601</td>\n",
       "      <td id=\"T_9983b_row3_col3\" class=\"data row3 col3\" >0.127400</td>\n",
       "    </tr>\n",
       "    <tr>\n",
       "      <th id=\"T_9983b_level0_row4\" class=\"row_heading level0 row4\" >4</th>\n",
       "      <td id=\"T_9983b_row4_col0\" class=\"data row4 col0\" >4.000000</td>\n",
       "      <td id=\"T_9983b_row4_col1\" class=\"data row4 col1\" >selection, time, watch_movie, tablet, show, love_great, computer, recent_movie, series, episode</td>\n",
       "      <td id=\"T_9983b_row4_col2\" class=\"data row4 col2\" >1598</td>\n",
       "      <td id=\"T_9983b_row4_col3\" class=\"data row4 col3\" >0.127200</td>\n",
       "    </tr>\n",
       "    <tr>\n",
       "      <th id=\"T_9983b_level0_row5\" class=\"row_heading level0 row5\" >5</th>\n",
       "      <td id=\"T_9983b_row5_col0\" class=\"data row5 col0\" >5.000000</td>\n",
       "      <td id=\"T_9983b_row5_col1\" class=\"data row5 col1\" >work, kindle, problem, family, shows_movie, update, entertainment, good_good, season, rock</td>\n",
       "      <td id=\"T_9983b_row5_col2\" class=\"data row5 col2\" >1139</td>\n",
       "      <td id=\"T_9983b_row5_col3\" class=\"data row5 col3\" >0.090600</td>\n",
       "    </tr>\n",
       "  </tbody>\n",
       "</table>\n"
      ],
      "text/plain": [
       "<pandas.io.formats.style.Styler at 0x1de6ba3cee0>"
      ]
     },
     "execution_count": 30,
     "metadata": {},
     "output_type": "execute_result"
    }
   ],
   "source": [
    "# Show\n",
    "print(\"Topic distribution across documents\")\n",
    "df_dominant_topic_tfidf_m = topic_distribution_across_docs(df_topic_sents_keywords_tfidf_m)\n",
    "df_dominant_topic_tfidf_m.style.set_properties(subset=['Keywords'], **{'width': '400px'})"
   ]
  },
  {
   "cell_type": "code",
   "execution_count": 31,
   "metadata": {},
   "outputs": [],
   "source": [
    "coherence_model_tfidf_m = CoherenceModel(model=ldamallet_tfidf, texts=data_lemmatized, dictionary=dictionary, coherence='c_npmi')"
   ]
  },
  {
   "cell_type": "code",
   "execution_count": 32,
   "metadata": {},
   "outputs": [
    {
     "data": {
      "text/plain": [
       "[-0.4393429433580468,\n",
       " -0.30618507026926095,\n",
       " -0.30168656037564956,\n",
       " -0.3299832958579991,\n",
       " -0.2606296052781025,\n",
       " -0.35151733260671064]"
      ]
     },
     "execution_count": 32,
     "metadata": {},
     "output_type": "execute_result"
    }
   ],
   "source": [
    "coherence_model_tfidf_m.get_coherence_per_topic()"
   ]
  },
  {
   "cell_type": "code",
   "execution_count": null,
   "metadata": {},
   "outputs": [],
   "source": []
  }
 ],
 "metadata": {
  "kernelspec": {
   "display_name": "Python 3 (ipykernel)",
   "language": "python",
   "name": "python3"
  },
  "language_info": {
   "codemirror_mode": {
    "name": "ipython",
    "version": 3
   },
   "file_extension": ".py",
   "mimetype": "text/x-python",
   "name": "python",
   "nbconvert_exporter": "python",
   "pygments_lexer": "ipython3",
   "version": "3.8.5"
  },
  "toc": {
   "base_numbering": 1,
   "nav_menu": {},
   "number_sections": true,
   "sideBar": true,
   "skip_h1_title": false,
   "title_cell": "Table of Contents",
   "title_sidebar": "Contents",
   "toc_cell": false,
   "toc_position": {
    "height": "calc(100% - 180px)",
    "left": "10px",
    "top": "150px",
    "width": "256px"
   },
   "toc_section_display": true,
   "toc_window_display": true
  }
 },
 "nbformat": 4,
 "nbformat_minor": 4
}
