{
  "nbformat": 4,
  "nbformat_minor": 0,
  "metadata": {
    "kernelspec": {
      "display_name": "Python 3 (ipykernel)",
      "language": "python",
      "name": "python3"
    },
    "language_info": {
      "codemirror_mode": {
        "name": "ipython",
        "version": 3
      },
      "file_extension": ".py",
      "mimetype": "text/x-python",
      "name": "python",
      "nbconvert_exporter": "python",
      "pygments_lexer": "ipython3",
      "version": "3.8.5"
    },
    "toc": {
      "base_numbering": 1,
      "nav_menu": {},
      "number_sections": true,
      "sideBar": true,
      "skip_h1_title": false,
      "title_cell": "Table of Contents",
      "title_sidebar": "Contents",
      "toc_cell": false,
      "toc_position": {},
      "toc_section_display": true,
      "toc_window_display": false
    },
    "colab": {
      "name": "BERT-Copy1.ipynb",
      "provenance": [],
      "collapsed_sections": [
        "tnOFp_rRDbYo"
      ]
    },
    "accelerator": "GPU"
  },
  "cells": [
    {
      "cell_type": "markdown",
      "metadata": {
        "id": "XyzrkSwzDbXz"
      },
      "source": [
        "#### Import modules"
      ]
    },
    {
      "cell_type": "code",
      "metadata": {
        "id": "V7mYIxAdDp5z"
      },
      "source": [
        "# !pip install -r requirements_netflix_jung.txt\n",
        "# !pip install -r requirements_netflix_jung_lite.txt\n",
        "\n",
        "# !pip list"
      ],
      "execution_count": 3,
      "outputs": []
    },
    {
      "cell_type": "code",
      "metadata": {
        "id": "6tW5vaW2DbX1"
      },
      "source": [
        "# import nltk; nltk.download('stopwords')\n",
        "from nltk.corpus import stopwords\n",
        "import numpy as np\n",
        "import pandas as pd\n",
        "import re\n",
        "import string\n",
        "import os\n",
        "import matplotlib.pyplot as plt\n",
        "import matplotlib\n",
        "from mpl_toolkits.mplot3d import Axes3D \n",
        "from collections import defaultdict\n",
        "from sklearn.model_selection import train_test_split\n",
        "\n",
        "# Gensim\n",
        "import gensim\n",
        "import gensim.corpora as corpora\n",
        "from gensim.utils import simple_preprocess\n",
        "from gensim.models import CoherenceModel\n",
        "from gensim import models\n",
        "from gensim.test.utils import datapath\n",
        "from gensim.test.utils import common_texts, get_tmpfile\n",
        "\n",
        "# spacy for lemmatization\n",
        "import spacy\n",
        "\n",
        "import os.path\n",
        "import numpy as np\n",
        "import tensorflow as tf\n",
        "import ktrain\n",
        "from ktrain import text\n",
        "from sklearn.manifold import TSNE\n",
        "# from transformers import BertTokenizer, TFBertModel\n",
        "# from bert_embedding import BertEmbedding\n",
        "# import matplotlib.cm as cm\n",
        "# import seaborn as sns\n",
        "# from PIL import Image\n",
        "# from wordcloud import WordCloud, STOPWORDS\n",
        "# from adjustText import adjust_text\n",
        "# # import umap\n",
        "# import umap.umap_ as umap\n",
        "# # import umap.plot"
      ],
      "execution_count": 5,
      "outputs": []
    },
    {
      "cell_type": "markdown",
      "metadata": {
        "id": "IU0yS_joDbX2"
      },
      "source": [
        "#### Import the dominant topics based on the chosen model"
      ]
    },
    {
      "cell_type": "code",
      "metadata": {
        "id": "PtML6ep3DbX2"
      },
      "source": [
        "mallet_lda_df = pd.read_pickle('lda_mallet_model/mallet_lda_df.pkl')\n",
        "df = pd.read_pickle('raw_data/netflix.pkl')\n",
        "df = pd.concat([mallet_lda_df.reset_index(drop=True), df.loc[:, ['star_rating', 'helpful_votes', 'total_votes', 'review']].reset_index(drop=True)], axis = 1)"
      ],
      "execution_count": 6,
      "outputs": []
    },
    {
      "cell_type": "markdown",
      "metadata": {
        "id": "c4E_g_qADbX3"
      },
      "source": [
        "#### Check the topic labels(which are to be the target variables)"
      ]
    },
    {
      "cell_type": "code",
      "metadata": {
        "id": "bSs_yRU-DbX4"
      },
      "source": [
        "topic_dict = {0.: \"Platform/Device\", 1.: \"User Experience\", 2.: \"Value\", 3.: \"Service\", 4.: \"Trouble-shooting\", 5.:\"Shows\"}"
      ],
      "execution_count": 7,
      "outputs": []
    },
    {
      "cell_type": "code",
      "metadata": {
        "id": "A8zqHAlJDbX4"
      },
      "source": [
        "representative_topics = df.groupby('Dominant_Topic').max().loc[:, \"Perc_Contribution\"]\n",
        "pairs = list(zip(representative_topics.index, representative_topics.values))\n",
        "representative_topics = df.loc[df.apply(lambda x: (x.Dominant_Topic, x.Perc_Contribution) in pairs, axis = 1),:].sort_values('Dominant_Topic')\n",
        "representative_topics.loc[:, 'Dominant_Topic'] = ['0. Platform/Device', '1. User', '2. Value', '3. Service', '4. Trouble-shooting', '5. Shows']\n",
        "representative_topics.loc[:, 'review'] = representative_topics.loc[:, 'review'].map(lambda x: x[:500])"
      ],
      "execution_count": 8,
      "outputs": []
    },
    {
      "cell_type": "code",
      "metadata": {
        "jupyter": {
          "outputs_hidden": true
        },
        "colab": {
          "base_uri": "https://localhost:8080/",
          "height": 897
        },
        "id": "JRxW-Tx4DbX4",
        "outputId": "029fa9c4-2445-45e5-d853-d7dc4960e6ae"
      },
      "source": [
        "representative_topics.style.set_properties(subset=['review'], **{'width': '400px'})"
      ],
      "execution_count": 9,
      "outputs": [
        {
          "output_type": "execute_result",
          "data": {
            "text/html": [
              "<style  type=\"text/css\" >\n",
              "#T_4aed4430_eae4_11eb_8079_0242ac1c0002row0_col7,#T_4aed4430_eae4_11eb_8079_0242ac1c0002row1_col7,#T_4aed4430_eae4_11eb_8079_0242ac1c0002row2_col7,#T_4aed4430_eae4_11eb_8079_0242ac1c0002row3_col7,#T_4aed4430_eae4_11eb_8079_0242ac1c0002row4_col7,#T_4aed4430_eae4_11eb_8079_0242ac1c0002row5_col7{\n",
              "            width:  400px;\n",
              "        }</style><table id=\"T_4aed4430_eae4_11eb_8079_0242ac1c0002\" ><thead>    <tr>        <th class=\"blank level0\" ></th>        <th class=\"col_heading level0 col0\" >Dominant_Topic</th>        <th class=\"col_heading level0 col1\" >Perc_Contribution</th>        <th class=\"col_heading level0 col2\" >Keywords</th>        <th class=\"col_heading level0 col3\" >Text</th>        <th class=\"col_heading level0 col4\" >star_rating</th>        <th class=\"col_heading level0 col5\" >helpful_votes</th>        <th class=\"col_heading level0 col6\" >total_votes</th>        <th class=\"col_heading level0 col7\" >review</th>    </tr></thead><tbody>\n",
              "                <tr>\n",
              "                        <th id=\"T_4aed4430_eae4_11eb_8079_0242ac1c0002level0_row0\" class=\"row_heading level0 row0\" >3633</th>\n",
              "                        <td id=\"T_4aed4430_eae4_11eb_8079_0242ac1c0002row0_col0\" class=\"data row0 col0\" >0. Platform/Device</td>\n",
              "                        <td id=\"T_4aed4430_eae4_11eb_8079_0242ac1c0002row0_col1\" class=\"data row0 col1\" >0.893600</td>\n",
              "                        <td id=\"T_4aed4430_eae4_11eb_8079_0242ac1c0002row0_col2\" class=\"data row0 col2\" >time, work, app, fire, love, phone, movie, tablet, download, kindle</td>\n",
              "                        <td id=\"T_4aed4430_eae4_11eb_8079_0242ac1c0002row0_col3\" class=\"data row0 col3\" >['people', 'internet', 'buffer', 'much_movie', 'like_good', 'app', 'movie', 'movie', 'couch', 'bed', 'want_watch', 'watch_movie', 'like_fact', 'sure_get', 'work', 'time', 'long_load', 'time', 'customer_year', 'kindle', 'pod', 'wifi', 'mcdonald']</td>\n",
              "                        <td id=\"T_4aed4430_eae4_11eb_8079_0242ac1c0002row0_col4\" class=\"data row0 col4\" >4</td>\n",
              "                        <td id=\"T_4aed4430_eae4_11eb_8079_0242ac1c0002row0_col5\" class=\"data row0 col5\" >2</td>\n",
              "                        <td id=\"T_4aed4430_eae4_11eb_8079_0242ac1c0002row0_col6\" class=\"data row0 col6\" >3</td>\n",
              "                        <td id=\"T_4aed4430_eae4_11eb_8079_0242ac1c0002row0_col7\" class=\"data row0 col7\" >very good I like this app overall but I don't like that their can only be two people on it at a time. It would be better if you could use it without Internet. Sometimes it takes a long to to load or buffer an it makes you shows blurry. There is not as much movies and shows that some other thing like netflix have. Netflix is very good app for sitting down with you family and watching a movie or being alone and watching a show or movie on the couch or even in your bed. Netflix has a lot of great m</td>\n",
              "            </tr>\n",
              "            <tr>\n",
              "                        <th id=\"T_4aed4430_eae4_11eb_8079_0242ac1c0002level0_row1\" class=\"row_heading level0 row1\" >10412</th>\n",
              "                        <td id=\"T_4aed4430_eae4_11eb_8079_0242ac1c0002row1_col0\" class=\"data row1 col0\" >1. User</td>\n",
              "                        <td id=\"T_4aed4430_eae4_11eb_8079_0242ac1c0002row1_col1\" class=\"data row1 col1\" >0.923200</td>\n",
              "                        <td id=\"T_4aed4430_eae4_11eb_8079_0242ac1c0002row1_col2\" class=\"data row1 col2\" >movie, kid, profile, account, selection, family, child, shows_movie, site, watch</td>\n",
              "                        <td id=\"T_4aed4430_eae4_11eb_8079_0242ac1c0002row1_col3\" class=\"data row1 col3\" >['content', 'availability', 'example', 'child', 'age', 'selection', 'child', 'family', 'content_time', 'kid', 'access', 'horror', 'wish', 'setting', 'viewing', 'genre', 'parent']</td>\n",
              "                        <td id=\"T_4aed4430_eae4_11eb_8079_0242ac1c0002row1_col4\" class=\"data row1 col4\" >4</td>\n",
              "                        <td id=\"T_4aed4430_eae4_11eb_8079_0242ac1c0002row1_col5\" class=\"data row1 col5\" >10</td>\n",
              "                        <td id=\"T_4aed4430_eae4_11eb_8079_0242ac1c0002row1_col6\" class=\"data row1 col6\" >12</td>\n",
              "                        <td id=\"T_4aed4430_eae4_11eb_8079_0242ac1c0002row1_col7\" class=\"data row1 col7\" >NETFLIX is great! I really enjoy using NETFLIX.  It is user-friendly, very convenient and inexpensive.<br /><br />The one thing I would change about NETFLIX is the content availability, for example, my children, ages 7 and 8 love to watch movies on NETFLIX and they do have a great selection of children/family content, but at the same time, my kids have access to R-rated, gay-lesbian, horror, etc.  I wish they had a setting which I could prevent them from viewing those genres.  For now, I just cl</td>\n",
              "            </tr>\n",
              "            <tr>\n",
              "                        <th id=\"T_4aed4430_eae4_11eb_8079_0242ac1c0002level0_row2\" class=\"row_heading level0 row2\" >6378</th>\n",
              "                        <td id=\"T_4aed4430_eae4_11eb_8079_0242ac1c0002row2_col0\" class=\"data row2 col0\" >2. Value</td>\n",
              "                        <td id=\"T_4aed4430_eae4_11eb_8079_0242ac1c0002row2_col1\" class=\"data row2 col1\" >0.923500</td>\n",
              "                        <td id=\"T_4aed4430_eae4_11eb_8079_0242ac1c0002row2_col2\" class=\"data row2 col2\" >movie, program, cable, tv, show, selection, love, service, year, choice</td>\n",
              "                        <td id=\"T_4aed4430_eae4_11eb_8079_0242ac1c0002row2_col3\" class=\"data row2 col3\" >['fee', 'considering', 'cost', 'movie_theater', 'ticket', 'bargain', 'amount', 'commercial', 'movie', 'closed_caption', 'home', 'br', 'drive', 'theater', 'long_line', 'could_ask']</td>\n",
              "                        <td id=\"T_4aed4430_eae4_11eb_8079_0242ac1c0002row2_col4\" class=\"data row2 col4\" >4</td>\n",
              "                        <td id=\"T_4aed4430_eae4_11eb_8079_0242ac1c0002row2_col5\" class=\"data row2 col5\" >1</td>\n",
              "                        <td id=\"T_4aed4430_eae4_11eb_8079_0242ac1c0002row2_col6\" class=\"data row2 col6\" >2</td>\n",
              "                        <td id=\"T_4aed4430_eae4_11eb_8079_0242ac1c0002row2_col7\" class=\"data row2 col7\" >It's worth the monthly fee! Considering the cost of a movie theater ticket, what a bargain!  I can enjoy a movie without a considerable amount of commercials,  if I am interruped, I can pause the movie and if I am hard of hearing, most movies have closed caption!  I can<br />even make my own popcorn at home!  I can also just stop the movie if it think it's something not of my liking, and start another!!<br />I don't have to drive to and from the theater, no long lines, etc. and if you happen to </td>\n",
              "            </tr>\n",
              "            <tr>\n",
              "                        <th id=\"T_4aed4430_eae4_11eb_8079_0242ac1c0002level0_row3\" class=\"row_heading level0 row3\" >6386</th>\n",
              "                        <td id=\"T_4aed4430_eae4_11eb_8079_0242ac1c0002row3_col0\" class=\"data row3 col0\" >3. Service</td>\n",
              "                        <td id=\"T_4aed4430_eae4_11eb_8079_0242ac1c0002row3_col1\" class=\"data row3 col1\" >0.943300</td>\n",
              "                        <td id=\"T_4aed4430_eae4_11eb_8079_0242ac1c0002row3_col2\" class=\"data row3 col2\" >service, streaming, time, product, year, price, customer, movie, film, option</td>\n",
              "                        <td id=\"T_4aed4430_eae4_11eb_8079_0242ac1c0002row3_col3\" class=\"data row3 col3\" >['app', 'arrogance', 'application', 'team', 'market', 'research', 'etc', 'film', 'matter', 'team', 'people', 'option', 'sheep', 'navigation', 'ring', 'option', 'amazon_prime', 'service', 'end', 'credit', 'oblivion', 'prompt']</td>\n",
              "                        <td id=\"T_4aed4430_eae4_11eb_8079_0242ac1c0002row3_col4\" class=\"data row3 col4\" >1</td>\n",
              "                        <td id=\"T_4aed4430_eae4_11eb_8079_0242ac1c0002row3_col5\" class=\"data row3 col5\" >21</td>\n",
              "                        <td id=\"T_4aed4430_eae4_11eb_8079_0242ac1c0002row3_col6\" class=\"data row3 col6\" >29</td>\n",
              "                        <td id=\"T_4aed4430_eae4_11eb_8079_0242ac1c0002row3_col7\" class=\"data row3 col7\" >Netflix and the Arrogant App The arrogance of this application is amazing.  I am sure some &#34;team&#34; thought they new enough, did enough market research, etc. to believe the credits to a film don't matter.  The &#34;team&#34; also apparently believes giving people fewer options is better because it's all just too advanced for us sheep to understand.  I now have to scroll more, hit the back button more, use the navigation ring on Fire TV remote more, and I don't enjoy Netflix as much as I us</td>\n",
              "            </tr>\n",
              "            <tr>\n",
              "                        <th id=\"T_4aed4430_eae4_11eb_8079_0242ac1c0002level0_row4\" class=\"row_heading level0 row4\" >11845</th>\n",
              "                        <td id=\"T_4aed4430_eae4_11eb_8079_0242ac1c0002row4_col0\" class=\"data row4 col0\" >4. Trouble-shooting</td>\n",
              "                        <td id=\"T_4aed4430_eae4_11eb_8079_0242ac1c0002row4_col1\" class=\"data row4 col1\" >0.934800</td>\n",
              "                        <td id=\"T_4aed4430_eae4_11eb_8079_0242ac1c0002row4_col2\" class=\"data row4 col2\" >app, video, problem, issue, update, time, device, fire, work, fix</td>\n",
              "                        <td id=\"T_4aed4430_eae4_11eb_8079_0242ac1c0002row4_col3\" class=\"data row4 col3\" >['browsing', 'bit', 'browsing', 'bit', 'guess', 'task', 'thread', 'background', 'developer', 'issue', 'priority', 'fix', 'experience', 'browsing', 'available_movie', 'second', 'drag', 'request', 'stuff']</td>\n",
              "                        <td id=\"T_4aed4430_eae4_11eb_8079_0242ac1c0002row4_col4\" class=\"data row4 col4\" >3</td>\n",
              "                        <td id=\"T_4aed4430_eae4_11eb_8079_0242ac1c0002row4_col5\" class=\"data row4 col5\" >0</td>\n",
              "                        <td id=\"T_4aed4430_eae4_11eb_8079_0242ac1c0002row4_col6\" class=\"data row4 col6\" >0</td>\n",
              "                        <td id=\"T_4aed4430_eae4_11eb_8079_0242ac1c0002row4_col7\" class=\"data row4 col7\" >good, browsing ui can be a bit too sluggish Streaming works fairly well. I've noticed that the browsing UI can be a bit sluggish.  My guess is that some tasks are being handled in the UI thread, which should actually be delegated to a background thread (I'm a professional developer). This issue should be a high priority fix -- it really detracts from the experience of browsing the available movies and shows, when the Netfix app takes seconds to respond to a drag request.  Also, this should have </td>\n",
              "            </tr>\n",
              "            <tr>\n",
              "                        <th id=\"T_4aed4430_eae4_11eb_8079_0242ac1c0002level0_row5\" class=\"row_heading level0 row5\" >9756</th>\n",
              "                        <td id=\"T_4aed4430_eae4_11eb_8079_0242ac1c0002row5_col0\" class=\"data row5 col0\" >5. Shows</td>\n",
              "                        <td id=\"T_4aed4430_eae4_11eb_8079_0242ac1c0002row5_col1\" class=\"data row5 col1\" >0.866700</td>\n",
              "                        <td id=\"T_4aed4430_eae4_11eb_8079_0242ac1c0002row5_col2\" class=\"data row5 col2\" >love, movie, tv_show, season, lot, watch, tv, watch_movie, love_great, month</td>\n",
              "                        <td id=\"T_4aed4430_eae4_11eb_8079_0242ac1c0002row5_col3\" class=\"data row5 col3\" >['everything_one', 'place', 'really_love', 'everything_one', 'place', 'mean', 'thing', 'tv', 'hulu']</td>\n",
              "                        <td id=\"T_4aed4430_eae4_11eb_8079_0242ac1c0002row5_col4\" class=\"data row5 col4\" >5</td>\n",
              "                        <td id=\"T_4aed4430_eae4_11eb_8079_0242ac1c0002row5_col5\" class=\"data row5 col5\" >0</td>\n",
              "                        <td id=\"T_4aed4430_eae4_11eb_8079_0242ac1c0002row5_col6\" class=\"data row5 col6\" >0</td>\n",
              "                        <td id=\"T_4aed4430_eae4_11eb_8079_0242ac1c0002row5_col7\" class=\"data row5 col7\" >Who really doesn't love netflix. It is everything in one place Who really doesn't love netflix. It is everything in one place. I mean they could have a few more things but if not there is project TV or hulu.</td>\n",
              "            </tr>\n",
              "    </tbody></table>"
            ],
            "text/plain": [
              "<pandas.io.formats.style.Styler at 0x7f7099300e90>"
            ]
          },
          "metadata": {
            "tags": []
          },
          "execution_count": 9
        }
      ]
    },
    {
      "cell_type": "markdown",
      "metadata": {
        "id": "-BKTKXNFDbX5"
      },
      "source": [
        "#### Start Modeling BERT\n",
        "#### Code from [ktrain](https://github.com/amaiya/ktrain/)\n",
        "Using the topic labels as the target label, use BERT to classify the unseen data, and compare the results with the LDA model's prediction on the unseen data to see which model classified the unseen review better.\n",
        "<br><br>\n",
        "[Hugging Face](https://github.com/huggingface/transformers) may be a common package to use."
      ]
    },
    {
      "cell_type": "markdown",
      "metadata": {
        "id": "YgRTLvKzDbX6"
      },
      "source": [
        "#### In the training set, exclude examples that have 1/6 chance in the dominant topic. Because that means the dominant topic is just as likely as the other five topics."
      ]
    },
    {
      "cell_type": "code",
      "metadata": {
        "colab": {
          "base_uri": "https://localhost:8080/",
          "height": 530
        },
        "id": "iOD2DmrxDbX6",
        "outputId": "682b248f-f199-494a-e834-13e808cbcbd9"
      },
      "source": [
        "mask = df.Perc_Contribution > 0.1667\n",
        "(x_train, y_train), (x_test, y_test), preproc = text.texts_from_df(df.loc[mask, ['review', 'Dominant_Topic']],\n",
        "                                                                   text_column = 'review',\n",
        "                                                                   label_columns = 'Dominant_Topic',\n",
        "                                                                   maxlen=512,\n",
        "                                                                   preprocess_mode='bert')"
      ],
      "execution_count": 10,
      "outputs": [
        {
          "output_type": "stream",
          "text": [
            "/usr/local/lib/python3.7/dist-packages/ktrain/utils.py:616: UserWarning: class_names implies classification but targets array contains float(s) instead of integers or strings\n",
            "  warnings.warn('class_names implies classification but targets array contains float(s) instead of integers or strings')\n",
            "/usr/local/lib/python3.7/dist-packages/ktrain/utils.py:616: UserWarning: class_names implies classification but targets array contains float(s) instead of integers or strings\n",
            "  warnings.warn('class_names implies classification but targets array contains float(s) instead of integers or strings')\n"
          ],
          "name": "stderr"
        },
        {
          "output_type": "stream",
          "text": [
            "['Dominant_Topic_0.0', 'Dominant_Topic_1.0', 'Dominant_Topic_2.0', 'Dominant_Topic_3.0', 'Dominant_Topic_4.0', 'Dominant_Topic_5.0']\n",
            "      Dominant_Topic_0.0  ...  Dominant_Topic_5.0\n",
            "1493                 0.0  ...                 0.0\n",
            "2044                 0.0  ...                 0.0\n",
            "6515                 0.0  ...                 1.0\n",
            "8346                 0.0  ...                 0.0\n",
            "2194                 0.0  ...                 0.0\n",
            "\n",
            "[5 rows x 6 columns]\n",
            "['Dominant_Topic_0.0', 'Dominant_Topic_1.0', 'Dominant_Topic_2.0', 'Dominant_Topic_3.0', 'Dominant_Topic_4.0', 'Dominant_Topic_5.0']\n",
            "       Dominant_Topic_0.0  ...  Dominant_Topic_5.0\n",
            "1635                  0.0  ...                 0.0\n",
            "11119                 0.0  ...                 0.0\n",
            "8730                  0.0  ...                 1.0\n",
            "12274                 0.0  ...                 1.0\n",
            "10588                 0.0  ...                 0.0\n",
            "\n",
            "[5 rows x 6 columns]\n",
            "preprocessing train...\n",
            "language: en\n"
          ],
          "name": "stdout"
        },
        {
          "output_type": "display_data",
          "data": {
            "text/html": [
              "done."
            ],
            "text/plain": [
              "<IPython.core.display.HTML object>"
            ]
          },
          "metadata": {
            "tags": []
          }
        },
        {
          "output_type": "stream",
          "text": [
            "Is Multi-Label? False\n",
            "preprocessing test...\n",
            "language: en\n"
          ],
          "name": "stdout"
        },
        {
          "output_type": "display_data",
          "data": {
            "text/html": [
              "done."
            ],
            "text/plain": [
              "<IPython.core.display.HTML object>"
            ]
          },
          "metadata": {
            "tags": []
          }
        }
      ]
    },
    {
      "cell_type": "code",
      "metadata": {
        "colab": {
          "base_uri": "https://localhost:8080/"
        },
        "id": "pEEm5MNcDbX7",
        "outputId": "935abf29-fd20-446d-821e-f71004681108"
      },
      "source": [
        "%%time\n",
        "model = text.text_classifier(name='bert',\n",
        "                             train_data=(x_train, y_train),\n",
        "                             preproc=preproc)"
      ],
      "execution_count": 11,
      "outputs": [
        {
          "output_type": "stream",
          "text": [
            "Is Multi-Label? False\n",
            "maxlen is 512\n",
            "done.\n",
            "CPU times: user 51.4 s, sys: 1.69 s, total: 53.1 s\n",
            "Wall time: 1min 2s\n"
          ],
          "name": "stdout"
        }
      ]
    },
    {
      "cell_type": "code",
      "metadata": {
        "colab": {
          "base_uri": "https://localhost:8080/"
        },
        "id": "yaWaWrrlDbX7",
        "outputId": "d71cd0ac-6d60-479b-bc12-dbf80a8d233f"
      },
      "source": [
        "%%time\n",
        "learner = ktrain.get_learner(model=model,\n",
        "                             train_data=(x_train, y_train),\n",
        "                             val_data=(x_test, y_test),\n",
        "                             batch_size=1)"
      ],
      "execution_count": 12,
      "outputs": [
        {
          "output_type": "stream",
          "text": [
            "CPU times: user 379 ms, sys: 479 ms, total: 858 ms\n",
            "Wall time: 1.29 s\n"
          ],
          "name": "stdout"
        }
      ]
    },
    {
      "cell_type": "code",
      "metadata": {
        "colab": {
          "base_uri": "https://localhost:8080/"
        },
        "id": "H05pgCdbDbX7",
        "outputId": "67d58bf0-068c-4fe7-d7de-78d8414f5770"
      },
      "source": [
        "%%time\n",
        "learner.fit_onecycle(lr=2e-5, epochs=1)"
      ],
      "execution_count": 13,
      "outputs": [
        {
          "output_type": "stream",
          "text": [
            "\n",
            "\n",
            "begin training using onecycle policy with max lr of 2e-05...\n",
            "9149/9149 [==============================] - 4679s 511ms/step - loss: 1.5420 - accuracy: 0.3818 - val_loss: 1.3246 - val_accuracy: 0.4838\n",
            "CPU times: user 1h 26min 51s, sys: 10min 59s, total: 1h 37min 51s\n",
            "Wall time: 1h 18min 23s\n"
          ],
          "name": "stdout"
        },
        {
          "output_type": "execute_result",
          "data": {
            "text/plain": [
              "<tensorflow.python.keras.callbacks.History at 0x7f705e64a110>"
            ]
          },
          "metadata": {
            "tags": []
          },
          "execution_count": 13
        }
      ]
    },
    {
      "cell_type": "code",
      "metadata": {
        "id": "eV7DuNkZDbX8"
      },
      "source": [
        "# %%time\n",
        "# learner.fit_onecycle(2e-5, 2)"
      ],
      "execution_count": 14,
      "outputs": []
    },
    {
      "cell_type": "code",
      "metadata": {
        "id": "3AfkIhwMDbX8"
      },
      "source": [
        "# %%time\n",
        "# learner.fit_onecycle(2e-5, 1)"
      ],
      "execution_count": 15,
      "outputs": []
    },
    {
      "cell_type": "code",
      "metadata": {
        "colab": {
          "base_uri": "https://localhost:8080/"
        },
        "id": "1hO8R_E_DbX9",
        "outputId": "5a7a9204-4b4d-4064-a55b-d4ce8e18fedc"
      },
      "source": [
        "%%time\n",
        "# save model and Preprocessor instance after partially training\n",
        "# ktrain.get_predictor(model, preproc).save('bert_model')\n",
        "ktrain.get_predictor(model, preproc).save('bert_model_v0271')"
      ],
      "execution_count": 16,
      "outputs": [
        {
          "output_type": "stream",
          "text": [
            "CPU times: user 1.41 s, sys: 2.08 s, total: 3.49 s\n",
            "Wall time: 5.39 s\n"
          ],
          "name": "stdout"
        }
      ]
    },
    {
      "cell_type": "code",
      "metadata": {
        "id": "ibZi-n_3ZalE"
      },
      "source": [
        "from google.colab import auth\n",
        "from googleapiclient.http import MediaFileUpload\n",
        "from googleapiclient.discovery import build\n",
        "\n",
        "auth.authenticate_user()"
      ],
      "execution_count": 21,
      "outputs": []
    },
    {
      "cell_type": "code",
      "metadata": {
        "id": "NFu_vnAGZc58"
      },
      "source": [
        "drive_service = build('drive', 'v3')\n",
        "\n",
        "def save_file_to_drive(name, path):\n",
        "  \n",
        "  file_metadata = {\n",
        "      'name': name,\n",
        "      'mimeType': 'application/octet-stream'\n",
        "      }\n",
        "  media = MediaFileUpload(path, mimetype='application/octet-stream', resumable=True)\n",
        "\n",
        "  created = drive_service.files().create(body=file_metadata,\n",
        "                                media_body=media,\n",
        "                                fields='id').execute()\n",
        "\n",
        "  print('File ID: {}'.format(created.get('id')))\n",
        "\n",
        "  return created\n"
      ],
      "execution_count": 25,
      "outputs": []
    },
    {
      "cell_type": "code",
      "metadata": {
        "id": "l1EsO_H7Zdyu",
        "outputId": "b908902e-a244-4c8e-a78c-202d1b37c503",
        "colab": {
          "base_uri": "https://localhost:8080/"
        }
      },
      "source": [
        "save_file_to_drive('/', '/content/bert_model_v0271/tf_model.h5')"
      ],
      "execution_count": 26,
      "outputs": [
        {
          "output_type": "stream",
          "text": [
            "File ID: 1sN4Fzy49nFbxrO4ivF9Y-b0fSbN_23Cd\n"
          ],
          "name": "stdout"
        },
        {
          "output_type": "execute_result",
          "data": {
            "text/plain": [
              "{'id': '1sN4Fzy49nFbxrO4ivF9Y-b0fSbN_23Cd'}"
            ]
          },
          "metadata": {
            "tags": []
          },
          "execution_count": 26
        }
      ]
    },
    {
      "cell_type": "code",
      "metadata": {
        "id": "t7ItJb_N-RzB"
      },
      "source": [
        "# %%time\n",
        "# learner.fit_onecycle(2e-5, 2)"
      ],
      "execution_count": null,
      "outputs": []
    },
    {
      "cell_type": "code",
      "metadata": {
        "id": "YlvMYAOm-SZG"
      },
      "source": [
        "# %%time\n",
        "# learner.fit_onecycle(2e-5, 1)"
      ],
      "execution_count": null,
      "outputs": []
    },
    {
      "cell_type": "code",
      "metadata": {
        "id": "VE0A8o6G-S2P"
      },
      "source": [
        ""
      ],
      "execution_count": null,
      "outputs": []
    },
    {
      "cell_type": "code",
      "metadata": {
        "colab": {
          "base_uri": "https://localhost:8080/"
        },
        "id": "s6KpcIemDbYE",
        "outputId": "e7568fbd-f596-4416-b9b6-1f9ba493a7e3"
      },
      "source": [
        "%%time\n",
        "# # reload Predictor and extract model\n",
        "model = ktrain.load_predictor('bert_model_v0271').model\n",
        "\n",
        "# # re-instantiate Learner and continue training\n",
        "# learner = ktrain.get_learner(model=model,\n",
        "#                              train_data=(x_train, y_train),\n",
        "#                              val_data=(x_test, y_test),\n",
        "#                              batch_size=1)\n",
        "# learner.fit_onecycle(2e-5, 1)"
      ],
      "execution_count": 27,
      "outputs": [
        {
          "output_type": "stream",
          "text": [
            "CPU times: user 7.95 s, sys: 1.13 s, total: 9.08 s\n",
            "Wall time: 8.7 s\n"
          ],
          "name": "stdout"
        }
      ]
    },
    {
      "cell_type": "code",
      "metadata": {
        "id": "ICsMaD56YS9u"
      },
      "source": [
        "%%time\n",
        "# save model and Preprocessor instance after partially training\n",
        "ktrain.get_predictor(model, preproc).save('bert_model_v0271_part2')"
      ],
      "execution_count": null,
      "outputs": []
    },
    {
      "cell_type": "code",
      "metadata": {
        "id": "2Abo930KZZaw"
      },
      "source": [
        ""
      ],
      "execution_count": null,
      "outputs": []
    },
    {
      "cell_type": "markdown",
      "metadata": {
        "id": "ao_KL6aeDbYI"
      },
      "source": [
        "### Predicting Topic with unseen text(validation set)"
      ]
    },
    {
      "cell_type": "code",
      "metadata": {
        "id": "OUsFij7XDbYQ"
      },
      "source": [
        "BERT_preds, BERT_proba = pd.read_pickle('prediction/BERT_preds.pkl'), pd.read_pickle('prediction/BERT_proba.pkl')\n",
        "LDA_preds, LDA_proba = pd.read_pickle('prediction/LDA_preds.pkl'), pd.read_pickle('prediction/LDA_proba.pkl')"
      ],
      "execution_count": 29,
      "outputs": []
    },
    {
      "cell_type": "code",
      "metadata": {
        "id": "PmoCiCE4a7jp"
      },
      "source": [
        "# BERT_preds\n",
        "# BERT_proba\n",
        "# LDA_preds\n",
        "# LDA_proba"
      ],
      "execution_count": null,
      "outputs": []
    },
    {
      "cell_type": "code",
      "metadata": {
        "id": "Y045We7SDbYR"
      },
      "source": [
        "# Import hold_out validation dataset\n",
        "df = pd.read_pickle('raw_data/netflix_val.pkl')\n",
        "reviews = df.review.values.tolist()"
      ],
      "execution_count": null,
      "outputs": []
    },
    {
      "cell_type": "code",
      "metadata": {
        "id": "LxlsAx4bDbYS"
      },
      "source": [
        "predictor = ktrain.get_predictor(learner.model, preproc)\n",
        "\n",
        "%time predicted_topics = predictor.predict(reviews)\n",
        "BERT_preds = [float(topic) for topic in predicted_topics]\n",
        "\n",
        "%time BERT_proba = predictor.predict_proba(reviews)"
      ],
      "execution_count": null,
      "outputs": []
    },
    {
      "cell_type": "code",
      "metadata": {
        "id": "QQltUmFXDbYS"
      },
      "source": [
        "# pd.to_pickle(BERT_preds, 'prediction/BERT_preds.pkl')\n",
        "# pd.to_pickle(BERT_proba, 'prediction/BERT_proba.pkl')"
      ],
      "execution_count": null,
      "outputs": []
    },
    {
      "cell_type": "markdown",
      "metadata": {
        "id": "sXgjgl7dDbYT"
      },
      "source": [
        "#### Compare with LDA model"
      ]
    },
    {
      "cell_type": "markdown",
      "metadata": {
        "id": "fpNScepBDbYU"
      },
      "source": [
        "Only 43% of the predicted labels are the same.."
      ]
    },
    {
      "cell_type": "code",
      "metadata": {
        "id": "yT5sFozYDbYU",
        "outputId": "723e4c71-f052-4f2f-85c4-8a3a4b915a1e",
        "colab": {
          "base_uri": "https://localhost:8080/"
        }
      },
      "source": [
        "mask = LDA_preds == np.array(BERT_preds)\n",
        "sum(mask) / len(BERT_preds)"
      ],
      "execution_count": 36,
      "outputs": [
        {
          "output_type": "execute_result",
          "data": {
            "text/plain": [
              "0.4322775744071303"
            ]
          },
          "metadata": {
            "tags": []
          },
          "execution_count": 36
        }
      ]
    },
    {
      "cell_type": "markdown",
      "metadata": {
        "id": "Kw5rbeU3DbYV"
      },
      "source": [
        "### Predicting Topic with ad-hoc text"
      ]
    },
    {
      "cell_type": "code",
      "metadata": {
        "id": "QSRbvsqKDbYV"
      },
      "source": [
        "new_text = \"I think I really like the app. Thanks for making this useful app.\""
      ],
      "execution_count": 37,
      "outputs": []
    },
    {
      "cell_type": "code",
      "metadata": {
        "id": "qEkApGUlDbYW"
      },
      "source": [
        "model = ktrain.load_predictor('bert_model').model\n",
        "preproc = ktrain.load_predictor('bert_model').preproc\n",
        "predictor = ktrain.get_predictor(model, preproc)"
      ],
      "execution_count": 39,
      "outputs": []
    },
    {
      "cell_type": "code",
      "metadata": {
        "id": "kdXWmxNkDbYW",
        "outputId": "742c639f-b15e-4aef-9b4d-15af77c5f217",
        "colab": {
          "base_uri": "https://localhost:8080/"
        }
      },
      "source": [
        "predictor.predict(new_text, return_proba=True)"
      ],
      "execution_count": 40,
      "outputs": [
        {
          "output_type": "execute_result",
          "data": {
            "text/plain": [
              "array([0.20511928, 0.13379347, 0.19580276, 0.16515256, 0.07823511,\n",
              "       0.2218969 ], dtype=float32)"
            ]
          },
          "metadata": {
            "tags": []
          },
          "execution_count": 40
        }
      ]
    },
    {
      "cell_type": "code",
      "metadata": {
        "id": "ONFLlPjZDbYW",
        "outputId": "45023be6-04ba-43af-98b9-20f3b29ca29b",
        "colab": {
          "base_uri": "https://localhost:8080/"
        }
      },
      "source": [
        "percentages = predictor.predict(new_text, return_proba=True)\n",
        "topics = [\"Platform/Device\", \"User Experience\", \"Value\", \"Service\", \"Trouble-shooting\", \"Shows\"]\n",
        "indices = np.argsort(percentages)[::-1]\n",
        "[topics[index] for index in indices]"
      ],
      "execution_count": 41,
      "outputs": [
        {
          "output_type": "execute_result",
          "data": {
            "text/plain": [
              "['Shows',\n",
              " 'Platform/Device',\n",
              " 'Value',\n",
              " 'Service',\n",
              " 'User Experience',\n",
              " 'Trouble-shooting']"
            ]
          },
          "metadata": {
            "tags": []
          },
          "execution_count": 41
        }
      ]
    },
    {
      "cell_type": "code",
      "metadata": {
        "id": "XUVma-4TDbYX",
        "outputId": "20e77847-d770-486a-bd75-710561df260c",
        "colab": {
          "base_uri": "https://localhost:8080/"
        }
      },
      "source": [
        "[100*np.round(percentages[index], 3) for index in indices]"
      ],
      "execution_count": 42,
      "outputs": [
        {
          "output_type": "execute_result",
          "data": {
            "text/plain": [
              "[22.200000286102295,\n",
              " 20.499999821186066,\n",
              " 19.599999487400055,\n",
              " 16.500000655651093,\n",
              " 13.40000033378601,\n",
              " 7.800000160932541]"
            ]
          },
          "metadata": {
            "tags": []
          },
          "execution_count": 42
        }
      ]
    },
    {
      "cell_type": "markdown",
      "metadata": {
        "id": "Esnu5tQyDbYX"
      },
      "source": [
        "### Plotting the word embeddings"
      ]
    },
    {
      "cell_type": "markdown",
      "metadata": {
        "id": "U4bJVWL_DbYX"
      },
      "source": [
        "There's 9149 documents with 512 dimensions for embedding in training set and 6283 documents with 512 dimensions for embedding in validation set."
      ]
    },
    {
      "cell_type": "markdown",
      "metadata": {
        "id": "V6k13tTpDbYX"
      },
      "source": [
        "### TSNE\n",
        "According to the [source code](https://github.com/amaiya/ktrain/blob/master/ktrain/text/preprocessor.py), BERTPreprocessor's preprocess function returns (preprocessed x, preprocessed y)"
      ]
    },
    {
      "cell_type": "code",
      "metadata": {
        "id": "dmNVV5uPDbYY",
        "outputId": "82434977-292d-4ad8-da84-557ea28bb4ab"
      },
      "source": [
        "preproc_val = preproc.preprocess(reviews)\n",
        "preprocessed_X = preproc_val[0]\n",
        "tsne = TSNE(n_components=3, random_state = 0)"
      ],
      "execution_count": null,
      "outputs": [
        {
          "output_type": "display_data",
          "data": {
            "text/html": [
              ""
            ],
            "text/plain": [
              "<IPython.core.display.HTML object>"
            ]
          },
          "metadata": {
            "tags": []
          }
        }
      ]
    },
    {
      "cell_type": "code",
      "metadata": {
        "id": "-b4IlzAjDbYo",
        "outputId": "dbbe1274-3019-4abf-c0a5-5363e6d6594f"
      },
      "source": [
        "%time tsne_3d_coordinates = tsne.fit_transform(preprocessed_X)"
      ],
      "execution_count": null,
      "outputs": [
        {
          "output_type": "stream",
          "text": [
            "CPU times: user 9min 17s, sys: 15.8 s, total: 9min 32s\n",
            "Wall time: 1min 36s\n"
          ],
          "name": "stdout"
        }
      ]
    },
    {
      "cell_type": "markdown",
      "metadata": {
        "id": "tnOFp_rRDbYo"
      },
      "source": [
        "#### Representative embeddings with 99.5% probability"
      ]
    },
    {
      "cell_type": "code",
      "metadata": {
        "id": "uDnO5NbqDbYp",
        "outputId": "84a14a86-67bd-46f6-8fd7-2e6d385ca710"
      },
      "source": [
        "print(BERT_proba.argmax(axis=0))\n",
        "print(BERT_proba.max(axis=0).round(5))\n",
        "# Platform/Device, User, Value, Service, Trouble-shooting, Shows"
      ],
      "execution_count": null,
      "outputs": [
        {
          "output_type": "stream",
          "text": [
            "[4297 1571  452 3311 2763    7]\n",
            "[0.99865 0.99931 0.99965 0.99992 0.99975 1.     ]\n"
          ],
          "name": "stdout"
        }
      ]
    },
    {
      "cell_type": "code",
      "metadata": {
        "id": "67XxA46qDbYp"
      },
      "source": [
        "df_reset_index = df.reset_index(drop=True)\n",
        "representative_reviews = df_reset_index.iloc[BERT_proba.argmax(axis=0), :]['review'].values"
      ],
      "execution_count": null,
      "outputs": []
    },
    {
      "cell_type": "markdown",
      "metadata": {
        "id": "f14xX7G0DbYp"
      },
      "source": [
        "### BERT visualization"
      ]
    },
    {
      "cell_type": "code",
      "metadata": {
        "id": "l-B417RfDbYq",
        "outputId": "35561136-2e61-4534-c75f-a5cf45c21979"
      },
      "source": [
        "total_indices = np.array(range(len(BERT_proba)))\n",
        "major_docs = total_indices[BERT_proba.max(axis=1) >= 0.99]\n",
        "x_coords, y_coords, z_coords = tsne_3d_coordinates[major_docs,0], tsne_3d_coordinates[major_docs,1], tsne_3d_coordinates[major_docs, 2]\n",
        "len(major_docs)"
      ],
      "execution_count": null,
      "outputs": [
        {
          "output_type": "execute_result",
          "data": {
            "text/plain": [
              "1176"
            ]
          },
          "metadata": {
            "tags": []
          },
          "execution_count": 29
        }
      ]
    },
    {
      "cell_type": "code",
      "metadata": {
        "id": "0c_JoUITDbYq",
        "outputId": "352b8927-52dc-4153-8a96-e1e89faa3503"
      },
      "source": [
        "fig = plt.figure(figsize=(10,10))\n",
        "ax = plt.axes(projection='3d')\n",
        "colors = ['green', 'lightpink', 'gray', 'dodgerblue', 'darkred', 'goldenrod']\n",
        "for label in [4, 1, 5]:\n",
        "    mask = np.array(BERT_preds)[major_docs] == label\n",
        "    ax.scatter3D(x_coords[mask], y_coords[mask], z_coords[mask], c=colors[label], label=topic_dict[label], alpha=.4, marker = 'o', s=200)\n",
        "\n",
        "# for label in [0, 2, 3]:\n",
        "#     mask = np.array(BERT_preds)[major_docs] == label\n",
        "#     ax.scatter3D(x_coords[mask], y_coords[mask], z_coords[mask], facecolor=(1,1,1,0), edgecolor=colors[label],alpha=1, label=topic_dict[label], marker = '^', s=10)\n",
        "\n",
        "ax.grid(False)\n",
        "ax.legend();\n",
        "# plt.savefig('images/{}'.format(\"bert_tsne\"), dpi=200, transparent=True, bbox_inches = \"tight\");"
      ],
      "execution_count": null,
      "outputs": [
        {
          "output_type": "display_data",
          "data": {
            "image/png": "[encoded data removed]",
            "text/plain": [
              "<Figure size 720x720 with 1 Axes>"
            ]
          },
          "metadata": {
            "tags": [],
            "needs_background": "light"
          }
        }
      ]
    },
    {
      "cell_type": "code",
      "metadata": {
        "id": "MifyS-BTDbYr",
        "outputId": "713a6e92-a9c5-49a5-8c54-6f2ee8b6f04b"
      },
      "source": [
        "print(matplotlib.colors.to_rgba(\"green\"), matplotlib.colors.cnames[\"lightpink\"], matplotlib.colors.cnames[\"gray\"],\n",
        "      matplotlib.colors.cnames[\"dodgerblue\"], matplotlib.colors.cnames[\"darkred\"], matplotlib.colors.cnames[\"goldenrod\"])"
      ],
      "execution_count": null,
      "outputs": [
        {
          "output_type": "stream",
          "text": [
            "(0.0, 0.5019607843137255, 0.0, 1.0) #FFB6C1 #808080 #1E90FF #8B0000 #DAA520\n"
          ],
          "name": "stdout"
        }
      ]
    },
    {
      "cell_type": "markdown",
      "metadata": {
        "id": "iHs3iN08DbYs"
      },
      "source": [
        "### Wordcloud"
      ]
    },
    {
      "cell_type": "code",
      "metadata": {
        "id": "JxsAS4ihDbYt"
      },
      "source": [
        "reviews_df = pd.concat([pd.Series(reviews), pd.Series(BERT_preds)], axis = 1)\n",
        "reviews_df.columns = ['review', 'pred']\n",
        "\n",
        "tokenizer = BertTokenizer.from_pretrained('bert-base-uncased')\n",
        "model = TFBertModel.from_pretrained('bert-base-uncased')\n",
        "\n",
        "tokenized_text = []\n",
        "for review in reviews_df.loc[:,'review']:\n",
        "    tokenized_text.append(tokenizer.tokenize(review))"
      ],
      "execution_count": null,
      "outputs": []
    },
    {
      "cell_type": "code",
      "metadata": {
        "id": "zfbCCRjmDbYx"
      },
      "source": [
        "def one_string(texts, boolean_mask):\n",
        "    thing = ' '.join([' '.join(item) for item in [row for row, boolean in zip(texts, boolean_mask) if boolean]])\n",
        "    thing = re.sub(r'[ ]{2,}', ' ', thing)\n",
        "    return re.sub(r'#', '', thing)\n",
        "\n",
        "def create_wordcloud(img_directory, id, contour_width=3, contour_color='green', background_color=\"white\"):\n",
        "    topic_ids = np.array(reviews_df.pred)\n",
        "    mask = np.array(Image.open(img_directory))\n",
        "    stop_words = set(stopwords.words('english')) | {'<','>',\"'\",'-','/',',','!','.','br','&',';','?',')','#','##s','##ing','le','ha','wa',\n",
        "                                                'would','great','watch','stars','netflix','app','like','tv','five','good','love','one','show','star', 'stars'\n",
        "                                                'shows','time','kind','movie','movies','##le','watching','want','get','really','could','four', 'also', 'to', 'it', 'even'}\n",
        "    # Removed words that appeared in all or most topics\n",
        "    wc = WordCloud(background_color=background_color, max_words=15, mask=mask, stopwords=stop_words,\n",
        "                   max_font_size=100, random_state=40, contour_width=contour_width, contour_color=contour_color)\n",
        "    wc.generate(one_string(tokenized_text, topic_ids == id))\n",
        "    return wc"
      ],
      "execution_count": null,
      "outputs": []
    },
    {
      "cell_type": "code",
      "metadata": {
        "id": "dQGJKMqsDbYx"
      },
      "source": [
        "# plt.figure(figsize=(10,6))\n",
        "# plt.title('Trouble-shooting(Video-related)', fontsize=20); plt.imshow(create_wordcloud('images/problem.png', 4,contour_color='darkred'), interpolation='spline36'); plt.axis(\"off\");\n",
        "# plt.savefig('images/{}'.format(\"bert_trouble\"), dpi=200, transparent=True, bbox_inches = \"tight\")\n",
        "# plt.figure(figsize=(10,6))\n",
        "# plt.title('User Experience', fontsize=20); plt.imshow(create_wordcloud('images/family.png', 1,contour_color='lightpink'), interpolation='spline36'); plt.axis(\"off\");\n",
        "# plt.savefig('images/{}'.format(\"bert_user\"), dpi=200, transparent=True, bbox_inches = \"tight\")\n",
        "# plt.figure(figsize=(10,6))\n",
        "# plt.title('Shows', fontsize=20); plt.imshow(create_wordcloud('images/show.png', 5,contour_color='goldenrod'), interpolation='spline36'); plt.axis(\"off\");\n",
        "# plt.savefig('images/{}'.format(\"bert_shows\"), dpi=200, transparent=True, bbox_inches = \"tight\")"
      ],
      "execution_count": null,
      "outputs": []
    },
    {
      "cell_type": "code",
      "metadata": {
        "id": "dxlS5EsJDbYy"
      },
      "source": [
        "fig, ax = plt.subplots(2, 3, figsize = (20, 10))\n",
        "ax[0,0].set_title('Platform/Device', fontsize=20); ax[0,0].imshow(create_wordcloud('images/android.png', 0), interpolation='spline36'); ax[0,0].axis(\"off\")\n",
        "ax[0,1].set_title('User Experience', fontsize=20); ax[0,1].imshow(create_wordcloud('images/family.png', 1,contour_color='lightpink'), interpolation='spline36'); ax[0,1].axis(\"off\")\n",
        "ax[0,2].set_title('Value', fontsize=20); ax[0,2].imshow(create_wordcloud('images/think.png', 2,contour_color='gray'), interpolation='spline36'); ax[0,2].axis(\"off\")\n",
        "ax[1,0].set_title('Service', fontsize=20); ax[1,0].imshow(create_wordcloud('images/service.png', 3,contour_color='dodgerblue'), interpolation='spline36'); ax[1,0].axis(\"off\")\n",
        "ax[1,1].set_title('Trouble-shooting(Video-related)', fontsize=20); ax[1,1].imshow(create_wordcloud('images/problem.png', 4,contour_color='darkred'), interpolation='spline36'); ax[1,1].axis(\"off\")\n",
        "ax[1,2].set_title('Shows', fontsize=20); ax[1,2].imshow(create_wordcloud('images/show.png', 5,contour_color='goldenrod'), interpolation='spline36'); ax[1,2].axis(\"off\");\n",
        "\n",
        "plt.savefig('images/{}'.format(\"bert_wordcloud\"), dpi=200, transparent=True, bbox_inches = \"tight\")"
      ],
      "execution_count": null,
      "outputs": []
    },
    {
      "cell_type": "markdown",
      "metadata": {
        "id": "vGnyaaviDbY0"
      },
      "source": [
        "#### Keywords and frequencies stored in a list of dictionaries \"frequencies_topics\""
      ]
    },
    {
      "cell_type": "code",
      "metadata": {
        "id": "GKbqlo2wDbY0"
      },
      "source": [
        "UPPER = 10\n",
        "stop_words = set(stopwords.words('english')) | {'<','>',\"'\",'-','/',',','!','.','br','&',';','?',')','#','##s','##ing','le','ha','wa',\n",
        "                                            'would','great','watch','stars','netflix','app','like','tv','five','good','love','one',\n",
        "                                            'shows','time','kind','movie','movies','##le','watching','want','get','really','could','four', 'also', 'to', 'it', 'even'}\n",
        "# Removed words that appeared in all or most topics\n",
        "\n",
        "frequencies_topics = [0]*6\n",
        "for topic_id in range(6):\n",
        "    frequencies = defaultdict(int)\n",
        "    for review in reviews_df.loc[reviews_df.pred == topic_id, 'review']:\n",
        "        for word in tokenizer.tokenize(review):\n",
        "            if word not in stop_words:\n",
        "                frequencies[word] += 1\n",
        "    keys = list(frequencies.keys())\n",
        "    frequent_indices = np.argsort(list(frequencies.values()))[::-1][:UPPER]\n",
        "    frequent_words = set(np.array(keys)[frequent_indices])\n",
        "    frequencies_topics[topic_id] = frequent_words\n",
        "    \n",
        "    print(f\"Topic: {topic_dict[topic_id]}\")\n",
        "    print(frequent_words,'\\n')"
      ],
      "execution_count": null,
      "outputs": []
    },
    {
      "cell_type": "markdown",
      "metadata": {
        "id": "mApDIfuPDbY1"
      },
      "source": [
        "### TSNE 3d plot"
      ]
    },
    {
      "cell_type": "code",
      "metadata": {
        "id": "v_vVqOFgDbY2"
      },
      "source": [
        "# # !pip uninstall umap\n",
        "# !pip uninstall umap-learn\n",
        "# !pip install umap-learn"
      ],
      "execution_count": null,
      "outputs": []
    },
    {
      "cell_type": "code",
      "metadata": {
        "id": "eLrJDHIEDbY2"
      },
      "source": [
        "import umap"
      ],
      "execution_count": null,
      "outputs": []
    },
    {
      "cell_type": "code",
      "metadata": {
        "id": "SgciGCC-DbY3"
      },
      "source": [
        "%time mapper3d = umap.UMAP(n_components=3, n_neighbors=7, random_state=0).fit(preprocessed_X)"
      ],
      "execution_count": null,
      "outputs": []
    },
    {
      "cell_type": "code",
      "metadata": {
        "id": "ONfZ8p5GDbY3",
        "outputId": "dd14049d-0f5c-44fd-cc6b-ab72bed843b8"
      },
      "source": [
        "fig = plt.figure(figsize=(10,10))\n",
        "ax = plt.axes(projection='3d')\n",
        "coords = mapper3d.embedding_\n",
        "x,y,z = coords[major_docs,0], coords[major_docs,1], coords[major_docs,2]\n",
        "colors = ['green', 'lightpink', 'gray', 'dodgerblue', 'darkred', 'goldenrod']\n",
        "for label in [4, 1, 5]:\n",
        "    mask = np.array(BERT_preds)[major_docs] == label\n",
        "    ax.scatter3D(x[mask],y[mask],z[mask], c=colors[label], label=topic_dict[label], alpha=.3, marker = 'o', s=100)\n",
        "\n",
        "# for label in [0, 2, 3]:\n",
        "#     mask = np.array(BERT_preds)[major_docs] == label\n",
        "#     ax.scatter3D(x[mask], y[mask], z[mask], facecolor=(1,1,1,0), edgecolor=colors[label],alpha=.5, label=topic_dict[label], marker = '.', s=100)\n",
        "ax.grid(False)\n",
        "ax.legend();"
      ],
      "execution_count": null,
      "outputs": [
        {
          "output_type": "error",
          "ename": "NameError",
          "evalue": "name 'mapper3d' is not defined",
          "traceback": [
            "\u001b[1;31m---------------------------------------------------------------------------\u001b[0m",
            "\u001b[1;31mNameError\u001b[0m                                 Traceback (most recent call last)",
            "\u001b[1;32m<ipython-input-25-f78c9def6524>\u001b[0m in \u001b[0;36m<module>\u001b[1;34m\u001b[0m\n\u001b[0;32m      1\u001b[0m \u001b[0mfig\u001b[0m \u001b[1;33m=\u001b[0m \u001b[0mplt\u001b[0m\u001b[1;33m.\u001b[0m\u001b[0mfigure\u001b[0m\u001b[1;33m(\u001b[0m\u001b[0mfigsize\u001b[0m\u001b[1;33m=\u001b[0m\u001b[1;33m(\u001b[0m\u001b[1;36m10\u001b[0m\u001b[1;33m,\u001b[0m\u001b[1;36m10\u001b[0m\u001b[1;33m)\u001b[0m\u001b[1;33m)\u001b[0m\u001b[1;33m\u001b[0m\u001b[1;33m\u001b[0m\u001b[0m\n\u001b[0;32m      2\u001b[0m \u001b[0max\u001b[0m \u001b[1;33m=\u001b[0m \u001b[0mplt\u001b[0m\u001b[1;33m.\u001b[0m\u001b[0maxes\u001b[0m\u001b[1;33m(\u001b[0m\u001b[0mprojection\u001b[0m\u001b[1;33m=\u001b[0m\u001b[1;34m'3d'\u001b[0m\u001b[1;33m)\u001b[0m\u001b[1;33m\u001b[0m\u001b[1;33m\u001b[0m\u001b[0m\n\u001b[1;32m----> 3\u001b[1;33m \u001b[0mcoords\u001b[0m \u001b[1;33m=\u001b[0m \u001b[0mmapper3d\u001b[0m\u001b[1;33m.\u001b[0m\u001b[0membedding_\u001b[0m\u001b[1;33m\u001b[0m\u001b[1;33m\u001b[0m\u001b[0m\n\u001b[0m\u001b[0;32m      4\u001b[0m \u001b[0mx\u001b[0m\u001b[1;33m,\u001b[0m\u001b[0my\u001b[0m\u001b[1;33m,\u001b[0m\u001b[0mz\u001b[0m \u001b[1;33m=\u001b[0m \u001b[0mcoords\u001b[0m\u001b[1;33m[\u001b[0m\u001b[0mmajor_docs\u001b[0m\u001b[1;33m,\u001b[0m\u001b[1;36m0\u001b[0m\u001b[1;33m]\u001b[0m\u001b[1;33m,\u001b[0m \u001b[0mcoords\u001b[0m\u001b[1;33m[\u001b[0m\u001b[0mmajor_docs\u001b[0m\u001b[1;33m,\u001b[0m\u001b[1;36m1\u001b[0m\u001b[1;33m]\u001b[0m\u001b[1;33m,\u001b[0m \u001b[0mcoords\u001b[0m\u001b[1;33m[\u001b[0m\u001b[0mmajor_docs\u001b[0m\u001b[1;33m,\u001b[0m\u001b[1;36m2\u001b[0m\u001b[1;33m]\u001b[0m\u001b[1;33m\u001b[0m\u001b[1;33m\u001b[0m\u001b[0m\n\u001b[0;32m      5\u001b[0m \u001b[0mcolors\u001b[0m \u001b[1;33m=\u001b[0m \u001b[1;33m[\u001b[0m\u001b[1;34m'green'\u001b[0m\u001b[1;33m,\u001b[0m \u001b[1;34m'lightpink'\u001b[0m\u001b[1;33m,\u001b[0m \u001b[1;34m'gray'\u001b[0m\u001b[1;33m,\u001b[0m \u001b[1;34m'dodgerblue'\u001b[0m\u001b[1;33m,\u001b[0m \u001b[1;34m'darkred'\u001b[0m\u001b[1;33m,\u001b[0m \u001b[1;34m'goldenrod'\u001b[0m\u001b[1;33m]\u001b[0m\u001b[1;33m\u001b[0m\u001b[1;33m\u001b[0m\u001b[0m\n",
            "\u001b[1;31mNameError\u001b[0m: name 'mapper3d' is not defined"
          ]
        },
        {
          "output_type": "display_data",
          "data": {
            "image/png": "[encoded data removed]",
            "text/plain": [
              "<Figure size 720x720 with 1 Axes>"
            ]
          },
          "metadata": {
            "tags": [],
            "needs_background": "light"
          }
        }
      ]
    },
    {
      "cell_type": "markdown",
      "metadata": {
        "id": "4kIeRjwVDbY5"
      },
      "source": [
        "### TSNE 2d plot"
      ]
    },
    {
      "cell_type": "code",
      "metadata": {
        "id": "XR9-Z0qPDbY6",
        "outputId": "2ec74958-4799-41af-dd47-691de8e84c97"
      },
      "source": [
        "%time mapper2d = umap.UMAP(n_components=2, n_neighbors=9, random_state=0).fit(preprocessed_X)"
      ],
      "execution_count": null,
      "outputs": [
        {
          "output_type": "error",
          "ename": "AttributeError",
          "evalue": "module 'umap' has no attribute 'UMAP'",
          "traceback": [
            "\u001b[1;31m---------------------------------------------------------------------------\u001b[0m",
            "\u001b[1;31mAttributeError\u001b[0m                            Traceback (most recent call last)",
            "\u001b[1;32m<timed exec>\u001b[0m in \u001b[0;36m<module>\u001b[1;34m\u001b[0m\n",
            "\u001b[1;31mAttributeError\u001b[0m: module 'umap' has no attribute 'UMAP'"
          ]
        }
      ]
    },
    {
      "cell_type": "code",
      "metadata": {
        "id": "nudQtnvhDbY6"
      },
      "source": [
        "coords = mapper2d.embedding_\n",
        "x,y = coords[major_docs,0], coords[major_docs,1]"
      ],
      "execution_count": null,
      "outputs": []
    },
    {
      "cell_type": "code",
      "metadata": {
        "id": "D2jXBr46DbY7"
      },
      "source": [
        "topics_to_plot = [1,4,5]\n",
        "indices = np.arange(len(preprocessed_X))[np.array([True if label in topics_to_plot else False for label in BERT_preds])]\n",
        "major_docs_indices = list(set(major_docs).intersection(set(indices)))"
      ],
      "execution_count": null,
      "outputs": []
    },
    {
      "cell_type": "code",
      "metadata": {
        "id": "k2KGpGqNDbY7"
      },
      "source": [
        "coords = mapper2d.embedding_\n",
        "# indices = predicted_proba.argmax(axis=0)\n",
        "x_coords, y_coords = coords[major_docs_indices,0], coords[major_docs_indices,1]\n",
        "plt.figure(figsize=(12, 6))\n",
        "# plt.scatter(x_coords, y_coords, marker='.', alpha=0.8, c=np.array(predicted_topics)[major_docs], cmap='viridis', hue = )\n",
        "# plt.legend();\n",
        "sns.scatterplot(x=x_coords, y=y_coords, hue=[topic_dict[topic_id] for topic_id in np.array(BERT_preds)[major_docs_indices]], alpha=0.6, s=100, marker='o')\n",
        "plt.show()\n",
        "# for label, x, y in zip(['Platform/Device', 'User', 'Value', 'Service', 'Trouble-shooting', 'Shows'], x_coords, y_coords):\n",
        "#     plt.annotate(label, xy=(x, y), xytext=(0, 0), textcoords='offset points');"
      ],
      "execution_count": null,
      "outputs": []
    },
    {
      "cell_type": "markdown",
      "metadata": {
        "id": "KxAE5v3sDbY8"
      },
      "source": [
        "### BERT word embeddings 2d visualization with UMAP"
      ]
    },
    {
      "cell_type": "code",
      "metadata": {
        "id": "9_Lwb3S1DbY8"
      },
      "source": [
        "embeddings = pd.read_pickle('bert_model/embeddings.pkl')\n",
        "# bert_embedding = BertEmbedding()\n",
        "# %time embeddings = bert_embedding(reviews)"
      ],
      "execution_count": null,
      "outputs": []
    },
    {
      "cell_type": "code",
      "metadata": {
        "id": "-Oty0zI_DbY9"
      },
      "source": [
        "BERT = pd.concat([pd.Series(BERT_preds), pd.Series(BERT_proba.max(axis=1))],axis=1)\n",
        "BERT.columns = ['label', 'proba']\n",
        "\n",
        "representative_docs, representative_docs_umap, tokens_per_doc = [], [], []\n",
        "\n",
        "token_stopwords = set(stopwords.words('english')) | {\"'\",'.', \",\", \"would\", \"goes\", \"2\", '-', 'five', 'stars'}\n",
        "tsne = TSNE(n_components=2, random_state = 0)\n",
        "\n",
        "for i in range(6):\n",
        "    BERT_ = BERT.loc[BERT.label==i,:]\n",
        "    representative_docs.append(BERT_.index[np.argmax(BERT_.proba)])# Most representative documents per topic\n",
        "    tokens, embeds = embeddings[representative_docs[i]][0], embeddings[representative_docs[i]][1]\n",
        "    indices = [i for (i, token) in enumerate(np.array(tokens)) if token not in token_stopwords]# Remove the stopwords from each topic\n",
        "    clean_tokens = [tokens[i] for i in indices]\n",
        "    \n",
        "    tokens_per_doc.append(clean_tokens)    \n",
        "    try:# Try UMAP first, and if it throws an error, try TSNE\n",
        "        mapper2d = umap.UMAP(n_components=2, n_neighbors=2, random_state=1).fit(np.array([embeds[i] for i in indices]))\n",
        "        representative_docs_umap.append(mapper2d.embedding_)\n",
        "    except:\n",
        "        representative_docs_umap.append(tsne.fit_transform(np.array([embeds[i] for i in indices])))"
      ],
      "execution_count": null,
      "outputs": []
    },
    {
      "cell_type": "code",
      "metadata": {
        "id": "4vQW3AZ2DbZD"
      },
      "source": [
        "ax = plt.figure(figsize=(10,10))\n",
        "colors = ['green', 'lightpink', 'gray', 'dodgerblue', 'darkred', 'goldenrod']\n",
        "for label in range(6):\n",
        "    word_embeddings = representative_docs_umap[label]\n",
        "    tokens = tokens_per_doc[label]\n",
        "    x, y = word_embeddings[:, 0], word_embeddings[:, 1]\n",
        "    plt.scatter(x, y, c=colors[label], label=topic_dict[label], alpha=0.6, marker = 'o', s=200);\n",
        "    texts = [plt.text(x[i], y[i], tokens[i], ha='center', va='center') for i in range(len(x))]\n",
        "    adjust_text(texts, avoid_points = False, expand_text = (1.05, 4.5))\n",
        "ax.legend(loc=6)\n",
        "ax.savefig('images/{}'.format(\"bert_cluster\"), dpi=200, transparent=True, bbox_inches = \"tight\");"
      ],
      "execution_count": null,
      "outputs": []
    },
    {
      "cell_type": "code",
      "metadata": {
        "id": "-dLvToimDbZD",
        "outputId": "a0a005ea-ce21-4df7-98d4-2ae486fb29e3",
        "colab": {
          "base_uri": "https://localhost:8080/"
        }
      },
      "source": [
        "!pip list"
      ],
      "execution_count": 43,
      "outputs": [
        {
          "output_type": "stream",
          "text": [
            "Package                          Version\n",
            "-------------------------------- -------------------\n",
            "absl-py                          0.12.0\n",
            "adjustText                       0.7.3\n",
            "alabaster                        0.7.12\n",
            "albumentations                   0.1.12\n",
            "altair                           4.1.0\n",
            "appdirs                          1.4.4\n",
            "argon2-cffi                      20.1.0\n",
            "arviz                            0.11.2\n",
            "astor                            0.8.1\n",
            "astropy                          4.2.1\n",
            "astunparse                       1.6.3\n",
            "async-generator                  1.10\n",
            "atari-py                         0.2.9\n",
            "atomicwrites                     1.4.0\n",
            "attrs                            21.2.0\n",
            "audioread                        2.1.9\n",
            "autograd                         1.3\n",
            "Babel                            2.9.1\n",
            "backcall                         0.2.0\n",
            "beautifulsoup4                   4.6.3\n",
            "bleach                           3.3.0\n",
            "blis                             0.4.1\n",
            "bokeh                            2.3.3\n",
            "Bottleneck                       1.3.2\n",
            "branca                           0.4.2\n",
            "bs4                              0.0.1\n",
            "CacheControl                     0.12.6\n",
            "cached-property                  1.5.2\n",
            "cachetools                       4.2.2\n",
            "catalogue                        1.0.0\n",
            "cchardet                         2.1.7\n",
            "certifi                          2021.5.30\n",
            "cffi                             1.14.6\n",
            "cftime                           1.5.0\n",
            "chardet                          3.0.4\n",
            "charset-normalizer               2.0.2\n",
            "click                            7.1.2\n",
            "cloudpickle                      1.3.0\n",
            "cmake                            3.12.0\n",
            "cmdstanpy                        0.9.5\n",
            "colorcet                         2.0.6\n",
            "colorlover                       0.3.0\n",
            "community                        1.0.0b1\n",
            "contextlib2                      0.5.5\n",
            "convertdate                      2.3.2\n",
            "coverage                         3.7.1\n",
            "coveralls                        0.5\n",
            "crcmod                           1.7\n",
            "cufflinks                        0.17.3\n",
            "cupy-cuda101                     9.1.0\n",
            "cvxopt                           1.2.6\n",
            "cvxpy                            1.0.31\n",
            "cycler                           0.10.0\n",
            "cymem                            2.0.5\n",
            "Cython                           0.29.23\n",
            "daft                             0.0.4\n",
            "dask                             2.12.0\n",
            "datascience                      0.10.6\n",
            "debugpy                          1.0.0\n",
            "decorator                        4.4.2\n",
            "defusedxml                       0.7.1\n",
            "descartes                        1.1.0\n",
            "dill                             0.3.4\n",
            "distributed                      1.25.3\n",
            "dlib                             19.18.0\n",
            "dm-tree                          0.1.6\n",
            "docopt                           0.6.2\n",
            "docutils                         0.17.1\n",
            "dopamine-rl                      1.0.5\n",
            "earthengine-api                  0.1.272\n",
            "easydict                         1.9\n",
            "ecos                             2.0.7.post1\n",
            "editdistance                     0.5.3\n",
            "en-core-web-sm                   2.2.5\n",
            "entrypoints                      0.3\n",
            "ephem                            4.0.0.2\n",
            "et-xmlfile                       1.1.0\n",
            "fa2                              0.3.5\n",
            "fastai                           1.0.61\n",
            "fastdtw                          0.3.4\n",
            "fastprogress                     1.0.0\n",
            "fastrlock                        0.6\n",
            "fbprophet                        0.7.1\n",
            "feather-format                   0.4.1\n",
            "filelock                         3.0.12\n",
            "firebase-admin                   4.4.0\n",
            "fix-yahoo-finance                0.0.22\n",
            "Flask                            1.1.4\n",
            "flatbuffers                      1.12\n",
            "folium                           0.8.3\n",
            "funcy                            1.16\n",
            "future                           0.16.0\n",
            "gast                             0.3.3\n",
            "GDAL                             2.2.2\n",
            "gdown                            3.6.4\n",
            "gensim                           3.8.3\n",
            "geographiclib                    1.52\n",
            "geopy                            1.17.0\n",
            "gin-config                       0.4.0\n",
            "glob2                            0.7\n",
            "google                           2.0.3\n",
            "google-api-core                  1.26.3\n",
            "google-api-python-client         1.12.8\n",
            "google-auth                      1.32.1\n",
            "google-auth-httplib2             0.0.4\n",
            "google-auth-oauthlib             0.4.4\n",
            "google-cloud-bigquery            1.21.0\n",
            "google-cloud-bigquery-storage    1.1.0\n",
            "google-cloud-core                1.0.3\n",
            "google-cloud-datastore           1.8.0\n",
            "google-cloud-firestore           1.7.0\n",
            "google-cloud-language            1.2.0\n",
            "google-cloud-storage             1.18.1\n",
            "google-cloud-translate           1.5.0\n",
            "google-colab                     1.0.0\n",
            "google-pasta                     0.2.0\n",
            "google-resumable-media           0.4.1\n",
            "googleapis-common-protos         1.53.0\n",
            "googledrivedownloader            0.4\n",
            "graphviz                         0.10.1\n",
            "greenlet                         1.1.0\n",
            "grpcio                           1.34.1\n",
            "gspread                          3.0.1\n",
            "gspread-dataframe                3.0.8\n",
            "gym                              0.17.3\n",
            "h5py                             2.10.0\n",
            "HeapDict                         1.0.1\n",
            "hijri-converter                  2.1.3\n",
            "holidays                         0.10.5.2\n",
            "holoviews                        1.14.4\n",
            "html5lib                         1.0.1\n",
            "httpimport                       0.5.18\n",
            "httplib2                         0.17.4\n",
            "httplib2shim                     0.0.3\n",
            "huggingface-hub                  0.0.12\n",
            "humanize                         0.5.1\n",
            "hyperopt                         0.1.2\n",
            "ideep4py                         2.0.0.post3\n",
            "idna                             2.10\n",
            "imageio                          2.4.1\n",
            "imagesize                        1.2.0\n",
            "imbalanced-learn                 0.4.3\n",
            "imblearn                         0.0\n",
            "imgaug                           0.2.9\n",
            "importlib-metadata               4.6.1\n",
            "importlib-resources              5.2.0\n",
            "imutils                          0.5.4\n",
            "inflect                          2.1.0\n",
            "iniconfig                        1.1.1\n",
            "install                          1.3.4\n",
            "intel-openmp                     2021.3.0\n",
            "intervaltree                     2.1.0\n",
            "ipykernel                        4.10.1\n",
            "ipython                          5.5.0\n",
            "ipython-genutils                 0.2.0\n",
            "ipython-sql                      0.3.9\n",
            "ipywidgets                       7.6.3\n",
            "itsdangerous                     1.1.0\n",
            "jax                              0.2.17\n",
            "jaxlib                           0.1.69+cuda110\n",
            "jdcal                            1.4.1\n",
            "jedi                             0.18.0\n",
            "jieba                            0.42.1\n",
            "Jinja2                           2.11.3\n",
            "joblib                           1.0.1\n",
            "jpeg4py                          0.1.4\n",
            "jsonschema                       2.6.0\n",
            "jupyter                          1.0.0\n",
            "jupyter-client                   5.3.5\n",
            "jupyter-console                  5.2.0\n",
            "jupyter-core                     4.7.1\n",
            "jupyterlab-pygments              0.1.2\n",
            "jupyterlab-widgets               1.0.0\n",
            "kaggle                           1.5.12\n",
            "kapre                            0.3.5\n",
            "Keras                            2.4.3\n",
            "Keras-Applications               1.0.8\n",
            "keras-bert                       0.88.0\n",
            "keras-embed-sim                  0.9.0\n",
            "keras-layer-normalization        0.15.0\n",
            "keras-multi-head                 0.28.0\n",
            "keras-nightly                    2.5.0.dev2021032900\n",
            "keras-pos-embd                   0.12.0\n",
            "keras-position-wise-feed-forward 0.7.0\n",
            "Keras-Preprocessing              1.1.2\n",
            "keras-self-attention             0.50.0\n",
            "keras-transformer                0.39.0\n",
            "keras-vis                        0.4.1\n",
            "kiwisolver                       1.3.1\n",
            "korean-lunar-calendar            0.2.1\n",
            "ktrain                           0.27.1\n",
            "langdetect                       1.0.9\n",
            "librosa                          0.8.1\n",
            "lightgbm                         2.2.3\n",
            "llvmlite                         0.34.0\n",
            "lmdb                             0.99\n",
            "LunarCalendar                    0.0.9\n",
            "lxml                             4.2.6\n",
            "Markdown                         3.3.4\n",
            "MarkupSafe                       2.0.1\n",
            "matplotlib                       3.2.2\n",
            "matplotlib-inline                0.1.2\n",
            "matplotlib-venn                  0.11.6\n",
            "missingno                        0.5.0\n",
            "mistune                          0.8.4\n",
            "mizani                           0.6.0\n",
            "mkl                              2019.0\n",
            "mlxtend                          0.14.0\n",
            "more-itertools                   8.8.0\n",
            "moviepy                          0.2.3.5\n",
            "mpmath                           1.2.1\n",
            "msgpack                          1.0.2\n",
            "multiprocess                     0.70.12.2\n",
            "multitasking                     0.0.9\n",
            "murmurhash                       1.0.5\n",
            "music21                          5.5.0\n",
            "natsort                          5.5.0\n",
            "nbclient                         0.5.3\n",
            "nbconvert                        5.6.1\n",
            "nbformat                         5.1.3\n",
            "nest-asyncio                     1.5.1\n",
            "netCDF4                          1.5.7\n",
            "networkx                         2.3\n",
            "nibabel                          3.0.2\n",
            "nltk                             3.6.2\n",
            "notebook                         5.3.1\n",
            "numba                            0.51.2\n",
            "numexpr                          2.7.3\n",
            "numpy                            1.19.2\n",
            "nvidia-ml-py3                    7.352.0\n",
            "oauth2client                     4.1.3\n",
            "oauthlib                         3.1.1\n",
            "okgrade                          0.4.3\n",
            "opencv-contrib-python            4.1.2.30\n",
            "opencv-python                    4.1.2.30\n",
            "openpyxl                         2.5.9\n",
            "opt-einsum                       3.3.0\n",
            "osqp                             0.6.2.post0\n",
            "packaging                        21.0\n",
            "palettable                       3.3.0\n",
            "pandas                           1.1.0\n",
            "pandas-datareader                0.9.0\n",
            "pandas-gbq                       0.13.3\n",
            "pandas-profiling                 1.4.1\n",
            "pandocfilters                    1.4.3\n",
            "panel                            0.11.3\n",
            "param                            1.11.1\n",
            "parso                            0.8.2\n",
            "pathlib                          1.0.1\n",
            "patsy                            0.5.1\n",
            "pexpect                          4.8.0\n",
            "pickleshare                      0.7.5\n",
            "Pillow                           7.1.2\n",
            "pip                              21.1.3\n",
            "pip-tools                        4.5.1\n",
            "plac                             1.1.3\n",
            "plotly                           4.4.1\n",
            "plotnine                         0.6.0\n",
            "pluggy                           0.7.1\n",
            "pooch                            1.4.0\n",
            "portpicker                       1.3.9\n",
            "prefetch-generator               1.0.1\n",
            "preshed                          3.0.5\n",
            "prettytable                      2.1.0\n",
            "progressbar2                     3.38.0\n",
            "prometheus-client                0.11.0\n",
            "promise                          2.3\n",
            "prompt-toolkit                   1.0.18\n",
            "protobuf                         3.17.3\n",
            "psutil                           5.4.8\n",
            "psycopg2                         2.7.6.1\n",
            "ptyprocess                       0.7.0\n",
            "py                               1.10.0\n",
            "pyarrow                          3.0.0\n",
            "pyasn1                           0.4.8\n",
            "pyasn1-modules                   0.2.8\n",
            "pycocotools                      2.0.2\n",
            "pycparser                        2.20\n",
            "pyct                             0.4.8\n",
            "pydata-google-auth               1.2.0\n",
            "pydot                            1.3.0\n",
            "pydot-ng                         2.0.0\n",
            "pydotplus                        2.0.2\n",
            "PyDrive                          1.3.1\n",
            "pyemd                            0.5.1\n",
            "pyerfa                           2.0.0\n",
            "pyglet                           1.5.0\n",
            "Pygments                         2.6.1\n",
            "pygobject                        3.26.1\n",
            "pyLDAvis                         3.2.2\n",
            "pymc3                            3.11.2\n",
            "PyMeeus                          0.5.11\n",
            "pymongo                          3.11.4\n",
            "pymystem3                        0.2.0\n",
            "PyOpenGL                         3.1.5\n",
            "pyparsing                        2.4.7\n",
            "pyrsistent                       0.18.0\n",
            "pysndfile                        1.3.8\n",
            "PySocks                          1.7.1\n",
            "pystan                           2.19.1.1\n",
            "pytest                           3.6.4\n",
            "python-apt                       0.0.0\n",
            "python-chess                     0.23.11\n",
            "python-dateutil                  2.8.1\n",
            "python-louvain                   0.15\n",
            "python-slugify                   5.0.2\n",
            "python-utils                     2.5.6\n",
            "pytz                             2018.9\n",
            "pyviz-comms                      2.1.0\n",
            "PyWavelets                       1.1.1\n",
            "PyYAML                           5.4.1\n",
            "pyzmq                            22.1.0\n",
            "qdldl                            0.1.5.post0\n",
            "qtconsole                        5.1.1\n",
            "QtPy                             1.9.0\n",
            "regex                            2021.4.4\n",
            "requests                         2.23.0\n",
            "requests-oauthlib                1.3.0\n",
            "resampy                          0.2.2\n",
            "retrying                         1.3.3\n",
            "rpy2                             3.4.5\n",
            "rsa                              4.7.2\n",
            "sacremoses                       0.0.45\n",
            "scikit-image                     0.16.2\n",
            "scikit-learn                     0.23.2\n",
            "scipy                            1.4.1\n",
            "screen-resolution-extra          0.0.0\n",
            "scs                              2.1.4\n",
            "seaborn                          0.11.1\n",
            "semver                           2.13.0\n",
            "Send2Trash                       1.7.1\n",
            "sentencepiece                    0.1.96\n",
            "seqeval                          0.0.19\n",
            "setuptools                       57.2.0\n",
            "setuptools-git                   1.2\n",
            "Shapely                          1.7.1\n",
            "simplegeneric                    0.8.1\n",
            "six                              1.15.0\n",
            "sklearn                          0.0\n",
            "sklearn-pandas                   1.8.0\n",
            "smart-open                       5.1.0\n",
            "snowballstemmer                  2.1.0\n",
            "sortedcontainers                 2.4.0\n",
            "SoundFile                        0.10.3.post1\n",
            "spacy                            2.3.5\n",
            "Sphinx                           1.8.5\n",
            "sphinxcontrib-serializinghtml    1.1.5\n",
            "sphinxcontrib-websupport         1.2.4\n",
            "SQLAlchemy                       1.4.20\n",
            "sqlparse                         0.4.1\n",
            "srsly                            1.0.5\n",
            "statsmodels                      0.10.2\n",
            "sympy                            1.7.1\n",
            "syntok                           1.3.1\n",
            "tables                           3.4.4\n",
            "tabulate                         0.8.9\n",
            "tblib                            1.7.0\n",
            "tensorboard                      2.2.2\n",
            "tensorboard-data-server          0.6.1\n",
            "tensorboard-plugin-wit           1.8.0\n",
            "tensorflow                       2.2.0\n",
            "tensorflow-datasets              4.0.1\n",
            "tensorflow-estimator             2.2.0\n",
            "tensorflow-gcs-config            2.5.0\n",
            "tensorflow-hub                   0.12.0\n",
            "tensorflow-metadata              1.1.0\n",
            "tensorflow-probability           0.13.0\n",
            "termcolor                        1.1.0\n",
            "terminado                        0.10.1\n",
            "testpath                         0.5.0\n",
            "text-unidecode                   1.3\n",
            "textblob                         0.15.3\n",
            "Theano-PyMC                      1.1.2\n",
            "thinc                            7.4.5\n",
            "threadpoolctl                    2.2.0\n",
            "tifffile                         2021.7.2\n",
            "tokenizers                       0.10.3\n",
            "toml                             0.10.2\n",
            "toolz                            0.11.1\n",
            "torch                            1.9.0+cu102\n",
            "torchsummary                     1.5.1\n",
            "torchtext                        0.10.0\n",
            "torchvision                      0.10.0+cu102\n",
            "tornado                          5.1.1\n",
            "tqdm                             4.41.1\n",
            "traitlets                        5.0.5\n",
            "transformers                     4.3.3\n",
            "tweepy                           3.10.0\n",
            "typeguard                        2.7.1\n",
            "typing-extensions                3.7.4.3\n",
            "tzlocal                          1.5.1\n",
            "uritemplate                      3.0.1\n",
            "urllib3                          1.24.3\n",
            "vega-datasets                    0.9.0\n",
            "wasabi                           0.8.2\n",
            "wcwidth                          0.2.5\n",
            "webencodings                     0.5.1\n",
            "Werkzeug                         1.0.1\n",
            "wheel                            0.36.2\n",
            "Whoosh                           2.7.4\n",
            "widgetsnbextension               3.5.1\n",
            "wordcloud                        1.8.1\n",
            "wrapt                            1.12.1\n",
            "xarray                           0.18.2\n",
            "xgboost                          0.90\n",
            "xkit                             0.0.0\n",
            "xlrd                             1.1.0\n",
            "xlwt                             1.3.0\n",
            "yellowbrick                      0.9.1\n",
            "zict                             2.0.0\n",
            "zipp                             3.5.0\n"
          ],
          "name": "stdout"
        }
      ]
    }
  ]
}