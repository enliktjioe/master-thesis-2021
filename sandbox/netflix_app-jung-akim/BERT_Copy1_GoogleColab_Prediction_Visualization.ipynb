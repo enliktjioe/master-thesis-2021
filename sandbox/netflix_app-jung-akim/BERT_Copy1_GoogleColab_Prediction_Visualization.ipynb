{
  "nbformat": 4,
  "nbformat_minor": 0,
  "metadata": {
    "accelerator": "GPU",
    "colab": {
      "name": "BERT-Copy1-GoogleColab-Prediction.ipynb",
      "provenance": [],
      "collapsed_sections": [
        "tnOFp_rRDbYo"
      ]
    },
    "kernelspec": {
      "display_name": "Python 3 (ipykernel)",
      "language": "python",
      "name": "python3"
    },
    "language_info": {
      "codemirror_mode": {
        "name": "ipython",
        "version": 3
      },
      "file_extension": ".py",
      "mimetype": "text/x-python",
      "name": "python",
      "nbconvert_exporter": "python",
      "pygments_lexer": "ipython3",
      "version": "3.8.5"
    },
    "toc": {
      "base_numbering": 1,
      "nav_menu": {},
      "number_sections": true,
      "sideBar": true,
      "skip_h1_title": false,
      "title_cell": "Table of Contents",
      "title_sidebar": "Contents",
      "toc_cell": false,
      "toc_position": {},
      "toc_section_display": true,
      "toc_window_display": false
    },
    "widgets": {
      "application/vnd.jupyter.widget-state+json": {
        "18489340048f4ef2858788bc526b3704": {
          "model_module": "@jupyter-widgets/controls",
          "model_name": "HBoxModel",
          "state": {
            "_view_name": "HBoxView",
            "_dom_classes": [],
            "_model_name": "HBoxModel",
            "_view_module": "@jupyter-widgets/controls",
            "_model_module_version": "1.5.0",
            "_view_count": null,
            "_view_module_version": "1.5.0",
            "box_style": "",
            "layout": "IPY_MODEL_a59cc519a524424c97f9e9e525ea9e92",
            "_model_module": "@jupyter-widgets/controls",
            "children": [
              "IPY_MODEL_01b0ba59446b4d74a4215bb10db91fdf",
              "IPY_MODEL_013488bc027747969a469086f947e023"
            ]
          }
        },
        "a59cc519a524424c97f9e9e525ea9e92": {
          "model_module": "@jupyter-widgets/base",
          "model_name": "LayoutModel",
          "state": {
            "_view_name": "LayoutView",
            "grid_template_rows": null,
            "right": null,
            "justify_content": null,
            "_view_module": "@jupyter-widgets/base",
            "overflow": null,
            "_model_module_version": "1.2.0",
            "_view_count": null,
            "flex_flow": null,
            "width": null,
            "min_width": null,
            "border": null,
            "align_items": null,
            "bottom": null,
            "_model_module": "@jupyter-widgets/base",
            "top": null,
            "grid_column": null,
            "overflow_y": null,
            "overflow_x": null,
            "grid_auto_flow": null,
            "grid_area": null,
            "grid_template_columns": null,
            "flex": null,
            "_model_name": "LayoutModel",
            "justify_items": null,
            "grid_row": null,
            "max_height": null,
            "align_content": null,
            "visibility": null,
            "align_self": null,
            "height": null,
            "min_height": null,
            "padding": null,
            "grid_auto_rows": null,
            "grid_gap": null,
            "max_width": null,
            "order": null,
            "_view_module_version": "1.2.0",
            "grid_template_areas": null,
            "object_position": null,
            "object_fit": null,
            "grid_auto_columns": null,
            "margin": null,
            "display": null,
            "left": null
          }
        },
        "01b0ba59446b4d74a4215bb10db91fdf": {
          "model_module": "@jupyter-widgets/controls",
          "model_name": "FloatProgressModel",
          "state": {
            "_view_name": "ProgressView",
            "style": "IPY_MODEL_b381e61a89c94182ab9f470c4b704e00",
            "_dom_classes": [],
            "description": "Downloading: 100%",
            "_model_name": "FloatProgressModel",
            "bar_style": "success",
            "max": 231508,
            "_view_module": "@jupyter-widgets/controls",
            "_model_module_version": "1.5.0",
            "value": 231508,
            "_view_count": null,
            "_view_module_version": "1.5.0",
            "orientation": "horizontal",
            "min": 0,
            "description_tooltip": null,
            "_model_module": "@jupyter-widgets/controls",
            "layout": "IPY_MODEL_b623b4e7682b4f63a345d3547636f5de"
          }
        },
        "013488bc027747969a469086f947e023": {
          "model_module": "@jupyter-widgets/controls",
          "model_name": "HTMLModel",
          "state": {
            "_view_name": "HTMLView",
            "style": "IPY_MODEL_e6b136b354af470f938ac9ebc5101ac5",
            "_dom_classes": [],
            "description": "",
            "_model_name": "HTMLModel",
            "placeholder": "​",
            "_view_module": "@jupyter-widgets/controls",
            "_model_module_version": "1.5.0",
            "value": " 232k/232k [00:00&lt;00:00, 1.44MB/s]",
            "_view_count": null,
            "_view_module_version": "1.5.0",
            "description_tooltip": null,
            "_model_module": "@jupyter-widgets/controls",
            "layout": "IPY_MODEL_c56d5917c4b1435686534a818a914a04"
          }
        },
        "b381e61a89c94182ab9f470c4b704e00": {
          "model_module": "@jupyter-widgets/controls",
          "model_name": "ProgressStyleModel",
          "state": {
            "_view_name": "StyleView",
            "_model_name": "ProgressStyleModel",
            "description_width": "initial",
            "_view_module": "@jupyter-widgets/base",
            "_model_module_version": "1.5.0",
            "_view_count": null,
            "_view_module_version": "1.2.0",
            "bar_color": null,
            "_model_module": "@jupyter-widgets/controls"
          }
        },
        "b623b4e7682b4f63a345d3547636f5de": {
          "model_module": "@jupyter-widgets/base",
          "model_name": "LayoutModel",
          "state": {
            "_view_name": "LayoutView",
            "grid_template_rows": null,
            "right": null,
            "justify_content": null,
            "_view_module": "@jupyter-widgets/base",
            "overflow": null,
            "_model_module_version": "1.2.0",
            "_view_count": null,
            "flex_flow": null,
            "width": null,
            "min_width": null,
            "border": null,
            "align_items": null,
            "bottom": null,
            "_model_module": "@jupyter-widgets/base",
            "top": null,
            "grid_column": null,
            "overflow_y": null,
            "overflow_x": null,
            "grid_auto_flow": null,
            "grid_area": null,
            "grid_template_columns": null,
            "flex": null,
            "_model_name": "LayoutModel",
            "justify_items": null,
            "grid_row": null,
            "max_height": null,
            "align_content": null,
            "visibility": null,
            "align_self": null,
            "height": null,
            "min_height": null,
            "padding": null,
            "grid_auto_rows": null,
            "grid_gap": null,
            "max_width": null,
            "order": null,
            "_view_module_version": "1.2.0",
            "grid_template_areas": null,
            "object_position": null,
            "object_fit": null,
            "grid_auto_columns": null,
            "margin": null,
            "display": null,
            "left": null
          }
        },
        "e6b136b354af470f938ac9ebc5101ac5": {
          "model_module": "@jupyter-widgets/controls",
          "model_name": "DescriptionStyleModel",
          "state": {
            "_view_name": "StyleView",
            "_model_name": "DescriptionStyleModel",
            "description_width": "",
            "_view_module": "@jupyter-widgets/base",
            "_model_module_version": "1.5.0",
            "_view_count": null,
            "_view_module_version": "1.2.0",
            "_model_module": "@jupyter-widgets/controls"
          }
        },
        "c56d5917c4b1435686534a818a914a04": {
          "model_module": "@jupyter-widgets/base",
          "model_name": "LayoutModel",
          "state": {
            "_view_name": "LayoutView",
            "grid_template_rows": null,
            "right": null,
            "justify_content": null,
            "_view_module": "@jupyter-widgets/base",
            "overflow": null,
            "_model_module_version": "1.2.0",
            "_view_count": null,
            "flex_flow": null,
            "width": null,
            "min_width": null,
            "border": null,
            "align_items": null,
            "bottom": null,
            "_model_module": "@jupyter-widgets/base",
            "top": null,
            "grid_column": null,
            "overflow_y": null,
            "overflow_x": null,
            "grid_auto_flow": null,
            "grid_area": null,
            "grid_template_columns": null,
            "flex": null,
            "_model_name": "LayoutModel",
            "justify_items": null,
            "grid_row": null,
            "max_height": null,
            "align_content": null,
            "visibility": null,
            "align_self": null,
            "height": null,
            "min_height": null,
            "padding": null,
            "grid_auto_rows": null,
            "grid_gap": null,
            "max_width": null,
            "order": null,
            "_view_module_version": "1.2.0",
            "grid_template_areas": null,
            "object_position": null,
            "object_fit": null,
            "grid_auto_columns": null,
            "margin": null,
            "display": null,
            "left": null
          }
        },
        "36380a2a2bc6466389af80e17d2e0163": {
          "model_module": "@jupyter-widgets/controls",
          "model_name": "HBoxModel",
          "state": {
            "_view_name": "HBoxView",
            "_dom_classes": [],
            "_model_name": "HBoxModel",
            "_view_module": "@jupyter-widgets/controls",
            "_model_module_version": "1.5.0",
            "_view_count": null,
            "_view_module_version": "1.5.0",
            "box_style": "",
            "layout": "IPY_MODEL_f2c293afa408455b93a63787d9c664b0",
            "_model_module": "@jupyter-widgets/controls",
            "children": [
              "IPY_MODEL_949d68c8398c4f03aee51c4cce6a9ffb",
              "IPY_MODEL_a652dfc7b028459caeb24af89f2fe497"
            ]
          }
        },
        "f2c293afa408455b93a63787d9c664b0": {
          "model_module": "@jupyter-widgets/base",
          "model_name": "LayoutModel",
          "state": {
            "_view_name": "LayoutView",
            "grid_template_rows": null,
            "right": null,
            "justify_content": null,
            "_view_module": "@jupyter-widgets/base",
            "overflow": null,
            "_model_module_version": "1.2.0",
            "_view_count": null,
            "flex_flow": null,
            "width": null,
            "min_width": null,
            "border": null,
            "align_items": null,
            "bottom": null,
            "_model_module": "@jupyter-widgets/base",
            "top": null,
            "grid_column": null,
            "overflow_y": null,
            "overflow_x": null,
            "grid_auto_flow": null,
            "grid_area": null,
            "grid_template_columns": null,
            "flex": null,
            "_model_name": "LayoutModel",
            "justify_items": null,
            "grid_row": null,
            "max_height": null,
            "align_content": null,
            "visibility": null,
            "align_self": null,
            "height": null,
            "min_height": null,
            "padding": null,
            "grid_auto_rows": null,
            "grid_gap": null,
            "max_width": null,
            "order": null,
            "_view_module_version": "1.2.0",
            "grid_template_areas": null,
            "object_position": null,
            "object_fit": null,
            "grid_auto_columns": null,
            "margin": null,
            "display": null,
            "left": null
          }
        },
        "949d68c8398c4f03aee51c4cce6a9ffb": {
          "model_module": "@jupyter-widgets/controls",
          "model_name": "FloatProgressModel",
          "state": {
            "_view_name": "ProgressView",
            "style": "IPY_MODEL_7c44f79fc05742dba4457f35b29ea576",
            "_dom_classes": [],
            "description": "Downloading: 100%",
            "_model_name": "FloatProgressModel",
            "bar_style": "success",
            "max": 570,
            "_view_module": "@jupyter-widgets/controls",
            "_model_module_version": "1.5.0",
            "value": 570,
            "_view_count": null,
            "_view_module_version": "1.5.0",
            "orientation": "horizontal",
            "min": 0,
            "description_tooltip": null,
            "_model_module": "@jupyter-widgets/controls",
            "layout": "IPY_MODEL_7007665f8c2e4cfebff1a28392a36cd7"
          }
        },
        "a652dfc7b028459caeb24af89f2fe497": {
          "model_module": "@jupyter-widgets/controls",
          "model_name": "HTMLModel",
          "state": {
            "_view_name": "HTMLView",
            "style": "IPY_MODEL_424a44616fe540c68dd6f8808551f507",
            "_dom_classes": [],
            "description": "",
            "_model_name": "HTMLModel",
            "placeholder": "​",
            "_view_module": "@jupyter-widgets/controls",
            "_model_module_version": "1.5.0",
            "value": " 570/570 [00:00&lt;00:00, 946B/s]",
            "_view_count": null,
            "_view_module_version": "1.5.0",
            "description_tooltip": null,
            "_model_module": "@jupyter-widgets/controls",
            "layout": "IPY_MODEL_44467606cd4d4d699e45477291e15a5d"
          }
        },
        "7c44f79fc05742dba4457f35b29ea576": {
          "model_module": "@jupyter-widgets/controls",
          "model_name": "ProgressStyleModel",
          "state": {
            "_view_name": "StyleView",
            "_model_name": "ProgressStyleModel",
            "description_width": "initial",
            "_view_module": "@jupyter-widgets/base",
            "_model_module_version": "1.5.0",
            "_view_count": null,
            "_view_module_version": "1.2.0",
            "bar_color": null,
            "_model_module": "@jupyter-widgets/controls"
          }
        },
        "7007665f8c2e4cfebff1a28392a36cd7": {
          "model_module": "@jupyter-widgets/base",
          "model_name": "LayoutModel",
          "state": {
            "_view_name": "LayoutView",
            "grid_template_rows": null,
            "right": null,
            "justify_content": null,
            "_view_module": "@jupyter-widgets/base",
            "overflow": null,
            "_model_module_version": "1.2.0",
            "_view_count": null,
            "flex_flow": null,
            "width": null,
            "min_width": null,
            "border": null,
            "align_items": null,
            "bottom": null,
            "_model_module": "@jupyter-widgets/base",
            "top": null,
            "grid_column": null,
            "overflow_y": null,
            "overflow_x": null,
            "grid_auto_flow": null,
            "grid_area": null,
            "grid_template_columns": null,
            "flex": null,
            "_model_name": "LayoutModel",
            "justify_items": null,
            "grid_row": null,
            "max_height": null,
            "align_content": null,
            "visibility": null,
            "align_self": null,
            "height": null,
            "min_height": null,
            "padding": null,
            "grid_auto_rows": null,
            "grid_gap": null,
            "max_width": null,
            "order": null,
            "_view_module_version": "1.2.0",
            "grid_template_areas": null,
            "object_position": null,
            "object_fit": null,
            "grid_auto_columns": null,
            "margin": null,
            "display": null,
            "left": null
          }
        },
        "424a44616fe540c68dd6f8808551f507": {
          "model_module": "@jupyter-widgets/controls",
          "model_name": "DescriptionStyleModel",
          "state": {
            "_view_name": "StyleView",
            "_model_name": "DescriptionStyleModel",
            "description_width": "",
            "_view_module": "@jupyter-widgets/base",
            "_model_module_version": "1.5.0",
            "_view_count": null,
            "_view_module_version": "1.2.0",
            "_model_module": "@jupyter-widgets/controls"
          }
        },
        "44467606cd4d4d699e45477291e15a5d": {
          "model_module": "@jupyter-widgets/base",
          "model_name": "LayoutModel",
          "state": {
            "_view_name": "LayoutView",
            "grid_template_rows": null,
            "right": null,
            "justify_content": null,
            "_view_module": "@jupyter-widgets/base",
            "overflow": null,
            "_model_module_version": "1.2.0",
            "_view_count": null,
            "flex_flow": null,
            "width": null,
            "min_width": null,
            "border": null,
            "align_items": null,
            "bottom": null,
            "_model_module": "@jupyter-widgets/base",
            "top": null,
            "grid_column": null,
            "overflow_y": null,
            "overflow_x": null,
            "grid_auto_flow": null,
            "grid_area": null,
            "grid_template_columns": null,
            "flex": null,
            "_model_name": "LayoutModel",
            "justify_items": null,
            "grid_row": null,
            "max_height": null,
            "align_content": null,
            "visibility": null,
            "align_self": null,
            "height": null,
            "min_height": null,
            "padding": null,
            "grid_auto_rows": null,
            "grid_gap": null,
            "max_width": null,
            "order": null,
            "_view_module_version": "1.2.0",
            "grid_template_areas": null,
            "object_position": null,
            "object_fit": null,
            "grid_auto_columns": null,
            "margin": null,
            "display": null,
            "left": null
          }
        },
        "6f2dccd4966745848145f8c30143695c": {
          "model_module": "@jupyter-widgets/controls",
          "model_name": "HBoxModel",
          "state": {
            "_view_name": "HBoxView",
            "_dom_classes": [],
            "_model_name": "HBoxModel",
            "_view_module": "@jupyter-widgets/controls",
            "_model_module_version": "1.5.0",
            "_view_count": null,
            "_view_module_version": "1.5.0",
            "box_style": "",
            "layout": "IPY_MODEL_f0b23c0c266547da99839432141c833c",
            "_model_module": "@jupyter-widgets/controls",
            "children": [
              "IPY_MODEL_5854aa5050414ac097480ceabab39858",
              "IPY_MODEL_f1023ed61cd645ffac7bb4b622688153"
            ]
          }
        },
        "f0b23c0c266547da99839432141c833c": {
          "model_module": "@jupyter-widgets/base",
          "model_name": "LayoutModel",
          "state": {
            "_view_name": "LayoutView",
            "grid_template_rows": null,
            "right": null,
            "justify_content": null,
            "_view_module": "@jupyter-widgets/base",
            "overflow": null,
            "_model_module_version": "1.2.0",
            "_view_count": null,
            "flex_flow": null,
            "width": null,
            "min_width": null,
            "border": null,
            "align_items": null,
            "bottom": null,
            "_model_module": "@jupyter-widgets/base",
            "top": null,
            "grid_column": null,
            "overflow_y": null,
            "overflow_x": null,
            "grid_auto_flow": null,
            "grid_area": null,
            "grid_template_columns": null,
            "flex": null,
            "_model_name": "LayoutModel",
            "justify_items": null,
            "grid_row": null,
            "max_height": null,
            "align_content": null,
            "visibility": null,
            "align_self": null,
            "height": null,
            "min_height": null,
            "padding": null,
            "grid_auto_rows": null,
            "grid_gap": null,
            "max_width": null,
            "order": null,
            "_view_module_version": "1.2.0",
            "grid_template_areas": null,
            "object_position": null,
            "object_fit": null,
            "grid_auto_columns": null,
            "margin": null,
            "display": null,
            "left": null
          }
        },
        "5854aa5050414ac097480ceabab39858": {
          "model_module": "@jupyter-widgets/controls",
          "model_name": "FloatProgressModel",
          "state": {
            "_view_name": "ProgressView",
            "style": "IPY_MODEL_5ad87b87e5af4adfbb0a1abb33261de9",
            "_dom_classes": [],
            "description": "Downloading: 100%",
            "_model_name": "FloatProgressModel",
            "bar_style": "success",
            "max": 536063208,
            "_view_module": "@jupyter-widgets/controls",
            "_model_module_version": "1.5.0",
            "value": 536063208,
            "_view_count": null,
            "_view_module_version": "1.5.0",
            "orientation": "horizontal",
            "min": 0,
            "description_tooltip": null,
            "_model_module": "@jupyter-widgets/controls",
            "layout": "IPY_MODEL_68633dc12e3146cba1e3b7ca7bc770e4"
          }
        },
        "f1023ed61cd645ffac7bb4b622688153": {
          "model_module": "@jupyter-widgets/controls",
          "model_name": "HTMLModel",
          "state": {
            "_view_name": "HTMLView",
            "style": "IPY_MODEL_89b824aa45124d21ba3ddccf795ab376",
            "_dom_classes": [],
            "description": "",
            "_model_name": "HTMLModel",
            "placeholder": "​",
            "_view_module": "@jupyter-widgets/controls",
            "_model_module_version": "1.5.0",
            "value": " 536M/536M [00:10&lt;00:00, 49.2MB/s]",
            "_view_count": null,
            "_view_module_version": "1.5.0",
            "description_tooltip": null,
            "_model_module": "@jupyter-widgets/controls",
            "layout": "IPY_MODEL_83ba49fe9f6a40169fe38881bc55ef5a"
          }
        },
        "5ad87b87e5af4adfbb0a1abb33261de9": {
          "model_module": "@jupyter-widgets/controls",
          "model_name": "ProgressStyleModel",
          "state": {
            "_view_name": "StyleView",
            "_model_name": "ProgressStyleModel",
            "description_width": "initial",
            "_view_module": "@jupyter-widgets/base",
            "_model_module_version": "1.5.0",
            "_view_count": null,
            "_view_module_version": "1.2.0",
            "bar_color": null,
            "_model_module": "@jupyter-widgets/controls"
          }
        },
        "68633dc12e3146cba1e3b7ca7bc770e4": {
          "model_module": "@jupyter-widgets/base",
          "model_name": "LayoutModel",
          "state": {
            "_view_name": "LayoutView",
            "grid_template_rows": null,
            "right": null,
            "justify_content": null,
            "_view_module": "@jupyter-widgets/base",
            "overflow": null,
            "_model_module_version": "1.2.0",
            "_view_count": null,
            "flex_flow": null,
            "width": null,
            "min_width": null,
            "border": null,
            "align_items": null,
            "bottom": null,
            "_model_module": "@jupyter-widgets/base",
            "top": null,
            "grid_column": null,
            "overflow_y": null,
            "overflow_x": null,
            "grid_auto_flow": null,
            "grid_area": null,
            "grid_template_columns": null,
            "flex": null,
            "_model_name": "LayoutModel",
            "justify_items": null,
            "grid_row": null,
            "max_height": null,
            "align_content": null,
            "visibility": null,
            "align_self": null,
            "height": null,
            "min_height": null,
            "padding": null,
            "grid_auto_rows": null,
            "grid_gap": null,
            "max_width": null,
            "order": null,
            "_view_module_version": "1.2.0",
            "grid_template_areas": null,
            "object_position": null,
            "object_fit": null,
            "grid_auto_columns": null,
            "margin": null,
            "display": null,
            "left": null
          }
        },
        "89b824aa45124d21ba3ddccf795ab376": {
          "model_module": "@jupyter-widgets/controls",
          "model_name": "DescriptionStyleModel",
          "state": {
            "_view_name": "StyleView",
            "_model_name": "DescriptionStyleModel",
            "description_width": "",
            "_view_module": "@jupyter-widgets/base",
            "_model_module_version": "1.5.0",
            "_view_count": null,
            "_view_module_version": "1.2.0",
            "_model_module": "@jupyter-widgets/controls"
          }
        },
        "83ba49fe9f6a40169fe38881bc55ef5a": {
          "model_module": "@jupyter-widgets/base",
          "model_name": "LayoutModel",
          "state": {
            "_view_name": "LayoutView",
            "grid_template_rows": null,
            "right": null,
            "justify_content": null,
            "_view_module": "@jupyter-widgets/base",
            "overflow": null,
            "_model_module_version": "1.2.0",
            "_view_count": null,
            "flex_flow": null,
            "width": null,
            "min_width": null,
            "border": null,
            "align_items": null,
            "bottom": null,
            "_model_module": "@jupyter-widgets/base",
            "top": null,
            "grid_column": null,
            "overflow_y": null,
            "overflow_x": null,
            "grid_auto_flow": null,
            "grid_area": null,
            "grid_template_columns": null,
            "flex": null,
            "_model_name": "LayoutModel",
            "justify_items": null,
            "grid_row": null,
            "max_height": null,
            "align_content": null,
            "visibility": null,
            "align_self": null,
            "height": null,
            "min_height": null,
            "padding": null,
            "grid_auto_rows": null,
            "grid_gap": null,
            "max_width": null,
            "order": null,
            "_view_module_version": "1.2.0",
            "grid_template_areas": null,
            "object_position": null,
            "object_fit": null,
            "grid_auto_columns": null,
            "margin": null,
            "display": null,
            "left": null
          }
        }
      }
    }
  },
  "cells": [
    {
      "cell_type": "markdown",
      "metadata": {
        "id": "XyzrkSwzDbXz"
      },
      "source": [
        "#### Import modules"
      ]
    },
    {
      "cell_type": "code",
      "metadata": {
        "id": "V7mYIxAdDp5z"
      },
      "source": [
        "# !pip install -r requirements_netflix_jung.txt\n",
        "# !pip install -r requirements_netflix_jung_lite.txt\n",
        "\n",
        "# !pip list\n",
        "# !pip install pandas==1.1.0"
      ],
      "execution_count": null,
      "outputs": []
    },
    {
      "cell_type": "code",
      "metadata": {
        "id": "6tW5vaW2DbX1"
      },
      "source": [
        "# import nltk; nltk.download('stopwords')\n",
        "from nltk.corpus import stopwords\n",
        "import numpy as np\n",
        "import pandas as pd\n",
        "import re\n",
        "import string\n",
        "import os\n",
        "import matplotlib.pyplot as plt\n",
        "import matplotlib\n",
        "from mpl_toolkits.mplot3d import Axes3D \n",
        "from collections import defaultdict\n",
        "from sklearn.model_selection import train_test_split\n",
        "\n",
        "# Gensim\n",
        "import gensim\n",
        "import gensim.corpora as corpora\n",
        "from gensim.utils import simple_preprocess\n",
        "from gensim.models import CoherenceModel\n",
        "from gensim import models\n",
        "from gensim.test.utils import datapath\n",
        "from gensim.test.utils import common_texts, get_tmpfile\n",
        "\n",
        "# spacy for lemmatization\n",
        "import spacy\n",
        "\n",
        "import os.path\n",
        "import numpy as np\n",
        "import tensorflow as tf\n",
        "import ktrain\n",
        "from ktrain import text\n",
        "from sklearn.manifold import TSNE\n",
        "from transformers import BertTokenizer, TFBertModel\n",
        "# from bert_embedding import BertEmbedding\n",
        "import matplotlib.cm as cm\n",
        "import seaborn as sns\n",
        "from PIL import Image\n",
        "from wordcloud import WordCloud, STOPWORDS\n",
        "# from adjustText import adjust_text\n",
        "# import umap\n",
        "# import umap.umap_ as umap\n",
        "# import umap.plot"
      ],
      "execution_count": null,
      "outputs": []
    },
    {
      "cell_type": "markdown",
      "metadata": {
        "id": "IU0yS_joDbX2"
      },
      "source": [
        "#### Import the dominant topics based on the chosen model"
      ]
    },
    {
      "cell_type": "code",
      "metadata": {
        "id": "PtML6ep3DbX2"
      },
      "source": [
        "mallet_lda_df = pd.read_pickle('lda_mallet_model/mallet_lda_df.pkl')\n",
        "df = pd.read_pickle('raw_data/netflix.pkl')\n",
        "df = pd.concat([mallet_lda_df.reset_index(drop=True), df.loc[:, ['star_rating', 'helpful_votes', 'total_votes', 'review']].reset_index(drop=True)], axis = 1)"
      ],
      "execution_count": null,
      "outputs": []
    },
    {
      "cell_type": "markdown",
      "metadata": {
        "id": "c4E_g_qADbX3"
      },
      "source": [
        "#### Check the topic labels(which are to be the target variables)"
      ]
    },
    {
      "cell_type": "code",
      "metadata": {
        "id": "bSs_yRU-DbX4"
      },
      "source": [
        "topic_dict = {0.: \"Platform/Device\", 1.: \"User Experience\", 2.: \"Value\", 3.: \"Service\", 4.: \"Trouble-shooting\", 5.:\"Shows\"}"
      ],
      "execution_count": null,
      "outputs": []
    },
    {
      "cell_type": "code",
      "metadata": {
        "id": "A8zqHAlJDbX4"
      },
      "source": [
        "representative_topics = df.groupby('Dominant_Topic').max().loc[:, \"Perc_Contribution\"]\n",
        "pairs = list(zip(representative_topics.index, representative_topics.values))\n",
        "representative_topics = df.loc[df.apply(lambda x: (x.Dominant_Topic, x.Perc_Contribution) in pairs, axis = 1),:].sort_values('Dominant_Topic')\n",
        "representative_topics.loc[:, 'Dominant_Topic'] = ['0. Platform/Device', '1. User', '2. Value', '3. Service', '4. Trouble-shooting', '5. Shows']\n",
        "representative_topics.loc[:, 'review'] = representative_topics.loc[:, 'review'].map(lambda x: x[:500])"
      ],
      "execution_count": null,
      "outputs": []
    },
    {
      "cell_type": "code",
      "metadata": {
        "colab": {
          "base_uri": "https://localhost:8080/",
          "height": 880
        },
        "id": "JRxW-Tx4DbX4",
        "jupyter": {
          "outputs_hidden": true
        },
        "outputId": "6246ae51-fff8-4af0-cbd8-55853462d84c"
      },
      "source": [
        "representative_topics.style.set_properties(subset=['review'], **{'width': '400px'})"
      ],
      "execution_count": null,
      "outputs": [
        {
          "output_type": "execute_result",
          "data": {
            "text/html": [
              "<style  type=\"text/css\" >\n",
              "#T_15b49dbc_ed79_11eb_9b92_0242ac1c0002row0_col7,#T_15b49dbc_ed79_11eb_9b92_0242ac1c0002row1_col7,#T_15b49dbc_ed79_11eb_9b92_0242ac1c0002row2_col7,#T_15b49dbc_ed79_11eb_9b92_0242ac1c0002row3_col7,#T_15b49dbc_ed79_11eb_9b92_0242ac1c0002row4_col7,#T_15b49dbc_ed79_11eb_9b92_0242ac1c0002row5_col7{\n",
              "            width:  400px;\n",
              "        }</style><table id=\"T_15b49dbc_ed79_11eb_9b92_0242ac1c0002\" ><thead>    <tr>        <th class=\"blank level0\" ></th>        <th class=\"col_heading level0 col0\" >Dominant_Topic</th>        <th class=\"col_heading level0 col1\" >Perc_Contribution</th>        <th class=\"col_heading level0 col2\" >Keywords</th>        <th class=\"col_heading level0 col3\" >Text</th>        <th class=\"col_heading level0 col4\" >star_rating</th>        <th class=\"col_heading level0 col5\" >helpful_votes</th>        <th class=\"col_heading level0 col6\" >total_votes</th>        <th class=\"col_heading level0 col7\" >review</th>    </tr></thead><tbody>\n",
              "                <tr>\n",
              "                        <th id=\"T_15b49dbc_ed79_11eb_9b92_0242ac1c0002level0_row0\" class=\"row_heading level0 row0\" >3633</th>\n",
              "                        <td id=\"T_15b49dbc_ed79_11eb_9b92_0242ac1c0002row0_col0\" class=\"data row0 col0\" >0. Platform/Device</td>\n",
              "                        <td id=\"T_15b49dbc_ed79_11eb_9b92_0242ac1c0002row0_col1\" class=\"data row0 col1\" >0.893600</td>\n",
              "                        <td id=\"T_15b49dbc_ed79_11eb_9b92_0242ac1c0002row0_col2\" class=\"data row0 col2\" >time, work, app, fire, love, phone, movie, tablet, download, kindle</td>\n",
              "                        <td id=\"T_15b49dbc_ed79_11eb_9b92_0242ac1c0002row0_col3\" class=\"data row0 col3\" >['people', 'internet', 'buffer', 'much_movie', 'like_good', 'app', 'movie', 'movie', 'couch', 'bed', 'want_watch', 'watch_movie', 'like_fact', 'sure_get', 'work', 'time', 'long_load', 'time', 'customer_year', 'kindle', 'pod', 'wifi', 'mcdonald']</td>\n",
              "                        <td id=\"T_15b49dbc_ed79_11eb_9b92_0242ac1c0002row0_col4\" class=\"data row0 col4\" >4</td>\n",
              "                        <td id=\"T_15b49dbc_ed79_11eb_9b92_0242ac1c0002row0_col5\" class=\"data row0 col5\" >2</td>\n",
              "                        <td id=\"T_15b49dbc_ed79_11eb_9b92_0242ac1c0002row0_col6\" class=\"data row0 col6\" >3</td>\n",
              "                        <td id=\"T_15b49dbc_ed79_11eb_9b92_0242ac1c0002row0_col7\" class=\"data row0 col7\" >very good I like this app overall but I don't like that their can only be two people on it at a time. It would be better if you could use it without Internet. Sometimes it takes a long to to load or buffer an it makes you shows blurry. There is not as much movies and shows that some other thing like netflix have. Netflix is very good app for sitting down with you family and watching a movie or being alone and watching a show or movie on the couch or even in your bed. Netflix has a lot of great m</td>\n",
              "            </tr>\n",
              "            <tr>\n",
              "                        <th id=\"T_15b49dbc_ed79_11eb_9b92_0242ac1c0002level0_row1\" class=\"row_heading level0 row1\" >10412</th>\n",
              "                        <td id=\"T_15b49dbc_ed79_11eb_9b92_0242ac1c0002row1_col0\" class=\"data row1 col0\" >1. User</td>\n",
              "                        <td id=\"T_15b49dbc_ed79_11eb_9b92_0242ac1c0002row1_col1\" class=\"data row1 col1\" >0.923200</td>\n",
              "                        <td id=\"T_15b49dbc_ed79_11eb_9b92_0242ac1c0002row1_col2\" class=\"data row1 col2\" >movie, kid, profile, account, selection, family, child, shows_movie, site, watch</td>\n",
              "                        <td id=\"T_15b49dbc_ed79_11eb_9b92_0242ac1c0002row1_col3\" class=\"data row1 col3\" >['content', 'availability', 'example', 'child', 'age', 'selection', 'child', 'family', 'content_time', 'kid', 'access', 'horror', 'wish', 'setting', 'viewing', 'genre', 'parent']</td>\n",
              "                        <td id=\"T_15b49dbc_ed79_11eb_9b92_0242ac1c0002row1_col4\" class=\"data row1 col4\" >4</td>\n",
              "                        <td id=\"T_15b49dbc_ed79_11eb_9b92_0242ac1c0002row1_col5\" class=\"data row1 col5\" >10</td>\n",
              "                        <td id=\"T_15b49dbc_ed79_11eb_9b92_0242ac1c0002row1_col6\" class=\"data row1 col6\" >12</td>\n",
              "                        <td id=\"T_15b49dbc_ed79_11eb_9b92_0242ac1c0002row1_col7\" class=\"data row1 col7\" >NETFLIX is great! I really enjoy using NETFLIX.  It is user-friendly, very convenient and inexpensive.<br /><br />The one thing I would change about NETFLIX is the content availability, for example, my children, ages 7 and 8 love to watch movies on NETFLIX and they do have a great selection of children/family content, but at the same time, my kids have access to R-rated, gay-lesbian, horror, etc.  I wish they had a setting which I could prevent them from viewing those genres.  For now, I just cl</td>\n",
              "            </tr>\n",
              "            <tr>\n",
              "                        <th id=\"T_15b49dbc_ed79_11eb_9b92_0242ac1c0002level0_row2\" class=\"row_heading level0 row2\" >6378</th>\n",
              "                        <td id=\"T_15b49dbc_ed79_11eb_9b92_0242ac1c0002row2_col0\" class=\"data row2 col0\" >2. Value</td>\n",
              "                        <td id=\"T_15b49dbc_ed79_11eb_9b92_0242ac1c0002row2_col1\" class=\"data row2 col1\" >0.923500</td>\n",
              "                        <td id=\"T_15b49dbc_ed79_11eb_9b92_0242ac1c0002row2_col2\" class=\"data row2 col2\" >movie, program, cable, tv, show, selection, love, service, year, choice</td>\n",
              "                        <td id=\"T_15b49dbc_ed79_11eb_9b92_0242ac1c0002row2_col3\" class=\"data row2 col3\" >['fee', 'considering', 'cost', 'movie_theater', 'ticket', 'bargain', 'amount', 'commercial', 'movie', 'closed_caption', 'home', 'br', 'drive', 'theater', 'long_line', 'could_ask']</td>\n",
              "                        <td id=\"T_15b49dbc_ed79_11eb_9b92_0242ac1c0002row2_col4\" class=\"data row2 col4\" >4</td>\n",
              "                        <td id=\"T_15b49dbc_ed79_11eb_9b92_0242ac1c0002row2_col5\" class=\"data row2 col5\" >1</td>\n",
              "                        <td id=\"T_15b49dbc_ed79_11eb_9b92_0242ac1c0002row2_col6\" class=\"data row2 col6\" >2</td>\n",
              "                        <td id=\"T_15b49dbc_ed79_11eb_9b92_0242ac1c0002row2_col7\" class=\"data row2 col7\" >It's worth the monthly fee! Considering the cost of a movie theater ticket, what a bargain!  I can enjoy a movie without a considerable amount of commercials,  if I am interruped, I can pause the movie and if I am hard of hearing, most movies have closed caption!  I can<br />even make my own popcorn at home!  I can also just stop the movie if it think it's something not of my liking, and start another!!<br />I don't have to drive to and from the theater, no long lines, etc. and if you happen to </td>\n",
              "            </tr>\n",
              "            <tr>\n",
              "                        <th id=\"T_15b49dbc_ed79_11eb_9b92_0242ac1c0002level0_row3\" class=\"row_heading level0 row3\" >6386</th>\n",
              "                        <td id=\"T_15b49dbc_ed79_11eb_9b92_0242ac1c0002row3_col0\" class=\"data row3 col0\" >3. Service</td>\n",
              "                        <td id=\"T_15b49dbc_ed79_11eb_9b92_0242ac1c0002row3_col1\" class=\"data row3 col1\" >0.943300</td>\n",
              "                        <td id=\"T_15b49dbc_ed79_11eb_9b92_0242ac1c0002row3_col2\" class=\"data row3 col2\" >service, streaming, time, product, year, price, customer, movie, film, option</td>\n",
              "                        <td id=\"T_15b49dbc_ed79_11eb_9b92_0242ac1c0002row3_col3\" class=\"data row3 col3\" >['app', 'arrogance', 'application', 'team', 'market', 'research', 'etc', 'film', 'matter', 'team', 'people', 'option', 'sheep', 'navigation', 'ring', 'option', 'amazon_prime', 'service', 'end', 'credit', 'oblivion', 'prompt']</td>\n",
              "                        <td id=\"T_15b49dbc_ed79_11eb_9b92_0242ac1c0002row3_col4\" class=\"data row3 col4\" >1</td>\n",
              "                        <td id=\"T_15b49dbc_ed79_11eb_9b92_0242ac1c0002row3_col5\" class=\"data row3 col5\" >21</td>\n",
              "                        <td id=\"T_15b49dbc_ed79_11eb_9b92_0242ac1c0002row3_col6\" class=\"data row3 col6\" >29</td>\n",
              "                        <td id=\"T_15b49dbc_ed79_11eb_9b92_0242ac1c0002row3_col7\" class=\"data row3 col7\" >Netflix and the Arrogant App The arrogance of this application is amazing.  I am sure some &#34;team&#34; thought they new enough, did enough market research, etc. to believe the credits to a film don't matter.  The &#34;team&#34; also apparently believes giving people fewer options is better because it's all just too advanced for us sheep to understand.  I now have to scroll more, hit the back button more, use the navigation ring on Fire TV remote more, and I don't enjoy Netflix as much as I us</td>\n",
              "            </tr>\n",
              "            <tr>\n",
              "                        <th id=\"T_15b49dbc_ed79_11eb_9b92_0242ac1c0002level0_row4\" class=\"row_heading level0 row4\" >11845</th>\n",
              "                        <td id=\"T_15b49dbc_ed79_11eb_9b92_0242ac1c0002row4_col0\" class=\"data row4 col0\" >4. Trouble-shooting</td>\n",
              "                        <td id=\"T_15b49dbc_ed79_11eb_9b92_0242ac1c0002row4_col1\" class=\"data row4 col1\" >0.934800</td>\n",
              "                        <td id=\"T_15b49dbc_ed79_11eb_9b92_0242ac1c0002row4_col2\" class=\"data row4 col2\" >app, video, problem, issue, update, time, device, fire, work, fix</td>\n",
              "                        <td id=\"T_15b49dbc_ed79_11eb_9b92_0242ac1c0002row4_col3\" class=\"data row4 col3\" >['browsing', 'bit', 'browsing', 'bit', 'guess', 'task', 'thread', 'background', 'developer', 'issue', 'priority', 'fix', 'experience', 'browsing', 'available_movie', 'second', 'drag', 'request', 'stuff']</td>\n",
              "                        <td id=\"T_15b49dbc_ed79_11eb_9b92_0242ac1c0002row4_col4\" class=\"data row4 col4\" >3</td>\n",
              "                        <td id=\"T_15b49dbc_ed79_11eb_9b92_0242ac1c0002row4_col5\" class=\"data row4 col5\" >0</td>\n",
              "                        <td id=\"T_15b49dbc_ed79_11eb_9b92_0242ac1c0002row4_col6\" class=\"data row4 col6\" >0</td>\n",
              "                        <td id=\"T_15b49dbc_ed79_11eb_9b92_0242ac1c0002row4_col7\" class=\"data row4 col7\" >good, browsing ui can be a bit too sluggish Streaming works fairly well. I've noticed that the browsing UI can be a bit sluggish.  My guess is that some tasks are being handled in the UI thread, which should actually be delegated to a background thread (I'm a professional developer). This issue should be a high priority fix -- it really detracts from the experience of browsing the available movies and shows, when the Netfix app takes seconds to respond to a drag request.  Also, this should have </td>\n",
              "            </tr>\n",
              "            <tr>\n",
              "                        <th id=\"T_15b49dbc_ed79_11eb_9b92_0242ac1c0002level0_row5\" class=\"row_heading level0 row5\" >9756</th>\n",
              "                        <td id=\"T_15b49dbc_ed79_11eb_9b92_0242ac1c0002row5_col0\" class=\"data row5 col0\" >5. Shows</td>\n",
              "                        <td id=\"T_15b49dbc_ed79_11eb_9b92_0242ac1c0002row5_col1\" class=\"data row5 col1\" >0.866700</td>\n",
              "                        <td id=\"T_15b49dbc_ed79_11eb_9b92_0242ac1c0002row5_col2\" class=\"data row5 col2\" >love, movie, tv_show, season, lot, watch, tv, watch_movie, love_great, month</td>\n",
              "                        <td id=\"T_15b49dbc_ed79_11eb_9b92_0242ac1c0002row5_col3\" class=\"data row5 col3\" >['everything_one', 'place', 'really_love', 'everything_one', 'place', 'mean', 'thing', 'tv', 'hulu']</td>\n",
              "                        <td id=\"T_15b49dbc_ed79_11eb_9b92_0242ac1c0002row5_col4\" class=\"data row5 col4\" >5</td>\n",
              "                        <td id=\"T_15b49dbc_ed79_11eb_9b92_0242ac1c0002row5_col5\" class=\"data row5 col5\" >0</td>\n",
              "                        <td id=\"T_15b49dbc_ed79_11eb_9b92_0242ac1c0002row5_col6\" class=\"data row5 col6\" >0</td>\n",
              "                        <td id=\"T_15b49dbc_ed79_11eb_9b92_0242ac1c0002row5_col7\" class=\"data row5 col7\" >Who really doesn't love netflix. It is everything in one place Who really doesn't love netflix. It is everything in one place. I mean they could have a few more things but if not there is project TV or hulu.</td>\n",
              "            </tr>\n",
              "    </tbody></table>"
            ],
            "text/plain": [
              "<pandas.io.formats.style.Styler at 0x7fed7cf65950>"
            ]
          },
          "metadata": {
            "tags": []
          },
          "execution_count": 6
        }
      ]
    },
    {
      "cell_type": "markdown",
      "metadata": {
        "id": "-BKTKXNFDbX5"
      },
      "source": [
        "#### Start Modeling BERT\n",
        "#### Code from [ktrain](https://github.com/amaiya/ktrain/)\n",
        "Using the topic labels as the target label, use BERT to classify the unseen data, and compare the results with the LDA model's prediction on the unseen data to see which model classified the unseen review better.\n",
        "<br><br>\n",
        "[Hugging Face](https://github.com/huggingface/transformers) may be a common package to use."
      ]
    },
    {
      "cell_type": "markdown",
      "metadata": {
        "id": "YgRTLvKzDbX6"
      },
      "source": [
        "#### In the training set, exclude examples that have 1/6 chance in the dominant topic. Because that means the dominant topic is just as likely as the other five topics."
      ]
    },
    {
      "cell_type": "code",
      "metadata": {
        "colab": {
          "base_uri": "https://localhost:8080/",
          "height": 646
        },
        "id": "iOD2DmrxDbX6",
        "outputId": "4ffc3bde-0e17-4cb7-b30a-ed3448dbdeca"
      },
      "source": [
        "mask = df.Perc_Contribution > 0.1667\n",
        "(x_train, y_train), (x_test, y_test), preproc = text.texts_from_df(df.loc[mask, ['review', 'Dominant_Topic']],\n",
        "                                                                   text_column = 'review',\n",
        "                                                                   label_columns = 'Dominant_Topic',\n",
        "                                                                   maxlen=512,\n",
        "                                                                   preprocess_mode='bert')"
      ],
      "execution_count": null,
      "outputs": [
        {
          "output_type": "stream",
          "text": [
            "/usr/local/lib/python3.7/dist-packages/ktrain/utils.py:616: UserWarning: class_names implies classification but targets array contains float(s) instead of integers or strings\n",
            "  warnings.warn('class_names implies classification but targets array contains float(s) instead of integers or strings')\n",
            "/usr/local/lib/python3.7/dist-packages/ktrain/utils.py:616: UserWarning: class_names implies classification but targets array contains float(s) instead of integers or strings\n",
            "  warnings.warn('class_names implies classification but targets array contains float(s) instead of integers or strings')\n"
          ],
          "name": "stderr"
        },
        {
          "output_type": "stream",
          "text": [
            "['Dominant_Topic_0.0', 'Dominant_Topic_1.0', 'Dominant_Topic_2.0', 'Dominant_Topic_3.0', 'Dominant_Topic_4.0', 'Dominant_Topic_5.0']\n",
            "      Dominant_Topic_0.0  ...  Dominant_Topic_5.0\n",
            "1831                 0.0  ...                 1.0\n",
            "9494                 0.0  ...                 0.0\n",
            "1311                 0.0  ...                 0.0\n",
            "1386                 1.0  ...                 0.0\n",
            "2632                 0.0  ...                 0.0\n",
            "\n",
            "[5 rows x 6 columns]\n",
            "['Dominant_Topic_0.0', 'Dominant_Topic_1.0', 'Dominant_Topic_2.0', 'Dominant_Topic_3.0', 'Dominant_Topic_4.0', 'Dominant_Topic_5.0']\n",
            "       Dominant_Topic_0.0  ...  Dominant_Topic_5.0\n",
            "3312                  0.0  ...                 0.0\n",
            "11435                 1.0  ...                 0.0\n",
            "1693                  1.0  ...                 0.0\n",
            "7560                  1.0  ...                 0.0\n",
            "5847                  0.0  ...                 1.0\n",
            "\n",
            "[5 rows x 6 columns]\n",
            "downloading pretrained BERT model (uncased_L-12_H-768_A-12.zip)...\n",
            "[██████████████████████████████████████████████████]\n",
            "extracting pretrained BERT model...\n",
            "done.\n",
            "\n",
            "cleanup downloaded zip...\n",
            "done.\n",
            "\n",
            "preprocessing train...\n",
            "language: en\n"
          ],
          "name": "stdout"
        },
        {
          "output_type": "display_data",
          "data": {
            "text/html": [
              "done."
            ],
            "text/plain": [
              "<IPython.core.display.HTML object>"
            ]
          },
          "metadata": {
            "tags": []
          }
        },
        {
          "output_type": "stream",
          "text": [
            "Is Multi-Label? False\n",
            "preprocessing test...\n",
            "language: en\n"
          ],
          "name": "stdout"
        },
        {
          "output_type": "display_data",
          "data": {
            "text/html": [
              "done."
            ],
            "text/plain": [
              "<IPython.core.display.HTML object>"
            ]
          },
          "metadata": {
            "tags": []
          }
        }
      ]
    },
    {
      "cell_type": "code",
      "metadata": {
        "id": "pEEm5MNcDbX7"
      },
      "source": [
        "# %%time\n",
        "# model = text.text_classifier(name='bert',\n",
        "#                              train_data=(x_train, y_train),\n",
        "#                              preproc=preproc)"
      ],
      "execution_count": null,
      "outputs": []
    },
    {
      "cell_type": "code",
      "metadata": {
        "id": "yaWaWrrlDbX7"
      },
      "source": [
        "# %%time\n",
        "# learner = ktrain.get_learner(model=model,\n",
        "#                              train_data=(x_train, y_train),\n",
        "#                              val_data=(x_test, y_test),\n",
        "#                              batch_size=1)"
      ],
      "execution_count": null,
      "outputs": []
    },
    {
      "cell_type": "code",
      "metadata": {
        "id": "H05pgCdbDbX7"
      },
      "source": [
        "# %%time\n",
        "# learner.fit_onecycle(lr=2e-5, epochs=1)"
      ],
      "execution_count": null,
      "outputs": []
    },
    {
      "cell_type": "code",
      "metadata": {
        "id": "eV7DuNkZDbX8"
      },
      "source": [
        "# %%time\n",
        "# learner.fit_onecycle(2e-5, 2)"
      ],
      "execution_count": null,
      "outputs": []
    },
    {
      "cell_type": "code",
      "metadata": {
        "id": "3AfkIhwMDbX8"
      },
      "source": [
        "# %%time\n",
        "# learner.fit_onecycle(2e-5, 1)"
      ],
      "execution_count": null,
      "outputs": []
    },
    {
      "cell_type": "code",
      "metadata": {
        "id": "1hO8R_E_DbX9"
      },
      "source": [
        "# %%time\n",
        "# # save model and Preprocessor instance after partially training\n",
        "# # ktrain.get_predictor(model, preproc).save('bert_model')\n",
        "# ktrain.get_predictor(model, preproc).save('bert_model_v0271')"
      ],
      "execution_count": null,
      "outputs": []
    },
    {
      "cell_type": "code",
      "metadata": {
        "id": "ibZi-n_3ZalE"
      },
      "source": [
        "from google.colab import auth\n",
        "from googleapiclient.http import MediaFileUpload\n",
        "from googleapiclient.discovery import build\n",
        "\n",
        "auth.authenticate_user()"
      ],
      "execution_count": null,
      "outputs": []
    },
    {
      "cell_type": "code",
      "metadata": {
        "colab": {
          "base_uri": "https://localhost:8080/"
        },
        "id": "SI2K9_ywBaPG",
        "outputId": "7b2f5cc9-ff9d-4913-d56d-2183bbae23aa"
      },
      "source": [
        "from google.colab import drive\n",
        "# drive.mount('/content/gdrive')\n",
        "drive.mount(\"/content/gdrive\", force_remount=True)"
      ],
      "execution_count": null,
      "outputs": [
        {
          "output_type": "stream",
          "text": [
            "Mounted at /content/gdrive\n"
          ],
          "name": "stdout"
        }
      ]
    },
    {
      "cell_type": "code",
      "metadata": {
        "id": "NFu_vnAGZc58"
      },
      "source": [
        "# drive_service = build('drive', 'v3')\n",
        "\n",
        "# def save_file_to_drive(name, path):\n",
        "  \n",
        "#   file_metadata = {\n",
        "#       'name': name,\n",
        "#       'mimeType': 'application/octet-stream'\n",
        "#       }\n",
        "#   media = MediaFileUpload(path, mimetype='application/octet-stream', resumable=True)\n",
        "\n",
        "#   created = drive_service.files().create(body=file_metadata,\n",
        "#                                 media_body=media,\n",
        "#                                 fields='id').execute()\n",
        "\n",
        "#   print('File ID: {}'.format(created.get('id')))\n",
        "\n",
        "#   return created\n"
      ],
      "execution_count": null,
      "outputs": []
    },
    {
      "cell_type": "code",
      "metadata": {
        "id": "l1EsO_H7Zdyu"
      },
      "source": [
        "# save_file_to_drive('/', '/content/bert_model_v0271/tf_model.h5')"
      ],
      "execution_count": null,
      "outputs": []
    },
    {
      "cell_type": "code",
      "metadata": {
        "id": "t7ItJb_N-RzB"
      },
      "source": [
        "# %%time\n",
        "# learner.fit_onecycle(2e-5, 2)"
      ],
      "execution_count": null,
      "outputs": []
    },
    {
      "cell_type": "code",
      "metadata": {
        "id": "YlvMYAOm-SZG"
      },
      "source": [
        "# %%time\n",
        "# learner.fit_onecycle(2e-5, 1)"
      ],
      "execution_count": null,
      "outputs": []
    },
    {
      "cell_type": "code",
      "metadata": {
        "id": "VE0A8o6G-S2P"
      },
      "source": [
        ""
      ],
      "execution_count": null,
      "outputs": []
    },
    {
      "cell_type": "code",
      "metadata": {
        "id": "s6KpcIemDbYE"
      },
      "source": [
        "# %%time\n",
        "# # # reload Predictor and extract model\n",
        "# model = ktrain.load_predictor('bert_model_v0271').model\n",
        "\n",
        "# # # re-instantiate Learner and continue training\n",
        "# # learner = ktrain.get_learner(model=model,\n",
        "# #                              train_data=(x_train, y_train),\n",
        "# #                              val_data=(x_test, y_test),\n",
        "# #                              batch_size=1)\n",
        "# # learner.fit_onecycle(2e-5, 1)"
      ],
      "execution_count": null,
      "outputs": []
    },
    {
      "cell_type": "code",
      "metadata": {
        "id": "ICsMaD56YS9u"
      },
      "source": [
        "# %%time\n",
        "# # save model and Preprocessor instance after partially training\n",
        "# ktrain.get_predictor(model, preproc).save('bert_model_v0271_part2')"
      ],
      "execution_count": null,
      "outputs": []
    },
    {
      "cell_type": "code",
      "metadata": {
        "id": "2Abo930KZZaw"
      },
      "source": [
        ""
      ],
      "execution_count": null,
      "outputs": []
    },
    {
      "cell_type": "markdown",
      "metadata": {
        "id": "ao_KL6aeDbYI"
      },
      "source": [
        "### Predicting Topic with unseen text(validation set)"
      ]
    },
    {
      "cell_type": "code",
      "metadata": {
        "id": "OUsFij7XDbYQ"
      },
      "source": [
        "BERT_preds, BERT_proba = pd.read_pickle('prediction/BERT_preds.pkl'), pd.read_pickle('prediction/BERT_proba.pkl')\n",
        "LDA_preds, LDA_proba = pd.read_pickle('prediction/LDA_preds.pkl'), pd.read_pickle('prediction/LDA_proba.pkl')"
      ],
      "execution_count": null,
      "outputs": []
    },
    {
      "cell_type": "code",
      "metadata": {
        "id": "PmoCiCE4a7jp",
        "colab": {
          "base_uri": "https://localhost:8080/"
        },
        "outputId": "23ee800e-57fb-4986-858e-25e4a42fb7a5"
      },
      "source": [
        "type(BERT_preds)\n",
        "# BERT_proba\n",
        "# LDA_preds\n",
        "# LDA_proba"
      ],
      "execution_count": null,
      "outputs": [
        {
          "output_type": "execute_result",
          "data": {
            "text/plain": [
              "list"
            ]
          },
          "metadata": {
            "tags": []
          },
          "execution_count": 42
        }
      ]
    },
    {
      "cell_type": "code",
      "metadata": {
        "id": "Y045We7SDbYR"
      },
      "source": [
        "# Import hold_out validation dataset\n",
        "df = pd.read_pickle('raw_data/netflix_val.pkl')\n",
        "reviews = df.review.values.tolist()"
      ],
      "execution_count": null,
      "outputs": []
    },
    {
      "cell_type": "code",
      "metadata": {
        "id": "-x54reJK_LeL"
      },
      "source": [
        "# reload Predictor and extract model\n",
        "# model = ktrain.load_predictor('bert_model').model\n",
        "model = ktrain.load_predictor('/content/gdrive/MyDrive/bert_model').model\n",
        "\n",
        "\n",
        "# # re-instantiate Learner\n",
        "learner = ktrain.get_learner(model=model,\n",
        "                             train_data=(x_train, y_train),\n",
        "                             val_data=(x_test, y_test),\n",
        "                             batch_size=1)"
      ],
      "execution_count": null,
      "outputs": []
    },
    {
      "cell_type": "code",
      "metadata": {
        "id": "EJ3zjMRIGeVA"
      },
      "source": [
        "predictor = ktrain.get_predictor(learner.model, preproc)"
      ],
      "execution_count": null,
      "outputs": []
    },
    {
      "cell_type": "code",
      "metadata": {
        "colab": {
          "base_uri": "https://localhost:8080/"
        },
        "id": "zM7Dwh6vFYNW",
        "outputId": "e450cf8b-6501-47d2-81af-e0f14a61a14f"
      },
      "source": [
        "%time predicted_topics = predictor.predict(reviews)"
      ],
      "execution_count": null,
      "outputs": [
        {
          "output_type": "stream",
          "text": [
            "CPU times: user 35.5 s, sys: 6.14 s, total: 41.7 s\n",
            "Wall time: 5min 24s\n"
          ],
          "name": "stdout"
        }
      ]
    },
    {
      "cell_type": "code",
      "metadata": {
        "id": "eIfJbrexGgix"
      },
      "source": [
        "BERT_preds = [float(topic.replace('Dominant_Topic_', '')) for topic in predicted_topics]"
      ],
      "execution_count": null,
      "outputs": []
    },
    {
      "cell_type": "code",
      "metadata": {
        "colab": {
          "base_uri": "https://localhost:8080/"
        },
        "id": "EXquDJJbGirI",
        "outputId": "250a16ef-9fc9-439c-9392-c20dbc62c39f"
      },
      "source": [
        "%time BERT_proba = predictor.predict_proba(reviews)"
      ],
      "execution_count": null,
      "outputs": [
        {
          "output_type": "stream",
          "text": [
            "CPU times: user 35.4 s, sys: 6.01 s, total: 41.4 s\n",
            "Wall time: 4min 52s\n"
          ],
          "name": "stdout"
        }
      ]
    },
    {
      "cell_type": "code",
      "metadata": {
        "id": "LxlsAx4bDbYS"
      },
      "source": [
        "# predictor = ktrain.get_predictor(learner.model, preproc)\n",
        "\n",
        "# %time predicted_topics = predictor.predict(reviews)\n",
        "# # BERT_preds = [float(topic) for topic in predicted_topics] # error convert str to float\n",
        "# BERT_preds = [float(topic.replace('Dominant_Topic_', '')) for topic in predicted_topics]\n",
        "\n",
        "# %time BERT_proba = predictor.predict_proba(reviews)"
      ],
      "execution_count": null,
      "outputs": []
    },
    {
      "cell_type": "code",
      "metadata": {
        "id": "QQltUmFXDbYS"
      },
      "source": [
        "pd.to_pickle(BERT_preds, 'prediction_20210725/BERT_preds.pkl')\n",
        "pd.to_pickle(BERT_proba, 'prediction_20210725/BERT_proba.pkl')"
      ],
      "execution_count": null,
      "outputs": []
    },
    {
      "cell_type": "markdown",
      "metadata": {
        "id": "sXgjgl7dDbYT"
      },
      "source": [
        "#### Compare with LDA model"
      ]
    },
    {
      "cell_type": "markdown",
      "metadata": {
        "id": "fpNScepBDbYU"
      },
      "source": [
        "Only 43% of the predicted labels are the same.."
      ]
    },
    {
      "cell_type": "code",
      "metadata": {
        "colab": {
          "base_uri": "https://localhost:8080/"
        },
        "id": "yT5sFozYDbYU",
        "outputId": "723e4c71-f052-4f2f-85c4-8a3a4b915a1e"
      },
      "source": [
        "# mask = LDA_preds == np.array(BERT_preds)\n",
        "# sum(mask) / len(BERT_preds)"
      ],
      "execution_count": null,
      "outputs": [
        {
          "output_type": "execute_result",
          "data": {
            "text/plain": [
              "0.4322775744071303"
            ]
          },
          "metadata": {
            "tags": []
          },
          "execution_count": 36
        }
      ]
    },
    {
      "cell_type": "code",
      "metadata": {
        "colab": {
          "base_uri": "https://localhost:8080/"
        },
        "id": "NMyiFmwyL2EZ",
        "outputId": "bfc2d3f0-ab62-46d8-c6f3-a70ed054a8db"
      },
      "source": [
        "mask = LDA_preds == np.array(BERT_preds)\n",
        "sum(mask) / len(BERT_preds)"
      ],
      "execution_count": null,
      "outputs": [
        {
          "output_type": "execute_result",
          "data": {
            "text/plain": [
              "0.4262295081967213"
            ]
          },
          "metadata": {
            "tags": []
          },
          "execution_count": 50
        }
      ]
    },
    {
      "cell_type": "markdown",
      "metadata": {
        "id": "Kw5rbeU3DbYV"
      },
      "source": [
        "### Predicting Topic with ad-hoc text"
      ]
    },
    {
      "cell_type": "code",
      "metadata": {
        "id": "QSRbvsqKDbYV"
      },
      "source": [
        "new_text = \"I think I really like the app. Thanks for making this useful app.\""
      ],
      "execution_count": null,
      "outputs": []
    },
    {
      "cell_type": "code",
      "metadata": {
        "id": "qEkApGUlDbYW"
      },
      "source": [
        "model = ktrain.load_predictor('/content/gdrive/MyDrive/bert_model').model\n",
        "preproc = ktrain.load_predictor('/content/gdrive/MyDrive/bert_model').preproc\n",
        "predictor = ktrain.get_predictor(model, preproc)"
      ],
      "execution_count": null,
      "outputs": []
    },
    {
      "cell_type": "code",
      "metadata": {
        "colab": {
          "base_uri": "https://localhost:8080/"
        },
        "id": "kdXWmxNkDbYW",
        "outputId": "610f07d7-2bae-4283-9ea7-7e23dbf8fba2"
      },
      "source": [
        "predictor.predict(new_text, return_proba=True)"
      ],
      "execution_count": null,
      "outputs": [
        {
          "output_type": "execute_result",
          "data": {
            "text/plain": [
              "array([0.20511918, 0.13379347, 0.1958028 , 0.16515261, 0.07823506,\n",
              "       0.22189684], dtype=float32)"
            ]
          },
          "metadata": {
            "tags": []
          },
          "execution_count": 54
        }
      ]
    },
    {
      "cell_type": "code",
      "metadata": {
        "colab": {
          "base_uri": "https://localhost:8080/"
        },
        "id": "ONFLlPjZDbYW",
        "outputId": "a4ab0b1a-ab76-450b-82d6-fafe19f81ed0"
      },
      "source": [
        "percentages = predictor.predict(new_text, return_proba=True)\n",
        "topics = [\"Platform/Device\", \"User Experience\", \"Value\", \"Service\", \"Trouble-shooting\", \"Shows\"]\n",
        "indices = np.argsort(percentages)[::-1]\n",
        "[topics[index] for index in indices]"
      ],
      "execution_count": null,
      "outputs": [
        {
          "output_type": "execute_result",
          "data": {
            "text/plain": [
              "['Shows',\n",
              " 'Platform/Device',\n",
              " 'Value',\n",
              " 'Service',\n",
              " 'User Experience',\n",
              " 'Trouble-shooting']"
            ]
          },
          "metadata": {
            "tags": []
          },
          "execution_count": 55
        }
      ]
    },
    {
      "cell_type": "code",
      "metadata": {
        "colab": {
          "base_uri": "https://localhost:8080/"
        },
        "id": "XUVma-4TDbYX",
        "outputId": "42435b7a-dd72-4ee5-d3af-7deff1faff25"
      },
      "source": [
        "[100*np.round(percentages[index], 3) for index in indices]"
      ],
      "execution_count": null,
      "outputs": [
        {
          "output_type": "execute_result",
          "data": {
            "text/plain": [
              "[22.200000286102295,\n",
              " 20.499999821186066,\n",
              " 19.599999487400055,\n",
              " 16.500000655651093,\n",
              " 13.40000033378601,\n",
              " 7.800000160932541]"
            ]
          },
          "metadata": {
            "tags": []
          },
          "execution_count": 56
        }
      ]
    },
    {
      "cell_type": "markdown",
      "metadata": {
        "id": "Esnu5tQyDbYX"
      },
      "source": [
        "### Plotting the word embeddings"
      ]
    },
    {
      "cell_type": "markdown",
      "metadata": {
        "id": "U4bJVWL_DbYX"
      },
      "source": [
        "There's 9149 documents with 512 dimensions for embedding in training set and 6283 documents with 512 dimensions for embedding in validation set."
      ]
    },
    {
      "cell_type": "markdown",
      "metadata": {
        "id": "V6k13tTpDbYX"
      },
      "source": [
        "### TSNE\n",
        "According to the [source code](https://github.com/amaiya/ktrain/blob/master/ktrain/text/preprocessor.py), BERTPreprocessor's preprocess function returns (preprocessed x, preprocessed y)"
      ]
    },
    {
      "cell_type": "code",
      "metadata": {
        "id": "dmNVV5uPDbYY"
      },
      "source": [
        "preproc_val = preproc.preprocess(reviews)\n",
        "preprocessed_X = preproc_val[0]\n",
        "tsne = TSNE(n_components=3, random_state = 0)"
      ],
      "execution_count": null,
      "outputs": []
    },
    {
      "cell_type": "code",
      "metadata": {
        "id": "-b4IlzAjDbYo",
        "colab": {
          "base_uri": "https://localhost:8080/"
        },
        "outputId": "9227c7e2-8e64-4cf7-dcda-8c4b88f8eae2"
      },
      "source": [
        "%time tsne_3d_coordinates = tsne.fit_transform(preprocessed_X)"
      ],
      "execution_count": null,
      "outputs": [
        {
          "output_type": "stream",
          "text": [
            "CPU times: user 8min 48s, sys: 0 ns, total: 8min 48s\n",
            "Wall time: 4min 42s\n"
          ],
          "name": "stdout"
        }
      ]
    },
    {
      "cell_type": "markdown",
      "metadata": {
        "id": "tnOFp_rRDbYo"
      },
      "source": [
        "#### Representative embeddings with 99.5% probability"
      ]
    },
    {
      "cell_type": "code",
      "metadata": {
        "id": "uDnO5NbqDbYp",
        "colab": {
          "base_uri": "https://localhost:8080/"
        },
        "outputId": "46f17714-af5b-4a8c-dca0-f30f6f41eb95"
      },
      "source": [
        "print(BERT_proba.argmax(axis=0))\n",
        "print(BERT_proba.max(axis=0).round(5))\n",
        "# Platform/Device, User, Value, Service, Trouble-shooting, Shows"
      ],
      "execution_count": null,
      "outputs": [
        {
          "output_type": "stream",
          "text": [
            "[4297  162 1076 5476 1051 1385]\n",
            "[0.73564 0.94029 0.88601 0.75868 0.90122 0.99642]\n"
          ],
          "name": "stdout"
        }
      ]
    },
    {
      "cell_type": "code",
      "metadata": {
        "id": "67XxA46qDbYp"
      },
      "source": [
        "df_reset_index = df.reset_index(drop=True)\n",
        "representative_reviews = df_reset_index.iloc[BERT_proba.argmax(axis=0), :]['review'].values"
      ],
      "execution_count": null,
      "outputs": []
    },
    {
      "cell_type": "markdown",
      "metadata": {
        "id": "f14xX7G0DbYp"
      },
      "source": [
        "### BERT visualization"
      ]
    },
    {
      "cell_type": "code",
      "metadata": {
        "id": "l-B417RfDbYq",
        "colab": {
          "base_uri": "https://localhost:8080/"
        },
        "outputId": "c8db7656-96c4-49f1-a533-06a8b9695ff3"
      },
      "source": [
        "total_indices = np.array(range(len(BERT_proba)))\n",
        "major_docs = total_indices[BERT_proba.max(axis=1) >= 0.99]\n",
        "x_coords, y_coords, z_coords = tsne_3d_coordinates[major_docs,0], tsne_3d_coordinates[major_docs,1], tsne_3d_coordinates[major_docs, 2]\n",
        "len(major_docs)"
      ],
      "execution_count": null,
      "outputs": [
        {
          "output_type": "execute_result",
          "data": {
            "text/plain": [
              "184"
            ]
          },
          "metadata": {
            "tags": []
          },
          "execution_count": 61
        }
      ]
    },
    {
      "cell_type": "code",
      "metadata": {
        "id": "0c_JoUITDbYq",
        "colab": {
          "base_uri": "https://localhost:8080/",
          "height": 575
        },
        "outputId": "99d10908-a042-4f7b-a392-6494b18f6425"
      },
      "source": [
        "fig = plt.figure(figsize=(10,10))\n",
        "ax = plt.axes(projection='3d')\n",
        "colors = ['green', 'lightpink', 'gray', 'dodgerblue', 'darkred', 'goldenrod']\n",
        "for label in [4, 1, 5]:\n",
        "    mask = np.array(BERT_preds)[major_docs] == label\n",
        "    ax.scatter3D(x_coords[mask], y_coords[mask], z_coords[mask], c=colors[label], label=topic_dict[label], alpha=.4, marker = 'o', s=200)\n",
        "\n",
        "# for label in [0, 2, 3]:\n",
        "#     mask = np.array(BERT_preds)[major_docs] == label\n",
        "#     ax.scatter3D(x_coords[mask], y_coords[mask], z_coords[mask], facecolor=(1,1,1,0), edgecolor=colors[label],alpha=1, label=topic_dict[label], marker = '^', s=10)\n",
        "\n",
        "ax.grid(False)\n",
        "ax.legend();\n",
        "# plt.savefig('images/{}'.format(\"bert_tsne\"), dpi=200, transparent=True, bbox_inches = \"tight\");"
      ],
      "execution_count": null,
      "outputs": [
        {
          "output_type": "display_data",
          "data": {
            "image/png": "[encoded data removed]",
            "text/plain": [
              "<Figure size 720x720 with 1 Axes>"
            ]
          },
          "metadata": {
            "tags": [],
            "needs_background": "light"
          }
        }
      ]
    },
    {
      "cell_type": "code",
      "metadata": {
        "id": "MifyS-BTDbYr",
        "colab": {
          "base_uri": "https://localhost:8080/"
        },
        "outputId": "e1636060-bde9-4f22-e47e-4f533bf1b172"
      },
      "source": [
        "print(matplotlib.colors.to_rgba(\"green\"), matplotlib.colors.cnames[\"lightpink\"], matplotlib.colors.cnames[\"gray\"],\n",
        "      matplotlib.colors.cnames[\"dodgerblue\"], matplotlib.colors.cnames[\"darkred\"], matplotlib.colors.cnames[\"goldenrod\"])"
      ],
      "execution_count": null,
      "outputs": [
        {
          "output_type": "stream",
          "text": [
            "(0.0, 0.5019607843137255, 0.0, 1.0) #FFB6C1 #808080 #1E90FF #8B0000 #DAA520\n"
          ],
          "name": "stdout"
        }
      ]
    },
    {
      "cell_type": "markdown",
      "metadata": {
        "id": "iHs3iN08DbYs"
      },
      "source": [
        "### Wordcloud"
      ]
    },
    {
      "cell_type": "code",
      "metadata": {
        "id": "JxsAS4ihDbYt",
        "colab": {
          "base_uri": "https://localhost:8080/",
          "height": 165,
          "referenced_widgets": [
            "18489340048f4ef2858788bc526b3704",
            "a59cc519a524424c97f9e9e525ea9e92",
            "01b0ba59446b4d74a4215bb10db91fdf",
            "013488bc027747969a469086f947e023",
            "b381e61a89c94182ab9f470c4b704e00",
            "b623b4e7682b4f63a345d3547636f5de",
            "e6b136b354af470f938ac9ebc5101ac5",
            "c56d5917c4b1435686534a818a914a04",
            "36380a2a2bc6466389af80e17d2e0163",
            "f2c293afa408455b93a63787d9c664b0",
            "949d68c8398c4f03aee51c4cce6a9ffb",
            "a652dfc7b028459caeb24af89f2fe497",
            "7c44f79fc05742dba4457f35b29ea576",
            "7007665f8c2e4cfebff1a28392a36cd7",
            "424a44616fe540c68dd6f8808551f507",
            "44467606cd4d4d699e45477291e15a5d",
            "6f2dccd4966745848145f8c30143695c",
            "f0b23c0c266547da99839432141c833c",
            "5854aa5050414ac097480ceabab39858",
            "f1023ed61cd645ffac7bb4b622688153",
            "5ad87b87e5af4adfbb0a1abb33261de9",
            "68633dc12e3146cba1e3b7ca7bc770e4",
            "89b824aa45124d21ba3ddccf795ab376",
            "83ba49fe9f6a40169fe38881bc55ef5a"
          ]
        },
        "outputId": "6eba1ec2-139b-4466-c34a-9f3bea51c666"
      },
      "source": [
        "reviews_df = pd.concat([pd.Series(reviews), pd.Series(BERT_preds)], axis = 1)\n",
        "reviews_df.columns = ['review', 'pred']\n",
        "\n",
        "tokenizer = BertTokenizer.from_pretrained('bert-base-uncased')\n",
        "model = TFBertModel.from_pretrained('bert-base-uncased')\n",
        "\n",
        "tokenized_text = []\n",
        "for review in reviews_df.loc[:,'review']:\n",
        "    tokenized_text.append(tokenizer.tokenize(review))"
      ],
      "execution_count": null,
      "outputs": [
        {
          "output_type": "display_data",
          "data": {
            "application/vnd.jupyter.widget-view+json": {
              "model_id": "18489340048f4ef2858788bc526b3704",
              "version_minor": 0,
              "version_major": 2
            },
            "text/plain": [
              "HBox(children=(FloatProgress(value=0.0, description='Downloading', max=231508.0, style=ProgressStyle(descripti…"
            ]
          },
          "metadata": {
            "tags": []
          }
        },
        {
          "output_type": "stream",
          "text": [
            "\n"
          ],
          "name": "stdout"
        },
        {
          "output_type": "display_data",
          "data": {
            "application/vnd.jupyter.widget-view+json": {
              "model_id": "36380a2a2bc6466389af80e17d2e0163",
              "version_minor": 0,
              "version_major": 2
            },
            "text/plain": [
              "HBox(children=(FloatProgress(value=0.0, description='Downloading', max=570.0, style=ProgressStyle(description_…"
            ]
          },
          "metadata": {
            "tags": []
          }
        },
        {
          "output_type": "stream",
          "text": [
            "\n"
          ],
          "name": "stdout"
        },
        {
          "output_type": "display_data",
          "data": {
            "application/vnd.jupyter.widget-view+json": {
              "model_id": "6f2dccd4966745848145f8c30143695c",
              "version_minor": 0,
              "version_major": 2
            },
            "text/plain": [
              "HBox(children=(FloatProgress(value=0.0, description='Downloading', max=536063208.0, style=ProgressStyle(descri…"
            ]
          },
          "metadata": {
            "tags": []
          }
        },
        {
          "output_type": "stream",
          "text": [
            "\n"
          ],
          "name": "stdout"
        }
      ]
    },
    {
      "cell_type": "code",
      "metadata": {
        "id": "zfbCCRjmDbYx"
      },
      "source": [
        "def one_string(texts, boolean_mask):\n",
        "    thing = ' '.join([' '.join(item) for item in [row for row, boolean in zip(texts, boolean_mask) if boolean]])\n",
        "    thing = re.sub(r'[ ]{2,}', ' ', thing)\n",
        "    return re.sub(r'#', '', thing)\n",
        "\n",
        "def create_wordcloud(img_directory, id, contour_width=3, contour_color='green', background_color=\"white\"):\n",
        "    topic_ids = np.array(reviews_df.pred)\n",
        "    mask = np.array(Image.open(img_directory))\n",
        "    stop_words = set(stopwords.words('english')) | {'<','>',\"'\",'-','/',',','!','.','br','&',';','?',')','#','##s','##ing','le','ha','wa',\n",
        "                                                'would','great','watch','stars','netflix','app','like','tv','five','good','love','one','show','star', 'stars'\n",
        "                                                'shows','time','kind','movie','movies','##le','watching','want','get','really','could','four', 'also', 'to', 'it', 'even'}\n",
        "    # Removed words that appeared in all or most topics\n",
        "    wc = WordCloud(background_color=background_color, max_words=15, mask=mask, stopwords=stop_words,\n",
        "                   max_font_size=100, random_state=40, contour_width=contour_width, contour_color=contour_color)\n",
        "    wc.generate(one_string(tokenized_text, topic_ids == id))\n",
        "    return wc"
      ],
      "execution_count": null,
      "outputs": []
    },
    {
      "cell_type": "code",
      "metadata": {
        "id": "dQGJKMqsDbYx"
      },
      "source": [
        "# plt.figure(figsize=(10,6))\n",
        "# plt.title('Trouble-shooting(Video-related)', fontsize=20); plt.imshow(create_wordcloud('images/problem.png', 4,contour_color='darkred'), interpolation='spline36'); plt.axis(\"off\");\n",
        "# plt.savefig('images/{}'.format(\"bert_trouble\"), dpi=200, transparent=True, bbox_inches = \"tight\")\n",
        "# plt.figure(figsize=(10,6))\n",
        "# plt.title('User Experience', fontsize=20); plt.imshow(create_wordcloud('images/family.png', 1,contour_color='lightpink'), interpolation='spline36'); plt.axis(\"off\");\n",
        "# plt.savefig('images/{}'.format(\"bert_user\"), dpi=200, transparent=True, bbox_inches = \"tight\")\n",
        "# plt.figure(figsize=(10,6))\n",
        "# plt.title('Shows', fontsize=20); plt.imshow(create_wordcloud('images/show.png', 5,contour_color='goldenrod'), interpolation='spline36'); plt.axis(\"off\");\n",
        "# plt.savefig('images/{}'.format(\"bert_shows\"), dpi=200, transparent=True, bbox_inches = \"tight\")"
      ],
      "execution_count": null,
      "outputs": []
    },
    {
      "cell_type": "code",
      "metadata": {
        "id": "R23PaeALOn1s"
      },
      "source": [
        "# import nltk\n",
        "# nltk.download('stopwords')"
      ],
      "execution_count": null,
      "outputs": []
    },
    {
      "cell_type": "code",
      "metadata": {
        "id": "dxlS5EsJDbYy",
        "colab": {
          "base_uri": "https://localhost:8080/",
          "height": 528
        },
        "outputId": "a52a4451-c961-488d-e662-fa2004fed494"
      },
      "source": [
        "fig, ax = plt.subplots(2, 3, figsize = (20, 10))\n",
        "ax[0,0].set_title('Platform/Device', fontsize=20); ax[0,0].imshow(create_wordcloud('images/android.png', 0), interpolation='spline36'); ax[0,0].axis(\"off\")\n",
        "ax[0,1].set_title('User Experience', fontsize=20); ax[0,1].imshow(create_wordcloud('images/family.png', 1,contour_color='lightpink'), interpolation='spline36'); ax[0,1].axis(\"off\")\n",
        "ax[0,2].set_title('Value', fontsize=20); ax[0,2].imshow(create_wordcloud('images/think.png', 2,contour_color='gray'), interpolation='spline36'); ax[0,2].axis(\"off\")\n",
        "ax[1,0].set_title('Service', fontsize=20); ax[1,0].imshow(create_wordcloud('images/service.png', 3,contour_color='dodgerblue'), interpolation='spline36'); ax[1,0].axis(\"off\")\n",
        "ax[1,1].set_title('Trouble-shooting(Video-related)', fontsize=20); ax[1,1].imshow(create_wordcloud('images/problem.png', 4,contour_color='darkred'), interpolation='spline36'); ax[1,1].axis(\"off\")\n",
        "ax[1,2].set_title('Shows', fontsize=20); ax[1,2].imshow(create_wordcloud('images/show.png', 5,contour_color='goldenrod'), interpolation='spline36'); ax[1,2].axis(\"off\");\n",
        "\n",
        "plt.savefig('images/{}'.format(\"bert_wordcloud\"), dpi=200, transparent=True, bbox_inches = \"tight\")"
      ],
      "execution_count": null,
      "outputs": [
        {
          "output_type": "display_data",
          "data": {
            "image/png": "[encoded data removed]",
            "text/plain": [
              "<Figure size 1440x720 with 6 Axes>"
            ]
          },
          "metadata": {
            "tags": [],
            "needs_background": "light"
          }
        }
      ]
    },
    {
      "cell_type": "markdown",
      "metadata": {
        "id": "vGnyaaviDbY0"
      },
      "source": [
        "#### Keywords and frequencies stored in a list of dictionaries \"frequencies_topics\""
      ]
    },
    {
      "cell_type": "code",
      "metadata": {
        "id": "GKbqlo2wDbY0",
        "colab": {
          "base_uri": "https://localhost:8080/"
        },
        "outputId": "690129f5-667f-47ca-8b3b-b67c272fd209"
      },
      "source": [
        "UPPER = 10\n",
        "stop_words = set(stopwords.words('english')) | {'<','>',\"'\",'-','/',',','!','.','br','&',';','?',')','#','##s','##ing','le','ha','wa',\n",
        "                                            'would','great','watch','stars','netflix','app','like','tv','five','good','love','one',\n",
        "                                            'shows','time','kind','movie','movies','##le','watching','want','get','really','could','four', 'also', 'to', 'it', 'even'}\n",
        "# Removed words that appeared in all or most topics\n",
        "\n",
        "frequencies_topics = [0]*6\n",
        "for topic_id in range(6):\n",
        "    frequencies = defaultdict(int)\n",
        "    for review in reviews_df.loc[reviews_df.pred == topic_id, 'review']:\n",
        "        for word in tokenizer.tokenize(review):\n",
        "            if word not in stop_words:\n",
        "                frequencies[word] += 1\n",
        "    keys = list(frequencies.keys())\n",
        "    frequent_indices = np.argsort(list(frequencies.values()))[::-1][:UPPER]\n",
        "    frequent_words = set(np.array(keys)[frequent_indices])\n",
        "    frequencies_topics[topic_id] = frequent_words\n",
        "    \n",
        "    print(f\"Topic: {topic_dict[topic_id]}\")\n",
        "    print(frequent_words,'\\n')"
      ],
      "execution_count": null,
      "outputs": [
        {
          "output_type": "stream",
          "text": [
            "Topic: Platform/Device\n",
            "{'tablet', 'works', 'work', 'well', 'easy', 'use', 'hd', 'go', 'fire', 'phone'} \n",
            "\n",
            "Topic: User Experience\n",
            "{'easy', 'see', 'new', 'use', 'selection', 'wish', 'awesome', 'family', 'kids', 'account'} \n",
            "\n",
            "Topic: Value\n",
            "{'series', 'many', 'best', 'use', 'selection', 'programs', 'choices', 'price', 'cable', 'much'} \n",
            "\n",
            "Topic: Service\n",
            "{'series', 'new', 'use', 'amazon', 'streaming', 'available', 'dvd', 'service', 'product', '34'} \n",
            "\n",
            "Topic: Trouble-shooting\n",
            "{'fix', 'works', 'work', 'hd', 'video', 'use', 'amazon', 'fire', 'problem', 'update'} \n",
            "\n",
            "Topic: Shows\n",
            "{'series', 'easy', 'new', 'best', 'use', 'see', 'show', 'awesome', 'able', 'old'} \n",
            "\n"
          ],
          "name": "stdout"
        }
      ]
    },
    {
      "cell_type": "markdown",
      "metadata": {
        "id": "mApDIfuPDbY1"
      },
      "source": [
        "### TSNE 3d plot"
      ]
    },
    {
      "cell_type": "code",
      "metadata": {
        "id": "v_vVqOFgDbY2",
        "colab": {
          "base_uri": "https://localhost:8080/"
        },
        "outputId": "2c9ab004-e949-45ff-c520-3837adc4a555"
      },
      "source": [
        "# # !pip uninstall umap\n",
        "# !pip uninstall umap-learn\n",
        "!pip install umap-learn"
      ],
      "execution_count": null,
      "outputs": [
        {
          "output_type": "stream",
          "text": [
            "Collecting umap-learn\n",
            "  Downloading umap-learn-0.5.1.tar.gz (80 kB)\n",
            "\u001b[K     |████████████████████████████████| 80 kB 5.3 MB/s \n",
            "\u001b[?25hRequirement already satisfied: numpy>=1.17 in /usr/local/lib/python3.7/dist-packages (from umap-learn) (1.19.2)\n",
            "Requirement already satisfied: scikit-learn>=0.22 in /usr/local/lib/python3.7/dist-packages (from umap-learn) (0.23.2)\n",
            "Requirement already satisfied: scipy>=1.0 in /usr/local/lib/python3.7/dist-packages (from umap-learn) (1.4.1)\n",
            "Requirement already satisfied: numba>=0.49 in /usr/local/lib/python3.7/dist-packages (from umap-learn) (0.51.2)\n",
            "Collecting pynndescent>=0.5\n",
            "  Downloading pynndescent-0.5.4.tar.gz (1.1 MB)\n",
            "\u001b[K     |████████████████████████████████| 1.1 MB 40.6 MB/s \n",
            "\u001b[?25hRequirement already satisfied: setuptools in /usr/local/lib/python3.7/dist-packages (from numba>=0.49->umap-learn) (57.2.0)\n",
            "Requirement already satisfied: llvmlite<0.35,>=0.34.0.dev0 in /usr/local/lib/python3.7/dist-packages (from numba>=0.49->umap-learn) (0.34.0)\n",
            "Requirement already satisfied: joblib>=0.11 in /usr/local/lib/python3.7/dist-packages (from pynndescent>=0.5->umap-learn) (1.0.1)\n",
            "Requirement already satisfied: threadpoolctl>=2.0.0 in /usr/local/lib/python3.7/dist-packages (from scikit-learn>=0.22->umap-learn) (2.2.0)\n",
            "Building wheels for collected packages: umap-learn, pynndescent\n",
            "  Building wheel for umap-learn (setup.py) ... \u001b[?25l\u001b[?25hdone\n",
            "  Created wheel for umap-learn: filename=umap_learn-0.5.1-py3-none-any.whl size=76566 sha256=b2f9438e7bc06aeea549313968e111c8ef0f82a3f80b58d206de40088289a4bd\n",
            "  Stored in directory: /root/.cache/pip/wheels/01/e7/bb/347dc0e510803d7116a13d592b10cc68262da56a8eec4dd72f\n",
            "  Building wheel for pynndescent (setup.py) ... \u001b[?25l\u001b[?25hdone\n",
            "  Created wheel for pynndescent: filename=pynndescent-0.5.4-py3-none-any.whl size=52372 sha256=3862d47f6e29b901a52924bfca20deb3340d9e553431c39ddebd7f8be88aec4d\n",
            "  Stored in directory: /root/.cache/pip/wheels/d0/5b/62/3401692ddad12324249c774c4b15ccb046946021e2b581c043\n",
            "Successfully built umap-learn pynndescent\n",
            "Installing collected packages: pynndescent, umap-learn\n",
            "Successfully installed pynndescent-0.5.4 umap-learn-0.5.1\n"
          ],
          "name": "stdout"
        }
      ]
    },
    {
      "cell_type": "code",
      "metadata": {
        "id": "eLrJDHIEDbY2"
      },
      "source": [
        "import umap"
      ],
      "execution_count": null,
      "outputs": []
    },
    {
      "cell_type": "code",
      "metadata": {
        "id": "SgciGCC-DbY3",
        "colab": {
          "base_uri": "https://localhost:8080/"
        },
        "outputId": "c52f14a5-addf-4f0a-a3d3-4dfe2b5eb873"
      },
      "source": [
        "%time mapper3d = umap.UMAP(n_components=3, n_neighbors=7, random_state=0).fit(preprocessed_X)"
      ],
      "execution_count": null,
      "outputs": [
        {
          "output_type": "stream",
          "text": [
            "/usr/local/lib/python3.7/dist-packages/numba/np/ufunc/parallel.py:363: NumbaWarning: The TBB threading layer requires TBB version 2019.5 or later i.e., TBB_INTERFACE_VERSION >= 11005. Found TBB_INTERFACE_VERSION = 9107. The TBB threading layer is disabled.\n",
            "  warnings.warn(problem)\n"
          ],
          "name": "stderr"
        },
        {
          "output_type": "stream",
          "text": [
            "CPU times: user 32.9 s, sys: 0 ns, total: 32.9 s\n",
            "Wall time: 32.1 s\n"
          ],
          "name": "stdout"
        }
      ]
    },
    {
      "cell_type": "code",
      "metadata": {
        "id": "ONfZ8p5GDbY3",
        "colab": {
          "base_uri": "https://localhost:8080/",
          "height": 575
        },
        "outputId": "37859cf7-252f-40cd-f990-44b43a665222"
      },
      "source": [
        "fig = plt.figure(figsize=(10,10))\n",
        "ax = plt.axes(projection='3d')\n",
        "coords = mapper3d.embedding_\n",
        "x,y,z = coords[major_docs,0], coords[major_docs,1], coords[major_docs,2]\n",
        "colors = ['green', 'lightpink', 'gray', 'dodgerblue', 'darkred', 'goldenrod']\n",
        "for label in [4, 1, 5]:\n",
        "    mask = np.array(BERT_preds)[major_docs] == label\n",
        "    ax.scatter3D(x[mask],y[mask],z[mask], c=colors[label], label=topic_dict[label], alpha=.3, marker = 'o', s=100)\n",
        "\n",
        "# for label in [0, 2, 3]:\n",
        "#     mask = np.array(BERT_preds)[major_docs] == label\n",
        "#     ax.scatter3D(x[mask], y[mask], z[mask], facecolor=(1,1,1,0), edgecolor=colors[label],alpha=.5, label=topic_dict[label], marker = '.', s=100)\n",
        "ax.grid(False)\n",
        "ax.legend();"
      ],
      "execution_count": null,
      "outputs": [
        {
          "output_type": "display_data",
          "data": {
            "image/png": "[encoded data removed]",
            "text/plain": [
              "<Figure size 720x720 with 1 Axes>"
            ]
          },
          "metadata": {
            "tags": [],
            "needs_background": "light"
          }
        }
      ]
    },
    {
      "cell_type": "markdown",
      "metadata": {
        "id": "4kIeRjwVDbY5"
      },
      "source": [
        "### TSNE 2d plot"
      ]
    },
    {
      "cell_type": "code",
      "metadata": {
        "id": "XR9-Z0qPDbY6",
        "colab": {
          "base_uri": "https://localhost:8080/"
        },
        "outputId": "346f9606-b90d-4ae8-8c31-cf9943cc6cff"
      },
      "source": [
        "%time mapper2d = umap.UMAP(n_components=2, n_neighbors=9, random_state=0).fit(preprocessed_X)"
      ],
      "execution_count": null,
      "outputs": [
        {
          "output_type": "stream",
          "text": [
            "CPU times: user 17.4 s, sys: 0 ns, total: 17.4 s\n",
            "Wall time: 16.6 s\n"
          ],
          "name": "stdout"
        }
      ]
    },
    {
      "cell_type": "code",
      "metadata": {
        "id": "nudQtnvhDbY6"
      },
      "source": [
        "coords = mapper2d.embedding_\n",
        "x,y = coords[major_docs,0], coords[major_docs,1]"
      ],
      "execution_count": null,
      "outputs": []
    },
    {
      "cell_type": "code",
      "metadata": {
        "id": "D2jXBr46DbY7"
      },
      "source": [
        "topics_to_plot = [1,4,5]\n",
        "indices = np.arange(len(preprocessed_X))[np.array([True if label in topics_to_plot else False for label in BERT_preds])]\n",
        "major_docs_indices = list(set(major_docs).intersection(set(indices)))"
      ],
      "execution_count": null,
      "outputs": []
    },
    {
      "cell_type": "code",
      "metadata": {
        "id": "k2KGpGqNDbY7",
        "colab": {
          "base_uri": "https://localhost:8080/",
          "height": 374
        },
        "outputId": "bff1a3cb-bde5-463b-e280-144474903530"
      },
      "source": [
        "coords = mapper2d.embedding_\n",
        "# indices = predicted_proba.argmax(axis=0)\n",
        "x_coords, y_coords = coords[major_docs_indices,0], coords[major_docs_indices,1]\n",
        "plt.figure(figsize=(12, 6))\n",
        "# plt.scatter(x_coords, y_coords, marker='.', alpha=0.8, c=np.array(predicted_topics)[major_docs], cmap='viridis', hue = )\n",
        "# plt.legend();\n",
        "sns.scatterplot(x=x_coords, y=y_coords, hue=[topic_dict[topic_id] for topic_id in np.array(BERT_preds)[major_docs_indices]], alpha=0.6, s=100, marker='o')\n",
        "plt.show()\n",
        "# for label, x, y in zip(['Platform/Device', 'User', 'Value', 'Service', 'Trouble-shooting', 'Shows'], x_coords, y_coords):\n",
        "#     plt.annotate(label, xy=(x, y), xytext=(0, 0), textcoords='offset points');"
      ],
      "execution_count": null,
      "outputs": [
        {
          "output_type": "display_data",
          "data": {
            "image/png": "[encoded data removed]",
            "text/plain": [
              "<Figure size 864x432 with 1 Axes>"
            ]
          },
          "metadata": {
            "tags": [],
            "needs_background": "light"
          }
        }
      ]
    },
    {
      "cell_type": "markdown",
      "metadata": {
        "id": "KxAE5v3sDbY8"
      },
      "source": [
        "### BERT word embeddings 2d visualization with UMAP"
      ]
    },
    {
      "cell_type": "code",
      "metadata": {
        "colab": {
          "base_uri": "https://localhost:8080/",
          "height": 1000
        },
        "id": "XI6rK3a2P2jr",
        "outputId": "39ca349a-c497-4081-a010-1d063e50302c"
      },
      "source": [
        "# !pip install bert-embedding"
      ],
      "execution_count": null,
      "outputs": [
        {
          "output_type": "stream",
          "text": [
            "Collecting bert-embedding\n",
            "  Downloading bert_embedding-1.0.1-py3-none-any.whl (13 kB)\n",
            "Collecting gluonnlp==0.6.0\n",
            "  Downloading gluonnlp-0.6.0.tar.gz (209 kB)\n",
            "\u001b[K     |████████████████████████████████| 209 kB 11.7 MB/s \n",
            "\u001b[?25hCollecting typing==3.6.6\n",
            "  Downloading typing-3.6.6-py3-none-any.whl (25 kB)\n",
            "Collecting numpy==1.14.6\n",
            "  Downloading numpy-1.14.6-cp37-cp37m-manylinux1_x86_64.whl (13.8 MB)\n",
            "\u001b[K     |████████████████████████████████| 13.8 MB 140 kB/s \n",
            "\u001b[?25hCollecting mxnet==1.4.0\n",
            "  Downloading mxnet-1.4.0-py2.py3-none-manylinux1_x86_64.whl (29.6 MB)\n",
            "\u001b[K     |████████████████████████████████| 29.6 MB 35 kB/s \n",
            "\u001b[?25hRequirement already satisfied: requests>=2.20.0 in /usr/local/lib/python3.7/dist-packages (from mxnet==1.4.0->bert-embedding) (2.23.0)\n",
            "Collecting graphviz<0.9.0,>=0.8.1\n",
            "  Downloading graphviz-0.8.4-py2.py3-none-any.whl (16 kB)\n",
            "Requirement already satisfied: urllib3!=1.25.0,!=1.25.1,<1.26,>=1.21.1 in /usr/local/lib/python3.7/dist-packages (from requests>=2.20.0->mxnet==1.4.0->bert-embedding) (1.24.3)\n",
            "Requirement already satisfied: certifi>=2017.4.17 in /usr/local/lib/python3.7/dist-packages (from requests>=2.20.0->mxnet==1.4.0->bert-embedding) (2021.5.30)\n",
            "Requirement already satisfied: idna<3,>=2.5 in /usr/local/lib/python3.7/dist-packages (from requests>=2.20.0->mxnet==1.4.0->bert-embedding) (2.10)\n",
            "Requirement already satisfied: chardet<4,>=3.0.2 in /usr/local/lib/python3.7/dist-packages (from requests>=2.20.0->mxnet==1.4.0->bert-embedding) (3.0.4)\n",
            "Building wheels for collected packages: gluonnlp\n",
            "  Building wheel for gluonnlp (setup.py) ... \u001b[?25l\u001b[?25hdone\n",
            "  Created wheel for gluonnlp: filename=gluonnlp-0.6.0-py3-none-any.whl size=259930 sha256=d0f17a9bc8713f87ce958920929be8387022a1599c45e04c7dd3c6a4de36b038\n",
            "  Stored in directory: /root/.cache/pip/wheels/a6/41/8f/45bd1c58055d87aee5a71b6756a427ea8d92e506b3a9d17370\n",
            "Successfully built gluonnlp\n",
            "Installing collected packages: numpy, graphviz, typing, mxnet, gluonnlp, bert-embedding\n",
            "  Attempting uninstall: numpy\n",
            "    Found existing installation: numpy 1.19.2\n",
            "    Uninstalling numpy-1.19.2:\n",
            "      Successfully uninstalled numpy-1.19.2\n",
            "  Attempting uninstall: graphviz\n",
            "    Found existing installation: graphviz 0.10.1\n",
            "    Uninstalling graphviz-0.10.1:\n",
            "      Successfully uninstalled graphviz-0.10.1\n",
            "\u001b[31mERROR: pip's dependency resolver does not currently take into account all the packages that are installed. This behaviour is the source of the following dependency conflicts.\n",
            "xarray 0.18.2 requires numpy>=1.17, but you have numpy 1.14.6 which is incompatible.\n",
            "umap-learn 0.5.1 requires numpy>=1.17, but you have numpy 1.14.6 which is incompatible.\n",
            "transformers 4.3.3 requires numpy>=1.17, but you have numpy 1.14.6 which is incompatible.\n",
            "tifffile 2021.7.2 requires numpy>=1.15.1, but you have numpy 1.14.6 which is incompatible.\n",
            "thinc 7.4.5 requires numpy>=1.15.0, but you have numpy 1.14.6 which is incompatible.\n",
            "tensorflow 2.5.0 requires numpy~=1.19.2, but you have numpy 1.14.6 which is incompatible.\n",
            "spacy 2.3.5 requires numpy>=1.15.0, but you have numpy 1.14.6 which is incompatible.\n",
            "seaborn 0.11.1 requires numpy>=1.15, but you have numpy 1.14.6 which is incompatible.\n",
            "pymc3 3.11.2 requires numpy>=1.15.0, but you have numpy 1.14.6 which is incompatible.\n",
            "pyerfa 2.0.0 requires numpy>=1.17, but you have numpy 1.14.6 which is incompatible.\n",
            "pyarrow 3.0.0 requires numpy>=1.16.6, but you have numpy 1.14.6 which is incompatible.\n",
            "plotnine 0.6.0 requires numpy>=1.16.0, but you have numpy 1.14.6 which is incompatible.\n",
            "pandas 1.1.0 requires numpy>=1.15.4, but you have numpy 1.14.6 which is incompatible.\n",
            "numba 0.51.2 requires numpy>=1.15, but you have numpy 1.14.6 which is incompatible.\n",
            "librosa 0.8.1 requires numpy>=1.15.0, but you have numpy 1.14.6 which is incompatible.\n",
            "kapre 0.3.5 requires numpy>=1.18.5, but you have numpy 1.14.6 which is incompatible.\n",
            "jaxlib 0.1.69+cuda110 requires numpy>=1.17, but you have numpy 1.14.6 which is incompatible.\n",
            "jax 0.2.17 requires numpy>=1.17, but you have numpy 1.14.6 which is incompatible.\n",
            "imgaug 0.2.9 requires numpy>=1.15.0, but you have numpy 1.14.6 which is incompatible.\n",
            "fbprophet 0.7.1 requires numpy>=1.15.4, but you have numpy 1.14.6 which is incompatible.\n",
            "fastai 1.0.61 requires numpy>=1.15, but you have numpy 1.14.6 which is incompatible.\n",
            "datascience 0.10.6 requires folium==0.2.1, but you have folium 0.8.3 which is incompatible.\n",
            "cvxpy 1.0.31 requires numpy>=1.15, but you have numpy 1.14.6 which is incompatible.\n",
            "cupy-cuda101 9.1.0 requires numpy>=1.17, but you have numpy 1.14.6 which is incompatible.\n",
            "blis 0.4.1 requires numpy>=1.15.0, but you have numpy 1.14.6 which is incompatible.\n",
            "astropy 4.2.1 requires numpy>=1.17, but you have numpy 1.14.6 which is incompatible.\n",
            "albumentations 0.1.12 requires imgaug<0.2.7,>=0.2.5, but you have imgaug 0.2.9 which is incompatible.\u001b[0m\n",
            "Successfully installed bert-embedding-1.0.1 gluonnlp-0.6.0 graphviz-0.8.4 mxnet-1.4.0 numpy-1.14.6 typing-3.6.6\n"
          ],
          "name": "stdout"
        },
        {
          "output_type": "display_data",
          "data": {
            "application/vnd.colab-display-data+json": {
              "pip_warning": {
                "packages": [
                  "numpy",
                  "typing"
                ]
              }
            }
          },
          "metadata": {
            "tags": []
          }
        }
      ]
    },
    {
      "cell_type": "code",
      "metadata": {
        "id": "dC53sVJRQAfK"
      },
      "source": [
        "from bert_embedding import BertEmbedding"
      ],
      "execution_count": null,
      "outputs": []
    },
    {
      "cell_type": "code",
      "metadata": {
        "id": "9_Lwb3S1DbY8",
        "colab": {
          "base_uri": "https://localhost:8080/"
        },
        "outputId": "6148297b-9a80-4732-ea91-49aa83671873"
      },
      "source": [
        "# embeddings = pd.read_pickle('bert_model/embeddings.pkl')\n",
        "bert_embedding = BertEmbedding()\n",
        "%time embeddings = bert_embedding(reviews)"
      ],
      "execution_count": null,
      "outputs": [
        {
          "output_type": "stream",
          "text": [
            "Vocab file is not found. Downloading.\n",
            "Downloading /root/.mxnet/models/book_corpus_wiki_en_uncased-a6607397.zip from https://apache-mxnet.s3-accelerate.dualstack.amazonaws.com/gluon/dataset/vocab/book_corpus_wiki_en_uncased-a6607397.zip...\n",
            "Downloading /root/.mxnet/models/bert_12_768_12_book_corpus_wiki_en_uncased-75cc780f.zip from https://apache-mxnet.s3-accelerate.dualstack.amazonaws.com/gluon/models/bert_12_768_12_book_corpus_wiki_en_uncased-75cc780f.zip...\n",
            "CPU times: user 13min 44s, sys: 7.7 s, total: 13min 52s\n",
            "Wall time: 13min 47s\n"
          ],
          "name": "stdout"
        }
      ]
    },
    {
      "cell_type": "code",
      "metadata": {
        "id": "GWY2euJ_Pkur"
      },
      "source": [
        "pd.to_pickle(embeddings, 'bert_model/embeddings.pkl')"
      ],
      "execution_count": null,
      "outputs": []
    },
    {
      "cell_type": "code",
      "metadata": {
        "id": "-Oty0zI_DbY9",
        "colab": {
          "base_uri": "https://localhost:8080/"
        },
        "outputId": "27e35378-dc32-4d53-bf7b-e27414129680"
      },
      "source": [
        "BERT = pd.concat([pd.Series(BERT_preds), pd.Series(BERT_proba.max(axis=1))],axis=1)\n",
        "BERT.columns = ['label', 'proba']\n",
        "\n",
        "representative_docs, representative_docs_umap, tokens_per_doc = [], [], []\n",
        "\n",
        "token_stopwords = set(stopwords.words('english')) | {\"'\",'.', \",\", \"would\", \"goes\", \"2\", '-', 'five', 'stars'}\n",
        "tsne = TSNE(n_components=2, random_state = 0)\n",
        "\n",
        "for i in range(6):\n",
        "    BERT_ = BERT.loc[BERT.label==i,:]\n",
        "    representative_docs.append(BERT_.index[np.argmax(BERT_.proba)])# Most representative documents per topic\n",
        "    tokens, embeds = embeddings[representative_docs[i]][0], embeddings[representative_docs[i]][1]\n",
        "    indices = [i for (i, token) in enumerate(np.array(tokens)) if token not in token_stopwords]# Remove the stopwords from each topic\n",
        "    clean_tokens = [tokens[i] for i in indices]\n",
        "    \n",
        "    tokens_per_doc.append(clean_tokens)    \n",
        "    try:# Try UMAP first, and if it throws an error, try TSNE\n",
        "        mapper2d = umap.UMAP(n_components=2, n_neighbors=2, random_state=1).fit(np.array([embeds[i] for i in indices]))\n",
        "        representative_docs_umap.append(mapper2d.embedding_)\n",
        "    except:\n",
        "        representative_docs_umap.append(tsne.fit_transform(np.array([embeds[i] for i in indices])))"
      ],
      "execution_count": null,
      "outputs": [
        {
          "output_type": "stream",
          "text": [
            "/usr/local/lib/python3.7/dist-packages/umap/umap_.py:2214: UserWarning: n_neighbors is larger than the dataset size; truncating to X.shape[0] - 1\n",
            "  \"n_neighbors is larger than the dataset size; truncating to \"\n",
            "/usr/local/lib/python3.7/dist-packages/umap/umap_.py:133: UserWarning: A large number of your vertices were disconnected from the manifold.\n",
            "Disconnection_distance = inf has removed 0 edges.\n",
            "It has fully disconnected 2 vertices.\n",
            "You might consider using find_disconnected_points() to find and remove these points from your data.\n",
            "Use umap.utils.disconnected_vertices() to identify them.\n",
            "  f\"A large number of your vertices were disconnected from the manifold.\\n\"\n"
          ],
          "name": "stderr"
        }
      ]
    },
    {
      "cell_type": "code",
      "metadata": {
        "colab": {
          "base_uri": "https://localhost:8080/"
        },
        "id": "FMk1xQiuVIxs",
        "outputId": "c54c8e79-f632-47f0-965c-b2cd3a03ae70"
      },
      "source": [
        "# !pip install adjustText"
      ],
      "execution_count": null,
      "outputs": [
        {
          "output_type": "stream",
          "text": [
            "Collecting adjustText\n",
            "  Downloading adjustText-0.7.3.tar.gz (7.5 kB)\n",
            "Requirement already satisfied: numpy in /usr/local/lib/python3.7/dist-packages (from adjustText) (1.14.6)\n",
            "Requirement already satisfied: matplotlib in /usr/local/lib/python3.7/dist-packages (from adjustText) (3.2.2)\n",
            "Requirement already satisfied: cycler>=0.10 in /usr/local/lib/python3.7/dist-packages (from matplotlib->adjustText) (0.10.0)\n",
            "Requirement already satisfied: pyparsing!=2.0.4,!=2.1.2,!=2.1.6,>=2.0.1 in /usr/local/lib/python3.7/dist-packages (from matplotlib->adjustText) (2.4.7)\n",
            "Requirement already satisfied: python-dateutil>=2.1 in /usr/local/lib/python3.7/dist-packages (from matplotlib->adjustText) (2.8.1)\n",
            "Requirement already satisfied: kiwisolver>=1.0.1 in /usr/local/lib/python3.7/dist-packages (from matplotlib->adjustText) (1.3.1)\n",
            "Requirement already satisfied: six in /usr/local/lib/python3.7/dist-packages (from cycler>=0.10->matplotlib->adjustText) (1.15.0)\n",
            "Building wheels for collected packages: adjustText\n",
            "  Building wheel for adjustText (setup.py) ... \u001b[?25l\u001b[?25hdone\n",
            "  Created wheel for adjustText: filename=adjustText-0.7.3-py3-none-any.whl size=7095 sha256=d641caac5dcdaecfe175ca1241d2a6492864a4a8f553094c375d2fb6fdd04c07\n",
            "  Stored in directory: /root/.cache/pip/wheels/2f/98/32/afbf902d8f040fadfdf0a44357e4ab750afe165d873bf5893d\n",
            "Successfully built adjustText\n",
            "Installing collected packages: adjustText\n",
            "Successfully installed adjustText-0.7.3\n"
          ],
          "name": "stdout"
        }
      ]
    },
    {
      "cell_type": "code",
      "metadata": {
        "id": "Bvt1QajCVKlk"
      },
      "source": [
        "from adjustText import adjust_text"
      ],
      "execution_count": null,
      "outputs": []
    },
    {
      "cell_type": "code",
      "metadata": {
        "id": "4vQW3AZ2DbZD",
        "colab": {
          "base_uri": "https://localhost:8080/",
          "height": 592
        },
        "outputId": "88a735f3-0356-4767-c392-2fa45d7c0bc6"
      },
      "source": [
        "ax = plt.figure(figsize=(10,10))\n",
        "colors = ['green', 'lightpink', 'gray', 'dodgerblue', 'darkred', 'goldenrod']\n",
        "for label in range(6):\n",
        "    word_embeddings = representative_docs_umap[label]\n",
        "    tokens = tokens_per_doc[label]\n",
        "    x, y = word_embeddings[:, 0], word_embeddings[:, 1]\n",
        "    plt.scatter(x, y, c=colors[label], label=topic_dict[label], alpha=0.6, marker = 'o', s=200);\n",
        "    texts = [plt.text(x[i], y[i], tokens[i], ha='center', va='center') for i in range(len(x))]\n",
        "    adjust_text(texts, avoid_points = False, expand_text = (1.05, 4.5))\n",
        "ax.legend(loc=6)\n",
        "ax.savefig('images/{}'.format(\"bert_cluster\"), dpi=200, transparent=True, bbox_inches = \"tight\");"
      ],
      "execution_count": null,
      "outputs": [
        {
          "output_type": "display_data",
          "data": {
            "image/png": "[encoded data removed]",
            "text/plain": [
              "<Figure size 720x720 with 1 Axes>"
            ]
          },
          "metadata": {
            "tags": [],
            "needs_background": "light"
          }
        }
      ]
    }
  ]
}