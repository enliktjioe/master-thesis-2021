{
 "cells": [
  {
   "cell_type": "markdown",
   "metadata": {},
   "source": [
    "### Import modules"
   ]
  },
  {
   "cell_type": "code",
   "execution_count": 1,
   "metadata": {},
   "outputs": [],
   "source": [
    "from utils import * \n",
    "\n",
    "import numpy as np\n",
    "import pandas as pd\n",
    "from pprint import pprint\n",
    "import os\n",
    "import matplotlib.pyplot as plt\n",
    "from collections import defaultdict\n",
    "\n",
    "# Gensim\n",
    "from gensim.test.utils import datapath\n",
    "from gensim.test.utils import common_texts, get_tmpfile\n",
    "\n",
    "# Plotting tools\n",
    "import pyLDAvis\n",
    "import pyLDAvis.gensim  # don't skip this\n",
    "import matplotlib.pyplot as plt\n",
    "%matplotlib inline\n",
    "\n",
    "pd.set_option('display.max_rows', 500)\n",
    "pd.set_option('display.max_columns', 500)\n",
    "pd.option_context('display.max_colwidth', 500);"
   ]
  },
  {
   "cell_type": "code",
   "execution_count": 2,
   "metadata": {},
   "outputs": [],
   "source": [
    "# Import dataset\n",
    "df = pd.read_pickle('raw_data/netflix.pkl')\n",
    "reviews = df.review"
   ]
  },
  {
   "cell_type": "markdown",
   "metadata": {},
   "source": [
    "NLPpipeline"
   ]
  },
  {
   "cell_type": "code",
   "execution_count": 3,
   "metadata": {},
   "outputs": [],
   "source": [
    "term_doc = pd.read_pickle('preprocessed_data/term_doc.pkl')\n",
    "data_lemmatized = pd.read_pickle('preprocessed_data/data_lemmatized.pkl')\n",
    "dictionary = pd.read_pickle('preprocessed_data/dictionary.pkl')\n",
    "tf_idf = pd.read_pickle('preprocessed_data/tf_idf.pkl')"
   ]
  },
  {
   "cell_type": "markdown",
   "metadata": {},
   "source": [
    "<string>Code for piepelining</strong>\n",
    "<code style=\"font-size: 10px; background-color:transparent;\">\n",
    "nlp_pipe = NLPpipe()\n",
    "term_doc = nlp_pipe.fit_transform(reviews, min_count = 3, threshold = -0.5)\n",
    "tf_idf = nlp_pipe.transform(reviews, tf_idf = True)\n",
    "data_lemmatized = nlp_pipe.clean_text\n",
    "dictionary = create_dictionary(data_lemmatized)\n",
    "</code>"
   ]
  },
  {
   "cell_type": "markdown",
   "metadata": {},
   "source": [
    "### (Standard) LDA model after tuning"
   ]
  },
  {
   "cell_type": "code",
   "execution_count": 4,
   "metadata": {},
   "outputs": [],
   "source": [
    "lda_model = gensim.models.ldamodel.LdaModel(corpus=term_doc,\n",
    "                                           id2word=dictionary,\n",
    "                                           num_topics= 6, \n",
    "                                           random_state=100,\n",
    "                                           update_every=1,\n",
    "                                           chunksize=2000,\n",
    "                                           passes=10,\n",
    "                                           alpha= 1.5,\n",
    "                                           per_word_topics=True)"
   ]
  },
  {
   "cell_type": "markdown",
   "metadata": {},
   "source": [
    "#### Visualize Standard LDA model"
   ]
  },
  {
   "cell_type": "code",
   "execution_count": 5,
   "metadata": {},
   "outputs": [],
   "source": [
    "vis_data = pyLDAvis.gensim.prepare(lda_model, term_doc, dictionary, sort_topics=False)\n",
    "pyLDAvis.save_html(vis_data, 'std_lda_vis/std_lda_topics=6&a=1.5&batchsize=1.html')"
   ]
  },
  {
   "cell_type": "markdown",
   "metadata": {},
   "source": [
    "*With chunksize = 100 after tuning, although the coherence scores are higher than stochastic one('update_every=1'), the topics are not much distinguishable and uninterpretable.*"
   ]
  },
  {
   "cell_type": "code",
   "execution_count": 6,
   "metadata": {},
   "outputs": [],
   "source": [
    "lda_model_100 = gensim.models.ldamodel.LdaModel(corpus=term_doc,\n",
    "                                           id2word=dictionary,\n",
    "                                           num_topics= 15, \n",
    "                                           random_state=100,\n",
    "                                           update_every=100,\n",
    "                                           chunksize=2000,\n",
    "                                           passes=10,\n",
    "                                           alpha= 1.5,\n",
    "                                           per_word_topics=True)\n",
    "\n",
    "vis_data = pyLDAvis.gensim.prepare(lda_model_100, term_doc, dictionary, sort_topics=False)\n",
    "pyLDAvis.save_html(vis_data, 'std_lda_vis/std_lda_topics=15&a=1.5&batchsize=100.html')"
   ]
  },
  {
   "cell_type": "code",
   "execution_count": 7,
   "metadata": {},
   "outputs": [
    {
     "data": {
      "text/plain": [
       "-0.07157395340265418"
      ]
     },
     "execution_count": 7,
     "metadata": {},
     "output_type": "execute_result"
    }
   ],
   "source": [
    "coherence_model = CoherenceModel(model=lda_model_100, texts=data_lemmatized, dictionary=dictionary, coherence='c_npmi')\n",
    "np.mean(coherence_model.get_coherence_per_topic())"
   ]
  },
  {
   "cell_type": "markdown",
   "metadata": {},
   "source": [
    "## <mark>Mallet's LDA model after tuning &#8592; Best Model\n",
    "*The difference between Mallet and Gensim’s standard LDA is that Gensim uses a Variational Bayes sampling method which is faster but less precise that Mallet’s Gibbs Sampling.*  [link](https://towardsdatascience.com/basic-nlp-on-the-texts-of-harry-potter-topic-modeling-with-latent-dirichlet-allocation-f3c00f77b0f5)"
   ]
  },
  {
   "cell_type": "code",
   "execution_count": 8,
   "metadata": {},
   "outputs": [],
   "source": [
    "# ldamallet.save(datapath(\"model\"))\n",
    "ldamallet = gensim.models.wrappers.LdaMallet.load(datapath(\"model\"))"
   ]
  },
  {
   "cell_type": "code",
   "execution_count": 9,
   "metadata": {},
   "outputs": [],
   "source": [
    "mallet_path = '../mallet-2.0.8/bin/mallet' # update this path\n",
    "ldamallet = gensim.models.wrappers.LdaMallet(mallet_path, \n",
    "                                             corpus = term_doc,\n",
    "                                             num_topics = 6, \n",
    "                                             random_seed = 100,\n",
    "                                             id2word = dictionary,\n",
    "                                             alpha = 1.5)"
   ]
  },
  {
   "cell_type": "markdown",
   "metadata": {},
   "source": [
    "#### Visualize Mallet's LDA model"
   ]
  },
  {
   "cell_type": "code",
   "execution_count": 10,
   "metadata": {},
   "outputs": [],
   "source": [
    "# Visualize the topics\n",
    "model = gensim.models.wrappers.ldamallet.malletmodel2ldamodel(ldamallet)\n",
    "pyLDAvis.enable_notebook()"
   ]
  },
  {
   "cell_type": "code",
   "execution_count": 11,
   "metadata": {},
   "outputs": [
    {
     "name": "stderr",
     "output_type": "stream",
     "text": [
      "/Users/jungakim/miniconda3/lib/python3.7/site-packages/pyLDAvis/_prepare.py:223: RuntimeWarning: divide by zero encountered in log\n",
      "  kernel = (topic_given_term * np.log((topic_given_term.T / topic_proportion).T))\n",
      "/Users/jungakim/miniconda3/lib/python3.7/site-packages/pyLDAvis/_prepare.py:240: RuntimeWarning: divide by zero encountered in log\n",
      "  log_lift = np.log(topic_term_dists / term_proportion)\n",
      "/Users/jungakim/miniconda3/lib/python3.7/site-packages/pyLDAvis/_prepare.py:241: RuntimeWarning: divide by zero encountered in log\n",
      "  log_ttd = np.log(topic_term_dists)\n"
     ]
    }
   ],
   "source": [
    "vis = pyLDAvis.gensim.prepare(model, term_doc, dictionary)\n",
    "pyLDAvis.save_html(vis, 'mallet_lda_vis/mallet_lda_topics=6&a=1.5.html')"
   ]
  },
  {
   "cell_type": "code",
   "execution_count": 12,
   "metadata": {},
   "outputs": [
    {
     "data": {
      "text/plain": [
       "[-0.059887677995452145,\n",
       " -0.08540541347219917,\n",
       " -0.026354790404547596,\n",
       " -0.04867638381820212,\n",
       " 0.002685968866744477,\n",
       " -0.08213902199226049]"
      ]
     },
     "execution_count": 12,
     "metadata": {},
     "output_type": "execute_result"
    }
   ],
   "source": [
    "coherence_model_m = CoherenceModel(model=model, texts=data_lemmatized, dictionary=dictionary, coherence='c_npmi')\n",
    "coherence_model_m.get_coherence_per_topic()"
   ]
  },
  {
   "cell_type": "code",
   "execution_count": 13,
   "metadata": {},
   "outputs": [],
   "source": [
    "# model = gensim.models.wrappers.ldamallet.malletmodel2ldamodel(ldamallet)\n",
    "# model.top_topics(corpus = term_doc,topn=10)"
   ]
  },
  {
   "cell_type": "markdown",
   "metadata": {},
   "source": [
    "#### For each topic, we could look at frequent and relevant words"
   ]
  },
  {
   "cell_type": "code",
   "execution_count": 14,
   "metadata": {},
   "outputs": [
    {
     "name": "stderr",
     "output_type": "stream",
     "text": [
      "/Users/jungakim/miniconda3/lib/python3.7/site-packages/ipykernel_launcher.py:3: RuntimeWarning: invalid value encountered in true_divide\n",
      "  This is separate from the ipykernel package so we can avoid doing imports until\n"
     ]
    }
   ],
   "source": [
    "frequencies = ldamallet.word_topics.sum(axis=0)\n",
    "p_word = frequencies / ldamallet.word_topics.sum()\n",
    "p_word_given_topic = ldamallet.word_topics / np.sum(ldamallet.word_topics, axis = 0)\n",
    "\n",
    "lamda = 0.5\n",
    "relevance = lamda * p_word_given_topic + (1-lamda) * p_word_given_topic / p_word "
   ]
  },
  {
   "cell_type": "code",
   "execution_count": 15,
   "metadata": {},
   "outputs": [
    {
     "name": "stdout",
     "output_type": "stream",
     "text": [
      "Topic: Platform/Device\n",
      "['take', 'none', 'become', 'one', 'please', 'allow', 'welcome', 'come', 'mean', 'anywhere', 'believe', 'com', 'th', 'try', 'out']\n",
      "\n",
      "\n",
      "Topic: User Experience\n",
      "['ok', 'everyone', 'one', 'seeing', 'que', 'believe', 'together', 'try', 'second', 'sorry', 'down', 'become', 'course', 'considering', 'trying']\n",
      "\n",
      "\n",
      "Topic: Value\n",
      "['sorry', 'value', 'wonder', 'last', 'etc', 'self', 'course', 'novel', 'over', 'nothing', 'together', 'try', 'd', 'help', 'like']\n",
      "\n",
      "\n",
      "Topic: Service\n",
      "['need', 'value', 'believe', 's', 'way', 'seeing', 'thank', 'tell', 'something', 'might', 'out', 'enough', 'other', 'whole', 'want']\n",
      "\n",
      "\n",
      "Topic: Trouble-shooting\n",
      "['way', 'together', 'd', 'enough', 'welcome', 'everyone', 'novel', 'etc', 'one', 'anywhere', 'overall', 'might', 'try', 'th', 'wonder']\n",
      "\n",
      "\n",
      "Topic: Shows\n",
      "['like', 'allow', 'need', 'd', 'up', 'enough', 'name', 'look', 'over', 'want', 'overall', 'might', 'please', 'thank', 'value']\n",
      "\n",
      "\n"
     ]
    }
   ],
   "source": [
    "topic_dict = {0.: \"Platform/Device\", 1.: \"User Experience\", 2.: \"Value\", 3.: \"Service\", 4.: \"Trouble-shooting\", 5.:\"Shows\"}\n",
    "\n",
    "for topic_id in range(6):\n",
    "    words = []\n",
    "    for id in np.argsort(relevance[topic_id,])[::-1][:15]:\n",
    "        words.append(dictionary[id])\n",
    "    print(f\"Topic: {topic_dict[topic_id]}\")\n",
    "    print(words)\n",
    "    print('\\n')"
   ]
  },
  {
   "cell_type": "markdown",
   "metadata": {},
   "source": [
    "## Interpret the topic model\n",
    "1. Finding the dominant topic in each document\n",
    "2. Find the most representative document for each topic\n",
    "3. Topic distribution across documents\n",
    "**The code used here for interpretation of the model are based on this website with a little modification by the user myself: <br>\n",
    "https://www.machinelearningplus.com/nlp/topic-modeling-gensim-python/#11createthedictionaryandcorpusneededfortopicmodeling**"
   ]
  },
  {
   "cell_type": "markdown",
   "metadata": {},
   "source": [
    "### Standard LDA - Interpret the model"
   ]
  },
  {
   "cell_type": "code",
   "execution_count": 16,
   "metadata": {},
   "outputs": [],
   "source": [
    "df_topic_sents_keywords = format_topics_sentences(ldamodel=lda_model, corpus=term_doc, texts=data_lemmatized, df=df)"
   ]
  },
  {
   "cell_type": "markdown",
   "metadata": {},
   "source": [
    "#### 1. Standard LDA - Finding the dominant topic in each document"
   ]
  },
  {
   "cell_type": "code",
   "execution_count": 17,
   "metadata": {},
   "outputs": [
    {
     "name": "stdout",
     "output_type": "stream",
     "text": [
      "Finding the dominant topic in each document\n"
     ]
    },
    {
     "data": {
      "text/html": [
       "<style  type=\"text/css\" >\n",
       "    #T_7cb03458_e321_11ea_8ad1_f45c899083edrow0_col7 {\n",
       "            width:  600px;\n",
       "        }    #T_7cb03458_e321_11ea_8ad1_f45c899083edrow1_col7 {\n",
       "            width:  600px;\n",
       "        }    #T_7cb03458_e321_11ea_8ad1_f45c899083edrow2_col7 {\n",
       "            width:  600px;\n",
       "        }    #T_7cb03458_e321_11ea_8ad1_f45c899083edrow3_col7 {\n",
       "            width:  600px;\n",
       "        }    #T_7cb03458_e321_11ea_8ad1_f45c899083edrow4_col7 {\n",
       "            width:  600px;\n",
       "        }</style><table id=\"T_7cb03458_e321_11ea_8ad1_f45c899083ed\" ><thead>    <tr>        <th class=\"blank level0\" ></th>        <th class=\"col_heading level0 col0\" >Dominant_Topic</th>        <th class=\"col_heading level0 col1\" >Perc_Contribution</th>        <th class=\"col_heading level0 col2\" >Keywords</th>        <th class=\"col_heading level0 col3\" >Text</th>        <th class=\"col_heading level0 col4\" >star_rating</th>        <th class=\"col_heading level0 col5\" >helpful_votes</th>        <th class=\"col_heading level0 col6\" >total_votes</th>        <th class=\"col_heading level0 col7\" >review</th>    </tr></thead><tbody>\n",
       "                <tr>\n",
       "                        <th id=\"T_7cb03458_e321_11ea_8ad1_f45c899083edlevel0_row0\" class=\"row_heading level0 row0\" >0</th>\n",
       "                        <td id=\"T_7cb03458_e321_11ea_8ad1_f45c899083edrow0_col0\" class=\"data row0 col0\" >0.000000</td>\n",
       "                        <td id=\"T_7cb03458_e321_11ea_8ad1_f45c899083edrow0_col1\" class=\"data row0 col1\" >0.166700</td>\n",
       "                        <td id=\"T_7cb03458_e321_11ea_8ad1_f45c899083edrow0_col2\" class=\"data row0 col2\" >month, year, price, content, option, entertainment, money, list, title, quality</td>\n",
       "                        <td id=\"T_7cb03458_e321_11ea_8ad1_f45c899083edrow0_col3\" class=\"data row0 col3\" >[]</td>\n",
       "                        <td id=\"T_7cb03458_e321_11ea_8ad1_f45c899083edrow0_col4\" class=\"data row0 col4\" >5</td>\n",
       "                        <td id=\"T_7cb03458_e321_11ea_8ad1_f45c899083edrow0_col5\" class=\"data row0 col5\" >0</td>\n",
       "                        <td id=\"T_7cb03458_e321_11ea_8ad1_f45c899083edrow0_col6\" class=\"data row0 col6\" >0</td>\n",
       "                        <td id=\"T_7cb03458_e321_11ea_8ad1_f45c899083edrow0_col7\" class=\"data row0 col7\" >Five Stars netflix is great!</td>\n",
       "            </tr>\n",
       "            <tr>\n",
       "                        <th id=\"T_7cb03458_e321_11ea_8ad1_f45c899083edlevel0_row1\" class=\"row_heading level0 row1\" >1</th>\n",
       "                        <td id=\"T_7cb03458_e321_11ea_8ad1_f45c899083edrow1_col0\" class=\"data row1 col0\" >4.000000</td>\n",
       "                        <td id=\"T_7cb03458_e321_11ea_8ad1_f45c899083edrow1_col1\" class=\"data row1 col1\" >0.291600</td>\n",
       "                        <td id=\"T_7cb03458_e321_11ea_8ad1_f45c899083edrow1_col2\" class=\"data row1 col2\" >time, fire, program, issue, way, episode, computer, thing, film, subscription</td>\n",
       "                        <td id=\"T_7cb03458_e321_11ea_8ad1_f45c899083edrow1_col3\" class=\"data row1 col3\" >['buck', 'show', 'buck']</td>\n",
       "                        <td id=\"T_7cb03458_e321_11ea_8ad1_f45c899083edrow1_col4\" class=\"data row1 col4\" >5</td>\n",
       "                        <td id=\"T_7cb03458_e321_11ea_8ad1_f45c899083edrow1_col5\" class=\"data row1 col5\" >0</td>\n",
       "                        <td id=\"T_7cb03458_e321_11ea_8ad1_f45c899083edrow1_col6\" class=\"data row1 col6\" >0</td>\n",
       "                        <td id=\"T_7cb03458_e321_11ea_8ad1_f45c899083edrow1_col7\" class=\"data row1 col7\" >GREAT Why pay per view like the others? 8 bucks for all you want to watch. Want to watch every episode of a show? 8 bucks.</td>\n",
       "            </tr>\n",
       "            <tr>\n",
       "                        <th id=\"T_7cb03458_e321_11ea_8ad1_f45c899083edlevel0_row2\" class=\"row_heading level0 row2\" >2</th>\n",
       "                        <td id=\"T_7cb03458_e321_11ea_8ad1_f45c899083edrow2_col0\" class=\"data row2 col0\" >5.000000</td>\n",
       "                        <td id=\"T_7cb03458_e321_11ea_8ad1_f45c899083edrow2_col1\" class=\"data row2 col1\" >0.274400</td>\n",
       "                        <td id=\"T_7cb03458_e321_11ea_8ad1_f45c899083edrow2_col2\" class=\"data row2 col2\" >tv, service, phone, kindle, cable, thank, family, streaming, documentary, cost</td>\n",
       "                        <td id=\"T_7cb03458_e321_11ea_8ad1_f45c899083edrow2_col3\" class=\"data row2 col3\" >['navigation', 'movies_show', 'hitch', 'device']</td>\n",
       "                        <td id=\"T_7cb03458_e321_11ea_8ad1_f45c899083edrow2_col4\" class=\"data row2 col4\" >3</td>\n",
       "                        <td id=\"T_7cb03458_e321_11ea_8ad1_f45c899083edrow2_col5\" class=\"data row2 col5\" >0</td>\n",
       "                        <td id=\"T_7cb03458_e321_11ea_8ad1_f45c899083edrow2_col6\" class=\"data row2 col6\" >0</td>\n",
       "                        <td id=\"T_7cb03458_e321_11ea_8ad1_f45c899083edrow2_col7\" class=\"data row2 col7\" >Satisfactory App runs fine on kindle fire HD. Navigation thru app efficient, movies/shows play without hitch, sound is great. Video quality needs work, expected better from an HD device.</td>\n",
       "            </tr>\n",
       "            <tr>\n",
       "                        <th id=\"T_7cb03458_e321_11ea_8ad1_f45c899083edlevel0_row3\" class=\"row_heading level0 row3\" >3</th>\n",
       "                        <td id=\"T_7cb03458_e321_11ea_8ad1_f45c899083edrow3_col0\" class=\"data row3 col0\" >0.000000</td>\n",
       "                        <td id=\"T_7cb03458_e321_11ea_8ad1_f45c899083edrow3_col1\" class=\"data row3 col1\" >0.166700</td>\n",
       "                        <td id=\"T_7cb03458_e321_11ea_8ad1_f45c899083edrow3_col2\" class=\"data row3 col2\" >month, year, price, content, option, entertainment, money, list, title, quality</td>\n",
       "                        <td id=\"T_7cb03458_e321_11ea_8ad1_f45c899083edrow3_col3\" class=\"data row3 col3\" >[]</td>\n",
       "                        <td id=\"T_7cb03458_e321_11ea_8ad1_f45c899083edrow3_col4\" class=\"data row3 col4\" >5</td>\n",
       "                        <td id=\"T_7cb03458_e321_11ea_8ad1_f45c899083edrow3_col5\" class=\"data row3 col5\" >0</td>\n",
       "                        <td id=\"T_7cb03458_e321_11ea_8ad1_f45c899083edrow3_col6\" class=\"data row3 col6\" >0</td>\n",
       "                        <td id=\"T_7cb03458_e321_11ea_8ad1_f45c899083edrow3_col7\" class=\"data row3 col7\" >Five Stars The best</td>\n",
       "            </tr>\n",
       "            <tr>\n",
       "                        <th id=\"T_7cb03458_e321_11ea_8ad1_f45c899083edlevel0_row4\" class=\"row_heading level0 row4\" >4</th>\n",
       "                        <td id=\"T_7cb03458_e321_11ea_8ad1_f45c899083edrow4_col0\" class=\"data row4 col0\" >5.000000</td>\n",
       "                        <td id=\"T_7cb03458_e321_11ea_8ad1_f45c899083edrow4_col1\" class=\"data row4 col1\" >0.249300</td>\n",
       "                        <td id=\"T_7cb03458_e321_11ea_8ad1_f45c899083edrow4_col2\" class=\"data row4 col2\" >tv, service, phone, kindle, cable, thank, family, streaming, documentary, cost</td>\n",
       "                        <td id=\"T_7cb03458_e321_11ea_8ad1_f45c899083edrow4_col3\" class=\"data row4 col3\" >['original_series']</td>\n",
       "                        <td id=\"T_7cb03458_e321_11ea_8ad1_f45c899083edrow4_col4\" class=\"data row4 col4\" >5</td>\n",
       "                        <td id=\"T_7cb03458_e321_11ea_8ad1_f45c899083edrow4_col5\" class=\"data row4 col5\" >0</td>\n",
       "                        <td id=\"T_7cb03458_e321_11ea_8ad1_f45c899083edrow4_col6\" class=\"data row4 col6\" >0</td>\n",
       "                        <td id=\"T_7cb03458_e321_11ea_8ad1_f45c899083edrow4_col7\" class=\"data row4 col7\" >Excellent! Love netflix! Worked great on my Kindle. Watched one of the original series that I've been wanting to watch for awhile.</td>\n",
       "            </tr>\n",
       "    </tbody></table>"
      ],
      "text/plain": [
       "<pandas.io.formats.style.Styler at 0x7fd83a347890>"
      ]
     },
     "execution_count": 17,
     "metadata": {},
     "output_type": "execute_result"
    }
   ],
   "source": [
    "df_dominant_topic = find_dominant_topic_in_each_doc(df_topic_sents_keywords, df=df)\n",
    "print(\"Finding the dominant topic in each document\")\n",
    "df_dominant_topic.head(5).style.set_properties(subset=['review'], **{'width': '600px'})"
   ]
  },
  {
   "cell_type": "markdown",
   "metadata": {},
   "source": [
    "#### 2. Standard LDA - Find the most representative document for each topic"
   ]
  },
  {
   "cell_type": "code",
   "execution_count": 18,
   "metadata": {},
   "outputs": [
    {
     "name": "stdout",
     "output_type": "stream",
     "text": [
      "Find the most representative document for each topic\n"
     ]
    },
    {
     "data": {
      "text/html": [
       "<style  type=\"text/css\" >\n",
       "    #T_818961a2_e321_11ea_8ad1_f45c899083edrow0_col6 {\n",
       "            width:  1000px;\n",
       "        }    #T_818961a2_e321_11ea_8ad1_f45c899083edrow1_col6 {\n",
       "            width:  1000px;\n",
       "        }    #T_818961a2_e321_11ea_8ad1_f45c899083edrow2_col6 {\n",
       "            width:  1000px;\n",
       "        }    #T_818961a2_e321_11ea_8ad1_f45c899083edrow3_col6 {\n",
       "            width:  1000px;\n",
       "        }    #T_818961a2_e321_11ea_8ad1_f45c899083edrow4_col6 {\n",
       "            width:  1000px;\n",
       "        }    #T_818961a2_e321_11ea_8ad1_f45c899083edrow5_col6 {\n",
       "            width:  1000px;\n",
       "        }</style><table id=\"T_818961a2_e321_11ea_8ad1_f45c899083ed\" ><thead>    <tr>        <th class=\"blank level0\" ></th>        <th class=\"col_heading level0 col0\" >Dominant_Topic</th>        <th class=\"col_heading level0 col1\" >Perc_Contribution</th>        <th class=\"col_heading level0 col2\" >Topic_Keywords</th>        <th class=\"col_heading level0 col3\" >star_rating</th>        <th class=\"col_heading level0 col4\" >helpful_votes</th>        <th class=\"col_heading level0 col5\" >total_votes</th>        <th class=\"col_heading level0 col6\" >review</th>    </tr></thead><tbody>\n",
       "                <tr>\n",
       "                        <th id=\"T_818961a2_e321_11ea_8ad1_f45c899083edlevel0_row0\" class=\"row_heading level0 row0\" >0</th>\n",
       "                        <td id=\"T_818961a2_e321_11ea_8ad1_f45c899083edrow0_col0\" class=\"data row0 col0\" >0.000000</td>\n",
       "                        <td id=\"T_818961a2_e321_11ea_8ad1_f45c899083edrow0_col1\" class=\"data row0 col1\" >0.494700</td>\n",
       "                        <td id=\"T_818961a2_e321_11ea_8ad1_f45c899083edrow0_col2\" class=\"data row0 col2\" >month, year, price, content, option, entertainment, money, list, title, quality</td>\n",
       "                        <td id=\"T_818961a2_e321_11ea_8ad1_f45c899083edrow0_col3\" class=\"data row0 col3\" >2</td>\n",
       "                        <td id=\"T_818961a2_e321_11ea_8ad1_f45c899083edrow0_col4\" class=\"data row0 col4\" >0</td>\n",
       "                        <td id=\"T_818961a2_e321_11ea_8ad1_f45c899083edrow0_col5\" class=\"data row0 col5\" >0</td>\n",
       "                        <td id=\"T_818961a2_e321_11ea_8ad1_f45c899083edrow0_col6\" class=\"data row0 col6\" >Bring back My List! The latest version of Netflix is a disaster on Kindle! Why? They got rid of My List!<br /><br />What is the use in adding a movie or show to My List if you can't access the list with the app? If I want to watch a show I have been streaming, I have to search for it now.<br /><br />Netflix, bring back My List! I HATE this app without it!</td>\n",
       "            </tr>\n",
       "            <tr>\n",
       "                        <th id=\"T_818961a2_e321_11ea_8ad1_f45c899083edlevel0_row1\" class=\"row_heading level0 row1\" >1</th>\n",
       "                        <td id=\"T_818961a2_e321_11ea_8ad1_f45c899083edrow1_col0\" class=\"data row1 col0\" >1.000000</td>\n",
       "                        <td id=\"T_818961a2_e321_11ea_8ad1_f45c899083edrow1_col1\" class=\"data row1 col1\" >0.466900</td>\n",
       "                        <td id=\"T_818961a2_e321_11ea_8ad1_f45c899083edrow1_col2\" class=\"data row1 col2\" >love, app, day, tablet, account, people, access, version, friend, commercial</td>\n",
       "                        <td id=\"T_818961a2_e321_11ea_8ad1_f45c899083edrow1_col3\" class=\"data row1 col3\" >3</td>\n",
       "                        <td id=\"T_818961a2_e321_11ea_8ad1_f45c899083edrow1_col4\" class=\"data row1 col4\" >0</td>\n",
       "                        <td id=\"T_818961a2_e321_11ea_8ad1_f45c899083edrow1_col5\" class=\"data row1 col5\" >0</td>\n",
       "                        <td id=\"T_818961a2_e321_11ea_8ad1_f45c899083edrow1_col6\" class=\"data row1 col6\" >Such Profile. Does what you expect it to do, except there are no profiles! Where are my profiles! Needs more profiles! Wow, such profile, many profile, amaze profile!!</td>\n",
       "            </tr>\n",
       "            <tr>\n",
       "                        <th id=\"T_818961a2_e321_11ea_8ad1_f45c899083edlevel0_row2\" class=\"row_heading level0 row2\" >2</th>\n",
       "                        <td id=\"T_818961a2_e321_11ea_8ad1_f45c899083edrow2_col0\" class=\"data row2 col0\" >2.000000</td>\n",
       "                        <td id=\"T_818961a2_e321_11ea_8ad1_f45c899083edrow2_col1\" class=\"data row2 col1\" >0.419000</td>\n",
       "                        <td id=\"T_818961a2_e321_11ea_8ad1_f45c899083edrow2_col2\" class=\"data row2 col2\" >problem, video, work, device, selection, update, screen, series, review, picture</td>\n",
       "                        <td id=\"T_818961a2_e321_11ea_8ad1_f45c899083edrow2_col3\" class=\"data row2 col3\" >5</td>\n",
       "                        <td id=\"T_818961a2_e321_11ea_8ad1_f45c899083edrow2_col4\" class=\"data row2 col4\" >0</td>\n",
       "                        <td id=\"T_818961a2_e321_11ea_8ad1_f45c899083edrow2_col5\" class=\"data row2 col5\" >0</td>\n",
       "                        <td id=\"T_818961a2_e321_11ea_8ad1_f45c899083edrow2_col6\" class=\"data row2 col6\" >movies @ home when work is done It is ready to watch when I am and it is too late to go out. I do wish they had newer releases.</td>\n",
       "            </tr>\n",
       "            <tr>\n",
       "                        <th id=\"T_818961a2_e321_11ea_8ad1_f45c899083edlevel0_row3\" class=\"row_heading level0 row3\" >3</th>\n",
       "                        <td id=\"T_818961a2_e321_11ea_8ad1_f45c899083edrow3_col0\" class=\"data row3 col0\" >3.000000</td>\n",
       "                        <td id=\"T_818961a2_e321_11ea_8ad1_f45c899083edrow3_col1\" class=\"data row3 col1\" >0.469000</td>\n",
       "                        <td id=\"T_818961a2_e321_11ea_8ad1_f45c899083edrow3_col2\" class=\"data row3 col2\" >movie, show, use, kid, watch, watch_movie, tv_show, shows_movie, choice, product</td>\n",
       "                        <td id=\"T_818961a2_e321_11ea_8ad1_f45c899083edrow3_col3\" class=\"data row3 col3\" >4</td>\n",
       "                        <td id=\"T_818961a2_e321_11ea_8ad1_f45c899083edrow3_col4\" class=\"data row3 col4\" >0</td>\n",
       "                        <td id=\"T_818961a2_e321_11ea_8ad1_f45c899083edrow3_col5\" class=\"data row3 col5\" >0</td>\n",
       "                        <td id=\"T_818961a2_e321_11ea_8ad1_f45c899083edrow3_col6\" class=\"data row3 col6\" >I enjoy the access to movies and the European television series I enjoy the access to movies and the European television series, the BBC in particular. The only shortcoming is there are one or two seasons available  and I would like to see more.</td>\n",
       "            </tr>\n",
       "            <tr>\n",
       "                        <th id=\"T_818961a2_e321_11ea_8ad1_f45c899083edlevel0_row4\" class=\"row_heading level0 row4\" >4</th>\n",
       "                        <td id=\"T_818961a2_e321_11ea_8ad1_f45c899083edrow4_col0\" class=\"data row4 col0\" >4.000000</td>\n",
       "                        <td id=\"T_818961a2_e321_11ea_8ad1_f45c899083edrow4_col1\" class=\"data row4 col1\" >0.523800</td>\n",
       "                        <td id=\"T_818961a2_e321_11ea_8ad1_f45c899083edrow4_col2\" class=\"data row4 col2\" >time, fire, program, issue, way, episode, computer, thing, film, subscription</td>\n",
       "                        <td id=\"T_818961a2_e321_11ea_8ad1_f45c899083edrow4_col3\" class=\"data row4 col3\" >5</td>\n",
       "                        <td id=\"T_818961a2_e321_11ea_8ad1_f45c899083edrow4_col4\" class=\"data row4 col4\" >0</td>\n",
       "                        <td id=\"T_818961a2_e321_11ea_8ad1_f45c899083edrow4_col5\" class=\"data row4 col5\" >0</td>\n",
       "                        <td id=\"T_818961a2_e321_11ea_8ad1_f45c899083edrow4_col6\" class=\"data row4 col6\" >Search for Movies! I can use the search function! I have Netflix on my Blu-ray player, and I can't search movies on it. So with its search function, I'm super glad. Though, I was not too happy I had to subscribe to Amazon prime in order to use Netflix on the fireTV stick...</td>\n",
       "            </tr>\n",
       "            <tr>\n",
       "                        <th id=\"T_818961a2_e321_11ea_8ad1_f45c899083edlevel0_row5\" class=\"row_heading level0 row5\" >5</th>\n",
       "                        <td id=\"T_818961a2_e321_11ea_8ad1_f45c899083edrow5_col0\" class=\"data row5 col0\" >5.000000</td>\n",
       "                        <td id=\"T_818961a2_e321_11ea_8ad1_f45c899083edrow5_col1\" class=\"data row5 col1\" >0.466300</td>\n",
       "                        <td id=\"T_818961a2_e321_11ea_8ad1_f45c899083edrow5_col2\" class=\"data row5 col2\" >tv, service, phone, kindle, cable, thank, family, streaming, documentary, cost</td>\n",
       "                        <td id=\"T_818961a2_e321_11ea_8ad1_f45c899083edrow5_col3\" class=\"data row5 col3\" >3</td>\n",
       "                        <td id=\"T_818961a2_e321_11ea_8ad1_f45c899083edrow5_col4\" class=\"data row5 col4\" >2</td>\n",
       "                        <td id=\"T_818961a2_e321_11ea_8ad1_f45c899083edrow5_col5\" class=\"data row5 col5\" >3</td>\n",
       "                        <td id=\"T_818961a2_e321_11ea_8ad1_f45c899083edrow5_col6\" class=\"data row5 col6\" >Netflix Review I love having access to Netflix.  I love the movies on Netflix.  I just don't like how long it takes Netflix to get a new movie.  I feel like they are the bottom of the totem pole and the last resort for a new release.  Netflix is a wonderful tool to have during this time of recession.  I know that it makes me look good to my grandchildren, cause I can give them decent viewing options and not have to worry as to what they are watching.  Thank you Netflix, for sharing with my family.</td>\n",
       "            </tr>\n",
       "    </tbody></table>"
      ],
      "text/plain": [
       "<pandas.io.formats.style.Styler at 0x7fd83b385b10>"
      ]
     },
     "execution_count": 18,
     "metadata": {},
     "output_type": "execute_result"
    }
   ],
   "source": [
    "print(\"Find the most representative document for each topic\")\n",
    "sent_topics_sorteddf = find_most_representative_doc_for_each_doc(df_topic_sents_keywords,df=df)\n",
    "sent_topics_sorteddf.style.set_properties(subset=['review'], **{'width': '1000px'})"
   ]
  },
  {
   "cell_type": "markdown",
   "metadata": {},
   "source": [
    "#### 3. Standard LDA - Topic distribution across documents"
   ]
  },
  {
   "cell_type": "code",
   "execution_count": 19,
   "metadata": {},
   "outputs": [
    {
     "name": "stdout",
     "output_type": "stream",
     "text": [
      "Topic distribution across documents\n"
     ]
    },
    {
     "data": {
      "text/html": [
       "<style  type=\"text/css\" >\n",
       "    #T_9fed370e_e321_11ea_8ad1_f45c899083edrow0_col1 {\n",
       "            width:  400px;\n",
       "        }    #T_9fed370e_e321_11ea_8ad1_f45c899083edrow1_col1 {\n",
       "            width:  400px;\n",
       "        }    #T_9fed370e_e321_11ea_8ad1_f45c899083edrow2_col1 {\n",
       "            width:  400px;\n",
       "        }    #T_9fed370e_e321_11ea_8ad1_f45c899083edrow3_col1 {\n",
       "            width:  400px;\n",
       "        }    #T_9fed370e_e321_11ea_8ad1_f45c899083edrow4_col1 {\n",
       "            width:  400px;\n",
       "        }    #T_9fed370e_e321_11ea_8ad1_f45c899083edrow5_col1 {\n",
       "            width:  400px;\n",
       "        }</style><table id=\"T_9fed370e_e321_11ea_8ad1_f45c899083ed\" ><thead>    <tr>        <th class=\"blank level0\" ></th>        <th class=\"col_heading level0 col0\" >Dominant_Topic</th>        <th class=\"col_heading level0 col1\" >Keywords</th>        <th class=\"col_heading level0 col2\" >Num_Documents</th>        <th class=\"col_heading level0 col3\" >Perc_Documents</th>    </tr></thead><tbody>\n",
       "                <tr>\n",
       "                        <th id=\"T_9fed370e_e321_11ea_8ad1_f45c899083edlevel0_row0\" class=\"row_heading level0 row0\" >0</th>\n",
       "                        <td id=\"T_9fed370e_e321_11ea_8ad1_f45c899083edrow0_col0\" class=\"data row0 col0\" >0.000000</td>\n",
       "                        <td id=\"T_9fed370e_e321_11ea_8ad1_f45c899083edrow0_col1\" class=\"data row0 col1\" >month, year, price, content, option, entertainment, money, list, title, quality</td>\n",
       "                        <td id=\"T_9fed370e_e321_11ea_8ad1_f45c899083edrow0_col2\" class=\"data row0 col2\" >4192</td>\n",
       "                        <td id=\"T_9fed370e_e321_11ea_8ad1_f45c899083edrow0_col3\" class=\"data row0 col3\" >0.333600</td>\n",
       "            </tr>\n",
       "            <tr>\n",
       "                        <th id=\"T_9fed370e_e321_11ea_8ad1_f45c899083edlevel0_row1\" class=\"row_heading level0 row1\" >1</th>\n",
       "                        <td id=\"T_9fed370e_e321_11ea_8ad1_f45c899083edrow1_col0\" class=\"data row1 col0\" >1.000000</td>\n",
       "                        <td id=\"T_9fed370e_e321_11ea_8ad1_f45c899083edrow1_col1\" class=\"data row1 col1\" >love, app, day, tablet, account, people, access, version, friend, commercial</td>\n",
       "                        <td id=\"T_9fed370e_e321_11ea_8ad1_f45c899083edrow1_col2\" class=\"data row1 col2\" >2006</td>\n",
       "                        <td id=\"T_9fed370e_e321_11ea_8ad1_f45c899083edrow1_col3\" class=\"data row1 col3\" >0.159600</td>\n",
       "            </tr>\n",
       "            <tr>\n",
       "                        <th id=\"T_9fed370e_e321_11ea_8ad1_f45c899083edlevel0_row2\" class=\"row_heading level0 row2\" >2</th>\n",
       "                        <td id=\"T_9fed370e_e321_11ea_8ad1_f45c899083edrow2_col0\" class=\"data row2 col0\" >2.000000</td>\n",
       "                        <td id=\"T_9fed370e_e321_11ea_8ad1_f45c899083edrow2_col1\" class=\"data row2 col1\" >problem, video, work, device, selection, update, screen, series, review, picture</td>\n",
       "                        <td id=\"T_9fed370e_e321_11ea_8ad1_f45c899083edrow2_col2\" class=\"data row2 col2\" >1678</td>\n",
       "                        <td id=\"T_9fed370e_e321_11ea_8ad1_f45c899083edrow2_col3\" class=\"data row2 col3\" >0.133500</td>\n",
       "            </tr>\n",
       "            <tr>\n",
       "                        <th id=\"T_9fed370e_e321_11ea_8ad1_f45c899083edlevel0_row3\" class=\"row_heading level0 row3\" >3</th>\n",
       "                        <td id=\"T_9fed370e_e321_11ea_8ad1_f45c899083edrow3_col0\" class=\"data row3 col0\" >3.000000</td>\n",
       "                        <td id=\"T_9fed370e_e321_11ea_8ad1_f45c899083edrow3_col1\" class=\"data row3 col1\" >movie, show, use, kid, watch, watch_movie, tv_show, shows_movie, choice, product</td>\n",
       "                        <td id=\"T_9fed370e_e321_11ea_8ad1_f45c899083edrow3_col2\" class=\"data row3 col2\" >1664</td>\n",
       "                        <td id=\"T_9fed370e_e321_11ea_8ad1_f45c899083edrow3_col3\" class=\"data row3 col3\" >0.132400</td>\n",
       "            </tr>\n",
       "            <tr>\n",
       "                        <th id=\"T_9fed370e_e321_11ea_8ad1_f45c899083edlevel0_row4\" class=\"row_heading level0 row4\" >4</th>\n",
       "                        <td id=\"T_9fed370e_e321_11ea_8ad1_f45c899083edrow4_col0\" class=\"data row4 col0\" >4.000000</td>\n",
       "                        <td id=\"T_9fed370e_e321_11ea_8ad1_f45c899083edrow4_col1\" class=\"data row4 col1\" >time, fire, program, issue, way, episode, computer, thing, film, subscription</td>\n",
       "                        <td id=\"T_9fed370e_e321_11ea_8ad1_f45c899083edrow4_col2\" class=\"data row4 col2\" >1627</td>\n",
       "                        <td id=\"T_9fed370e_e321_11ea_8ad1_f45c899083edrow4_col3\" class=\"data row4 col3\" >0.129500</td>\n",
       "            </tr>\n",
       "            <tr>\n",
       "                        <th id=\"T_9fed370e_e321_11ea_8ad1_f45c899083edlevel0_row5\" class=\"row_heading level0 row5\" >5</th>\n",
       "                        <td id=\"T_9fed370e_e321_11ea_8ad1_f45c899083edrow5_col0\" class=\"data row5 col0\" >5.000000</td>\n",
       "                        <td id=\"T_9fed370e_e321_11ea_8ad1_f45c899083edrow5_col1\" class=\"data row5 col1\" >tv, service, phone, kindle, cable, thank, family, streaming, documentary, cost</td>\n",
       "                        <td id=\"T_9fed370e_e321_11ea_8ad1_f45c899083edrow5_col2\" class=\"data row5 col2\" >1399</td>\n",
       "                        <td id=\"T_9fed370e_e321_11ea_8ad1_f45c899083edrow5_col3\" class=\"data row5 col3\" >0.111300</td>\n",
       "            </tr>\n",
       "    </tbody></table>"
      ],
      "text/plain": [
       "<pandas.io.formats.style.Styler at 0x7fd8247f6c90>"
      ]
     },
     "execution_count": 19,
     "metadata": {},
     "output_type": "execute_result"
    }
   ],
   "source": [
    "# Show\n",
    "print(\"Topic distribution across documents\")\n",
    "df_dominant_topic = topic_distribution_across_docs(df_topic_sents_keywords)\n",
    "df_dominant_topic.style.set_properties(subset=['Keywords'], **{'width': '400px'})"
   ]
  },
  {
   "cell_type": "code",
   "execution_count": 20,
   "metadata": {},
   "outputs": [
    {
     "data": {
      "text/plain": [
       "[-0.49724770057910794,\n",
       " -0.48030058871786624,\n",
       " -0.4823159450100309,\n",
       " -0.49933323555683556,\n",
       " -0.5012508814572622,\n",
       " -0.473447859465523]"
      ]
     },
     "execution_count": 20,
     "metadata": {},
     "output_type": "execute_result"
    }
   ],
   "source": [
    "coherence_model = CoherenceModel(model=lda_model, texts=data_lemmatized, dictionary=dictionary, coherence='c_npmi')\n",
    "coherence_model.get_coherence_per_topic()"
   ]
  },
  {
   "cell_type": "markdown",
   "metadata": {},
   "source": [
    "### <mark>Mallet Model - Interpret the model</mark>"
   ]
  },
  {
   "cell_type": "code",
   "execution_count": 21,
   "metadata": {},
   "outputs": [],
   "source": [
    "ldamallet = gensim.models.wrappers.LdaMallet.load(datapath('model'))\n",
    "model = gensim.models.wrappers.ldamallet.malletmodel2ldamodel(ldamallet)"
   ]
  },
  {
   "cell_type": "code",
   "execution_count": 22,
   "metadata": {},
   "outputs": [
    {
     "name": "stdout",
     "output_type": "stream",
     "text": [
      "Getting main topic for document...\n",
      "0  1000  2000  3000  4000  5000  6000  7000  8000  9000  10000  11000  12000  "
     ]
    }
   ],
   "source": [
    "df_topic_sents_keywords_m = format_topics_sentences(model, term_doc, data_lemmatized, df)"
   ]
  },
  {
   "cell_type": "code",
   "execution_count": 23,
   "metadata": {},
   "outputs": [],
   "source": [
    "all_topics = model.get_document_topics(bow = term_doc)"
   ]
  },
  {
   "cell_type": "code",
   "execution_count": 24,
   "metadata": {},
   "outputs": [
    {
     "data": {
      "text/html": [
       "<div>\n",
       "<style scoped>\n",
       "    .dataframe tbody tr th:only-of-type {\n",
       "        vertical-align: middle;\n",
       "    }\n",
       "\n",
       "    .dataframe tbody tr th {\n",
       "        vertical-align: top;\n",
       "    }\n",
       "\n",
       "    .dataframe thead th {\n",
       "        text-align: right;\n",
       "    }\n",
       "</style>\n",
       "<table border=\"1\" class=\"dataframe\">\n",
       "  <thead>\n",
       "    <tr style=\"text-align: right;\">\n",
       "      <th></th>\n",
       "      <th>Dominant_Topic</th>\n",
       "      <th>Perc_Contribution</th>\n",
       "      <th>Keywords</th>\n",
       "      <th>0</th>\n",
       "    </tr>\n",
       "  </thead>\n",
       "  <tbody>\n",
       "    <tr>\n",
       "      <th>0</th>\n",
       "      <td>0.0</td>\n",
       "      <td>0.1667</td>\n",
       "      <td>time, work, app, fire, love, phone, movie, tab...</td>\n",
       "      <td>[]</td>\n",
       "    </tr>\n",
       "    <tr>\n",
       "      <th>1</th>\n",
       "      <td>2.0</td>\n",
       "      <td>0.7205</td>\n",
       "      <td>movie, program, cable, tv, show, selection, lo...</td>\n",
       "      <td>[buck, show, buck]</td>\n",
       "    </tr>\n",
       "    <tr>\n",
       "      <th>2</th>\n",
       "      <td>4.0</td>\n",
       "      <td>0.3689</td>\n",
       "      <td>app, video, problem, issue, update, time, devi...</td>\n",
       "      <td>[navigation, movies_show, hitch, device]</td>\n",
       "    </tr>\n",
       "    <tr>\n",
       "      <th>3</th>\n",
       "      <td>0.0</td>\n",
       "      <td>0.1667</td>\n",
       "      <td>time, work, app, fire, love, phone, movie, tab...</td>\n",
       "      <td>[]</td>\n",
       "    </tr>\n",
       "    <tr>\n",
       "      <th>4</th>\n",
       "      <td>5.0</td>\n",
       "      <td>0.5000</td>\n",
       "      <td>love, movie, tv_show, season, lot, watch, tv, ...</td>\n",
       "      <td>[original_series]</td>\n",
       "    </tr>\n",
       "    <tr>\n",
       "      <th>...</th>\n",
       "      <td>...</td>\n",
       "      <td>...</td>\n",
       "      <td>...</td>\n",
       "      <td>...</td>\n",
       "    </tr>\n",
       "    <tr>\n",
       "      <th>12561</th>\n",
       "      <td>4.0</td>\n",
       "      <td>0.6429</td>\n",
       "      <td>app, video, problem, issue, update, time, devi...</td>\n",
       "      <td>[zone, edge]</td>\n",
       "    </tr>\n",
       "    <tr>\n",
       "      <th>12562</th>\n",
       "      <td>0.0</td>\n",
       "      <td>0.4957</td>\n",
       "      <td>time, work, app, fire, love, phone, movie, tab...</td>\n",
       "      <td>[work]</td>\n",
       "    </tr>\n",
       "    <tr>\n",
       "      <th>12563</th>\n",
       "      <td>3.0</td>\n",
       "      <td>0.4965</td>\n",
       "      <td>service, streaming, time, product, year, price...</td>\n",
       "      <td>[service]</td>\n",
       "    </tr>\n",
       "    <tr>\n",
       "      <th>12564</th>\n",
       "      <td>0.0</td>\n",
       "      <td>0.1667</td>\n",
       "      <td>time, work, app, fire, love, phone, movie, tab...</td>\n",
       "      <td>[]</td>\n",
       "    </tr>\n",
       "    <tr>\n",
       "      <th>12565</th>\n",
       "      <td>1.0</td>\n",
       "      <td>0.3614</td>\n",
       "      <td>movie, kid, profile, account, selection, famil...</td>\n",
       "      <td>[destroyer, month, clockwork, watch_cartoon, m...</td>\n",
       "    </tr>\n",
       "  </tbody>\n",
       "</table>\n",
       "<p>12566 rows × 4 columns</p>\n",
       "</div>"
      ],
      "text/plain": [
       "       Dominant_Topic  Perc_Contribution  \\\n",
       "0                 0.0             0.1667   \n",
       "1                 2.0             0.7205   \n",
       "2                 4.0             0.3689   \n",
       "3                 0.0             0.1667   \n",
       "4                 5.0             0.5000   \n",
       "...               ...                ...   \n",
       "12561             4.0             0.6429   \n",
       "12562             0.0             0.4957   \n",
       "12563             3.0             0.4965   \n",
       "12564             0.0             0.1667   \n",
       "12565             1.0             0.3614   \n",
       "\n",
       "                                                Keywords  \\\n",
       "0      time, work, app, fire, love, phone, movie, tab...   \n",
       "1      movie, program, cable, tv, show, selection, lo...   \n",
       "2      app, video, problem, issue, update, time, devi...   \n",
       "3      time, work, app, fire, love, phone, movie, tab...   \n",
       "4      love, movie, tv_show, season, lot, watch, tv, ...   \n",
       "...                                                  ...   \n",
       "12561  app, video, problem, issue, update, time, devi...   \n",
       "12562  time, work, app, fire, love, phone, movie, tab...   \n",
       "12563  service, streaming, time, product, year, price...   \n",
       "12564  time, work, app, fire, love, phone, movie, tab...   \n",
       "12565  movie, kid, profile, account, selection, famil...   \n",
       "\n",
       "                                                       0  \n",
       "0                                                     []  \n",
       "1                                     [buck, show, buck]  \n",
       "2               [navigation, movies_show, hitch, device]  \n",
       "3                                                     []  \n",
       "4                                      [original_series]  \n",
       "...                                                  ...  \n",
       "12561                                       [zone, edge]  \n",
       "12562                                             [work]  \n",
       "12563                                          [service]  \n",
       "12564                                                 []  \n",
       "12565  [destroyer, month, clockwork, watch_cartoon, m...  \n",
       "\n",
       "[12566 rows x 4 columns]"
      ]
     },
     "execution_count": 24,
     "metadata": {},
     "output_type": "execute_result"
    }
   ],
   "source": [
    "df_topic_sents_keywords_m"
   ]
  },
  {
   "cell_type": "markdown",
   "metadata": {},
   "source": [
    "#### 1. Mallet LDA - Finding the dominant topic in each document"
   ]
  },
  {
   "cell_type": "code",
   "execution_count": 25,
   "metadata": {},
   "outputs": [
    {
     "name": "stdout",
     "output_type": "stream",
     "text": [
      "Finding the dominant topic in each document\n"
     ]
    },
    {
     "data": {
      "text/html": [
       "<style  type=\"text/css\" >\n",
       "    #T_b1e5c414_e36f_11ea_9dca_f45c899083edrow0_col7 {\n",
       "            width:  400px;\n",
       "        }    #T_b1e5c414_e36f_11ea_9dca_f45c899083edrow1_col7 {\n",
       "            width:  400px;\n",
       "        }    #T_b1e5c414_e36f_11ea_9dca_f45c899083edrow2_col7 {\n",
       "            width:  400px;\n",
       "        }    #T_b1e5c414_e36f_11ea_9dca_f45c899083edrow3_col7 {\n",
       "            width:  400px;\n",
       "        }    #T_b1e5c414_e36f_11ea_9dca_f45c899083edrow4_col7 {\n",
       "            width:  400px;\n",
       "        }</style><table id=\"T_b1e5c414_e36f_11ea_9dca_f45c899083ed\" ><thead>    <tr>        <th class=\"blank level0\" ></th>        <th class=\"col_heading level0 col0\" >Dominant_Topic</th>        <th class=\"col_heading level0 col1\" >Perc_Contribution</th>        <th class=\"col_heading level0 col2\" >Keywords</th>        <th class=\"col_heading level0 col3\" >Text</th>        <th class=\"col_heading level0 col4\" >star_rating</th>        <th class=\"col_heading level0 col5\" >helpful_votes</th>        <th class=\"col_heading level0 col6\" >total_votes</th>        <th class=\"col_heading level0 col7\" >review</th>    </tr></thead><tbody>\n",
       "                <tr>\n",
       "                        <th id=\"T_b1e5c414_e36f_11ea_9dca_f45c899083edlevel0_row0\" class=\"row_heading level0 row0\" >0</th>\n",
       "                        <td id=\"T_b1e5c414_e36f_11ea_9dca_f45c899083edrow0_col0\" class=\"data row0 col0\" >0.000000</td>\n",
       "                        <td id=\"T_b1e5c414_e36f_11ea_9dca_f45c899083edrow0_col1\" class=\"data row0 col1\" >0.166700</td>\n",
       "                        <td id=\"T_b1e5c414_e36f_11ea_9dca_f45c899083edrow0_col2\" class=\"data row0 col2\" >time, work, app, fire, love, phone, movie, tablet, download, kindle</td>\n",
       "                        <td id=\"T_b1e5c414_e36f_11ea_9dca_f45c899083edrow0_col3\" class=\"data row0 col3\" >[]</td>\n",
       "                        <td id=\"T_b1e5c414_e36f_11ea_9dca_f45c899083edrow0_col4\" class=\"data row0 col4\" >5</td>\n",
       "                        <td id=\"T_b1e5c414_e36f_11ea_9dca_f45c899083edrow0_col5\" class=\"data row0 col5\" >0</td>\n",
       "                        <td id=\"T_b1e5c414_e36f_11ea_9dca_f45c899083edrow0_col6\" class=\"data row0 col6\" >0</td>\n",
       "                        <td id=\"T_b1e5c414_e36f_11ea_9dca_f45c899083edrow0_col7\" class=\"data row0 col7\" >Five Stars netflix is great!</td>\n",
       "            </tr>\n",
       "            <tr>\n",
       "                        <th id=\"T_b1e5c414_e36f_11ea_9dca_f45c899083edlevel0_row1\" class=\"row_heading level0 row1\" >1</th>\n",
       "                        <td id=\"T_b1e5c414_e36f_11ea_9dca_f45c899083edrow1_col0\" class=\"data row1 col0\" >2.000000</td>\n",
       "                        <td id=\"T_b1e5c414_e36f_11ea_9dca_f45c899083edrow1_col1\" class=\"data row1 col1\" >0.720500</td>\n",
       "                        <td id=\"T_b1e5c414_e36f_11ea_9dca_f45c899083edrow1_col2\" class=\"data row1 col2\" >movie, program, cable, tv, show, selection, love, service, year, choice</td>\n",
       "                        <td id=\"T_b1e5c414_e36f_11ea_9dca_f45c899083edrow1_col3\" class=\"data row1 col3\" >['buck', 'show', 'buck']</td>\n",
       "                        <td id=\"T_b1e5c414_e36f_11ea_9dca_f45c899083edrow1_col4\" class=\"data row1 col4\" >5</td>\n",
       "                        <td id=\"T_b1e5c414_e36f_11ea_9dca_f45c899083edrow1_col5\" class=\"data row1 col5\" >0</td>\n",
       "                        <td id=\"T_b1e5c414_e36f_11ea_9dca_f45c899083edrow1_col6\" class=\"data row1 col6\" >0</td>\n",
       "                        <td id=\"T_b1e5c414_e36f_11ea_9dca_f45c899083edrow1_col7\" class=\"data row1 col7\" >GREAT Why pay per view like the others? 8 bucks for all you want to watch. Want to watch every episode of a show? 8 bucks.</td>\n",
       "            </tr>\n",
       "            <tr>\n",
       "                        <th id=\"T_b1e5c414_e36f_11ea_9dca_f45c899083edlevel0_row2\" class=\"row_heading level0 row2\" >2</th>\n",
       "                        <td id=\"T_b1e5c414_e36f_11ea_9dca_f45c899083edrow2_col0\" class=\"data row2 col0\" >4.000000</td>\n",
       "                        <td id=\"T_b1e5c414_e36f_11ea_9dca_f45c899083edrow2_col1\" class=\"data row2 col1\" >0.368900</td>\n",
       "                        <td id=\"T_b1e5c414_e36f_11ea_9dca_f45c899083edrow2_col2\" class=\"data row2 col2\" >app, video, problem, issue, update, time, device, fire, work, fix</td>\n",
       "                        <td id=\"T_b1e5c414_e36f_11ea_9dca_f45c899083edrow2_col3\" class=\"data row2 col3\" >['navigation', 'movies_show', 'hitch', 'device']</td>\n",
       "                        <td id=\"T_b1e5c414_e36f_11ea_9dca_f45c899083edrow2_col4\" class=\"data row2 col4\" >3</td>\n",
       "                        <td id=\"T_b1e5c414_e36f_11ea_9dca_f45c899083edrow2_col5\" class=\"data row2 col5\" >0</td>\n",
       "                        <td id=\"T_b1e5c414_e36f_11ea_9dca_f45c899083edrow2_col6\" class=\"data row2 col6\" >0</td>\n",
       "                        <td id=\"T_b1e5c414_e36f_11ea_9dca_f45c899083edrow2_col7\" class=\"data row2 col7\" >Satisfactory App runs fine on kindle fire HD. Navigation thru app efficient, movies/shows play without hitch, sound is great. Video quality needs work, expected better from an HD device.</td>\n",
       "            </tr>\n",
       "            <tr>\n",
       "                        <th id=\"T_b1e5c414_e36f_11ea_9dca_f45c899083edlevel0_row3\" class=\"row_heading level0 row3\" >3</th>\n",
       "                        <td id=\"T_b1e5c414_e36f_11ea_9dca_f45c899083edrow3_col0\" class=\"data row3 col0\" >0.000000</td>\n",
       "                        <td id=\"T_b1e5c414_e36f_11ea_9dca_f45c899083edrow3_col1\" class=\"data row3 col1\" >0.166700</td>\n",
       "                        <td id=\"T_b1e5c414_e36f_11ea_9dca_f45c899083edrow3_col2\" class=\"data row3 col2\" >time, work, app, fire, love, phone, movie, tablet, download, kindle</td>\n",
       "                        <td id=\"T_b1e5c414_e36f_11ea_9dca_f45c899083edrow3_col3\" class=\"data row3 col3\" >[]</td>\n",
       "                        <td id=\"T_b1e5c414_e36f_11ea_9dca_f45c899083edrow3_col4\" class=\"data row3 col4\" >5</td>\n",
       "                        <td id=\"T_b1e5c414_e36f_11ea_9dca_f45c899083edrow3_col5\" class=\"data row3 col5\" >0</td>\n",
       "                        <td id=\"T_b1e5c414_e36f_11ea_9dca_f45c899083edrow3_col6\" class=\"data row3 col6\" >0</td>\n",
       "                        <td id=\"T_b1e5c414_e36f_11ea_9dca_f45c899083edrow3_col7\" class=\"data row3 col7\" >Five Stars The best</td>\n",
       "            </tr>\n",
       "            <tr>\n",
       "                        <th id=\"T_b1e5c414_e36f_11ea_9dca_f45c899083edlevel0_row4\" class=\"row_heading level0 row4\" >4</th>\n",
       "                        <td id=\"T_b1e5c414_e36f_11ea_9dca_f45c899083edrow4_col0\" class=\"data row4 col0\" >5.000000</td>\n",
       "                        <td id=\"T_b1e5c414_e36f_11ea_9dca_f45c899083edrow4_col1\" class=\"data row4 col1\" >0.500000</td>\n",
       "                        <td id=\"T_b1e5c414_e36f_11ea_9dca_f45c899083edrow4_col2\" class=\"data row4 col2\" >love, movie, tv_show, season, lot, watch, tv, watch_movie, love_great, month</td>\n",
       "                        <td id=\"T_b1e5c414_e36f_11ea_9dca_f45c899083edrow4_col3\" class=\"data row4 col3\" >['original_series']</td>\n",
       "                        <td id=\"T_b1e5c414_e36f_11ea_9dca_f45c899083edrow4_col4\" class=\"data row4 col4\" >5</td>\n",
       "                        <td id=\"T_b1e5c414_e36f_11ea_9dca_f45c899083edrow4_col5\" class=\"data row4 col5\" >0</td>\n",
       "                        <td id=\"T_b1e5c414_e36f_11ea_9dca_f45c899083edrow4_col6\" class=\"data row4 col6\" >0</td>\n",
       "                        <td id=\"T_b1e5c414_e36f_11ea_9dca_f45c899083edrow4_col7\" class=\"data row4 col7\" >Excellent! Love netflix! Worked great on my Kindle. Watched one of the original series that I've been wanting to watch for awhile.</td>\n",
       "            </tr>\n",
       "    </tbody></table>"
      ],
      "text/plain": [
       "<pandas.io.formats.style.Styler at 0x7fdcceacd990>"
      ]
     },
     "execution_count": 25,
     "metadata": {},
     "output_type": "execute_result"
    }
   ],
   "source": [
    "df_dominant_topic_m = find_dominant_topic_in_each_doc(df_topic_sents_keywords_m, df)\n",
    "print(\"Finding the dominant topic in each document\")\n",
    "df_dominant_topic_m.head(5).style.set_properties(subset=['review'], **{'width': '400px'})"
   ]
  },
  {
   "cell_type": "markdown",
   "metadata": {},
   "source": [
    "#### 2. Mallet LDA - Find the most representative document for each topic"
   ]
  },
  {
   "cell_type": "code",
   "execution_count": 26,
   "metadata": {},
   "outputs": [
    {
     "name": "stdout",
     "output_type": "stream",
     "text": [
      "Find the most representative document for each topic\n"
     ]
    },
    {
     "data": {
      "text/html": [
       "<style  type=\"text/css\" >\n",
       "    #T_d59c6bd6_e321_11ea_8ad1_f45c899083edrow0_col6 {\n",
       "            width:  400px;\n",
       "        }    #T_d59c6bd6_e321_11ea_8ad1_f45c899083edrow1_col6 {\n",
       "            width:  400px;\n",
       "        }    #T_d59c6bd6_e321_11ea_8ad1_f45c899083edrow2_col6 {\n",
       "            width:  400px;\n",
       "        }    #T_d59c6bd6_e321_11ea_8ad1_f45c899083edrow3_col6 {\n",
       "            width:  400px;\n",
       "        }    #T_d59c6bd6_e321_11ea_8ad1_f45c899083edrow4_col6 {\n",
       "            width:  400px;\n",
       "        }    #T_d59c6bd6_e321_11ea_8ad1_f45c899083edrow5_col6 {\n",
       "            width:  400px;\n",
       "        }</style><table id=\"T_d59c6bd6_e321_11ea_8ad1_f45c899083ed\" ><thead>    <tr>        <th class=\"blank level0\" ></th>        <th class=\"col_heading level0 col0\" >Dominant_Topic</th>        <th class=\"col_heading level0 col1\" >Perc_Contribution</th>        <th class=\"col_heading level0 col2\" >Topic_Keywords</th>        <th class=\"col_heading level0 col3\" >star_rating</th>        <th class=\"col_heading level0 col4\" >helpful_votes</th>        <th class=\"col_heading level0 col5\" >total_votes</th>        <th class=\"col_heading level0 col6\" >review</th>    </tr></thead><tbody>\n",
       "                <tr>\n",
       "                        <th id=\"T_d59c6bd6_e321_11ea_8ad1_f45c899083edlevel0_row0\" class=\"row_heading level0 row0\" >0</th>\n",
       "                        <td id=\"T_d59c6bd6_e321_11ea_8ad1_f45c899083edrow0_col0\" class=\"data row0 col0\" >0.000000</td>\n",
       "                        <td id=\"T_d59c6bd6_e321_11ea_8ad1_f45c899083edrow0_col1\" class=\"data row0 col1\" >0.893600</td>\n",
       "                        <td id=\"T_d59c6bd6_e321_11ea_8ad1_f45c899083edrow0_col2\" class=\"data row0 col2\" >time, work, app, fire, love, phone, movie, tablet, download, kindle</td>\n",
       "                        <td id=\"T_d59c6bd6_e321_11ea_8ad1_f45c899083edrow0_col3\" class=\"data row0 col3\" >4</td>\n",
       "                        <td id=\"T_d59c6bd6_e321_11ea_8ad1_f45c899083edrow0_col4\" class=\"data row0 col4\" >2</td>\n",
       "                        <td id=\"T_d59c6bd6_e321_11ea_8ad1_f45c899083edrow0_col5\" class=\"data row0 col5\" >3</td>\n",
       "                        <td id=\"T_d59c6bd6_e321_11ea_8ad1_f45c899083edrow0_col6\" class=\"data row0 col6\" >very good I like this app overall but I don't like that their can only be two people on it at a time. It would be better if you could use it without Internet. Sometimes it takes a long to to load or buffer an it makes you shows blurry. There is not as much movies and shows that some other thing like netflix have. Netflix is very good app for sitting down with you family and watching a movie or being alone and watching a show or movie on the couch or even in your bed. Netflix has a lot of great movies and shows to watch. If you find one that you like but you don't want to watch it the you can add it to your list. Overall netflix is really great app and if<br /> you like to watch movies then I would get this app for sure. I like the fact that it is free so for sure get it.I guess you can pay more money monthly for netflix to work on more than two devices at a time. Overall other than the long load times that we encounter once in a great while we will continue to be a netflix customer. We have been now for 4 years and it runs great on out kindles,laptops,and I pods. You can also use it where they have free WiFi like mcdonalds.</td>\n",
       "            </tr>\n",
       "            <tr>\n",
       "                        <th id=\"T_d59c6bd6_e321_11ea_8ad1_f45c899083edlevel0_row1\" class=\"row_heading level0 row1\" >1</th>\n",
       "                        <td id=\"T_d59c6bd6_e321_11ea_8ad1_f45c899083edrow1_col0\" class=\"data row1 col0\" >1.000000</td>\n",
       "                        <td id=\"T_d59c6bd6_e321_11ea_8ad1_f45c899083edrow1_col1\" class=\"data row1 col1\" >0.923200</td>\n",
       "                        <td id=\"T_d59c6bd6_e321_11ea_8ad1_f45c899083edrow1_col2\" class=\"data row1 col2\" >movie, kid, profile, account, selection, family, child, shows_movie, site, watch</td>\n",
       "                        <td id=\"T_d59c6bd6_e321_11ea_8ad1_f45c899083edrow1_col3\" class=\"data row1 col3\" >4</td>\n",
       "                        <td id=\"T_d59c6bd6_e321_11ea_8ad1_f45c899083edrow1_col4\" class=\"data row1 col4\" >10</td>\n",
       "                        <td id=\"T_d59c6bd6_e321_11ea_8ad1_f45c899083edrow1_col5\" class=\"data row1 col5\" >12</td>\n",
       "                        <td id=\"T_d59c6bd6_e321_11ea_8ad1_f45c899083edrow1_col6\" class=\"data row1 col6\" >NETFLIX is great! I really enjoy using NETFLIX.  It is user-friendly, very convenient and inexpensive.<br /><br />The one thing I would change about NETFLIX is the content availability, for example, my children, ages 7 and 8 love to watch movies on NETFLIX and they do have a great selection of children/family content, but at the same time, my kids have access to R-rated, gay-lesbian, horror, etc.  I wish they had a setting which I could prevent them from viewing those genres.  For now, I just closely monitor them, as any good parent should do anyway!</td>\n",
       "            </tr>\n",
       "            <tr>\n",
       "                        <th id=\"T_d59c6bd6_e321_11ea_8ad1_f45c899083edlevel0_row2\" class=\"row_heading level0 row2\" >2</th>\n",
       "                        <td id=\"T_d59c6bd6_e321_11ea_8ad1_f45c899083edrow2_col0\" class=\"data row2 col0\" >2.000000</td>\n",
       "                        <td id=\"T_d59c6bd6_e321_11ea_8ad1_f45c899083edrow2_col1\" class=\"data row2 col1\" >0.923500</td>\n",
       "                        <td id=\"T_d59c6bd6_e321_11ea_8ad1_f45c899083edrow2_col2\" class=\"data row2 col2\" >movie, program, cable, tv, show, selection, love, service, year, choice</td>\n",
       "                        <td id=\"T_d59c6bd6_e321_11ea_8ad1_f45c899083edrow2_col3\" class=\"data row2 col3\" >4</td>\n",
       "                        <td id=\"T_d59c6bd6_e321_11ea_8ad1_f45c899083edrow2_col4\" class=\"data row2 col4\" >1</td>\n",
       "                        <td id=\"T_d59c6bd6_e321_11ea_8ad1_f45c899083edrow2_col5\" class=\"data row2 col5\" >2</td>\n",
       "                        <td id=\"T_d59c6bd6_e321_11ea_8ad1_f45c899083edrow2_col6\" class=\"data row2 col6\" >It's worth the monthly fee! Considering the cost of a movie theater ticket, what a bargain!  I can enjoy a movie without a considerable amount of commercials,  if I am interruped, I can pause the movie and if I am hard of hearing, most movies have closed caption!  I can<br />even make my own popcorn at home!  I can also just stop the movie if it think it's something not of my liking, and start another!!<br />I don't have to drive to and from the theater, no long lines, etc. and if you happen to own a large screen .......... what more could you ask for????????</td>\n",
       "            </tr>\n",
       "            <tr>\n",
       "                        <th id=\"T_d59c6bd6_e321_11ea_8ad1_f45c899083edlevel0_row3\" class=\"row_heading level0 row3\" >3</th>\n",
       "                        <td id=\"T_d59c6bd6_e321_11ea_8ad1_f45c899083edrow3_col0\" class=\"data row3 col0\" >3.000000</td>\n",
       "                        <td id=\"T_d59c6bd6_e321_11ea_8ad1_f45c899083edrow3_col1\" class=\"data row3 col1\" >0.943300</td>\n",
       "                        <td id=\"T_d59c6bd6_e321_11ea_8ad1_f45c899083edrow3_col2\" class=\"data row3 col2\" >service, streaming, time, product, year, price, customer, movie, film, option</td>\n",
       "                        <td id=\"T_d59c6bd6_e321_11ea_8ad1_f45c899083edrow3_col3\" class=\"data row3 col3\" >1</td>\n",
       "                        <td id=\"T_d59c6bd6_e321_11ea_8ad1_f45c899083edrow3_col4\" class=\"data row3 col4\" >21</td>\n",
       "                        <td id=\"T_d59c6bd6_e321_11ea_8ad1_f45c899083edrow3_col5\" class=\"data row3 col5\" >29</td>\n",
       "                        <td id=\"T_d59c6bd6_e321_11ea_8ad1_f45c899083edrow3_col6\" class=\"data row3 col6\" >Netflix and the Arrogant App The arrogance of this application is amazing.  I am sure some &#34;team&#34; thought they new enough, did enough market research, etc. to believe the credits to a film don't matter.  The &#34;team&#34; also apparently believes giving people fewer options is better because it's all just too advanced for us sheep to understand.  I now have to scroll more, hit the back button more, use the navigation ring on Fire TV remote more, and I don't enjoy Netflix as much as I used to.  Eventually there will be increasing options outside of Netflix and that will be a good thing.  I'm thinking maybe I should try Amazon Prime. Although Amazon is getting arrogant too, at least the Prime service lets the movie play to the end without shrinking the credits into oblivion.  I'll decide when to stop watching a movie Netflix, you don't need to prompt me.</td>\n",
       "            </tr>\n",
       "            <tr>\n",
       "                        <th id=\"T_d59c6bd6_e321_11ea_8ad1_f45c899083edlevel0_row4\" class=\"row_heading level0 row4\" >4</th>\n",
       "                        <td id=\"T_d59c6bd6_e321_11ea_8ad1_f45c899083edrow4_col0\" class=\"data row4 col0\" >4.000000</td>\n",
       "                        <td id=\"T_d59c6bd6_e321_11ea_8ad1_f45c899083edrow4_col1\" class=\"data row4 col1\" >0.934800</td>\n",
       "                        <td id=\"T_d59c6bd6_e321_11ea_8ad1_f45c899083edrow4_col2\" class=\"data row4 col2\" >app, video, problem, issue, update, time, device, fire, work, fix</td>\n",
       "                        <td id=\"T_d59c6bd6_e321_11ea_8ad1_f45c899083edrow4_col3\" class=\"data row4 col3\" >3</td>\n",
       "                        <td id=\"T_d59c6bd6_e321_11ea_8ad1_f45c899083edrow4_col4\" class=\"data row4 col4\" >0</td>\n",
       "                        <td id=\"T_d59c6bd6_e321_11ea_8ad1_f45c899083edrow4_col5\" class=\"data row4 col5\" >0</td>\n",
       "                        <td id=\"T_d59c6bd6_e321_11ea_8ad1_f45c899083edrow4_col6\" class=\"data row4 col6\" >good, browsing ui can be a bit too sluggish Streaming works fairly well. I've noticed that the browsing UI can be a bit sluggish.  My guess is that some tasks are being handled in the UI thread, which should actually be delegated to a background thread (I'm a professional developer). This issue should be a high priority fix -- it really detracts from the experience of browsing the available movies and shows, when the Netfix app takes seconds to respond to a drag request.  Also, this should have been caught during QA -- it's pretty basic and important stuff..</td>\n",
       "            </tr>\n",
       "            <tr>\n",
       "                        <th id=\"T_d59c6bd6_e321_11ea_8ad1_f45c899083edlevel0_row5\" class=\"row_heading level0 row5\" >5</th>\n",
       "                        <td id=\"T_d59c6bd6_e321_11ea_8ad1_f45c899083edrow5_col0\" class=\"data row5 col0\" >5.000000</td>\n",
       "                        <td id=\"T_d59c6bd6_e321_11ea_8ad1_f45c899083edrow5_col1\" class=\"data row5 col1\" >0.866700</td>\n",
       "                        <td id=\"T_d59c6bd6_e321_11ea_8ad1_f45c899083edrow5_col2\" class=\"data row5 col2\" >love, movie, tv_show, season, lot, watch, tv, watch_movie, love_great, month</td>\n",
       "                        <td id=\"T_d59c6bd6_e321_11ea_8ad1_f45c899083edrow5_col3\" class=\"data row5 col3\" >5</td>\n",
       "                        <td id=\"T_d59c6bd6_e321_11ea_8ad1_f45c899083edrow5_col4\" class=\"data row5 col4\" >0</td>\n",
       "                        <td id=\"T_d59c6bd6_e321_11ea_8ad1_f45c899083edrow5_col5\" class=\"data row5 col5\" >0</td>\n",
       "                        <td id=\"T_d59c6bd6_e321_11ea_8ad1_f45c899083edrow5_col6\" class=\"data row5 col6\" >Who really doesn't love netflix. It is everything in one place Who really doesn't love netflix. It is everything in one place. I mean they could have a few more things but if not there is project TV or hulu.</td>\n",
       "            </tr>\n",
       "    </tbody></table>"
      ],
      "text/plain": [
       "<pandas.io.formats.style.Styler at 0x7fd826061d90>"
      ]
     },
     "execution_count": 26,
     "metadata": {},
     "output_type": "execute_result"
    }
   ],
   "source": [
    "print(\"Find the most representative document for each topic\")\n",
    "sent_topics_sorteddf_m = find_most_representative_doc_for_each_doc(df_topic_sents_keywords_m, df)\n",
    "sent_topics_sorteddf_m.style.set_properties(subset=['review'], **{'width': '400px'})"
   ]
  },
  {
   "cell_type": "markdown",
   "metadata": {},
   "source": [
    "#### 3. Mallet LDA - Topic distribution across documents"
   ]
  },
  {
   "cell_type": "code",
   "execution_count": 27,
   "metadata": {},
   "outputs": [
    {
     "name": "stdout",
     "output_type": "stream",
     "text": [
      "Topic distribution across documents\n"
     ]
    },
    {
     "data": {
      "text/html": [
       "<style  type=\"text/css\" >\n",
       "    #T_d7423006_e321_11ea_8ad1_f45c899083edrow0_col1 {\n",
       "            width:  400px;\n",
       "        }    #T_d7423006_e321_11ea_8ad1_f45c899083edrow1_col1 {\n",
       "            width:  400px;\n",
       "        }    #T_d7423006_e321_11ea_8ad1_f45c899083edrow2_col1 {\n",
       "            width:  400px;\n",
       "        }    #T_d7423006_e321_11ea_8ad1_f45c899083edrow3_col1 {\n",
       "            width:  400px;\n",
       "        }    #T_d7423006_e321_11ea_8ad1_f45c899083edrow4_col1 {\n",
       "            width:  400px;\n",
       "        }    #T_d7423006_e321_11ea_8ad1_f45c899083edrow5_col1 {\n",
       "            width:  400px;\n",
       "        }</style><table id=\"T_d7423006_e321_11ea_8ad1_f45c899083ed\" ><thead>    <tr>        <th class=\"blank level0\" ></th>        <th class=\"col_heading level0 col0\" >Dominant_Topic</th>        <th class=\"col_heading level0 col1\" >Keywords</th>        <th class=\"col_heading level0 col2\" >Num_Documents</th>        <th class=\"col_heading level0 col3\" >Perc_Documents</th>    </tr></thead><tbody>\n",
       "                <tr>\n",
       "                        <th id=\"T_d7423006_e321_11ea_8ad1_f45c899083edlevel0_row0\" class=\"row_heading level0 row0\" >0</th>\n",
       "                        <td id=\"T_d7423006_e321_11ea_8ad1_f45c899083edrow0_col0\" class=\"data row0 col0\" >0.000000</td>\n",
       "                        <td id=\"T_d7423006_e321_11ea_8ad1_f45c899083edrow0_col1\" class=\"data row0 col1\" >time, work, app, fire, love, phone, movie, tablet, download, kindle</td>\n",
       "                        <td id=\"T_d7423006_e321_11ea_8ad1_f45c899083edrow0_col2\" class=\"data row0 col2\" >4030</td>\n",
       "                        <td id=\"T_d7423006_e321_11ea_8ad1_f45c899083edrow0_col3\" class=\"data row0 col3\" >0.320700</td>\n",
       "            </tr>\n",
       "            <tr>\n",
       "                        <th id=\"T_d7423006_e321_11ea_8ad1_f45c899083edlevel0_row1\" class=\"row_heading level0 row1\" >1</th>\n",
       "                        <td id=\"T_d7423006_e321_11ea_8ad1_f45c899083edrow1_col0\" class=\"data row1 col0\" >1.000000</td>\n",
       "                        <td id=\"T_d7423006_e321_11ea_8ad1_f45c899083edrow1_col1\" class=\"data row1 col1\" >movie, kid, profile, account, selection, family, child, shows_movie, site, watch</td>\n",
       "                        <td id=\"T_d7423006_e321_11ea_8ad1_f45c899083edrow1_col2\" class=\"data row1 col2\" >1983</td>\n",
       "                        <td id=\"T_d7423006_e321_11ea_8ad1_f45c899083edrow1_col3\" class=\"data row1 col3\" >0.157800</td>\n",
       "            </tr>\n",
       "            <tr>\n",
       "                        <th id=\"T_d7423006_e321_11ea_8ad1_f45c899083edlevel0_row2\" class=\"row_heading level0 row2\" >2</th>\n",
       "                        <td id=\"T_d7423006_e321_11ea_8ad1_f45c899083edrow2_col0\" class=\"data row2 col0\" >2.000000</td>\n",
       "                        <td id=\"T_d7423006_e321_11ea_8ad1_f45c899083edrow2_col1\" class=\"data row2 col1\" >movie, program, cable, tv, show, selection, love, service, year, choice</td>\n",
       "                        <td id=\"T_d7423006_e321_11ea_8ad1_f45c899083edrow2_col2\" class=\"data row2 col2\" >1820</td>\n",
       "                        <td id=\"T_d7423006_e321_11ea_8ad1_f45c899083edrow2_col3\" class=\"data row2 col3\" >0.144800</td>\n",
       "            </tr>\n",
       "            <tr>\n",
       "                        <th id=\"T_d7423006_e321_11ea_8ad1_f45c899083edlevel0_row3\" class=\"row_heading level0 row3\" >3</th>\n",
       "                        <td id=\"T_d7423006_e321_11ea_8ad1_f45c899083edrow3_col0\" class=\"data row3 col0\" >3.000000</td>\n",
       "                        <td id=\"T_d7423006_e321_11ea_8ad1_f45c899083edrow3_col1\" class=\"data row3 col1\" >service, streaming, time, product, year, price, customer, movie, film, option</td>\n",
       "                        <td id=\"T_d7423006_e321_11ea_8ad1_f45c899083edrow3_col2\" class=\"data row3 col2\" >1631</td>\n",
       "                        <td id=\"T_d7423006_e321_11ea_8ad1_f45c899083edrow3_col3\" class=\"data row3 col3\" >0.129800</td>\n",
       "            </tr>\n",
       "            <tr>\n",
       "                        <th id=\"T_d7423006_e321_11ea_8ad1_f45c899083edlevel0_row4\" class=\"row_heading level0 row4\" >4</th>\n",
       "                        <td id=\"T_d7423006_e321_11ea_8ad1_f45c899083edrow4_col0\" class=\"data row4 col0\" >4.000000</td>\n",
       "                        <td id=\"T_d7423006_e321_11ea_8ad1_f45c899083edrow4_col1\" class=\"data row4 col1\" >app, video, problem, issue, update, time, device, fire, work, fix</td>\n",
       "                        <td id=\"T_d7423006_e321_11ea_8ad1_f45c899083edrow4_col2\" class=\"data row4 col2\" >1617</td>\n",
       "                        <td id=\"T_d7423006_e321_11ea_8ad1_f45c899083edrow4_col3\" class=\"data row4 col3\" >0.128700</td>\n",
       "            </tr>\n",
       "            <tr>\n",
       "                        <th id=\"T_d7423006_e321_11ea_8ad1_f45c899083edlevel0_row5\" class=\"row_heading level0 row5\" >5</th>\n",
       "                        <td id=\"T_d7423006_e321_11ea_8ad1_f45c899083edrow5_col0\" class=\"data row5 col0\" >5.000000</td>\n",
       "                        <td id=\"T_d7423006_e321_11ea_8ad1_f45c899083edrow5_col1\" class=\"data row5 col1\" >love, movie, tv_show, season, lot, watch, tv, watch_movie, love_great, month</td>\n",
       "                        <td id=\"T_d7423006_e321_11ea_8ad1_f45c899083edrow5_col2\" class=\"data row5 col2\" >1485</td>\n",
       "                        <td id=\"T_d7423006_e321_11ea_8ad1_f45c899083edrow5_col3\" class=\"data row5 col3\" >0.118200</td>\n",
       "            </tr>\n",
       "    </tbody></table>"
      ],
      "text/plain": [
       "<pandas.io.formats.style.Styler at 0x7fd82af0b510>"
      ]
     },
     "execution_count": 27,
     "metadata": {},
     "output_type": "execute_result"
    }
   ],
   "source": [
    "# Show\n",
    "print(\"Topic distribution across documents\")\n",
    "df_dominant_topic_m = topic_distribution_across_docs(df_topic_sents_keywords_m)\n",
    "df_dominant_topic_m.style.set_properties(subset=['Keywords'], **{'width': '400px'})"
   ]
  },
  {
   "cell_type": "code",
   "execution_count": 28,
   "metadata": {},
   "outputs": [
    {
     "data": {
      "text/plain": [
       "[-0.059887677995452145,\n",
       " -0.08540541347219917,\n",
       " -0.026354790404547596,\n",
       " -0.04867638381820212,\n",
       " 0.002685968866744477,\n",
       " -0.08213902199226049]"
      ]
     },
     "execution_count": 28,
     "metadata": {},
     "output_type": "execute_result"
    }
   ],
   "source": [
    "coherence_model = CoherenceModel(model=ldamallet, texts=data_lemmatized, dictionary=dictionary, coherence='c_npmi')\n",
    "coherence_model.get_coherence_per_topic()"
   ]
  },
  {
   "cell_type": "markdown",
   "metadata": {},
   "source": [
    "## Try the model with TF-IDF dataset"
   ]
  },
  {
   "cell_type": "markdown",
   "metadata": {},
   "source": [
    "### Standard LDA with TF-IDF"
   ]
  },
  {
   "cell_type": "code",
   "execution_count": 29,
   "metadata": {},
   "outputs": [],
   "source": [
    "lda_model_tfidf = gensim.models.ldamodel.LdaModel(corpus=tf_idf,\n",
    "                                           num_topics= 6, \n",
    "                                           random_state=100,\n",
    "                                           update_every=1,\n",
    "                                           chunksize=2000,\n",
    "                                           passes=10,\n",
    "                                           alpha=1.5,\n",
    "                                           per_word_topics=True)"
   ]
  },
  {
   "cell_type": "code",
   "execution_count": 30,
   "metadata": {},
   "outputs": [],
   "source": [
    "vis_data = pyLDAvis.gensim.prepare(lda_model_tfidf, tf_idf, dictionary, sort_topics=False)\n",
    "pyLDAvis.save_html(vis_data, 'std_lda_vis/std_lda_vis_tfidf_num_topics=6&alpha=1.5.html')"
   ]
  },
  {
   "cell_type": "code",
   "execution_count": 31,
   "metadata": {},
   "outputs": [
    {
     "data": {
      "text/plain": [
       "[-0.12354832277346144,\n",
       " -0.27506340107114513,\n",
       " -0.21936770506896217,\n",
       " -0.15886486640839953,\n",
       " -0.315369990391699,\n",
       " -0.06717851894875705]"
      ]
     },
     "execution_count": 31,
     "metadata": {},
     "output_type": "execute_result"
    }
   ],
   "source": [
    "coherence_model_m = CoherenceModel(model=lda_model_tfidf, texts=data_lemmatized, dictionary=dictionary, coherence='c_npmi')\n",
    "coherence_model_m.get_coherence_per_topic()"
   ]
  },
  {
   "cell_type": "code",
   "execution_count": 32,
   "metadata": {},
   "outputs": [
    {
     "name": "stdout",
     "output_type": "stream",
     "text": [
      "Getting main topic for document...\n",
      "0  1000  2000  3000  4000  5000  6000  7000  8000  9000  10000  11000  12000  "
     ]
    }
   ],
   "source": [
    "df_topic_sents_keywords_tfidf = format_topics_sentences(ldamodel=lda_model_tfidf, corpus=term_doc, texts=data_lemmatized)"
   ]
  },
  {
   "cell_type": "markdown",
   "metadata": {},
   "source": [
    "#### 1. Standard LDA with TF-IDF - Finding the dominant topic in each document"
   ]
  },
  {
   "cell_type": "code",
   "execution_count": 33,
   "metadata": {},
   "outputs": [
    {
     "name": "stdout",
     "output_type": "stream",
     "text": [
      "Finding the dominant topic in each document\n"
     ]
    },
    {
     "data": {
      "text/html": [
       "<style  type=\"text/css\" >\n",
       "    #T_ae56072e_db94_11ea_bae4_f45c899083edrow0_col7 {\n",
       "            width:  400px;\n",
       "        }    #T_ae56072e_db94_11ea_bae4_f45c899083edrow1_col7 {\n",
       "            width:  400px;\n",
       "        }    #T_ae56072e_db94_11ea_bae4_f45c899083edrow2_col7 {\n",
       "            width:  400px;\n",
       "        }    #T_ae56072e_db94_11ea_bae4_f45c899083edrow3_col7 {\n",
       "            width:  400px;\n",
       "        }    #T_ae56072e_db94_11ea_bae4_f45c899083edrow4_col7 {\n",
       "            width:  400px;\n",
       "        }</style><table id=\"T_ae56072e_db94_11ea_bae4_f45c899083ed\" ><thead>    <tr>        <th class=\"blank level0\" ></th>        <th class=\"col_heading level0 col0\" >Dominant_Topic</th>        <th class=\"col_heading level0 col1\" >Perc_Contribution</th>        <th class=\"col_heading level0 col2\" >Keywords</th>        <th class=\"col_heading level0 col3\" >Text</th>        <th class=\"col_heading level0 col4\" >star_rating</th>        <th class=\"col_heading level0 col5\" >helpful_votes</th>        <th class=\"col_heading level0 col6\" >total_votes</th>        <th class=\"col_heading level0 col7\" >review</th>    </tr></thead><tbody>\n",
       "                <tr>\n",
       "                        <th id=\"T_ae56072e_db94_11ea_bae4_f45c899083edlevel0_row0\" class=\"row_heading level0 row0\" >0</th>\n",
       "                        <td id=\"T_ae56072e_db94_11ea_bae4_f45c899083edrow0_col0\" class=\"data row0 col0\" >0.000000</td>\n",
       "                        <td id=\"T_ae56072e_db94_11ea_bae4_f45c899083edrow0_col1\" class=\"data row0 col1\" >0.200000</td>\n",
       "                        <td id=\"T_ae56072e_db94_11ea_bae4_f45c899083edrow0_col2\" class=\"data row0 col2\" >time, video, service, thing, price, product, kid, watch_movie, day, cable</td>\n",
       "                        <td id=\"T_ae56072e_db94_11ea_bae4_f45c899083edrow0_col3\" class=\"data row0 col3\" >[]</td>\n",
       "                        <td id=\"T_ae56072e_db94_11ea_bae4_f45c899083edrow0_col4\" class=\"data row0 col4\" >5</td>\n",
       "                        <td id=\"T_ae56072e_db94_11ea_bae4_f45c899083edrow0_col5\" class=\"data row0 col5\" >0</td>\n",
       "                        <td id=\"T_ae56072e_db94_11ea_bae4_f45c899083edrow0_col6\" class=\"data row0 col6\" >0</td>\n",
       "                        <td id=\"T_ae56072e_db94_11ea_bae4_f45c899083edrow0_col7\" class=\"data row0 col7\" >Five Stars netflix is great!</td>\n",
       "            </tr>\n",
       "            <tr>\n",
       "                        <th id=\"T_ae56072e_db94_11ea_bae4_f45c899083edlevel0_row1\" class=\"row_heading level0 row1\" >1</th>\n",
       "                        <td id=\"T_ae56072e_db94_11ea_bae4_f45c899083edrow1_col0\" class=\"data row1 col0\" >1.000000</td>\n",
       "                        <td id=\"T_ae56072e_db94_11ea_bae4_f45c899083edrow1_col1\" class=\"data row1 col1\" >0.634500</td>\n",
       "                        <td id=\"T_ae56072e_db94_11ea_bae4_f45c899083edrow1_col2\" class=\"data row1 col2\" >selection, show, year, computer, use, watch, content, series, load, commercial</td>\n",
       "                        <td id=\"T_ae56072e_db94_11ea_bae4_f45c899083edrow1_col3\" class=\"data row1 col3\" >['buck', 'show', 'buck']</td>\n",
       "                        <td id=\"T_ae56072e_db94_11ea_bae4_f45c899083edrow1_col4\" class=\"data row1 col4\" >5</td>\n",
       "                        <td id=\"T_ae56072e_db94_11ea_bae4_f45c899083edrow1_col5\" class=\"data row1 col5\" >0</td>\n",
       "                        <td id=\"T_ae56072e_db94_11ea_bae4_f45c899083edrow1_col6\" class=\"data row1 col6\" >0</td>\n",
       "                        <td id=\"T_ae56072e_db94_11ea_bae4_f45c899083edrow1_col7\" class=\"data row1 col7\" >GREAT Why pay per view like the others? 8 bucks for all you want to watch. Want to watch every episode of a show? 8 bucks.</td>\n",
       "            </tr>\n",
       "            <tr>\n",
       "                        <th id=\"T_ae56072e_db94_11ea_bae4_f45c899083edlevel0_row2\" class=\"row_heading level0 row2\" >2</th>\n",
       "                        <td id=\"T_ae56072e_db94_11ea_bae4_f45c899083edrow2_col0\" class=\"data row2 col0\" >2.000000</td>\n",
       "                        <td id=\"T_ae56072e_db94_11ea_bae4_f45c899083edrow2_col1\" class=\"data row2 col1\" >0.383400</td>\n",
       "                        <td id=\"T_ae56072e_db94_11ea_bae4_f45c899083edrow2_col2\" class=\"data row2 col2\" >movie, love, work, fire, phone, month, episode, lot, picture, title</td>\n",
       "                        <td id=\"T_ae56072e_db94_11ea_bae4_f45c899083edrow2_col3\" class=\"data row2 col3\" >['navigation', 'movies_show', 'hitch', 'device']</td>\n",
       "                        <td id=\"T_ae56072e_db94_11ea_bae4_f45c899083edrow2_col4\" class=\"data row2 col4\" >3</td>\n",
       "                        <td id=\"T_ae56072e_db94_11ea_bae4_f45c899083edrow2_col5\" class=\"data row2 col5\" >0</td>\n",
       "                        <td id=\"T_ae56072e_db94_11ea_bae4_f45c899083edrow2_col6\" class=\"data row2 col6\" >0</td>\n",
       "                        <td id=\"T_ae56072e_db94_11ea_bae4_f45c899083edrow2_col7\" class=\"data row2 col7\" >Satisfactory App runs fine on kindle fire HD. Navigation thru app efficient, movies/shows play without hitch, sound is great. Video quality needs work, expected better from an HD device.</td>\n",
       "            </tr>\n",
       "            <tr>\n",
       "                        <th id=\"T_ae56072e_db94_11ea_bae4_f45c899083edlevel0_row3\" class=\"row_heading level0 row3\" >3</th>\n",
       "                        <td id=\"T_ae56072e_db94_11ea_bae4_f45c899083edrow3_col0\" class=\"data row3 col0\" >0.000000</td>\n",
       "                        <td id=\"T_ae56072e_db94_11ea_bae4_f45c899083edrow3_col1\" class=\"data row3 col1\" >0.200000</td>\n",
       "                        <td id=\"T_ae56072e_db94_11ea_bae4_f45c899083edrow3_col2\" class=\"data row3 col2\" >time, video, service, thing, price, product, kid, watch_movie, day, cable</td>\n",
       "                        <td id=\"T_ae56072e_db94_11ea_bae4_f45c899083edrow3_col3\" class=\"data row3 col3\" >[]</td>\n",
       "                        <td id=\"T_ae56072e_db94_11ea_bae4_f45c899083edrow3_col4\" class=\"data row3 col4\" >5</td>\n",
       "                        <td id=\"T_ae56072e_db94_11ea_bae4_f45c899083edrow3_col5\" class=\"data row3 col5\" >0</td>\n",
       "                        <td id=\"T_ae56072e_db94_11ea_bae4_f45c899083edrow3_col6\" class=\"data row3 col6\" >0</td>\n",
       "                        <td id=\"T_ae56072e_db94_11ea_bae4_f45c899083edrow3_col7\" class=\"data row3 col7\" >Five Stars The best</td>\n",
       "            </tr>\n",
       "            <tr>\n",
       "                        <th id=\"T_ae56072e_db94_11ea_bae4_f45c899083edlevel0_row4\" class=\"row_heading level0 row4\" >4</th>\n",
       "                        <td id=\"T_ae56072e_db94_11ea_bae4_f45c899083edrow4_col0\" class=\"data row4 col0\" >4.000000</td>\n",
       "                        <td id=\"T_ae56072e_db94_11ea_bae4_f45c899083edrow4_col1\" class=\"data row4 col1\" >0.419700</td>\n",
       "                        <td id=\"T_ae56072e_db94_11ea_bae4_f45c899083edrow4_col2\" class=\"data row4 col2\" >issue, program, way, update, season, kindle, list, money, people, access</td>\n",
       "                        <td id=\"T_ae56072e_db94_11ea_bae4_f45c899083edrow4_col3\" class=\"data row4 col3\" >['original_series']</td>\n",
       "                        <td id=\"T_ae56072e_db94_11ea_bae4_f45c899083edrow4_col4\" class=\"data row4 col4\" >5</td>\n",
       "                        <td id=\"T_ae56072e_db94_11ea_bae4_f45c899083edrow4_col5\" class=\"data row4 col5\" >0</td>\n",
       "                        <td id=\"T_ae56072e_db94_11ea_bae4_f45c899083edrow4_col6\" class=\"data row4 col6\" >0</td>\n",
       "                        <td id=\"T_ae56072e_db94_11ea_bae4_f45c899083edrow4_col7\" class=\"data row4 col7\" >Excellent! Love netflix! Worked great on my Kindle. Watched one of the original series that I've been wanting to watch for awhile.</td>\n",
       "            </tr>\n",
       "    </tbody></table>"
      ],
      "text/plain": [
       "<pandas.io.formats.style.Styler at 0x7fa4ad61b1d0>"
      ]
     },
     "execution_count": 33,
     "metadata": {},
     "output_type": "execute_result"
    }
   ],
   "source": [
    "df_dominant_topic_tfidf = find_dominant_topic_in_each_doc(df_topic_sents_keywords_tfidf)\n",
    "print(\"Finding the dominant topic in each document\")\n",
    "df_dominant_topic_tfidf.head(5).style.set_properties(subset=['review'], **{'width': '400px'})"
   ]
  },
  {
   "cell_type": "markdown",
   "metadata": {},
   "source": [
    "#### 2. Standard LDA with TF-IDF - Find the most representative document for each topic"
   ]
  },
  {
   "cell_type": "code",
   "execution_count": 34,
   "metadata": {},
   "outputs": [
    {
     "name": "stdout",
     "output_type": "stream",
     "text": [
      "Find the most representative document for each topic\n"
     ]
    },
    {
     "data": {
      "text/html": [
       "<style  type=\"text/css\" >\n",
       "    #T_aeb75178_db94_11ea_bae4_f45c899083edrow0_col6 {\n",
       "            width:  400px;\n",
       "        }    #T_aeb75178_db94_11ea_bae4_f45c899083edrow1_col6 {\n",
       "            width:  400px;\n",
       "        }    #T_aeb75178_db94_11ea_bae4_f45c899083edrow2_col6 {\n",
       "            width:  400px;\n",
       "        }</style><table id=\"T_aeb75178_db94_11ea_bae4_f45c899083ed\" ><thead>    <tr>        <th class=\"blank level0\" ></th>        <th class=\"col_heading level0 col0\" >Dominant_Topic</th>        <th class=\"col_heading level0 col1\" >Perc_Contribution</th>        <th class=\"col_heading level0 col2\" >Topic_Keywords</th>        <th class=\"col_heading level0 col3\" >star_rating</th>        <th class=\"col_heading level0 col4\" >helpful_votes</th>        <th class=\"col_heading level0 col5\" >total_votes</th>        <th class=\"col_heading level0 col6\" >review</th>    </tr></thead><tbody>\n",
       "                <tr>\n",
       "                        <th id=\"T_aeb75178_db94_11ea_bae4_f45c899083edlevel0_row0\" class=\"row_heading level0 row0\" >0</th>\n",
       "                        <td id=\"T_aeb75178_db94_11ea_bae4_f45c899083edrow0_col0\" class=\"data row0 col0\" >0.000000</td>\n",
       "                        <td id=\"T_aeb75178_db94_11ea_bae4_f45c899083edrow0_col1\" class=\"data row0 col1\" >0.910300</td>\n",
       "                        <td id=\"T_aeb75178_db94_11ea_bae4_f45c899083edrow0_col2\" class=\"data row0 col2\" >time, device, service, program, watch_movie, video, thing, shows_movie, thank, kid</td>\n",
       "                        <td id=\"T_aeb75178_db94_11ea_bae4_f45c899083edrow0_col3\" class=\"data row0 col3\" >2</td>\n",
       "                        <td id=\"T_aeb75178_db94_11ea_bae4_f45c899083edrow0_col4\" class=\"data row0 col4\" >0</td>\n",
       "                        <td id=\"T_aeb75178_db94_11ea_bae4_f45c899083edrow0_col5\" class=\"data row0 col5\" >0</td>\n",
       "                        <td id=\"T_aeb75178_db94_11ea_bae4_f45c899083edrow0_col6\" class=\"data row0 col6\" >Works about half the time. If Im lucky, I can start netflix and everythings great! But, most of the time, I have to restart the program 2 or 3 times for it to load.Once its  playing, dont u dare pause it and set it down! It WONT restart. And forget about choosing which tv episode u want to watch. When its running, I luv it and use it a lot! Best of luck!</td>\n",
       "            </tr>\n",
       "            <tr>\n",
       "                        <th id=\"T_aeb75178_db94_11ea_bae4_f45c899083edlevel0_row1\" class=\"row_heading level0 row1\" >1</th>\n",
       "                        <td id=\"T_aeb75178_db94_11ea_bae4_f45c899083edrow1_col0\" class=\"data row1 col0\" >1.000000</td>\n",
       "                        <td id=\"T_aeb75178_db94_11ea_bae4_f45c899083edrow1_col1\" class=\"data row1 col1\" >0.903500</td>\n",
       "                        <td id=\"T_aeb75178_db94_11ea_bae4_f45c899083edrow1_col2\" class=\"data row1 col2\" >tv, selection, show, watch, use, year, computer, four_great, price, way</td>\n",
       "                        <td id=\"T_aeb75178_db94_11ea_bae4_f45c899083edrow1_col3\" class=\"data row1 col3\" >5</td>\n",
       "                        <td id=\"T_aeb75178_db94_11ea_bae4_f45c899083edrow1_col4\" class=\"data row1 col4\" >2</td>\n",
       "                        <td id=\"T_aeb75178_db94_11ea_bae4_f45c899083edrow1_col5\" class=\"data row1 col5\" >2</td>\n",
       "                        <td id=\"T_aeb75178_db94_11ea_bae4_f45c899083edrow1_col6\" class=\"data row1 col6\" >NETFLIX , GREATEST THING SINCE SLICED BREAD Netflix is the greatest bargain around.  I recently drove from LA to Palm Springs to see Robin Thicke in concert and found out he cancelled his concert.  No notice, not fair.  The night before I was mesmerized by a Pink concert on Netflix.  Was the greatest thing I have watched on Netflix.  I think Netflix is great.  I hope they don't get wise and up there online rates.</td>\n",
       "            </tr>\n",
       "            <tr>\n",
       "                        <th id=\"T_aeb75178_db94_11ea_bae4_f45c899083edlevel0_row2\" class=\"row_heading level0 row2\" >2</th>\n",
       "                        <td id=\"T_aeb75178_db94_11ea_bae4_f45c899083edrow2_col0\" class=\"data row2 col0\" >2.000000</td>\n",
       "                        <td id=\"T_aeb75178_db94_11ea_bae4_f45c899083edrow2_col1\" class=\"data row2 col1\" >0.920900</td>\n",
       "                        <td id=\"T_aeb75178_db94_11ea_bae4_f45c899083edrow2_col2\" class=\"data row2 col2\" >love, movie, app, problem, work, fire, tablet, tv_show, phone, kindle</td>\n",
       "                        <td id=\"T_aeb75178_db94_11ea_bae4_f45c899083edrow2_col3\" class=\"data row2 col3\" >4</td>\n",
       "                        <td id=\"T_aeb75178_db94_11ea_bae4_f45c899083edrow2_col4\" class=\"data row2 col4\" >0</td>\n",
       "                        <td id=\"T_aeb75178_db94_11ea_bae4_f45c899083edrow2_col5\" class=\"data row2 col5\" >1</td>\n",
       "                        <td id=\"T_aeb75178_db94_11ea_bae4_f45c899083edrow2_col6\" class=\"data row2 col6\" >Love Hate Relationship Netflix has the best intuitive consumer metrics for movie/tv series rentals--yet, it doesn't do any good when on-line streaming suffers glitches during the holiday season.  Get a clue Amazon! If you're going to have a marriage with Netflix, you can at least provide reliable streaming service during 'peak' periods (Christmas holidays, etc.)  Work it out!</td>\n",
       "            </tr>\n",
       "    </tbody></table>"
      ],
      "text/plain": [
       "<pandas.io.formats.style.Styler at 0x7fa4a9981d50>"
      ]
     },
     "execution_count": 34,
     "metadata": {},
     "output_type": "execute_result"
    }
   ],
   "source": [
    "print(\"Find the most representative document for each topic\")\n",
    "sent_topics_sorteddf_tfidf = find_most_representative_doc_for_each_doc(df_topic_sents_keywords_tfidf)\n",
    "sent_topics_sorteddf_tfidf.style.set_properties(subset=['review'], **{'width': '400px'})"
   ]
  },
  {
   "cell_type": "markdown",
   "metadata": {},
   "source": [
    "#### 3. Standard LDA with TF-IDF - Topic distribution across documents"
   ]
  },
  {
   "cell_type": "code",
   "execution_count": 35,
   "metadata": {},
   "outputs": [
    {
     "name": "stdout",
     "output_type": "stream",
     "text": [
      "Topic distribution across documents\n"
     ]
    },
    {
     "data": {
      "text/html": [
       "<style  type=\"text/css\" >\n",
       "    #T_aebc880a_db94_11ea_bae4_f45c899083edrow0_col1 {\n",
       "            width:  400px;\n",
       "        }    #T_aebc880a_db94_11ea_bae4_f45c899083edrow1_col1 {\n",
       "            width:  400px;\n",
       "        }    #T_aebc880a_db94_11ea_bae4_f45c899083edrow2_col1 {\n",
       "            width:  400px;\n",
       "        }</style><table id=\"T_aebc880a_db94_11ea_bae4_f45c899083ed\" ><thead>    <tr>        <th class=\"blank level0\" ></th>        <th class=\"col_heading level0 col0\" >Dominant_Topic</th>        <th class=\"col_heading level0 col1\" >Keywords</th>        <th class=\"col_heading level0 col2\" >Num_Documents</th>        <th class=\"col_heading level0 col3\" >Perc_Documents</th>    </tr></thead><tbody>\n",
       "                <tr>\n",
       "                        <th id=\"T_aebc880a_db94_11ea_bae4_f45c899083edlevel0_row0\" class=\"row_heading level0 row0\" >0</th>\n",
       "                        <td id=\"T_aebc880a_db94_11ea_bae4_f45c899083edrow0_col0\" class=\"data row0 col0\" >0.000000</td>\n",
       "                        <td id=\"T_aebc880a_db94_11ea_bae4_f45c899083edrow0_col1\" class=\"data row0 col1\" >time, device, service, program, watch_movie, video, thing, shows_movie, thank, kid</td>\n",
       "                        <td id=\"T_aebc880a_db94_11ea_bae4_f45c899083edrow0_col2\" class=\"data row0 col2\" >5551</td>\n",
       "                        <td id=\"T_aebc880a_db94_11ea_bae4_f45c899083edrow0_col3\" class=\"data row0 col3\" >0.441700</td>\n",
       "            </tr>\n",
       "            <tr>\n",
       "                        <th id=\"T_aebc880a_db94_11ea_bae4_f45c899083edlevel0_row1\" class=\"row_heading level0 row1\" >1</th>\n",
       "                        <td id=\"T_aebc880a_db94_11ea_bae4_f45c899083edrow1_col0\" class=\"data row1 col0\" >1.000000</td>\n",
       "                        <td id=\"T_aebc880a_db94_11ea_bae4_f45c899083edrow1_col1\" class=\"data row1 col1\" >tv, selection, show, watch, use, year, computer, four_great, price, way</td>\n",
       "                        <td id=\"T_aebc880a_db94_11ea_bae4_f45c899083edrow1_col2\" class=\"data row1 col2\" >3712</td>\n",
       "                        <td id=\"T_aebc880a_db94_11ea_bae4_f45c899083edrow1_col3\" class=\"data row1 col3\" >0.295400</td>\n",
       "            </tr>\n",
       "            <tr>\n",
       "                        <th id=\"T_aebc880a_db94_11ea_bae4_f45c899083edlevel0_row2\" class=\"row_heading level0 row2\" >2</th>\n",
       "                        <td id=\"T_aebc880a_db94_11ea_bae4_f45c899083edrow2_col0\" class=\"data row2 col0\" >2.000000</td>\n",
       "                        <td id=\"T_aebc880a_db94_11ea_bae4_f45c899083edrow2_col1\" class=\"data row2 col1\" >love, movie, app, problem, work, fire, tablet, tv_show, phone, kindle</td>\n",
       "                        <td id=\"T_aebc880a_db94_11ea_bae4_f45c899083edrow2_col2\" class=\"data row2 col2\" >3303</td>\n",
       "                        <td id=\"T_aebc880a_db94_11ea_bae4_f45c899083edrow2_col3\" class=\"data row2 col3\" >0.262900</td>\n",
       "            </tr>\n",
       "    </tbody></table>"
      ],
      "text/plain": [
       "<pandas.io.formats.style.Styler at 0x7fa4ad61bad0>"
      ]
     },
     "execution_count": 35,
     "metadata": {},
     "output_type": "execute_result"
    }
   ],
   "source": [
    "# Show\n",
    "print(\"Topic distribution across documents\")\n",
    "df_dominant_topic_tfidf = topic_distribution_across_docs(df_topic_sents_keywords_tfidf)\n",
    "df_dominant_topic_tfidf.style.set_properties(subset=['Keywords'], **{'width': '400px'})"
   ]
  },
  {
   "cell_type": "code",
   "execution_count": 36,
   "metadata": {},
   "outputs": [],
   "source": [
    "coherence_model_tfidf = CoherenceModel(model=lda_model_tfidf, texts=data_lemmatized, dictionary=dictionary, coherence='c_npmi')"
   ]
  },
  {
   "cell_type": "code",
   "execution_count": 37,
   "metadata": {},
   "outputs": [
    {
     "data": {
      "text/plain": [
       "[-0.13766191019561025, -0.17645669284948653, -0.11804508379767793]"
      ]
     },
     "execution_count": 37,
     "metadata": {},
     "output_type": "execute_result"
    }
   ],
   "source": [
    "coherence_model_tfidf.get_coherence_per_topic()"
   ]
  },
  {
   "cell_type": "markdown",
   "metadata": {},
   "source": [
    "### Mallet's LDA with TF-IDF"
   ]
  },
  {
   "cell_type": "code",
   "execution_count": 38,
   "metadata": {},
   "outputs": [],
   "source": [
    "# Download File: http://mallet.cs.umass.edu/dist/mallet-2.0.8.zip\n",
    "mallet_path = '../mallet-2.0.8/bin/mallet' # update this path\n",
    "ldamallet_tfidf = gensim.models.wrappers.LdaMallet(mallet_path, \n",
    "                                                   corpus=tf_idf, \n",
    "                                                   num_topics=6, \n",
    "                                                   random_seed = 100,\n",
    "                                                   id2word=dictionary,\n",
    "                                                   alpha = 1.5)"
   ]
  },
  {
   "cell_type": "code",
   "execution_count": 39,
   "metadata": {},
   "outputs": [],
   "source": [
    "# Visualize the topics\n",
    "model = gensim.models.wrappers.ldamallet.malletmodel2ldamodel(ldamallet_tfidf)\n",
    "pyLDAvis.enable_notebook()\n",
    "vis = pyLDAvis.gensim.prepare(model, tf_idf, dictionary)\n",
    "pyLDAvis.save_html(vis, 'mallet_lda_vis/mallet_lda_vis_tfidf_num_topics=6&alpha=1.5.html')"
   ]
  },
  {
   "cell_type": "code",
   "execution_count": 40,
   "metadata": {},
   "outputs": [],
   "source": [
    "coherence_model_m = CoherenceModel(model=model, texts=data_lemmatized, dictionary=dictionary, coherence='c_npmi')\n",
    "coherence_model_m.get_coherence_per_topic()"
   ]
  },
  {
   "cell_type": "code",
   "execution_count": 41,
   "metadata": {},
   "outputs": [
    {
     "name": "stdout",
     "output_type": "stream",
     "text": [
      "Getting main topic for document...\n",
      "0  1000  2000  3000  4000  5000  6000  7000  8000  9000  10000  11000  12000  "
     ]
    }
   ],
   "source": [
    "df_topic_sents_keywords_tfidf_m = format_topics_sentences(ldamodel=ldamallet_tfidf, corpus=term_doc, texts=data_lemmatized)"
   ]
  },
  {
   "cell_type": "markdown",
   "metadata": {},
   "source": [
    "#### 1. Mallet's LDA with TF-IDF - Finding the dominant topic in each document"
   ]
  },
  {
   "cell_type": "code",
   "execution_count": 42,
   "metadata": {},
   "outputs": [
    {
     "name": "stdout",
     "output_type": "stream",
     "text": [
      "Finding the dominant topic in each document\n"
     ]
    },
    {
     "data": {
      "text/html": [
       "<style  type=\"text/css\" >\n",
       "    #T_3d65cdb0_db94_11ea_bae4_f45c899083edrow0_col7 {\n",
       "            width:  400px;\n",
       "        }    #T_3d65cdb0_db94_11ea_bae4_f45c899083edrow1_col7 {\n",
       "            width:  400px;\n",
       "        }    #T_3d65cdb0_db94_11ea_bae4_f45c899083edrow2_col7 {\n",
       "            width:  400px;\n",
       "        }    #T_3d65cdb0_db94_11ea_bae4_f45c899083edrow3_col7 {\n",
       "            width:  400px;\n",
       "        }    #T_3d65cdb0_db94_11ea_bae4_f45c899083edrow4_col7 {\n",
       "            width:  400px;\n",
       "        }</style><table id=\"T_3d65cdb0_db94_11ea_bae4_f45c899083ed\" ><thead>    <tr>        <th class=\"blank level0\" ></th>        <th class=\"col_heading level0 col0\" >Dominant_Topic</th>        <th class=\"col_heading level0 col1\" >Perc_Contribution</th>        <th class=\"col_heading level0 col2\" >Keywords</th>        <th class=\"col_heading level0 col3\" >Text</th>        <th class=\"col_heading level0 col4\" >star_rating</th>        <th class=\"col_heading level0 col5\" >helpful_votes</th>        <th class=\"col_heading level0 col6\" >total_votes</th>        <th class=\"col_heading level0 col7\" >review</th>    </tr></thead><tbody>\n",
       "                <tr>\n",
       "                        <th id=\"T_3d65cdb0_db94_11ea_bae4_f45c899083edlevel0_row0\" class=\"row_heading level0 row0\" >0</th>\n",
       "                        <td id=\"T_3d65cdb0_db94_11ea_bae4_f45c899083edrow0_col0\" class=\"data row0 col0\" >0.000000</td>\n",
       "                        <td id=\"T_3d65cdb0_db94_11ea_bae4_f45c899083edrow0_col1\" class=\"data row0 col1\" >0.200000</td>\n",
       "                        <td id=\"T_3d65cdb0_db94_11ea_bae4_f45c899083edrow0_col2\" class=\"data row0 col2\" >time, video, service, thing, price, product, kid, watch_movie, day, cable</td>\n",
       "                        <td id=\"T_3d65cdb0_db94_11ea_bae4_f45c899083edrow0_col3\" class=\"data row0 col3\" >[]</td>\n",
       "                        <td id=\"T_3d65cdb0_db94_11ea_bae4_f45c899083edrow0_col4\" class=\"data row0 col4\" >5</td>\n",
       "                        <td id=\"T_3d65cdb0_db94_11ea_bae4_f45c899083edrow0_col5\" class=\"data row0 col5\" >0</td>\n",
       "                        <td id=\"T_3d65cdb0_db94_11ea_bae4_f45c899083edrow0_col6\" class=\"data row0 col6\" >0</td>\n",
       "                        <td id=\"T_3d65cdb0_db94_11ea_bae4_f45c899083edrow0_col7\" class=\"data row0 col7\" >Five Stars netflix is great!</td>\n",
       "            </tr>\n",
       "            <tr>\n",
       "                        <th id=\"T_3d65cdb0_db94_11ea_bae4_f45c899083edlevel0_row1\" class=\"row_heading level0 row1\" >1</th>\n",
       "                        <td id=\"T_3d65cdb0_db94_11ea_bae4_f45c899083edrow1_col0\" class=\"data row1 col0\" >1.000000</td>\n",
       "                        <td id=\"T_3d65cdb0_db94_11ea_bae4_f45c899083edrow1_col1\" class=\"data row1 col1\" >0.634500</td>\n",
       "                        <td id=\"T_3d65cdb0_db94_11ea_bae4_f45c899083edrow1_col2\" class=\"data row1 col2\" >selection, show, year, computer, use, watch, content, series, load, commercial</td>\n",
       "                        <td id=\"T_3d65cdb0_db94_11ea_bae4_f45c899083edrow1_col3\" class=\"data row1 col3\" >['buck', 'show', 'buck']</td>\n",
       "                        <td id=\"T_3d65cdb0_db94_11ea_bae4_f45c899083edrow1_col4\" class=\"data row1 col4\" >5</td>\n",
       "                        <td id=\"T_3d65cdb0_db94_11ea_bae4_f45c899083edrow1_col5\" class=\"data row1 col5\" >0</td>\n",
       "                        <td id=\"T_3d65cdb0_db94_11ea_bae4_f45c899083edrow1_col6\" class=\"data row1 col6\" >0</td>\n",
       "                        <td id=\"T_3d65cdb0_db94_11ea_bae4_f45c899083edrow1_col7\" class=\"data row1 col7\" >GREAT Why pay per view like the others? 8 bucks for all you want to watch. Want to watch every episode of a show? 8 bucks.</td>\n",
       "            </tr>\n",
       "            <tr>\n",
       "                        <th id=\"T_3d65cdb0_db94_11ea_bae4_f45c899083edlevel0_row2\" class=\"row_heading level0 row2\" >2</th>\n",
       "                        <td id=\"T_3d65cdb0_db94_11ea_bae4_f45c899083edrow2_col0\" class=\"data row2 col0\" >2.000000</td>\n",
       "                        <td id=\"T_3d65cdb0_db94_11ea_bae4_f45c899083edrow2_col1\" class=\"data row2 col1\" >0.383400</td>\n",
       "                        <td id=\"T_3d65cdb0_db94_11ea_bae4_f45c899083edrow2_col2\" class=\"data row2 col2\" >movie, love, work, fire, phone, month, episode, lot, picture, title</td>\n",
       "                        <td id=\"T_3d65cdb0_db94_11ea_bae4_f45c899083edrow2_col3\" class=\"data row2 col3\" >['navigation', 'movies_show', 'hitch', 'device']</td>\n",
       "                        <td id=\"T_3d65cdb0_db94_11ea_bae4_f45c899083edrow2_col4\" class=\"data row2 col4\" >3</td>\n",
       "                        <td id=\"T_3d65cdb0_db94_11ea_bae4_f45c899083edrow2_col5\" class=\"data row2 col5\" >0</td>\n",
       "                        <td id=\"T_3d65cdb0_db94_11ea_bae4_f45c899083edrow2_col6\" class=\"data row2 col6\" >0</td>\n",
       "                        <td id=\"T_3d65cdb0_db94_11ea_bae4_f45c899083edrow2_col7\" class=\"data row2 col7\" >Satisfactory App runs fine on kindle fire HD. Navigation thru app efficient, movies/shows play without hitch, sound is great. Video quality needs work, expected better from an HD device.</td>\n",
       "            </tr>\n",
       "            <tr>\n",
       "                        <th id=\"T_3d65cdb0_db94_11ea_bae4_f45c899083edlevel0_row3\" class=\"row_heading level0 row3\" >3</th>\n",
       "                        <td id=\"T_3d65cdb0_db94_11ea_bae4_f45c899083edrow3_col0\" class=\"data row3 col0\" >0.000000</td>\n",
       "                        <td id=\"T_3d65cdb0_db94_11ea_bae4_f45c899083edrow3_col1\" class=\"data row3 col1\" >0.200000</td>\n",
       "                        <td id=\"T_3d65cdb0_db94_11ea_bae4_f45c899083edrow3_col2\" class=\"data row3 col2\" >time, video, service, thing, price, product, kid, watch_movie, day, cable</td>\n",
       "                        <td id=\"T_3d65cdb0_db94_11ea_bae4_f45c899083edrow3_col3\" class=\"data row3 col3\" >[]</td>\n",
       "                        <td id=\"T_3d65cdb0_db94_11ea_bae4_f45c899083edrow3_col4\" class=\"data row3 col4\" >5</td>\n",
       "                        <td id=\"T_3d65cdb0_db94_11ea_bae4_f45c899083edrow3_col5\" class=\"data row3 col5\" >0</td>\n",
       "                        <td id=\"T_3d65cdb0_db94_11ea_bae4_f45c899083edrow3_col6\" class=\"data row3 col6\" >0</td>\n",
       "                        <td id=\"T_3d65cdb0_db94_11ea_bae4_f45c899083edrow3_col7\" class=\"data row3 col7\" >Five Stars The best</td>\n",
       "            </tr>\n",
       "            <tr>\n",
       "                        <th id=\"T_3d65cdb0_db94_11ea_bae4_f45c899083edlevel0_row4\" class=\"row_heading level0 row4\" >4</th>\n",
       "                        <td id=\"T_3d65cdb0_db94_11ea_bae4_f45c899083edrow4_col0\" class=\"data row4 col0\" >4.000000</td>\n",
       "                        <td id=\"T_3d65cdb0_db94_11ea_bae4_f45c899083edrow4_col1\" class=\"data row4 col1\" >0.419700</td>\n",
       "                        <td id=\"T_3d65cdb0_db94_11ea_bae4_f45c899083edrow4_col2\" class=\"data row4 col2\" >issue, program, way, update, season, kindle, list, money, people, access</td>\n",
       "                        <td id=\"T_3d65cdb0_db94_11ea_bae4_f45c899083edrow4_col3\" class=\"data row4 col3\" >['original_series']</td>\n",
       "                        <td id=\"T_3d65cdb0_db94_11ea_bae4_f45c899083edrow4_col4\" class=\"data row4 col4\" >5</td>\n",
       "                        <td id=\"T_3d65cdb0_db94_11ea_bae4_f45c899083edrow4_col5\" class=\"data row4 col5\" >0</td>\n",
       "                        <td id=\"T_3d65cdb0_db94_11ea_bae4_f45c899083edrow4_col6\" class=\"data row4 col6\" >0</td>\n",
       "                        <td id=\"T_3d65cdb0_db94_11ea_bae4_f45c899083edrow4_col7\" class=\"data row4 col7\" >Excellent! Love netflix! Worked great on my Kindle. Watched one of the original series that I've been wanting to watch for awhile.</td>\n",
       "            </tr>\n",
       "    </tbody></table>"
      ],
      "text/plain": [
       "<pandas.io.formats.style.Styler at 0x7fa4ab9d8310>"
      ]
     },
     "execution_count": 42,
     "metadata": {},
     "output_type": "execute_result"
    }
   ],
   "source": [
    "df_dominant_topic_tfidf_m = find_dominant_topic_in_each_doc(df_topic_sents_keywords_tfidf_m)\n",
    "print(\"Finding the dominant topic in each document\")\n",
    "df_dominant_topic_tfidf_m.head(5).style.set_properties(subset=['review'], **{'width': '400px'})"
   ]
  },
  {
   "cell_type": "markdown",
   "metadata": {},
   "source": [
    "#### 2. Mallet's LDA with TF-IDF - Find the most representative document for each topic"
   ]
  },
  {
   "cell_type": "code",
   "execution_count": 43,
   "metadata": {},
   "outputs": [
    {
     "name": "stdout",
     "output_type": "stream",
     "text": [
      "Find the most representative document for each topic\n"
     ]
    },
    {
     "data": {
      "text/html": [
       "<style  type=\"text/css\" >\n",
       "    #T_3db1a668_db94_11ea_bae4_f45c899083edrow0_col6 {\n",
       "            width:  400px;\n",
       "        }    #T_3db1a668_db94_11ea_bae4_f45c899083edrow1_col6 {\n",
       "            width:  400px;\n",
       "        }    #T_3db1a668_db94_11ea_bae4_f45c899083edrow2_col6 {\n",
       "            width:  400px;\n",
       "        }    #T_3db1a668_db94_11ea_bae4_f45c899083edrow3_col6 {\n",
       "            width:  400px;\n",
       "        }    #T_3db1a668_db94_11ea_bae4_f45c899083edrow4_col6 {\n",
       "            width:  400px;\n",
       "        }</style><table id=\"T_3db1a668_db94_11ea_bae4_f45c899083ed\" ><thead>    <tr>        <th class=\"blank level0\" ></th>        <th class=\"col_heading level0 col0\" >Dominant_Topic</th>        <th class=\"col_heading level0 col1\" >Perc_Contribution</th>        <th class=\"col_heading level0 col2\" >Topic_Keywords</th>        <th class=\"col_heading level0 col3\" >star_rating</th>        <th class=\"col_heading level0 col4\" >helpful_votes</th>        <th class=\"col_heading level0 col5\" >total_votes</th>        <th class=\"col_heading level0 col6\" >review</th>    </tr></thead><tbody>\n",
       "                <tr>\n",
       "                        <th id=\"T_3db1a668_db94_11ea_bae4_f45c899083edlevel0_row0\" class=\"row_heading level0 row0\" >0</th>\n",
       "                        <td id=\"T_3db1a668_db94_11ea_bae4_f45c899083edrow0_col0\" class=\"data row0 col0\" >0.000000</td>\n",
       "                        <td id=\"T_3db1a668_db94_11ea_bae4_f45c899083edrow0_col1\" class=\"data row0 col1\" >0.948700</td>\n",
       "                        <td id=\"T_3db1a668_db94_11ea_bae4_f45c899083edrow0_col2\" class=\"data row0 col2\" >love, work, problem, watch, family, lot, newer_movie, kid, choice, thing</td>\n",
       "                        <td id=\"T_3db1a668_db94_11ea_bae4_f45c899083edrow0_col3\" class=\"data row0 col3\" >5</td>\n",
       "                        <td id=\"T_3db1a668_db94_11ea_bae4_f45c899083edrow0_col4\" class=\"data row0 col4\" >0</td>\n",
       "                        <td id=\"T_3db1a668_db94_11ea_bae4_f45c899083edrow0_col5\" class=\"data row0 col5\" >0</td>\n",
       "                        <td id=\"T_3db1a668_db94_11ea_bae4_f45c899083edrow0_col6\" class=\"data row0 col6\" >Netflix is the best! We were more than pleased with our choice of getting Netflix.  Prior to having it in our home, I thought it just gave us access to movies.  Wow...was I ever wrong!  There are tons of great old tv shows, documentaries, family films, Christian films and more.  It has been a wonderful addition to our non-cable tv home and a LOT less costly!</td>\n",
       "            </tr>\n",
       "            <tr>\n",
       "                        <th id=\"T_3db1a668_db94_11ea_bae4_f45c899083edlevel0_row1\" class=\"row_heading level0 row1\" >1</th>\n",
       "                        <td id=\"T_3db1a668_db94_11ea_bae4_f45c899083edrow1_col0\" class=\"data row1 col0\" >0.000000</td>\n",
       "                        <td id=\"T_3db1a668_db94_11ea_bae4_f45c899083edrow1_col1\" class=\"data row1 col1\" >0.948700</td>\n",
       "                        <td id=\"T_3db1a668_db94_11ea_bae4_f45c899083edrow1_col2\" class=\"data row1 col2\" >love, work, problem, watch, family, lot, newer_movie, kid, choice, thing</td>\n",
       "                        <td id=\"T_3db1a668_db94_11ea_bae4_f45c899083edrow1_col3\" class=\"data row1 col3\" >5</td>\n",
       "                        <td id=\"T_3db1a668_db94_11ea_bae4_f45c899083edrow1_col4\" class=\"data row1 col4\" >0</td>\n",
       "                        <td id=\"T_3db1a668_db94_11ea_bae4_f45c899083edrow1_col5\" class=\"data row1 col5\" >0</td>\n",
       "                        <td id=\"T_3db1a668_db94_11ea_bae4_f45c899083edrow1_col6\" class=\"data row1 col6\" >most used app I love netflix on the kindle fire because its nice and portable, I haven't had any problems with it except that once in a while the sidescroll locks up but if I scroll vertically it fixes the problem this issue is annoying but is not that common and does not hinder usage of the application, overall its amazing and I love using it on my kindle.</td>\n",
       "            </tr>\n",
       "            <tr>\n",
       "                        <th id=\"T_3db1a668_db94_11ea_bae4_f45c899083edlevel0_row2\" class=\"row_heading level0 row2\" >2</th>\n",
       "                        <td id=\"T_3db1a668_db94_11ea_bae4_f45c899083edrow2_col0\" class=\"data row2 col0\" >0.000000</td>\n",
       "                        <td id=\"T_3db1a668_db94_11ea_bae4_f45c899083edrow2_col1\" class=\"data row2 col1\" >0.948700</td>\n",
       "                        <td id=\"T_3db1a668_db94_11ea_bae4_f45c899083edrow2_col2\" class=\"data row2 col2\" >love, work, problem, watch, family, lot, newer_movie, kid, choice, thing</td>\n",
       "                        <td id=\"T_3db1a668_db94_11ea_bae4_f45c899083edrow2_col3\" class=\"data row2 col3\" >2</td>\n",
       "                        <td id=\"T_3db1a668_db94_11ea_bae4_f45c899083edrow2_col4\" class=\"data row2 col4\" >0</td>\n",
       "                        <td id=\"T_3db1a668_db94_11ea_bae4_f45c899083edrow2_col5\" class=\"data row2 col5\" >0</td>\n",
       "                        <td id=\"T_3db1a668_db94_11ea_bae4_f45c899083edrow2_col6\" class=\"data row2 col6\" >Inconsistent This application is esp. patchy.  Delivery of content is labored and iregular--and, as Amazon Prime works fine on my Kindle Fire,  my internet speed _should not_ be an issue. Maintenance of recently watched queue is irregular. Search function is poor.  Cannot seem to find films that can be found on Wii interface.</td>\n",
       "            </tr>\n",
       "            <tr>\n",
       "                        <th id=\"T_3db1a668_db94_11ea_bae4_f45c899083edlevel0_row3\" class=\"row_heading level0 row3\" >3</th>\n",
       "                        <td id=\"T_3db1a668_db94_11ea_bae4_f45c899083edrow3_col0\" class=\"data row3 col0\" >1.000000</td>\n",
       "                        <td id=\"T_3db1a668_db94_11ea_bae4_f45c899083edrow3_col1\" class=\"data row3 col1\" >0.960800</td>\n",
       "                        <td id=\"T_3db1a668_db94_11ea_bae4_f45c899083edrow3_col2\" class=\"data row3 col2\" >movie, app, selection, four_great, time, program, tablet, shows_movie, love_great, service</td>\n",
       "                        <td id=\"T_3db1a668_db94_11ea_bae4_f45c899083edrow3_col3\" class=\"data row3 col3\" >5</td>\n",
       "                        <td id=\"T_3db1a668_db94_11ea_bae4_f45c899083edrow3_col4\" class=\"data row3 col4\" >1</td>\n",
       "                        <td id=\"T_3db1a668_db94_11ea_bae4_f45c899083edrow3_col5\" class=\"data row3 col5\" >1</td>\n",
       "                        <td id=\"T_3db1a668_db94_11ea_bae4_f45c899083edrow3_col6\" class=\"data row3 col6\" >The gems go into my game just like my money is removed from my account I ordered a &#34;Bag of Gems&#34; for my game &#34;Dragonvale&#34; on 1-21-2015 at about 9pm for $4.99. The money was taken out of my account almost instantly, but I'm still waiting on my gems. Any idea on how long it will be? The gems go into my game just like my money is removed from my account. Hmm?</td>\n",
       "            </tr>\n",
       "            <tr>\n",
       "                        <th id=\"T_3db1a668_db94_11ea_bae4_f45c899083edlevel0_row4\" class=\"row_heading level0 row4\" >4</th>\n",
       "                        <td id=\"T_3db1a668_db94_11ea_bae4_f45c899083edrow4_col0\" class=\"data row4 col0\" >2.000000</td>\n",
       "                        <td id=\"T_3db1a668_db94_11ea_bae4_f45c899083edrow4_col1\" class=\"data row4 col1\" >0.948700</td>\n",
       "                        <td id=\"T_3db1a668_db94_11ea_bae4_f45c899083edrow4_col2\" class=\"data row4 col2\" >love, tv, fire, kindle, watch_movie, show, tv_show, commercial, price, device</td>\n",
       "                        <td id=\"T_3db1a668_db94_11ea_bae4_f45c899083edrow4_col3\" class=\"data row4 col3\" >3</td>\n",
       "                        <td id=\"T_3db1a668_db94_11ea_bae4_f45c899083edrow4_col4\" class=\"data row4 col4\" >0</td>\n",
       "                        <td id=\"T_3db1a668_db94_11ea_bae4_f45c899083edrow4_col5\" class=\"data row4 col5\" >0</td>\n",
       "                        <td id=\"T_3db1a668_db94_11ea_bae4_f45c899083edrow4_col6\" class=\"data row4 col6\" >Such Profile. Does what you expect it to do, except there are no profiles! Where are my profiles! Needs more profiles! Wow, such profile, many profile, amaze profile!!</td>\n",
       "            </tr>\n",
       "    </tbody></table>"
      ],
      "text/plain": [
       "<pandas.io.formats.style.Styler at 0x7fa4ab9bb4d0>"
      ]
     },
     "execution_count": 43,
     "metadata": {},
     "output_type": "execute_result"
    }
   ],
   "source": [
    "print(\"Find the most representative document for each topic\")\n",
    "sent_topics_sorteddf_tfidf_m = find_most_representative_doc_for_each_doc(df_topic_sents_keywords_tfidf_m)\n",
    "sent_topics_sorteddf_tfidf_m.style.set_properties(subset=['review'], **{'width': '400px'})"
   ]
  },
  {
   "cell_type": "markdown",
   "metadata": {},
   "source": [
    "#### 3. Mallet's LDA with TF-IDF - Topic distribution across documents"
   ]
  },
  {
   "cell_type": "code",
   "execution_count": 44,
   "metadata": {},
   "outputs": [
    {
     "name": "stdout",
     "output_type": "stream",
     "text": [
      "Topic distribution across documents\n"
     ]
    },
    {
     "data": {
      "text/html": [
       "<style  type=\"text/css\" >\n",
       "    #T_3db6dce6_db94_11ea_bae4_f45c899083edrow0_col1 {\n",
       "            width:  400px;\n",
       "        }    #T_3db6dce6_db94_11ea_bae4_f45c899083edrow1_col1 {\n",
       "            width:  400px;\n",
       "        }    #T_3db6dce6_db94_11ea_bae4_f45c899083edrow2_col1 {\n",
       "            width:  400px;\n",
       "        }</style><table id=\"T_3db6dce6_db94_11ea_bae4_f45c899083ed\" ><thead>    <tr>        <th class=\"blank level0\" ></th>        <th class=\"col_heading level0 col0\" >Dominant_Topic</th>        <th class=\"col_heading level0 col1\" >Keywords</th>        <th class=\"col_heading level0 col2\" >Num_Documents</th>        <th class=\"col_heading level0 col3\" >Perc_Documents</th>    </tr></thead><tbody>\n",
       "                <tr>\n",
       "                        <th id=\"T_3db6dce6_db94_11ea_bae4_f45c899083edlevel0_row0\" class=\"row_heading level0 row0\" >0</th>\n",
       "                        <td id=\"T_3db6dce6_db94_11ea_bae4_f45c899083edrow0_col0\" class=\"data row0 col0\" >0.000000</td>\n",
       "                        <td id=\"T_3db6dce6_db94_11ea_bae4_f45c899083edrow0_col1\" class=\"data row0 col1\" >love, work, problem, watch, family, lot, newer_movie, kid, choice, thing</td>\n",
       "                        <td id=\"T_3db6dce6_db94_11ea_bae4_f45c899083edrow0_col2\" class=\"data row0 col2\" >6221</td>\n",
       "                        <td id=\"T_3db6dce6_db94_11ea_bae4_f45c899083edrow0_col3\" class=\"data row0 col3\" >0.495100</td>\n",
       "            </tr>\n",
       "            <tr>\n",
       "                        <th id=\"T_3db6dce6_db94_11ea_bae4_f45c899083edlevel0_row1\" class=\"row_heading level0 row1\" >1</th>\n",
       "                        <td id=\"T_3db6dce6_db94_11ea_bae4_f45c899083edrow1_col0\" class=\"data row1 col0\" >1.000000</td>\n",
       "                        <td id=\"T_3db6dce6_db94_11ea_bae4_f45c899083edrow1_col1\" class=\"data row1 col1\" >movie, app, selection, four_great, time, program, tablet, shows_movie, love_great, service</td>\n",
       "                        <td id=\"T_3db6dce6_db94_11ea_bae4_f45c899083edrow1_col2\" class=\"data row1 col2\" >3615</td>\n",
       "                        <td id=\"T_3db6dce6_db94_11ea_bae4_f45c899083edrow1_col3\" class=\"data row1 col3\" >0.287700</td>\n",
       "            </tr>\n",
       "            <tr>\n",
       "                        <th id=\"T_3db6dce6_db94_11ea_bae4_f45c899083edlevel0_row2\" class=\"row_heading level0 row2\" >2</th>\n",
       "                        <td id=\"T_3db6dce6_db94_11ea_bae4_f45c899083edrow2_col0\" class=\"data row2 col0\" >2.000000</td>\n",
       "                        <td id=\"T_3db6dce6_db94_11ea_bae4_f45c899083edrow2_col1\" class=\"data row2 col1\" >love, tv, fire, kindle, watch_movie, show, tv_show, commercial, price, device</td>\n",
       "                        <td id=\"T_3db6dce6_db94_11ea_bae4_f45c899083edrow2_col2\" class=\"data row2 col2\" >2730</td>\n",
       "                        <td id=\"T_3db6dce6_db94_11ea_bae4_f45c899083edrow2_col3\" class=\"data row2 col3\" >0.217300</td>\n",
       "            </tr>\n",
       "    </tbody></table>"
      ],
      "text/plain": [
       "<pandas.io.formats.style.Styler at 0x7fa4ad714450>"
      ]
     },
     "execution_count": 44,
     "metadata": {},
     "output_type": "execute_result"
    }
   ],
   "source": [
    "# Show\n",
    "print(\"Topic distribution across documents\")\n",
    "df_dominant_topic_tfidf_m = topic_distribution_across_docs(df_topic_sents_keywords_tfidf_m)\n",
    "df_dominant_topic_tfidf_m.style.set_properties(subset=['Keywords'], **{'width': '400px'})"
   ]
  },
  {
   "cell_type": "code",
   "execution_count": 45,
   "metadata": {},
   "outputs": [],
   "source": [
    "coherence_model_tfidf_m = CoherenceModel(model=ldamallet_tfidf, texts=data_lemmatized, dictionary=dictionary, coherence='c_npmi')"
   ]
  },
  {
   "cell_type": "code",
   "execution_count": 46,
   "metadata": {},
   "outputs": [
    {
     "data": {
      "text/plain": [
       "[-0.25736556451423853, -0.17892124810727508, -0.2035294296894511]"
      ]
     },
     "execution_count": 46,
     "metadata": {},
     "output_type": "execute_result"
    }
   ],
   "source": [
    "coherence_model_tfidf_m.get_coherence_per_topic()"
   ]
  },
  {
   "cell_type": "code",
   "execution_count": null,
   "metadata": {},
   "outputs": [],
   "source": []
  }
 ],
 "metadata": {
  "kernelspec": {
   "display_name": "Python 3",
   "language": "python",
   "name": "python3"
  },
  "language_info": {
   "codemirror_mode": {
    "name": "ipython",
    "version": 3
   },
   "file_extension": ".py",
   "mimetype": "text/x-python",
   "name": "python",
   "nbconvert_exporter": "python",
   "pygments_lexer": "ipython3",
   "version": "3.7.7"
  }
 },
 "nbformat": 4,
 "nbformat_minor": 4
}
