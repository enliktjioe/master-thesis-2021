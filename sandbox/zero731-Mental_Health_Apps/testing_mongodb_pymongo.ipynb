{
 "cells": [
  {
   "cell_type": "code",
   "execution_count": 13,
   "id": "straight-haven",
   "metadata": {
    "ExecuteTime": {
     "end_time": "2021-03-12T17:47:29.443750Z",
     "start_time": "2021-03-12T17:47:29.439434Z"
    }
   },
   "outputs": [],
   "source": [
    "import pymongo\n",
    "import json\n",
    "\n",
    "from pprint import pprint\n",
    "\n",
    "import pandas as pd\n",
    "import numpy as np"
   ]
  },
  {
   "cell_type": "code",
   "execution_count": 2,
   "id": "cooperative-logistics",
   "metadata": {
    "ExecuteTime": {
     "end_time": "2021-03-12T17:35:33.854290Z",
     "start_time": "2021-03-12T17:35:33.851283Z"
    }
   },
   "outputs": [],
   "source": [
    "from pymongo import MongoClient"
   ]
  },
  {
   "cell_type": "code",
   "execution_count": 3,
   "id": "surrounded-knitting",
   "metadata": {
    "ExecuteTime": {
     "end_time": "2021-03-12T17:35:34.404760Z",
     "start_time": "2021-03-12T17:35:34.375005Z"
    }
   },
   "outputs": [],
   "source": [
    "client = MongoClient(host='localhost', port=27017)"
   ]
  },
  {
   "cell_type": "code",
   "execution_count": 4,
   "id": "taken-ratio",
   "metadata": {
    "ExecuteTime": {
     "end_time": "2021-03-12T17:35:34.945549Z",
     "start_time": "2021-03-12T17:35:34.936994Z"
    }
   },
   "outputs": [],
   "source": [
    "# client = MongoClient()"
   ]
  },
  {
   "cell_type": "code",
   "execution_count": 5,
   "id": "fifteen-medline",
   "metadata": {
    "ExecuteTime": {
     "end_time": "2021-03-12T17:35:35.427250Z",
     "start_time": "2021-03-12T17:35:35.409936Z"
    }
   },
   "outputs": [
    {
     "data": {
      "text/plain": [
       "[{'name': 'admin', 'sizeOnDisk': 40960.0, 'empty': False},\n",
       " {'name': 'config', 'sizeOnDisk': 20480.0, 'empty': False},\n",
       " {'name': 'local', 'sizeOnDisk': 40960.0, 'empty': False}]"
      ]
     },
     "execution_count": 5,
     "metadata": {},
     "output_type": "execute_result"
    }
   ],
   "source": [
    "list(client.list_databases())"
   ]
  },
  {
   "cell_type": "code",
   "execution_count": 6,
   "id": "outstanding-genius",
   "metadata": {
    "ExecuteTime": {
     "end_time": "2021-03-12T17:35:35.931268Z",
     "start_time": "2021-03-12T17:35:35.927261Z"
    }
   },
   "outputs": [],
   "source": [
    "new_db = client['new_db']"
   ]
  },
  {
   "cell_type": "code",
   "execution_count": 7,
   "id": "original-proposal",
   "metadata": {
    "ExecuteTime": {
     "end_time": "2021-03-12T17:35:37.641566Z",
     "start_time": "2021-03-12T17:35:37.636095Z"
    }
   },
   "outputs": [
    {
     "data": {
      "text/plain": [
       "Database(MongoClient(host=['localhost:27017'], document_class=dict, tz_aware=False, connect=True), 'new_db')"
      ]
     },
     "execution_count": 7,
     "metadata": {},
     "output_type": "execute_result"
    }
   ],
   "source": [
    "new_db"
   ]
  },
  {
   "cell_type": "code",
   "execution_count": 8,
   "id": "economic-facility",
   "metadata": {
    "ExecuteTime": {
     "end_time": "2021-03-12T17:35:40.675254Z",
     "start_time": "2021-03-12T17:35:40.672036Z"
    }
   },
   "outputs": [],
   "source": [
    "new_collection = new_db['new_collection']"
   ]
  },
  {
   "cell_type": "code",
   "execution_count": 9,
   "id": "underlying-nothing",
   "metadata": {
    "ExecuteTime": {
     "end_time": "2021-03-12T17:35:41.378614Z",
     "start_time": "2021-03-12T17:35:41.372469Z"
    }
   },
   "outputs": [
    {
     "data": {
      "text/plain": [
       "Collection(Database(MongoClient(host=['localhost:27017'], document_class=dict, tz_aware=False, connect=True), 'new_db'), 'new_collection')"
      ]
     },
     "execution_count": 9,
     "metadata": {},
     "output_type": "execute_result"
    }
   ],
   "source": [
    "new_collection"
   ]
  },
  {
   "cell_type": "code",
   "execution_count": 10,
   "id": "excited-sigma",
   "metadata": {
    "ExecuteTime": {
     "end_time": "2021-03-12T17:37:24.528202Z",
     "start_time": "2021-03-12T17:37:24.521683Z"
    }
   },
   "outputs": [],
   "source": [
    "first_doc = {'name':'Max', 'status':'tired', 'activity':'coding'}"
   ]
  },
  {
   "cell_type": "code",
   "execution_count": 11,
   "id": "victorian-retention",
   "metadata": {
    "ExecuteTime": {
     "end_time": "2021-03-12T17:39:14.735420Z",
     "start_time": "2021-03-12T17:39:14.567710Z"
    }
   },
   "outputs": [
    {
     "data": {
      "text/plain": [
       "<pymongo.results.InsertOneResult at 0x7fbaf91890a0>"
      ]
     },
     "execution_count": 11,
     "metadata": {},
     "output_type": "execute_result"
    }
   ],
   "source": [
    "new_collection.insert_one(first_doc)"
   ]
  },
  {
   "cell_type": "code",
   "execution_count": 12,
   "id": "standard-irish",
   "metadata": {
    "ExecuteTime": {
     "end_time": "2021-03-12T17:40:41.044811Z",
     "start_time": "2021-03-12T17:40:41.036348Z"
    }
   },
   "outputs": [
    {
     "data": {
      "text/plain": [
       "[{'name': 'admin', 'sizeOnDisk': 40960.0, 'empty': False},\n",
       " {'name': 'config', 'sizeOnDisk': 65536.0, 'empty': False},\n",
       " {'name': 'local', 'sizeOnDisk': 40960.0, 'empty': False},\n",
       " {'name': 'new_db', 'sizeOnDisk': 40960.0, 'empty': False}]"
      ]
     },
     "execution_count": 12,
     "metadata": {},
     "output_type": "execute_result"
    }
   ],
   "source": [
    "list(client.list_databases())"
   ]
  },
  {
   "cell_type": "code",
   "execution_count": 14,
   "id": "honest-strap",
   "metadata": {
    "ExecuteTime": {
     "end_time": "2021-03-12T17:57:40.104455Z",
     "start_time": "2021-03-12T17:57:40.092939Z"
    }
   },
   "outputs": [
    {
     "data": {
      "text/plain": [
       "[{'_id': ObjectId('604ba74287aa5bf52f20e93f'),\n",
       "  'name': 'Max',\n",
       "  'status': 'tired',\n",
       "  'activity': 'coding'}]"
      ]
     },
     "execution_count": 14,
     "metadata": {},
     "output_type": "execute_result"
    }
   ],
   "source": [
    "list(new_collection.find({})) # basically equivalent to SQL's SELECT *"
   ]
  },
  {
   "cell_type": "code",
   "execution_count": 15,
   "id": "formal-brunswick",
   "metadata": {
    "ExecuteTime": {
     "end_time": "2021-03-12T17:58:04.228801Z",
     "start_time": "2021-03-12T17:58:04.193818Z"
    }
   },
   "outputs": [
    {
     "data": {
      "text/html": [
       "<div>\n",
       "<style scoped>\n",
       "    .dataframe tbody tr th:only-of-type {\n",
       "        vertical-align: middle;\n",
       "    }\n",
       "\n",
       "    .dataframe tbody tr th {\n",
       "        vertical-align: top;\n",
       "    }\n",
       "\n",
       "    .dataframe thead th {\n",
       "        text-align: right;\n",
       "    }\n",
       "</style>\n",
       "<table border=\"1\" class=\"dataframe\">\n",
       "  <thead>\n",
       "    <tr style=\"text-align: right;\">\n",
       "      <th></th>\n",
       "      <th>_id</th>\n",
       "      <th>name</th>\n",
       "      <th>status</th>\n",
       "      <th>activity</th>\n",
       "    </tr>\n",
       "  </thead>\n",
       "  <tbody>\n",
       "    <tr>\n",
       "      <th>0</th>\n",
       "      <td>604ba74287aa5bf52f20e93f</td>\n",
       "      <td>Max</td>\n",
       "      <td>tired</td>\n",
       "      <td>coding</td>\n",
       "    </tr>\n",
       "  </tbody>\n",
       "</table>\n",
       "</div>"
      ],
      "text/plain": [
       "                        _id name status activity\n",
       "0  604ba74287aa5bf52f20e93f  Max  tired   coding"
      ]
     },
     "execution_count": 15,
     "metadata": {},
     "output_type": "execute_result"
    }
   ],
   "source": [
    "# Turns a query into a list and creates df from that list of dicts\n",
    "pd.DataFrame(list(new_collection.find({})))"
   ]
  },
  {
   "cell_type": "code",
   "execution_count": 17,
   "id": "invisible-microwave",
   "metadata": {
    "ExecuteTime": {
     "end_time": "2021-03-16T22:28:23.533107Z",
     "start_time": "2021-03-16T22:28:23.459332Z"
    }
   },
   "outputs": [],
   "source": [
    "client.close()"
   ]
  },
  {
   "cell_type": "code",
   "execution_count": null,
   "id": "overall-still",
   "metadata": {},
   "outputs": [],
   "source": []
  }
 ],
 "metadata": {
  "kernelspec": {
   "display_name": "mha_proj_env",
   "language": "python",
   "name": "mha_proj_env"
  },
  "language_info": {
   "codemirror_mode": {
    "name": "ipython",
    "version": 3
   },
   "file_extension": ".py",
   "mimetype": "text/x-python",
   "name": "python",
   "nbconvert_exporter": "python",
   "pygments_lexer": "ipython3",
   "version": "3.7.9"
  },
  "toc": {
   "base_numbering": 1,
   "nav_menu": {},
   "number_sections": true,
   "sideBar": true,
   "skip_h1_title": false,
   "title_cell": "Table of Contents",
   "title_sidebar": "Contents",
   "toc_cell": false,
   "toc_position": {},
   "toc_section_display": true,
   "toc_window_display": false
  }
 },
 "nbformat": 4,
 "nbformat_minor": 5
}
