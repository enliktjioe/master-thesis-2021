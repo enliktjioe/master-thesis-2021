{
 "cells": [
  {
   "cell_type": "code",
   "execution_count": 2,
   "metadata": {
    "ExecuteTime": {
     "end_time": "2021-04-16T13:44:39.442815Z",
     "start_time": "2021-04-16T13:44:27.975223Z"
    }
   },
   "outputs": [],
   "source": [
    "## Import necessary libraries\n",
    "import pandas as pd\n",
    "import numpy as np\n",
    "\n",
    "import matplotlib.pyplot as plt\n",
    "%matplotlib inline\n",
    "import seaborn as sns\n",
    "\n",
    "import datetime as dt"
   ]
  },
  {
   "cell_type": "code",
   "execution_count": 22,
   "metadata": {
    "ExecuteTime": {
     "end_time": "2021-04-16T16:31:14.455054Z",
     "start_time": "2021-04-16T16:31:14.448309Z"
    }
   },
   "outputs": [],
   "source": [
    "from explore_funcs import *\n",
    "from model_eval_funcs import *"
   ]
  },
  {
   "cell_type": "code",
   "execution_count": 3,
   "metadata": {
    "ExecuteTime": {
     "end_time": "2021-04-16T13:44:40.938470Z",
     "start_time": "2021-04-16T13:44:39.446133Z"
    }
   },
   "outputs": [
    {
     "data": {
      "text/html": [
       "<div>\n",
       "<style scoped>\n",
       "    .dataframe tbody tr th:only-of-type {\n",
       "        vertical-align: middle;\n",
       "    }\n",
       "\n",
       "    .dataframe tbody tr th {\n",
       "        vertical-align: top;\n",
       "    }\n",
       "\n",
       "    .dataframe thead th {\n",
       "        text-align: right;\n",
       "    }\n",
       "</style>\n",
       "<table border=\"1\" class=\"dataframe\">\n",
       "  <thead>\n",
       "    <tr style=\"text-align: right;\">\n",
       "      <th></th>\n",
       "      <th>app_name</th>\n",
       "      <th>review</th>\n",
       "      <th>rating</th>\n",
       "      <th>date</th>\n",
       "      <th>gp_rvw</th>\n",
       "      <th>as_rvw</th>\n",
       "      <th>as_id</th>\n",
       "      <th>gp_id</th>\n",
       "      <th>num_sents</th>\n",
       "      <th>word_tokens</th>\n",
       "      <th>num_tokens</th>\n",
       "      <th>stopped_tokens</th>\n",
       "      <th>num_stopped_tokens</th>\n",
       "    </tr>\n",
       "  </thead>\n",
       "  <tbody>\n",
       "    <tr>\n",
       "      <th>0</th>\n",
       "      <td>Aura</td>\n",
       "      <td>Awesome</td>\n",
       "      <td>5</td>\n",
       "      <td>2021-03-22 05:59:22</td>\n",
       "      <td>1</td>\n",
       "      <td>0</td>\n",
       "      <td>1114223104</td>\n",
       "      <td>com.aurahealth</td>\n",
       "      <td>1</td>\n",
       "      <td>[Awesome]</td>\n",
       "      <td>1</td>\n",
       "      <td>[Awesome]</td>\n",
       "      <td>1</td>\n",
       "    </tr>\n",
       "    <tr>\n",
       "      <th>1</th>\n",
       "      <td>Aura</td>\n",
       "      <td>Great to help u sleep</td>\n",
       "      <td>5</td>\n",
       "      <td>2021-03-21 20:29:44</td>\n",
       "      <td>1</td>\n",
       "      <td>0</td>\n",
       "      <td>1114223104</td>\n",
       "      <td>com.aurahealth</td>\n",
       "      <td>1</td>\n",
       "      <td>[Great, to, help, u, sleep]</td>\n",
       "      <td>5</td>\n",
       "      <td>[Great, help, sleep]</td>\n",
       "      <td>3</td>\n",
       "    </tr>\n",
       "    <tr>\n",
       "      <th>2</th>\n",
       "      <td>Aura</td>\n",
       "      <td>Very calming, love it!</td>\n",
       "      <td>5</td>\n",
       "      <td>2021-03-21 09:17:13</td>\n",
       "      <td>1</td>\n",
       "      <td>0</td>\n",
       "      <td>1114223104</td>\n",
       "      <td>com.aurahealth</td>\n",
       "      <td>1</td>\n",
       "      <td>[Very, calming, love, it]</td>\n",
       "      <td>4</td>\n",
       "      <td>[Very, calming, love]</td>\n",
       "      <td>3</td>\n",
       "    </tr>\n",
       "    <tr>\n",
       "      <th>3</th>\n",
       "      <td>Aura</td>\n",
       "      <td>I was able to sleep like a baby on the first u...</td>\n",
       "      <td>5</td>\n",
       "      <td>2021-03-21 09:09:57</td>\n",
       "      <td>1</td>\n",
       "      <td>0</td>\n",
       "      <td>1114223104</td>\n",
       "      <td>com.aurahealth</td>\n",
       "      <td>3</td>\n",
       "      <td>[I, was, able, to, sleep, like, a, baby, on, t...</td>\n",
       "      <td>21</td>\n",
       "      <td>[able, sleep, like, baby, first, use, love, me...</td>\n",
       "      <td>12</td>\n",
       "    </tr>\n",
       "    <tr>\n",
       "      <th>4</th>\n",
       "      <td>Aura</td>\n",
       "      <td>Improvement in thoughts, feelings and life!</td>\n",
       "      <td>5</td>\n",
       "      <td>2021-03-20 16:28:42</td>\n",
       "      <td>1</td>\n",
       "      <td>0</td>\n",
       "      <td>1114223104</td>\n",
       "      <td>com.aurahealth</td>\n",
       "      <td>1</td>\n",
       "      <td>[Improvement, in, thoughts, feelings, and, life]</td>\n",
       "      <td>6</td>\n",
       "      <td>[Improvement, thoughts, feelings, life]</td>\n",
       "      <td>4</td>\n",
       "    </tr>\n",
       "  </tbody>\n",
       "</table>\n",
       "</div>"
      ],
      "text/plain": [
       "  app_name                                             review  rating  \\\n",
       "0     Aura                                            Awesome       5   \n",
       "1     Aura                              Great to help u sleep       5   \n",
       "2     Aura                             Very calming, love it!       5   \n",
       "3     Aura  I was able to sleep like a baby on the first u...       5   \n",
       "4     Aura        Improvement in thoughts, feelings and life!       5   \n",
       "\n",
       "                  date  gp_rvw  as_rvw       as_id           gp_id  num_sents  \\\n",
       "0  2021-03-22 05:59:22       1       0  1114223104  com.aurahealth          1   \n",
       "1  2021-03-21 20:29:44       1       0  1114223104  com.aurahealth          1   \n",
       "2  2021-03-21 09:17:13       1       0  1114223104  com.aurahealth          1   \n",
       "3  2021-03-21 09:09:57       1       0  1114223104  com.aurahealth          3   \n",
       "4  2021-03-20 16:28:42       1       0  1114223104  com.aurahealth          1   \n",
       "\n",
       "                                         word_tokens  num_tokens  \\\n",
       "0                                          [Awesome]           1   \n",
       "1                        [Great, to, help, u, sleep]           5   \n",
       "2                          [Very, calming, love, it]           4   \n",
       "3  [I, was, able, to, sleep, like, a, baby, on, t...          21   \n",
       "4   [Improvement, in, thoughts, feelings, and, life]           6   \n",
       "\n",
       "                                      stopped_tokens  num_stopped_tokens  \n",
       "0                                          [Awesome]                   1  \n",
       "1                               [Great, help, sleep]                   3  \n",
       "2                              [Very, calming, love]                   3  \n",
       "3  [able, sleep, like, baby, first, use, love, me...                  12  \n",
       "4            [Improvement, thoughts, feelings, life]                   4  "
      ]
     },
     "execution_count": 3,
     "metadata": {},
     "output_type": "execute_result"
    }
   ],
   "source": [
    "rvw_df = pd.read_csv('Data/rvw_data.csv')\n",
    "rvw_df.head()"
   ]
  },
  {
   "cell_type": "code",
   "execution_count": 4,
   "metadata": {
    "ExecuteTime": {
     "end_time": "2021-04-16T13:45:15.346461Z",
     "start_time": "2021-04-16T13:45:15.270164Z"
    }
   },
   "outputs": [
    {
     "name": "stdout",
     "output_type": "stream",
     "text": [
      "<class 'pandas.core.frame.DataFrame'>\n",
      "RangeIndex: 169037 entries, 0 to 169036\n",
      "Data columns (total 13 columns):\n",
      " #   Column              Non-Null Count   Dtype \n",
      "---  ------              --------------   ----- \n",
      " 0   app_name            169037 non-null  object\n",
      " 1   review              169037 non-null  object\n",
      " 2   rating              169037 non-null  int64 \n",
      " 3   date                169037 non-null  object\n",
      " 4   gp_rvw              169037 non-null  int64 \n",
      " 5   as_rvw              169037 non-null  int64 \n",
      " 6   as_id               169037 non-null  int64 \n",
      " 7   gp_id               163327 non-null  object\n",
      " 8   num_sents           169037 non-null  int64 \n",
      " 9   word_tokens         169037 non-null  object\n",
      " 10  num_tokens          169037 non-null  int64 \n",
      " 11  stopped_tokens      169037 non-null  object\n",
      " 12  num_stopped_tokens  169037 non-null  int64 \n",
      "dtypes: int64(7), object(6)\n",
      "memory usage: 16.8+ MB\n"
     ]
    }
   ],
   "source": [
    "rvw_df.info()"
   ]
  },
  {
   "cell_type": "code",
   "execution_count": null,
   "metadata": {},
   "outputs": [],
   "source": [
    "## Map ratings to categories (pos, neg, and neut)\n",
    "rating_map = {1:'neg',\n",
    "              2:'neg',\n",
    "              3:'neut',\n",
    "              4:'pos',\n",
    "              5:'pos'}\n",
    "\n",
    "rvw_df['rating_cat'] = rvw_df['rating'].map(rating_map)\n",
    "rvw_df.head()"
   ]
  },
  {
   "cell_type": "code",
   "execution_count": 8,
   "metadata": {
    "ExecuteTime": {
     "end_time": "2021-04-16T13:51:09.001087Z",
     "start_time": "2021-04-16T13:51:08.814970Z"
    }
   },
   "outputs": [
    {
     "data": {
      "image/png": "[encoded data removed]",
      "text/plain": [
       "<Figure size 432x288 with 1 Axes>"
      ]
     },
     "metadata": {
      "needs_background": "light"
     },
     "output_type": "display_data"
    }
   ],
   "source": [
    "sns.countplot(data=rvw_df, x='rating_cat');"
   ]
  },
  {
   "cell_type": "code",
   "execution_count": 10,
   "metadata": {
    "ExecuteTime": {
     "end_time": "2021-04-16T16:14:35.419960Z",
     "start_time": "2021-04-16T16:14:35.185815Z"
    }
   },
   "outputs": [
    {
     "data": {
      "text/html": [
       "<style  type=\"text/css\" >\n",
       "</style><table id=\"T_6ac8e_\" ><caption>rating_cat</caption><thead>    <tr>        <th class=\"blank level0\" ></th>        <th class=\"col_heading level0 col0\" >count</th>        <th class=\"col_heading level0 col1\" >%</th>    </tr></thead><tbody>\n",
       "                <tr>\n",
       "                        <th id=\"T_6ac8e_level0_row0\" class=\"row_heading level0 row0\" >pos</th>\n",
       "                        <td id=\"T_6ac8e_row0_col0\" class=\"data row0 col0\" >136147</td>\n",
       "                        <td id=\"T_6ac8e_row0_col1\" class=\"data row0 col1\" >80.540000</td>\n",
       "            </tr>\n",
       "            <tr>\n",
       "                        <th id=\"T_6ac8e_level0_row1\" class=\"row_heading level0 row1\" >neg</th>\n",
       "                        <td id=\"T_6ac8e_row1_col0\" class=\"data row1 col0\" >25904</td>\n",
       "                        <td id=\"T_6ac8e_row1_col1\" class=\"data row1 col1\" >15.320000</td>\n",
       "            </tr>\n",
       "            <tr>\n",
       "                        <th id=\"T_6ac8e_level0_row2\" class=\"row_heading level0 row2\" >neut</th>\n",
       "                        <td id=\"T_6ac8e_row2_col0\" class=\"data row2 col0\" >6986</td>\n",
       "                        <td id=\"T_6ac8e_row2_col1\" class=\"data row2 col1\" >4.130000</td>\n",
       "            </tr>\n",
       "    </tbody></table>"
      ],
      "text/plain": [
       "<pandas.io.formats.style.Styler at 0x7fb350dd38d0>"
      ]
     },
     "metadata": {},
     "output_type": "display_data"
    }
   ],
   "source": [
    "check_unique('rating_cat', rvw_df)"
   ]
  },
  {
   "cell_type": "code",
   "execution_count": 14,
   "metadata": {
    "ExecuteTime": {
     "end_time": "2021-04-16T16:16:43.566631Z",
     "start_time": "2021-04-16T16:16:43.324669Z"
    }
   },
   "outputs": [
    {
     "data": {
      "image/png": "[encoded data removed]",
      "text/plain": [
       "<Figure size 432x288 with 1 Axes>"
      ]
     },
     "metadata": {
      "needs_background": "light"
     },
     "output_type": "display_data"
    }
   ],
   "source": [
    "sns.boxplot(x='rating_cat', y='num_tokens', data=rvw_df);"
   ]
  },
  {
   "cell_type": "code",
   "execution_count": 15,
   "metadata": {
    "ExecuteTime": {
     "end_time": "2021-04-16T16:18:35.003708Z",
     "start_time": "2021-04-16T16:18:34.368635Z"
    }
   },
   "outputs": [
    {
     "data": {
      "text/html": [
       "<style  type=\"text/css\" >\n",
       "</style><table id=\"T_c1f83_\" ><caption>rating_cat</caption><thead>    <tr>        <th class=\"blank level0\" ></th>        <th class=\"col_heading level0 col0\" >count</th>        <th class=\"col_heading level0 col1\" >%</th>    </tr></thead><tbody>\n",
       "                <tr>\n",
       "                        <th id=\"T_c1f83_level0_row0\" class=\"row_heading level0 row0\" >pos</th>\n",
       "                        <td id=\"T_c1f83_row0_col0\" class=\"data row0 col0\" >136147</td>\n",
       "                        <td id=\"T_c1f83_row0_col1\" class=\"data row0 col1\" >84.010000</td>\n",
       "            </tr>\n",
       "            <tr>\n",
       "                        <th id=\"T_c1f83_level0_row1\" class=\"row_heading level0 row1\" >neg</th>\n",
       "                        <td id=\"T_c1f83_row1_col0\" class=\"data row1 col0\" >25904</td>\n",
       "                        <td id=\"T_c1f83_row1_col1\" class=\"data row1 col1\" >15.990000</td>\n",
       "            </tr>\n",
       "    </tbody></table>"
      ],
      "text/plain": [
       "<pandas.io.formats.style.Styler at 0x7fb352030890>"
      ]
     },
     "metadata": {},
     "output_type": "display_data"
    }
   ],
   "source": [
    "bin_df = rvw_df.loc[rvw_df['rating_cat']!='neut'].copy()\n",
    "check_unique('rating_cat', bin_df)"
   ]
  },
  {
   "cell_type": "code",
   "execution_count": null,
   "metadata": {},
   "outputs": [],
   "source": []
  },
  {
   "cell_type": "code",
   "execution_count": null,
   "metadata": {},
   "outputs": [],
   "source": []
  },
  {
   "cell_type": "markdown",
   "metadata": {},
   "source": [
    "## Default Binary Target Models"
   ]
  },
  {
   "cell_type": "code",
   "execution_count": 16,
   "metadata": {
    "ExecuteTime": {
     "end_time": "2021-04-16T16:24:30.799344Z",
     "start_time": "2021-04-16T16:24:29.017604Z"
    }
   },
   "outputs": [],
   "source": [
    "from sklearn.model_selection import train_test_split\n",
    "from sklearn.pipeline import Pipeline\n",
    "from sklearn.feature_extraction.text import TfidfVectorizer\n",
    "from sklearn.naive_bayes import MultinomialNB\n",
    "from sklearn.svm import LinearSVC\n",
    "\n",
    "X = bin_df['review']\n",
    "y = bin_df['rating_cat']\n",
    "\n",
    "X_train, X_test, y_train, y_test = train_test_split(X, y, test_size=0.2, random_state=731)"
   ]
  },
  {
   "cell_type": "code",
   "execution_count": 17,
   "metadata": {
    "ExecuteTime": {
     "end_time": "2021-04-16T16:28:36.638051Z",
     "start_time": "2021-04-16T16:28:36.632590Z"
    }
   },
   "outputs": [],
   "source": [
    "# Naïve Bayes:\n",
    "clf_nb = Pipeline([('tfidf', TfidfVectorizer()),\n",
    "                   ('clf', MultinomialNB()),\n",
    "])\n",
    "\n",
    "# Linear SVC:\n",
    "clf_svc = Pipeline([('tfidf', TfidfVectorizer()),\n",
    "                    ('clf', LinearSVC()),\n",
    "])"
   ]
  },
  {
   "cell_type": "code",
   "execution_count": 25,
   "metadata": {
    "ExecuteTime": {
     "end_time": "2021-04-16T16:33:03.233501Z",
     "start_time": "2021-04-16T16:32:58.016465Z"
    }
   },
   "outputs": [
    {
     "name": "stdout",
     "output_type": "stream",
     "text": [
      "-------------------------------------------------------\n",
      "Classification Report: Default MNB\n",
      "-------------------------------------------------------\n",
      "              precision    recall  f1-score   support\n",
      "\n",
      "         neg       0.93      0.51      0.66      5084\n",
      "         pos       0.92      0.99      0.95     27327\n",
      "\n",
      "    accuracy                           0.92     32411\n",
      "   macro avg       0.92      0.75      0.81     32411\n",
      "weighted avg       0.92      0.92      0.91     32411\n",
      "\n",
      "-------------------------------------------------------\n",
      "-------------------------------------------------------\n",
      "\n",
      "\n"
     ]
    },
    {
     "data": {
      "image/png": "[encoded data removed]",
      "text/plain": [
       "<Figure size 720x432 with 2 Axes>"
      ]
     },
     "metadata": {
      "needs_background": "light"
     },
     "output_type": "display_data"
    }
   ],
   "source": [
    "clf_nb.fit(X_train, y_train)\n",
    "eval_classifier(clf_nb, X_test, y_test, 'Default MNB');"
   ]
  },
  {
   "cell_type": "code",
   "execution_count": 26,
   "metadata": {
    "ExecuteTime": {
     "end_time": "2021-04-16T16:33:25.888734Z",
     "start_time": "2021-04-16T16:33:20.431948Z"
    }
   },
   "outputs": [
    {
     "name": "stdout",
     "output_type": "stream",
     "text": [
      "-------------------------------------------------------\n",
      "Classification Report: Default Linear SVC\n",
      "-------------------------------------------------------\n",
      "              precision    recall  f1-score   support\n",
      "\n",
      "         neg       0.88      0.82      0.85      5084\n",
      "         pos       0.97      0.98      0.97     27327\n",
      "\n",
      "    accuracy                           0.95     32411\n",
      "   macro avg       0.92      0.90      0.91     32411\n",
      "weighted avg       0.95      0.95      0.95     32411\n",
      "\n",
      "-------------------------------------------------------\n",
      "-------------------------------------------------------\n",
      "\n",
      "\n"
     ]
    },
    {
     "data": {
      "image/png": "[encoded data removed]",
      "text/plain": [
       "<Figure size 720x432 with 2 Axes>"
      ]
     },
     "metadata": {
      "needs_background": "light"
     },
     "output_type": "display_data"
    }
   ],
   "source": [
    "clf_svc.fit(X_train, y_train)\n",
    "eval_classifier(clf_svc, X_test, y_test, 'Default Linear SVC');"
   ]
  },
  {
   "cell_type": "code",
   "execution_count": null,
   "metadata": {},
   "outputs": [],
   "source": []
  },
  {
   "cell_type": "code",
   "execution_count": null,
   "metadata": {},
   "outputs": [],
   "source": []
  },
  {
   "cell_type": "code",
   "execution_count": null,
   "metadata": {},
   "outputs": [],
   "source": []
  },
  {
   "cell_type": "code",
   "execution_count": null,
   "metadata": {},
   "outputs": [],
   "source": []
  },
  {
   "cell_type": "code",
   "execution_count": null,
   "metadata": {},
   "outputs": [],
   "source": []
  },
  {
   "cell_type": "code",
   "execution_count": null,
   "metadata": {},
   "outputs": [],
   "source": []
  },
  {
   "cell_type": "code",
   "execution_count": null,
   "metadata": {},
   "outputs": [],
   "source": []
  },
  {
   "cell_type": "code",
   "execution_count": null,
   "metadata": {},
   "outputs": [],
   "source": []
  },
  {
   "cell_type": "code",
   "execution_count": null,
   "metadata": {},
   "outputs": [],
   "source": []
  },
  {
   "cell_type": "code",
   "execution_count": null,
   "metadata": {},
   "outputs": [],
   "source": []
  },
  {
   "cell_type": "code",
   "execution_count": 111,
   "metadata": {
    "ExecuteTime": {
     "end_time": "2021-04-08T20:49:30.330921Z",
     "start_time": "2021-04-08T20:49:29.584313Z"
    }
   },
   "outputs": [],
   "source": [
    "import spacy\n",
    "\n",
    "# Define custom stopwords list\n",
    "custom_stopwords = ['a', 'about', 'am', 'an', 'and', 'are', 'as', 'at', 'be', 'been', 'but', 'by', 'can',\n",
    "             'even', 'ever', 'for', 'from', 'get', 'had', 'has', 'have', 'he', 'her', 'hers', 'his',\n",
    "             'how', 'i', 'if', 'in', 'into', 'is', 'it', 'its', 'just', 'me', 'my', 'of', 'on', 'or',\n",
    "             'our', 'see', 'seen', 'she', 'so', 'than', 'that', 'the', 'their', 'there', 'they', 'this',\n",
    "             'to', 'us', 'was', 'we', 'were', 'what', 'when', 'which', 'who', 'will', 'with', 'you', 'u',\n",
    "             'ca', \"'d\", \"'ll\", \"'m\", \"n‘t\", \"'re\", \"'s\", \"'ve\"\n",
    "            ]\n",
    "\n",
    "# Override the stop words set for the language\n",
    "cls = spacy.util.get_lang_class('en')\n",
    "cls.Defaults.stop_words = custom_stopwords\n",
    "\n",
    "# Now load model\n",
    "nlp = spacy.load('en_core_web_sm')"
   ]
  },
  {
   "cell_type": "code",
   "execution_count": 112,
   "metadata": {
    "ExecuteTime": {
     "end_time": "2021-04-08T21:06:59.169146Z",
     "start_time": "2021-04-08T20:49:32.724738Z"
    }
   },
   "outputs": [
    {
     "data": {
      "text/html": [
       "<div>\n",
       "<style scoped>\n",
       "    .dataframe tbody tr th:only-of-type {\n",
       "        vertical-align: middle;\n",
       "    }\n",
       "\n",
       "    .dataframe tbody tr th {\n",
       "        vertical-align: top;\n",
       "    }\n",
       "\n",
       "    .dataframe thead th {\n",
       "        text-align: right;\n",
       "    }\n",
       "</style>\n",
       "<table border=\"1\" class=\"dataframe\">\n",
       "  <thead>\n",
       "    <tr style=\"text-align: right;\">\n",
       "      <th></th>\n",
       "      <th>app_name</th>\n",
       "      <th>review</th>\n",
       "      <th>rating</th>\n",
       "      <th>date</th>\n",
       "      <th>gp_rvw</th>\n",
       "      <th>as_rvw</th>\n",
       "      <th>as_id</th>\n",
       "      <th>gp_id</th>\n",
       "      <th>review_doc</th>\n",
       "      <th>num_sents</th>\n",
       "      <th>word_tokens</th>\n",
       "      <th>num_tokens</th>\n",
       "      <th>stopped_tokens</th>\n",
       "      <th>num_stopped_tokens</th>\n",
       "    </tr>\n",
       "  </thead>\n",
       "  <tbody>\n",
       "    <tr>\n",
       "      <th>0</th>\n",
       "      <td>Aura</td>\n",
       "      <td>Awesome</td>\n",
       "      <td>5</td>\n",
       "      <td>2021-03-22 05:59:22</td>\n",
       "      <td>1</td>\n",
       "      <td>0</td>\n",
       "      <td>1114223104</td>\n",
       "      <td>com.aurahealth</td>\n",
       "      <td>(Awesome)</td>\n",
       "      <td>1</td>\n",
       "      <td>[Awesome]</td>\n",
       "      <td>1</td>\n",
       "      <td>[Awesome]</td>\n",
       "      <td>1</td>\n",
       "    </tr>\n",
       "    <tr>\n",
       "      <th>1</th>\n",
       "      <td>Aura</td>\n",
       "      <td>Great to help u sleep</td>\n",
       "      <td>5</td>\n",
       "      <td>2021-03-21 20:29:44</td>\n",
       "      <td>1</td>\n",
       "      <td>0</td>\n",
       "      <td>1114223104</td>\n",
       "      <td>com.aurahealth</td>\n",
       "      <td>(Great, to, help, u, sleep)</td>\n",
       "      <td>1</td>\n",
       "      <td>[Great, to, help, u, sleep]</td>\n",
       "      <td>5</td>\n",
       "      <td>[Great, help, u, sleep]</td>\n",
       "      <td>4</td>\n",
       "    </tr>\n",
       "    <tr>\n",
       "      <th>2</th>\n",
       "      <td>Aura</td>\n",
       "      <td>Very calming, love it!</td>\n",
       "      <td>5</td>\n",
       "      <td>2021-03-21 09:17:13</td>\n",
       "      <td>1</td>\n",
       "      <td>0</td>\n",
       "      <td>1114223104</td>\n",
       "      <td>com.aurahealth</td>\n",
       "      <td>(Very, calming, ,, love, it, !)</td>\n",
       "      <td>1</td>\n",
       "      <td>[Very, calming, love, it]</td>\n",
       "      <td>4</td>\n",
       "      <td>[calming, love]</td>\n",
       "      <td>2</td>\n",
       "    </tr>\n",
       "    <tr>\n",
       "      <th>3</th>\n",
       "      <td>Aura</td>\n",
       "      <td>I was able to sleep like a baby on the first u...</td>\n",
       "      <td>5</td>\n",
       "      <td>2021-03-21 09:09:57</td>\n",
       "      <td>1</td>\n",
       "      <td>0</td>\n",
       "      <td>1114223104</td>\n",
       "      <td>com.aurahealth</td>\n",
       "      <td>(I, was, able, to, sleep, like, a, baby, on, t...</td>\n",
       "      <td>3</td>\n",
       "      <td>[I, was, able, to, sleep, like, a, baby, on, t...</td>\n",
       "      <td>21</td>\n",
       "      <td>[able, sleep, like, baby, use, love, meditatio...</td>\n",
       "      <td>11</td>\n",
       "    </tr>\n",
       "    <tr>\n",
       "      <th>4</th>\n",
       "      <td>Aura</td>\n",
       "      <td>Improvement in thoughts, feelings and life!</td>\n",
       "      <td>5</td>\n",
       "      <td>2021-03-20 16:28:42</td>\n",
       "      <td>1</td>\n",
       "      <td>0</td>\n",
       "      <td>1114223104</td>\n",
       "      <td>com.aurahealth</td>\n",
       "      <td>(Improvement, in, thoughts, ,, feelings, and, ...</td>\n",
       "      <td>1</td>\n",
       "      <td>[Improvement, in, thoughts, feelings, and, life]</td>\n",
       "      <td>6</td>\n",
       "      <td>[Improvement, thoughts, feelings, life]</td>\n",
       "      <td>4</td>\n",
       "    </tr>\n",
       "  </tbody>\n",
       "</table>\n",
       "</div>"
      ],
      "text/plain": [
       "  app_name                                             review  rating  \\\n",
       "0     Aura                                            Awesome       5   \n",
       "1     Aura                              Great to help u sleep       5   \n",
       "2     Aura                             Very calming, love it!       5   \n",
       "3     Aura  I was able to sleep like a baby on the first u...       5   \n",
       "4     Aura        Improvement in thoughts, feelings and life!       5   \n",
       "\n",
       "                 date  gp_rvw  as_rvw       as_id           gp_id  \\\n",
       "0 2021-03-22 05:59:22       1       0  1114223104  com.aurahealth   \n",
       "1 2021-03-21 20:29:44       1       0  1114223104  com.aurahealth   \n",
       "2 2021-03-21 09:17:13       1       0  1114223104  com.aurahealth   \n",
       "3 2021-03-21 09:09:57       1       0  1114223104  com.aurahealth   \n",
       "4 2021-03-20 16:28:42       1       0  1114223104  com.aurahealth   \n",
       "\n",
       "                                          review_doc  num_sents  \\\n",
       "0                                          (Awesome)          1   \n",
       "1                        (Great, to, help, u, sleep)          1   \n",
       "2                    (Very, calming, ,, love, it, !)          1   \n",
       "3  (I, was, able, to, sleep, like, a, baby, on, t...          3   \n",
       "4  (Improvement, in, thoughts, ,, feelings, and, ...          1   \n",
       "\n",
       "                                         word_tokens  num_tokens  \\\n",
       "0                                          [Awesome]           1   \n",
       "1                        [Great, to, help, u, sleep]           5   \n",
       "2                          [Very, calming, love, it]           4   \n",
       "3  [I, was, able, to, sleep, like, a, baby, on, t...          21   \n",
       "4   [Improvement, in, thoughts, feelings, and, life]           6   \n",
       "\n",
       "                                      stopped_tokens  num_stopped_tokens  \n",
       "0                                          [Awesome]                   1  \n",
       "1                            [Great, help, u, sleep]                   4  \n",
       "2                                    [calming, love]                   2  \n",
       "3  [able, sleep, like, baby, use, love, meditatio...                  11  \n",
       "4            [Improvement, thoughts, feelings, life]                   4  "
      ]
     },
     "execution_count": 112,
     "metadata": {},
     "output_type": "execute_result"
    }
   ],
   "source": [
    "rvw_df['review_doc'] = rvw_df['review'].apply(nlp)\n",
    "rvw_df.head()"
   ]
  },
  {
   "cell_type": "code",
   "execution_count": null,
   "metadata": {},
   "outputs": [],
   "source": []
  }
 ],
 "metadata": {
  "kernelspec": {
   "display_name": "Python 3",
   "language": "python",
   "name": "python3"
  },
  "language_info": {
   "codemirror_mode": {
    "name": "ipython",
    "version": 3
   },
   "file_extension": ".py",
   "mimetype": "text/x-python",
   "name": "python",
   "nbconvert_exporter": "python",
   "pygments_lexer": "ipython3",
   "version": "3.8.5"
  },
  "toc": {
   "base_numbering": 1,
   "nav_menu": {},
   "number_sections": true,
   "sideBar": true,
   "skip_h1_title": false,
   "title_cell": "Table of Contents",
   "title_sidebar": "Contents",
   "toc_cell": false,
   "toc_position": {},
   "toc_section_display": true,
   "toc_window_display": false
  }
 },
 "nbformat": 4,
 "nbformat_minor": 2
}
