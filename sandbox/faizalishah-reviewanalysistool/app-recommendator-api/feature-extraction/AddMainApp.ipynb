{
 "cells": [
  {
   "cell_type": "code",
   "execution_count": 11,
   "metadata": {},
   "outputs": [],
   "source": [
    "import sqlite3\n",
    "import logging\n",
    "import sys\n",
    "import json\n",
    "from urllib.request import urlopen\n",
    "import re\n",
    "import requests\n",
    "from sys import argv\n",
    "from sqlite3 import Error"
   ]
  },
  {
   "cell_type": "code",
   "execution_count": 15,
   "metadata": {},
   "outputs": [],
   "source": [
    "def AddMainAppToDB(appID,userid):\n",
    "    dbPath = '../AppReviewDB.db'\n",
    "    try:\n",
    "        conn = sqlite3.connect(dbPath)\n",
    "    except Error as e:\n",
    "        print(e)\n",
    "    \n",
    "    print('Fetching app information meta information from PlayStore!!!')\n",
    "    \n",
    "    AppDetails = requests.get('http://stores-api.eu-north-1.elasticbeanstalk.com/appdetails?store=1&appId=' + str(appID)).json()                                                \n",
    "    \n",
    "    AppInfo = (appID,AppDetails[\"title\"],AppDetails['description'],AppDetails['score'],AppDetails['icon'],userid)\n",
    "\n",
    "    print('App information fetched sucessfully!!!')\n",
    "    \n",
    "    sql = 'INSERT INTO BaseApps(appID,title,description,score,icon,UserID) VALUES(?,?,?,?,?,?)'\n",
    "    cur = conn.cursor()\n",
    "    try:\n",
    "        cur.execute(sql,AppInfo)\n",
    "        conn.commit()\n",
    "        print('New base app added to database sucessfully!!!')\n",
    "    except Error as e:\n",
    "        print(e)\n",
    "        print('Error occured while inserting a new base app to database!!!')"
   ]
  },
  {
   "cell_type": "code",
   "execution_count": 16,
   "metadata": {},
   "outputs": [
    {
     "name": "stdout",
     "output_type": "stream",
     "text": [
      "Fetching app information meta information from PlayStore!!!\n",
      "App information fetched sucessfully!!!\n",
      "New base app added to database sucessfully!!!\n"
     ]
    }
   ],
   "source": [
    "if __name__ == '__main__':\n",
    "    json_appInfo = json.loads(argv[1])\n",
    "    AddMainAppToDB(json_appInfo[\"appID\"],json_appInfo[\"UserID\"])"
   ]
  },
  {
   "cell_type": "code",
   "execution_count": null,
   "metadata": {},
   "outputs": [],
   "source": []
  }
 ],
 "metadata": {
  "kernelspec": {
   "display_name": "Python 3",
   "language": "python",
   "name": "python3"
  },
  "language_info": {
   "codemirror_mode": {
    "name": "ipython",
    "version": 3
   },
   "file_extension": ".py",
   "mimetype": "text/x-python",
   "name": "python",
   "nbconvert_exporter": "python",
   "pygments_lexer": "ipython3",
   "version": "3.6.4"
  }
 },
 "nbformat": 4,
 "nbformat_minor": 2
}
