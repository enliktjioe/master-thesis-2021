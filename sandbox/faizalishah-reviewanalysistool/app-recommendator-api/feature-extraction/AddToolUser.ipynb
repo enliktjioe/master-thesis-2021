{
 "cells": [
  {
   "cell_type": "code",
   "execution_count": 2,
   "metadata": {},
   "outputs": [],
   "source": [
    "import sqlite3\n",
    "import logging\n",
    "import sys\n",
    "import json\n",
    "from sys import argv\n",
    "from sqlite3 import Error"
   ]
  },
  {
   "cell_type": "code",
   "execution_count": null,
   "metadata": {},
   "outputs": [],
   "source": [
    "def AddUserToDB(userid,password):\n",
    "    dbPath = '../AppReviewDB.db'\n",
    "    try:\n",
    "        conn = sqlite3.connect(dbPath)\n",
    "    except Error as e:\n",
    "        print(e)\n",
    "    \n",
    "    UserInfo = (userid,password)\n",
    "    \n",
    "    sql = 'INSERT INTO Users(UserID,Password) VALUES(?,?)'\n",
    "    cur = conn.cursor()\n",
    "    try:\n",
    "        cur.execute(sql,UserInfo)\n",
    "        conn.commit()\n",
    "        print('New user added to database sucessfully!!!')\n",
    "    except Error as e:\n",
    "        print('Error occured while inserting a new user to database!!!')"
   ]
  },
  {
   "cell_type": "code",
   "execution_count": 1,
   "metadata": {},
   "outputs": [
    {
     "name": "stdout",
     "output_type": "stream",
     "text": [
      "hello\n"
     ]
    }
   ],
   "source": [
    "if __name__ == '__main__':\n",
    "    json_userInfo = json.loads(argv[1])\n",
    "    AddUserToDB(json_userInfo[\"UserID\"],json_userInfo[\"Password\"])"
   ]
  }
 ],
 "metadata": {
  "kernelspec": {
   "display_name": "Python 3",
   "language": "python",
   "name": "python3"
  },
  "language_info": {
   "codemirror_mode": {
    "name": "ipython",
    "version": 3
   },
   "file_extension": ".py",
   "mimetype": "text/x-python",
   "name": "python",
   "nbconvert_exporter": "python",
   "pygments_lexer": "ipython3",
   "version": "3.6.4"
  }
 },
 "nbformat": 4,
 "nbformat_minor": 2
}
