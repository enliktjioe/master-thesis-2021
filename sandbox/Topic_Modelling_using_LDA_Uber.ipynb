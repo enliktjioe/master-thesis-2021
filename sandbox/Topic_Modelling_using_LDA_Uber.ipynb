{
  "nbformat": 4,
  "nbformat_minor": 5,
  "metadata": {
    "kernelspec": {
      "display_name": "Python 3",
      "language": "python",
      "name": "python3"
    },
    "language_info": {
      "codemirror_mode": {
        "name": "ipython",
        "version": 3
      },
      "file_extension": ".py",
      "mimetype": "text/x-python",
      "name": "python",
      "nbconvert_exporter": "python",
      "pygments_lexer": "ipython3",
      "version": "3.8.5"
    },
    "colab": {
      "name": "Topic_Modelling_using_LDA.ipynb",
      "provenance": [],
      "toc_visible": true,
      "include_colab_link": true
    },
    "accelerator": "GPU"
  },
  "cells": [
    {
      "cell_type": "markdown",
      "metadata": {
        "id": "view-in-github",
        "colab_type": "text"
      },
      "source": [
        "<a href=\"https://colab.research.google.com/github/enliktjioe/master-thesis-2021/blob/main/sandbox/Topic_Modelling_using_LDA_Uber.ipynb\" target=\"_parent\"><img src=\"https://colab.research.google.com/assets/colab-badge.svg\" alt=\"Open In Colab\"/></a>"
      ]
    },
    {
      "cell_type": "markdown",
      "metadata": {
        "id": "compact-festival"
      },
      "source": [
        "## References\n",
        "\n",
        "- https://medium.com/analytics-vidhya/play-store-app-reviews-textual-data-topic-modelling-using-lda-f24bdbd2910d"
      ],
      "id": "compact-festival"
    },
    {
      "cell_type": "code",
      "metadata": {
        "id": "hearing-difference"
      },
      "source": [
        "# !pip install google_play_scraper\n",
        "# !pip install sklearn"
      ],
      "id": "hearing-difference",
      "execution_count": 1,
      "outputs": []
    },
    {
      "cell_type": "markdown",
      "metadata": {
        "id": "intended-notebook"
      },
      "source": [
        "## Libraries needed"
      ],
      "id": "intended-notebook"
    },
    {
      "cell_type": "code",
      "metadata": {
        "id": "infinite-peninsula"
      },
      "source": [
        "import pandas as pd\n",
        "from google_play_scraper.features.reviews import Sort, reviews_all, reviews\n",
        "from sklearn.feature_extraction.text import CountVectorizer\n",
        "from sklearn.decomposition import LatentDirichletAllocation"
      ],
      "id": "infinite-peninsula",
      "execution_count": 2,
      "outputs": []
    },
    {
      "cell_type": "markdown",
      "metadata": {
        "id": "accredited-buyer"
      },
      "source": [
        "## Mining app review from Bolt (Google Play Store)"
      ],
      "id": "accredited-buyer"
    },
    {
      "cell_type": "code",
      "metadata": {
        "id": "explicit-scholarship"
      },
      "source": [
        "result = reviews_all('com.ubercab',sleep_milliseconds=0,lang='en', country='us')"
      ],
      "id": "explicit-scholarship",
      "execution_count": 3,
      "outputs": []
    },
    {
      "cell_type": "markdown",
      "metadata": {
        "id": "random-vocabulary"
      },
      "source": [
        "## Create dataframe of the reviews"
      ],
      "id": "random-vocabulary"
    },
    {
      "cell_type": "code",
      "metadata": {
        "id": "ranging-lighter",
        "outputId": "a3647e64-79ec-4cad-e2cd-56ea553077f2",
        "colab": {
          "base_uri": "https://localhost:8080/"
        }
      },
      "source": [
        "df = pd.DataFrame(result)\n",
        "unique_users  = len(df['userName'].unique())\n",
        "unknown_users = len(df[df['userName']=='A Google user'])\n",
        "total_reviews = len(df)\n",
        "mean = df['score'].mean()\n",
        "print(f'Total textual reviews: {len(result)} \\n')\n",
        "print(f'Total unique users : {unique_users}')\n",
        "print(f'Total unknown users: {unknown_users}')\n",
        "print(f'Total users who gave multiple reviews: {total_reviews - unique_users - unknown_users}\\n')\n",
        "print(f'Average rating for this app based on the textual reviews: {round(mean,2)} \\n')"
      ],
      "id": "ranging-lighter",
      "execution_count": 4,
      "outputs": [
        {
          "output_type": "stream",
          "text": [
            "Total textual reviews: 999521 \n",
            "\n",
            "Total unique users : 749788\n",
            "Total unknown users: 142458\n",
            "Total users who gave multiple reviews: 107275\n",
            "\n",
            "Average rating for this app based on the textual reviews: 3.62 \n",
            "\n"
          ],
          "name": "stdout"
        }
      ]
    },
    {
      "cell_type": "markdown",
      "metadata": {
        "id": "south-level"
      },
      "source": [
        "## Extract all reviews with rating below 4"
      ],
      "id": "south-level"
    },
    {
      "cell_type": "code",
      "metadata": {
        "id": "going-vacation",
        "outputId": "cbee89d7-9366-4ca0-db49-c14d1acd4743",
        "colab": {
          "base_uri": "https://localhost:8080/"
        }
      },
      "source": [
        "df_tm = df[df['score']<=3]\n",
        "df_tm = df_tm[df_tm.content.str.len()>=30]\n",
        "print(f'Remaining textual reviews: {len(df_tm)} \\n')\n"
      ],
      "id": "going-vacation",
      "execution_count": 5,
      "outputs": [
        {
          "output_type": "stream",
          "text": [
            "Remaining textual reviews: 272456 \n",
            "\n"
          ],
          "name": "stdout"
        }
      ]
    },
    {
      "cell_type": "markdown",
      "metadata": {
        "id": "chubby-volunteer"
      },
      "source": [
        "## Get Relevant Columns for Topic Modelling\n"
      ],
      "id": "chubby-volunteer"
    },
    {
      "cell_type": "code",
      "metadata": {
        "id": "athletic-universal",
        "outputId": "3ac3cb6f-780e-4157-e4b8-f1b256368abd",
        "colab": {
          "base_uri": "https://localhost:8080/"
        }
      },
      "source": [
        "df_tm = df_tm[['reviewId','content']].drop_duplicates()\n",
        "df_tm.dropna(inplace=True)\n",
        "df_tm = df_tm.reset_index().drop(columns='index')\n",
        "print(f'Remaining textual reviews: {len(df_tm)} \\n')\n"
      ],
      "id": "athletic-universal",
      "execution_count": 6,
      "outputs": [
        {
          "output_type": "stream",
          "text": [
            "Remaining textual reviews: 272456 \n",
            "\n"
          ],
          "name": "stdout"
        }
      ]
    },
    {
      "cell_type": "markdown",
      "metadata": {
        "id": "seven-investigator"
      },
      "source": [
        "## Create document term matrix of the reviews"
      ],
      "id": "seven-investigator"
    },
    {
      "cell_type": "code",
      "metadata": {
        "id": "accessible-highway",
        "outputId": "57e96af3-2be5-4cfa-b5cc-e24956be54ec",
        "colab": {
          "base_uri": "https://localhost:8080/"
        }
      },
      "source": [
        "cv = CountVectorizer(max_df=0.95, min_df=2, stop_words='english')\n",
        "dtm = cv.fit_transform(df_tm['content'])\n",
        "dtm"
      ],
      "id": "accessible-highway",
      "execution_count": 7,
      "outputs": [
        {
          "output_type": "execute_result",
          "data": {
            "text/plain": [
              "<272456x42596 sparse matrix of type '<class 'numpy.int64'>'\n",
              "\twith 3677245 stored elements in Compressed Sparse Row format>"
            ]
          },
          "metadata": {
            "tags": []
          },
          "execution_count": 7
        }
      ]
    },
    {
      "cell_type": "markdown",
      "metadata": {
        "id": "assumed-glass"
      },
      "source": [
        "## Using LDA for topic modelling"
      ],
      "id": "assumed-glass"
    },
    {
      "cell_type": "code",
      "metadata": {
        "id": "limited-substitute",
        "outputId": "6b0f5c94-9b41-4de7-888a-1de809335d76",
        "colab": {
          "base_uri": "https://localhost:8080/"
        }
      },
      "source": [
        "LDA = LatentDirichletAllocation(n_components=5,random_state=1)\n",
        "LDA.fit(dtm)"
      ],
      "id": "limited-substitute",
      "execution_count": 8,
      "outputs": [
        {
          "output_type": "execute_result",
          "data": {
            "text/plain": [
              "LatentDirichletAllocation(batch_size=128, doc_topic_prior=None,\n",
              "                          evaluate_every=-1, learning_decay=0.7,\n",
              "                          learning_method='batch', learning_offset=10.0,\n",
              "                          max_doc_update_iter=100, max_iter=10,\n",
              "                          mean_change_tol=0.001, n_components=5, n_jobs=None,\n",
              "                          perp_tol=0.1, random_state=1, topic_word_prior=None,\n",
              "                          total_samples=1000000.0, verbose=0)"
            ]
          },
          "metadata": {
            "tags": []
          },
          "execution_count": 8
        }
      ]
    },
    {
      "cell_type": "markdown",
      "metadata": {
        "id": "informal-morris"
      },
      "source": [
        "### Extract the topics and corresponding top20 (high frequency) words\n"
      ],
      "id": "informal-morris"
    },
    {
      "cell_type": "code",
      "metadata": {
        "id": "breeding-toddler",
        "outputId": "71394690-9ae5-486f-8021-4605ade5a5c7",
        "colab": {
          "base_uri": "https://localhost:8080/"
        }
      },
      "source": [
        "for index,topic in enumerate(LDA.components_):\n",
        "    print(f'topic #{index} : ')\n",
        "    print([cv.get_feature_names()[i] for i in topic.argsort()[-20:]])"
      ],
      "id": "breeding-toddler",
      "execution_count": 9,
      "outputs": [
        {
          "output_type": "stream",
          "text": [
            "topic #0 : \n",
            "['try', 'don', 'worst', 'new', 'just', 'working', 'sign', 'help', 'able', 'login', 'time', 'email', 'tried', 'password', 'use', 'number', 'phone', 'uber', 'account', 'app']\n",
            "topic #1 : \n",
            "['paytm', 'time', 'pay', 'location', 'doesn', 'add', 'issue', 'use', 'credit', 'ride', 'update', 'support', 'cash', 'service', 'option', 'customer', 'uber', 'card', 'payment', 'app']\n",
            "topic #2 : \n",
            "['ko', 'ka', 'nhi', 'ho', 'nahi', 'es', 'los', 'para', 'ki', 'por', 'hi', 'não', 'en', 'app', 'el', 'se', 'la', 'uber', 'hai', 'que']\n",
            "topic #3 : \n",
            "['experience', 'money', 'charge', 'customer', 'bad', 'location', 'pay', 'cancelled', 'worst', 'app', 'cab', 'service', 'charged', 'cancel', 'trip', 'time', 'drivers', 'ride', 'uber', 'driver']\n",
            "topic #4 : \n",
            "['way', 'people', 'driver', 'high', 'time', 'taxi', 'company', 'don', 'good', 'lyft', 'fare', 'just', 'car', 'like', 'service', 'use', 'price', 'app', 'drivers', 'uber']\n"
          ],
          "name": "stdout"
        }
      ]
    },
    {
      "cell_type": "markdown",
      "metadata": {
        "id": "royal-mediterranean"
      },
      "source": [
        "## Combine the topic modelling results with the base dataset"
      ],
      "id": "royal-mediterranean"
    },
    {
      "cell_type": "code",
      "metadata": {
        "id": "unnecessary-halifax"
      },
      "source": [
        "topic_results = LDA.transform(dtm)\n",
        "df_topic_results = pd.DataFrame(topic_results, columns=[\n",
        "    '0_Booking',\n",
        "    '1_Payment/Promo' ,\n",
        "    '2_App'            ,\n",
        "    '3_Services'  ,\n",
        "    '4_Others' \n",
        "])\n",
        "df_result = pd.merge(df_tm, df_topic_results,  how='inner', left_index=True, right_index=True )\n",
        "df_output = pd.merge(df, df_result,  how='left', on=[ 'reviewId','content' ])\n",
        "\n",
        "df_output.to_csv('app_reviews_bms.csv')"
      ],
      "id": "unnecessary-halifax",
      "execution_count": 10,
      "outputs": []
    },
    {
      "cell_type": "markdown",
      "metadata": {
        "id": "administrative-indonesian"
      },
      "source": [
        "## Example DataViz using [Tableau](https://public.tableau.com/profile/pankaj.kumar.shukla#!/vizhome/AppReviews_v2/GooglePlayStoreappreviewanalysis)\n",
        "\n",
        "\n",
        "![dataviz_topic_modelling_lda_1.jpg](attachment:dataviz_topic_modelling_lda_1.jpg)\n"
      ],
      "id": "administrative-indonesian"
    },
    {
      "cell_type": "markdown",
      "metadata": {
        "id": "mounted-catalyst"
      },
      "source": [
        "\n",
        "![dataviz_topic_modelling_lda_2.jpg](attachment:dataviz_topic_modelling_lda_2.jpg)"
      ],
      "id": "mounted-catalyst"
    },
    {
      "cell_type": "code",
      "metadata": {
        "id": "smoking-absorption"
      },
      "source": [
        ""
      ],
      "id": "smoking-absorption",
      "execution_count": 10,
      "outputs": []
    },
    {
      "cell_type": "code",
      "metadata": {
        "id": "extended-slovakia"
      },
      "source": [
        ""
      ],
      "id": "extended-slovakia",
      "execution_count": 10,
      "outputs": []
    }
  ]
}