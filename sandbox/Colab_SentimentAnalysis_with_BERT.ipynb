{
 "cells": [
  {
   "cell_type": "markdown",
   "metadata": {
    "colab_type": "text",
    "id": "view-in-github"
   },
   "source": [
    "<a href=\"https://colab.research.google.com/github/enliktjioe/master-thesis-2021/blob/main/Colab_SentimentAnalysis_with_BERT.ipynb\" target=\"_parent\"><img src=\"https://colab.research.google.com/assets/colab-badge.svg\" alt=\"Open In Colab\"/></a>"
   ]
  },
  {
   "cell_type": "markdown",
   "metadata": {
    "id": "JNmCL-dN966M"
   },
   "source": [
    "# Intro\n",
    "\n",
    "- Tutorial source: https://curiousily.com/posts/sentiment-analysis-with-bert-and-hugging-face-using-pytorch-and-python/"
   ]
  },
  {
   "cell_type": "markdown",
   "metadata": {
    "id": "ro3ITwqx-DbH"
   },
   "source": [
    "# Let's Get Started"
   ]
  },
  {
   "cell_type": "markdown",
   "metadata": {
    "id": "QEQuHm5p12yq"
   },
   "source": [
    "## Check NVIDIA GPU availability in Google Colab"
   ]
  },
  {
   "cell_type": "code",
   "execution_count": 3,
   "metadata": {
    "colab": {
     "base_uri": "https://localhost:8080/"
    },
    "id": "LNaKEBLjy3lJ",
    "outputId": "17470d9b-5fce-4d6c-8552-504f6219b28b"
   },
   "outputs": [
    {
     "name": "stdout",
     "output_type": "stream",
     "text": [
      "Mon Mar  1 23:51:53 2021       \n",
      "+-----------------------------------------------------------------------------+\n",
      "| NVIDIA-SMI 460.39       Driver Version: 460.32.03    CUDA Version: 11.2     |\n",
      "|-------------------------------+----------------------+----------------------+\n",
      "| GPU  Name        Persistence-M| Bus-Id        Disp.A | Volatile Uncorr. ECC |\n",
      "| Fan  Temp  Perf  Pwr:Usage/Cap|         Memory-Usage | GPU-Util  Compute M. |\n",
      "|                               |                      |               MIG M. |\n",
      "|===============================+======================+======================|\n",
      "|   0  Tesla T4            Off  | 00000000:00:04.0 Off |                    0 |\n",
      "| N/A   59C    P8    11W /  70W |      0MiB / 15109MiB |      0%      Default |\n",
      "|                               |                      |                  N/A |\n",
      "+-------------------------------+----------------------+----------------------+\n",
      "                                                                               \n",
      "+-----------------------------------------------------------------------------+\n",
      "| Processes:                                                                  |\n",
      "|  GPU   GI   CI        PID   Type   Process name                  GPU Memory |\n",
      "|        ID   ID                                                   Usage      |\n",
      "|=============================================================================|\n",
      "|  No running processes found                                                 |\n",
      "+-----------------------------------------------------------------------------+\n"
     ]
    }
   ],
   "source": [
    "!nvidia-smi"
   ]
  },
  {
   "cell_type": "markdown",
   "metadata": {
    "id": "aHmQUl6V2FQM"
   },
   "source": [
    "## Setup"
   ]
  },
  {
   "cell_type": "code",
   "execution_count": 4,
   "metadata": {
    "id": "n45b4zjDzUec"
   },
   "outputs": [],
   "source": [
    "# !pip install -q -U watermark"
   ]
  },
  {
   "cell_type": "code",
   "execution_count": 5,
   "metadata": {
    "id": "bOJATYJZ2B4_"
   },
   "outputs": [],
   "source": [
    "# !pip install -qq transformers"
   ]
  },
  {
   "cell_type": "code",
   "execution_count": 6,
   "metadata": {
    "id": "vbYlpalNKbdC"
   },
   "outputs": [],
   "source": [
    "# !pip install torch==1.4.0 #try to match the version with tutorial PyTorch version"
   ]
  },
  {
   "cell_type": "code",
   "execution_count": 7,
   "metadata": {
    "id": "fY8iPXR0MtM3"
   },
   "outputs": [],
   "source": [
    "# !pip install transformers==2.8.0"
   ]
  },
  {
   "cell_type": "code",
   "execution_count": 8,
   "metadata": {
    "colab": {
     "base_uri": "https://localhost:8080/"
    },
    "id": "7yepcdOP2CEH",
    "outputId": "2f504215-8215-4245-c254-05a9e4c145ea"
   },
   "outputs": [
    {
     "name": "stdout",
     "output_type": "stream",
     "text": [
      "Python implementation: CPython\n",
      "Python version       : 3.7.10\n",
      "IPython version      : 5.5.0\n",
      "\n",
      "numpy       : 1.19.5\n",
      "pandas      : 1.1.5\n",
      "torch       : 1.4.0\n",
      "transformers: 2.8.0\n",
      "\n"
     ]
    }
   ],
   "source": [
    "%reload_ext watermark\n",
    "%watermark -v -p numpy,pandas,torch,transformers"
   ]
  },
  {
   "cell_type": "markdown",
   "metadata": {
    "id": "ygA0QwVO8E7O"
   },
   "source": [
    "## Import Library"
   ]
  },
  {
   "cell_type": "code",
   "execution_count": 9,
   "metadata": {
    "colab": {
     "base_uri": "https://localhost:8080/"
    },
    "id": "tG3c6Nsn3J2e",
    "outputId": "bc9fb8b1-b6f6-41f0-b765-ab11361e2cf8"
   },
   "outputs": [
    {
     "data": {
      "text/plain": [
       "device(type='cuda', index=0)"
      ]
     },
     "execution_count": 9,
     "metadata": {
      "tags": []
     },
     "output_type": "execute_result"
    }
   ],
   "source": [
    "import transformers\n",
    "from transformers import BertModel, BertTokenizer, AdamW, get_linear_schedule_with_warmup\n",
    "import torch\n",
    "import numpy as np\n",
    "import pandas as pd\n",
    "import seaborn as sns\n",
    "from pylab import rcParams\n",
    "import matplotlib.pyplot as plt\n",
    "from matplotlib import rc\n",
    "from sklearn.model_selection import train_test_split\n",
    "from sklearn.metrics import confusion_matrix, classification_report\n",
    "from collections import defaultdict\n",
    "from textwrap import wrap\n",
    "from torch import nn, optim\n",
    "from torch.utils.data import Dataset, DataLoader\n",
    "import warnings\n",
    "warnings.filterwarnings('ignore')\n",
    "\n",
    "%matplotlib inline\n",
    "%config InlineBackend.figure_format='retina'\n",
    "sns.set(style='whitegrid', palette='muted', font_scale=1.2)\n",
    "HAPPY_COLORS_PALETTE = [\"#01BEFE\", \"#FFDD00\", \"#FF7D00\", \"#FF006D\", \"#ADFF02\", \"#8F00FF\"]\n",
    "sns.set_palette(sns.color_palette(HAPPY_COLORS_PALETTE))\n",
    "rcParams['figure.figsize'] = 12, 8\n",
    "\n",
    "RANDOM_SEED = 42\n",
    "np.random.seed(RANDOM_SEED)\n",
    "torch.manual_seed(RANDOM_SEED)\n",
    "\n",
    "device = torch.device(\"cuda:0\" if torch.cuda.is_available() else \"cpu\")\n",
    "device"
   ]
  },
  {
   "cell_type": "markdown",
   "metadata": {
    "id": "JQsqx7PB3RLg"
   },
   "source": [
    "## Data Exploration"
   ]
  },
  {
   "cell_type": "code",
   "execution_count": 10,
   "metadata": {
    "colab": {
     "base_uri": "https://localhost:8080/"
    },
    "id": "RuInHudl28ly",
    "outputId": "58e42912-4399-468f-802d-5ed10815aa7e"
   },
   "outputs": [
    {
     "name": "stdout",
     "output_type": "stream",
     "text": [
      "Downloading...\n",
      "From: https://drive.google.com/uc?id=1S6qMioqPJjyBLpLVz4gmRTnJHnjitnuV\n",
      "To: /content/apps.csv\n",
      "100% 134k/134k [00:00<00:00, 4.35MB/s]\n",
      "Downloading...\n",
      "From: https://drive.google.com/uc?id=1zdmewp7ayS4js4VtrJEHzAheSW-5NBZv\n",
      "To: /content/reviews.csv\n",
      "7.17MB [00:00, 43.7MB/s]\n"
     ]
    }
   ],
   "source": [
    "!gdown --id 1S6qMioqPJjyBLpLVz4gmRTnJHnjitnuV\n",
    "!gdown --id 1zdmewp7ayS4js4VtrJEHzAheSW-5NBZv"
   ]
  },
  {
   "cell_type": "code",
   "execution_count": 11,
   "metadata": {
    "colab": {
     "base_uri": "https://localhost:8080/",
     "height": 643
    },
    "id": "v9Pqn9jn3UTZ",
    "outputId": "a9693eb4-7d2e-4881-9e35-74e5e6b6ab5f"
   },
   "outputs": [
    {
     "data": {
      "text/html": [
       "<div>\n",
       "<style scoped>\n",
       "    .dataframe tbody tr th:only-of-type {\n",
       "        vertical-align: middle;\n",
       "    }\n",
       "\n",
       "    .dataframe tbody tr th {\n",
       "        vertical-align: top;\n",
       "    }\n",
       "\n",
       "    .dataframe thead th {\n",
       "        text-align: right;\n",
       "    }\n",
       "</style>\n",
       "<table border=\"1\" class=\"dataframe\">\n",
       "  <thead>\n",
       "    <tr style=\"text-align: right;\">\n",
       "      <th></th>\n",
       "      <th>userName</th>\n",
       "      <th>userImage</th>\n",
       "      <th>content</th>\n",
       "      <th>score</th>\n",
       "      <th>thumbsUpCount</th>\n",
       "      <th>reviewCreatedVersion</th>\n",
       "      <th>at</th>\n",
       "      <th>replyContent</th>\n",
       "      <th>repliedAt</th>\n",
       "      <th>sortOrder</th>\n",
       "      <th>appId</th>\n",
       "    </tr>\n",
       "  </thead>\n",
       "  <tbody>\n",
       "    <tr>\n",
       "      <th>0</th>\n",
       "      <td>Andrew Thomas</td>\n",
       "      <td>https://lh3.googleusercontent.com/a-/AOh14GiHd...</td>\n",
       "      <td>Update: After getting a response from the deve...</td>\n",
       "      <td>1</td>\n",
       "      <td>21</td>\n",
       "      <td>4.17.0.3</td>\n",
       "      <td>2020-04-05 22:25:57</td>\n",
       "      <td>According to our TOS, and the term you have ag...</td>\n",
       "      <td>2020-04-05 15:10:24</td>\n",
       "      <td>most_relevant</td>\n",
       "      <td>com.anydo</td>\n",
       "    </tr>\n",
       "    <tr>\n",
       "      <th>1</th>\n",
       "      <td>Craig Haines</td>\n",
       "      <td>https://lh3.googleusercontent.com/-hoe0kwSJgPQ...</td>\n",
       "      <td>Used it for a fair amount of time without any ...</td>\n",
       "      <td>1</td>\n",
       "      <td>11</td>\n",
       "      <td>4.17.0.3</td>\n",
       "      <td>2020-04-04 13:40:01</td>\n",
       "      <td>It sounds like you logged in with a different ...</td>\n",
       "      <td>2020-04-05 15:11:35</td>\n",
       "      <td>most_relevant</td>\n",
       "      <td>com.anydo</td>\n",
       "    </tr>\n",
       "    <tr>\n",
       "      <th>2</th>\n",
       "      <td>steven adkins</td>\n",
       "      <td>https://lh3.googleusercontent.com/a-/AOh14GiXw...</td>\n",
       "      <td>Your app sucks now!!!!! Used to be good but no...</td>\n",
       "      <td>1</td>\n",
       "      <td>17</td>\n",
       "      <td>4.17.0.3</td>\n",
       "      <td>2020-04-01 16:18:13</td>\n",
       "      <td>This sounds odd! We are not aware of any issue...</td>\n",
       "      <td>2020-04-02 16:05:56</td>\n",
       "      <td>most_relevant</td>\n",
       "      <td>com.anydo</td>\n",
       "    </tr>\n",
       "    <tr>\n",
       "      <th>3</th>\n",
       "      <td>Lars Panzerbjørn</td>\n",
       "      <td>https://lh3.googleusercontent.com/a-/AOh14Gg-h...</td>\n",
       "      <td>It seems OK, but very basic. Recurring tasks n...</td>\n",
       "      <td>1</td>\n",
       "      <td>192</td>\n",
       "      <td>4.17.0.2</td>\n",
       "      <td>2020-03-12 08:17:34</td>\n",
       "      <td>We do offer this option as part of the Advance...</td>\n",
       "      <td>2020-03-15 06:20:13</td>\n",
       "      <td>most_relevant</td>\n",
       "      <td>com.anydo</td>\n",
       "    </tr>\n",
       "    <tr>\n",
       "      <th>4</th>\n",
       "      <td>Scott Prewitt</td>\n",
       "      <td>https://lh3.googleusercontent.com/-K-X1-YsVd6U...</td>\n",
       "      <td>Absolutely worthless. This app runs a prohibit...</td>\n",
       "      <td>1</td>\n",
       "      <td>42</td>\n",
       "      <td>4.17.0.2</td>\n",
       "      <td>2020-03-14 17:41:01</td>\n",
       "      <td>We're sorry you feel this way! 90% of the app ...</td>\n",
       "      <td>2020-03-15 23:45:51</td>\n",
       "      <td>most_relevant</td>\n",
       "      <td>com.anydo</td>\n",
       "    </tr>\n",
       "  </tbody>\n",
       "</table>\n",
       "</div>"
      ],
      "text/plain": [
       "           userName  ...      appId\n",
       "0     Andrew Thomas  ...  com.anydo\n",
       "1      Craig Haines  ...  com.anydo\n",
       "2     steven adkins  ...  com.anydo\n",
       "3  Lars Panzerbjørn  ...  com.anydo\n",
       "4     Scott Prewitt  ...  com.anydo\n",
       "\n",
       "[5 rows x 11 columns]"
      ]
     },
     "execution_count": 11,
     "metadata": {
      "tags": []
     },
     "output_type": "execute_result"
    }
   ],
   "source": [
    "df = pd.read_csv(\"reviews.csv\")\n",
    "df.head()"
   ]
  },
  {
   "cell_type": "code",
   "execution_count": 12,
   "metadata": {
    "colab": {
     "base_uri": "https://localhost:8080/"
    },
    "id": "-0iqnZ7B3W5p",
    "outputId": "42a8dab5-23b7-4bc9-879c-b688be0d6074"
   },
   "outputs": [
    {
     "data": {
      "text/plain": [
       "(15746, 11)"
      ]
     },
     "execution_count": 12,
     "metadata": {
      "tags": []
     },
     "output_type": "execute_result"
    }
   ],
   "source": [
    "df.shape"
   ]
  },
  {
   "cell_type": "markdown",
   "metadata": {
    "id": "A8xaBXuy3kyY"
   },
   "source": [
    "### Check missing values"
   ]
  },
  {
   "cell_type": "code",
   "execution_count": 13,
   "metadata": {
    "colab": {
     "base_uri": "https://localhost:8080/"
    },
    "id": "w-YcNKc23fus",
    "outputId": "5ba702fa-b81b-4982-e1d3-4e10dad815b8"
   },
   "outputs": [
    {
     "name": "stdout",
     "output_type": "stream",
     "text": [
      "<class 'pandas.core.frame.DataFrame'>\n",
      "RangeIndex: 15746 entries, 0 to 15745\n",
      "Data columns (total 11 columns):\n",
      " #   Column                Non-Null Count  Dtype \n",
      "---  ------                --------------  ----- \n",
      " 0   userName              15746 non-null  object\n",
      " 1   userImage             15746 non-null  object\n",
      " 2   content               15746 non-null  object\n",
      " 3   score                 15746 non-null  int64 \n",
      " 4   thumbsUpCount         15746 non-null  int64 \n",
      " 5   reviewCreatedVersion  13533 non-null  object\n",
      " 6   at                    15746 non-null  object\n",
      " 7   replyContent          7367 non-null   object\n",
      " 8   repliedAt             7367 non-null   object\n",
      " 9   sortOrder             15746 non-null  object\n",
      " 10  appId                 15746 non-null  object\n",
      "dtypes: int64(2), object(9)\n",
      "memory usage: 1.3+ MB\n"
     ]
    }
   ],
   "source": [
    "df.info()"
   ]
  },
  {
   "cell_type": "markdown",
   "metadata": {
    "id": "I-1W8s6d43_-"
   },
   "source": [
    "No missing values found"
   ]
  },
  {
   "cell_type": "markdown",
   "metadata": {
    "id": "0TCyYrcM5BTu"
   },
   "source": [
    "### Check class imbalance"
   ]
  },
  {
   "cell_type": "code",
   "execution_count": 14,
   "metadata": {
    "colab": {
     "base_uri": "https://localhost:8080/",
     "height": 506
    },
    "id": "OWpij8Ht4EMk",
    "outputId": "aa99fceb-0eed-42bb-d67d-b540a0b1505f"
   },
   "outputs": [
    {
     "data": {
      "image/png": "[encoded data removed]",
      "text/plain": [
       "<Figure size 864x576 with 1 Axes>"
      ]
     },
     "metadata": {
      "image/png": {
       "height": 489,
       "width": 745
      },
      "tags": []
     },
     "output_type": "display_data"
    }
   ],
   "source": [
    "sns.countplot(df.score)\n",
    "plt.xlabel('review score');"
   ]
  },
  {
   "cell_type": "markdown",
   "metadata": {
    "id": "iqo9EnEi6-4e"
   },
   "source": [
    "## Convert Into Negative, Neutral, and Positive Sentiment"
   ]
  },
  {
   "cell_type": "code",
   "execution_count": 15,
   "metadata": {
    "id": "itBTj7zR5FPc"
   },
   "outputs": [],
   "source": [
    "def to_sentiment(rating):\n",
    "  rating = int(rating)\n",
    "  if rating <= 2:\n",
    "    return 0\n",
    "  elif rating == 3:\n",
    "    return 1\n",
    "  else: \n",
    "    return 2\n",
    "\n",
    "df['sentiment'] = df.score.apply(to_sentiment)\n",
    "class_names = ['negative', 'neutral', 'positive']"
   ]
  },
  {
   "cell_type": "code",
   "execution_count": 16,
   "metadata": {
    "colab": {
     "base_uri": "https://localhost:8080/",
     "height": 506
    },
    "id": "tCDIdiLk5YHC",
    "outputId": "6f209655-8504-4d5f-db56-894dc516103f"
   },
   "outputs": [
    {
     "data": {
      "image/png": "[encoded data removed]",
      "text/plain": [
       "<Figure size 864x576 with 1 Axes>"
      ]
     },
     "metadata": {
      "image/png": {
       "height": 489,
       "width": 745
      },
      "tags": []
     },
     "output_type": "display_data"
    }
   ],
   "source": [
    "ax = sns.countplot(df.sentiment)\n",
    "plt.xlabel('review sentiment')\n",
    "ax.set_xticklabels(class_names);"
   ]
  },
  {
   "cell_type": "markdown",
   "metadata": {
    "id": "xOqIg5tJ7u0l"
   },
   "source": [
    "Now it's balanced"
   ]
  },
  {
   "cell_type": "markdown",
   "metadata": {
    "id": "zyFyWegF7yQY"
   },
   "source": [
    "## Data Preprocessing"
   ]
  },
  {
   "cell_type": "code",
   "execution_count": 17,
   "metadata": {
    "id": "K9YrkBsR71ju"
   },
   "outputs": [],
   "source": [
    "PRE_TRAINED_MODEL_NAME = 'bert-base-cased'"
   ]
  },
  {
   "cell_type": "code",
   "execution_count": 18,
   "metadata": {
    "colab": {
     "base_uri": "https://localhost:8080/",
     "height": 66,
     "referenced_widgets": [
      "2cd4ffa02344407381b2f5b60657cd38",
      "ee02e159e25a4e92b0c149f1e5cbc13f",
      "167d9c4d41b1435f97b1b0c38c09e112",
      "1fa718b55a2c408892019f6b1bc482be",
      "882c87d258f34e53a3a4ae592a97c2b5",
      "4d5cf01794c5498f8d613a09591a1e96",
      "52db9060989940d8adff6dcadeb784a6",
      "42f5e41912944d82b529d033bd5939d1"
     ]
    },
    "id": "icbcCPoU729f",
    "outputId": "1c572c9e-b89a-4a9e-b95c-98bd1d2400d3"
   },
   "outputs": [
    {
     "data": {
      "application/vnd.jupyter.widget-view+json": {
       "model_id": "2cd4ffa02344407381b2f5b60657cd38",
       "version_major": 2,
       "version_minor": 0
      },
      "text/plain": [
       "HBox(children=(FloatProgress(value=0.0, description='Downloading', max=213450.0, style=ProgressStyle(descripti…"
      ]
     },
     "metadata": {
      "tags": []
     },
     "output_type": "display_data"
    },
    {
     "name": "stdout",
     "output_type": "stream",
     "text": [
      "\n"
     ]
    }
   ],
   "source": [
    "tokenizer = BertTokenizer.from_pretrained(PRE_TRAINED_MODEL_NAME)"
   ]
  },
  {
   "cell_type": "markdown",
   "metadata": {
    "id": "WJcDopqY9U9S"
   },
   "source": [
    "### Tokenization Example"
   ]
  },
  {
   "cell_type": "code",
   "execution_count": 19,
   "metadata": {
    "id": "PCGOoLE_754A"
   },
   "outputs": [],
   "source": [
    "sample_txt = '''\n",
    "The restriction on the freedom of movement does not apply to passengers arriving from a country \n",
    "with an infection rate below 150 per 100 000 inhabitants in the past 14 days.\n",
    "'''"
   ]
  },
  {
   "cell_type": "code",
   "execution_count": 20,
   "metadata": {
    "colab": {
     "base_uri": "https://localhost:8080/"
    },
    "id": "xqVlRYUg8Yxk",
    "outputId": "598ae04b-c208-4201-f34d-b427e7f34555"
   },
   "outputs": [
    {
     "name": "stdout",
     "output_type": "stream",
     "text": [
      " Sentence: \n",
      "The restriction on the freedom of movement does not apply to passengers arriving from a country \n",
      "with an infection rate below 150 per 100 000 inhabitants in the past 14 days.\n",
      "\n",
      "   Tokens: ['The', 'restriction', 'on', 'the', 'freedom', 'of', 'movement', 'does', 'not', 'apply', 'to', 'passengers', 'arriving', 'from', 'a', 'country', 'with', 'an', 'infection', 'rate', 'below', '150', 'per', '100', '000', 'inhabitants', 'in', 'the', 'past', '14', 'days', '.']\n",
      "Token IDs: [1109, 18760, 1113, 1103, 4438, 1104, 2230, 1674, 1136, 6058, 1106, 4861, 7190, 1121, 170, 1583, 1114, 1126, 8974, 2603, 2071, 4214, 1679, 1620, 1288, 4131, 1107, 1103, 1763, 1489, 1552, 119]\n"
     ]
    }
   ],
   "source": [
    "tokens = tokenizer.tokenize(sample_txt)\n",
    "token_ids = tokenizer.convert_tokens_to_ids(tokens)\n",
    "\n",
    "print(f' Sentence: {sample_txt}')\n",
    "print(f'   Tokens: {tokens}')\n",
    "print(f'Token IDs: {token_ids}')"
   ]
  },
  {
   "cell_type": "markdown",
   "metadata": {
    "id": "ceDW7x3I9fwb"
   },
   "source": [
    "### Special Token"
   ]
  },
  {
   "cell_type": "markdown",
   "metadata": {
    "id": "37SEbBr_9nYa"
   },
   "source": [
    "`[SEP]` - marker for ending of a **sentence**"
   ]
  },
  {
   "cell_type": "code",
   "execution_count": 21,
   "metadata": {
    "colab": {
     "base_uri": "https://localhost:8080/"
    },
    "id": "9GgSst1x8as-",
    "outputId": "e1851201-f381-4aaa-b10c-049838ab0bc3"
   },
   "outputs": [
    {
     "data": {
      "text/plain": [
       "('[SEP]', 102)"
      ]
     },
     "execution_count": 21,
     "metadata": {
      "tags": []
     },
     "output_type": "execute_result"
    }
   ],
   "source": [
    "tokenizer.sep_token, tokenizer.sep_token_id"
   ]
  },
  {
   "cell_type": "markdown",
   "metadata": {
    "id": "ePwqiQAG9qoB"
   },
   "source": [
    "`[CLS]` - we must add this token to the start of each sentence, so BERT knows we’re doing classification"
   ]
  },
  {
   "cell_type": "code",
   "execution_count": 22,
   "metadata": {
    "colab": {
     "base_uri": "https://localhost:8080/"
    },
    "id": "VrfWfMrO9jWD",
    "outputId": "188ff02b-c4ed-46cd-b494-affc5ef42fd0"
   },
   "outputs": [
    {
     "data": {
      "text/plain": [
       "('[CLS]', 101)"
      ]
     },
     "execution_count": 22,
     "metadata": {
      "tags": []
     },
     "output_type": "execute_result"
    }
   ],
   "source": [
    "tokenizer.cls_token, tokenizer.cls_token_id"
   ]
  },
  {
   "cell_type": "markdown",
   "metadata": {
    "id": "AJeJhcrf90SC"
   },
   "source": [
    "special token for padding"
   ]
  },
  {
   "cell_type": "code",
   "execution_count": 23,
   "metadata": {
    "colab": {
     "base_uri": "https://localhost:8080/"
    },
    "id": "whUeaiXK9w8l",
    "outputId": "7b65375b-2a0f-41be-f489-aa09afe50cf9"
   },
   "outputs": [
    {
     "data": {
      "text/plain": [
       "('[PAD]', 0)"
      ]
     },
     "execution_count": 23,
     "metadata": {
      "tags": []
     },
     "output_type": "execute_result"
    }
   ],
   "source": [
    "tokenizer.pad_token, tokenizer.pad_token_id"
   ]
  },
  {
   "cell_type": "markdown",
   "metadata": {
    "id": "Al1v_d9g-JpP"
   },
   "source": [
    "BERT understands tokens that were in the training set. Everything else can be encoded using the [UNK] (unknown) token:"
   ]
  },
  {
   "cell_type": "code",
   "execution_count": 24,
   "metadata": {
    "colab": {
     "base_uri": "https://localhost:8080/"
    },
    "id": "6bOR1maW92u4",
    "outputId": "2818c5f3-cf11-4569-a640-0ec7c1f57212"
   },
   "outputs": [
    {
     "data": {
      "text/plain": [
       "('[UNK]', 100)"
      ]
     },
     "execution_count": 24,
     "metadata": {
      "tags": []
     },
     "output_type": "execute_result"
    }
   ],
   "source": [
    "tokenizer.unk_token, tokenizer.unk_token_id"
   ]
  },
  {
   "cell_type": "markdown",
   "metadata": {
    "id": "KR8SjgFN-NEd"
   },
   "source": [
    "All of that work can be done using the encode_plus() method:"
   ]
  },
  {
   "cell_type": "code",
   "execution_count": 25,
   "metadata": {
    "colab": {
     "base_uri": "https://localhost:8080/"
    },
    "id": "qfxcP2-r-LV4",
    "outputId": "7bab9a48-7363-45c3-fc21-de60a494ba0f"
   },
   "outputs": [
    {
     "data": {
      "text/plain": [
       "dict_keys(['input_ids', 'attention_mask'])"
      ]
     },
     "execution_count": 25,
     "metadata": {
      "tags": []
     },
     "output_type": "execute_result"
    }
   ],
   "source": [
    "encoding = tokenizer.encode_plus(\n",
    "  sample_txt,\n",
    "  max_length=32,\n",
    "  add_special_tokens=True, # Add '[CLS]' and '[SEP]'\n",
    "  return_token_type_ids=False,\n",
    "  pad_to_max_length=True,\n",
    "  return_attention_mask=True,\n",
    "  return_tensors='pt',  # Return PyTorch tensors\n",
    ")\n",
    "\n",
    "encoding.keys()"
   ]
  },
  {
   "cell_type": "code",
   "execution_count": 26,
   "metadata": {
    "colab": {
     "base_uri": "https://localhost:8080/"
    },
    "id": "A_7FooSB-Pup",
    "outputId": "38078cec-bcc5-4d9d-cc5f-822b51441b41"
   },
   "outputs": [
    {
     "name": "stdout",
     "output_type": "stream",
     "text": [
      "32\n"
     ]
    },
    {
     "data": {
      "text/plain": [
       "tensor([  101,  1109, 18760,  1113,  1103,  4438,  1104,  2230,  1674,  1136,\n",
       "         6058,  1106,  4861,  7190,  1121,   170,  1583,  1114,  1126,  8974,\n",
       "         2603,  2071,  4214,  1679,  1620,  1288,  4131,  1107,  1103,  1763,\n",
       "         1489,   102])"
      ]
     },
     "execution_count": 26,
     "metadata": {
      "tags": []
     },
     "output_type": "execute_result"
    }
   ],
   "source": [
    "print(len(encoding['input_ids'][0]))\n",
    "encoding['input_ids'][0]"
   ]
  },
  {
   "cell_type": "code",
   "execution_count": 27,
   "metadata": {
    "colab": {
     "base_uri": "https://localhost:8080/"
    },
    "id": "KSq2R5OC-Tuf",
    "outputId": "bcff9ba0-fa2a-4175-ab1c-389e376d997f"
   },
   "outputs": [
    {
     "name": "stdout",
     "output_type": "stream",
     "text": [
      "32\n"
     ]
    },
    {
     "data": {
      "text/plain": [
       "tensor([[1, 1, 1, 1, 1, 1, 1, 1, 1, 1, 1, 1, 1, 1, 1, 1, 1, 1, 1, 1, 1, 1, 1, 1,\n",
       "         1, 1, 1, 1, 1, 1, 1, 1]])"
      ]
     },
     "execution_count": 27,
     "metadata": {
      "tags": []
     },
     "output_type": "execute_result"
    }
   ],
   "source": [
    "print(len(encoding['attention_mask'][0]))\n",
    "encoding['attention_mask']"
   ]
  },
  {
   "cell_type": "markdown",
   "metadata": {
    "id": "7jNFuP2G-Yvc"
   },
   "source": [
    "Inverse the tokenization to have a look at the special tokens"
   ]
  },
  {
   "cell_type": "code",
   "execution_count": 28,
   "metadata": {
    "colab": {
     "base_uri": "https://localhost:8080/"
    },
    "id": "rU1MoAkz-WLs",
    "outputId": "e6a3f507-a6a9-4f6f-9e5e-f742b7803e1d"
   },
   "outputs": [
    {
     "data": {
      "text/plain": [
       "['[CLS]',\n",
       " 'The',\n",
       " 'restriction',\n",
       " 'on',\n",
       " 'the',\n",
       " 'freedom',\n",
       " 'of',\n",
       " 'movement',\n",
       " 'does',\n",
       " 'not',\n",
       " 'apply',\n",
       " 'to',\n",
       " 'passengers',\n",
       " 'arriving',\n",
       " 'from',\n",
       " 'a',\n",
       " 'country',\n",
       " 'with',\n",
       " 'an',\n",
       " 'infection',\n",
       " 'rate',\n",
       " 'below',\n",
       " '150',\n",
       " 'per',\n",
       " '100',\n",
       " '000',\n",
       " 'inhabitants',\n",
       " 'in',\n",
       " 'the',\n",
       " 'past',\n",
       " '14',\n",
       " '[SEP]']"
      ]
     },
     "execution_count": 28,
     "metadata": {
      "tags": []
     },
     "output_type": "execute_result"
    }
   ],
   "source": [
    "tokenizer.convert_ids_to_tokens(encoding['input_ids'][0])"
   ]
  },
  {
   "cell_type": "markdown",
   "metadata": {
    "id": "8QDMzrVQ-gGa"
   },
   "source": [
    "## Choosing Sequence Length"
   ]
  },
  {
   "cell_type": "code",
   "execution_count": 29,
   "metadata": {
    "id": "oySwe-4d-cXW"
   },
   "outputs": [],
   "source": [
    "token_lens = []\n",
    "\n",
    "for txt in df.content:\n",
    "  tokens = tokenizer.encode(txt, max_length=512)\n",
    "  token_lens.append(len(tokens))"
   ]
  },
  {
   "cell_type": "code",
   "execution_count": 30,
   "metadata": {
    "colab": {
     "base_uri": "https://localhost:8080/",
     "height": 506
    },
    "id": "x43QEtST-kCe",
    "outputId": "f4c26226-bb6e-402c-e0da-a54f5a9c5650"
   },
   "outputs": [
    {
     "data": {
      "image/png": "[encoded data removed]",
      "text/plain": [
       "<Figure size 864x576 with 1 Axes>"
      ]
     },
     "metadata": {
      "image/png": {
       "height": 489,
       "width": 757
      },
      "tags": []
     },
     "output_type": "display_data"
    }
   ],
   "source": [
    "sns.distplot(token_lens)\n",
    "plt.xlim([0, 256]);\n",
    "plt.xlabel('Token count');"
   ]
  },
  {
   "cell_type": "markdown",
   "metadata": {
    "id": "0TtDQ_f--wjE"
   },
   "source": [
    "Because most of the reviews contain less than 150 tokens, let's keep the max length = 160"
   ]
  },
  {
   "cell_type": "code",
   "execution_count": 31,
   "metadata": {
    "id": "hQmPSCz2-kus"
   },
   "outputs": [],
   "source": [
    "MAX_LEN = 160"
   ]
  },
  {
   "cell_type": "markdown",
   "metadata": {
    "id": "XG_NOyg1-_jh"
   },
   "source": [
    "Building blocks required to crate a PyTorch dataset"
   ]
  },
  {
   "cell_type": "code",
   "execution_count": 32,
   "metadata": {
    "id": "gRwMPxwV-k_r"
   },
   "outputs": [],
   "source": [
    "class GPReviewDataset(Dataset):\n",
    "\n",
    "  def __init__(self, reviews, targets, tokenizer, max_len):\n",
    "    self.reviews = reviews\n",
    "    self.targets = targets\n",
    "    self.tokenizer = tokenizer\n",
    "    self.max_len = max_len\n",
    "\n",
    "  def __len__(self):\n",
    "    return len(self.reviews)\n",
    "\n",
    "  def __getitem__(self, item):\n",
    "    review = str(self.reviews[item])\n",
    "    target = self.targets[item]\n",
    "    encoding = self.tokenizer.encode_plus(\n",
    "      review,\n",
    "      add_special_tokens=True,\n",
    "      max_length=self.max_len,\n",
    "      return_token_type_ids=False,\n",
    "      pad_to_max_length=True,\n",
    "      return_attention_mask=True,\n",
    "      return_tensors='pt',\n",
    "    )\n",
    "\n",
    "    return {\n",
    "      'review_text': review,\n",
    "      'input_ids': encoding['input_ids'].flatten(),\n",
    "      'attention_mask': encoding['attention_mask'].flatten(),\n",
    "      'targets': torch.tensor(target, dtype=torch.long)\n",
    "    }"
   ]
  },
  {
   "cell_type": "code",
   "execution_count": 33,
   "metadata": {
    "id": "oaii-TER-lDg"
   },
   "outputs": [],
   "source": [
    "df_train, df_test = train_test_split(\n",
    "  df,\n",
    "  test_size=0.1,\n",
    "  random_state=RANDOM_SEED\n",
    "\n",
    ")\n",
    "\n",
    "df_val, df_test = train_test_split(\n",
    "  df_test,\n",
    "  test_size=0.5,\n",
    "  random_state=RANDOM_SEED\n",
    ")"
   ]
  },
  {
   "cell_type": "markdown",
   "metadata": {
    "id": "b3nCBQ1F_UOB"
   },
   "source": [
    "### Create a couple of data loaders"
   ]
  },
  {
   "cell_type": "code",
   "execution_count": 34,
   "metadata": {
    "id": "kYB2En8S_R3W"
   },
   "outputs": [],
   "source": [
    "def create_data_loader(df, tokenizer, max_len, batch_size):\n",
    "  ds = GPReviewDataset(\n",
    "    reviews=df.content.to_numpy(),\n",
    "    targets=df.sentiment.to_numpy(),\n",
    "    tokenizer=tokenizer,\n",
    "    max_len=max_len\n",
    "  )\n",
    "\n",
    "  return DataLoader(\n",
    "    ds,\n",
    "    batch_size=batch_size,\n",
    "    num_workers=4\n",
    "  )"
   ]
  },
  {
   "cell_type": "code",
   "execution_count": 35,
   "metadata": {
    "id": "1COSsDig_li8"
   },
   "outputs": [],
   "source": [
    "BATCH_SIZE = 16\n",
    "\n",
    "train_data_loader = create_data_loader(df_train, tokenizer, MAX_LEN, BATCH_SIZE)\n",
    "val_data_loader = create_data_loader(df_val, tokenizer, MAX_LEN, BATCH_SIZE)\n",
    "test_data_loader = create_data_loader(df_test, tokenizer, MAX_LEN, BATCH_SIZE)"
   ]
  },
  {
   "cell_type": "code",
   "execution_count": 36,
   "metadata": {
    "colab": {
     "base_uri": "https://localhost:8080/"
    },
    "id": "qleZMdYV_rUk",
    "outputId": "2069ea68-a9be-41b2-cc25-d8315b01a226"
   },
   "outputs": [
    {
     "data": {
      "text/plain": [
       "dict_keys(['review_text', 'input_ids', 'attention_mask', 'targets'])"
      ]
     },
     "execution_count": 36,
     "metadata": {
      "tags": []
     },
     "output_type": "execute_result"
    }
   ],
   "source": [
    "data = next(iter(train_data_loader))\n",
    "data.keys()"
   ]
  },
  {
   "cell_type": "code",
   "execution_count": 37,
   "metadata": {
    "colab": {
     "base_uri": "https://localhost:8080/"
    },
    "id": "WvCvPYZx__MB",
    "outputId": "cef17236-5667-45bd-d9a7-38275fe12cb3"
   },
   "outputs": [
    {
     "name": "stdout",
     "output_type": "stream",
     "text": [
      "torch.Size([16, 160])\n",
      "torch.Size([16, 160])\n",
      "torch.Size([16])\n"
     ]
    }
   ],
   "source": [
    "print(data['input_ids'].shape)\n",
    "print(data['attention_mask'].shape)\n",
    "print(data['targets'].shape)"
   ]
  },
  {
   "cell_type": "markdown",
   "metadata": {
    "id": "TNhUiV0uAXzY"
   },
   "source": [
    "## Sentiment Classification with BERT and Hugging Face\n",
    "\n",
    "Using the basic [BertModel](https://huggingface.co/transformers/model_doc/bert.html#bertmodel) and build the sentiment classifier on top of this model"
   ]
  },
  {
   "cell_type": "code",
   "execution_count": 38,
   "metadata": {
    "colab": {
     "base_uri": "https://localhost:8080/",
     "height": 116,
     "referenced_widgets": [
      "09010f7102784c4d9b8c2ff146052553",
      "8f131ba378214427ad26ea6f73bea327",
      "ad8e7c88bbea41ac95cd1a58c79a89fb",
      "fa2830fd178c41d0a7db39dda27e3915",
      "dc3ebf9133f94cdfa89d7455aa8b9ebd",
      "b2cfc86433ae43c69dd23c7048048d07",
      "0a5b97ae01654c309585b8bccdae9aa1",
      "cb481bb778684487b8f741eff05cba48",
      "fd63d80f32ba4758860ff1f35954ed24",
      "b8974b76d06648ba8306b023073e2805",
      "18e3e7e0ed404ae4863e34242aed0888",
      "6b458ff9ab44452a879accd8ed9fe481",
      "3c1f4fe3ed9c43e4bd418353db30ad36",
      "e9c38927b503444f8bd008cd63110727",
      "151b0903839145d4bef65e20af42cc22",
      "1ab94c3f78864d9bbaaa63c65a1dde5e"
     ]
    },
    "id": "yV8_C972AAhW",
    "outputId": "711b09b7-7671-4020-b65f-5b4d62c75eba"
   },
   "outputs": [
    {
     "data": {
      "application/vnd.jupyter.widget-view+json": {
       "model_id": "09010f7102784c4d9b8c2ff146052553",
       "version_major": 2,
       "version_minor": 0
      },
      "text/plain": [
       "HBox(children=(FloatProgress(value=0.0, description='Downloading', max=433.0, style=ProgressStyle(description_…"
      ]
     },
     "metadata": {
      "tags": []
     },
     "output_type": "display_data"
    },
    {
     "name": "stdout",
     "output_type": "stream",
     "text": [
      "\n"
     ]
    },
    {
     "data": {
      "application/vnd.jupyter.widget-view+json": {
       "model_id": "fd63d80f32ba4758860ff1f35954ed24",
       "version_major": 2,
       "version_minor": 0
      },
      "text/plain": [
       "HBox(children=(FloatProgress(value=0.0, description='Downloading', max=435779157.0, style=ProgressStyle(descri…"
      ]
     },
     "metadata": {
      "tags": []
     },
     "output_type": "display_data"
    },
    {
     "name": "stdout",
     "output_type": "stream",
     "text": [
      "\n"
     ]
    }
   ],
   "source": [
    "bert_model = BertModel.from_pretrained(PRE_TRAINED_MODEL_NAME)"
   ]
  },
  {
   "cell_type": "code",
   "execution_count": 43,
   "metadata": {
    "id": "uuc0GheKAe08"
   },
   "outputs": [],
   "source": [
    "## newer Transformer version\n",
    "# x = bert_model(\n",
    "#   input_ids=encoding['input_ids'], \n",
    "#   attention_mask=encoding['attention_mask']\n",
    "# )\n",
    "\n",
    "# x"
   ]
  },
  {
   "cell_type": "code",
   "execution_count": 41,
   "metadata": {
    "id": "Joo3f-GGEyR5"
   },
   "outputs": [],
   "source": [
    "## newer Transformer version need this\n",
    "# last_hidden_state = x['last_hidden_state']\n",
    "# pooled_output = x['pooler_output']"
   ]
  },
  {
   "cell_type": "code",
   "execution_count": 44,
   "metadata": {
    "id": "1Fz_yFQuNprY"
   },
   "outputs": [],
   "source": [
    "last_hidden_state, pooled_output = bert_model(\n",
    "  input_ids=encoding['input_ids'], \n",
    "  attention_mask=encoding['attention_mask']\n",
    ")"
   ]
  },
  {
   "cell_type": "code",
   "execution_count": 45,
   "metadata": {
    "colab": {
     "base_uri": "https://localhost:8080/"
    },
    "id": "-wRdypivBFtd",
    "outputId": "7a5c81b8-90ab-4dca-b872-8e52f8e8bdaf"
   },
   "outputs": [
    {
     "data": {
      "text/plain": [
       "torch.Size([1, 32, 768])"
      ]
     },
     "execution_count": 45,
     "metadata": {
      "tags": []
     },
     "output_type": "execute_result"
    }
   ],
   "source": [
    "last_hidden_state.shape"
   ]
  },
  {
   "cell_type": "code",
   "execution_count": 46,
   "metadata": {
    "colab": {
     "base_uri": "https://localhost:8080/"
    },
    "id": "vwD6yr9iBInO",
    "outputId": "22ba4c4e-f32d-4e95-f9c7-dcc5cdca8cd0"
   },
   "outputs": [
    {
     "data": {
      "text/plain": [
       "768"
      ]
     },
     "execution_count": 46,
     "metadata": {
      "tags": []
     },
     "output_type": "execute_result"
    }
   ],
   "source": [
    "bert_model.config.hidden_size"
   ]
  },
  {
   "cell_type": "code",
   "execution_count": 47,
   "metadata": {
    "colab": {
     "base_uri": "https://localhost:8080/"
    },
    "id": "Lm2_1avjBYs9",
    "outputId": "d92c2c90-8331-44d2-ec1b-171bd959db36"
   },
   "outputs": [
    {
     "data": {
      "text/plain": [
       "torch.Size([1, 768])"
      ]
     },
     "execution_count": 47,
     "metadata": {
      "tags": []
     },
     "output_type": "execute_result"
    }
   ],
   "source": [
    "pooled_output.shape"
   ]
  },
  {
   "cell_type": "markdown",
   "metadata": {
    "id": "H1vPJ4NaFLE9"
   },
   "source": [
    "### Classifier Function"
   ]
  },
  {
   "cell_type": "code",
   "execution_count": 48,
   "metadata": {
    "id": "g03OcVngBz6R"
   },
   "outputs": [],
   "source": [
    "class SentimentClassifier(nn.Module):\n",
    "\n",
    "  def __init__(self, n_classes):\n",
    "    super(SentimentClassifier, self).__init__()\n",
    "    self.bert = BertModel.from_pretrained(PRE_TRAINED_MODEL_NAME)\n",
    "    self.drop = nn.Dropout(p=0.3)\n",
    "    self.out = nn.Linear(self.bert.config.hidden_size, n_classes)\n",
    "  \n",
    "  def forward(self, input_ids, attention_mask):\n",
    "    _, pooled_output = self.bert(\n",
    "      input_ids=input_ids,\n",
    "      attention_mask=attention_mask\n",
    "    )\n",
    "    # pooled_output = x['pooler_output'] # for new Transformer version\n",
    "    output = self.drop(pooled_output)\n",
    "    return self.out(output)"
   ]
  },
  {
   "cell_type": "markdown",
   "metadata": {
    "id": "VtGi_4BgFWWV"
   },
   "source": [
    "### Create an instance and move it to GPU"
   ]
  },
  {
   "cell_type": "code",
   "execution_count": 49,
   "metadata": {
    "id": "tC9XHm9vFNML"
   },
   "outputs": [],
   "source": [
    "model = SentimentClassifier(len(class_names))\n",
    "model = model.to(device)"
   ]
  },
  {
   "cell_type": "code",
   "execution_count": 50,
   "metadata": {
    "colab": {
     "base_uri": "https://localhost:8080/"
    },
    "id": "xL0-usqtFZyx",
    "outputId": "d8612f24-2b52-4f9d-cb6c-ef0e7e2a119a"
   },
   "outputs": [
    {
     "name": "stdout",
     "output_type": "stream",
     "text": [
      "torch.Size([16, 160])\n",
      "torch.Size([16, 160])\n"
     ]
    }
   ],
   "source": [
    "input_ids = data['input_ids'].to(device)\n",
    "attention_mask = data['attention_mask'].to(device)\n",
    "\n",
    "print(input_ids.shape) # batch size x seq length\n",
    "print(attention_mask.shape) # batch size x seq length"
   ]
  },
  {
   "cell_type": "code",
   "execution_count": 51,
   "metadata": {
    "colab": {
     "base_uri": "https://localhost:8080/"
    },
    "id": "hH9JIax-FcxH",
    "outputId": "c594963d-2728-4c28-a875-de9a7e64f75d"
   },
   "outputs": [
    {
     "data": {
      "text/plain": [
       "tensor([[0.5879, 0.0842, 0.3279],\n",
       "        [0.4308, 0.1888, 0.3804],\n",
       "        [0.4871, 0.1766, 0.3363],\n",
       "        [0.3364, 0.0778, 0.5858],\n",
       "        [0.4025, 0.1040, 0.4935],\n",
       "        [0.3599, 0.1026, 0.5374],\n",
       "        [0.5054, 0.1552, 0.3394],\n",
       "        [0.5962, 0.1464, 0.2574],\n",
       "        [0.3274, 0.1967, 0.4759],\n",
       "        [0.3026, 0.1118, 0.5856],\n",
       "        [0.4103, 0.1571, 0.4326],\n",
       "        [0.4879, 0.2121, 0.3000],\n",
       "        [0.3811, 0.1477, 0.4712],\n",
       "        [0.3354, 0.1354, 0.5292],\n",
       "        [0.3999, 0.2822, 0.3179],\n",
       "        [0.5075, 0.1684, 0.3242]], device='cuda:0', grad_fn=<SoftmaxBackward>)"
      ]
     },
     "execution_count": 51,
     "metadata": {
      "tags": []
     },
     "output_type": "execute_result"
    }
   ],
   "source": [
    "nn.functional.softmax(model(input_ids, attention_mask), dim=1)"
   ]
  },
  {
   "cell_type": "markdown",
   "metadata": {
    "id": "SIA_5tdCGp26"
   },
   "source": [
    "### Training"
   ]
  },
  {
   "cell_type": "code",
   "execution_count": 52,
   "metadata": {
    "id": "A5NRYsPvFewT"
   },
   "outputs": [],
   "source": [
    "EPOCHS = 10\n",
    "\n",
    "optimizer = AdamW(model.parameters(), lr=2e-5, correct_bias=False)\n",
    "total_steps = len(train_data_loader) * EPOCHS\n",
    "\n",
    "scheduler = get_linear_schedule_with_warmup(\n",
    "  optimizer,\n",
    "  num_warmup_steps=0,\n",
    "  num_training_steps=total_steps\n",
    ")\n",
    "\n",
    "loss_fn = nn.CrossEntropyLoss().to(device)"
   ]
  },
  {
   "cell_type": "code",
   "execution_count": 53,
   "metadata": {
    "id": "fMcYM38tGvSP"
   },
   "outputs": [],
   "source": [
    "def train_epoch(\n",
    "  model, \n",
    "  data_loader, \n",
    "  loss_fn, \n",
    "  optimizer, \n",
    "  device, \n",
    "  scheduler, \n",
    "  n_examples\n",
    "):\n",
    "  model = model.train()\n",
    "\n",
    "  losses = []\n",
    "  correct_predictions = 0\n",
    "  \n",
    "  for d in data_loader:\n",
    "    input_ids = d[\"input_ids\"].to(device)\n",
    "    attention_mask = d[\"attention_mask\"].to(device)\n",
    "    targets = d[\"targets\"].to(device)\n",
    "\n",
    "    outputs = model(\n",
    "      input_ids=input_ids,\n",
    "      attention_mask=attention_mask\n",
    "    )\n",
    "\n",
    "    _, preds = torch.max(outputs, dim=1)\n",
    "    loss = loss_fn(outputs, targets)\n",
    "\n",
    "    correct_predictions += torch.sum(preds == targets)\n",
    "    losses.append(loss.item())\n",
    "\n",
    "    loss.backward()\n",
    "    nn.utils.clip_grad_norm_(model.parameters(), max_norm=1.0)\n",
    "    optimizer.step()\n",
    "    scheduler.step()\n",
    "    optimizer.zero_grad()\n",
    "\n",
    "  return correct_predictions.double() / n_examples, np.mean(losses)"
   ]
  },
  {
   "cell_type": "code",
   "execution_count": 54,
   "metadata": {
    "id": "Jpu-7-hlGyy_"
   },
   "outputs": [],
   "source": [
    "def eval_model(model, data_loader, loss_fn, device, n_examples):\n",
    "  model = model.eval()\n",
    "\n",
    "  losses = []\n",
    "  correct_predictions = 0\n",
    "\n",
    "  with torch.no_grad():\n",
    "    for d in data_loader:\n",
    "      input_ids = d[\"input_ids\"].to(device)\n",
    "      attention_mask = d[\"attention_mask\"].to(device)\n",
    "      targets = d[\"targets\"].to(device)\n",
    "\n",
    "      outputs = model(\n",
    "        input_ids=input_ids,\n",
    "        attention_mask=attention_mask\n",
    "      )\n",
    "      _, preds = torch.max(outputs, dim=1)\n",
    "\n",
    "      loss = loss_fn(outputs, targets)\n",
    "\n",
    "      correct_predictions += torch.sum(preds == targets)\n",
    "      losses.append(loss.item())\n",
    "\n",
    "  return correct_predictions.double() / n_examples, np.mean(losses)"
   ]
  },
  {
   "cell_type": "markdown",
   "metadata": {
    "id": "0CQeNGK9HKKQ"
   },
   "source": [
    "#### 10 epochs required ~40mins"
   ]
  },
  {
   "cell_type": "code",
   "execution_count": 55,
   "metadata": {
    "id": "qqWnIpBkM8lV"
   },
   "outputs": [],
   "source": [
    "# %%time\n",
    "\n",
    "# history = defaultdict(list)\n",
    "# best_accuracy = 0\n",
    "\n",
    "# for epoch in range(EPOCHS):\n",
    "\n",
    "#   print(f'Epoch {epoch + 1}/{EPOCHS}')\n",
    "#   print('-' * 10)\n",
    "\n",
    "#   train_acc, train_loss = train_epoch(\n",
    "#     model,\n",
    "#     train_data_loader,    \n",
    "#     loss_fn, \n",
    "#     optimizer, \n",
    "#     device, \n",
    "#     scheduler, \n",
    "#     len(df_train)\n",
    "#   )\n",
    "\n",
    "#   print(f'Train loss {train_loss} accuracy {train_acc}')\n",
    "\n",
    "#   val_acc, val_loss = eval_model(\n",
    "#     model,\n",
    "#     val_data_loader,\n",
    "#     loss_fn, \n",
    "#     device, \n",
    "#     len(df_val)\n",
    "#   )\n",
    "\n",
    "#   print(f'Val   loss {val_loss} accuracy {val_acc}')\n",
    "#   print()\n",
    "\n",
    "#   history['train_acc'].append(train_acc)\n",
    "#   history['train_loss'].append(train_loss)\n",
    "#   history['val_acc'].append(val_acc)\n",
    "#   history['val_loss'].append(val_loss)\n",
    "\n",
    "#   if val_acc > best_accuracy:\n",
    "#     torch.save(model.state_dict(), 'best_model_state.bin')\n",
    "#     best_accuracy = val_acc"
   ]
  },
  {
   "cell_type": "code",
   "execution_count": 56,
   "metadata": {
    "id": "9pmMNLi5G2jB"
   },
   "outputs": [],
   "source": [
    "# plt.plot(history['train_acc'], label='train accuracy')\n",
    "# plt.plot(history['val_acc'], label='validation accuracy')\n",
    "\n",
    "# plt.title('Training history')\n",
    "# plt.ylabel('Accuracy')\n",
    "# plt.xlabel('Epoch')\n",
    "# plt.legend()\n",
    "# plt.ylim([0, 1]);"
   ]
  },
  {
   "cell_type": "markdown",
   "metadata": {
    "id": "oy8fRTqIHUg2"
   },
   "source": [
    "#### Download the pre-trained model"
   ]
  },
  {
   "cell_type": "code",
   "execution_count": 57,
   "metadata": {
    "id": "tRztE8vdHXyE"
   },
   "outputs": [],
   "source": [
    "# !gdown --id 1V8itWtowCYnb2Bc9KlK9SxGff9WwmogA\n",
    "\n",
    "model = SentimentClassifier(len(class_names))\n",
    "model.load_state_dict(torch.load('best_model_state.bin'))\n",
    "model = model.to(device)"
   ]
  },
  {
   "cell_type": "markdown",
   "metadata": {
    "id": "Dz8GKzKlIA-d"
   },
   "source": [
    "### Evaluation"
   ]
  },
  {
   "cell_type": "code",
   "execution_count": 58,
   "metadata": {
    "colab": {
     "base_uri": "https://localhost:8080/"
    },
    "id": "P_nSzUzOH5Mi",
    "outputId": "9f83e8f5-3ee1-47e5-e9b2-745324e139c7"
   },
   "outputs": [
    {
     "data": {
      "text/plain": [
       "0.883248730964467"
      ]
     },
     "execution_count": 58,
     "metadata": {
      "tags": []
     },
     "output_type": "execute_result"
    }
   ],
   "source": [
    "test_acc, _ = eval_model(\n",
    "  model,\n",
    "  test_data_loader,\n",
    "  loss_fn,\n",
    "  device,\n",
    "  len(df_test)\n",
    ")\n",
    "\n",
    "test_acc.item()"
   ]
  },
  {
   "cell_type": "code",
   "execution_count": 62,
   "metadata": {
    "id": "nC_QMrDhIDmu"
   },
   "outputs": [],
   "source": [
    "def get_predictions(model, data_loader):\n",
    "  model = model.eval()\n",
    "  \n",
    "  review_texts = []\n",
    "  predictions = []\n",
    "  prediction_probs = []\n",
    "  real_values = []\n",
    "\n",
    "  with torch.no_grad():\n",
    "    for d in data_loader:\n",
    "\n",
    "      texts = d[\"review_text\"]\n",
    "      input_ids = d[\"input_ids\"].to(device)\n",
    "      attention_mask = d[\"attention_mask\"].to(device)\n",
    "      targets = d[\"targets\"].to(device)\n",
    "\n",
    "      outputs = model(\n",
    "        input_ids=input_ids,\n",
    "        attention_mask=attention_mask\n",
    "      )\n",
    "      _, preds = torch.max(outputs, dim=1)\n",
    "\n",
    "      probs = nn.functional.softmax(outputs, dim=1)\n",
    "\n",
    "      review_texts.extend(texts)\n",
    "      predictions.extend(preds)\n",
    "      prediction_probs.extend(probs)\n",
    "      real_values.extend(targets)\n",
    "\n",
    "  predictions = torch.stack(predictions).cpu()\n",
    "  prediction_probs = torch.stack(prediction_probs).cpu()\n",
    "  real_values = torch.stack(real_values).cpu()\n",
    "  return review_texts, predictions, prediction_probs, real_values"
   ]
  },
  {
   "cell_type": "code",
   "execution_count": 63,
   "metadata": {
    "id": "oGj3JYkhIX2d"
   },
   "outputs": [],
   "source": [
    "y_review_texts, y_pred, y_pred_probs, y_test = get_predictions(\n",
    "  model,\n",
    "  test_data_loader\n",
    ")"
   ]
  },
  {
   "cell_type": "code",
   "execution_count": 64,
   "metadata": {
    "colab": {
     "base_uri": "https://localhost:8080/"
    },
    "id": "vmLuDeWbIZpb",
    "outputId": "e8e774f3-4428-426f-89c1-17f0bdff3616"
   },
   "outputs": [
    {
     "name": "stdout",
     "output_type": "stream",
     "text": [
      "              precision    recall  f1-score   support\n",
      "\n",
      "    negative       0.89      0.87      0.88       245\n",
      "     neutral       0.83      0.85      0.84       254\n",
      "    positive       0.92      0.93      0.92       289\n",
      "\n",
      "    accuracy                           0.88       788\n",
      "   macro avg       0.88      0.88      0.88       788\n",
      "weighted avg       0.88      0.88      0.88       788\n",
      "\n"
     ]
    }
   ],
   "source": [
    "print(classification_report(y_test, y_pred, target_names=class_names))"
   ]
  },
  {
   "cell_type": "code",
   "execution_count": 65,
   "metadata": {
    "colab": {
     "base_uri": "https://localhost:8080/",
     "height": 533
    },
    "id": "lqdcAQRrIcMj",
    "outputId": "b81fbe0b-48af-4e24-c1dd-42311d85caa5"
   },
   "outputs": [
    {
     "data": {
      "image/png": "[encoded data removed]",
      "text/plain": [
       "<Figure size 864x576 with 2 Axes>"
      ]
     },
     "metadata": {
      "image/png": {
       "height": 516,
       "width": 725
      },
      "tags": []
     },
     "output_type": "display_data"
    }
   ],
   "source": [
    "def show_confusion_matrix(confusion_matrix):\n",
    "  hmap = sns.heatmap(confusion_matrix, annot=True, fmt=\"d\", cmap=\"Blues\")\n",
    "  hmap.yaxis.set_ticklabels(hmap.yaxis.get_ticklabels(), rotation=0, ha='right')\n",
    "  hmap.xaxis.set_ticklabels(hmap.xaxis.get_ticklabels(), rotation=30, ha='right')\n",
    "  plt.ylabel('True sentiment')\n",
    "  plt.xlabel('Predicted sentiment');\n",
    "\n",
    "cm = confusion_matrix(y_test, y_pred)\n",
    "df_cm = pd.DataFrame(cm, index=class_names, columns=class_names)\n",
    "show_confusion_matrix(df_cm)"
   ]
  },
  {
   "cell_type": "code",
   "execution_count": 70,
   "metadata": {
    "id": "7hesClkaIe2P"
   },
   "outputs": [],
   "source": [
    "idx = 2\n",
    "\n",
    "review_text = y_review_texts[idx]\n",
    "true_sentiment = y_test[idx]\n",
    "pred_df = pd.DataFrame({\n",
    "  'class_names': class_names,\n",
    "  'values': y_pred_probs[idx]\n",
    "})"
   ]
  },
  {
   "cell_type": "code",
   "execution_count": 71,
   "metadata": {
    "colab": {
     "base_uri": "https://localhost:8080/"
    },
    "id": "byiPHgaJOJYv",
    "outputId": "763cd7b4-68e3-4f66-dc02-bc12dbf6d278"
   },
   "outputs": [
    {
     "name": "stdout",
     "output_type": "stream",
     "text": [
      "I used to use Habitica, and I must say this is a great step up. I'd\n",
      "like to see more social features, such as sharing tasks - only one\n",
      "person has to perform said task for it to be checked off, but only\n",
      "giving that person the experience and gold. Otherwise, the price for\n",
      "subscription is too steep, thus resulting in a sub-perfect score. I\n",
      "could easily justify $0.99/month or eternal subscription for $15. If\n",
      "that price could be met, as well as fine tuning, this would be easily\n",
      "worth 5 stars.\n",
      "\n",
      "True sentiment: neutral\n"
     ]
    }
   ],
   "source": [
    "print(\"\\n\".join(wrap(review_text)))\n",
    "print()\n",
    "print(f'True sentiment: {class_names[true_sentiment]}')"
   ]
  },
  {
   "cell_type": "code",
   "execution_count": 72,
   "metadata": {
    "colab": {
     "base_uri": "https://localhost:8080/",
     "height": 506
    },
    "id": "yNAwjwanOLGY",
    "outputId": "7e846555-2c23-4703-ab5c-d4cc72755159"
   },
   "outputs": [
    {
     "data": {
      "image/png": "[encoded data removed]",
      "text/plain": [
       "<Figure size 864x576 with 1 Axes>"
      ]
     },
     "metadata": {
      "image/png": {
       "height": 489,
       "width": 779
      },
      "tags": []
     },
     "output_type": "display_data"
    }
   ],
   "source": [
    "sns.barplot(x='values', y='class_names', data=pred_df, orient='h')\n",
    "plt.ylabel('sentiment')\n",
    "plt.xlabel('probability')\n",
    "plt.xlim([0, 1]);"
   ]
  },
  {
   "cell_type": "markdown",
   "metadata": {
    "id": "aKRHp7aqOsea"
   },
   "source": [
    "# Predicting on Raw Text"
   ]
  },
  {
   "cell_type": "code",
   "execution_count": 73,
   "metadata": {
    "id": "mah3wRwTOp1K"
   },
   "outputs": [],
   "source": [
    "review_text = \"I love completing my todos! Best app ever!!!\""
   ]
  },
  {
   "cell_type": "code",
   "execution_count": 74,
   "metadata": {
    "id": "LYJ_HK2MOxkf"
   },
   "outputs": [],
   "source": [
    "encoded_review = tokenizer.encode_plus(\n",
    "  review_text,\n",
    "  max_length=MAX_LEN,\n",
    "  add_special_tokens=True,\n",
    "  return_token_type_ids=False,\n",
    "  pad_to_max_length=True,\n",
    "  return_attention_mask=True,\n",
    "  return_tensors='pt',\n",
    ")"
   ]
  },
  {
   "cell_type": "code",
   "execution_count": 75,
   "metadata": {
    "colab": {
     "base_uri": "https://localhost:8080/"
    },
    "id": "VoWOFuz7OziG",
    "outputId": "2d406358-b10f-4eaf-8be4-c0f19a10c213"
   },
   "outputs": [
    {
     "name": "stdout",
     "output_type": "stream",
     "text": [
      "Review text: I love completing my todos! Best app ever!!!\n",
      "Sentiment  : positive\n"
     ]
    }
   ],
   "source": [
    "input_ids = encoded_review['input_ids'].to(device)\n",
    "attention_mask = encoded_review['attention_mask'].to(device)\n",
    "\n",
    "output = model(input_ids, attention_mask)\n",
    "_, prediction = torch.max(output, dim=1)\n",
    "\n",
    "print(f'Review text: {review_text}')\n",
    "print(f'Sentiment  : {class_names[prediction]}')"
   ]
  },
  {
   "cell_type": "markdown",
   "metadata": {
    "id": "fUupqnFPPEbR"
   },
   "source": [
    "# Predicting on Bolt Reviews"
   ]
  },
  {
   "cell_type": "code",
   "execution_count": 76,
   "metadata": {
    "colab": {
     "base_uri": "https://localhost:8080/"
    },
    "id": "wtWxTfwpPHV8",
    "outputId": "ed0b69c0-375c-46a2-a05c-15502c7dd370"
   },
   "outputs": [
    {
     "name": "stdout",
     "output_type": "stream",
     "text": [
      "Downloading...\n",
      "From: https://drive.google.com/uc?id=1oUJU4T3NdvT6_ggEsUC73JWLF6_eXne9\n",
      "To: /content/bolt_apple_appstore_review.csv\n",
      "\r",
      "  0% 0.00/853k [00:00<?, ?B/s]\r",
      "100% 853k/853k [00:00<00:00, 13.4MB/s]\n"
     ]
    }
   ],
   "source": [
    "!gdown --id 1oUJU4T3NdvT6_ggEsUC73JWLF6_eXne9"
   ]
  },
  {
   "cell_type": "code",
   "execution_count": 79,
   "metadata": {
    "colab": {
     "base_uri": "https://localhost:8080/",
     "height": 206
    },
    "id": "nnjIBkrePW3r",
    "outputId": "f0de55dd-27a4-46e2-f978-689ada1c81aa"
   },
   "outputs": [
    {
     "data": {
      "text/html": [
       "<div>\n",
       "<style scoped>\n",
       "    .dataframe tbody tr th:only-of-type {\n",
       "        vertical-align: middle;\n",
       "    }\n",
       "\n",
       "    .dataframe tbody tr th {\n",
       "        vertical-align: top;\n",
       "    }\n",
       "\n",
       "    .dataframe thead th {\n",
       "        text-align: right;\n",
       "    }\n",
       "</style>\n",
       "<table border=\"1\" class=\"dataframe\">\n",
       "  <thead>\n",
       "    <tr style=\"text-align: right;\">\n",
       "      <th></th>\n",
       "      <th>review</th>\n",
       "    </tr>\n",
       "  </thead>\n",
       "  <tbody>\n",
       "    <tr>\n",
       "      <th>0</th>\n",
       "      <td>I love bolt. I don’t use uber often because on...</td>\n",
       "    </tr>\n",
       "    <tr>\n",
       "      <th>1</th>\n",
       "      <td>So annoyed with this app!! Definitely the wors...</td>\n",
       "    </tr>\n",
       "    <tr>\n",
       "      <th>2</th>\n",
       "      <td>I’ve been using bolt for a month now. I had a ...</td>\n",
       "    </tr>\n",
       "    <tr>\n",
       "      <th>3</th>\n",
       "      <td>To make things clear, I am not a regular revie...</td>\n",
       "    </tr>\n",
       "    <tr>\n",
       "      <th>4</th>\n",
       "      <td>I have used the app 3 or 4 times and I thought...</td>\n",
       "    </tr>\n",
       "  </tbody>\n",
       "</table>\n",
       "</div>"
      ],
      "text/plain": [
       "                                              review\n",
       "0  I love bolt. I don’t use uber often because on...\n",
       "1  So annoyed with this app!! Definitely the wors...\n",
       "2  I’ve been using bolt for a month now. I had a ...\n",
       "3  To make things clear, I am not a regular revie...\n",
       "4  I have used the app 3 or 4 times and I thought..."
      ]
     },
     "execution_count": 79,
     "metadata": {
      "tags": []
     },
     "output_type": "execute_result"
    }
   ],
   "source": [
    "bolt_apple = pd.read_csv('bolt_apple_appstore_review.csv', usecols=[3])\n",
    "bolt_apple.head()"
   ]
  },
  {
   "cell_type": "code",
   "execution_count": 81,
   "metadata": {
    "colab": {
     "base_uri": "https://localhost:8080/",
     "height": 123
    },
    "id": "Vn1MbbU_P0sf",
    "outputId": "535b54d4-e41b-43c0-c0db-61557f7bb6ae"
   },
   "outputs": [
    {
     "data": {
      "application/vnd.google.colaboratory.intrinsic+json": {
       "type": "string"
      },
      "text/plain": [
       "'I love bolt. I don’t use uber often because one ride even if it’s short is like £11. Whereas from my high street to my house is £3. Not only that but their drivers are SUPER friendly! I was sick one day (my first time using bolt) and the driver was so understanding and encouraged me throughout my journey. Bolt is 100% recommended by me. I don’t write reviews so that’s how you know I defiantly recommend it. My Instagram name is: TeeKezi if you wish to get in contact with me about bolt. I’m not an ambassador 😂 or anything like that. Just super happy with the service I have been receiving x'"
      ]
     },
     "execution_count": 81,
     "metadata": {
      "tags": []
     },
     "output_type": "execute_result"
    }
   ],
   "source": [
    "bolt_apple['review'][0]"
   ]
  },
  {
   "cell_type": "code",
   "execution_count": 85,
   "metadata": {
    "id": "K2RCrA8fPeII"
   },
   "outputs": [],
   "source": [
    "review_index = 5\n",
    "\n",
    "review_text = bolt_apple['review'][review_index]"
   ]
  },
  {
   "cell_type": "code",
   "execution_count": 86,
   "metadata": {
    "id": "ZgtIh_8YPtN-"
   },
   "outputs": [],
   "source": [
    "encoded_review = tokenizer.encode_plus(\n",
    "  review_text,\n",
    "  max_length=MAX_LEN,\n",
    "  add_special_tokens=True,\n",
    "  return_token_type_ids=False,\n",
    "  pad_to_max_length=True,\n",
    "  return_attention_mask=True,\n",
    "  return_tensors='pt',\n",
    ")"
   ]
  },
  {
   "cell_type": "code",
   "execution_count": 87,
   "metadata": {
    "colab": {
     "base_uri": "https://localhost:8080/"
    },
    "id": "CyVIuZL6PvRg",
    "outputId": "4cd3370f-6cac-4f5a-e6d7-3954574a3030"
   },
   "outputs": [
    {
     "name": "stdout",
     "output_type": "stream",
     "text": [
      "Review text: I’m so appalled at the attitude of the last driver I ordered from you. Three people recommended your services and I trusted those opinions. I’ve only taken four trips with Bolt and not ONE driver has worn a mask including the trips taken with my 7 month old baby. I ordered a XL car to help with moving a mirror and a bassinet to my destination, he took 15 minutes to get here, was on a call via loud speaker with a friend/family member. I asked if I could put my stuff into the boot as I was moving house and collecting the last items I had at my previous home. He declined and the person he was speaking to on the phone also got involved also. He then said it was my fault for ordering the wrong type of car, I told him I ordered the biggest car option on bolt. He said I would have to find another car and then told ME to cancel the drive. I refused so as he drove off he shouted something and left me, my baby and my things in the cold. Then to make matters worse, he cancelled the trip and put the reason as me ‘NOT SHOWING UP’. I will never use Bolt again, I am so angry and disgusted. \n",
      "\n",
      "AVOID.\n",
      "Sentiment  : negative\n"
     ]
    }
   ],
   "source": [
    "input_ids = encoded_review['input_ids'].to(device)\n",
    "attention_mask = encoded_review['attention_mask'].to(device)\n",
    "\n",
    "output = model(input_ids, attention_mask)\n",
    "_, prediction = torch.max(output, dim=1)\n",
    "\n",
    "print(f'Review text: {review_text}')\n",
    "print(f'Sentiment  : {class_names[prediction]}')"
   ]
  },
  {
   "cell_type": "code",
   "execution_count": null,
   "metadata": {
    "id": "14eIiNAXP9lX"
   },
   "outputs": [],
   "source": []
  },
  {
   "cell_type": "markdown",
   "metadata": {
    "id": "W8Wugya1QN2j"
   },
   "source": [
    "## 100 Reviews"
   ]
  },
  {
   "cell_type": "code",
   "execution_count": 89,
   "metadata": {
    "id": "pjn_o-O8Qgpg"
   },
   "outputs": [],
   "source": [
    "# for review_index in range(0, len(bolt_apple)):\n",
    "#   print(review_index)"
   ]
  },
  {
   "cell_type": "code",
   "execution_count": 91,
   "metadata": {
    "colab": {
     "base_uri": "https://localhost:8080/"
    },
    "id": "4YcODKe0QQ4Z",
    "outputId": "ca22dec6-1252-42d6-8a6b-442a23706166"
   },
   "outputs": [
    {
     "name": "stdout",
     "output_type": "stream",
     "text": [
      "Review text: I love bolt. I don’t use uber often because one ride even if it’s short is like £11. Whereas from my high street to my house is £3. Not only that but their drivers are SUPER friendly! I was sick one day (my first time using bolt) and the driver was so understanding and encouraged me throughout my journey. Bolt is 100% recommended by me. I don’t write reviews so that’s how you know I defiantly recommend it. My Instagram name is: TeeKezi if you wish to get in contact with me about bolt. I’m not an ambassador 😂 or anything like that. Just super happy with the service I have been receiving x\n",
      "Sentiment  : neutral \n",
      "\n",
      "Review text: So annoyed with this app!! Definitely the worst of all of them. Sticking with Uber from now on. The driver arrival times are fake! It says the drivers have arrived when they are far away. Today the driver arrived and within a minute started driving away as if planning to do the route of my journey. I called customer support and was told that the driver was just around the corner of my house even though on the map it showed him miles away. Was told to look around the corner, which I did and the driver wasn’t there. Customer support then contacted the driver who claims he waited for 6 minutes and customer support claims on their system it showed he waited for 6 minutes, which is funny because their system was showing that he was there even though he wasn’t. With the time of me ordering the car, waiting the 2/3 minutes for him to get to me and my call to the driver and customer service there is no possible way the driver waiting 6 minutes. I even have the screenshots to prove it. Then customer support tells me I’ve not been charged and they are offering me £3 off the next journey. #%# %*^! This isn’t the first time this has happened, the drivers do as they please! Stick with Uber, this app is trash! Deleting it immediately.\n",
      "Sentiment  : negative \n",
      "\n",
      "Review text: I’ve been using bolt for a month now. I had a few good journeys but 2 horrendous ones recently. The first occasion I was told to not cross my legs in the car because it “might” touch his chair. So apparently bolt encourages people to sit still and not move in the car, which was the response I got from customer service and no refund. The second time, I had a dental appointment and ordered a cab, the driver came and then he said where are you going? As soon as he found out what the location was, he got frustrated and swore and said “this is too far man I’m tired”. I asked why he had accepted it in the first place if he didn’t want to go too far. I didn’t get any proper explanation and no apology. I was in pain because of my dental extraction too. So I had to cancel from my end because he said he couldn’t do it. He said he would text bolt and let them know. And I messaged Bolt 3 days ago and still no reply. They have charged me £3 for this trip that didn’t happen. Terrible terrible drivers and very bad customer service. When incidents like this happened with Uber, they would always refund and apologise.\n",
      "Sentiment  : negative \n",
      "\n",
      "Review text: To make things clear, I am not a regular reviewer for anything at all and I certainly never leave negative reviews (until now).  After my experience this morning however I feel I must write a review to warn other users. \n",
      "I have been using Bolt regularly since it was launched in London. \n",
      "Today was the second time that I have booked a ride and the driver drove in completely the wrong direction. I spoke to the driver who claimed that I should just restart the app. After waiting in the rain for over 15 minutes, I called customer service. The man I spoke to on the phone sounded completely indifferent as I explained the situation, resulting in being late for a work meeting. There wasn’t any recognition of the absurdly poor service that this represents, let alone any sort of apology. At the end of the call, as if reading from a script, he informed me that as a gesture of good will he would be sending a £5 voucher. I thanked him for the generosity and declined this as I am not planning to use this unreliable app again. \n",
      "Such a shame for an app that started off with such promise.\n",
      "Sentiment  : negative \n",
      "\n",
      "Review text: I have used the app 3 or 4 times and I thought it was great until today. I booked a cab, I waited outside and I saw him driving past me and leaving my street. I called him many times and he didn’t pick up. I called Bolt customer service and also didn’t respond. I wasted 15 minutes waiting to see if the driver would cancel the trip since he didn’t return, and I had to forcefully cancel it myself as I was already running late to my appointment and I couldn’t sit down there to wait until he felt like cancelling. I had to pay £6 which equals the cost of the trip, for a trip that didn’t happen. I had to book another cab and spend double the amount I should have spent originally.\n",
      "\n",
      "I have called countless times the customer service and they didn’t even pick up the phone, also messaged. I feel like I have been scammed. \n",
      "\n",
      "I have been told that is common for drivers to play around when people book, then they drive off and wait for the customer to be tired of waiting so the customer can cancel the trip and the driver gets money for free. This is so unacceptable.......\n",
      "Sentiment  : negative \n",
      "\n",
      "Review text: I’m so appalled at the attitude of the last driver I ordered from you. Three people recommended your services and I trusted those opinions. I’ve only taken four trips with Bolt and not ONE driver has worn a mask including the trips taken with my 7 month old baby. I ordered a XL car to help with moving a mirror and a bassinet to my destination, he took 15 minutes to get here, was on a call via loud speaker with a friend/family member. I asked if I could put my stuff into the boot as I was moving house and collecting the last items I had at my previous home. He declined and the person he was speaking to on the phone also got involved also. He then said it was my fault for ordering the wrong type of car, I told him I ordered the biggest car option on bolt. He said I would have to find another car and then told ME to cancel the drive. I refused so as he drove off he shouted something and left me, my baby and my things in the cold. Then to make matters worse, he cancelled the trip and put the reason as me ‘NOT SHOWING UP’. I will never use Bolt again, I am so angry and disgusted. \n",
      "\n",
      "AVOID.\n",
      "Sentiment  : negative \n",
      "\n",
      "Review text: I found the Bolt app very useful to use from time to time while I was in Lagos, Nigeria for two months. It was a Godsend. It worked well most of the time. The pick up times were usually good, about 6 - 12 minutes and the drivers were good at locating me. There is an option to call the drivers, so I was also able to give them some guidance when they needed it, since you can track them approaching you on the app. \n",
      "\n",
      "The drivers were also very friendly, helpful and polite. All the taxis I traveled in were air conditioned, which was very soothing for travel in the sauna which is Lagos. \n",
      "\n",
      "If you use it for transport to Lagos International Airport I recommend you hail them before you finish packing, as I did find that the longest arrival time of 21 minutes was unfortunately when I needed transport to the Airport. And even if you are not based too far from the Airport, allow for at least an hour travel time, as there is often a hold up on the route to the Airport. \n",
      "\n",
      "But overall I give the Czech tech firm that produced this app very high marks and thank them for contributing to the ease of travel in Nigeria. \n",
      "\n",
      "Let me not forget to mention that the fares are also very reasonable, compared to a conventional taxi. It was also easy to cancel without being charged if the ETA was too long.\n",
      "Sentiment  : positive \n",
      "\n",
      "Review text: I’ve had many problems with the customer support l, once the driver started screaming at me and demanding for me to leave the car! Although I ordered a bolt premium! The driver asked me to leave the vehicle and wouldn’t cancel the ride (if you have started the ride you as the customer can’t cancel it) \n",
      "I called the support they apologised and lied to me saying they will put 50£ worth of rides to my account. The next day my account was disabled, bolt demanded i provide evidence or they will dismiss this case. I didn’t get the money back for the unfinished horrible ride and no “50£” worth of credit. Another angering event was when the driver didn’t wait for me and just left starting the trip (as i said before this app does not provide a chance for the customer to cancel the ride once the driver has started it) it was also a bolt premium. I called the support multiple times, they have told me that they too can’t cancel the ride. The money has been deducted from my account AGAIN! DONT DOWNLOAD THIS APP!\n",
      "Sentiment  : negative \n",
      "\n",
      "Review text: I used Bolt since my friend recommended it to me as it was a bit cheaper than Uber but I have never had so many occasions where the drivers were just so unprofessional.\n",
      "Recent one being the driver notified me that it was at the location but I couldn’t find him anywhere and I was at the start of the road so I called him asking where he was and I’m right in front of the house. He just kept saying how he’s here and I’m not. And I was telling him I’m right outside and repeated the address to him. He again responded with he was there. And I got frustrated and told him you’re not here because I’m here. After that he gave me such attitude saying why wasn’t I listening to him, he is at the location so I have to go find him. I replied that I booked it for this address so he should pick me up from that address and then he just hung up and cancelled the drive. \n",
      "I’m just going to stick to Uber once again as they have more friendly and professional cab drivers than Bolt.\n",
      "Sentiment  : negative \n",
      "\n",
      "Review text: Recently we used Taxify for my wife to collect our daughter from school.\n",
      "\n",
      "When the Taxify arrived he parked in the wrong location but my wife located him and got into the car he subsequently said he’d not been told where to go - my wife told him to go to Kappara to our daughters school, he asked her where that was and when she explained he told her he didn’t want to go there and told her to get out of the vehicle - then I found out Taxify have charged me for the ride via my credit card !!! \n",
      "\n",
      "I complained via the application (3 times) and received no response. I returned the email (showing the invoice had been charged) referencing my complaint - no response. \n",
      "\n",
      "So effectively they stranded my wife - left my 5 year old daughter at school without pickup (fortunately we got another cab otherwise this complaint would be far worse) -  and charged me for doing so and then refused to speak to me about this incident. I can only assume they believe people will simply be quiet as they effectively take their money and don’t feel the need to offer an explanation of their actions. \n",
      "\n",
      "Disgraceful. A shame to have to resort to this forum as I am sure my chances of a response have just increased..........\n",
      "Sentiment  : negative \n",
      "\n",
      "Review text: So far majority of the drivers were very kind and professional. However - I had an uncomfortable experience with a Driver who was constantly texting someone while driving me to my hotel from the hospital. This is not only illegal but also very dangerous. I should have never been put through this..... nothing might happen in 999 cases out of 1000, but this could’ve ended up being the ONE case.... \n",
      "Moreover , I wasn’t able to review this driver, which is very unfair. The app should allow its customers to rate drivers for at least 30 minutes after the ride had finished.... the competitors do. \n",
      "Also I’d appreciate to be able to tip the drivers after the ride. Don’t always have cash on me and some deserve to be tipped. \n",
      "\n",
      "Still needs improvements but overall it’s a good service.\n",
      "Sentiment  : negative \n",
      "\n",
      "Review text: I was super happy when Bolt launch as finally there’s fair competition for taxi apps in London. After using it a couple of times I was happy. Until I took a ride from Beckenham to Heathrow I was quoted an estimate of £45-50. But after the ride I noticed that Bolt had charged me £87 instead!!! I contacted customer service and they have been absolutely USELESS!! It’s been 2 weeks and I’m going round in circles with them asking me again what my route was, how much I was charged, sending them bank statements. They have refused to acknowledge the overcharge and not giving refund. If I had known they were going to charge such extortionate price I would have hired a local minicab company or gone with Uber instead! If I had raised such issue with Uber there would be an immediate refund. Watch out for these scammers!\n",
      "Sentiment  : positive \n",
      "\n",
      "Review text: Twice now I have requested a ride from bolt and the drivers have accepted the ride and started the journey without picking me up at my pick up location. The drivers change the drop off location, either having picked up someone else or because they don’t want to complete the journey. I’m really appalled at the level of help the customer service provide. I contacted the help point to which their solution for the problem was for me to contact the driver myself. They were unable to help cancel the journey on their end and therefore I was charged a fee for a ride I did not complete. This took days to discuss a possible refund as bolt would only issue me discount codes (much lower than the sum of both journeys I once again did not take). Appalled and not happy with this service at all.\n",
      "Sentiment  : negative \n",
      "\n",
      "Review text: This app helped me a lot when my car broke down. From the beginning was ok with 50% discount, it was really cheap to get anywhere. Drivers were fine but I had many many cancellations because they always got lost and they didn’t wanna go back (my place is not that hard to find, honestly, so I just couldn’t understand why when I’m waiting 6 minutes I have to order another bolt car and wait another 10). Even when I don’t really mind the waiting times and cancellations from drivers, this price estimate drives me really crazy.. It shows 2x less than it actually takes from you. I had 15 minutes trip what showed me from the beginning £9-£10, there was no traffic or any delays and it took from me £18. I would not recommend this app.\n",
      "Sentiment  : negative \n",
      "\n",
      "Review text: Bolt take zero responsibility for the welfare of their passengers and have no morals what so ever.  My journey from Waterloo to Surrey (all south of the river) somehow ended up being a tour of London, at one point the driver took me past Buckingham Palace and to the bottom of the M4 before heading back across the river to the A3 (where the journey started) before heading in the right direction. Not only did this cost me an additional £20 but it also took an additional half an hour. I raised the issue with Bolt and they offered me a £5 coupon for my next journey even after admitting the driver took an “alternative” route. Out of respect for their customers when issues like this arise customers should at absolute minimum be refunded (not given a coupon) the difference between the journeys quoted amount and the amount charged. Don’t waste your time.\n",
      "Sentiment  : negative \n",
      "\n",
      "Review text: When I started using Bolt, I was quite pleased because it was cheaper than Uber and the quality of service was pretty much the same. Unfortunately the past few times I’ve used Bolt, the rate I was charged compared to the rate that shows up when requesting a taxi were quite different. I’ve tried complaining about it and requesting a refund but their customer service is pretty much unhelpful. I was charged £20 more than the estimated rate when I was going home from the airport and the driver did not take an alternative route or make any stops. I’m yet to hear back from their customer service team. Although Uber is more expensive I will be going back to them because at least I know exactly what I’m getting and there are no surprises when I see how much I’ve been charged by the end of the trip.\n",
      "Sentiment  : neutral \n",
      "\n",
      "Review text: I tried using Bolt for the first time. I ordered at 17:30 and the waiting time I was given was 10’. After 20’ and after the first driver called to tell me to walk to a convenient location for him, he did not manage to pick me up and cancelled the trip. I then order another car which gives me another 10’ waiting time as the driver was completing a trip nearby. The ETA of the car kept changing in unrealistic times  and varies between 4’-5’ when the car was really at least 10’ away still. As the car was not moving I had to in the end get public passport as I was already half an hour late to where I needed to be due to BOLT. I can see that you have charged my card £3 - please refund this ASAP . The app is useless and for sure will not try to use it again. Thanks.\n",
      "Sentiment  : neutral \n",
      "\n",
      "Review text: They have been ok in the past, (early days) \n",
      "They have now found a loop hole within the system. Which allows them to legally cancel. Journeys for customers. Using the excuse of the driver waited. \n",
      "\n",
      "In this case I have a 4 point cctv system which watches all angles of my road, once I received  the swoosh that’s comes through to tell you your driver is outside, I grabbed my things and rushed out the door. \n",
      "\n",
      "Walked towards the driver, who was parked but waiting in the middle of the road. \n",
      "\n",
      "As I approached the car he took a look at what his next 6 mins of company  would look like and hit the gas.  \n",
      "\n",
      "“No worries as we all can’t like everyone” \n",
      "\n",
      "My worry is the fact after being charged £6 for a journey that was priced up for less to add calling to get my money back seemed to be impossible \n",
      "\n",
      "Bolt customer rep gave me all the reasons for why I can’t get my money back and when asked if the drivers have cctv, proof, are the cars tracked by an official tracker to guarantee the driver was where he said he was and apparently they do not.. \n",
      "\n",
      "I CANNOT understand how an organisation who’s funding is from those that they take/ steal from is still running but this is the UK AFTER ALL. \n",
      "\n",
      "Absolutely shocking !!\n",
      "Sentiment  : negative \n",
      "\n",
      "Review text: After reading the reviews, it is nice to know I am not the only one in distress with this\n",
      "Bolt!! I’ve used this app twice and it’s safe to say I won’t be using it again. Both times of which, I was suppose to have a promo discount and both times the fair increased between £4 - £5 without my knowledge; until I checked I payment history. Both times I have contacted customer support and was advised that the rate was right and that it would’ve be brought to my attention. It was not! I wouldn’t have ordered the cabs without the promo as the price is higher than uber anyway. When I told the lady I won’t be using their services anymore, she told me that she was sorry to hear this and asked for my feedback - so here it is! Scam artists. As the saying goes ‘stick to what you know’ UBER ALL THE WAY!!!\n",
      "Sentiment  : negative \n",
      "\n",
      "Review text: Now, they give you discounts but there is ALWAYS a sudden “increase fair” so you end up paying more anyway. But the WORST is that 4 out of 5 deivers are cheeky and call you before arriving to ask the destination (even pretending that their app is no working or something) so they can decide if the ride is convenient for them and at the end you waited long till you find a good soul who picked your ride. There should be a way we could flag those drivers, but instead when they cancel your ride (after you waited sometimes even 10 minutes) you don’t even remember their name or number-plate. We should be able to send a review about them too.\n",
      "Sentiment  : negative \n",
      "\n",
      "Review text: It’s so easy to be able to type where you’re going without having to be able to pronounce it, that you can see before the ride how much it will cost and no money has to change hands... I only have to figure out how I can tip the driver after ride completion, of that feature is not a available yet, please put it on the development list. And the only other thing missing is being able to pay with AMEX. I can’t seem to add that card... love it!\n",
      "Sentiment  : positive \n",
      "\n",
      "Review text: I tried Bolt for the first time and was very disappointed. The wait time was 14 minutes, which was fine as I wasn’t in a rush. However, the driver was dropping off another fare and the wait time didn’t decrease. I could see on the map he was going in another direction. Then suddenly the wait time rocketed to 26 minutes. I’d already waited at least 10 and didn’t want to wait any longer so I tried calling the driver to ask him to cancel so I didn’t get charged. No answer. Rang Bolt support. No answer. So I cancelled the trip. I have been charged for the cancellation. I sent a message to ‘Support’ via the app 22 hours ago. No response. I’ll be deleting this app when/IF I ever get my money back. In the meantime, I’ll be complaining until I do.\n",
      "Sentiment  : negative \n",
      "\n",
      "Review text: I’m absolutely fuminggg!! Basically me and my friend just got out from cheerleading and as the winter gets colder, the sky also darker! So instead of walking in the FREEZING and DARK roads, we ordered a bolt! So we ordered and it said , “we are looking for a driver” for about 20 mins, bear in mind , IT WAS FREEZING , it WAS LIKE THE BLOODY NORTH POLE! Then, they finally ordered us a driver who was about round the corner and we got so happy but no! Tell me why hru CANCELLED ON US?! WHEN IT WAS ROUND THE BLOODY CORNERR!! So we ordered another one and again took us about 20 mins and once again .... IT CANCELLED ON USS! And you’ll never guess what?... IT WAS AROUND THE BLOODY CORNER!!! So after waiting a mass of an hour and a half for multiple cabs, we decided that we would just leave it EVEN THOUGH WE WERE IN THE COLD + IT WAS PITCH BLACK !! But anyway I’ll give you one star because you refunded my friend🙂.\n",
      "Sentiment  : negative \n",
      "\n",
      "Review text: If you call a taxi and they dont come to the door dont wind the window down when your calling them over cause you have bags. then tell you your rude to open the boot but they dont come out and help you. then take your stuff out the car and tell you to go back to where you come from and you ask them to stop being racists they threaten you with no more cab rides like there aint uber and other regular cabs you can get. \n",
      "\n",
      "or change the fare mid way to more cause the driver wants to take all around the house \n",
      "\n",
      "You companies dont care about no one but yourselves you cant even provide a service your advertising. Taxi is a luxury we actually dont need you. you need us. times are changing people will have enough of this and then where will you be\n",
      "Sentiment  : negative \n",
      "\n",
      "Review text: All in all it’s a very good app. A godsend in areas where no bigger mainstream apps love Uber of FreeNow do not operate for one reason or another. \n",
      "One thing I would like them to fix is the ability to move the pin on the map around freely when setting up pickup. Presently you can move the pin to your destination which is not as helpful as you usually sit in the taxi so can easily tell or point the driver to where you wish to get out. Not sure why setting pickup point is not enabled, but that’s where it is needed the most specially when booking taxi from inside big buildings and malls.\n",
      "Sentiment  : positive \n",
      "\n",
      "Review text: I’ve used this about 10 times the last 2/3 weeks, first time it went to the wrong address ok I let that one go as first time, all other trips fine had no problem, Till booking one this morning. From the same address I always use. I’m Waiting 15 mins. Tells me driver outside I’m Waiting outside no where to be seen. I see him on my map about 5mins away. I call him tell him he’s in the wrong place. He tells me ok hold on, confirm postcode, it’s correct! he huffs at me. hangs up then I get charged 6 pound for a no show. The driver was driving around the block about 4 times! Could tell he didn’t know where he was going. Rather then ring me and ask for directions or help just puts me down as a no show. Not happy. Second time now....\n",
      "Sentiment  : negative \n",
      "\n",
      "Review text: With this app you get no option of whether to wait for the invincible cab or not. As instead of telling you that there are no cabs available, it strings you along by saying they are looking for an available cab without an estimate of waiting time. It went on for over 20 minutes with no updates. I cancelled and retried, same. By this time, I had lost the offer of been dropped off at my appointment by family, and I missed it and was charged for missing it. Uber gives you an estimated wait time. \n",
      "This app also does not allow you state your complaint/s, it just tells you what their answers are to some FAQ which may not address your specific issue. \n",
      "It is terribly frustrating to use for a first time. Shame!\n",
      "Sentiment  : negative \n",
      "\n",
      "Review text: I’ve used bolt several times and the first time ever they gave me an estimated price and charged me much extra, I had an abusive driver that was threatening other taxi riders and also made me late to the interview. I started a chat through the app and no one has responded to me since. I have also used the app to pay for a taxi ride for my girl, the estimated price was 7.5-9.5 due to the discount off. My girlfriend arrived to the car straight away and was dropped off within the given time stated but yet I was charged £16. I have again started a chat through the app and no one has responded. I’m done with this service would not recommend, uber might be more expensive but they do their best to resolve problems, this service doesn’t do jack!!!\n",
      "Sentiment  : negative \n",
      "\n",
      "Review text: As a newbie to these taxi-apps, I was a typical horse & cart, old fashioned dial a ride guy. Then came storm Dennis stranding me at work with no trains, no buses, until 2.30 am, after a 12hr shift that ended at 8 pm I finally crossed over to the app-side.\n",
      "Initially, I used a more well-known taxi app, but they were unreliable and far too expensive.\n",
      "Bolt are reliable, reasonable pricing, the app is really easy and straightforward to navigate.\n",
      "I wouldn't of given Bolt five stars, but the app never quite gets my address right. Despite the fact my actual address is in my profile.\n",
      "Sentiment  : negative \n",
      "\n",
      "Review text: Have tried this three times on the recommendation of a friend. First time no problem, but nothing special. Second time wait was so long it wasn’t possible and now on my third try. I waited 10 minutes for car to arrive when it said 5, driver went past me despite me waving at him, he then drove on, despite me calling to ask him to stop, turned back around in to a one way system which saw us repeat the whole first leg of the journey making me late and no apology from the driver. There doesn’t appear to be a knowledge of London roads or navigation, worse than Uber. I won’t even use the rest of my introductory money-off offer as it’s too unreliable.\n",
      "Sentiment  : negative \n",
      "\n",
      "Review text: All these cab companies thinking they’re going to get the monopoly with a sub-standard product is laughable.\n",
      "\n",
      "Not impressed. Had endless cancellations. and drivers saying they’ve arrived when they haven’t. Even the cars that do arrive, for some reason say they have when they’re some distance away.\n",
      "\n",
      "Final straw for me was when three cancelled on me while it was chucking it down with rain leaving me waiting for over half an hour. \n",
      "\n",
      "One car was supposedly a minute away. The other apparently had arrived when on the map he was 8 minutes away. The third cancelled and I was left with a spinning wheel saying updating service, or similar.\n",
      "\n",
      "One of the problems is a lot of the drivers have all the cab apps and use them all simultaneously to their advantage. Which in my case meant when it’s pouring with rain and cabs are in demand they’ll use Uber because the surcharge means they’ll get more than from the other cab companies.\n",
      "\n",
      "REPEAT: All these cab companies thinking they’re going to get the monopoly with a sub-standard product is laughable.\n",
      "Sentiment  : negative \n",
      "\n",
      "Review text: So I’m trying out Bolt as a potential alternative to Uber, given the situation with Uber in London. Prices are good but Bolt needs to do a bit of work on the app!\n",
      "1. The idea of being able to modify the pick up location should be added. You have to cancel and start agin even just for crossing the road\n",
      "2. Being able to track the potential route would be useful, especially if you’re familiar with the route and can suggest modifications\n",
      "Still - great to have an alternative to Uber! And drivers are all good too so far\n",
      "Sentiment  : neutral \n",
      "\n",
      "Review text: I moved to Poland from the United States and Taxify requested that I take a photo of my license with my face after inputting my credit card information. The customer support said “it would take some time within 30 days” no apology for the inconvenience or follow up, as I was left without transportation for over a week within a foreign country. Uber on the other hand immediately handled my United States transfer with only me confirming my bank account, no problems with drivers, easier app, and WAAAAY better customer service. Taxify will be out of the industry and schooled by their competitor within a year or two hopefully. My take away, use uber if you want a real professional taxi service. :)\n",
      "Sentiment  : negative \n",
      "\n",
      "Review text: When booking taxify the estimated price was between 31+ to 35 euros for my trip. Once arrived to destination I was told that the price is 49 euros., What a joke!!!., Obviously I made a complain and I was explained that probably it was some tolls or other charges, -Not True!- and also that teip outside of the town or city are more costly., Really?, So why the hell we Customers, are not notified about that before we  confirm the pick up?,, This is a day light robbery and two of advisors I was communicating with tried to justify the price., Ridiculous, this never happened with Uber, what a shame that Uber cannot operate in Slovakia now., Anyway, I never will use taxify again and I do not recommend it either as this is Customer Unfriendly Service!,, Shame on you !\n",
      "Sentiment  : negative \n",
      "\n",
      "Review text: Most of the time Bolt is as good as Uber ! But and this is a BIG but ...... some drivers are ignorant to disabilities and Hidden disabilities! I had a driver refuse to come all the way through a supermarket car park today to a safe point near the disabled parking to pick me up - they rang and said to go to them I tried to explain I needed him to come to me then he diapered - I thought he had gone to drive around the car park a 2nd time to get to me but NO he disappeared and the Bolt app just said he was no longer available!!!  Driver’s like this are disrespectful!\n",
      "Sentiment  : negative \n",
      "\n",
      "Review text: I have had  SO MANY issues with this service compared to Uber. I have been using Uber a long  time now, like most, but have never had the issues with Uber that I’ve had with Bolt. With Bolt I have had driver refuse to drop me off at my destination because it crosses a congestion zone, I have also had a driver hold me in a stationary taxi for 30 mins insisting I ordered an regular taxi and not an XL, and, even after being assured by a Bolt customer service representative that we ordered an XL, still refusing to take us and resulting in a charge that was DOUBLE the predicted maximum.\n",
      "\n",
      "Their Romanian call centre was completely unhelpful in resolving these issues.\n",
      "\n",
      "This app and its drivers have many issues and it’s just not worth the risk.\n",
      "Sentiment  : negative \n",
      "\n",
      "Review text: Just installed this app, hoping I’d have finally found a better and cheaper alternative to Uber. \n",
      "\n",
      "I was excited to use my €3 sign up referral first ride discount on my way to pick up my luggage before heading to the airport in Lisbon.\n",
      "\n",
      "The app showed my route and found a driver, who accepted the pick up. All pretty standard. \n",
      "\n",
      "After this, the estimated arrival time kept on changing as the driver was in no way coming to pick us up at all. The initial estimate showed 4 minutes. \n",
      "15 minutes later, the driver, who was about 3 blocks away, marked himself as though he had arrived at the pick up point. When I tried to call him, he hung up repeatedly. A couple of minutes later, he then marked the ride as “completed”. \n",
      "There went my €3 discount without having ever even used the service. \n",
      "\n",
      "I wrote to support immediately and attached screenshots of everything. They still have not responded.\n",
      "\n",
      "In my case I didn’t lose any money, but imagine if this had happened on a prepaid €20 ride? \n",
      "\n",
      "Think twice before using this app.\n",
      "Sentiment  : negative \n",
      "\n",
      "Review text: When booking taxify the estimated price was between 31+ to 35 euros for my trip. Once arrived to destination I was told that the price is 49 euros., What a joke!!!., Obviously I made a complain and I was explained that probably it was some tolls or other charges, -Not True!- and also that teip outside of the town or city are more costly., Really?, So why the hell we Customers, are not notified about that before we  confirm the pick up?,, This is a day light robbery and two of advisors I was communicating with tried to justify the price., Ridiculous, this never happened with Uber, what a shame that Uber cannot operate in Slovakia now., Anyway, I never will use taxify again and I do not recommend it either as this is Customer Unfriendly Service!,, Shame on you !\n",
      "Sentiment  : negative \n",
      "\n",
      "Review text: Disappointed with the app, has been using it several times and the arrival times are never accurate. However this time I had very poor experience. Arrived to the city airport ordered the cab since waiting time was showing 8 minutes. The driver called me saying that it’ll take him at least 20 mins for some reason advising to cancel and order another cab. That’s what I did, and got exactly same driver on the phone again. He asked to cancel again reassuring that for the third time I should get another car that’s closer. To my surprise even the third time I got the same driver and had to cancel and order the Uber. It’s just a shame that I got so much time wasted.\n",
      "Sentiment  : neutral \n",
      "\n",
      "Review text: I had one incident in my first few rides whilst enjoying promo in which the driver parked on a double yellow line after a zebra crossing and was rightly beeped by another car and proceeded to shout “A**HOLE” at full volume out of the window. Before proceeding to be rude when I asked to make an en-route stop. \n",
      "\n",
      "In another ride the driver waited in wrong location and once he located me he began to argue with me and point on his app at things and tell me that he was waiting in right place when he was on a completely different road. The attitude was unnecessary and very unsettling travelling alone late in the evening. \n",
      "\n",
      "I will not be using Bolt again unless utterly desperate but even then I might rather walk.\n",
      "Sentiment  : negative \n",
      "\n",
      "Review text: Much cheaper than Uber. Always treats their customers with discounts. Love bolt they’re really reliable. Only thing is sometimes you can’t get hold of them in certain areas at certain times. So they need to spread their drivers out A LOT more. But it’s good for local trips. Also when bolt says 4 mins away they mean about 10 mins. They say 6 mins they’re probably gonna be 12mins. Besides that they’re great\n",
      "Sentiment  : positive \n",
      "\n",
      "Review text: When the app first launched it was great and reliable. Now it’s nothing other than poor. The last four rides i’ve booked have either cancelled after 10mins of me waiting, taken 5x longer than it initially stated or simply just doesn’t arrive at all forcing me to cancel and request a refund which takes 2-5days to return. \n",
      "\n",
      "In a rush to get to work, says 2mins wait, great! After 5/10mins, the drivers don’t move at all and then cancel afterwards. Not sure if they’re making money doing that but definitely the worst app of them all. Given it a few chances but have to delete it. Better off paying that extra £3 on Uber that will actually arrive.\n",
      "Sentiment  : negative \n",
      "\n",
      "Review text: The app itself seems a bit buggy (the wait times go straight from 20 mins to 2 mins in the space of a few seconds!!) the drivers are rude and inconsiderate. A driver said to me they do not give him my location on the map and proceeded to cancel the trip after sending me in the opposite direction to where he was given that he was still driving and I didnt know where exactly he’d end up. \n",
      "\n",
      "Save yourself the hassle of contacting customer service and getting no response as well! There are many other car services- ( Uber excluded!!!) that are far more reliable and considerate of customer needs. \n",
      "\n",
      "Deleted - not even the so called promotions are worth using this app!\n",
      "Sentiment  : negative \n",
      "\n",
      "Review text: I was overcharged by £50 and am yet to receive any response from Bolt. \n",
      "\n",
      "Our driver ignored our attempts to tell us our destination and drove us an hour out of our way to West Drayton, when we were supposed to be on a 5 min trip. It was the middle of the night and he wouldn’t turn around when we asked him. We were stuck in the car and forced to pay the extra £50 for driving OUTSIDE of London, not to mention the time wasted and it was an incredibly harrowing experience. \n",
      "\n",
      "Absolutely disgusted and outraged at the disregard for customer safety you’ve displayed. Overcharged by almost 500% (ride should have cost £7)... save your time, money and personal safety and stick with Uber or Kapten.\n",
      "Sentiment  : negative \n",
      "\n",
      "Review text: I used Taxify in Budapest in May 2019.\n",
      "I probably used it a dozen times while I was there and I found the service excellent. All the drivers spoke English, some more than others, and the drivers were extremely helpful in advising of good places to eat or drink. \n",
      "\n",
      "My guess is that as Taxify drivers transport many tourists, they have learned some English, while the non-Taxify drivers mainly serve locals so don’t need to learn any English.\n",
      "\n",
      "Taxify is MUCH cheaper than getting a random taxi off the street too. (I did this once and was ridiculously over-charged and he spoke no English).\n",
      "\n",
      "Taxify taxis arrive within 3-7 minutes of ordering one.\n",
      "\n",
      "I highly recommend this app when in Budapest. I can’t speak for other countries or cities, but in Budapest it works perfectly, just like Uber in London.\n",
      "Sentiment  : positive \n",
      "\n",
      "Review text: What absolute idiots a guy called Titas has been so unhelpful as a customer service assistant in Lithuania on the app - I sent my driving liscence and card details and a selfie many times and they still won’t accept my card details - and the reply with the same idiotic statement 7 times every time I’ve told them I’ve already sent it. I’m going back to using Uber ... really unhappy with this companies services I used to enjoy using them but with that quality of customer service someone needs to get fired your loosing customers. And trust me I never leave bad reviews but this has been the last straw I’ve been trying to sort this out for two months I’ve lost my patience.\n",
      "Sentiment  : negative \n",
      "\n",
      "Review text: So I was charged with a cancellation free, when the driver didn’t turn up at the exact pick up location. Not just that, i’ve also been charged an additional fine for failing to turn up? Yeah it was tour driver who didnt turn up at a right spot. \n",
      "\n",
      " So I called a customer service team to help, but he wasn’t paying attention to what i said at all, instead he was accusing me of choosing the wrong location. \n",
      "This was properly to their technical fault, it was maybe sending the driver to the wrong location. But yeah they refuses to provide me a refund! Book with Uber it’s better, at least they’re responsible for scenario like this.\n",
      "Sentiment  : negative \n",
      "\n",
      "Review text: Thought I was getting a Uber alternative with some fantastic deals for new users, ended up getting a cab for 50% off.\n",
      "\n",
      "Looked on my credit card and had two separate charges taking out for no reason, the card had been on the system of all of 5 mins. Tried to contact bolt no response on both message and phone. Watch your cards.\n",
      "Sentiment  : negative \n",
      "\n",
      "Review text: Whilst Bolt is appealing with its cheaper than Uber prices... 4 out of the 5 rides I’ve taken with Bolt have been far more expensive than quoted due to the drivers not following the sat nav and purposefully going a long way in what I can only assume is a way to make more money out of their rides. Today I took a ride and there was a little traffic due to a road diversion... I could see on the drivers map an alternative quicker way popped up, but he stayed sat in the traffic and moved the map so the alternative route wasn’t visible 🤷🏼‍♀️\n",
      "Sentiment  : neutral \n",
      "\n",
      "Review text: I’ve used Bolt quite a few times to see if I prefer it. One thing that is a massive let down especially my most recent ride is the waiting time. I order a bolt at least 15 minutes before I should to get to work just to be safe. It said my waiting time was 6 minutes but it was double that at the very least. Not only that but my driver was extremely slow, going at 5 mph on roads that weren’t busy no exagerration. He kept checking the caculated price and I was 15 minutes late to work despite leaving early!! I find the waiting times are always miscalculated\n",
      "Sentiment  : neutral \n",
      "\n",
      "Review text: Since changing from Taxify to Bolt the quality of this service has taken a large hit! Firstly the gps accuracy of the app is totally off, secondly the waiting times seem to be the figment of someone’s imagination, are they actually made up? Then when you’ve been waiting more than double the given waiting time and you cancel you are charged anyway. Customer service used to be quite efficient, now it seems impossible to contact anyone. Drivers are still fine, same guys doing their job but the poor application doesn’t help them either. I wouldn’t suggest using this service unless it’s necessary.\n",
      "Sentiment  : negative \n",
      "\n",
      "Review text: I used bolt for the second time and was told I had a 60% off my next 5 journeys and after they had taken my payment I was discounted £7 which does not equal 60% of £60. \n",
      "After speaking to customer services, I was told my feedback was taken into consideration and no detailed explanation. Customer service then cancelled the promotion on my account. \n",
      "Very quick to take your money but no help with customer service what so ever. \n",
      "Will not use this app again!!\n",
      "Sentiment  : negative \n",
      "\n",
      "Review text: I appreciate the work put into this and the fact that the charges are not fixed per head its super cool I mean think about it in a local taxi you pay for the number of people in the car but with Bolt you pay jus the same amount for one personal but you'll be more than 1 you can be up to 4 and still pay the same amount its crazy I love this\n",
      "Sentiment  : neutral \n",
      "\n",
      "Review text: Works very effectively, but have had a couple of times where I have been in the car and then the ride had automatically cancelled due to a card payment issue. This should be checked beforehand. Furthermore, 90% of the time, the car allocated to me is driving in the wrong direction - i.e. the closest as the crow flies, not the closest by route. Annoying if you’re on a 1-way street, like my european office is.\n",
      "\n",
      "Iron out these issues and it’ll be 5*.\n",
      "Sentiment  : negative \n",
      "\n",
      "Review text: Unfortunately within my first week of use, I have had £69 taken out of my account of which only £28 were related to journalese made. The worst transaction was at 12:30. I booked a Bolt and for 29 minutes it kept saying the driver was 2 minutes away - it then showed he was 4 minutes away. I tried calling but the driver did not respond. I eventually cancelled as it was unacceptable. I’ve checked this morning and £29 has left my account. There is however no receipt showing in the Bolt app. There are a further £20 of unauthorised payments that are again not showing in the app. Please be weary. #BBCwatchdog  please help!\n",
      "Sentiment  : negative \n",
      "\n",
      "Review text: Very disappointed with some of the drivers attitude when they don’t pick you from your point of location, the app sends the drivers quite a distance from the pick up which is annoying when you waiting but the app says the driver has arrived. They represent Bolt and are 1st point of contact and some drivers are very unprofessional when providing the service. Some good promotional discounts but some drivers need to be properly trained to interact with customers\n",
      "Sentiment  : negative \n",
      "\n",
      "Review text: I ordered a bolt and used my voucher - £8. With the discount I was supposed to pay 6.50 which was immediately taken from my bank account. Also, you cannot order it from location, rather from a nearby address?! So, I had to walk 5 mins in the cold to find the driver. He picked up the longest possible path which was weird but I thought that since I paid already it’s his choice. However, after he left me, it charged me additional £3.50. So, expect to be charged more for a ride which is supposed to be way cheaper. Absolute joke of an app and needless to say I’ve deleted it and would never use anymore.\n",
      "Sentiment  : negative \n",
      "\n",
      "Review text: I was recommended this app by friend, every time you travel with them, the driver take you to wrong direction. Never give right information. When you try the app to inform. The way Adrian and another girl give me impression we don't care about customers. We just do not what ever we want . If you like it use the app: this is the way their answer. Never ever use this app and receive even uber is bit expensive their reliable and on time home not waiting for Bolt for Hours. This comment is serious and waiting for 2 days in a raw with no right update about the journey. Better avoid help your life easy. Thanks\n",
      "Sentiment  : negative \n",
      "\n",
      "Review text: Joined because of the carbon neutrality pledge but their customer support wasn’t the best in dealing with my ride being over charged. After too many messages they admitted to the fact that it was over charged but were not able to give me a refund on that charge, just a discount when I get another ride next. Also had to keep reminding them that my inquiry wasn’t resolved which was the most annoying part to be honest. \n",
      "\n",
      "I won’t be using them again until they get their act together👍🏻I’d advise you to wait too.\n",
      "Sentiment  : negative \n",
      "\n",
      "Review text: The app said the journey would be one price yet the next morning they charged me nearly double costing me £50! This was because the driver took me on a ridiculously long route doubling my journey, thinking that I wouldn’t notice! Tried to raise the issue with them but they said they needed payment before a refund was to be received and now they’ve blocked the support chat! I’ve been completely taken advantage of, I was worried for more than half the journey because I had absolutely no idea where we going because the route the driver took was so far from the destination. TAKE ANY TAXI BUT THIS ONE\n",
      "Sentiment  : negative \n",
      "\n",
      "Review text: I had a problem with being over charged by a driver (DOUBLE). I was furious. I contacted the support team and was responded by Peter very quickly. He assured it would be looked into sufficiently. After providing the necessary info he quickly replied with a full refund, explanation and apology. It was a fault from the driver not bolt themselves! I urge anyone with a problem to reach out to the support provided\n",
      "Sentiment  : negative \n",
      "\n",
      "Review text: This app has been a god send we are Holidaying in Malta and don’t know the names of places or areas so we can request a taxi to where we are . The drivers have all been lovely and extremely efficient. I have passed the app to several friends in our group and we have all loved it. We all say now when ready to move a location “shall we Bolt” it’s brilliant\n",
      "Sentiment  : positive \n",
      "\n",
      "Review text: Will never use this service again. Not only is their price estimate a complete con but I had a driver who dropped me off at the wrong place (one mile down the road from where I was supposed to be dropped off) and blamed me for making a mistake. I asked him to drive me back to the correct place and he continued to charge for the journey despite his mistake. I have complained to customer services but they are only willing to provide ride credit despite telling them several times I have no intention of using their service again. Stay away from this poor man’s Uber.\n",
      "Sentiment  : negative \n",
      "\n",
      "Review text: Hi\n",
      "\n",
      "I’ve been using your app for a while and have found it useful to compare prices across providers. However there are a number of issues that need addressing:\n",
      "1. Live update of cab doesn’t always give an accurate read so cabs are often late \n",
      "2. If you try to cancel because of a driver issue - cab isn’t moving, won’t answer when you call, taking too long - the customer is penalised with next cabs being late or a charge\n",
      "3. There is no option to live chat or phone a customer service provider if there is an issue before you are in the car\n",
      "4. I had an abusive driver once and he wouldn’t cancel the trip so that I would get charged for a cancellation fee \n",
      "\n",
      "It would be great if you could improve these services, particularly in light of the news about Uber in London.\n",
      "Sentiment  : neutral \n",
      "\n",
      "Review text: I when I first used Bolt, I thought using it to get a ride from from LHR T5 would be straightforward as it’s a popular place for customers. Shortly after booking the ride, a very rude driver phoned me to ask where I was going but he couldn’t really speak English thus it wasn’t easy to communicate with him. After giving him my postcode, he asked whether it was in London. I told him it wasn’t but it was just 10 mins from LHR to which he said “thank you” and hung up the call. He then cancelled the booking that I had made. This is such an unreliable service which I would avoid in the future.\n",
      "Sentiment  : negative \n",
      "\n",
      "Review text: Either drivers don’t know how to operate or use the gps, they’re always missing a route. How do I order for a ride and the pick up is in 11 minutes. As if that’s not enough wait time, the time kept increasing and increasing only for the driver to call to tell me he had missed the route to my pick up location and that’s where the map was directing him to use. After all that wait of about 20 minutes he asked I canceled the trip and hanged up. Don’t know until when this is going to stop but it’s not the best to have.\n",
      "Sentiment  : negative \n",
      "\n",
      "Review text: Fantastic app!  Just like Uber!  Very easy to use and much cheaper than Uber! Local taxis driver friendly as unlike Uber,  they take a much smaller percentage of the fare. According to a chatty taxis driver,  Bolt works out to be the same overall to them as it is a cheaper fare,  so it is customer friendly.  At this moment is time,  it is mainly locals who uses this app.  I would recommend this for holiday makers.\n",
      "Sentiment  : positive \n",
      "\n",
      "Review text: I strongly advise to avoid Bolt at all costs! These guys are not concerned about passenger safety whatsoever and there is no dedicated medium to contact customer service. I was in an incident with a reckless driver and my daughter was in the cab with me. I captured the whole thing on video however it was near IMPOSSIBLE to get through the customer service on both the fake telephone number provided and chat system. It took 2 days for them to reply with a generic response. It’s been 1 week and the incident is not resolved despite the seriousness of the incident. I highly doubt their drivers are screened the same way their main competitors’ are!\n",
      "Sentiment  : negative \n",
      "\n",
      "Review text: Bolt can cheaper than other options, but when it counts and it’s late and you’re just trying to get home you will wait for a cab for 10 minutes (apparently 3 minutes away) then they will cancel for no reason. \n",
      "\n",
      "Bolt you know what the sitch is, all your drivers are on all the available apps. So many drivers cancel when they’re on their way because they get a better paid job on another platform. Sort it out before your app gets drier than sandpaper in the Sahara.\n",
      "Sentiment  : negative \n",
      "\n",
      "Review text: Bolt has better prices than Uber and I find that the app finds a driver more quickly. But the app is far too optimistic in its estimates of driver arrival times. This is a low-quality way to build up one side of the network. It would be better to be honest. Your customers would still use you, but we’d better understand that we need to book a bit earlier if we use Bolt.\n",
      "Sentiment  : neutral \n",
      "\n",
      "Review text: Drivers seem to be able to cancel often and regular way after they’ve accepted the fare (maybe because they’ve realised they’re driving into the low emission zone) this is unacceptable as it means you wait for a ride that you could have taken elsewhere and then after waiting it cancels. Very bad. Unimpressed\n",
      "Sentiment  : negative \n",
      "\n",
      "Review text: Yes, Bolt is cheap(er) but it’s not comparing like for like. When you take an Uber, you can reach the driver and you can reach customer support. With Bolt, neither is the case. So if anything ever goes wrong - whether that’s you waiting for ages for the driver to arrive with no way to find out what’s happening or being in an accident or being attacked by the driver - you have NO way to be heard and helped. Bolt doesn’t care and will sort it out later - but that may be too late for you. So next time you take that cheap ride, ask yourself how high a price you’re willing to pay for it.\n",
      "Sentiment  : negative \n",
      "\n",
      "Review text: I was waiting for my taxi and I saw him drive past I waved but he didn’t see or wait at all, he then proceeded to click on app saying he had picked me up and started to drive to my drop off location I called him twice and messaged him telling him where I was. But he ignored all. He then competed the journey and my money was taken out of my account. I had to order an Uber in the end. I’ve contacted the company about 12 hours ago letting them know and wanting a refund for a journey I didn’t even take and they haven’t replied! Not happy at all!\n",
      "Sentiment  : negative \n",
      "\n",
      "Review text: I have had SEVERAL problems with the app especially since it became Bolt. Miscalculation of my distance and over pricing. Eg. Went from one place to one place all my receipts show that the distance 14km\n",
      "Last week Saturday went to the same place again and used the same route app shows my distance was 27km!! And I was over charged for that. I have complained so many times over the past couple of months over MANY issues where I’ve been cheated and the “support” does not work anymore (for some months now). It always says “unauthorised”. Fix this problem!!!\n",
      "Sentiment  : negative \n",
      "\n",
      "Review text: I like the uber like feel of the app however some features that are missing would make the experience better. \n",
      "\n",
      "It would be great if you could ask for a larger car if you have 5 people or a lot of luggage and ability to ask for a big car would be great. \n",
      "\n",
      "It would also be good if you could book in advance and say you want a taxi in 5 hrs time or even tomorrow. \n",
      "\n",
      "Lastly sometimes you take multiple trips in one day but don't have time to rate the driver/trip. It would be handy to be able to go back to a trip and rate it later or the following day even. \n",
      "\n",
      "All that aside I use the service all the time probably daily and would just like to see these improvements to make it even better.\n",
      "Sentiment  : neutral \n",
      "\n",
      "Review text: This app used to be great! Never had problems ordering a taxi. However since about 2 months ago something has changed (app updates I suppose) and now almost 100% of the time I can’t order a car because there’s never a driver available! If you scroll 1-2km to either directions some drivers are coming up but it’s a very small city in baltics and 1 km different doesn’t mean the car/driver can’t come to where you are just because it’s 1km more than where he is. Rubbish!\n",
      "Sentiment  : negative \n",
      "\n",
      "Review text: I’ve tried to communicate with the company but they give me no solutions from something that happened on Saturday afternoon the driver charged £10 note to take me to my destination when I was already paying on the app the company keeps telling me that they waiting for the driver to answer but it’s been 2 days and no response honestly To avoid problems with the driver I gave him the £10 which they are not allowed to receive since the app is already paying them per mile ... I don’t recommend it since I feel like this is totally such a bad app\n",
      "Sentiment  : negative \n",
      "\n",
      "Review text: Fine until you have a problem then there is absolutely no support.  A driver did not pick me up despite me being at the pickup stop waiting and decided to start the ride anyway and drive for 100 meters so he could charge me £5. \n",
      "The in app “real time” chat is completely useless as 3 days later I have not had a single response.  What if was actually an emergency.  Then claim to be better than Uber but so far they are only trying to take share by undercutting on prices with promos.  The rides are the same and the customer service is worse.\n",
      "Sentiment  : negative \n",
      "\n",
      "Review text: We’ve all seen the ads trying to lure in new drivers for bolt.\n",
      "But I’ve seen that they will literally hire anyone.\n",
      "My driver the other week ago was driving so fast and dangerously. I was scared for my life. He was overtaking cars the whole way and we came very close to oncoming traffic a few times. He was talking and looking back at me on the motorway, and I felt very uncomfortable. It was like he wanted this job to be over with as soon as possible so he could make as much money as he could.\n",
      "Afterwards I complained to one of the bolt team. Not only did they not compensate me. They said I had to prove these incidents had happened or they can’t do anything.....What sort of a rule is that!??\n",
      "I then asked to speak to the manager and they still haven’t replied 4 days later....\n",
      "Worst app in the world. Choose Uber!!\n",
      "It may be slightly more expensive but at least they care about their customers well being.\n",
      "Sentiment  : negative \n",
      "\n",
      "Review text: I’ve used the app once when I was in Budapest, the driver turned up on time and helped us with our luggage (other taxi didn’t which surprised us a bit). Bolt driver was professional, we didn’t have any problem and will use them again in future. They are now in London so I will definitely use them.\n",
      "Sentiment  : positive \n",
      "\n",
      "Review text: I think Bolt is the only mobile phone app taxi operator in Malta! Thank God for it as I have been able to get out and about with ease and at a reasonable price and avoid the unreliable basic bus system. My friends have also recommended it in London so I look forward to enjoying the same when back home. Thanks Bolt!\n",
      "Sentiment  : positive \n",
      "\n",
      "Review text: Had one or two rides before they started cancelling trips. Havent had one arrive since. My boyfriend had three separate drivers cancel late night, 1am, when on the way home from work and my parents havent been able to get one since downloading the app. The drivers we had were friendly and drive was stress free but will be going back to uber because with no reasonable explanation for cancelling Uber are more reliable.\n",
      "Sentiment  : neutral \n",
      "\n",
      "Review text: Once all the discounts are gone, there is literally no point of trying to use the service. The app keeps freezing and not opening at all straight after you’ve ordered the taxi, you can’t even track it. No proper way to start a chat with the support team. All my invitation codes for my inviting friends didn’t work and show up as invalid. Plus, I found the campaign against Uber in my email newsletter quite low and sad as a competition move. Don’t try and be better by criticizing others, you need to sort yourself out first.\n",
      "Sentiment  : negative \n",
      "\n",
      "Review text: Used three times so far after good friend recommended and send me invite that gave me good welcome discount which was plus! Overall professional drivers and friendly drivers. New or very decent cars and very quick pick up which was very great first impression. Keep up the good work!\n",
      "Sentiment  : positive \n",
      "\n",
      "Review text: Used as Customer for 1time as have been receiving emails saying first 5 rides are half price and is still on for new customers \n",
      "But they charged full cost as I thought will be discounted at end but did not \n",
      "Please make sure you are getting discounts as when you call them they change the story \n",
      "Will not recommend to any one as I had promoted a lot to many I know\n",
      "It is not Money but Morally should honour what they promise and send by email to customers or should not send promotions I believe. Will not recommend to anyone\n",
      "Sentiment  : negative \n",
      "\n",
      "Review text: Having used Uber for years and made over 1000 trips, I decided to try Bolt.\n",
      "Cost wise it was extremely heap the first few rides, but now it is almost always more than Uber for the same route.\n",
      "The app is very inaccurate and doesn’t recognise places of interest at all. I always have to message the driver to explain exactly where I am.\n",
      "The app could definitely benefit from more development on the location accuracy.\n",
      "Sentiment  : neutral \n",
      "\n",
      "Review text: The app itself works mostly well. I find that there is a lag on timing. So it’s difficult to truly tell how long it’ll be before you’re picked up. \n",
      "I’ve had instances where it states I’d be picked up in 11 mins for about 20 mins. \n",
      "\n",
      "It would also be good if a journey time estimate could be added, this would make things much better.\n",
      "\n",
      "I’d say Uber offers a more reliable service than Bolt presently. Often can’t get a hold of Bolt drivers following request and, in the last week or so since having the app, I’ve had 3 drivers not move and subsequently had to cancel after calling and waiting 10 minutes. \n",
      "Almost missed a train so had to go back to the usual competitor.\n",
      "\n",
      "The main pro is the reduced cost in comparison to other competitors.\n",
      "Sentiment  : positive \n",
      "\n",
      "Review text: I thought it was just me but apparently I'm not the only one who has had a complaint that fell on deaf ears. This is the first review I'm ever writing. I felt the need to write this because my usual quiet way of resolving issues didn't work. So the driver refused to take me to my destination because I said I was paying by card and he wanted cash. He refused to go and I still got billed, I complained and there was no response. I've uninstalled the app now because that was the last straw. My first experience with them wasn't good either. They need to improve a lot!\n",
      "Sentiment  : negative \n",
      "\n",
      "Review text: For two days I have been trying to book a ride, did I manage? Er, no. I keep getting a pop up saying no drivers are available try again in a few minutes! Minutes? I’ve been trying for two days FFS! And not to mention the customer support is non existent. No one has replied to my many messages! You and compete against Uber? B*llocks!! Is the Trophy CEO on drugs? I’ll be messaging the London newspapers to tell them there’s a wannabe Uber app on the market, which doesn’t work, ill be ranting on LinkedIn soon too, and will be complaining to the App Store as well! RIP\n",
      "Sentiment  : negative \n",
      "\n",
      "Review text: I almost stopped using Uber as bolt was cheaper and more efficient but since 2 weeks my rides are getting cancelled with some error for payments. Customer support is so bad that they reply after two days or sometimes after a week. \n",
      "Firstly they asked me for identification check which super strange for taxi app but the problem still persists. Then they told me to use another card which I did but still got same problem. \n",
      "It’s been more than 2 weeks and nobody helped me over it which means to DELETE the app as they don’t care!\n",
      "Sentiment  : negative \n",
      "\n",
      "Review text: I’ve used Bolt twice now and would say it’s a nice change to Uber. The rates seem fairer for both passenger and driver. I was disappointed on my most recent trip to find how inaccurate the GPS was. I put in an address (in London) but when the driver announced we had arrived it was a 2 min drive away from where I needed to be. It would be nice if the app could be upgraded to be more accurate.\n",
      "Sentiment  : neutral \n",
      "\n",
      "Review text: I have never used this app and been happy. \n",
      "You often have to wait for 3/4 drivers to feel friendly enough not to cancel the trip. Nightmare if you’re in the middle of nowhere and on low batt.\n",
      "Today, the dude accept our trip, we got in and he announced he doesn’t want to drive into the congestion zone, apparently Bolt don’t tell drivers where they would be taking us, madness. He then couldn’t cancel the trip in a way that wouldn’t cost me money. \n",
      "I hope they don’t give me Bolt credit. I’d rather pay more for Uber and actually get to where I’m going.\n",
      "Sentiment  : neutral \n",
      "\n",
      "Review text: Ok, bolt might be £1/2 cheaper than Uber but I encountered a dangerous situation where the driver dropped me into an alley when clearly I asked to be dropped to a London Underground tube station. He was very rude as well and when I rang customer service immediately then said they would treat it as high priority but still no action has been taken and the said they would ring me back but did not. I wrote to them too but to no avail. In essence I was in a dangerous situation with a rude driver and no customer service to help! Better off taking an Uber or trusted taxi service!\n",
      "Sentiment  : negative \n",
      "\n",
      "Review text: Good app in general, but clear they haven’t worked out all the glitches \n",
      "For example the app doesn’t update the drivers location very fast so I’ve had drivers mark me as no show as they’ve arrived when I’ve believed them to be some time away, as the app was telling me \n",
      "\n",
      "Bit cheaper than Uber so that’s always a plus, and they take less commissions from the drivers than Uber so I hope it improves\n",
      "Sentiment  : neutral \n",
      "\n",
      "Review text: Terrible experience with Bolt. I booked the cab service because I had fragile items I had to bring to a surprise party - I left in adequate time but ended up missing the surprise and wasn’t even dropped to the location so would have been better off taking public transport. The driver took an unusual route which was acknowledged by customer services several days after as “an unusual route” via email but no action taken. My advice would be book a legit cab service. Completely useless company who lack severely in customer service.\n",
      "Sentiment  : negative \n",
      "\n",
      "Review text: This is a great app but it has some faults, for someone who just downloaded the app and is to receive a free ride you have to have at least £10 in your account. Personally I think that’s ridiculous if the ride is free you will not be paying any fare. Also some of the drivers are rude but that is a different issue. Other than that this is one of the best cheapest cab services.\n",
      "Sentiment  : neutral \n",
      "\n",
      "Review text: The last 3 times I’ve tried to use the app I’ve been given an ETA for the driver’s arrival that has not been accurate. Twice I’ve had to cancel the journey after waiting 20 minutes for a driver who’s arrival time continued to read as 5 minutes but as I watched the car it simply didn’t move. My first 2 journeys with BOLT were great and competitively priced so I was impressed to start with but the last few experiences have really brought the app down in my estimation.\n",
      "Sentiment  : negative \n",
      "\n",
      "Review text: Don’t use bolt if you’re in a hurry, cos 3 mins wait time really means 15 or 20 minutes. I understand that it’s not easy to predict traffic etc but this doesn’t happen with other apps. For some reason, it’s particularly bad with bolt. \n",
      "\n",
      "It’s happened on multiple occasions that after waiting 15 - 20mins for a bolt that was supposed to arrive in 3 mins, I cancelled and called an Uber - which arrived on time. It can be really frustrating, especially when you’ve planned your journey to arrive at a particular time.\n",
      "Sentiment  : neutral \n",
      "\n",
      "Review text: Bolt charge me£ 12 for a trip I didn’t have and I had to cancel because when I book the trip it said 6 minutes and I end up waiting 25 minutes for the drive to say he will be 10 minutes I ask him to cancel the trip then he he said no and hung up on me trying to call there support team am waiting 45 minutes and no answer and it not the first time I had bad service from bolt where I got left at a wrong location and they refused to give me back my money after this I will be deleting my account\n",
      "Sentiment  : negative \n",
      "\n"
     ]
    }
   ],
   "source": [
    "for review_index in range(0, 99):\n",
    "  review_text = bolt_apple['review'][review_index]\n",
    "\n",
    "  encoded_review = tokenizer.encode_plus(\n",
    "    review_text,\n",
    "    max_length=MAX_LEN,\n",
    "    add_special_tokens=True,\n",
    "    return_token_type_ids=False,\n",
    "    pad_to_max_length=True,\n",
    "    return_attention_mask=True,\n",
    "    return_tensors='pt',\n",
    "  )\n",
    "\n",
    "  input_ids = encoded_review['input_ids'].to(device)\n",
    "  attention_mask = encoded_review['attention_mask'].to(device)\n",
    "\n",
    "  output = model(input_ids, attention_mask)\n",
    "  _, prediction = torch.max(output, dim=1)\n",
    "\n",
    "  print(f'Review text: {review_text}')\n",
    "  print(f'Sentiment  : {class_names[prediction]} \\n')"
   ]
  },
  {
   "cell_type": "code",
   "execution_count": null,
   "metadata": {
    "id": "5cA_fRveQozh"
   },
   "outputs": [],
   "source": []
  }
 ],
 "metadata": {
  "accelerator": "GPU",
  "colab": {
   "authorship_tag": "ABX9TyOXbav4PlZ/haGp+iTjrdCp",
   "collapsed_sections": [],
   "include_colab_link": true,
   "name": "Colab_SentimentAnalysis_with_BERT.ipynb",
   "provenance": [],
   "toc_visible": true
  },
  "kernelspec": {
   "display_name": "Python 3",
   "language": "python",
   "name": "python3"
  },
  "language_info": {
   "codemirror_mode": {
    "name": "ipython",
    "version": 3
   },
   "file_extension": ".py",
   "mimetype": "text/x-python",
   "name": "python",
   "nbconvert_exporter": "python",
   "pygments_lexer": "ipython3",
   "version": "3.8.5"
  },
  "widgets": {
   "application/vnd.jupyter.widget-state+json": {
    "09010f7102784c4d9b8c2ff146052553": {
     "model_module": "@jupyter-widgets/controls",
     "model_name": "HBoxModel",
     "state": {
      "_dom_classes": [],
      "_model_module": "@jupyter-widgets/controls",
      "_model_module_version": "1.5.0",
      "_model_name": "HBoxModel",
      "_view_count": null,
      "_view_module": "@jupyter-widgets/controls",
      "_view_module_version": "1.5.0",
      "_view_name": "HBoxView",
      "box_style": "",
      "children": [
       "IPY_MODEL_ad8e7c88bbea41ac95cd1a58c79a89fb",
       "IPY_MODEL_fa2830fd178c41d0a7db39dda27e3915"
      ],
      "layout": "IPY_MODEL_8f131ba378214427ad26ea6f73bea327"
     }
    },
    "0a5b97ae01654c309585b8bccdae9aa1": {
     "model_module": "@jupyter-widgets/controls",
     "model_name": "DescriptionStyleModel",
     "state": {
      "_model_module": "@jupyter-widgets/controls",
      "_model_module_version": "1.5.0",
      "_model_name": "DescriptionStyleModel",
      "_view_count": null,
      "_view_module": "@jupyter-widgets/base",
      "_view_module_version": "1.2.0",
      "_view_name": "StyleView",
      "description_width": ""
     }
    },
    "151b0903839145d4bef65e20af42cc22": {
     "model_module": "@jupyter-widgets/controls",
     "model_name": "DescriptionStyleModel",
     "state": {
      "_model_module": "@jupyter-widgets/controls",
      "_model_module_version": "1.5.0",
      "_model_name": "DescriptionStyleModel",
      "_view_count": null,
      "_view_module": "@jupyter-widgets/base",
      "_view_module_version": "1.2.0",
      "_view_name": "StyleView",
      "description_width": ""
     }
    },
    "167d9c4d41b1435f97b1b0c38c09e112": {
     "model_module": "@jupyter-widgets/controls",
     "model_name": "FloatProgressModel",
     "state": {
      "_dom_classes": [],
      "_model_module": "@jupyter-widgets/controls",
      "_model_module_version": "1.5.0",
      "_model_name": "FloatProgressModel",
      "_view_count": null,
      "_view_module": "@jupyter-widgets/controls",
      "_view_module_version": "1.5.0",
      "_view_name": "ProgressView",
      "bar_style": "success",
      "description": "Downloading: 100%",
      "description_tooltip": null,
      "layout": "IPY_MODEL_4d5cf01794c5498f8d613a09591a1e96",
      "max": 213450,
      "min": 0,
      "orientation": "horizontal",
      "style": "IPY_MODEL_882c87d258f34e53a3a4ae592a97c2b5",
      "value": 213450
     }
    },
    "18e3e7e0ed404ae4863e34242aed0888": {
     "model_module": "@jupyter-widgets/controls",
     "model_name": "FloatProgressModel",
     "state": {
      "_dom_classes": [],
      "_model_module": "@jupyter-widgets/controls",
      "_model_module_version": "1.5.0",
      "_model_name": "FloatProgressModel",
      "_view_count": null,
      "_view_module": "@jupyter-widgets/controls",
      "_view_module_version": "1.5.0",
      "_view_name": "ProgressView",
      "bar_style": "success",
      "description": "Downloading: 100%",
      "description_tooltip": null,
      "layout": "IPY_MODEL_e9c38927b503444f8bd008cd63110727",
      "max": 435779157,
      "min": 0,
      "orientation": "horizontal",
      "style": "IPY_MODEL_3c1f4fe3ed9c43e4bd418353db30ad36",
      "value": 435779157
     }
    },
    "1ab94c3f78864d9bbaaa63c65a1dde5e": {
     "model_module": "@jupyter-widgets/base",
     "model_name": "LayoutModel",
     "state": {
      "_model_module": "@jupyter-widgets/base",
      "_model_module_version": "1.2.0",
      "_model_name": "LayoutModel",
      "_view_count": null,
      "_view_module": "@jupyter-widgets/base",
      "_view_module_version": "1.2.0",
      "_view_name": "LayoutView",
      "align_content": null,
      "align_items": null,
      "align_self": null,
      "border": null,
      "bottom": null,
      "display": null,
      "flex": null,
      "flex_flow": null,
      "grid_area": null,
      "grid_auto_columns": null,
      "grid_auto_flow": null,
      "grid_auto_rows": null,
      "grid_column": null,
      "grid_gap": null,
      "grid_row": null,
      "grid_template_areas": null,
      "grid_template_columns": null,
      "grid_template_rows": null,
      "height": null,
      "justify_content": null,
      "justify_items": null,
      "left": null,
      "margin": null,
      "max_height": null,
      "max_width": null,
      "min_height": null,
      "min_width": null,
      "object_fit": null,
      "object_position": null,
      "order": null,
      "overflow": null,
      "overflow_x": null,
      "overflow_y": null,
      "padding": null,
      "right": null,
      "top": null,
      "visibility": null,
      "width": null
     }
    },
    "1fa718b55a2c408892019f6b1bc482be": {
     "model_module": "@jupyter-widgets/controls",
     "model_name": "HTMLModel",
     "state": {
      "_dom_classes": [],
      "_model_module": "@jupyter-widgets/controls",
      "_model_module_version": "1.5.0",
      "_model_name": "HTMLModel",
      "_view_count": null,
      "_view_module": "@jupyter-widgets/controls",
      "_view_module_version": "1.5.0",
      "_view_name": "HTMLView",
      "description": "",
      "description_tooltip": null,
      "layout": "IPY_MODEL_42f5e41912944d82b529d033bd5939d1",
      "placeholder": "​",
      "style": "IPY_MODEL_52db9060989940d8adff6dcadeb784a6",
      "value": " 213k/213k [00:00&lt;00:00, 3.22MB/s]"
     }
    },
    "2cd4ffa02344407381b2f5b60657cd38": {
     "model_module": "@jupyter-widgets/controls",
     "model_name": "HBoxModel",
     "state": {
      "_dom_classes": [],
      "_model_module": "@jupyter-widgets/controls",
      "_model_module_version": "1.5.0",
      "_model_name": "HBoxModel",
      "_view_count": null,
      "_view_module": "@jupyter-widgets/controls",
      "_view_module_version": "1.5.0",
      "_view_name": "HBoxView",
      "box_style": "",
      "children": [
       "IPY_MODEL_167d9c4d41b1435f97b1b0c38c09e112",
       "IPY_MODEL_1fa718b55a2c408892019f6b1bc482be"
      ],
      "layout": "IPY_MODEL_ee02e159e25a4e92b0c149f1e5cbc13f"
     }
    },
    "3c1f4fe3ed9c43e4bd418353db30ad36": {
     "model_module": "@jupyter-widgets/controls",
     "model_name": "ProgressStyleModel",
     "state": {
      "_model_module": "@jupyter-widgets/controls",
      "_model_module_version": "1.5.0",
      "_model_name": "ProgressStyleModel",
      "_view_count": null,
      "_view_module": "@jupyter-widgets/base",
      "_view_module_version": "1.2.0",
      "_view_name": "StyleView",
      "bar_color": null,
      "description_width": "initial"
     }
    },
    "42f5e41912944d82b529d033bd5939d1": {
     "model_module": "@jupyter-widgets/base",
     "model_name": "LayoutModel",
     "state": {
      "_model_module": "@jupyter-widgets/base",
      "_model_module_version": "1.2.0",
      "_model_name": "LayoutModel",
      "_view_count": null,
      "_view_module": "@jupyter-widgets/base",
      "_view_module_version": "1.2.0",
      "_view_name": "LayoutView",
      "align_content": null,
      "align_items": null,
      "align_self": null,
      "border": null,
      "bottom": null,
      "display": null,
      "flex": null,
      "flex_flow": null,
      "grid_area": null,
      "grid_auto_columns": null,
      "grid_auto_flow": null,
      "grid_auto_rows": null,
      "grid_column": null,
      "grid_gap": null,
      "grid_row": null,
      "grid_template_areas": null,
      "grid_template_columns": null,
      "grid_template_rows": null,
      "height": null,
      "justify_content": null,
      "justify_items": null,
      "left": null,
      "margin": null,
      "max_height": null,
      "max_width": null,
      "min_height": null,
      "min_width": null,
      "object_fit": null,
      "object_position": null,
      "order": null,
      "overflow": null,
      "overflow_x": null,
      "overflow_y": null,
      "padding": null,
      "right": null,
      "top": null,
      "visibility": null,
      "width": null
     }
    },
    "4d5cf01794c5498f8d613a09591a1e96": {
     "model_module": "@jupyter-widgets/base",
     "model_name": "LayoutModel",
     "state": {
      "_model_module": "@jupyter-widgets/base",
      "_model_module_version": "1.2.0",
      "_model_name": "LayoutModel",
      "_view_count": null,
      "_view_module": "@jupyter-widgets/base",
      "_view_module_version": "1.2.0",
      "_view_name": "LayoutView",
      "align_content": null,
      "align_items": null,
      "align_self": null,
      "border": null,
      "bottom": null,
      "display": null,
      "flex": null,
      "flex_flow": null,
      "grid_area": null,
      "grid_auto_columns": null,
      "grid_auto_flow": null,
      "grid_auto_rows": null,
      "grid_column": null,
      "grid_gap": null,
      "grid_row": null,
      "grid_template_areas": null,
      "grid_template_columns": null,
      "grid_template_rows": null,
      "height": null,
      "justify_content": null,
      "justify_items": null,
      "left": null,
      "margin": null,
      "max_height": null,
      "max_width": null,
      "min_height": null,
      "min_width": null,
      "object_fit": null,
      "object_position": null,
      "order": null,
      "overflow": null,
      "overflow_x": null,
      "overflow_y": null,
      "padding": null,
      "right": null,
      "top": null,
      "visibility": null,
      "width": null
     }
    },
    "52db9060989940d8adff6dcadeb784a6": {
     "model_module": "@jupyter-widgets/controls",
     "model_name": "DescriptionStyleModel",
     "state": {
      "_model_module": "@jupyter-widgets/controls",
      "_model_module_version": "1.5.0",
      "_model_name": "DescriptionStyleModel",
      "_view_count": null,
      "_view_module": "@jupyter-widgets/base",
      "_view_module_version": "1.2.0",
      "_view_name": "StyleView",
      "description_width": ""
     }
    },
    "6b458ff9ab44452a879accd8ed9fe481": {
     "model_module": "@jupyter-widgets/controls",
     "model_name": "HTMLModel",
     "state": {
      "_dom_classes": [],
      "_model_module": "@jupyter-widgets/controls",
      "_model_module_version": "1.5.0",
      "_model_name": "HTMLModel",
      "_view_count": null,
      "_view_module": "@jupyter-widgets/controls",
      "_view_module_version": "1.5.0",
      "_view_name": "HTMLView",
      "description": "",
      "description_tooltip": null,
      "layout": "IPY_MODEL_1ab94c3f78864d9bbaaa63c65a1dde5e",
      "placeholder": "​",
      "style": "IPY_MODEL_151b0903839145d4bef65e20af42cc22",
      "value": " 436M/436M [00:07&lt;00:00, 56.1MB/s]"
     }
    },
    "882c87d258f34e53a3a4ae592a97c2b5": {
     "model_module": "@jupyter-widgets/controls",
     "model_name": "ProgressStyleModel",
     "state": {
      "_model_module": "@jupyter-widgets/controls",
      "_model_module_version": "1.5.0",
      "_model_name": "ProgressStyleModel",
      "_view_count": null,
      "_view_module": "@jupyter-widgets/base",
      "_view_module_version": "1.2.0",
      "_view_name": "StyleView",
      "bar_color": null,
      "description_width": "initial"
     }
    },
    "8f131ba378214427ad26ea6f73bea327": {
     "model_module": "@jupyter-widgets/base",
     "model_name": "LayoutModel",
     "state": {
      "_model_module": "@jupyter-widgets/base",
      "_model_module_version": "1.2.0",
      "_model_name": "LayoutModel",
      "_view_count": null,
      "_view_module": "@jupyter-widgets/base",
      "_view_module_version": "1.2.0",
      "_view_name": "LayoutView",
      "align_content": null,
      "align_items": null,
      "align_self": null,
      "border": null,
      "bottom": null,
      "display": null,
      "flex": null,
      "flex_flow": null,
      "grid_area": null,
      "grid_auto_columns": null,
      "grid_auto_flow": null,
      "grid_auto_rows": null,
      "grid_column": null,
      "grid_gap": null,
      "grid_row": null,
      "grid_template_areas": null,
      "grid_template_columns": null,
      "grid_template_rows": null,
      "height": null,
      "justify_content": null,
      "justify_items": null,
      "left": null,
      "margin": null,
      "max_height": null,
      "max_width": null,
      "min_height": null,
      "min_width": null,
      "object_fit": null,
      "object_position": null,
      "order": null,
      "overflow": null,
      "overflow_x": null,
      "overflow_y": null,
      "padding": null,
      "right": null,
      "top": null,
      "visibility": null,
      "width": null
     }
    },
    "ad8e7c88bbea41ac95cd1a58c79a89fb": {
     "model_module": "@jupyter-widgets/controls",
     "model_name": "FloatProgressModel",
     "state": {
      "_dom_classes": [],
      "_model_module": "@jupyter-widgets/controls",
      "_model_module_version": "1.5.0",
      "_model_name": "FloatProgressModel",
      "_view_count": null,
      "_view_module": "@jupyter-widgets/controls",
      "_view_module_version": "1.5.0",
      "_view_name": "ProgressView",
      "bar_style": "success",
      "description": "Downloading: 100%",
      "description_tooltip": null,
      "layout": "IPY_MODEL_b2cfc86433ae43c69dd23c7048048d07",
      "max": 433,
      "min": 0,
      "orientation": "horizontal",
      "style": "IPY_MODEL_dc3ebf9133f94cdfa89d7455aa8b9ebd",
      "value": 433
     }
    },
    "b2cfc86433ae43c69dd23c7048048d07": {
     "model_module": "@jupyter-widgets/base",
     "model_name": "LayoutModel",
     "state": {
      "_model_module": "@jupyter-widgets/base",
      "_model_module_version": "1.2.0",
      "_model_name": "LayoutModel",
      "_view_count": null,
      "_view_module": "@jupyter-widgets/base",
      "_view_module_version": "1.2.0",
      "_view_name": "LayoutView",
      "align_content": null,
      "align_items": null,
      "align_self": null,
      "border": null,
      "bottom": null,
      "display": null,
      "flex": null,
      "flex_flow": null,
      "grid_area": null,
      "grid_auto_columns": null,
      "grid_auto_flow": null,
      "grid_auto_rows": null,
      "grid_column": null,
      "grid_gap": null,
      "grid_row": null,
      "grid_template_areas": null,
      "grid_template_columns": null,
      "grid_template_rows": null,
      "height": null,
      "justify_content": null,
      "justify_items": null,
      "left": null,
      "margin": null,
      "max_height": null,
      "max_width": null,
      "min_height": null,
      "min_width": null,
      "object_fit": null,
      "object_position": null,
      "order": null,
      "overflow": null,
      "overflow_x": null,
      "overflow_y": null,
      "padding": null,
      "right": null,
      "top": null,
      "visibility": null,
      "width": null
     }
    },
    "b8974b76d06648ba8306b023073e2805": {
     "model_module": "@jupyter-widgets/base",
     "model_name": "LayoutModel",
     "state": {
      "_model_module": "@jupyter-widgets/base",
      "_model_module_version": "1.2.0",
      "_model_name": "LayoutModel",
      "_view_count": null,
      "_view_module": "@jupyter-widgets/base",
      "_view_module_version": "1.2.0",
      "_view_name": "LayoutView",
      "align_content": null,
      "align_items": null,
      "align_self": null,
      "border": null,
      "bottom": null,
      "display": null,
      "flex": null,
      "flex_flow": null,
      "grid_area": null,
      "grid_auto_columns": null,
      "grid_auto_flow": null,
      "grid_auto_rows": null,
      "grid_column": null,
      "grid_gap": null,
      "grid_row": null,
      "grid_template_areas": null,
      "grid_template_columns": null,
      "grid_template_rows": null,
      "height": null,
      "justify_content": null,
      "justify_items": null,
      "left": null,
      "margin": null,
      "max_height": null,
      "max_width": null,
      "min_height": null,
      "min_width": null,
      "object_fit": null,
      "object_position": null,
      "order": null,
      "overflow": null,
      "overflow_x": null,
      "overflow_y": null,
      "padding": null,
      "right": null,
      "top": null,
      "visibility": null,
      "width": null
     }
    },
    "cb481bb778684487b8f741eff05cba48": {
     "model_module": "@jupyter-widgets/base",
     "model_name": "LayoutModel",
     "state": {
      "_model_module": "@jupyter-widgets/base",
      "_model_module_version": "1.2.0",
      "_model_name": "LayoutModel",
      "_view_count": null,
      "_view_module": "@jupyter-widgets/base",
      "_view_module_version": "1.2.0",
      "_view_name": "LayoutView",
      "align_content": null,
      "align_items": null,
      "align_self": null,
      "border": null,
      "bottom": null,
      "display": null,
      "flex": null,
      "flex_flow": null,
      "grid_area": null,
      "grid_auto_columns": null,
      "grid_auto_flow": null,
      "grid_auto_rows": null,
      "grid_column": null,
      "grid_gap": null,
      "grid_row": null,
      "grid_template_areas": null,
      "grid_template_columns": null,
      "grid_template_rows": null,
      "height": null,
      "justify_content": null,
      "justify_items": null,
      "left": null,
      "margin": null,
      "max_height": null,
      "max_width": null,
      "min_height": null,
      "min_width": null,
      "object_fit": null,
      "object_position": null,
      "order": null,
      "overflow": null,
      "overflow_x": null,
      "overflow_y": null,
      "padding": null,
      "right": null,
      "top": null,
      "visibility": null,
      "width": null
     }
    },
    "dc3ebf9133f94cdfa89d7455aa8b9ebd": {
     "model_module": "@jupyter-widgets/controls",
     "model_name": "ProgressStyleModel",
     "state": {
      "_model_module": "@jupyter-widgets/controls",
      "_model_module_version": "1.5.0",
      "_model_name": "ProgressStyleModel",
      "_view_count": null,
      "_view_module": "@jupyter-widgets/base",
      "_view_module_version": "1.2.0",
      "_view_name": "StyleView",
      "bar_color": null,
      "description_width": "initial"
     }
    },
    "e9c38927b503444f8bd008cd63110727": {
     "model_module": "@jupyter-widgets/base",
     "model_name": "LayoutModel",
     "state": {
      "_model_module": "@jupyter-widgets/base",
      "_model_module_version": "1.2.0",
      "_model_name": "LayoutModel",
      "_view_count": null,
      "_view_module": "@jupyter-widgets/base",
      "_view_module_version": "1.2.0",
      "_view_name": "LayoutView",
      "align_content": null,
      "align_items": null,
      "align_self": null,
      "border": null,
      "bottom": null,
      "display": null,
      "flex": null,
      "flex_flow": null,
      "grid_area": null,
      "grid_auto_columns": null,
      "grid_auto_flow": null,
      "grid_auto_rows": null,
      "grid_column": null,
      "grid_gap": null,
      "grid_row": null,
      "grid_template_areas": null,
      "grid_template_columns": null,
      "grid_template_rows": null,
      "height": null,
      "justify_content": null,
      "justify_items": null,
      "left": null,
      "margin": null,
      "max_height": null,
      "max_width": null,
      "min_height": null,
      "min_width": null,
      "object_fit": null,
      "object_position": null,
      "order": null,
      "overflow": null,
      "overflow_x": null,
      "overflow_y": null,
      "padding": null,
      "right": null,
      "top": null,
      "visibility": null,
      "width": null
     }
    },
    "ee02e159e25a4e92b0c149f1e5cbc13f": {
     "model_module": "@jupyter-widgets/base",
     "model_name": "LayoutModel",
     "state": {
      "_model_module": "@jupyter-widgets/base",
      "_model_module_version": "1.2.0",
      "_model_name": "LayoutModel",
      "_view_count": null,
      "_view_module": "@jupyter-widgets/base",
      "_view_module_version": "1.2.0",
      "_view_name": "LayoutView",
      "align_content": null,
      "align_items": null,
      "align_self": null,
      "border": null,
      "bottom": null,
      "display": null,
      "flex": null,
      "flex_flow": null,
      "grid_area": null,
      "grid_auto_columns": null,
      "grid_auto_flow": null,
      "grid_auto_rows": null,
      "grid_column": null,
      "grid_gap": null,
      "grid_row": null,
      "grid_template_areas": null,
      "grid_template_columns": null,
      "grid_template_rows": null,
      "height": null,
      "justify_content": null,
      "justify_items": null,
      "left": null,
      "margin": null,
      "max_height": null,
      "max_width": null,
      "min_height": null,
      "min_width": null,
      "object_fit": null,
      "object_position": null,
      "order": null,
      "overflow": null,
      "overflow_x": null,
      "overflow_y": null,
      "padding": null,
      "right": null,
      "top": null,
      "visibility": null,
      "width": null
     }
    },
    "fa2830fd178c41d0a7db39dda27e3915": {
     "model_module": "@jupyter-widgets/controls",
     "model_name": "HTMLModel",
     "state": {
      "_dom_classes": [],
      "_model_module": "@jupyter-widgets/controls",
      "_model_module_version": "1.5.0",
      "_model_name": "HTMLModel",
      "_view_count": null,
      "_view_module": "@jupyter-widgets/controls",
      "_view_module_version": "1.5.0",
      "_view_name": "HTMLView",
      "description": "",
      "description_tooltip": null,
      "layout": "IPY_MODEL_cb481bb778684487b8f741eff05cba48",
      "placeholder": "​",
      "style": "IPY_MODEL_0a5b97ae01654c309585b8bccdae9aa1",
      "value": " 433/433 [01:55&lt;00:00, 3.76B/s]"
     }
    },
    "fd63d80f32ba4758860ff1f35954ed24": {
     "model_module": "@jupyter-widgets/controls",
     "model_name": "HBoxModel",
     "state": {
      "_dom_classes": [],
      "_model_module": "@jupyter-widgets/controls",
      "_model_module_version": "1.5.0",
      "_model_name": "HBoxModel",
      "_view_count": null,
      "_view_module": "@jupyter-widgets/controls",
      "_view_module_version": "1.5.0",
      "_view_name": "HBoxView",
      "box_style": "",
      "children": [
       "IPY_MODEL_18e3e7e0ed404ae4863e34242aed0888",
       "IPY_MODEL_6b458ff9ab44452a879accd8ed9fe481"
      ],
      "layout": "IPY_MODEL_b8974b76d06648ba8306b023073e2805"
     }
    }
   }
  }
 },
 "nbformat": 4,
 "nbformat_minor": 1
}
