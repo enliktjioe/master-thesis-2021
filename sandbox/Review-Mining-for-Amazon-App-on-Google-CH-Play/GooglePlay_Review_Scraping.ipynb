{
 "cells": [
  {
   "cell_type": "markdown",
   "metadata": {},
   "source": [
    "# Scraping Reviews on Google CH Play with Selenium"
   ]
  },
  {
   "cell_type": "markdown",
   "metadata": {},
   "source": [
    "1. Import selenium and other necessary libraries/ packages"
   ]
  },
  {
   "cell_type": "code",
   "execution_count": 1,
   "metadata": {},
   "outputs": [],
   "source": [
    "import datetime, time\n",
    "import csv\n",
    "from selenium import webdriver\n",
    "from selenium.webdriver.common.keys import Keys"
   ]
  },
  {
   "cell_type": "markdown",
   "metadata": {},
   "source": [
    "2. Create the file name and urls"
   ]
  },
  {
   "cell_type": "code",
   "execution_count": 3,
   "metadata": {},
   "outputs": [],
   "source": [
    "# Create the filename and url\n",
    "urls = {\"amazon_GGPlay_raw.csv\":\"https://play.google.com/store/apps/details?id=com.amazon.mShop.android.shopping&hl=en&showAllReviews=true\",\n",
    "        \"argos_GGPlay_raw.csv\":\"https://play.google.com/store/apps/details?id=com.homeretailgroup.argos.android&hl=en&showAllReviews=true\",\n",
    "        \"ao_GGPlay_raw.csv\":\"https://play.google.com/store/apps/details?id=com.ao.myao&hl=en&showAllReviews=true\"}\n",
    "#urls1 = {\"amazon.csv\":\"https://play.google.com/store/apps/details?id=com.amazon.mShop.android.shopping&hl=en&showAllReviews=true\"}\n",
    "#urls2 = {\"ao.csv\":\"https://play.google.com/store/apps/details?id=com.ao.myao&hl=en&showAllReviews=true\"}\n",
    "#urls3 = {\"argos.csv\":\"https://play.google.com/store/apps/details?id=com.homeretailgroup.argos.android&hl=en&showAllReviews=true\"}"
   ]
  },
  {
   "cell_type": "markdown",
   "metadata": {},
   "source": [
    "3. Let's do this again and unleash the power of Selenium by using keyboard controls to manipulate a page:"
   ]
  },
  {
   "cell_type": "code",
   "execution_count": 5,
   "metadata": {},
   "outputs": [
    {
     "name": "stdout",
     "output_type": "stream",
     "text": [
      "App Name: Amazon Shopping\n",
      "Average Rating: 4.285180568695068\n",
      "Review Count: 1,058,277 \n",
      "\n"
     ]
    }
   ],
   "source": [
    "browser = webdriver.Chrome()\n",
    "\n",
    "for file_name, url in urls.items():\n",
    "    \n",
    "    csv_file = open(file_name, 'w', newline='', encoding=\"utf-8\")\n",
    "    csv_writer = csv.writer(csv_file, delimiter=',', lineterminator='\\n')\n",
    "    csv_writer.writerow(['Name','Date','Rate', 'Comment', 'Helful', 'Sentiment', 'Polarity Score'])\n",
    "\n",
    "    browser.get(url)\n",
    "\n",
    "    # Let the reviews load\n",
    "    time.sleep(1)\n",
    "\n",
    "    # Print the body of the HTML page\n",
    "    body = browser.find_element_by_tag_name('body')\n",
    "\n",
    "    # Print general information about the app\n",
    "    print('App Name:', str(browser.find_element_by_tag_name('h1').text))\n",
    "    print('Average Rating:', str(browser.find_element_by_css_selector(\"meta[itemprop='ratingValue']\").get_attribute('content')))\n",
    "    print('Review Count:', str(browser.find_element_by_css_selector('span.AYi5wd').text),'\\n')\n",
    "\n",
    "\n",
    "    # Keep scrolling down using a simulation of the PAGE_DOWN button\n",
    "    for i in range(15):\n",
    "        for _ in range(50):\n",
    "            body.send_keys(Keys.PAGE_DOWN)\n",
    "            time.sleep(0.2)\n",
    "        time.sleep(1)\n",
    "\n",
    "        body.find_element_by_class_name('C0oVfc').send_keys(Keys.RETURN)\n",
    "        time.sleep(2)\n",
    "        \n",
    "\n",
    "    # Click all Full Review buttons    \n",
    "    for button in body.find_elements_by_class_name('OzU4dc'):\n",
    "        button.send_keys(Keys.RETURN)\n",
    "\n",
    "\n",
    "    # Get the reviews by their class\n",
    "    reviews = browser.find_elements_by_class_name('d15Mdf')\n",
    "\n",
    "    # Retrieve the information from each review \n",
    "    for review in reviews:\n",
    "        # Retrieve name of reviewer\n",
    "        name = review.find_element_by_class_name('X43Kjb').text\n",
    "\n",
    "        # Retrieve date of review\n",
    "        date = review.find_element_by_class_name('p2TkOb').text\n",
    "        # Change date format\n",
    "        date = datetime.datetime.strptime(str(date), '%B %d, %Y').strftime('%d/%m/%Y')\n",
    "\n",
    "        # Retrieve rating\n",
    "        rate = len(review.find_elements_by_class_name('vQHuPe'))\n",
    "\n",
    "        # Retrieve full review\n",
    "        comment = review.find_element_by_class_name('UD7Dzf').text\n",
    "            \n",
    "\n",
    "        # Retrieve number of likes of the review\n",
    "        helpful = review.find_element_by_class_name('jUL89d').text\n",
    "\n",
    "        #Export data into csv file\n",
    "        csv_writer.writerow([name, date, rate, comment, helpful, classification, round(sentiment,3)])\n",
    "\n",
    "    csv_file.close()\n",
    "    \n",
    "browser.quit()"
   ]
  },
  {
   "cell_type": "code",
   "execution_count": null,
   "metadata": {},
   "outputs": [],
   "source": []
  }
 ],
 "metadata": {
  "kernelspec": {
   "display_name": "Python 3",
   "language": "python",
   "name": "python3"
  },
  "language_info": {
   "codemirror_mode": {
    "name": "ipython",
    "version": 3
   },
   "file_extension": ".py",
   "mimetype": "text/x-python",
   "name": "python",
   "nbconvert_exporter": "python",
   "pygments_lexer": "ipython3",
   "version": "3.6.8"
  }
 },
 "nbformat": 4,
 "nbformat_minor": 2
}
