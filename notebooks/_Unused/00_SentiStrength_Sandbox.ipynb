{
 "cells": [
  {
   "cell_type": "code",
   "execution_count": 1,
   "metadata": {},
   "outputs": [
    {
     "name": "stderr",
     "output_type": "stream",
     "text": [
      "[nltk_data] Downloading package stopwords to /Users/enlik/nltk_data...\n",
      "[nltk_data]   Package stopwords is already up-to-date!\n"
     ]
    }
   ],
   "source": [
    "from utils import *\n",
    "\n",
    "import ssl\n",
    "ssl._create_default_https_context = ssl._create_unverified_context\n",
    "\n",
    "config = get_config('config.yaml')\n",
    "\n",
    "from sentistrength import PySentiStr\n",
    "senti = PySentiStr()\n",
    "senti.setSentiStrengthPath('/Users/enlik/GitRepo/master-thesis-2021/references/SentiStrengthCom.jar') # Note: Provide absolute path instead of relative path\n",
    "senti.setSentiStrengthLanguageFolderPath('/Users/enlik/GitRepo/master-thesis-2021/references/SentiStrengthData/') # Note: Provide absolute path instead of relative path"
   ]
  },
  {
   "cell_type": "markdown",
   "metadata": {},
   "source": [
    "# Sample use case of SentiStrength"
   ]
  },
  {
   "cell_type": "code",
   "execution_count": 2,
   "metadata": {},
   "outputs": [
    {
     "name": "stdout",
     "output_type": "stream",
     "text": [
      "[-1]\n"
     ]
    }
   ],
   "source": [
    "result = senti.getSentiment('What a bad day')\n",
    "print(result)"
   ]
  },
  {
   "cell_type": "code",
   "execution_count": 3,
   "metadata": {},
   "outputs": [
    {
     "name": "stdout",
     "output_type": "stream",
     "text": [
      "[1, -1]\n"
     ]
    }
   ],
   "source": [
    "str_arr = ['What a lovely day', 'What a bad day']\n",
    "result = senti.getSentiment(str_arr, score='scale')\n",
    "print(result)"
   ]
  },
  {
   "cell_type": "code",
   "execution_count": 4,
   "metadata": {},
   "outputs": [
    {
     "name": "stdout",
     "output_type": "stream",
     "text": [
      "[(2, -1), (1, -2)]\n"
     ]
    }
   ],
   "source": [
    "str_arr = ['What a lovely day', 'What a bad day']\n",
    "result = senti.getSentiment(str_arr, score='dual')\n",
    "print(result)"
   ]
  },
  {
   "cell_type": "code",
   "execution_count": 5,
   "metadata": {},
   "outputs": [
    {
     "name": "stdout",
     "output_type": "stream",
     "text": [
      "[1, -1]\n"
     ]
    }
   ],
   "source": [
    "str_arr = ['What a lovely day', 'What a bad day']\n",
    "result = senti.getSentiment(str_arr, score='binary')\n",
    "print(result)"
   ]
  },
  {
   "cell_type": "code",
   "execution_count": 6,
   "metadata": {},
   "outputs": [
    {
     "name": "stdout",
     "output_type": "stream",
     "text": [
      "[(2, -1, 1), (1, -2, -1)]\n"
     ]
    }
   ],
   "source": [
    "str_arr = ['What a lovely day', 'What a bad day']\n",
    "result = senti.getSentiment(str_arr, score='trinary')\n",
    "print(result)"
   ]
  },
  {
   "cell_type": "markdown",
   "metadata": {},
   "source": [
    "# Test with Bolt Apple"
   ]
  },
  {
   "cell_type": "code",
   "execution_count": 7,
   "metadata": {},
   "outputs": [
    {
     "name": "stdout",
     "output_type": "stream",
     "text": [
      "Total English reviews: 3154 \n",
      "\n",
      "Total unique users : 3149\n",
      "Total users who gave multiple reviews: 5\n",
      "\n",
      "Average rating for this app based on the textual reviews: 3.02 \n",
      "\n"
     ]
    }
   ],
   "source": [
    "df2 = read_csv_from_gdrive(config['csv_input']['bolt_apple'])\n",
    "total_reviews = len(df2)\n",
    "unique_users  = len(df2['userName'].unique())\n",
    "mean = df2['rating'].mean()\n",
    "\n",
    "print(f'Total English reviews: {total_reviews} \\n')\n",
    "print(f'Total unique users : {unique_users}')\n",
    "print(f'Total users who gave multiple reviews: {total_reviews - unique_users}\\n')\n",
    "print(f'Average rating for this app based on the textual reviews: {round(mean,2)} \\n')"
   ]
  },
  {
   "cell_type": "code",
   "execution_count": null,
   "metadata": {},
   "outputs": [],
   "source": [
    "df2"
   ]
  },
  {
   "cell_type": "code",
   "execution_count": 8,
   "metadata": {},
   "outputs": [
    {
     "data": {
      "text/plain": [
       "0       I love bolt. I don’t use uber often because on...\n",
       "1       So annoyed with this app!! Definitely the wors...\n",
       "2       I’ve been using bolt for a month now. I had a ...\n",
       "3       To make things clear, I am not a regular revie...\n",
       "4       I have used the app 3 or 4 times and I thought...\n",
       "                              ...                        \n",
       "3149    Зачем регестрироваться? Я просто хочу посмотре...\n",
       "3150                                                   :)\n",
       "3151    Слишком мало машин, иногда нет вообще, часто п...\n",
       "3152    1. samm: positsioneerime telefoni\\n2. samm: \"V...\n",
       "3153    Taxify's purpose was that you can CHOOSE your ...\n",
       "Name: review, Length: 3154, dtype: object"
      ]
     },
     "execution_count": 8,
     "metadata": {},
     "output_type": "execute_result"
    }
   ],
   "source": [
    "df2.review = df2.review.astype(str)\n",
    "df2 = df2.reset_index(drop=True)\n",
    "df2.review"
   ]
  },
  {
   "cell_type": "code",
   "execution_count": 9,
   "metadata": {},
   "outputs": [
    {
     "data": {
      "text/plain": [
       "'So annoyed with this app!! Definitely the worst of all of them. Sticking with Uber from now on. The driver arrival times are fake! It says the drivers have arrived when they are far away. Today the driver arrived and within a minute started driving away as if planning to do the route of my journey. I called customer support and was told that the driver was just around the corner of my house even though on the map it showed him miles away. Was told to look around the corner, which I did and the driver wasn’t there. Customer support then contacted the driver who claims he waited for 6 minutes and customer support claims on their system it showed he waited for 6 minutes, which is funny because their system was showing that he was there even though he wasn’t. With the time of me ordering the car, waiting the 2/3 minutes for him to get to me and my call to the driver and customer service there is no possible way the driver waiting 6 minutes. I even have the screenshots to prove it. Then customer support tells me I’ve not been charged and they are offering me £3 off the next journey. #%# %*^! This isn’t the first time this has happened, the drivers do as they please! Stick with Uber, this app is trash! Deleting it immediately.'"
      ]
     },
     "execution_count": 9,
     "metadata": {},
     "output_type": "execute_result"
    }
   ],
   "source": [
    "df2.review[1]"
   ]
  },
  {
   "cell_type": "code",
   "execution_count": 12,
   "metadata": {},
   "outputs": [
    {
     "name": "stdout",
     "output_type": "stream",
     "text": [
      "I love bolt. I don’t use uber often because one ride even if it’s short is like £11. Whereas from my high street to my house is £3. Not only that but their drivers are SUPER friendly! I was sick one day (my first time using bolt) and the driver was so understanding and encouraged me throughout my journey. Bolt is 100% recommended by me. I don’t write reviews so that’s how you know I defiantly recommend it. My Instagram name is: TeeKezi if you wish to get in contact with me about bolt. I’m not an ambassador 😂 or anything like that. Just super happy with the service I have been receiving x\n",
      "[2]\n",
      "5\n",
      "\n",
      "\n",
      "So annoyed with this app!! Definitely the worst of all of them. Sticking with Uber from now on. The driver arrival times are fake! It says the drivers have arrived when they are far away. Today the driver arrived and within a minute started driving away as if planning to do the route of my journey. I called customer support and was told that the driver was just around the corner of my house even though on the map it showed him miles away. Was told to look around the corner, which I did and the driver wasn’t there. Customer support then contacted the driver who claims he waited for 6 minutes and customer support claims on their system it showed he waited for 6 minutes, which is funny because their system was showing that he was there even though he wasn’t. With the time of me ordering the car, waiting the 2/3 minutes for him to get to me and my call to the driver and customer service there is no possible way the driver waiting 6 minutes. I even have the screenshots to prove it. Then customer support tells me I’ve not been charged and they are offering me £3 off the next journey. #%# %*^! This isn’t the first time this has happened, the drivers do as they please! Stick with Uber, this app is trash! Deleting it immediately.\n",
      "[0]\n",
      "1\n",
      "\n",
      "\n",
      "I’ve been using bolt for a month now. I had a few good journeys but 2 horrendous ones recently. The first occasion I was told to not cross my legs in the car because it “might” touch his chair. So apparently bolt encourages people to sit still and not move in the car, which was the response I got from customer service and no refund. The second time, I had a dental appointment and ordered a cab, the driver came and then he said where are you going? As soon as he found out what the location was, he got frustrated and swore and said “this is too far man I’m tired”. I asked why he had accepted it in the first place if he didn’t want to go too far. I didn’t get any proper explanation and no apology. I was in pain because of my dental extraction too. So I had to cancel from my end because he said he couldn’t do it. He said he would text bolt and let them know. And I messaged Bolt 3 days ago and still no reply. They have charged me £3 for this trip that didn’t happen. Terrible terrible drivers and very bad customer service. When incidents like this happened with Uber, they would always refund and apologise.\n",
      "[-2]\n",
      "1\n",
      "\n",
      "\n",
      "To make things clear, I am not a regular reviewer for anything at all and I certainly never leave negative reviews (until now).  After my experience this morning however I feel I must write a review to warn other users. \n",
      "I have been using Bolt regularly since it was launched in London. \n",
      "Today was the second time that I have booked a ride and the driver drove in completely the wrong direction. I spoke to the driver who claimed that I should just restart the app. After waiting in the rain for over 15 minutes, I called customer service. The man I spoke to on the phone sounded completely indifferent as I explained the situation, resulting in being late for a work meeting. There wasn’t any recognition of the absurdly poor service that this represents, let alone any sort of apology. At the end of the call, as if reading from a script, he informed me that as a gesture of good will he would be sending a £5 voucher. I thanked him for the generosity and declined this as I am not planning to use this unreliable app again. \n",
      "Such a shame for an app that started off with such promise.\n",
      "[0]\n",
      "1\n",
      "\n",
      "\n",
      "I have used the app 3 or 4 times and I thought it was great until today. I booked a cab, I waited outside and I saw him driving past me and leaving my street. I called him many times and he didn’t pick up. I called Bolt customer service and also didn’t respond. I wasted 15 minutes waiting to see if the driver would cancel the trip since he didn’t return, and I had to forcefully cancel it myself as I was already running late to my appointment and I couldn’t sit down there to wait until he felt like cancelling. I had to pay £6 which equals the cost of the trip, for a trip that didn’t happen. I had to book another cab and spend double the amount I should have spent originally.\n",
      "\n",
      "I have called countless times the customer service and they didn’t even pick up the phone, also messaged. I feel like I have been scammed. \n",
      "\n",
      "I have been told that is common for drivers to play around when people book, then they drive off and wait for the customer to be tired of waiting so the customer can cancel the trip and the driver gets money for free. This is so unacceptable.......\n",
      "[-1]\n",
      "1\n",
      "\n",
      "\n",
      "I’m so appalled at the attitude of the last driver I ordered from you. Three people recommended your services and I trusted those opinions. I’ve only taken four trips with Bolt and not ONE driver has worn a mask including the trips taken with my 7 month old baby. I ordered a XL car to help with moving a mirror and a bassinet to my destination, he took 15 minutes to get here, was on a call via loud speaker with a friend/family member. I asked if I could put my stuff into the boot as I was moving house and collecting the last items I had at my previous home. He declined and the person he was speaking to on the phone also got involved also. He then said it was my fault for ordering the wrong type of car, I told him I ordered the biggest car option on bolt. He said I would have to find another car and then told ME to cancel the drive. I refused so as he drove off he shouted something and left me, my baby and my things in the cold. Then to make matters worse, he cancelled the trip and put the reason as me ‘NOT SHOWING UP’. I will never use Bolt again, I am so angry and disgusted. \n",
      "\n",
      "AVOID.\n",
      "[-2]\n",
      "1\n",
      "\n",
      "\n",
      "I found the Bolt app very useful to use from time to time while I was in Lagos, Nigeria for two months. It was a Godsend. It worked well most of the time. The pick up times were usually good, about 6 - 12 minutes and the drivers were good at locating me. There is an option to call the drivers, so I was also able to give them some guidance when they needed it, since you can track them approaching you on the app. \n",
      "\n",
      "The drivers were also very friendly, helpful and polite. All the taxis I traveled in were air conditioned, which was very soothing for travel in the sauna which is Lagos. \n",
      "\n",
      "If you use it for transport to Lagos International Airport I recommend you hail them before you finish packing, as I did find that the longest arrival time of 21 minutes was unfortunately when I needed transport to the Airport. And even if you are not based too far from the Airport, allow for at least an hour travel time, as there is often a hold up on the route to the Airport. \n",
      "\n",
      "But overall I give the Czech tech firm that produced this app very high marks and thank them for contributing to the ease of travel in Nigeria. \n",
      "\n",
      "Let me not forget to mention that the fares are also very reasonable, compared to a conventional taxi. It was also easy to cancel without being charged if the ETA was too long.\n",
      "[1]\n",
      "4\n",
      "\n",
      "\n",
      "I’ve had many problems with the customer support l, once the driver started screaming at me and demanding for me to leave the car! Although I ordered a bolt premium! The driver asked me to leave the vehicle and wouldn’t cancel the ride (if you have started the ride you as the customer can’t cancel it) \n",
      "I called the support they apologised and lied to me saying they will put 50£ worth of rides to my account. The next day my account was disabled, bolt demanded i provide evidence or they will dismiss this case. I didn’t get the money back for the unfinished horrible ride and no “50£” worth of credit. Another angering event was when the driver didn’t wait for me and just left starting the trip (as i said before this app does not provide a chance for the customer to cancel the ride once the driver has started it) it was also a bolt premium. I called the support multiple times, they have told me that they too can’t cancel the ride. The money has been deducted from my account AGAIN! DONT DOWNLOAD THIS APP!\n",
      "[-3]\n",
      "1\n",
      "\n",
      "\n"
     ]
    },
    {
     "name": "stdout",
     "output_type": "stream",
     "text": [
      "I used Bolt since my friend recommended it to me as it was a bit cheaper than Uber but I have never had so many occasions where the drivers were just so unprofessional.\n",
      "Recent one being the driver notified me that it was at the location but I couldn’t find him anywhere and I was at the start of the road so I called him asking where he was and I’m right in front of the house. He just kept saying how he’s here and I’m not. And I was telling him I’m right outside and repeated the address to him. He again responded with he was there. And I got frustrated and told him you’re not here because I’m here. After that he gave me such attitude saying why wasn’t I listening to him, he is at the location so I have to go find him. I replied that I booked it for this address so he should pick me up from that address and then he just hung up and cancelled the drive. \n",
      "I’m just going to stick to Uber once again as they have more friendly and professional cab drivers than Bolt.\n",
      "[-1]\n",
      "1\n",
      "\n",
      "\n",
      "Recently we used Taxify for my wife to collect our daughter from school.\n",
      "\n",
      "When the Taxify arrived he parked in the wrong location but my wife located him and got into the car he subsequently said he’d not been told where to go - my wife told him to go to Kappara to our daughters school, he asked her where that was and when she explained he told her he didn’t want to go there and told her to get out of the vehicle - then I found out Taxify have charged me for the ride via my credit card !!! \n",
      "\n",
      "I complained via the application (3 times) and received no response. I returned the email (showing the invoice had been charged) referencing my complaint - no response. \n",
      "\n",
      "So effectively they stranded my wife - left my 5 year old daughter at school without pickup (fortunately we got another cab otherwise this complaint would be far worse) -  and charged me for doing so and then refused to speak to me about this incident. I can only assume they believe people will simply be quiet as they effectively take their money and don’t feel the need to offer an explanation of their actions. \n",
      "\n",
      "Disgraceful. A shame to have to resort to this forum as I am sure my chances of a response have just increased..........\n",
      "[-2]\n",
      "4\n",
      "\n",
      "\n",
      "So far majority of the drivers were very kind and professional. However - I had an uncomfortable experience with a Driver who was constantly texting someone while driving me to my hotel from the hospital. This is not only illegal but also very dangerous. I should have never been put through this..... nothing might happen in 999 cases out of 1000, but this could’ve ended up being the ONE case.... \n",
      "Moreover , I wasn’t able to review this driver, which is very unfair. The app should allow its customers to rate drivers for at least 30 minutes after the ride had finished.... the competitors do. \n",
      "Also I’d appreciate to be able to tip the drivers after the ride. Don’t always have cash on me and some deserve to be tipped. \n",
      "\n",
      "Still needs improvements but overall it’s a good service.\n",
      "[0]\n",
      "3\n",
      "\n",
      "\n",
      "I was super happy when Bolt launch as finally there’s fair competition for taxi apps in London. After using it a couple of times I was happy. Until I took a ride from Beckenham to Heathrow I was quoted an estimate of £45-50. But after the ride I noticed that Bolt had charged me £87 instead!!! I contacted customer service and they have been absolutely USELESS!! It’s been 2 weeks and I’m going round in circles with them asking me again what my route was, how much I was charged, sending them bank statements. They have refused to acknowledge the overcharge and not giving refund. If I had known they were going to charge such extortionate price I would have hired a local minicab company or gone with Uber instead! If I had raised such issue with Uber there would be an immediate refund. Watch out for these scammers!\n",
      "[-2]\n",
      "1\n",
      "\n",
      "\n",
      "Twice now I have requested a ride from bolt and the drivers have accepted the ride and started the journey without picking me up at my pick up location. The drivers change the drop off location, either having picked up someone else or because they don’t want to complete the journey. I’m really appalled at the level of help the customer service provide. I contacted the help point to which their solution for the problem was for me to contact the driver myself. They were unable to help cancel the journey on their end and therefore I was charged a fee for a ride I did not complete. This took days to discuss a possible refund as bolt would only issue me discount codes (much lower than the sum of both journeys I once again did not take). Appalled and not happy with this service at all.\n",
      "[-4]\n",
      "1\n",
      "\n",
      "\n",
      "This app helped me a lot when my car broke down. From the beginning was ok with 50% discount, it was really cheap to get anywhere. Drivers were fine but I had many many cancellations because they always got lost and they didn’t wanna go back (my place is not that hard to find, honestly, so I just couldn’t understand why when I’m waiting 6 minutes I have to order another bolt car and wait another 10). Even when I don’t really mind the waiting times and cancellations from drivers, this price estimate drives me really crazy.. It shows 2x less than it actually takes from you. I had 15 minutes trip what showed me from the beginning £9-£10, there was no traffic or any delays and it took from me £18. I would not recommend this app.\n",
      "[0]\n",
      "2\n",
      "\n",
      "\n",
      "Bolt take zero responsibility for the welfare of their passengers and have no morals what so ever.  My journey from Waterloo to Surrey (all south of the river) somehow ended up being a tour of London, at one point the driver took me past Buckingham Palace and to the bottom of the M4 before heading back across the river to the A3 (where the journey started) before heading in the right direction. Not only did this cost me an additional £20 but it also took an additional half an hour. I raised the issue with Bolt and they offered me a £5 coupon for my next journey even after admitting the driver took an “alternative” route. Out of respect for their customers when issues like this arise customers should at absolute minimum be refunded (not given a coupon) the difference between the journeys quoted amount and the amount charged. Don’t waste your time.\n",
      "[1]\n",
      "1\n",
      "\n",
      "\n",
      "When I started using Bolt, I was quite pleased because it was cheaper than Uber and the quality of service was pretty much the same. Unfortunately the past few times I’ve used Bolt, the rate I was charged compared to the rate that shows up when requesting a taxi were quite different. I’ve tried complaining about it and requesting a refund but their customer service is pretty much unhelpful. I was charged £20 more than the estimated rate when I was going home from the airport and the driver did not take an alternative route or make any stops. I’m yet to hear back from their customer service team. Although Uber is more expensive I will be going back to them because at least I know exactly what I’m getting and there are no surprises when I see how much I’ve been charged by the end of the trip.\n",
      "[0]\n",
      "1\n",
      "\n",
      "\n",
      "I tried using Bolt for the first time. I ordered at 17:30 and the waiting time I was given was 10’. After 20’ and after the first driver called to tell me to walk to a convenient location for him, he did not manage to pick me up and cancelled the trip. I then order another car which gives me another 10’ waiting time as the driver was completing a trip nearby. The ETA of the car kept changing in unrealistic times  and varies between 4’-5’ when the car was really at least 10’ away still. As the car was not moving I had to in the end get public passport as I was already half an hour late to where I needed to be due to BOLT. I can see that you have charged my card £3 - please refund this ASAP . The app is useless and for sure will not try to use it again. Thanks.\n",
      "[0]\n",
      "1\n",
      "\n",
      "\n",
      "They have been ok in the past, (early days) \n",
      "They have now found a loop hole within the system. Which allows them to legally cancel. Journeys for customers. Using the excuse of the driver waited. \n",
      "\n",
      "In this case I have a 4 point cctv system which watches all angles of my road, once I received  the swoosh that’s comes through to tell you your driver is outside, I grabbed my things and rushed out the door. \n",
      "\n",
      "Walked towards the driver, who was parked but waiting in the middle of the road. \n",
      "\n",
      "As I approached the car he took a look at what his next 6 mins of company  would look like and hit the gas.  \n",
      "\n",
      "“No worries as we all can’t like everyone” \n",
      "\n",
      "My worry is the fact after being charged £6 for a journey that was priced up for less to add calling to get my money back seemed to be impossible \n",
      "\n",
      "Bolt customer rep gave me all the reasons for why I can’t get my money back and when asked if the drivers have cctv, proof, are the cars tracked by an official tracker to guarantee the driver was where he said he was and apparently they do not.. \n",
      "\n",
      "I CANNOT understand how an organisation who’s funding is from those that they take/ steal from is still running but this is the UK AFTER ALL. \n",
      "\n",
      "Absolutely shocking !!\n",
      "[-3]\n",
      "1\n",
      "\n",
      "\n"
     ]
    },
    {
     "name": "stdout",
     "output_type": "stream",
     "text": [
      "After reading the reviews, it is nice to know I am not the only one in distress with this\n",
      "Bolt!! I’ve used this app twice and it’s safe to say I won’t be using it again. Both times of which, I was suppose to have a promo discount and both times the fair increased between £4 - £5 without my knowledge; until I checked I payment history. Both times I have contacted customer support and was advised that the rate was right and that it would’ve be brought to my attention. It was not! I wouldn’t have ordered the cabs without the promo as the price is higher than uber anyway. When I told the lady I won’t be using their services anymore, she told me that she was sorry to hear this and asked for my feedback - so here it is! Scam artists. As the saying goes ‘stick to what you know’ UBER ALL THE WAY!!!\n",
      "[0]\n",
      "1\n",
      "\n",
      "\n",
      "Now, they give you discounts but there is ALWAYS a sudden “increase fair” so you end up paying more anyway. But the WORST is that 4 out of 5 deivers are cheeky and call you before arriving to ask the destination (even pretending that their app is no working or something) so they can decide if the ride is convenient for them and at the end you waited long till you find a good soul who picked your ride. There should be a way we could flag those drivers, but instead when they cancel your ride (after you waited sometimes even 10 minutes) you don’t even remember their name or number-plate. We should be able to send a review about them too.\n",
      "[0]\n",
      "3\n",
      "\n",
      "\n",
      "It’s so easy to be able to type where you’re going without having to be able to pronounce it, that you can see before the ride how much it will cost and no money has to change hands... I only have to figure out how I can tip the driver after ride completion, of that feature is not a available yet, please put it on the development list. And the only other thing missing is being able to pay with AMEX. I can’t seem to add that card... love it!\n",
      "[2]\n",
      "5\n",
      "\n",
      "\n",
      "I tried Bolt for the first time and was very disappointed. The wait time was 14 minutes, which was fine as I wasn’t in a rush. However, the driver was dropping off another fare and the wait time didn’t decrease. I could see on the map he was going in another direction. Then suddenly the wait time rocketed to 26 minutes. I’d already waited at least 10 and didn’t want to wait any longer so I tried calling the driver to ask him to cancel so I didn’t get charged. No answer. Rang Bolt support. No answer. So I cancelled the trip. I have been charged for the cancellation. I sent a message to ‘Support’ via the app 22 hours ago. No response. I’ll be deleting this app when/IF I ever get my money back. In the meantime, I’ll be complaining until I do.\n",
      "[-1]\n",
      "1\n",
      "\n",
      "\n",
      "I’m absolutely fuminggg!! Basically me and my friend just got out from cheerleading and as the winter gets colder, the sky also darker! So instead of walking in the FREEZING and DARK roads, we ordered a bolt! So we ordered and it said , “we are looking for a driver” for about 20 mins, bear in mind , IT WAS FREEZING , it WAS LIKE THE BLOODY NORTH POLE! Then, they finally ordered us a driver who was about round the corner and we got so happy but no! Tell me why hru CANCELLED ON US?! WHEN IT WAS ROUND THE BLOODY CORNERR!! So we ordered another one and again took us about 20 mins and once again .... IT CANCELLED ON USS! And you’ll never guess what?... IT WAS AROUND THE BLOODY CORNER!!! So after waiting a mass of an hour and a half for multiple cabs, we decided that we would just leave it EVEN THOUGH WE WERE IN THE COLD + IT WAS PITCH BLACK !! But anyway I’ll give you one star because you refunded my friend🙂.\n",
      "[-2]\n",
      "1\n",
      "\n",
      "\n",
      "If you call a taxi and they dont come to the door dont wind the window down when your calling them over cause you have bags. then tell you your rude to open the boot but they dont come out and help you. then take your stuff out the car and tell you to go back to where you come from and you ask them to stop being racists they threaten you with no more cab rides like there aint uber and other regular cabs you can get. \n",
      "\n",
      "or change the fare mid way to more cause the driver wants to take all around the house \n",
      "\n",
      "You companies dont care about no one but yourselves you cant even provide a service your advertising. Taxi is a luxury we actually dont need you. you need us. times are changing people will have enough of this and then where will you be\n",
      "[0]\n",
      "1\n",
      "\n",
      "\n",
      "All in all it’s a very good app. A godsend in areas where no bigger mainstream apps love Uber of FreeNow do not operate for one reason or another. \n",
      "One thing I would like them to fix is the ability to move the pin on the map around freely when setting up pickup. Presently you can move the pin to your destination which is not as helpful as you usually sit in the taxi so can easily tell or point the driver to where you wish to get out. Not sure why setting pickup point is not enabled, but that’s where it is needed the most specially when booking taxi from inside big buildings and malls.\n",
      "[2]\n",
      "4\n",
      "\n",
      "\n",
      "I’ve used this about 10 times the last 2/3 weeks, first time it went to the wrong address ok I let that one go as first time, all other trips fine had no problem, Till booking one this morning. From the same address I always use. I’m Waiting 15 mins. Tells me driver outside I’m Waiting outside no where to be seen. I see him on my map about 5mins away. I call him tell him he’s in the wrong place. He tells me ok hold on, confirm postcode, it’s correct! he huffs at me. hangs up then I get charged 6 pound for a no show. The driver was driving around the block about 4 times! Could tell he didn’t know where he was going. Rather then ring me and ask for directions or help just puts me down as a no show. Not happy. Second time now....\n",
      "[0]\n",
      "1\n",
      "\n",
      "\n",
      "With this app you get no option of whether to wait for the invincible cab or not. As instead of telling you that there are no cabs available, it strings you along by saying they are looking for an available cab without an estimate of waiting time. It went on for over 20 minutes with no updates. I cancelled and retried, same. By this time, I had lost the offer of been dropped off at my appointment by family, and I missed it and was charged for missing it. Uber gives you an estimated wait time. \n",
      "This app also does not allow you state your complaint/s, it just tells you what their answers are to some FAQ which may not address your specific issue. \n",
      "It is terribly frustrating to use for a first time. Shame!\n",
      "[-3]\n",
      "1\n",
      "\n",
      "\n",
      "I’ve used bolt several times and the first time ever they gave me an estimated price and charged me much extra, I had an abusive driver that was threatening other taxi riders and also made me late to the interview. I started a chat through the app and no one has responded to me since. I have also used the app to pay for a taxi ride for my girl, the estimated price was 7.5-9.5 due to the discount off. My girlfriend arrived to the car straight away and was dropped off within the given time stated but yet I was charged £16. I have again started a chat through the app and no one has responded. I’m done with this service would not recommend, uber might be more expensive but they do their best to resolve problems, this service doesn’t do jack!!!\n",
      "[-1]\n",
      "1\n",
      "\n",
      "\n",
      "As a newbie to these taxi-apps, I was a typical horse & cart, old fashioned dial a ride guy. Then came storm Dennis stranding me at work with no trains, no buses, until 2.30 am, after a 12hr shift that ended at 8 pm I finally crossed over to the app-side.\n",
      "Initially, I used a more well-known taxi app, but they were unreliable and far too expensive.\n",
      "Bolt are reliable, reasonable pricing, the app is really easy and straightforward to navigate.\n",
      "I wouldn't of given Bolt five stars, but the app never quite gets my address right. Despite the fact my actual address is in my profile.\n",
      "[0]\n",
      "4\n",
      "\n",
      "\n",
      "Have tried this three times on the recommendation of a friend. First time no problem, but nothing special. Second time wait was so long it wasn’t possible and now on my third try. I waited 10 minutes for car to arrive when it said 5, driver went past me despite me waving at him, he then drove on, despite me calling to ask him to stop, turned back around in to a one way system which saw us repeat the whole first leg of the journey making me late and no apology from the driver. There doesn’t appear to be a knowledge of London roads or navigation, worse than Uber. I won’t even use the rest of my introductory money-off offer as it’s too unreliable.\n",
      "[-1]\n",
      "2\n",
      "\n",
      "\n"
     ]
    },
    {
     "name": "stdout",
     "output_type": "stream",
     "text": [
      "All these cab companies thinking they’re going to get the monopoly with a sub-standard product is laughable.\n",
      "\n",
      "Not impressed. Had endless cancellations. and drivers saying they’ve arrived when they haven’t. Even the cars that do arrive, for some reason say they have when they’re some distance away.\n",
      "\n",
      "Final straw for me was when three cancelled on me while it was chucking it down with rain leaving me waiting for over half an hour. \n",
      "\n",
      "One car was supposedly a minute away. The other apparently had arrived when on the map he was 8 minutes away. The third cancelled and I was left with a spinning wheel saying updating service, or similar.\n",
      "\n",
      "One of the problems is a lot of the drivers have all the cab apps and use them all simultaneously to their advantage. Which in my case meant when it’s pouring with rain and cabs are in demand they’ll use Uber because the surcharge means they’ll get more than from the other cab companies.\n",
      "\n",
      "REPEAT: All these cab companies thinking they’re going to get the monopoly with a sub-standard product is laughable.\n",
      "[-1]\n",
      "1\n",
      "\n",
      "\n"
     ]
    }
   ],
   "source": [
    "for i in range(0, int(len(df2) / 100)):\n",
    "    text_input = df2.review[i]\n",
    "    star_rating = df2.rating[i]\n",
    "    result = senti.getSentiment(text_input)\n",
    "    \n",
    "    print(text_input)\n",
    "    print(result)\n",
    "    print(star_rating)\n",
    "    print('\\n')"
   ]
  },
  {
   "cell_type": "code",
   "execution_count": null,
   "metadata": {},
   "outputs": [],
   "source": []
  }
 ],
 "metadata": {
  "kernelspec": {
   "display_name": "Python 3",
   "language": "python",
   "name": "python3"
  },
  "language_info": {
   "codemirror_mode": {
    "name": "ipython",
    "version": 3
   },
   "file_extension": ".py",
   "mimetype": "text/x-python",
   "name": "python",
   "nbconvert_exporter": "python",
   "pygments_lexer": "ipython3",
   "version": "3.8.5"
  },
  "toc": {
   "base_numbering": 1,
   "nav_menu": {},
   "number_sections": true,
   "sideBar": true,
   "skip_h1_title": false,
   "title_cell": "Table of Contents",
   "title_sidebar": "Contents",
   "toc_cell": false,
   "toc_position": {},
   "toc_section_display": true,
   "toc_window_display": false
  }
 },
 "nbformat": 4,
 "nbformat_minor": 2
}
