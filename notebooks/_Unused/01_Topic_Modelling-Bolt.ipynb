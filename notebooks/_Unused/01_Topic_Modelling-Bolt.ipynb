{
 "cells": [
  {
   "cell_type": "code",
   "execution_count": 2,
   "id": "passive-crossing",
   "metadata": {},
   "outputs": [
    {
     "name": "stderr",
     "output_type": "stream",
     "text": [
      "[nltk_data] Downloading package stopwords to /Users/enlik/nltk_data...\n",
      "[nltk_data]   Package stopwords is already up-to-date!\n"
     ]
    }
   ],
   "source": [
    "from utils import * \n",
    "\n",
    "import numpy as np\n",
    "import pandas as pd\n",
    "from pprint import pprint\n",
    "import os\n",
    "import matplotlib.pyplot as plt\n",
    "from collections import defaultdict\n",
    "\n",
    "# Gensim\n",
    "from gensim.test.utils import datapath\n",
    "from gensim.test.utils import common_texts, get_tmpfile\n",
    "\n",
    "# Plotting tools\n",
    "import pyLDAvis\n",
    "import pyLDAvis.gensim  # don't skip this\n",
    "import matplotlib.pyplot as plt\n",
    "%matplotlib inline\n",
    "\n",
    "pd.set_option('display.max_rows', 500)\n",
    "pd.set_option('display.max_columns', 500)\n",
    "pd.option_context('display.max_colwidth', 500);\n",
    "\n",
    "# Enable logging for gensim - optional\n",
    "import logging\n",
    "logging.basicConfig(format='%(asctime)s : %(levelname)s : %(message)s', level=logging.ERROR)\n",
    "\n",
    "import warnings\n",
    "warnings.filterwarnings(\"ignore\",category=DeprecationWarning)\n",
    "\n",
    "\n",
    "config = get_config('config.yaml')"
   ]
  },
  {
   "cell_type": "code",
   "execution_count": 7,
   "id": "stone-illustration",
   "metadata": {},
   "outputs": [],
   "source": [
    "# setup input and output path\n",
    "input_path = 'preprocessed_data/bolt/'\n",
    "output_path = 'std_lda_vis/bolt/'\n",
    "\n",
    "# Import dataset\n",
    "df = pd.read_csv(input_path + 'bolt_apple_google.csv', index_col=0)\n",
    "reviews = df['0']"
   ]
  },
  {
   "cell_type": "code",
   "execution_count": 8,
   "id": "regulation-purse",
   "metadata": {},
   "outputs": [],
   "source": [
    "term_doc = pd.read_pickle(input_path + 'term_doc.pkl')\n",
    "data_lemmatized = pd.read_pickle(input_path + 'data_lemmatized.pkl')\n",
    "dictionary = pd.read_pickle(input_path + 'dictionary.pkl')\n",
    "tf_idf = pd.read_pickle(input_path + 'tf_idf.pkl')"
   ]
  },
  {
   "cell_type": "code",
   "execution_count": 9,
   "id": "unique-beauty",
   "metadata": {},
   "outputs": [],
   "source": [
    "lda_model = gensim.models.ldamodel.LdaModel(corpus=term_doc,\n",
    "                                           id2word=dictionary,\n",
    "                                           num_topics= 6, \n",
    "                                           random_state=100,\n",
    "                                           update_every=1,\n",
    "                                           chunksize=2000,\n",
    "                                           passes=10,\n",
    "                                           alpha= 1.5,\n",
    "                                           per_word_topics=True)"
   ]
  },
  {
   "cell_type": "code",
   "execution_count": 11,
   "id": "blessed-potato",
   "metadata": {},
   "outputs": [],
   "source": [
    "vis_data = pyLDAvis.gensim.prepare(lda_model, term_doc, dictionary, sort_topics=False)\n",
    "pyLDAvis.save_html(vis_data, output_path + 'std_lda_topics=6&a=1.5&batchsize=1.html')"
   ]
  },
  {
   "cell_type": "code",
   "execution_count": 12,
   "id": "permanent-dependence",
   "metadata": {},
   "outputs": [],
   "source": [
    "lda_model_100 = gensim.models.ldamodel.LdaModel(corpus=term_doc,\n",
    "                                           id2word=dictionary,\n",
    "                                           num_topics= 15, \n",
    "                                           random_state=100,\n",
    "                                           update_every=100,\n",
    "                                           chunksize=2000,\n",
    "                                           passes=10,\n",
    "                                           alpha= 1.5,\n",
    "                                           per_word_topics=True)\n",
    "\n",
    "vis_data = pyLDAvis.gensim.prepare(lda_model_100, term_doc, dictionary, sort_topics=False)\n",
    "pyLDAvis.save_html(vis_data, output_path + 'std_lda_topics=15&a=1.5&batchsize=100.html')"
   ]
  },
  {
   "cell_type": "code",
   "execution_count": null,
   "id": "younger-syndication",
   "metadata": {},
   "outputs": [],
   "source": []
  }
 ],
 "metadata": {
  "kernelspec": {
   "display_name": "Python 3 (ipykernel)",
   "language": "python",
   "name": "python3"
  },
  "language_info": {
   "codemirror_mode": {
    "name": "ipython",
    "version": 3
   },
   "file_extension": ".py",
   "mimetype": "text/x-python",
   "name": "python",
   "nbconvert_exporter": "python",
   "pygments_lexer": "ipython3",
   "version": "3.8.5"
  },
  "toc": {
   "base_numbering": 1,
   "nav_menu": {},
   "number_sections": true,
   "sideBar": true,
   "skip_h1_title": false,
   "title_cell": "Table of Contents",
   "title_sidebar": "Contents",
   "toc_cell": false,
   "toc_position": {},
   "toc_section_display": true,
   "toc_window_display": false
  }
 },
 "nbformat": 4,
 "nbformat_minor": 5
}
