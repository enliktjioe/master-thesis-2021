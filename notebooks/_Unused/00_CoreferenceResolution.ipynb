{
 "cells": [
  {
   "cell_type": "markdown",
   "id": "solar-discharge",
   "metadata": {},
   "source": [
    "# References\n",
    "\n",
    "- https://github.com/huggingface/neuralcoref\n",
    "- https://github.com/huggingface/neuralcoref#install-neuralcoref-from-source"
   ]
  },
  {
   "cell_type": "code",
   "execution_count": 1,
   "id": "naval-begin",
   "metadata": {},
   "outputs": [
    {
     "name": "stderr",
     "output_type": "stream",
     "text": [
      "INFO:neuralcoref:Loading model from C:\\Users\\enlik\\.neuralcoref_cache\\neuralcoref\n"
     ]
    }
   ],
   "source": [
    "import logging;\n",
    "logging.basicConfig(level=logging.INFO)\n",
    "import neuralcoref"
   ]
  },
  {
   "cell_type": "code",
   "execution_count": 13,
   "id": "human-frank",
   "metadata": {},
   "outputs": [],
   "source": [
    "# Load your usual SpaCy model (one of SpaCy English models)\n",
    "import spacy\n",
    "nlp = spacy.load('en')\n",
    "# nlp = spacy.load(\"en_core_web_sm\")\n",
    "\n",
    "# Add neural coref to SpaCy's pipe\n",
    "import neuralcoref\n",
    "neuralcoref.add_to_pipe(nlp)\n",
    "\n",
    "# You're done. You can now use NeuralCoref as you usually manipulate a SpaCy document annotations.\n",
    "doc = nlp(u'My sister has a dog. She loves him.')"
   ]
  },
  {
   "cell_type": "code",
   "execution_count": 14,
   "id": "sporting-morris",
   "metadata": {},
   "outputs": [
    {
     "data": {
      "text/plain": [
       "True"
      ]
     },
     "execution_count": 14,
     "metadata": {},
     "output_type": "execute_result"
    }
   ],
   "source": [
    "doc._.has_coref"
   ]
  },
  {
   "cell_type": "code",
   "execution_count": 15,
   "id": "higher-silly",
   "metadata": {},
   "outputs": [
    {
     "data": {
      "text/plain": [
       "[My sister: [My sister, She], a dog: [a dog, him]]"
      ]
     },
     "execution_count": 15,
     "metadata": {},
     "output_type": "execute_result"
    }
   ],
   "source": [
    "doc._.coref_clusters"
   ]
  },
  {
   "cell_type": "code",
   "execution_count": 17,
   "id": "steady-regular",
   "metadata": {},
   "outputs": [
    {
     "data": {
      "text/plain": [
       "'My sister has a dog. My sister loves a dog.'"
      ]
     },
     "execution_count": 17,
     "metadata": {},
     "output_type": "execute_result"
    }
   ],
   "source": [
    "doc._.coref_resolved"
   ]
  },
  {
   "cell_type": "code",
   "execution_count": 34,
   "id": "formed-vermont",
   "metadata": {},
   "outputs": [
    {
     "name": "stdout",
     "output_type": "stream",
     "text": [
      "[Deepika: [Deepika, She, him, The movie star]]\n",
      "Deepika has a dog. Deepika loves Deepika. Deepika has always been fond of animals\n"
     ]
    }
   ],
   "source": [
    "import spacy\n",
    "import neuralcoref\n",
    "\n",
    "nlp = spacy.load('en')\n",
    "\n",
    "# Let's try before using the conversion dictionary:\n",
    "neuralcoref.add_to_pipe(nlp)\n",
    "doc = nlp(u'Deepika has a dog. She loves him. The movie star has always been fond of animals')\n",
    "print(doc._.coref_clusters)\n",
    "print(doc._.coref_resolved)\n",
    "# >>> [Deepika: [Deepika, She, him, The movie star]]\n",
    "# >>> 'Deepika has a dog. Deepika loves Deepika. Deepika has always been fond of animals'\n"
   ]
  },
  {
   "cell_type": "code",
   "execution_count": 36,
   "id": "proud-flour",
   "metadata": {},
   "outputs": [
    {
     "name": "stdout",
     "output_type": "stream",
     "text": [
      "[Deepika: [Deepika, She, The movie star], a dog: [a dog, him]]\n",
      "Deepika has a dog. Deepika loves a dog. Deepika has always been fond of animals\n"
     ]
    }
   ],
   "source": [
    "# Here are three ways we can add the conversion dictionary\n",
    "nlp.remove_pipe(\"neuralcoref\")\n",
    "neuralcoref.add_to_pipe(nlp, conv_dict={'Deepika': ['woman', 'actress']})\n",
    "# or\n",
    "nlp.remove_pipe(\"neuralcoref\")\n",
    "coref = neuralcoref.NeuralCoref(nlp.vocab, conv_dict={'Deepika': ['woman', 'actress']})\n",
    "nlp.add_pipe(coref, name='neuralcoref')\n",
    "# or after NeuralCoref is already in SpaCy's pipe, by modifying NeuralCoref in the pipeline\n",
    "nlp.get_pipe('neuralcoref').set_conv_dict({'Deepika': ['woman', 'actress']})\n",
    "\n",
    "# Let's try agin with the conversion dictionary:\n",
    "doc = nlp(u'Deepika has a dog. She loves him. The movie star has always been fond of animals')\n",
    "print(doc._.coref_clusters)\n",
    "print(doc._.coref_resolved)\n",
    "# >>> [Deepika: [Deepika, She, The movie star], a dog: [a dog, him]]\n",
    "# >>> 'Deepika has a dog. Deepika loves a dog. Deepika has always been fond of animals'\n",
    "# >>> A lot better!"
   ]
  },
  {
   "cell_type": "code",
   "execution_count": null,
   "id": "varied-piano",
   "metadata": {},
   "outputs": [],
   "source": []
  }
 ],
 "metadata": {
  "kernelspec": {
   "display_name": "Python 3",
   "language": "python",
   "name": "python3"
  },
  "language_info": {
   "codemirror_mode": {
    "name": "ipython",
    "version": 3
   },
   "file_extension": ".py",
   "mimetype": "text/x-python",
   "name": "python",
   "nbconvert_exporter": "python",
   "pygments_lexer": "ipython3",
   "version": "3.8.5"
  },
  "toc": {
   "base_numbering": 1,
   "nav_menu": {},
   "number_sections": true,
   "sideBar": true,
   "skip_h1_title": false,
   "title_cell": "Table of Contents",
   "title_sidebar": "Contents",
   "toc_cell": false,
   "toc_position": {},
   "toc_section_display": true,
   "toc_window_display": false
  }
 },
 "nbformat": 4,
 "nbformat_minor": 5
}
