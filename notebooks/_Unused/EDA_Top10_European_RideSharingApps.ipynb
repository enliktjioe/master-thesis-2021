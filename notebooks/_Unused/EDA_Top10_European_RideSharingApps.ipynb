{
 "cells": [
  {
   "cell_type": "markdown",
   "id": "66ab4743",
   "metadata": {},
   "source": [
    "# References\n",
    "\n",
    "- [Pandas: How to read CSV file from google drive public?](https://stackoverflow.com/a/56611995/2670476)"
   ]
  },
  {
   "cell_type": "code",
   "execution_count": 1,
   "id": "fb7245b9",
   "metadata": {},
   "outputs": [],
   "source": [
    "import pandas as pd\n",
    "import yaml\n",
    "import re\n",
    "\n",
    "from langdetect import detect_langs, DetectorFactory\n",
    "\n",
    "# https://pypi.org/project/langdetect/\n",
    "# Language detection algorithm is non-deterministic, which means that if you try to run it on a text which is either too short or too ambiguous, you might get different results everytime you run it.\n",
    "# To enforce consistent results, call following code before the first language detection:\n",
    "DetectorFactory.seed = 0"
   ]
  },
  {
   "cell_type": "code",
   "execution_count": 2,
   "id": "bc1c2397",
   "metadata": {},
   "outputs": [],
   "source": [
    "config_file = open('config.yaml')\n",
    "config = yaml.load(config_file, Loader=yaml.FullLoader)"
   ]
  },
  {
   "cell_type": "code",
   "execution_count": 3,
   "id": "4fab1986",
   "metadata": {},
   "outputs": [],
   "source": [
    "def read_csv_from_gdrive(csvInput, columnToUsed = None):\n",
    "    url='https://drive.google.com/uc?id=' + csvInput.split('/')[-2]\n",
    "    df = pd.read_csv(url, usecols=columnToUsed, index_col=0)\n",
    "    return df"
   ]
  },
  {
   "cell_type": "code",
   "execution_count": 4,
   "id": "acbf58f7",
   "metadata": {},
   "outputs": [],
   "source": [
    "def isEnglishReview(textInput):\n",
    "#     print(textInput)\n",
    "    \n",
    "    a = detect_langs(textInput)\n",
    "    listToStr = ','.join(map(str, a))\n",
    "#     print(listToStr)\n",
    "    \n",
    "#     check after and before string\n",
    "#     https://stackoverflow.com/questions/12572362/how-to-get-a-string-after-a-specific-substring\n",
    "#     https://stackoverflow.com/questions/27387415/how-would-i-get-everything-before-a-in-a-string-python\n",
    "    try:\n",
    "        english_score = float((listToStr.partition('en:')[2]).partition(',')[0])\n",
    "    except ValueError:\n",
    "        english_score = 0\n",
    "        \n",
    "#     print(english_score)\n",
    "    \n",
    "    if english_score > 0.1:\n",
    "#         print('English')\n",
    "        isEnglish = True\n",
    "    else:\n",
    "#         print('Non-English')\n",
    "        isEnglish = False\n",
    "    \n",
    "    return isEnglish, listToStr, english_score"
   ]
  },
  {
   "cell_type": "markdown",
   "id": "33a2cdd6",
   "metadata": {},
   "source": [
    "# Exploratory Data Analysis"
   ]
  },
  {
   "cell_type": "markdown",
   "id": "88ee2d85",
   "metadata": {},
   "source": [
    "## Bolt"
   ]
  },
  {
   "cell_type": "markdown",
   "id": "ccf06d97",
   "metadata": {},
   "source": [
    "### Google Play Store"
   ]
  },
  {
   "cell_type": "code",
   "execution_count": 5,
   "id": "e88b8bda",
   "metadata": {
    "scrolled": true
   },
   "outputs": [
    {
     "name": "stdout",
     "output_type": "stream",
     "text": [
      "Total English reviews: 51907 \n",
      "\n",
      "Total unique users : 46872\n",
      "Total unknown users: 4780\n",
      "Total users who gave multiple reviews: 255\n",
      "\n",
      "Average rating for this app based on the textual reviews: 3.96 \n",
      "\n"
     ]
    }
   ],
   "source": [
    "df = read_csv_from_gdrive(config['csv_input']['bolt_google'])\n",
    "total_reviews = len(df)\n",
    "unique_users  = len(df['userName'].unique())\n",
    "unknown_users = len(df[df['userName']=='A Google user'])\n",
    "mean = df['score'].mean()\n",
    "\n",
    "print(f'Total English reviews: {total_reviews} \\n')\n",
    "print(f'Total unique users : {unique_users}')\n",
    "print(f'Total unknown users: {unknown_users}')\n",
    "print(f'Total users who gave multiple reviews: {total_reviews - unique_users - unknown_users}\\n')\n",
    "print(f'Average rating for this app based on the textual reviews: {round(mean,2)} \\n')"
   ]
  },
  {
   "cell_type": "markdown",
   "id": "b3c8f03c",
   "metadata": {},
   "source": [
    "### Apple App Store"
   ]
  },
  {
   "cell_type": "code",
   "execution_count": 6,
   "id": "769be8f1",
   "metadata": {
    "scrolled": true
   },
   "outputs": [
    {
     "name": "stdout",
     "output_type": "stream",
     "text": [
      "Total English reviews: 3154 \n",
      "\n",
      "Total unique users : 3149\n",
      "Total users who gave multiple reviews: 5\n",
      "\n",
      "Average rating for this app based on the textual reviews: 3.02 \n",
      "\n"
     ]
    }
   ],
   "source": [
    "df = read_csv_from_gdrive(config['csv_input']['bolt_apple'])\n",
    "total_reviews = len(df)\n",
    "unique_users  = len(df['userName'].unique())\n",
    "mean = df['rating'].mean()\n",
    "\n",
    "print(f'Total English reviews: {total_reviews} \\n')\n",
    "print(f'Total unique users : {unique_users}')\n",
    "print(f'Total users who gave multiple reviews: {total_reviews - unique_users}\\n')\n",
    "print(f'Average rating for this app based on the textual reviews: {round(mean,2)} \\n')"
   ]
  },
  {
   "cell_type": "markdown",
   "id": "8f1c0402",
   "metadata": {},
   "source": [
    "## Uber"
   ]
  },
  {
   "cell_type": "markdown",
   "id": "da9ca113",
   "metadata": {},
   "source": [
    "### Google Play Store"
   ]
  },
  {
   "cell_type": "code",
   "execution_count": 7,
   "id": "6715f056",
   "metadata": {
    "scrolled": true
   },
   "outputs": [
    {
     "name": "stdout",
     "output_type": "stream",
     "text": [
      "Total English reviews: 10000 \n",
      "\n",
      "Total unique users : 9911\n",
      "Total unknown users: 26\n",
      "Total users who gave multiple reviews: 63\n",
      "\n",
      "Average rating for this app based on the textual reviews: 3.3 \n",
      "\n"
     ]
    }
   ],
   "source": [
    "df = read_csv_from_gdrive(config['csv_input']['uber_google'])\n",
    "total_reviews = len(df)\n",
    "unique_users  = len(df['userName'].unique())\n",
    "unknown_users = len(df[df['userName']=='A Google user'])\n",
    "mean = df['score'].mean()\n",
    "\n",
    "print(f'Total English reviews: {total_reviews} \\n')\n",
    "print(f'Total unique users : {unique_users}')\n",
    "print(f'Total unknown users: {unknown_users}')\n",
    "print(f'Total users who gave multiple reviews: {total_reviews - unique_users - unknown_users}\\n')\n",
    "print(f'Average rating for this app based on the textual reviews: {round(mean,2)} \\n')"
   ]
  },
  {
   "cell_type": "markdown",
   "id": "22e3bca5",
   "metadata": {},
   "source": [
    "### Apple App Store"
   ]
  },
  {
   "cell_type": "code",
   "execution_count": 8,
   "id": "5ec1fe46",
   "metadata": {
    "scrolled": true
   },
   "outputs": [
    {
     "name": "stdout",
     "output_type": "stream",
     "text": [
      "Total English reviews: 10342 \n",
      "\n",
      "Total unique users : 10314\n",
      "Total users who gave multiple reviews: 28\n",
      "\n",
      "Average rating for this app based on the textual reviews: 2.96 \n",
      "\n"
     ]
    }
   ],
   "source": [
    "df = read_csv_from_gdrive(config['csv_input']['uber_apple'])\n",
    "total_reviews = len(df)\n",
    "unique_users  = len(df['userName'].unique())\n",
    "mean = df['rating'].mean()\n",
    "\n",
    "print(f'Total English reviews: {total_reviews} \\n')\n",
    "print(f'Total unique users : {unique_users}')\n",
    "print(f'Total users who gave multiple reviews: {total_reviews - unique_users}\\n')\n",
    "print(f'Average rating for this app based on the textual reviews: {round(mean,2)} \\n')"
   ]
  },
  {
   "cell_type": "markdown",
   "id": "7665b42c",
   "metadata": {},
   "source": [
    "## Blablacar"
   ]
  },
  {
   "cell_type": "markdown",
   "id": "c853b093",
   "metadata": {},
   "source": [
    "### Google Play Store"
   ]
  },
  {
   "cell_type": "code",
   "execution_count": 9,
   "id": "8bf95f84",
   "metadata": {
    "scrolled": true
   },
   "outputs": [
    {
     "name": "stdout",
     "output_type": "stream",
     "text": [
      "Total English reviews: 21172 \n",
      "\n",
      "Total unique users : 19452\n",
      "Total unknown users: 874\n",
      "Total users who gave multiple reviews: 846\n",
      "\n",
      "Average rating for this app based on the textual reviews: 4.3 \n",
      "\n"
     ]
    }
   ],
   "source": [
    "df = read_csv_from_gdrive(config['csv_input']['blablacar_google'])\n",
    "total_reviews = len(df)\n",
    "unique_users  = len(df['userName'].unique())\n",
    "unknown_users = len(df[df['userName']=='A Google user'])\n",
    "mean = df['score'].mean()\n",
    "\n",
    "print(f'Total English reviews: {total_reviews} \\n')\n",
    "print(f'Total unique users : {unique_users}')\n",
    "print(f'Total unknown users: {unknown_users}')\n",
    "print(f'Total users who gave multiple reviews: {total_reviews - unique_users - unknown_users}\\n')\n",
    "print(f'Average rating for this app based on the textual reviews: {round(mean,2)} \\n')"
   ]
  },
  {
   "cell_type": "markdown",
   "id": "ecb3a8c4",
   "metadata": {},
   "source": [
    "### Apple App Store"
   ]
  },
  {
   "cell_type": "code",
   "execution_count": 10,
   "id": "18e13f58",
   "metadata": {
    "scrolled": true
   },
   "outputs": [
    {
     "name": "stdout",
     "output_type": "stream",
     "text": [
      "Total English reviews: 23308 \n",
      "\n",
      "Total unique users : 23243\n",
      "Total users who gave multiple reviews: 65\n",
      "\n",
      "Average rating for this app based on the textual reviews: 4.13 \n",
      "\n"
     ]
    }
   ],
   "source": [
    "df = read_csv_from_gdrive(config['csv_input']['blablacar_apple'])\n",
    "total_reviews = len(df)\n",
    "unique_users  = len(df['userName'].unique())\n",
    "mean = df['rating'].mean()\n",
    "\n",
    "print(f'Total English reviews: {total_reviews} \\n')\n",
    "print(f'Total unique users : {unique_users}')\n",
    "print(f'Total users who gave multiple reviews: {total_reviews - unique_users}\\n')\n",
    "print(f'Average rating for this app based on the textual reviews: {round(mean,2)} \\n')"
   ]
  },
  {
   "cell_type": "markdown",
   "id": "dd737cbc",
   "metadata": {},
   "source": [
    "## Cabify"
   ]
  },
  {
   "cell_type": "markdown",
   "id": "7d7e7024",
   "metadata": {},
   "source": [
    "### Google Play Store"
   ]
  },
  {
   "cell_type": "code",
   "execution_count": 11,
   "id": "c735eb4a",
   "metadata": {
    "scrolled": true
   },
   "outputs": [
    {
     "name": "stdout",
     "output_type": "stream",
     "text": [
      "Total English reviews: 3261 \n",
      "\n",
      "Total unique users : 3047\n",
      "Total unknown users: 204\n",
      "Total users who gave multiple reviews: 10\n",
      "\n",
      "Average rating for this app based on the textual reviews: 2.6 \n",
      "\n"
     ]
    }
   ],
   "source": [
    "df = read_csv_from_gdrive(config['csv_input']['cabify_google'])\n",
    "total_reviews = len(df)\n",
    "unique_users  = len(df['userName'].unique())\n",
    "unknown_users = len(df[df['userName']=='A Google user'])\n",
    "mean = df['score'].mean()\n",
    "\n",
    "print(f'Total English reviews: {total_reviews} \\n')\n",
    "print(f'Total unique users : {unique_users}')\n",
    "print(f'Total unknown users: {unknown_users}')\n",
    "print(f'Total users who gave multiple reviews: {total_reviews - unique_users - unknown_users}\\n')\n",
    "print(f'Average rating for this app based on the textual reviews: {round(mean,2)} \\n')"
   ]
  },
  {
   "cell_type": "markdown",
   "id": "318285f7",
   "metadata": {},
   "source": [
    "### Apple App Store"
   ]
  },
  {
   "cell_type": "code",
   "execution_count": 12,
   "id": "98067772",
   "metadata": {
    "scrolled": true
   },
   "outputs": [
    {
     "name": "stdout",
     "output_type": "stream",
     "text": [
      "Total English reviews: 7384 \n",
      "\n",
      "Total unique users : 7373\n",
      "Total users who gave multiple reviews: 11\n",
      "\n",
      "Average rating for this app based on the textual reviews: 4.19 \n",
      "\n"
     ]
    }
   ],
   "source": [
    "df = read_csv_from_gdrive(config['csv_input']['cabify_apple'])\n",
    "total_reviews = len(df)\n",
    "unique_users  = len(df['userName'].unique())\n",
    "mean = df['rating'].mean()\n",
    "\n",
    "print(f'Total English reviews: {total_reviews} \\n')\n",
    "print(f'Total unique users : {unique_users}')\n",
    "print(f'Total users who gave multiple reviews: {total_reviews - unique_users}\\n')\n",
    "print(f'Average rating for this app based on the textual reviews: {round(mean,2)} \\n')"
   ]
  },
  {
   "cell_type": "markdown",
   "id": "b0e0e015",
   "metadata": {},
   "source": [
    "## Via"
   ]
  },
  {
   "cell_type": "markdown",
   "id": "d25f5c92",
   "metadata": {},
   "source": [
    "### Google Play Store"
   ]
  },
  {
   "cell_type": "code",
   "execution_count": 13,
   "id": "6d25909d",
   "metadata": {
    "scrolled": true
   },
   "outputs": [
    {
     "name": "stdout",
     "output_type": "stream",
     "text": [
      "Total English reviews: 1873 \n",
      "\n",
      "Total unique users : 1756\n",
      "Total unknown users: 110\n",
      "Total users who gave multiple reviews: 7\n",
      "\n",
      "Average rating for this app based on the textual reviews: 3.6 \n",
      "\n"
     ]
    }
   ],
   "source": [
    "df = read_csv_from_gdrive(config['csv_input']['via_google'])\n",
    "total_reviews = len(df)\n",
    "unique_users  = len(df['userName'].unique())\n",
    "unknown_users = len(df[df['userName']=='A Google user'])\n",
    "mean = df['score'].mean()\n",
    "\n",
    "print(f'Total English reviews: {total_reviews} \\n')\n",
    "print(f'Total unique users : {unique_users}')\n",
    "print(f'Total unknown users: {unknown_users}')\n",
    "print(f'Total users who gave multiple reviews: {total_reviews - unique_users - unknown_users}\\n')\n",
    "print(f'Average rating for this app based on the textual reviews: {round(mean,2)} \\n')"
   ]
  },
  {
   "cell_type": "markdown",
   "id": "1d589ce4",
   "metadata": {},
   "source": [
    "### Apple App Store"
   ]
  },
  {
   "cell_type": "code",
   "execution_count": 14,
   "id": "a42c6f8f",
   "metadata": {
    "scrolled": true
   },
   "outputs": [
    {
     "name": "stdout",
     "output_type": "stream",
     "text": [
      "Total English reviews: 2392 \n",
      "\n",
      "Total unique users : 2389\n",
      "Total users who gave multiple reviews: 3\n",
      "\n",
      "Average rating for this app based on the textual reviews: 3.65 \n",
      "\n"
     ]
    }
   ],
   "source": [
    "df = read_csv_from_gdrive(config['csv_input']['via_apple'])\n",
    "total_reviews = len(df)\n",
    "unique_users  = len(df['userName'].unique())\n",
    "mean = df['rating'].mean()\n",
    "\n",
    "print(f'Total English reviews: {total_reviews} \\n')\n",
    "print(f'Total unique users : {unique_users}')\n",
    "print(f'Total users who gave multiple reviews: {total_reviews - unique_users}\\n')\n",
    "print(f'Average rating for this app based on the textual reviews: {round(mean,2)} \\n')"
   ]
  },
  {
   "cell_type": "markdown",
   "id": "a49c7b99",
   "metadata": {},
   "source": [
    "## Getaround"
   ]
  },
  {
   "cell_type": "markdown",
   "id": "35e687fa",
   "metadata": {},
   "source": [
    "### Google Play Store"
   ]
  },
  {
   "cell_type": "code",
   "execution_count": 15,
   "id": "dfd9987c",
   "metadata": {
    "scrolled": true
   },
   "outputs": [
    {
     "name": "stdout",
     "output_type": "stream",
     "text": [
      "Total English reviews: 731 \n",
      "\n",
      "Total unique users : 701\n",
      "Total unknown users: 31\n",
      "Total users who gave multiple reviews: -1\n",
      "\n",
      "Average rating for this app based on the textual reviews: 3.46 \n",
      "\n"
     ]
    }
   ],
   "source": [
    "df = read_csv_from_gdrive(config['csv_input']['getaround_google'])\n",
    "total_reviews = len(df)\n",
    "unique_users  = len(df['userName'].unique())\n",
    "unknown_users = len(df[df['userName']=='A Google user'])\n",
    "mean = df['score'].mean()\n",
    "\n",
    "print(f'Total English reviews: {total_reviews} \\n')\n",
    "print(f'Total unique users : {unique_users}')\n",
    "print(f'Total unknown users: {unknown_users}')\n",
    "print(f'Total users who gave multiple reviews: {total_reviews - unique_users - unknown_users}\\n')\n",
    "print(f'Average rating for this app based on the textual reviews: {round(mean,2)} \\n')"
   ]
  },
  {
   "cell_type": "markdown",
   "id": "90f794da",
   "metadata": {},
   "source": [
    "### Apple App Store"
   ]
  },
  {
   "cell_type": "code",
   "execution_count": 16,
   "id": "520e9845",
   "metadata": {
    "scrolled": true
   },
   "outputs": [
    {
     "name": "stdout",
     "output_type": "stream",
     "text": [
      "Total English reviews: 2488 \n",
      "\n",
      "Total unique users : 2482\n",
      "Total users who gave multiple reviews: 6\n",
      "\n",
      "Average rating for this app based on the textual reviews: 3.25 \n",
      "\n"
     ]
    }
   ],
   "source": [
    "df = read_csv_from_gdrive(config['csv_input']['getaround_apple'])\n",
    "total_reviews = len(df)\n",
    "unique_users  = len(df['userName'].unique())\n",
    "mean = df['rating'].mean()\n",
    "\n",
    "print(f'Total English reviews: {total_reviews} \\n')\n",
    "print(f'Total unique users : {unique_users}')\n",
    "print(f'Total users who gave multiple reviews: {total_reviews - unique_users}\\n')\n",
    "print(f'Average rating for this app based on the textual reviews: {round(mean,2)} \\n')"
   ]
  },
  {
   "cell_type": "markdown",
   "id": "9c5ec17c",
   "metadata": {},
   "source": [
    "## Ola Cabs"
   ]
  },
  {
   "cell_type": "markdown",
   "id": "f3d0cd9d",
   "metadata": {},
   "source": [
    "### Google Play Store"
   ]
  },
  {
   "cell_type": "code",
   "execution_count": 17,
   "id": "e18b053f",
   "metadata": {
    "scrolled": true
   },
   "outputs": [
    {
     "name": "stdout",
     "output_type": "stream",
     "text": [
      "Total English reviews: 10000 \n",
      "\n",
      "Total unique users : 9470\n",
      "Total unknown users: 354\n",
      "Total users who gave multiple reviews: 176\n",
      "\n",
      "Average rating for this app based on the textual reviews: 1.54 \n",
      "\n"
     ]
    }
   ],
   "source": [
    "df = read_csv_from_gdrive(config['csv_input']['olacabs_google'])\n",
    "total_reviews = len(df)\n",
    "unique_users  = len(df['userName'].unique())\n",
    "unknown_users = len(df[df['userName']=='A Google user'])\n",
    "mean = df['score'].mean()\n",
    "\n",
    "print(f'Total English reviews: {total_reviews} \\n')\n",
    "print(f'Total unique users : {unique_users}')\n",
    "print(f'Total unknown users: {unknown_users}')\n",
    "print(f'Total users who gave multiple reviews: {total_reviews - unique_users - unknown_users}\\n')\n",
    "print(f'Average rating for this app based on the textual reviews: {round(mean,2)} \\n')"
   ]
  },
  {
   "cell_type": "markdown",
   "id": "b957c7d8",
   "metadata": {},
   "source": [
    "### Apple App Store"
   ]
  },
  {
   "cell_type": "code",
   "execution_count": 18,
   "id": "1e39d040",
   "metadata": {
    "scrolled": true
   },
   "outputs": [
    {
     "name": "stdout",
     "output_type": "stream",
     "text": [
      "Total English reviews: 922 \n",
      "\n",
      "Total unique users : 922\n",
      "Total users who gave multiple reviews: 0\n",
      "\n",
      "Average rating for this app based on the textual reviews: 2.19 \n",
      "\n"
     ]
    }
   ],
   "source": [
    "df = read_csv_from_gdrive(config['csv_input']['olacabs_apple'])\n",
    "total_reviews = len(df)\n",
    "unique_users  = len(df['userName'].unique())\n",
    "mean = df['rating'].mean()\n",
    "\n",
    "print(f'Total English reviews: {total_reviews} \\n')\n",
    "print(f'Total unique users : {unique_users}')\n",
    "print(f'Total users who gave multiple reviews: {total_reviews - unique_users}\\n')\n",
    "print(f'Average rating for this app based on the textual reviews: {round(mean,2)} \\n')"
   ]
  },
  {
   "cell_type": "markdown",
   "id": "328832ee",
   "metadata": {},
   "source": [
    "## Taxi.eu"
   ]
  },
  {
   "cell_type": "markdown",
   "id": "dd40a20e",
   "metadata": {},
   "source": [
    "### Google Play Store"
   ]
  },
  {
   "cell_type": "code",
   "execution_count": 19,
   "id": "1239dd1b",
   "metadata": {
    "scrolled": true
   },
   "outputs": [
    {
     "name": "stdout",
     "output_type": "stream",
     "text": [
      "Total English reviews: 211 \n",
      "\n",
      "Total unique users : 193\n",
      "Total unknown users: 19\n",
      "Total users who gave multiple reviews: -1\n",
      "\n",
      "Average rating for this app based on the textual reviews: 2.8 \n",
      "\n"
     ]
    }
   ],
   "source": [
    "df = read_csv_from_gdrive(config['csv_input']['taxieu_google'])\n",
    "total_reviews = len(df)\n",
    "unique_users  = len(df['userName'].unique())\n",
    "unknown_users = len(df[df['userName']=='A Google user'])\n",
    "mean = df['score'].mean()\n",
    "\n",
    "print(f'Total English reviews: {total_reviews} \\n')\n",
    "print(f'Total unique users : {unique_users}')\n",
    "print(f'Total unknown users: {unknown_users}')\n",
    "print(f'Total users who gave multiple reviews: {total_reviews - unique_users - unknown_users}\\n')\n",
    "print(f'Average rating for this app based on the textual reviews: {round(mean,2)} \\n')"
   ]
  },
  {
   "cell_type": "markdown",
   "id": "ad149c7d",
   "metadata": {},
   "source": [
    "### Apple App Store"
   ]
  },
  {
   "cell_type": "code",
   "execution_count": 20,
   "id": "43a74fe9",
   "metadata": {
    "scrolled": true
   },
   "outputs": [
    {
     "name": "stdout",
     "output_type": "stream",
     "text": [
      "Total English reviews: 564 \n",
      "\n",
      "Total unique users : 561\n",
      "Total users who gave multiple reviews: 3\n",
      "\n",
      "Average rating for this app based on the textual reviews: 3.52 \n",
      "\n"
     ]
    }
   ],
   "source": [
    "df = read_csv_from_gdrive(config['csv_input']['taxieu_apple'])\n",
    "total_reviews = len(df)\n",
    "unique_users  = len(df['userName'].unique())\n",
    "mean = df['rating'].mean()\n",
    "\n",
    "print(f'Total English reviews: {total_reviews} \\n')\n",
    "print(f'Total unique users : {unique_users}')\n",
    "print(f'Total users who gave multiple reviews: {total_reviews - unique_users}\\n')\n",
    "print(f'Average rating for this app based on the textual reviews: {round(mean,2)} \\n')"
   ]
  },
  {
   "cell_type": "markdown",
   "id": "4f27f175",
   "metadata": {},
   "source": [
    "## Free Now"
   ]
  },
  {
   "cell_type": "markdown",
   "id": "ef690d80",
   "metadata": {},
   "source": [
    "### Google Play Store"
   ]
  },
  {
   "cell_type": "code",
   "execution_count": 21,
   "id": "a6867d24",
   "metadata": {
    "scrolled": true
   },
   "outputs": [
    {
     "name": "stdout",
     "output_type": "stream",
     "text": [
      "Total English reviews: 11078 \n",
      "\n",
      "Total unique users : 10245\n",
      "Total unknown users: 758\n",
      "Total users who gave multiple reviews: 75\n",
      "\n",
      "Average rating for this app based on the textual reviews: 3.24 \n",
      "\n"
     ]
    }
   ],
   "source": [
    "df = read_csv_from_gdrive(config['csv_input']['freenow_google'])\n",
    "total_reviews = len(df)\n",
    "unique_users  = len(df['userName'].unique())\n",
    "unknown_users = len(df[df['userName']=='A Google user'])\n",
    "mean = df['score'].mean()\n",
    "\n",
    "print(f'Total English reviews: {total_reviews} \\n')\n",
    "print(f'Total unique users : {unique_users}')\n",
    "print(f'Total unknown users: {unknown_users}')\n",
    "print(f'Total users who gave multiple reviews: {total_reviews - unique_users - unknown_users}\\n')\n",
    "print(f'Average rating for this app based on the textual reviews: {round(mean,2)} \\n')"
   ]
  },
  {
   "cell_type": "markdown",
   "id": "c706fb23",
   "metadata": {},
   "source": [
    "### Apple App Store"
   ]
  },
  {
   "cell_type": "code",
   "execution_count": 22,
   "id": "7e0df970",
   "metadata": {
    "scrolled": true
   },
   "outputs": [
    {
     "name": "stdout",
     "output_type": "stream",
     "text": [
      "Total English reviews: 14350 \n",
      "\n",
      "Total unique users : 14320\n",
      "Total users who gave multiple reviews: 30\n",
      "\n",
      "Average rating for this app based on the textual reviews: 3.73 \n",
      "\n"
     ]
    }
   ],
   "source": [
    "df = read_csv_from_gdrive(config['csv_input']['freenow_apple'])\n",
    "total_reviews = len(df)\n",
    "unique_users  = len(df['userName'].unique())\n",
    "mean = df['rating'].mean()\n",
    "\n",
    "print(f'Total English reviews: {total_reviews} \\n')\n",
    "print(f'Total unique users : {unique_users}')\n",
    "print(f'Total users who gave multiple reviews: {total_reviews - unique_users}\\n')\n",
    "print(f'Average rating for this app based on the textual reviews: {round(mean,2)} \\n')"
   ]
  },
  {
   "cell_type": "markdown",
   "id": "905d8d1d",
   "metadata": {},
   "source": [
    "## Yandex Go"
   ]
  },
  {
   "cell_type": "markdown",
   "id": "33ff5250",
   "metadata": {},
   "source": [
    "### Google Play Store"
   ]
  },
  {
   "cell_type": "code",
   "execution_count": 23,
   "id": "70f7ccaf",
   "metadata": {
    "scrolled": true
   },
   "outputs": [
    {
     "name": "stdout",
     "output_type": "stream",
     "text": [
      "Total English reviews: 7053 \n",
      "\n",
      "Total unique users : 6626\n",
      "Total unknown users: 382\n",
      "Total users who gave multiple reviews: 45\n",
      "\n",
      "Average rating for this app based on the textual reviews: 3.26 \n",
      "\n"
     ]
    }
   ],
   "source": [
    "df = read_csv_from_gdrive(config['csv_input']['yandexgo_google'])\n",
    "total_reviews = len(df)\n",
    "unique_users  = len(df['userName'].unique())\n",
    "unknown_users = len(df[df['userName']=='A Google user'])\n",
    "mean = df['score'].mean()\n",
    "\n",
    "print(f'Total English reviews: {total_reviews} \\n')\n",
    "print(f'Total unique users : {unique_users}')\n",
    "print(f'Total unknown users: {unknown_users}')\n",
    "print(f'Total users who gave multiple reviews: {total_reviews - unique_users - unknown_users}\\n')\n",
    "print(f'Average rating for this app based on the textual reviews: {round(mean,2)} \\n')"
   ]
  },
  {
   "cell_type": "markdown",
   "id": "3adb6a0c",
   "metadata": {},
   "source": [
    "### Apple App Store"
   ]
  },
  {
   "cell_type": "code",
   "execution_count": 24,
   "id": "9c261ddc",
   "metadata": {
    "scrolled": true
   },
   "outputs": [
    {
     "name": "stdout",
     "output_type": "stream",
     "text": [
      "Total English reviews: 171 \n",
      "\n",
      "Total unique users : 171\n",
      "Total users who gave multiple reviews: 0\n",
      "\n",
      "Average rating for this app based on the textual reviews: 2.73 \n",
      "\n"
     ]
    }
   ],
   "source": [
    "df = read_csv_from_gdrive(config['csv_input']['yandexgo_apple'])\n",
    "total_reviews = len(df)\n",
    "unique_users  = len(df['userName'].unique())\n",
    "mean = df['rating'].mean()\n",
    "\n",
    "print(f'Total English reviews: {total_reviews} \\n')\n",
    "print(f'Total unique users : {unique_users}')\n",
    "print(f'Total users who gave multiple reviews: {total_reviews - unique_users}\\n')\n",
    "print(f'Average rating for this app based on the textual reviews: {round(mean,2)} \\n')"
   ]
  }
 ],
 "metadata": {
  "kernelspec": {
   "display_name": "Python 3",
   "language": "python",
   "name": "python3"
  },
  "language_info": {
   "codemirror_mode": {
    "name": "ipython",
    "version": 3
   },
   "file_extension": ".py",
   "mimetype": "text/x-python",
   "name": "python",
   "nbconvert_exporter": "python",
   "pygments_lexer": "ipython3",
   "version": "3.8.10"
  },
  "toc": {
   "base_numbering": 1,
   "nav_menu": {},
   "number_sections": true,
   "sideBar": true,
   "skip_h1_title": false,
   "title_cell": "Table of Contents",
   "title_sidebar": "Contents",
   "toc_cell": false,
   "toc_position": {
    "height": "calc(100% - 180px)",
    "left": "10px",
    "top": "150px",
    "width": "256px"
   },
   "toc_section_display": true,
   "toc_window_display": true
  }
 },
 "nbformat": 4,
 "nbformat_minor": 5
}
