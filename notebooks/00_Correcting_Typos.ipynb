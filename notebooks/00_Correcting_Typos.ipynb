{
 "cells": [
  {
   "cell_type": "markdown",
   "metadata": {},
   "source": [
    "# References\n",
    "\n",
    "- https://www.geeksforgeeks.org/spelling-checker-in-python/\n",
    "- https://rustyonrampage.github.io/text-mining/2017/11/28/spelling-correction-with-python-and-nltk.html\n",
    "- https://pyenchant.github.io/pyenchant/"
   ]
  },
  {
   "cell_type": "markdown",
   "metadata": {},
   "source": [
    "# Correcting Typos Libraries"
   ]
  },
  {
   "cell_type": "markdown",
   "metadata": {},
   "source": [
    "## pyspellchecker"
   ]
  },
  {
   "cell_type": "code",
   "execution_count": 1,
   "metadata": {},
   "outputs": [
    {
     "name": "stdout",
     "output_type": "stream",
     "text": [
      "happenning\n",
      "{'hapening', 'happenning'}\n"
     ]
    }
   ],
   "source": [
    "from spellchecker import SpellChecker\n",
    "\n",
    "spell = SpellChecker()\n",
    "\n",
    "# find those words that may be misspelled\n",
    "misspelled = spell.unknown(['something', 'is', 'hapenning', 'here'])\n",
    "\n",
    "for word in misspelled:\n",
    "    # Get the one `most likely` answer\n",
    "    print(spell.correction(word))\n",
    "\n",
    "    # Get a list of `likely` options\n",
    "    print(spell.candidates(word))\n"
   ]
  },
  {
   "cell_type": "code",
   "execution_count": 2,
   "metadata": {},
   "outputs": [
    {
     "name": "stdout",
     "output_type": "stream",
     "text": [
      "{'wrate', 'singg', 'watr', 'cmputr'}\n",
      "wrate\n",
      "write\n",
      "{'grate', 'whate', 'orate', 'wate', 'prate', 'write', 'irate', 'wrte', 'wrath', 'rate', 'crate', 'wrote'}\n",
      "singg\n",
      "sing\n",
      "{'singe', 'sing', 'sings', 'singh'}\n",
      "watr\n",
      "water\n",
      "{'watc', 'waar', 'watt', 'wat', 'water', 'wate', 'wanr', 'wart', 'wats', 'wath', 'atr', 'war'}\n",
      "cmputr\n",
      "computer\n",
      "{'caputo', 'impute', 'computer', 'caput', 'compute'}\n"
     ]
    }
   ],
   "source": [
    "from spellchecker import SpellChecker\n",
    " \n",
    "spell = SpellChecker()\n",
    " \n",
    "# find those words that may be misspelled\n",
    "misspelled = spell.unknown([\"cmputr\", \"watr\", \"singg\", \"wrate\"])\n",
    "print(misspelled)\n",
    "    \n",
    "for word in misspelled:\n",
    "    print(word)\n",
    "    # Get the one `most likely` answer\n",
    "    print(spell.correction(word))\n",
    " \n",
    "    # Get a list of `likely` options\n",
    "    print(spell.candidates(word))"
   ]
  },
  {
   "cell_type": "markdown",
   "metadata": {},
   "source": [
    "## TextBlob"
   ]
  },
  {
   "cell_type": "code",
   "execution_count": 10,
   "metadata": {},
   "outputs": [
    {
     "name": "stdout",
     "output_type": "stream",
     "text": [
      "original text: wrate\n",
      "corrected text: wrote\n"
     ]
    }
   ],
   "source": [
    "from textblob import TextBlob\n",
    " \n",
    "a = \"wrate\"           # incorrect spelling\n",
    "print(\"original text: \"+str(a))\n",
    " \n",
    "b = TextBlob(a)\n",
    " \n",
    "# prints the corrected spelling\n",
    "print(\"corrected text: \"+str(b.correct()))"
   ]
  },
  {
   "cell_type": "code",
   "execution_count": 11,
   "metadata": {},
   "outputs": [
    {
     "name": "stdout",
     "output_type": "stream",
     "text": [
      "original text: cmputr\n",
      "corrected text: computer\n"
     ]
    }
   ],
   "source": [
    "from textblob import TextBlob\n",
    " \n",
    "a = \"cmputr\"           # incorrect spelling\n",
    "print(\"original text: \"+str(a))\n",
    " \n",
    "b = TextBlob(a)\n",
    " \n",
    "# prints the corrected spelling\n",
    "print(\"corrected text: \"+str(b.correct()))"
   ]
  },
  {
   "cell_type": "code",
   "execution_count": 12,
   "metadata": {},
   "outputs": [
    {
     "name": "stdout",
     "output_type": "stream",
     "text": [
      "original text: singg\n",
      "corrected text: sing\n"
     ]
    }
   ],
   "source": [
    "from textblob import TextBlob\n",
    " \n",
    "a = \"singg\"           # incorrect spelling\n",
    "print(\"original text: \"+str(a))\n",
    " \n",
    "b = TextBlob(a)\n",
    " \n",
    "# prints the corrected spelling\n",
    "print(\"corrected text: \"+str(b.correct()))"
   ]
  },
  {
   "cell_type": "code",
   "execution_count": 13,
   "metadata": {},
   "outputs": [
    {
     "name": "stdout",
     "output_type": "stream",
     "text": [
      "original text: watr\n",
      "corrected text: war\n"
     ]
    }
   ],
   "source": [
    "from textblob import TextBlob\n",
    " \n",
    "a = \"watr\"           # incorrect spelling\n",
    "print(\"original text: \"+str(a))\n",
    " \n",
    "b = TextBlob(a)\n",
    " \n",
    "# prints the corrected spelling\n",
    "print(\"corrected text: \"+str(b.correct()))"
   ]
  },
  {
   "cell_type": "markdown",
   "metadata": {},
   "source": [
    "## PyEnchant"
   ]
  },
  {
   "cell_type": "code",
   "execution_count": 5,
   "metadata": {},
   "outputs": [
    {
     "data": {
      "text/plain": [
       "False"
      ]
     },
     "execution_count": 5,
     "metadata": {},
     "output_type": "execute_result"
    }
   ],
   "source": [
    "import enchant\n",
    "d = enchant.Dict(\"en_US\")\n",
    "d.check(\"Hello\")\n",
    "d.check(\"Helo\")"
   ]
  },
  {
   "cell_type": "code",
   "execution_count": 6,
   "metadata": {},
   "outputs": [
    {
     "data": {
      "text/plain": [
       "['Help',\n",
       " 'Hel',\n",
       " 'Helot',\n",
       " 'Hero',\n",
       " 'He lo',\n",
       " 'He-lo',\n",
       " 'Hel o',\n",
       " 'Hole',\n",
       " 'Hello',\n",
       " 'Halo',\n",
       " 'Hell',\n",
       " 'Held']"
      ]
     },
     "execution_count": 6,
     "metadata": {},
     "output_type": "execute_result"
    }
   ],
   "source": [
    "d.suggest(\"Helo\")"
   ]
  },
  {
   "cell_type": "code",
   "execution_count": 15,
   "metadata": {},
   "outputs": [
    {
     "name": "stdout",
     "output_type": "stream",
     "text": [
      "The misspelled words are : ['cmputr', 'watr', 'stdy', 'wrte']\n",
      "Suggestion for cmputr : ['computer']\n",
      "Suggestion for watr : ['wart', 'watt', 'wat', 'war', 'water', 'wat r']\n",
      "Suggestion for stdy : ['std', 'sty', 'study', 'stay', 'std y']\n",
      "Suggestion for wrte : ['rte', 'write', 'wrote', 'wert', 'wite', 'w rte']\n"
     ]
    }
   ],
   "source": [
    "# import the enchant module\n",
    "import enchant\n",
    " \n",
    "# create dictionary for the language\n",
    "# in use(en_US here)\n",
    "dict = enchant.Dict(\"en_US\")\n",
    " \n",
    "# list of words\n",
    "words = [\"cmputr\", \"watr\", \"stdy\", \"wrte\"]\n",
    " \n",
    "# find those words that may be misspelled\n",
    "misspelled =[]\n",
    "for word in words:\n",
    "    if dict.check(word) == False:\n",
    "        misspelled.append(word)\n",
    "print(\"The misspelled words are : \" + str(misspelled))\n",
    " \n",
    "# suggest the correct spelling of\n",
    "# the misspelled words\n",
    "for word in misspelled:\n",
    "    print(\"Suggestion for \" + word + \" : \" + str(dict.suggest(word)))\n"
   ]
  },
  {
   "cell_type": "code",
   "execution_count": 32,
   "metadata": {},
   "outputs": [
    {
     "name": "stdout",
     "output_type": "stream",
     "text": [
      "['sentence', 'sentience', 'senescence', 'essence']\n",
      "['spelling', 'speeding', 'peeling']\n",
      "['mistake']\n",
      "['std', 'sty', 'study', 'stay', 'std y']\n",
      "This is a sentence. It has spelling mistake. I have std\n"
     ]
    }
   ],
   "source": [
    "import enchant\n",
    "from enchant.checker import SpellChecker\n",
    "chkr = SpellChecker(\"en_UK\",\"en_US\")\n",
    "spacedfile = \"This is a setence. It has speeelinng mistke. I have stdy\"\n",
    "chkr.set_text(spacedfile)\n",
    "for err in chkr:\n",
    "    print(err.suggest())\n",
    "    sug = err.suggest()[0]\n",
    "    err.replace(sug)\n",
    "\n",
    "Spellchecked = chkr.get_text()\n",
    "print(Spellchecked)"
   ]
  },
  {
   "cell_type": "code",
   "execution_count": null,
   "metadata": {},
   "outputs": [],
   "source": []
  }
 ],
 "metadata": {
  "kernelspec": {
   "display_name": "Python 3",
   "language": "python",
   "name": "python3"
  },
  "language_info": {
   "codemirror_mode": {
    "name": "ipython",
    "version": 3
   },
   "file_extension": ".py",
   "mimetype": "text/x-python",
   "name": "python",
   "nbconvert_exporter": "python",
   "pygments_lexer": "ipython3",
   "version": "3.8.5"
  },
  "toc": {
   "base_numbering": 1,
   "nav_menu": {},
   "number_sections": true,
   "sideBar": true,
   "skip_h1_title": false,
   "title_cell": "Table of Contents",
   "title_sidebar": "Contents",
   "toc_cell": false,
   "toc_position": {},
   "toc_section_display": true,
   "toc_window_display": true
  }
 },
 "nbformat": 4,
 "nbformat_minor": 2
}
