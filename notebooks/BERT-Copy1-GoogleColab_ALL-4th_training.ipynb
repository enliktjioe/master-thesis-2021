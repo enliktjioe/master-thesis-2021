{
  "nbformat": 4,
  "nbformat_minor": 0,
  "metadata": {
    "accelerator": "GPU",
    "colab": {
      "name": "BERT-Copy1-GoogleColab_ALL.ipynb",
      "provenance": [],
      "collapsed_sections": []
    },
    "kernelspec": {
      "display_name": "Python 3 (ipykernel)",
      "language": "python",
      "name": "python3"
    },
    "language_info": {
      "codemirror_mode": {
        "name": "ipython",
        "version": 3
      },
      "file_extension": ".py",
      "mimetype": "text/x-python",
      "name": "python",
      "nbconvert_exporter": "python",
      "pygments_lexer": "ipython3",
      "version": "3.8.5"
    },
    "toc": {
      "base_numbering": 1,
      "nav_menu": {},
      "number_sections": true,
      "sideBar": true,
      "skip_h1_title": false,
      "title_cell": "Table of Contents",
      "title_sidebar": "Contents",
      "toc_cell": false,
      "toc_position": {},
      "toc_section_display": true,
      "toc_window_display": false
    },
    "widgets": {
      "application/vnd.jupyter.widget-state+json": {
        "98f321e9da294bc586849e4540a2d036": {
          "model_module": "@jupyter-widgets/controls",
          "model_name": "HBoxModel",
          "state": {
            "_view_name": "HBoxView",
            "_dom_classes": [],
            "_model_name": "HBoxModel",
            "_view_module": "@jupyter-widgets/controls",
            "_model_module_version": "1.5.0",
            "_view_count": null,
            "_view_module_version": "1.5.0",
            "box_style": "",
            "layout": "IPY_MODEL_cfd3682e9b454a7cbb11261bd96b2187",
            "_model_module": "@jupyter-widgets/controls",
            "children": [
              "IPY_MODEL_7c6e240c4ddf4f7faf8350ae1aca5b25",
              "IPY_MODEL_4f60e03ab90c4f66a27458184b4f39db"
            ]
          }
        },
        "cfd3682e9b454a7cbb11261bd96b2187": {
          "model_module": "@jupyter-widgets/base",
          "model_name": "LayoutModel",
          "state": {
            "_view_name": "LayoutView",
            "grid_template_rows": null,
            "right": null,
            "justify_content": null,
            "_view_module": "@jupyter-widgets/base",
            "overflow": null,
            "_model_module_version": "1.2.0",
            "_view_count": null,
            "flex_flow": null,
            "width": null,
            "min_width": null,
            "border": null,
            "align_items": null,
            "bottom": null,
            "_model_module": "@jupyter-widgets/base",
            "top": null,
            "grid_column": null,
            "overflow_y": null,
            "overflow_x": null,
            "grid_auto_flow": null,
            "grid_area": null,
            "grid_template_columns": null,
            "flex": null,
            "_model_name": "LayoutModel",
            "justify_items": null,
            "grid_row": null,
            "max_height": null,
            "align_content": null,
            "visibility": null,
            "align_self": null,
            "height": null,
            "min_height": null,
            "padding": null,
            "grid_auto_rows": null,
            "grid_gap": null,
            "max_width": null,
            "order": null,
            "_view_module_version": "1.2.0",
            "grid_template_areas": null,
            "object_position": null,
            "object_fit": null,
            "grid_auto_columns": null,
            "margin": null,
            "display": null,
            "left": null
          }
        },
        "7c6e240c4ddf4f7faf8350ae1aca5b25": {
          "model_module": "@jupyter-widgets/controls",
          "model_name": "FloatProgressModel",
          "state": {
            "_view_name": "ProgressView",
            "style": "IPY_MODEL_3ccb1d86ca71473e9323153cda2f03c3",
            "_dom_classes": [],
            "description": "Downloading: 100%",
            "_model_name": "FloatProgressModel",
            "bar_style": "success",
            "max": 231508,
            "_view_module": "@jupyter-widgets/controls",
            "_model_module_version": "1.5.0",
            "value": 231508,
            "_view_count": null,
            "_view_module_version": "1.5.0",
            "orientation": "horizontal",
            "min": 0,
            "description_tooltip": null,
            "_model_module": "@jupyter-widgets/controls",
            "layout": "IPY_MODEL_c0053e6412d7498385f7393ca500eb4e"
          }
        },
        "4f60e03ab90c4f66a27458184b4f39db": {
          "model_module": "@jupyter-widgets/controls",
          "model_name": "HTMLModel",
          "state": {
            "_view_name": "HTMLView",
            "style": "IPY_MODEL_06e8c7b7675542769006aa63ebe699d5",
            "_dom_classes": [],
            "description": "",
            "_model_name": "HTMLModel",
            "placeholder": "​",
            "_view_module": "@jupyter-widgets/controls",
            "_model_module_version": "1.5.0",
            "value": " 232k/232k [00:00&lt;00:00, 2.63MB/s]",
            "_view_count": null,
            "_view_module_version": "1.5.0",
            "description_tooltip": null,
            "_model_module": "@jupyter-widgets/controls",
            "layout": "IPY_MODEL_a691e62b7fbe4fc9ad4e6fc5d141f82a"
          }
        },
        "3ccb1d86ca71473e9323153cda2f03c3": {
          "model_module": "@jupyter-widgets/controls",
          "model_name": "ProgressStyleModel",
          "state": {
            "_view_name": "StyleView",
            "_model_name": "ProgressStyleModel",
            "description_width": "initial",
            "_view_module": "@jupyter-widgets/base",
            "_model_module_version": "1.5.0",
            "_view_count": null,
            "_view_module_version": "1.2.0",
            "bar_color": null,
            "_model_module": "@jupyter-widgets/controls"
          }
        },
        "c0053e6412d7498385f7393ca500eb4e": {
          "model_module": "@jupyter-widgets/base",
          "model_name": "LayoutModel",
          "state": {
            "_view_name": "LayoutView",
            "grid_template_rows": null,
            "right": null,
            "justify_content": null,
            "_view_module": "@jupyter-widgets/base",
            "overflow": null,
            "_model_module_version": "1.2.0",
            "_view_count": null,
            "flex_flow": null,
            "width": null,
            "min_width": null,
            "border": null,
            "align_items": null,
            "bottom": null,
            "_model_module": "@jupyter-widgets/base",
            "top": null,
            "grid_column": null,
            "overflow_y": null,
            "overflow_x": null,
            "grid_auto_flow": null,
            "grid_area": null,
            "grid_template_columns": null,
            "flex": null,
            "_model_name": "LayoutModel",
            "justify_items": null,
            "grid_row": null,
            "max_height": null,
            "align_content": null,
            "visibility": null,
            "align_self": null,
            "height": null,
            "min_height": null,
            "padding": null,
            "grid_auto_rows": null,
            "grid_gap": null,
            "max_width": null,
            "order": null,
            "_view_module_version": "1.2.0",
            "grid_template_areas": null,
            "object_position": null,
            "object_fit": null,
            "grid_auto_columns": null,
            "margin": null,
            "display": null,
            "left": null
          }
        },
        "06e8c7b7675542769006aa63ebe699d5": {
          "model_module": "@jupyter-widgets/controls",
          "model_name": "DescriptionStyleModel",
          "state": {
            "_view_name": "StyleView",
            "_model_name": "DescriptionStyleModel",
            "description_width": "",
            "_view_module": "@jupyter-widgets/base",
            "_model_module_version": "1.5.0",
            "_view_count": null,
            "_view_module_version": "1.2.0",
            "_model_module": "@jupyter-widgets/controls"
          }
        },
        "a691e62b7fbe4fc9ad4e6fc5d141f82a": {
          "model_module": "@jupyter-widgets/base",
          "model_name": "LayoutModel",
          "state": {
            "_view_name": "LayoutView",
            "grid_template_rows": null,
            "right": null,
            "justify_content": null,
            "_view_module": "@jupyter-widgets/base",
            "overflow": null,
            "_model_module_version": "1.2.0",
            "_view_count": null,
            "flex_flow": null,
            "width": null,
            "min_width": null,
            "border": null,
            "align_items": null,
            "bottom": null,
            "_model_module": "@jupyter-widgets/base",
            "top": null,
            "grid_column": null,
            "overflow_y": null,
            "overflow_x": null,
            "grid_auto_flow": null,
            "grid_area": null,
            "grid_template_columns": null,
            "flex": null,
            "_model_name": "LayoutModel",
            "justify_items": null,
            "grid_row": null,
            "max_height": null,
            "align_content": null,
            "visibility": null,
            "align_self": null,
            "height": null,
            "min_height": null,
            "padding": null,
            "grid_auto_rows": null,
            "grid_gap": null,
            "max_width": null,
            "order": null,
            "_view_module_version": "1.2.0",
            "grid_template_areas": null,
            "object_position": null,
            "object_fit": null,
            "grid_auto_columns": null,
            "margin": null,
            "display": null,
            "left": null
          }
        },
        "d5f12b15ae8d4de684487e3354d15351": {
          "model_module": "@jupyter-widgets/controls",
          "model_name": "HBoxModel",
          "state": {
            "_view_name": "HBoxView",
            "_dom_classes": [],
            "_model_name": "HBoxModel",
            "_view_module": "@jupyter-widgets/controls",
            "_model_module_version": "1.5.0",
            "_view_count": null,
            "_view_module_version": "1.5.0",
            "box_style": "",
            "layout": "IPY_MODEL_94551d4b5d1142e191850776d10890dc",
            "_model_module": "@jupyter-widgets/controls",
            "children": [
              "IPY_MODEL_036d616db7a5453f940e7e066b0bee06",
              "IPY_MODEL_1f75d1433f8d49efbaa53b7eeddbc87f"
            ]
          }
        },
        "94551d4b5d1142e191850776d10890dc": {
          "model_module": "@jupyter-widgets/base",
          "model_name": "LayoutModel",
          "state": {
            "_view_name": "LayoutView",
            "grid_template_rows": null,
            "right": null,
            "justify_content": null,
            "_view_module": "@jupyter-widgets/base",
            "overflow": null,
            "_model_module_version": "1.2.0",
            "_view_count": null,
            "flex_flow": null,
            "width": null,
            "min_width": null,
            "border": null,
            "align_items": null,
            "bottom": null,
            "_model_module": "@jupyter-widgets/base",
            "top": null,
            "grid_column": null,
            "overflow_y": null,
            "overflow_x": null,
            "grid_auto_flow": null,
            "grid_area": null,
            "grid_template_columns": null,
            "flex": null,
            "_model_name": "LayoutModel",
            "justify_items": null,
            "grid_row": null,
            "max_height": null,
            "align_content": null,
            "visibility": null,
            "align_self": null,
            "height": null,
            "min_height": null,
            "padding": null,
            "grid_auto_rows": null,
            "grid_gap": null,
            "max_width": null,
            "order": null,
            "_view_module_version": "1.2.0",
            "grid_template_areas": null,
            "object_position": null,
            "object_fit": null,
            "grid_auto_columns": null,
            "margin": null,
            "display": null,
            "left": null
          }
        },
        "036d616db7a5453f940e7e066b0bee06": {
          "model_module": "@jupyter-widgets/controls",
          "model_name": "FloatProgressModel",
          "state": {
            "_view_name": "ProgressView",
            "style": "IPY_MODEL_db8cb1bc23cf45e083ba502f36a6dbbe",
            "_dom_classes": [],
            "description": "Downloading: 100%",
            "_model_name": "FloatProgressModel",
            "bar_style": "success",
            "max": 570,
            "_view_module": "@jupyter-widgets/controls",
            "_model_module_version": "1.5.0",
            "value": 570,
            "_view_count": null,
            "_view_module_version": "1.5.0",
            "orientation": "horizontal",
            "min": 0,
            "description_tooltip": null,
            "_model_module": "@jupyter-widgets/controls",
            "layout": "IPY_MODEL_b74945982a55456a9e81d815b86b9fee"
          }
        },
        "1f75d1433f8d49efbaa53b7eeddbc87f": {
          "model_module": "@jupyter-widgets/controls",
          "model_name": "HTMLModel",
          "state": {
            "_view_name": "HTMLView",
            "style": "IPY_MODEL_f8507b1bc49344209d12aded635f5895",
            "_dom_classes": [],
            "description": "",
            "_model_name": "HTMLModel",
            "placeholder": "​",
            "_view_module": "@jupyter-widgets/controls",
            "_model_module_version": "1.5.0",
            "value": " 570/570 [00:00&lt;00:00, 1.51kB/s]",
            "_view_count": null,
            "_view_module_version": "1.5.0",
            "description_tooltip": null,
            "_model_module": "@jupyter-widgets/controls",
            "layout": "IPY_MODEL_e65bc14ac96a4a009a128e0f278b7488"
          }
        },
        "db8cb1bc23cf45e083ba502f36a6dbbe": {
          "model_module": "@jupyter-widgets/controls",
          "model_name": "ProgressStyleModel",
          "state": {
            "_view_name": "StyleView",
            "_model_name": "ProgressStyleModel",
            "description_width": "initial",
            "_view_module": "@jupyter-widgets/base",
            "_model_module_version": "1.5.0",
            "_view_count": null,
            "_view_module_version": "1.2.0",
            "bar_color": null,
            "_model_module": "@jupyter-widgets/controls"
          }
        },
        "b74945982a55456a9e81d815b86b9fee": {
          "model_module": "@jupyter-widgets/base",
          "model_name": "LayoutModel",
          "state": {
            "_view_name": "LayoutView",
            "grid_template_rows": null,
            "right": null,
            "justify_content": null,
            "_view_module": "@jupyter-widgets/base",
            "overflow": null,
            "_model_module_version": "1.2.0",
            "_view_count": null,
            "flex_flow": null,
            "width": null,
            "min_width": null,
            "border": null,
            "align_items": null,
            "bottom": null,
            "_model_module": "@jupyter-widgets/base",
            "top": null,
            "grid_column": null,
            "overflow_y": null,
            "overflow_x": null,
            "grid_auto_flow": null,
            "grid_area": null,
            "grid_template_columns": null,
            "flex": null,
            "_model_name": "LayoutModel",
            "justify_items": null,
            "grid_row": null,
            "max_height": null,
            "align_content": null,
            "visibility": null,
            "align_self": null,
            "height": null,
            "min_height": null,
            "padding": null,
            "grid_auto_rows": null,
            "grid_gap": null,
            "max_width": null,
            "order": null,
            "_view_module_version": "1.2.0",
            "grid_template_areas": null,
            "object_position": null,
            "object_fit": null,
            "grid_auto_columns": null,
            "margin": null,
            "display": null,
            "left": null
          }
        },
        "f8507b1bc49344209d12aded635f5895": {
          "model_module": "@jupyter-widgets/controls",
          "model_name": "DescriptionStyleModel",
          "state": {
            "_view_name": "StyleView",
            "_model_name": "DescriptionStyleModel",
            "description_width": "",
            "_view_module": "@jupyter-widgets/base",
            "_model_module_version": "1.5.0",
            "_view_count": null,
            "_view_module_version": "1.2.0",
            "_model_module": "@jupyter-widgets/controls"
          }
        },
        "e65bc14ac96a4a009a128e0f278b7488": {
          "model_module": "@jupyter-widgets/base",
          "model_name": "LayoutModel",
          "state": {
            "_view_name": "LayoutView",
            "grid_template_rows": null,
            "right": null,
            "justify_content": null,
            "_view_module": "@jupyter-widgets/base",
            "overflow": null,
            "_model_module_version": "1.2.0",
            "_view_count": null,
            "flex_flow": null,
            "width": null,
            "min_width": null,
            "border": null,
            "align_items": null,
            "bottom": null,
            "_model_module": "@jupyter-widgets/base",
            "top": null,
            "grid_column": null,
            "overflow_y": null,
            "overflow_x": null,
            "grid_auto_flow": null,
            "grid_area": null,
            "grid_template_columns": null,
            "flex": null,
            "_model_name": "LayoutModel",
            "justify_items": null,
            "grid_row": null,
            "max_height": null,
            "align_content": null,
            "visibility": null,
            "align_self": null,
            "height": null,
            "min_height": null,
            "padding": null,
            "grid_auto_rows": null,
            "grid_gap": null,
            "max_width": null,
            "order": null,
            "_view_module_version": "1.2.0",
            "grid_template_areas": null,
            "object_position": null,
            "object_fit": null,
            "grid_auto_columns": null,
            "margin": null,
            "display": null,
            "left": null
          }
        },
        "09a1307b987d48458937b69c01614bde": {
          "model_module": "@jupyter-widgets/controls",
          "model_name": "HBoxModel",
          "state": {
            "_view_name": "HBoxView",
            "_dom_classes": [],
            "_model_name": "HBoxModel",
            "_view_module": "@jupyter-widgets/controls",
            "_model_module_version": "1.5.0",
            "_view_count": null,
            "_view_module_version": "1.5.0",
            "box_style": "",
            "layout": "IPY_MODEL_e7051c3401ec4021b45992730d5b68c4",
            "_model_module": "@jupyter-widgets/controls",
            "children": [
              "IPY_MODEL_0ceaf3e372c643c9abf2d89bad450d1b",
              "IPY_MODEL_ed9d5121e0324fa9a03dcd69070b4fcb"
            ]
          }
        },
        "e7051c3401ec4021b45992730d5b68c4": {
          "model_module": "@jupyter-widgets/base",
          "model_name": "LayoutModel",
          "state": {
            "_view_name": "LayoutView",
            "grid_template_rows": null,
            "right": null,
            "justify_content": null,
            "_view_module": "@jupyter-widgets/base",
            "overflow": null,
            "_model_module_version": "1.2.0",
            "_view_count": null,
            "flex_flow": null,
            "width": null,
            "min_width": null,
            "border": null,
            "align_items": null,
            "bottom": null,
            "_model_module": "@jupyter-widgets/base",
            "top": null,
            "grid_column": null,
            "overflow_y": null,
            "overflow_x": null,
            "grid_auto_flow": null,
            "grid_area": null,
            "grid_template_columns": null,
            "flex": null,
            "_model_name": "LayoutModel",
            "justify_items": null,
            "grid_row": null,
            "max_height": null,
            "align_content": null,
            "visibility": null,
            "align_self": null,
            "height": null,
            "min_height": null,
            "padding": null,
            "grid_auto_rows": null,
            "grid_gap": null,
            "max_width": null,
            "order": null,
            "_view_module_version": "1.2.0",
            "grid_template_areas": null,
            "object_position": null,
            "object_fit": null,
            "grid_auto_columns": null,
            "margin": null,
            "display": null,
            "left": null
          }
        },
        "0ceaf3e372c643c9abf2d89bad450d1b": {
          "model_module": "@jupyter-widgets/controls",
          "model_name": "FloatProgressModel",
          "state": {
            "_view_name": "ProgressView",
            "style": "IPY_MODEL_d3fbdc8e42024a83a37220b33b2d1d2d",
            "_dom_classes": [],
            "description": "Downloading: 100%",
            "_model_name": "FloatProgressModel",
            "bar_style": "success",
            "max": 536063208,
            "_view_module": "@jupyter-widgets/controls",
            "_model_module_version": "1.5.0",
            "value": 536063208,
            "_view_count": null,
            "_view_module_version": "1.5.0",
            "orientation": "horizontal",
            "min": 0,
            "description_tooltip": null,
            "_model_module": "@jupyter-widgets/controls",
            "layout": "IPY_MODEL_021673b7c2394076a0adc8fcb9848420"
          }
        },
        "ed9d5121e0324fa9a03dcd69070b4fcb": {
          "model_module": "@jupyter-widgets/controls",
          "model_name": "HTMLModel",
          "state": {
            "_view_name": "HTMLView",
            "style": "IPY_MODEL_3eb27a62b65546b5b2461d41029eae5e",
            "_dom_classes": [],
            "description": "",
            "_model_name": "HTMLModel",
            "placeholder": "​",
            "_view_module": "@jupyter-widgets/controls",
            "_model_module_version": "1.5.0",
            "value": " 536M/536M [00:12&lt;00:00, 43.8MB/s]",
            "_view_count": null,
            "_view_module_version": "1.5.0",
            "description_tooltip": null,
            "_model_module": "@jupyter-widgets/controls",
            "layout": "IPY_MODEL_05fc9b82dfba4aa287d2668067e48b5e"
          }
        },
        "d3fbdc8e42024a83a37220b33b2d1d2d": {
          "model_module": "@jupyter-widgets/controls",
          "model_name": "ProgressStyleModel",
          "state": {
            "_view_name": "StyleView",
            "_model_name": "ProgressStyleModel",
            "description_width": "initial",
            "_view_module": "@jupyter-widgets/base",
            "_model_module_version": "1.5.0",
            "_view_count": null,
            "_view_module_version": "1.2.0",
            "bar_color": null,
            "_model_module": "@jupyter-widgets/controls"
          }
        },
        "021673b7c2394076a0adc8fcb9848420": {
          "model_module": "@jupyter-widgets/base",
          "model_name": "LayoutModel",
          "state": {
            "_view_name": "LayoutView",
            "grid_template_rows": null,
            "right": null,
            "justify_content": null,
            "_view_module": "@jupyter-widgets/base",
            "overflow": null,
            "_model_module_version": "1.2.0",
            "_view_count": null,
            "flex_flow": null,
            "width": null,
            "min_width": null,
            "border": null,
            "align_items": null,
            "bottom": null,
            "_model_module": "@jupyter-widgets/base",
            "top": null,
            "grid_column": null,
            "overflow_y": null,
            "overflow_x": null,
            "grid_auto_flow": null,
            "grid_area": null,
            "grid_template_columns": null,
            "flex": null,
            "_model_name": "LayoutModel",
            "justify_items": null,
            "grid_row": null,
            "max_height": null,
            "align_content": null,
            "visibility": null,
            "align_self": null,
            "height": null,
            "min_height": null,
            "padding": null,
            "grid_auto_rows": null,
            "grid_gap": null,
            "max_width": null,
            "order": null,
            "_view_module_version": "1.2.0",
            "grid_template_areas": null,
            "object_position": null,
            "object_fit": null,
            "grid_auto_columns": null,
            "margin": null,
            "display": null,
            "left": null
          }
        },
        "3eb27a62b65546b5b2461d41029eae5e": {
          "model_module": "@jupyter-widgets/controls",
          "model_name": "DescriptionStyleModel",
          "state": {
            "_view_name": "StyleView",
            "_model_name": "DescriptionStyleModel",
            "description_width": "",
            "_view_module": "@jupyter-widgets/base",
            "_model_module_version": "1.5.0",
            "_view_count": null,
            "_view_module_version": "1.2.0",
            "_model_module": "@jupyter-widgets/controls"
          }
        },
        "05fc9b82dfba4aa287d2668067e48b5e": {
          "model_module": "@jupyter-widgets/base",
          "model_name": "LayoutModel",
          "state": {
            "_view_name": "LayoutView",
            "grid_template_rows": null,
            "right": null,
            "justify_content": null,
            "_view_module": "@jupyter-widgets/base",
            "overflow": null,
            "_model_module_version": "1.2.0",
            "_view_count": null,
            "flex_flow": null,
            "width": null,
            "min_width": null,
            "border": null,
            "align_items": null,
            "bottom": null,
            "_model_module": "@jupyter-widgets/base",
            "top": null,
            "grid_column": null,
            "overflow_y": null,
            "overflow_x": null,
            "grid_auto_flow": null,
            "grid_area": null,
            "grid_template_columns": null,
            "flex": null,
            "_model_name": "LayoutModel",
            "justify_items": null,
            "grid_row": null,
            "max_height": null,
            "align_content": null,
            "visibility": null,
            "align_self": null,
            "height": null,
            "min_height": null,
            "padding": null,
            "grid_auto_rows": null,
            "grid_gap": null,
            "max_width": null,
            "order": null,
            "_view_module_version": "1.2.0",
            "grid_template_areas": null,
            "object_position": null,
            "object_fit": null,
            "grid_auto_columns": null,
            "margin": null,
            "display": null,
            "left": null
          }
        }
      }
    }
  },
  "cells": [
    {
      "cell_type": "markdown",
      "metadata": {
        "id": "XyzrkSwzDbXz"
      },
      "source": [
        "#### Import modules"
      ]
    },
    {
      "cell_type": "code",
      "metadata": {
        "id": "V7mYIxAdDp5z",
        "colab": {
          "base_uri": "https://localhost:8080/",
          "height": 357
        },
        "outputId": "f9229988-3a0b-4ff8-de22-5fc58154ea5c"
      },
      "source": [
        "# !pip install -r requirements_netflix_jung.txt\n",
        "# !pip install -r requirements_netflix_jung_lite.txt\n",
        "\n",
        "# !pip list\n",
        "\n",
        "# !pip install ktrain\n",
        "!pip install pandas==1.3.0"
      ],
      "execution_count": 6,
      "outputs": [
        {
          "output_type": "stream",
          "text": [
            "Collecting pandas==1.3.0\n",
            "  Downloading pandas-1.3.0-cp37-cp37m-manylinux_2_5_x86_64.manylinux1_x86_64.whl (10.8 MB)\n",
            "\u001b[K     |████████████████████████████████| 10.8 MB 5.1 MB/s \n",
            "\u001b[?25hRequirement already satisfied: pytz>=2017.3 in /usr/local/lib/python3.7/dist-packages (from pandas==1.3.0) (2018.9)\n",
            "Requirement already satisfied: numpy>=1.17.3 in /usr/local/lib/python3.7/dist-packages (from pandas==1.3.0) (1.19.5)\n",
            "Requirement already satisfied: python-dateutil>=2.7.3 in /usr/local/lib/python3.7/dist-packages (from pandas==1.3.0) (2.8.1)\n",
            "Requirement already satisfied: six>=1.5 in /usr/local/lib/python3.7/dist-packages (from python-dateutil>=2.7.3->pandas==1.3.0) (1.15.0)\n",
            "Installing collected packages: pandas\n",
            "  Attempting uninstall: pandas\n",
            "    Found existing installation: pandas 1.1.5\n",
            "    Uninstalling pandas-1.1.5:\n",
            "      Successfully uninstalled pandas-1.1.5\n",
            "\u001b[31mERROR: pip's dependency resolver does not currently take into account all the packages that are installed. This behaviour is the source of the following dependency conflicts.\n",
            "google-colab 1.0.0 requires pandas~=1.1.0; python_version >= \"3.0\", but you have pandas 1.3.0 which is incompatible.\u001b[0m\n",
            "Successfully installed pandas-1.3.0\n"
          ],
          "name": "stdout"
        },
        {
          "output_type": "display_data",
          "data": {
            "application/vnd.colab-display-data+json": {
              "pip_warning": {
                "packages": [
                  "pandas"
                ]
              }
            }
          },
          "metadata": {
            "tags": []
          }
        }
      ]
    },
    {
      "cell_type": "code",
      "metadata": {
        "id": "CT69f-RQAUKb"
      },
      "source": [
        "# !pip install adjustText\n",
        "# !pip install bert-embedding\n",
        "# !pip install umap-learn"
      ],
      "execution_count": 1,
      "outputs": []
    },
    {
      "cell_type": "code",
      "metadata": {
        "id": "6tW5vaW2DbX1",
        "outputId": "8c5431df-4a30-4f98-ca4d-25aff03d3633",
        "colab": {
          "base_uri": "https://localhost:8080/"
        }
      },
      "source": [
        "import nltk; nltk.download('stopwords')\n",
        "from nltk.corpus import stopwords\n",
        "import numpy as np\n",
        "import pandas as pd\n",
        "import re\n",
        "import string\n",
        "import os\n",
        "import matplotlib.pyplot as plt\n",
        "import matplotlib\n",
        "from mpl_toolkits.mplot3d import Axes3D \n",
        "from collections import defaultdict\n",
        "from sklearn.model_selection import train_test_split\n",
        "\n",
        "# Gensim\n",
        "import gensim\n",
        "import gensim.corpora as corpora\n",
        "from gensim.utils import simple_preprocess\n",
        "from gensim.models import CoherenceModel\n",
        "from gensim import models\n",
        "from gensim.test.utils import datapath\n",
        "from gensim.test.utils import common_texts, get_tmpfile\n",
        "\n",
        "# spacy for lemmatization\n",
        "import spacy\n",
        "\n",
        "import os.path\n",
        "import numpy as np\n",
        "import tensorflow as tf\n",
        "import ktrain\n",
        "from ktrain import text\n",
        "from sklearn.manifold import TSNE\n",
        "from transformers import BertTokenizer, TFBertModel\n",
        "# from bert_embedding import BertEmbedding\n",
        "# import matplotlib.cm as cm\n",
        "# import seaborn as sns\n",
        "# from PIL import Image\n",
        "# from wordcloud import WordCloud, STOPWORDS\n",
        "# from adjustText import adjust_text\n",
        "# import umap\n",
        "# import umap.umap_ as umap\n",
        "# # import umap.plot"
      ],
      "execution_count": 3,
      "outputs": [
        {
          "output_type": "stream",
          "text": [
            "[nltk_data] Downloading package stopwords to /root/nltk_data...\n",
            "[nltk_data]   Package stopwords is already up-to-date!\n"
          ],
          "name": "stdout"
        }
      ]
    },
    {
      "cell_type": "markdown",
      "metadata": {
        "id": "IU0yS_joDbX2"
      },
      "source": [
        "#### Import the dominant topics based on the chosen model"
      ]
    },
    {
      "cell_type": "code",
      "metadata": {
        "id": "PtML6ep3DbX2"
      },
      "source": [
        "mallet_lda_df = pd.read_pickle('lda_mallet_model/mallet_lda_df.pkl')\n",
        "df = pd.read_pickle('raw_data/all_reviews_p3.pkl')\n",
        "df = pd.concat([mallet_lda_df.reset_index(drop=True), df.loc[:, ['rating', 'review']].reset_index(drop=True)], axis = 1)"
      ],
      "execution_count": 4,
      "outputs": []
    },
    {
      "cell_type": "markdown",
      "metadata": {
        "id": "c4E_g_qADbX3"
      },
      "source": [
        "#### Check the topic labels(which are to be the target variables)"
      ]
    },
    {
      "cell_type": "code",
      "metadata": {
        "id": "bSs_yRU-DbX4"
      },
      "source": [
        "topic_dict = {0.: \"Trouble-shooting\", 1.: \"User-Experience\", 2.: \"Cost-Value\", 3.: \"Time\", 4.: \"Service\", 5.:\"Others\"}"
      ],
      "execution_count": 5,
      "outputs": []
    },
    {
      "cell_type": "code",
      "metadata": {
        "id": "A8zqHAlJDbX4"
      },
      "source": [
        "representative_topics = df.groupby('Dominant_Topic').max().loc[:, \"Perc_Contribution\"]\n",
        "pairs = list(zip(representative_topics.index, representative_topics.values))\n",
        "representative_topics = df.loc[df.apply(lambda x: (x.Dominant_Topic, x.Perc_Contribution) in pairs, axis = 1),:].sort_values('Dominant_Topic')\n",
        "representative_topics.loc[:, 'Dominant_Topic'] = ['0. Trouble-shooting', '1. User-Experience', '2. Cost-Value', '3. Time', '4. Service', '5. Others']\n",
        "representative_topics.loc[:, 'review'] = representative_topics.loc[:, 'review'].map(lambda x: x[:500])"
      ],
      "execution_count": 6,
      "outputs": []
    },
    {
      "cell_type": "code",
      "metadata": {
        "colab": {
          "base_uri": "https://localhost:8080/",
          "height": 812
        },
        "id": "JRxW-Tx4DbX4",
        "jupyter": {
          "outputs_hidden": true
        },
        "outputId": "51fbb900-573c-4f9a-f2bb-94ad2be2b61e"
      },
      "source": [
        "representative_topics.style.set_properties(subset=['review'], **{'width': '400px'})"
      ],
      "execution_count": 7,
      "outputs": [
        {
          "output_type": "execute_result",
          "data": {
            "text/html": [
              "<style type=\"text/css\">\n",
              "#T_21e7e_row0_col5, #T_21e7e_row1_col5, #T_21e7e_row2_col5, #T_21e7e_row3_col5, #T_21e7e_row4_col5, #T_21e7e_row5_col5 {\n",
              "  width: 400px;\n",
              "}\n",
              "</style>\n",
              "<table id=\"T_21e7e_\">\n",
              "  <thead>\n",
              "    <tr>\n",
              "      <th class=\"blank level0\" >&nbsp;</th>\n",
              "      <th class=\"col_heading level0 col0\" >Dominant_Topic</th>\n",
              "      <th class=\"col_heading level0 col1\" >Perc_Contribution</th>\n",
              "      <th class=\"col_heading level0 col2\" >Keywords</th>\n",
              "      <th class=\"col_heading level0 col3\" >Text</th>\n",
              "      <th class=\"col_heading level0 col4\" >rating</th>\n",
              "      <th class=\"col_heading level0 col5\" >review</th>\n",
              "    </tr>\n",
              "  </thead>\n",
              "  <tbody>\n",
              "    <tr>\n",
              "      <th id=\"T_21e7e_level0_row0\" class=\"row_heading level0 row0\" >25138</th>\n",
              "      <td id=\"T_21e7e_row0_col0\" class=\"data row0 col0\" >0. Trouble-shooting</td>\n",
              "      <td id=\"T_21e7e_row0_col1\" class=\"data row0 col1\" >0.928000</td>\n",
              "      <td id=\"T_21e7e_row0_col2\" class=\"data row0 col2\" >app, location, ride, option, update, time, work, issue, phone, number</td>\n",
              "      <td id=\"T_21e7e_row0_col3\" class=\"data row0 col3\" >['hogging', 'app', 'app', 'access', 'sms', 'permission', 'app', 'function', 'attempt', 'information', 'message', 'ban', 'app', 'data', 'violation', 'uninstalling_app']</td>\n",
              "      <td id=\"T_21e7e_row0_col4\" class=\"data row0 col4\" >1</td>\n",
              "      <td id=\"T_21e7e_row0_col5\" class=\"data row0 col5\" >Frustrated by such data hogging apps. My Personal Data is compromised by this app as it makes granting access to my sms mandatory. This permission is not atall essential for the app function and is a clear attempt to extract personal and financial information from my messages. App store should ban this app till such data violations are plugged. Uninstalling the app immediately.</td>\n",
              "    </tr>\n",
              "    <tr>\n",
              "      <th id=\"T_21e7e_level0_row1\" class=\"row_heading level0 row1\" >28774</th>\n",
              "      <td id=\"T_21e7e_row1_col0\" class=\"data row1 col0\" >1. User-Experience</td>\n",
              "      <td id=\"T_21e7e_row1_col1\" class=\"data row1 col1\" >0.936800</td>\n",
              "      <td id=\"T_21e7e_row1_col2\" class=\"data row1 col2\" >driver, car, service, passenger, time, app, customer, rider, trip, route</td>\n",
              "      <td id=\"T_21e7e_row1_col3\" class=\"data row1 col3\" >['convenient', 'driver', 'passenger', 'passenger', 'driver', 'time', 'situation', 'driver', 'trip', 'traffic', 'area', 'customer', 'rating', 'system', 'driver', 'rating', 'customer', 'rating', 'rating']</td>\n",
              "      <td id=\"T_21e7e_row1_col4\" class=\"data row1 col4\" >3</td>\n",
              "      <td id=\"T_21e7e_row1_col5\" class=\"data row1 col5\" >The app is easy to use and convenient. However, it favours drivers over passengers. For example, if a passenger cancels a trip, he/she will be charged £5 in London. But drivers pick up and cancel trips all the time. Several times, I’ve been in a situation, when 3 or 4 drivers in a row picked up my trip, I waited for 7-10 minutes for each of them, and then they cancelled (I ended up being late). There was no bad traffic in the area. For me as a customer, it feels really unfair. \n",
              "Also, the ratings</td>\n",
              "    </tr>\n",
              "    <tr>\n",
              "      <th id=\"T_21e7e_level0_row2\" class=\"row_heading level0 row2\" >25573</th>\n",
              "      <td id=\"T_21e7e_row2_col0\" class=\"data row2 col0\" >2. Cost-Value</td>\n",
              "      <td id=\"T_21e7e_row2_col1\" class=\"data row2 col1\" >0.968400</td>\n",
              "      <td id=\"T_21e7e_row2_col2\" class=\"data row2 col2\" >driver, app, ride, trip, service, money, charge, amount, card, payment</td>\n",
              "      <td id=\"T_21e7e_row2_col3\" class=\"data row2 col3\" >['day', 'ola', 'account', 'care', 'information', 'team', 'last_month', 'time', 'grievance', 'team', 'support', 'email', 'response', 'mail', 'payment', 'charge', 'month', 'email', 'agent', 'pay', 'charge', 'account', 'mail', 'last_day', 'action', 'mail', 'grievance', 'support', 'team', 'clear_due', 'clear_due', 'response', 'contact', 'phone', 'time', 'call', 'channel', 'phone', 'customer_service']</td>\n",
              "      <td id=\"T_21e7e_row2_col4\" class=\"data row2 col4\" >1</td>\n",
              "      <td id=\"T_21e7e_row2_col5\" class=\"data row2 col5\" >One sudden day, my ola account got blocked for permanently. When contacted the customer care, they said they had no information about my account getting blocked and asked me to drop mail to the ola grievance team, ever since the last 2 months, I have mailed multiple time s to the grievance team and other ola support emails, but got no valid response although have kept on receiving multiple mails and calls, for the payment of due ola money charges throughout last two months, I have confirmed them</td>\n",
              "    </tr>\n",
              "    <tr>\n",
              "      <th id=\"T_21e7e_level0_row3\" class=\"row_heading level0 row3\" >9997</th>\n",
              "      <td id=\"T_21e7e_row3_col0\" class=\"data row3 col0\" >3. Time</td>\n",
              "      <td id=\"T_21e7e_row3_col1\" class=\"data row3 col1\" >0.930600</td>\n",
              "      <td id=\"T_21e7e_row3_col2\" class=\"data row3 col2\" >driver, time, taxi, app, car, price, minute, service, work, trip</td>\n",
              "      <td id=\"T_21e7e_row3_col3\" class=\"data row3 col3\" >['euro', 'taxi', 'taximeter', 'fare', 'charge', 'taxi', 'fare', 'mean', 'trip', 'work', 'home', 'cost', 'taximeter', 'taxi', 'taxi', 'pricing', 'taximeter', 'taxi']</td>\n",
              "      <td id=\"T_21e7e_row3_col4\" class=\"data row3 col4\" >3</td>\n",
              "      <td id=\"T_21e7e_row3_col5\" class=\"data row3 col5\" >The prices vary multiple euros (more expensive) if the taxi is using a taximeter or using the app for the fare pricing. The app calculates a higher fare charge if you take same taxi fare pricing, but with different means of measurments. The trip from work to home costs around 7-8 euros with a taximeter taxi, but the private or the a taxi what uses the app, its 10-11 euros, even though the pricing is sometimes even cheaper than the taximeter taxi.</td>\n",
              "    </tr>\n",
              "    <tr>\n",
              "      <th id=\"T_21e7e_level0_row4\" class=\"row_heading level0 row4\" >18255</th>\n",
              "      <td id=\"T_21e7e_row4_col0\" class=\"data row4 col0\" >4. Service</td>\n",
              "      <td id=\"T_21e7e_row4_col1\" class=\"data row4 col1\" >0.905700</td>\n",
              "      <td id=\"T_21e7e_row4_col2\" class=\"data row4 col2\" >service, love, ride, driver, app, price, time, travel, experience, discount</td>\n",
              "      <td id=\"T_21e7e_row4_col3\" class=\"data row4 col3\" >['share_car', 'travel', 'use', 'fuel', 'driving', 'effort', 'company', 'chat', 'app', 'thousand', 'tonne', 'carbon', 'emission']</td>\n",
              "      <td id=\"T_21e7e_row4_col4\" class=\"data row4 col4\" >5</td>\n",
              "      <td id=\"T_21e7e_row4_col5\" class=\"data row4 col5\" >A great way to share car travel, while you make best use of fuel and the driving efforts, get a good company to chat along. This App is helping save thousands of tonnes of carbon emissions.</td>\n",
              "    </tr>\n",
              "    <tr>\n",
              "      <th id=\"T_21e7e_level0_row5\" class=\"row_heading level0 row5\" >23367</th>\n",
              "      <td id=\"T_21e7e_row5_col0\" class=\"data row5 col0\" >5. Others</td>\n",
              "      <td id=\"T_21e7e_row5_col1\" class=\"data row5 col1\" >0.937200</td>\n",
              "      <td id=\"T_21e7e_row5_col2\" class=\"data row5 col2\" >driver, ride, time, service, cab, location, app, auto, trip, customer</td>\n",
              "      <td id=\"T_21e7e_row5_col3\" class=\"data row5 col3\" >['train', 'ride', 'gandhinagar', 'ahmedabad', 'railway_station', 'ride', 'detail', 'min', 'pickup', 'time', 'without_intimation', 'unavailability', 'cab', 'area', 'time', 'app', 'book', 'cab', 'time']</td>\n",
              "      <td id=\"T_21e7e_row5_col4\" class=\"data row5 col4\" >1</td>\n",
              "      <td id=\"T_21e7e_row5_col5\" class=\"data row5 col5\" >I almost missed my train! I'd pre booked a ride from Gandhinagar to Ahmedabad railway station on 6-6- 2019. I got a msg that the ride was scheduled & the details would be msgd to me 10 mins prior the pickup time. The scheduled ride got cancelled without any intimation/msg due to the unavailability of cabs in that area. I waited for a long time & when I saw that the scheduled ride no longer appeared on my app, I'd to book a special cab paying 3 times more.This is very UNPROFESSIONAL!</td>\n",
              "    </tr>\n",
              "  </tbody>\n",
              "</table>\n"
            ],
            "text/plain": [
              "<pandas.io.formats.style.Styler at 0x7fb492f8fbd0>"
            ]
          },
          "metadata": {
            "tags": []
          },
          "execution_count": 7
        }
      ]
    },
    {
      "cell_type": "markdown",
      "metadata": {
        "id": "-BKTKXNFDbX5"
      },
      "source": [
        "#### Start Modeling BERT\n",
        "#### Code from [ktrain](https://github.com/amaiya/ktrain/)\n",
        "Using the topic labels as the target label, use BERT to classify the unseen data, and compare the results with the LDA model's prediction on the unseen data to see which model classified the unseen review better.\n",
        "<br><br>\n",
        "[Hugging Face](https://github.com/huggingface/transformers) may be a common package to use."
      ]
    },
    {
      "cell_type": "markdown",
      "metadata": {
        "id": "YgRTLvKzDbX6"
      },
      "source": [
        "#### In the training set, exclude examples that have 1/6 chance in the dominant topic. Because that means the dominant topic is just as likely as the other five topics."
      ]
    },
    {
      "cell_type": "code",
      "metadata": {
        "colab": {
          "base_uri": "https://localhost:8080/",
          "height": 646
        },
        "id": "iOD2DmrxDbX6",
        "outputId": "29d0958a-4cf4-44d7-d839-947b5e6fca43"
      },
      "source": [
        "mask = df.Perc_Contribution > 0.1667\n",
        "(x_train, y_train), (x_test, y_test), preproc = text.texts_from_df(df.loc[mask, ['review', 'Dominant_Topic']],\n",
        "                                                                   text_column = 'review',\n",
        "                                                                   label_columns = 'Dominant_Topic',\n",
        "                                                                   maxlen=512,\n",
        "                                                                   preprocess_mode='bert')"
      ],
      "execution_count": 8,
      "outputs": [
        {
          "output_type": "stream",
          "text": [
            "/usr/local/lib/python3.7/dist-packages/ktrain/utils.py:616: UserWarning: class_names implies classification but targets array contains float(s) instead of integers or strings\n",
            "  warnings.warn('class_names implies classification but targets array contains float(s) instead of integers or strings')\n",
            "/usr/local/lib/python3.7/dist-packages/ktrain/utils.py:616: UserWarning: class_names implies classification but targets array contains float(s) instead of integers or strings\n",
            "  warnings.warn('class_names implies classification but targets array contains float(s) instead of integers or strings')\n"
          ],
          "name": "stderr"
        },
        {
          "output_type": "stream",
          "text": [
            "['Dominant_Topic_0.0', 'Dominant_Topic_1.0', 'Dominant_Topic_2.0', 'Dominant_Topic_3.0', 'Dominant_Topic_4.0', 'Dominant_Topic_5.0']\n",
            "       Dominant_Topic_0.0  ...  Dominant_Topic_5.0\n",
            "27493                 0.0  ...                 0.0\n",
            "14505                 0.0  ...                 0.0\n",
            "11202                 0.0  ...                 0.0\n",
            "12805                 0.0  ...                 0.0\n",
            "28630                 0.0  ...                 0.0\n",
            "\n",
            "[5 rows x 6 columns]\n",
            "['Dominant_Topic_0.0', 'Dominant_Topic_1.0', 'Dominant_Topic_2.0', 'Dominant_Topic_3.0', 'Dominant_Topic_4.0', 'Dominant_Topic_5.0']\n",
            "       Dominant_Topic_0.0  ...  Dominant_Topic_5.0\n",
            "16460                 1.0  ...                 0.0\n",
            "26535                 1.0  ...                 0.0\n",
            "22078                 0.0  ...                 0.0\n",
            "7783                  0.0  ...                 1.0\n",
            "10926                 0.0  ...                 1.0\n",
            "\n",
            "[5 rows x 6 columns]\n",
            "downloading pretrained BERT model (uncased_L-12_H-768_A-12.zip)...\n",
            "[██████████████████████████████████████████████████]\n",
            "extracting pretrained BERT model...\n",
            "done.\n",
            "\n",
            "cleanup downloaded zip...\n",
            "done.\n",
            "\n",
            "preprocessing train...\n",
            "language: en\n"
          ],
          "name": "stdout"
        },
        {
          "output_type": "display_data",
          "data": {
            "text/html": [
              "done."
            ],
            "text/plain": [
              "<IPython.core.display.HTML object>"
            ]
          },
          "metadata": {
            "tags": []
          }
        },
        {
          "output_type": "stream",
          "text": [
            "Is Multi-Label? False\n",
            "preprocessing test...\n",
            "language: en\n"
          ],
          "name": "stdout"
        },
        {
          "output_type": "display_data",
          "data": {
            "text/html": [
              "done."
            ],
            "text/plain": [
              "<IPython.core.display.HTML object>"
            ]
          },
          "metadata": {
            "tags": []
          }
        }
      ]
    },
    {
      "cell_type": "code",
      "metadata": {
        "colab": {
          "base_uri": "https://localhost:8080/"
        },
        "id": "pEEm5MNcDbX7",
        "outputId": "59ed5597-74b1-49b0-eb37-7be1a8dc888d"
      },
      "source": [
        "# %%time\n",
        "# model = text.text_classifier(name='bert',\n",
        "#                              train_data=(x_train, y_train),\n",
        "#                              preproc=preproc)"
      ],
      "execution_count": null,
      "outputs": [
        {
          "output_type": "stream",
          "text": [
            "Is Multi-Label? False\n",
            "maxlen is 512\n",
            "done.\n",
            "CPU times: user 5.59 s, sys: 803 ms, total: 6.39 s\n",
            "Wall time: 10.9 s\n"
          ],
          "name": "stdout"
        }
      ]
    },
    {
      "cell_type": "code",
      "metadata": {
        "colab": {
          "base_uri": "https://localhost:8080/"
        },
        "id": "yaWaWrrlDbX7",
        "outputId": "87f4bf5c-d63e-4bb4-8d50-b845b37b2e54"
      },
      "source": [
        "# %%time\n",
        "# learner = ktrain.get_learner(model=model,\n",
        "#                              train_data=(x_train, y_train),\n",
        "#                              val_data=(x_test, y_test),\n",
        "#                              batch_size=1)"
      ],
      "execution_count": null,
      "outputs": [
        {
          "output_type": "stream",
          "text": [
            "CPU times: user 437 ms, sys: 456 ms, total: 893 ms\n",
            "Wall time: 1.38 s\n"
          ],
          "name": "stdout"
        }
      ]
    },
    {
      "cell_type": "code",
      "metadata": {
        "colab": {
          "base_uri": "https://localhost:8080/"
        },
        "id": "H05pgCdbDbX7",
        "outputId": "c9de0826-0b81-4f70-b232-51a93cd10847"
      },
      "source": [
        "%%time\n",
        "learner.fit_onecycle(lr=2e-5, epochs=1)"
      ],
      "execution_count": null,
      "outputs": [
        {
          "output_type": "stream",
          "text": [
            "\n",
            "\n",
            "begin training using onecycle policy with max lr of 2e-05...\n",
            "23835/23835 [==============================] - 8504s 356ms/step - loss: 1.1875 - accuracy: 0.5588 - val_loss: 0.8960 - val_accuracy: 0.6795\n",
            "CPU times: user 3h 8min 37s, sys: 12min 2s, total: 3h 20min 39s\n",
            "Wall time: 2h 22min 37s\n"
          ],
          "name": "stdout"
        },
        {
          "output_type": "execute_result",
          "data": {
            "text/plain": [
              "<tensorflow.python.keras.callbacks.History at 0x7f7daa0cd090>"
            ]
          },
          "metadata": {
            "tags": []
          },
          "execution_count": 9
        }
      ]
    },
    {
      "cell_type": "code",
      "metadata": {
        "colab": {
          "base_uri": "https://localhost:8080/"
        },
        "id": "wISZhuF4H291",
        "outputId": "81b8aebb-6fe7-49ed-8868-abfa56b7d59f"
      },
      "source": [
        "%%time\n",
        "# # reload Predictor and extract model\n",
        "model = ktrain.load_predictor('/content/gdrive/MyDrive/bert_model_all').model\n",
        "\n",
        "# # re-instantiate Learner and continue training\n",
        "learner = ktrain.get_learner(model=model,\n",
        "                             train_data=(x_train, y_train),\n",
        "                             val_data=(x_test, y_test),\n",
        "                             batch_size=1)\n",
        "# learner.fit_onecycle(2e-5, 1)"
      ],
      "execution_count": null,
      "outputs": [
        {
          "output_type": "stream",
          "text": [
            "CPU times: user 6.85 s, sys: 2.47 s, total: 9.32 s\n",
            "Wall time: 51.1 s\n"
          ],
          "name": "stdout"
        }
      ]
    },
    {
      "cell_type": "code",
      "metadata": {
        "id": "eV7DuNkZDbX8",
        "colab": {
          "base_uri": "https://localhost:8080/"
        },
        "outputId": "56a1dbd5-2484-4c6f-cb6f-a81d49782ba3"
      },
      "source": [
        "%%time\n",
        "# 2nd training, 26.07.2021 03:00 AM\n",
        "learner.fit_onecycle(2e-5, 1)"
      ],
      "execution_count": null,
      "outputs": [
        {
          "output_type": "stream",
          "text": [
            "\n",
            "\n",
            "begin training using onecycle policy with max lr of 2e-05...\n",
            "23363/23835 [============================>.] - ETA: 2:52 - loss: 0.8717 - accuracy: 0.6887"
          ],
          "name": "stdout"
        }
      ]
    },
    {
      "cell_type": "code",
      "metadata": {
        "id": "1hO8R_E_DbX9"
      },
      "source": [
        "%%time\n",
        "# save model and Preprocessor instance after partially training\n",
        "# ktrain.get_predictor(model, preproc).save('bert_model')\n",
        "# ktrain.get_predictor(model, preproc).save('bert_model_all')\n",
        "ktrain.get_predictor(model, preproc).save('bert_model_all_p2')"
      ],
      "execution_count": null,
      "outputs": []
    },
    {
      "cell_type": "code",
      "metadata": {
        "id": "ibZi-n_3ZalE"
      },
      "source": [
        "from google.colab import auth\n",
        "from googleapiclient.http import MediaFileUpload\n",
        "from googleapiclient.discovery import build\n",
        "\n",
        "auth.authenticate_user()"
      ],
      "execution_count": 17,
      "outputs": []
    },
    {
      "cell_type": "code",
      "metadata": {
        "id": "NFu_vnAGZc58"
      },
      "source": [
        "drive_service = build('drive', 'v3')\n",
        "\n",
        "def save_file_to_drive(name, path):\n",
        "  \n",
        "  file_metadata = {\n",
        "      'name': name,\n",
        "      'mimeType': 'application/octet-stream'\n",
        "      }\n",
        "  media = MediaFileUpload(path, mimetype='application/octet-stream', resumable=True)\n",
        "\n",
        "  created = drive_service.files().create(body=file_metadata,\n",
        "                                media_body=media,\n",
        "                                fields='id').execute()\n",
        "\n",
        "  print('File ID: {}'.format(created.get('id')))\n",
        "\n",
        "  return created\n"
      ],
      "execution_count": 20,
      "outputs": []
    },
    {
      "cell_type": "code",
      "metadata": {
        "colab": {
          "base_uri": "https://localhost:8080/"
        },
        "id": "l1EsO_H7Zdyu",
        "outputId": "8bf692d6-26c9-4d49-efb1-a31b9a7c8fa1"
      },
      "source": [
        "# save_file_to_drive('/', '/content/bert_model_all/tf_model.h5')\n",
        "# save_file_to_drive('bert_model_all/', '/content/bert_model_all/tf_model.h5')\n",
        "# save_file_to_drive('bert_model_all/', '/content/bert_model_all/tf_model.preproc')\n",
        "save_file_to_drive('bert_model_all_p2.h5', '/content/bert_model_all_p2/tf_model.h5')\n",
        "save_file_to_drive('bert_model_all_p2.preproc', '/content/bert_model_all_p2/tf_model.preproc')"
      ],
      "execution_count": null,
      "outputs": [
        {
          "output_type": "stream",
          "text": [
            "File ID: 1Qbb8ct6CZtRy7rpb583EWcV5QxDdBGdN\n",
            "File ID: 1E5dXpvpOKQ6fZE31x_-WaWeGW3Pc1kug\n"
          ],
          "name": "stdout"
        },
        {
          "output_type": "execute_result",
          "data": {
            "text/plain": [
              "{'id': '1E5dXpvpOKQ6fZE31x_-WaWeGW3Pc1kug'}"
            ]
          },
          "metadata": {
            "tags": []
          },
          "execution_count": 15
        }
      ]
    },
    {
      "cell_type": "code",
      "metadata": {
        "id": "elmuawXYJsKW"
      },
      "source": [
        "%%time\n",
        "# 3rd training, 26.07.2021 ETA 05:00 AM bert_model_all_p3\n",
        "learner.fit_onecycle(2e-5, 1)"
      ],
      "execution_count": null,
      "outputs": []
    },
    {
      "cell_type": "code",
      "metadata": {
        "id": "VE0A8o6G-S2P"
      },
      "source": [
        "%%time\n",
        "# save model and Preprocessor instance after partially training\n",
        "ktrain.get_predictor(model, preproc).save('bert_model_all_p3')\n",
        "\n",
        "save_file_to_drive('bert_model_all_p3.h5', '/content/bert_model_all_p3/tf_model.h5')\n",
        "save_file_to_drive('bert_model_all_p3.preproc', '/content/bert_model_all_p3/tf_model.preproc')"
      ],
      "execution_count": null,
      "outputs": []
    },
    {
      "cell_type": "code",
      "metadata": {
        "id": "53rAP26zKCa8"
      },
      "source": [
        "# save_file_to_drive('bert_model_all_p3.h5', '/content/bert_model_all_p3/tf_model.h5')\n",
        "# save_file_to_drive('bert_model_all_p3.preproc', '/content/bert_model_all_p3/tf_model.preproc')"
      ],
      "execution_count": null,
      "outputs": []
    },
    {
      "cell_type": "code",
      "metadata": {
        "colab": {
          "base_uri": "https://localhost:8080/"
        },
        "id": "s6KpcIemDbYE",
        "outputId": "e7568fbd-f596-4416-b9b6-1f9ba493a7e3"
      },
      "source": [
        "# %%time\n",
        "# # # reload Predictor and extract model\n",
        "# model = ktrain.load_predictor('bert_model_v0271').model\n",
        "\n",
        "# # # re-instantiate Learner and continue training\n",
        "# # learner = ktrain.get_learner(model=model,\n",
        "# #                              train_data=(x_train, y_train),\n",
        "# #                              val_data=(x_test, y_test),\n",
        "# #                              batch_size=1)\n",
        "# # learner.fit_onecycle(2e-5, 1)"
      ],
      "execution_count": null,
      "outputs": [
        {
          "output_type": "stream",
          "text": [
            "CPU times: user 7.95 s, sys: 1.13 s, total: 9.08 s\n",
            "Wall time: 8.7 s\n"
          ],
          "name": "stdout"
        }
      ]
    },
    {
      "cell_type": "code",
      "metadata": {
        "id": "ICsMaD56YS9u"
      },
      "source": [
        "# %%time\n",
        "# # save model and Preprocessor instance after partially training\n",
        "# ktrain.get_predictor(model, preproc).save('bert_model_v0271_part2')"
      ],
      "execution_count": null,
      "outputs": []
    },
    {
      "cell_type": "markdown",
      "metadata": {
        "id": "ao_KL6aeDbYI"
      },
      "source": [
        "### Predicting Topic with unseen text(validation set)"
      ]
    },
    {
      "cell_type": "code",
      "metadata": {
        "id": "tXhEgBJY828z"
      },
      "source": [
        "# pip install pickle5"
      ],
      "execution_count": null,
      "outputs": []
    },
    {
      "cell_type": "code",
      "metadata": {
        "id": "MgY91Q4R9FQF"
      },
      "source": [
        "import pickle5 as pickle\n",
        "with open('prediction/LDA_preds.pkl', \"rb\") as fh:\n",
        "  LDA_preds = pickle.load(fh)\n",
        "\n",
        "# LDA_preds"
      ],
      "execution_count": null,
      "outputs": []
    },
    {
      "cell_type": "code",
      "metadata": {
        "id": "OUsFij7XDbYQ"
      },
      "source": [
        "# BERT_preds, BERT_proba = pd.read_pickle('prediction/BERT_preds.pkl'), pd.read_pickle('prediction/BERT_proba.pkl')\n",
        "# LDA_preds, LDA_proba = pd.read_pickle('prediction/LDA_preds.pkl'), pd.read_pickle('prediction/LDA_proba.pkl')\n",
        "# LDA_preds = pd.read_pickle('prediction/LDA_preds.pkl')"
      ],
      "execution_count": null,
      "outputs": []
    },
    {
      "cell_type": "code",
      "metadata": {
        "id": "PmoCiCE4a7jp"
      },
      "source": [
        "# BERT_preds\n",
        "# BERT_proba\n",
        "# LDA_preds\n",
        "# LDA_proba"
      ],
      "execution_count": null,
      "outputs": []
    },
    {
      "cell_type": "code",
      "metadata": {
        "id": "Y045We7SDbYR"
      },
      "source": [
        "# Import hold_out validation dataset\n",
        "# df = pd.read_pickle('raw_data/netflix_val.pkl')\n",
        "df_val = pd.read_csv('raw_data/all_reviews_p2.csv', index_col=0)\n",
        "df_val = df_val.reset_index(drop=True)\n",
        "df_val = df_val.head(6000)\n",
        "reviews = df_val.review.values.tolist()\n",
        "# reviews"
      ],
      "execution_count": null,
      "outputs": []
    },
    {
      "cell_type": "code",
      "metadata": {
        "id": "1SbvfuOpz4Gm"
      },
      "source": [
        "# df_val.to_pickle('raw_data/all_reviews_p2_6000_val.pkl')"
      ],
      "execution_count": null,
      "outputs": []
    },
    {
      "cell_type": "code",
      "metadata": {
        "id": "9TS6kI8PkrmG"
      },
      "source": [
        "from google.colab import auth\n",
        "from googleapiclient.http import MediaFileUpload\n",
        "from googleapiclient.discovery import build\n",
        "\n",
        "auth.authenticate_user()"
      ],
      "execution_count": 12,
      "outputs": []
    },
    {
      "cell_type": "code",
      "metadata": {
        "colab": {
          "base_uri": "https://localhost:8080/"
        },
        "id": "4J48qZJnkrTZ",
        "outputId": "4227d329-9462-4451-9db5-756d1794a75f"
      },
      "source": [
        "from google.colab import drive\n",
        "# drive.mount('/content/gdrive')\n",
        "drive.mount(\"/content/gdrive\", force_remount=True)"
      ],
      "execution_count": 13,
      "outputs": [
        {
          "output_type": "stream",
          "text": [
            "Mounted at /content/gdrive\n"
          ],
          "name": "stdout"
        }
      ]
    },
    {
      "cell_type": "code",
      "metadata": {
        "id": "fDWCsWw0kniT"
      },
      "source": [
        "# reload Predictor and extract model\n",
        "# model = ktrain.load_predictor('bert_model').model\n",
        "model = ktrain.load_predictor('/content/gdrive/MyDrive/bert_model_all_p3').model\n",
        "\n",
        "\n",
        "# # re-instantiate Learner\n",
        "learner = ktrain.get_learner(model=model,\n",
        "                             train_data=(x_train, y_train),\n",
        "                             val_data=(x_test, y_test),\n",
        "                             batch_size=1)"
      ],
      "execution_count": 14,
      "outputs": []
    },
    {
      "cell_type": "code",
      "metadata": {
        "id": "QKwU1vkaLiMm",
        "outputId": "88866319-30ae-4edf-a703-1ea4277889a8",
        "colab": {
          "base_uri": "https://localhost:8080/"
        }
      },
      "source": [
        "%%time\n",
        "# 4th training, 26.07.2021 ETA 05:00 AM bert_model_all_p3\n",
        "learner.fit_onecycle(2e-5, 1)"
      ],
      "execution_count": 19,
      "outputs": [
        {
          "output_type": "stream",
          "text": [
            "\n",
            "\n",
            "begin training using onecycle policy with max lr of 2e-05...\n",
            "23835/23835 [==============================] - 10467s 439ms/step - loss: 0.4546 - accuracy: 0.8492 - val_loss: 0.3935 - val_accuracy: 0.8735\n",
            "CPU times: user 3h 11min 46s, sys: 21min 7s, total: 3h 32min 53s\n",
            "Wall time: 2h 55min 22s\n"
          ],
          "name": "stdout"
        },
        {
          "output_type": "execute_result",
          "data": {
            "text/plain": [
              "<tensorflow.python.keras.callbacks.History at 0x7fb3cc32f510>"
            ]
          },
          "metadata": {
            "tags": []
          },
          "execution_count": 19
        }
      ]
    },
    {
      "cell_type": "code",
      "metadata": {
        "id": "gns1irQkLiXV",
        "outputId": "9b0c77a0-e099-470f-9e24-2420d7ad8239",
        "colab": {
          "base_uri": "https://localhost:8080/"
        }
      },
      "source": [
        "%%time\n",
        "# save model and Preprocessor instance after partially training\n",
        "ktrain.get_predictor(model, preproc).save('bert_model_all_p4')\n",
        "\n",
        "save_file_to_drive('bert_model_all_p4.h5', '/content/bert_model_all_p4/tf_model.h5')\n",
        "save_file_to_drive('bert_model_all_p4.preproc', '/content/bert_model_all_p4/tf_model.preproc')"
      ],
      "execution_count": 21,
      "outputs": [
        {
          "output_type": "stream",
          "text": [
            "/usr/local/lib/python3.7/dist-packages/tensorflow/python/keras/utils/generic_utils.py:497: CustomMaskWarning: Custom mask layers require a config and must override get_config. When loading, the custom mask layer must be passed to the custom_objects argument.\n",
            "  category=CustomMaskWarning)\n"
          ],
          "name": "stderr"
        },
        {
          "output_type": "stream",
          "text": [
            "File ID: 18_bNc_Br5JwXQLG6C42S4stUuUK_Tm9_\n",
            "File ID: 1rRNVgeNfeyJdEAZw0zTgIrwmmCJ0OFjF\n",
            "CPU times: user 3.28 s, sys: 2.09 s, total: 5.37 s\n",
            "Wall time: 23.9 s\n"
          ],
          "name": "stdout"
        }
      ]
    },
    {
      "cell_type": "code",
      "metadata": {
        "id": "4w3EDZfrLigW"
      },
      "source": [
        ""
      ],
      "execution_count": null,
      "outputs": []
    },
    {
      "cell_type": "code",
      "metadata": {
        "id": "1TWY6r7zLinl"
      },
      "source": [
        ""
      ],
      "execution_count": null,
      "outputs": []
    },
    {
      "cell_type": "code",
      "metadata": {
        "id": "K6Ywb1XVk7cW"
      },
      "source": [
        "predictor = ktrain.get_predictor(learner.model, preproc)"
      ],
      "execution_count": null,
      "outputs": []
    },
    {
      "cell_type": "code",
      "metadata": {
        "colab": {
          "base_uri": "https://localhost:8080/"
        },
        "id": "tQik1kl4k-Au",
        "outputId": "11a52528-aa65-41de-89da-c312e8c720b3"
      },
      "source": [
        "%time predicted_topics = predictor.predict(reviews)"
      ],
      "execution_count": null,
      "outputs": [
        {
          "output_type": "stream",
          "text": [
            "CPU times: user 39.1 s, sys: 4.87 s, total: 44 s\n",
            "Wall time: 4min 26s\n"
          ],
          "name": "stdout"
        }
      ]
    },
    {
      "cell_type": "code",
      "metadata": {
        "id": "zjrEhWU5k-Wc"
      },
      "source": [
        "BERT_preds = [float(topic.replace('Dominant_Topic_', '')) for topic in predicted_topics]"
      ],
      "execution_count": null,
      "outputs": []
    },
    {
      "cell_type": "code",
      "metadata": {
        "colab": {
          "base_uri": "https://localhost:8080/"
        },
        "id": "QxeHypxjlF8x",
        "outputId": "2ba6ae39-fe10-4e8c-f452-f523faa0094a"
      },
      "source": [
        "%time BERT_proba = predictor.predict_proba(reviews)"
      ],
      "execution_count": null,
      "outputs": [
        {
          "output_type": "stream",
          "text": [
            "CPU times: user 35.4 s, sys: 4.8 s, total: 40.2 s\n",
            "Wall time: 5min 24s\n"
          ],
          "name": "stdout"
        }
      ]
    },
    {
      "cell_type": "code",
      "metadata": {
        "id": "LxlsAx4bDbYS"
      },
      "source": [
        "# predictor = ktrain.get_predictor(learner.model, preproc)\n",
        "\n",
        "# %time predicted_topics = predictor.predict(reviews)\n",
        "# BERT_preds = [float(topic) for topic in predicted_topics]\n",
        "\n",
        "# %time BERT_proba = predictor.predict_proba(reviews)"
      ],
      "execution_count": null,
      "outputs": []
    },
    {
      "cell_type": "code",
      "metadata": {
        "id": "2m_5uuZSzmx9"
      },
      "source": [
        "LDA_preds = LDA_preds[:6000]"
      ],
      "execution_count": null,
      "outputs": []
    },
    {
      "cell_type": "code",
      "metadata": {
        "colab": {
          "base_uri": "https://localhost:8080/"
        },
        "id": "nUyBx-3zlINC",
        "outputId": "c64e3e7e-f92b-48da-fc72-643d21a1fd9d"
      },
      "source": [
        "# len(BERT_preds)\n",
        "# len(LDA_preds)"
      ],
      "execution_count": null,
      "outputs": [
        {
          "output_type": "execute_result",
          "data": {
            "text/plain": [
              "6000"
            ]
          },
          "metadata": {
            "tags": []
          },
          "execution_count": 62
        }
      ]
    },
    {
      "cell_type": "code",
      "metadata": {
        "id": "w5rxo_hllIAy"
      },
      "source": [
        "# BERT_proba"
      ],
      "execution_count": null,
      "outputs": []
    },
    {
      "cell_type": "code",
      "metadata": {
        "id": "QQltUmFXDbYS"
      },
      "source": [
        "pd.to_pickle(BERT_preds, 'prediction/BERT_preds.pkl')\n",
        "pd.to_pickle(BERT_proba, 'prediction/BERT_proba.pkl')"
      ],
      "execution_count": null,
      "outputs": []
    },
    {
      "cell_type": "markdown",
      "metadata": {
        "id": "sXgjgl7dDbYT"
      },
      "source": [
        "#### Compare with LDA model"
      ]
    },
    {
      "cell_type": "markdown",
      "metadata": {
        "id": "fpNScepBDbYU"
      },
      "source": [
        "Only 21.66% of the predicted labels are the same.."
      ]
    },
    {
      "cell_type": "code",
      "metadata": {
        "colab": {
          "base_uri": "https://localhost:8080/"
        },
        "id": "yT5sFozYDbYU",
        "outputId": "723e4c71-f052-4f2f-85c4-8a3a4b915a1e"
      },
      "source": [
        "# mask = LDA_preds == np.array(BERT_preds)\n",
        "# sum(mask) / len(BERT_preds)"
      ],
      "execution_count": null,
      "outputs": [
        {
          "output_type": "execute_result",
          "data": {
            "text/plain": [
              "0.4322775744071303"
            ]
          },
          "metadata": {
            "tags": []
          },
          "execution_count": 36
        }
      ]
    },
    {
      "cell_type": "code",
      "metadata": {
        "colab": {
          "base_uri": "https://localhost:8080/"
        },
        "id": "70oNJ3DB9uhq",
        "outputId": "238bca88-0f2f-4987-b417-f9761751daac"
      },
      "source": [
        "np.array(LDA_preds)"
      ],
      "execution_count": null,
      "outputs": [
        {
          "output_type": "execute_result",
          "data": {
            "text/plain": [
              "array([2., 1., 2., ..., 2., 2., 4.])"
            ]
          },
          "metadata": {
            "tags": []
          },
          "execution_count": 82
        }
      ]
    },
    {
      "cell_type": "code",
      "metadata": {
        "colab": {
          "base_uri": "https://localhost:8080/"
        },
        "id": "VmLe-u5j9ohM",
        "outputId": "807fb72c-882b-46a3-98b0-db6d08e84ba9"
      },
      "source": [
        "np.array(BERT_preds)"
      ],
      "execution_count": null,
      "outputs": [
        {
          "output_type": "execute_result",
          "data": {
            "text/plain": [
              "array([2., 1., 2., ..., 1., 4., 0.])"
            ]
          },
          "metadata": {
            "tags": []
          },
          "execution_count": 79
        }
      ]
    },
    {
      "cell_type": "code",
      "metadata": {
        "colab": {
          "base_uri": "https://localhost:8080/"
        },
        "id": "_bVg6D-xxwJF",
        "outputId": "ac90f15d-ef63-4060-f1b4-644789233346"
      },
      "source": [
        "# mask = LDA_preds == np.array(BERT_preds)\n",
        "mask = np.array(LDA_preds) == np.array(BERT_preds)\n",
        "sum(mask) / len(BERT_preds)"
      ],
      "execution_count": null,
      "outputs": [
        {
          "output_type": "execute_result",
          "data": {
            "text/plain": [
              "0.21666666666666667"
            ]
          },
          "metadata": {
            "tags": []
          },
          "execution_count": 83
        }
      ]
    },
    {
      "cell_type": "markdown",
      "metadata": {
        "id": "Kw5rbeU3DbYV"
      },
      "source": [
        "### Predicting Topic with ad-hoc text"
      ]
    },
    {
      "cell_type": "code",
      "metadata": {
        "id": "QSRbvsqKDbYV"
      },
      "source": [
        "# new_text = \"I think I really like the app. Thanks for making this useful app.\"\n",
        "new_text = \"Loving the app, but can only give it a medium rating at the moment as the drivers you give a bad rating on still gets your trip. I had a bad experience with a driver outside my apartment, but he always gets my rides as he's parked there when with my one star and bad review (refused to drive to the destination, rude and aggressive).\""
      ],
      "execution_count": null,
      "outputs": []
    },
    {
      "cell_type": "code",
      "metadata": {
        "id": "qEkApGUlDbYW"
      },
      "source": [
        "# model = ktrain.load_predictor('bert_model').model\n",
        "# preproc = ktrain.load_predictor('bert_model').preproc\n",
        "# predictor = ktrain.get_predictor(model, preproc)"
      ],
      "execution_count": null,
      "outputs": []
    },
    {
      "cell_type": "code",
      "metadata": {
        "colab": {
          "base_uri": "https://localhost:8080/"
        },
        "id": "kdXWmxNkDbYW",
        "outputId": "2343cb71-020a-4e2c-e229-04160ea2d192"
      },
      "source": [
        "predictor.predict(new_text, return_proba=True)"
      ],
      "execution_count": null,
      "outputs": [
        {
          "output_type": "execute_result",
          "data": {
            "text/plain": [
              "array([0.05290329, 0.75876015, 0.01160376, 0.05958213, 0.01841391,\n",
              "       0.09873671], dtype=float32)"
            ]
          },
          "metadata": {
            "tags": []
          },
          "execution_count": 94
        }
      ]
    },
    {
      "cell_type": "code",
      "metadata": {
        "colab": {
          "base_uri": "https://localhost:8080/"
        },
        "id": "ONFLlPjZDbYW",
        "outputId": "86a2ecea-5beb-457d-a532-0add8f42ae66"
      },
      "source": [
        "percentages = predictor.predict(new_text, return_proba=True)\n",
        "topics = [\"Trouble-shooting\", \"User-Experience\", \"Cost-Value\", \"Time\", \"Service\", \"Others\"]\n",
        "indices = np.argsort(percentages)[::-1]\n",
        "[topics[index] for index in indices]"
      ],
      "execution_count": null,
      "outputs": [
        {
          "output_type": "execute_result",
          "data": {
            "text/plain": [
              "['User-Experience',\n",
              " 'Others',\n",
              " 'Time',\n",
              " 'Trouble-shooting',\n",
              " 'Service',\n",
              " 'Cost-Value']"
            ]
          },
          "metadata": {
            "tags": []
          },
          "execution_count": 95
        }
      ]
    },
    {
      "cell_type": "code",
      "metadata": {
        "colab": {
          "base_uri": "https://localhost:8080/"
        },
        "id": "XUVma-4TDbYX",
        "outputId": "88ee190c-fc7b-4308-eeb1-7d7fcdd0847b"
      },
      "source": [
        "[100*np.round(percentages[index], 3) for index in indices]"
      ],
      "execution_count": null,
      "outputs": [
        {
          "output_type": "execute_result",
          "data": {
            "text/plain": [
              "[75.90000033378601,\n",
              " 9.89999994635582,\n",
              " 5.999999865889549,\n",
              " 5.299999937415123,\n",
              " 1.7999999225139618,\n",
              " 1.2000000104308128]"
            ]
          },
          "metadata": {
            "tags": []
          },
          "execution_count": 96
        }
      ]
    },
    {
      "cell_type": "markdown",
      "metadata": {
        "id": "Esnu5tQyDbYX"
      },
      "source": [
        "### Plotting the word embeddings"
      ]
    },
    {
      "cell_type": "markdown",
      "metadata": {
        "id": "U4bJVWL_DbYX"
      },
      "source": [
        "There's 9149 documents with 512 dimensions for embedding in training set and 6283 documents with 512 dimensions for embedding in validation set."
      ]
    },
    {
      "cell_type": "markdown",
      "metadata": {
        "id": "V6k13tTpDbYX"
      },
      "source": [
        "### TSNE\n",
        "According to the [source code](https://github.com/amaiya/ktrain/blob/master/ktrain/text/preprocessor.py), BERTPreprocessor's preprocess function returns (preprocessed x, preprocessed y)"
      ]
    },
    {
      "cell_type": "code",
      "metadata": {
        "id": "dmNVV5uPDbYY"
      },
      "source": [
        "preproc_val = preproc.preprocess(reviews)\n",
        "preprocessed_X = preproc_val[0]\n",
        "tsne = TSNE(n_components=3, random_state = 0)"
      ],
      "execution_count": null,
      "outputs": []
    },
    {
      "cell_type": "code",
      "metadata": {
        "id": "-b4IlzAjDbYo",
        "colab": {
          "base_uri": "https://localhost:8080/"
        },
        "outputId": "2890f6bd-eb99-44c3-8c2f-573db405b7a7"
      },
      "source": [
        "%time tsne_3d_coordinates = tsne.fit_transform(preprocessed_X)"
      ],
      "execution_count": null,
      "outputs": [
        {
          "output_type": "stream",
          "text": [
            "CPU times: user 7min 56s, sys: 685 ms, total: 7min 57s\n",
            "Wall time: 4min 18s\n"
          ],
          "name": "stdout"
        }
      ]
    },
    {
      "cell_type": "markdown",
      "metadata": {
        "id": "tnOFp_rRDbYo"
      },
      "source": [
        "#### Representative embeddings with 99.5% probability"
      ]
    },
    {
      "cell_type": "code",
      "metadata": {
        "id": "uDnO5NbqDbYp",
        "colab": {
          "base_uri": "https://localhost:8080/"
        },
        "outputId": "5d8cd46e-7c59-4d17-dc89-c9dbd24f5a7a"
      },
      "source": [
        "print(BERT_proba.argmax(axis=0))\n",
        "print(BERT_proba.max(axis=0).round(5))\n",
        "# [\"Trouble-shooting\", \"User-Experience\", \"Cost-Value\", \"Time\", \"Service\", \"Others\"]"
      ],
      "execution_count": null,
      "outputs": [
        {
          "output_type": "stream",
          "text": [
            "[3436 1998 1742 3032  475 2268]\n",
            "[0.94768 0.98635 0.94452 0.93476 0.98977 0.93264]\n"
          ],
          "name": "stdout"
        }
      ]
    },
    {
      "cell_type": "code",
      "metadata": {
        "id": "67XxA46qDbYp"
      },
      "source": [
        "df_reset_index = df.reset_index(drop=True)\n",
        "representative_reviews = df_reset_index.iloc[BERT_proba.argmax(axis=0), :]['review'].values"
      ],
      "execution_count": null,
      "outputs": []
    },
    {
      "cell_type": "markdown",
      "metadata": {
        "id": "f14xX7G0DbYp"
      },
      "source": [
        "### BERT visualization"
      ]
    },
    {
      "cell_type": "code",
      "metadata": {
        "id": "l-B417RfDbYq",
        "colab": {
          "base_uri": "https://localhost:8080/"
        },
        "outputId": "4ecce8c7-94f6-4531-f2c8-6cefe20bfa19"
      },
      "source": [
        "total_indices = np.array(range(len(BERT_proba)))\n",
        "major_docs = total_indices[BERT_proba.max(axis=1) >= 0.99]\n",
        "x_coords, y_coords, z_coords = tsne_3d_coordinates[major_docs,0], tsne_3d_coordinates[major_docs,1], tsne_3d_coordinates[major_docs, 2]\n",
        "len(major_docs)"
      ],
      "execution_count": null,
      "outputs": [
        {
          "output_type": "execute_result",
          "data": {
            "text/plain": [
              "0"
            ]
          },
          "metadata": {
            "tags": []
          },
          "execution_count": 103
        }
      ]
    },
    {
      "cell_type": "code",
      "metadata": {
        "id": "0c_JoUITDbYq",
        "colab": {
          "base_uri": "https://localhost:8080/",
          "height": 575
        },
        "outputId": "a270cf28-f33b-442b-af40-75963d4f5ebf"
      },
      "source": [
        "fig = plt.figure(figsize=(10,10))\n",
        "ax = plt.axes(projection='3d')\n",
        "colors = ['green', 'lightpink', 'gray', 'dodgerblue', 'darkred', 'goldenrod']\n",
        "for label in [4, 1, 5]:\n",
        "    mask = np.array(BERT_preds)[major_docs] == label\n",
        "    ax.scatter3D(x_coords[mask], y_coords[mask], z_coords[mask], c=colors[label], label=topic_dict[label], alpha=.4, marker = 'o', s=200)\n",
        "\n",
        "# for label in [0, 2, 3]:\n",
        "#     mask = np.array(BERT_preds)[major_docs] == label\n",
        "#     ax.scatter3D(x_coords[mask], y_coords[mask], z_coords[mask], facecolor=(1,1,1,0), edgecolor=colors[label],alpha=1, label=topic_dict[label], marker = '^', s=10)\n",
        "\n",
        "ax.grid(False)\n",
        "ax.legend();\n",
        "# plt.savefig('images/{}'.format(\"bert_tsne\"), dpi=200, transparent=True, bbox_inches = \"tight\");"
      ],
      "execution_count": null,
      "outputs": [
        {
          "output_type": "display_data",
          "data": {
            "image/png": "[encoded data removed]",
            "text/plain": [
              "<Figure size 720x720 with 1 Axes>"
            ]
          },
          "metadata": {
            "tags": [],
            "needs_background": "light"
          }
        }
      ]
    },
    {
      "cell_type": "code",
      "metadata": {
        "id": "MifyS-BTDbYr",
        "colab": {
          "base_uri": "https://localhost:8080/"
        },
        "outputId": "35861f5b-5910-40e6-a093-77f9c52a2292"
      },
      "source": [
        "print(matplotlib.colors.to_rgba(\"green\"), matplotlib.colors.cnames[\"lightpink\"], matplotlib.colors.cnames[\"gray\"],\n",
        "      matplotlib.colors.cnames[\"dodgerblue\"], matplotlib.colors.cnames[\"darkred\"], matplotlib.colors.cnames[\"goldenrod\"])"
      ],
      "execution_count": null,
      "outputs": [
        {
          "output_type": "stream",
          "text": [
            "(0.0, 0.5019607843137255, 0.0, 1.0) #FFB6C1 #808080 #1E90FF #8B0000 #DAA520\n"
          ],
          "name": "stdout"
        }
      ]
    },
    {
      "cell_type": "markdown",
      "metadata": {
        "id": "iHs3iN08DbYs"
      },
      "source": [
        "### Wordcloud"
      ]
    },
    {
      "cell_type": "code",
      "metadata": {
        "id": "JxsAS4ihDbYt",
        "colab": {
          "base_uri": "https://localhost:8080/",
          "height": 164,
          "referenced_widgets": [
            "98f321e9da294bc586849e4540a2d036",
            "cfd3682e9b454a7cbb11261bd96b2187",
            "7c6e240c4ddf4f7faf8350ae1aca5b25",
            "4f60e03ab90c4f66a27458184b4f39db",
            "3ccb1d86ca71473e9323153cda2f03c3",
            "c0053e6412d7498385f7393ca500eb4e",
            "06e8c7b7675542769006aa63ebe699d5",
            "a691e62b7fbe4fc9ad4e6fc5d141f82a",
            "d5f12b15ae8d4de684487e3354d15351",
            "94551d4b5d1142e191850776d10890dc",
            "036d616db7a5453f940e7e066b0bee06",
            "1f75d1433f8d49efbaa53b7eeddbc87f",
            "db8cb1bc23cf45e083ba502f36a6dbbe",
            "b74945982a55456a9e81d815b86b9fee",
            "f8507b1bc49344209d12aded635f5895",
            "e65bc14ac96a4a009a128e0f278b7488",
            "09a1307b987d48458937b69c01614bde",
            "e7051c3401ec4021b45992730d5b68c4",
            "0ceaf3e372c643c9abf2d89bad450d1b",
            "ed9d5121e0324fa9a03dcd69070b4fcb",
            "d3fbdc8e42024a83a37220b33b2d1d2d",
            "021673b7c2394076a0adc8fcb9848420",
            "3eb27a62b65546b5b2461d41029eae5e",
            "05fc9b82dfba4aa287d2668067e48b5e"
          ]
        },
        "outputId": "e020a6da-aad1-4f82-dc1b-8e5db106f961"
      },
      "source": [
        "reviews_df = pd.concat([pd.Series(reviews), pd.Series(BERT_preds)], axis = 1)\n",
        "reviews_df.columns = ['review', 'pred']\n",
        "\n",
        "tokenizer = BertTokenizer.from_pretrained('bert-base-uncased')\n",
        "model = TFBertModel.from_pretrained('bert-base-uncased')\n",
        "\n",
        "tokenized_text = []\n",
        "for review in reviews_df.loc[:,'review']:\n",
        "    tokenized_text.append(tokenizer.tokenize(review))"
      ],
      "execution_count": null,
      "outputs": [
        {
          "output_type": "display_data",
          "data": {
            "application/vnd.jupyter.widget-view+json": {
              "model_id": "98f321e9da294bc586849e4540a2d036",
              "version_minor": 0,
              "version_major": 2
            },
            "text/plain": [
              "HBox(children=(FloatProgress(value=0.0, description='Downloading', max=231508.0, style=ProgressStyle(descripti…"
            ]
          },
          "metadata": {
            "tags": []
          }
        },
        {
          "output_type": "stream",
          "text": [
            "\n"
          ],
          "name": "stdout"
        },
        {
          "output_type": "display_data",
          "data": {
            "application/vnd.jupyter.widget-view+json": {
              "model_id": "d5f12b15ae8d4de684487e3354d15351",
              "version_minor": 0,
              "version_major": 2
            },
            "text/plain": [
              "HBox(children=(FloatProgress(value=0.0, description='Downloading', max=570.0, style=ProgressStyle(description_…"
            ]
          },
          "metadata": {
            "tags": []
          }
        },
        {
          "output_type": "stream",
          "text": [
            "\n"
          ],
          "name": "stdout"
        },
        {
          "output_type": "display_data",
          "data": {
            "application/vnd.jupyter.widget-view+json": {
              "model_id": "09a1307b987d48458937b69c01614bde",
              "version_minor": 0,
              "version_major": 2
            },
            "text/plain": [
              "HBox(children=(FloatProgress(value=0.0, description='Downloading', max=536063208.0, style=ProgressStyle(descri…"
            ]
          },
          "metadata": {
            "tags": []
          }
        },
        {
          "output_type": "stream",
          "text": [
            "\n"
          ],
          "name": "stdout"
        }
      ]
    },
    {
      "cell_type": "code",
      "metadata": {
        "id": "zfbCCRjmDbYx"
      },
      "source": [
        "def one_string(texts, boolean_mask):\n",
        "    thing = ' '.join([' '.join(item) for item in [row for row, boolean in zip(texts, boolean_mask) if boolean]])\n",
        "    thing = re.sub(r'[ ]{2,}', ' ', thing)\n",
        "    return re.sub(r'#', '', thing)\n",
        "\n",
        "def create_wordcloud(img_directory, id, contour_width=3, contour_color='green', background_color=\"white\"):\n",
        "    topic_ids = np.array(reviews_df.pred)\n",
        "    mask = np.array(Image.open(img_directory))\n",
        "    stop_words = set(stopwords.words('english')) | {'<','>',\"'\",'-','/',',','!','.','br','&',';','?',')','#','##s','##ing','le','ha','wa',\n",
        "                                                'would','great','watch','stars','bolt','taxify','uber','blablacar'}\n",
        "    # Removed words that appeared in all or most topics\n",
        "    wc = WordCloud(background_color=background_color, max_words=15, mask=mask, stopwords=stop_words,\n",
        "                   max_font_size=100, random_state=40, contour_width=contour_width, contour_color=contour_color)\n",
        "    wc.generate(one_string(tokenized_text, topic_ids == id))\n",
        "    return wc"
      ],
      "execution_count": null,
      "outputs": []
    },
    {
      "cell_type": "code",
      "metadata": {
        "id": "dQGJKMqsDbYx"
      },
      "source": [
        "# plt.figure(figsize=(10,6))\n",
        "# plt.title('Trouble-shooting(Video-related)', fontsize=20); plt.imshow(create_wordcloud('images/problem.png', 4,contour_color='darkred'), interpolation='spline36'); plt.axis(\"off\");\n",
        "# plt.savefig('images/{}'.format(\"bert_trouble\"), dpi=200, transparent=True, bbox_inches = \"tight\")\n",
        "# plt.figure(figsize=(10,6))\n",
        "# plt.title('User Experience', fontsize=20); plt.imshow(create_wordcloud('images/family.png', 1,contour_color='lightpink'), interpolation='spline36'); plt.axis(\"off\");\n",
        "# plt.savefig('images/{}'.format(\"bert_user\"), dpi=200, transparent=True, bbox_inches = \"tight\")\n",
        "# plt.figure(figsize=(10,6))\n",
        "# plt.title('Shows', fontsize=20); plt.imshow(create_wordcloud('images/show.png', 5,contour_color='goldenrod'), interpolation='spline36'); plt.axis(\"off\");\n",
        "# plt.savefig('images/{}'.format(\"bert_shows\"), dpi=200, transparent=True, bbox_inches = \"tight\")"
      ],
      "execution_count": null,
      "outputs": []
    },
    {
      "cell_type": "code",
      "metadata": {
        "colab": {
          "base_uri": "https://localhost:8080/"
        },
        "id": "8E7WXGVgAqnQ",
        "outputId": "d323542a-fb67-4386-b5e9-74cfeeef9c90"
      },
      "source": [
        "import nltk\n",
        "nltk.download('stopwords')"
      ],
      "execution_count": null,
      "outputs": [
        {
          "output_type": "stream",
          "text": [
            "[nltk_data] Downloading package stopwords to /root/nltk_data...\n",
            "[nltk_data]   Unzipping corpora/stopwords.zip.\n"
          ],
          "name": "stderr"
        },
        {
          "output_type": "execute_result",
          "data": {
            "text/plain": [
              "True"
            ]
          },
          "metadata": {
            "tags": []
          },
          "execution_count": 121
        }
      ]
    },
    {
      "cell_type": "code",
      "metadata": {
        "id": "dxlS5EsJDbYy",
        "colab": {
          "base_uri": "https://localhost:8080/",
          "height": 596
        },
        "outputId": "8c7434ab-4344-4451-f117-6a485af35090"
      },
      "source": [
        "# [\"Trouble-shooting\", \"User-Experience\", \"Cost-Value\", \"Time\", \"Service\", \"Others\"]\n",
        "fig, ax = plt.subplots(2, 3, figsize = (20, 10))\n",
        "ax[0,0].set_title('Trouble-shooting', fontsize=20); ax[0,0].imshow(create_wordcloud('images/android.png', 0), interpolation='spline36'); ax[0,0].axis(\"off\")\n",
        "ax[0,1].set_title('User-Experience', fontsize=20); ax[0,1].imshow(create_wordcloud('images/family.png', 1,contour_color='lightpink'), interpolation='spline36'); ax[0,1].axis(\"off\")\n",
        "ax[0,2].set_title('Cost-Value', fontsize=20); ax[0,2].imshow(create_wordcloud('images/think.png', 2,contour_color='gray'), interpolation='spline36'); ax[0,2].axis(\"off\")\n",
        "ax[1,0].set_title('Time', fontsize=20); ax[1,0].imshow(create_wordcloud('images/service.png', 3,contour_color='dodgerblue'), interpolation='spline36'); ax[1,0].axis(\"off\")\n",
        "ax[1,1].set_title('Service', fontsize=20); ax[1,1].imshow(create_wordcloud('images/problem.png', 4,contour_color='darkred'), interpolation='spline36'); ax[1,1].axis(\"off\")\n",
        "ax[1,2].set_title('Others', fontsize=20); ax[1,2].imshow(create_wordcloud('images/show.png', 5,contour_color='goldenrod'), interpolation='spline36'); ax[1,2].axis(\"off\");\n",
        "\n",
        "plt.savefig('images/{}'.format(\"bert_wordcloud\"), dpi=200, transparent=True, bbox_inches = \"tight\")"
      ],
      "execution_count": null,
      "outputs": [
        {
          "output_type": "display_data",
          "data": {
            "image/png": "[encoded data removed]",
            "text/plain": [
              "<Figure size 1440x720 with 6 Axes>"
            ]
          },
          "metadata": {
            "tags": [],
            "needs_background": "light"
          }
        }
      ]
    },
    {
      "cell_type": "markdown",
      "metadata": {
        "id": "vGnyaaviDbY0"
      },
      "source": [
        "#### Keywords and frequencies stored in a list of dictionaries \"frequencies_topics\""
      ]
    },
    {
      "cell_type": "code",
      "metadata": {
        "id": "GKbqlo2wDbY0",
        "colab": {
          "base_uri": "https://localhost:8080/"
        },
        "outputId": "52d72065-d0d6-4551-fd8b-4f71b746917d"
      },
      "source": [
        "UPPER = 10\n",
        "stop_words = set(stopwords.words('english')) | {'<','>',\"'\",'-','/',',','!','.','br','&',';','?',')','#','##s','##ing','le','ha','wa',\n",
        "                                                'would','great','watch','stars','bolt','taxify','uber','blablacar'}\n",
        "# Removed words that appeared in all or most topics\n",
        "\n",
        "frequencies_topics = [0]*6\n",
        "for topic_id in range(6):\n",
        "    frequencies = defaultdict(int)\n",
        "    for review in reviews_df.loc[reviews_df.pred == topic_id, 'review']:\n",
        "        for word in tokenizer.tokenize(review):\n",
        "            if word not in stop_words:\n",
        "                frequencies[word] += 1\n",
        "    keys = list(frequencies.keys())\n",
        "    frequent_indices = np.argsort(list(frequencies.values()))[::-1][:UPPER]\n",
        "    frequent_words = set(np.array(keys)[frequent_indices])\n",
        "    frequencies_topics[topic_id] = frequent_words\n",
        "    \n",
        "    print(f\"Topic: {topic_dict[topic_id]}\")\n",
        "    print(frequent_words,'\\n')"
      ],
      "execution_count": null,
      "outputs": [
        {
          "output_type": "stream",
          "text": [
            "Topic: Trouble-shooting\n",
            "{'drivers', 'work', 'ride', 'use', 'driver', 'time', 'map', 'app', 'location', 'good'} \n",
            "\n",
            "Topic: User-Experience\n",
            "{'service', 'drivers', 'car', 'nice', 'always', 'driver', 'app', 'friendly', 'good', 'cars'} \n",
            "\n",
            "Topic: Cost-Value\n",
            "{'service', 'drivers', 'ride', 'card', 'driver', 'trip', 'use', 'app', 'even', 'customer'} \n",
            "\n",
            "Topic: Time\n",
            "{'price', 'drivers', 'always', 'times', 'driver', 'use', 'time', 'app', 'minutes', 'good'} \n",
            "\n",
            "Topic: Service\n",
            "{'service', 'drivers', 'affordable', 'love', 'always', 'use', 'app', 'easy', 'friendly', 'good'} \n",
            "\n",
            "Topic: Others\n",
            "{'service', 'drivers', 'cancel', 'ride', 'driver', 'rides', 'time', 'app', 'location', 'good'} \n",
            "\n"
          ],
          "name": "stdout"
        }
      ]
    },
    {
      "cell_type": "markdown",
      "metadata": {
        "id": "mApDIfuPDbY1"
      },
      "source": [
        "### TSNE 3d plot"
      ]
    },
    {
      "cell_type": "code",
      "metadata": {
        "id": "v_vVqOFgDbY2",
        "colab": {
          "base_uri": "https://localhost:8080/"
        },
        "outputId": "88de97c6-a5cc-4eca-83b1-125fe0bec0ea"
      },
      "source": [
        "# # !pip uninstall umap\n",
        "# !pip uninstall umap-learn\n",
        "!pip install umap-learn"
      ],
      "execution_count": null,
      "outputs": [
        {
          "output_type": "stream",
          "text": [
            "Requirement already satisfied: umap-learn in /usr/local/lib/python3.7/dist-packages (0.5.1)\n",
            "Requirement already satisfied: numba>=0.49 in /usr/local/lib/python3.7/dist-packages (from umap-learn) (0.51.2)\n",
            "Requirement already satisfied: scipy>=1.0 in /usr/local/lib/python3.7/dist-packages (from umap-learn) (1.4.1)\n",
            "Requirement already satisfied: numpy>=1.17 in /usr/local/lib/python3.7/dist-packages (from umap-learn) (1.21.1)\n",
            "Requirement already satisfied: scikit-learn>=0.22 in /usr/local/lib/python3.7/dist-packages (from umap-learn) (0.23.2)\n",
            "Requirement already satisfied: pynndescent>=0.5 in /usr/local/lib/python3.7/dist-packages (from umap-learn) (0.5.4)\n",
            "Requirement already satisfied: llvmlite<0.35,>=0.34.0.dev0 in /usr/local/lib/python3.7/dist-packages (from numba>=0.49->umap-learn) (0.34.0)\n",
            "Requirement already satisfied: setuptools in /usr/local/lib/python3.7/dist-packages (from numba>=0.49->umap-learn) (57.2.0)\n",
            "Requirement already satisfied: joblib>=0.11 in /usr/local/lib/python3.7/dist-packages (from pynndescent>=0.5->umap-learn) (1.0.1)\n",
            "Requirement already satisfied: threadpoolctl>=2.0.0 in /usr/local/lib/python3.7/dist-packages (from scikit-learn>=0.22->umap-learn) (2.2.0)\n"
          ],
          "name": "stdout"
        }
      ]
    },
    {
      "cell_type": "code",
      "metadata": {
        "id": "eLrJDHIEDbY2"
      },
      "source": [
        "import umap"
      ],
      "execution_count": null,
      "outputs": []
    },
    {
      "cell_type": "code",
      "metadata": {
        "id": "SgciGCC-DbY3",
        "colab": {
          "base_uri": "https://localhost:8080/"
        },
        "outputId": "ee0b92ed-c879-43f4-9d77-3e8d9cac53db"
      },
      "source": [
        "%time mapper3d = umap.UMAP(n_components=3, n_neighbors=7, random_state=0).fit(preprocessed_X)"
      ],
      "execution_count": null,
      "outputs": [
        {
          "output_type": "stream",
          "text": [
            "/usr/local/lib/python3.7/dist-packages/numba/np/ufunc/parallel.py:363: NumbaWarning: The TBB threading layer requires TBB version 2019.5 or later i.e., TBB_INTERFACE_VERSION >= 11005. Found TBB_INTERFACE_VERSION = 9107. The TBB threading layer is disabled.\n",
            "  warnings.warn(problem)\n"
          ],
          "name": "stderr"
        },
        {
          "output_type": "stream",
          "text": [
            "CPU times: user 34.8 s, sys: 441 ms, total: 35.3 s\n",
            "Wall time: 34.7 s\n"
          ],
          "name": "stdout"
        }
      ]
    },
    {
      "cell_type": "code",
      "metadata": {
        "id": "ONfZ8p5GDbY3",
        "colab": {
          "base_uri": "https://localhost:8080/",
          "height": 575
        },
        "outputId": "9d597daa-18a9-4e2c-e90b-eb266cda8b59"
      },
      "source": [
        "fig = plt.figure(figsize=(10,10))\n",
        "ax = plt.axes(projection='3d')\n",
        "coords = mapper3d.embedding_\n",
        "x,y,z = coords[major_docs,0], coords[major_docs,1], coords[major_docs,2]\n",
        "colors = ['green', 'lightpink', 'gray', 'dodgerblue', 'darkred', 'goldenrod']\n",
        "for label in [4, 1, 5]:\n",
        "    mask = np.array(BERT_preds)[major_docs] == label\n",
        "    ax.scatter3D(x[mask],y[mask],z[mask], c=colors[label], label=topic_dict[label], alpha=.3, marker = 'o', s=100)\n",
        "\n",
        "# for label in [0, 2, 3]:\n",
        "#     mask = np.array(BERT_preds)[major_docs] == label\n",
        "#     ax.scatter3D(x[mask], y[mask], z[mask], facecolor=(1,1,1,0), edgecolor=colors[label],alpha=.5, label=topic_dict[label], marker = '.', s=100)\n",
        "ax.grid(False)\n",
        "ax.legend();"
      ],
      "execution_count": null,
      "outputs": [
        {
          "output_type": "display_data",
          "data": {
            "image/png": "[encoded data removed]",
            "text/plain": [
              "<Figure size 720x720 with 1 Axes>"
            ]
          },
          "metadata": {
            "tags": [],
            "needs_background": "light"
          }
        }
      ]
    },
    {
      "cell_type": "markdown",
      "metadata": {
        "id": "4kIeRjwVDbY5"
      },
      "source": [
        "### TSNE 2d plot"
      ]
    },
    {
      "cell_type": "code",
      "metadata": {
        "id": "XR9-Z0qPDbY6",
        "colab": {
          "base_uri": "https://localhost:8080/"
        },
        "outputId": "7092d8c4-4ff4-4feb-b27d-4d3708d4dc44"
      },
      "source": [
        "%time mapper2d = umap.UMAP(n_components=2, n_neighbors=9, random_state=0).fit(preprocessed_X)"
      ],
      "execution_count": null,
      "outputs": [
        {
          "output_type": "stream",
          "text": [
            "CPU times: user 15 s, sys: 319 ms, total: 15.4 s\n",
            "Wall time: 14.8 s\n"
          ],
          "name": "stdout"
        }
      ]
    },
    {
      "cell_type": "code",
      "metadata": {
        "id": "nudQtnvhDbY6"
      },
      "source": [
        "coords = mapper2d.embedding_\n",
        "x,y = coords[major_docs,0], coords[major_docs,1]"
      ],
      "execution_count": null,
      "outputs": []
    },
    {
      "cell_type": "code",
      "metadata": {
        "id": "D2jXBr46DbY7"
      },
      "source": [
        "topics_to_plot = [1,4,5]\n",
        "indices = np.arange(len(preprocessed_X))[np.array([True if label in topics_to_plot else False for label in BERT_preds])]\n",
        "major_docs_indices = list(set(major_docs).intersection(set(indices)))"
      ],
      "execution_count": null,
      "outputs": []
    },
    {
      "cell_type": "code",
      "metadata": {
        "id": "k2KGpGqNDbY7",
        "colab": {
          "base_uri": "https://localhost:8080/",
          "height": 378
        },
        "outputId": "f0794582-4c51-47c8-aa78-2cca4876355c"
      },
      "source": [
        "coords = mapper2d.embedding_\n",
        "# indices = predicted_proba.argmax(axis=0)\n",
        "x_coords, y_coords = coords[major_docs_indices,0], coords[major_docs_indices,1]\n",
        "plt.figure(figsize=(12, 6))\n",
        "# plt.scatter(x_coords, y_coords, marker='.', alpha=0.8, c=np.array(predicted_topics)[major_docs], cmap='viridis', hue = )\n",
        "# plt.legend();\n",
        "sns.scatterplot(x=x_coords, y=y_coords, hue=[topic_dict[topic_id] for topic_id in np.array(BERT_preds)[major_docs_indices]], alpha=0.6, s=100, marker='o')\n",
        "plt.show()\n",
        "# for label, x, y in zip(['Platform/Device', 'User', 'Value', 'Service', 'Trouble-shooting', 'Shows'], x_coords, y_coords):\n",
        "#     plt.annotate(label, xy=(x, y), xytext=(0, 0), textcoords='offset points');"
      ],
      "execution_count": null,
      "outputs": [
        {
          "output_type": "display_data",
          "data": {
            "image/png": "[encoded data removed]",
            "text/plain": [
              "<Figure size 864x432 with 1 Axes>"
            ]
          },
          "metadata": {
            "tags": [],
            "needs_background": "light"
          }
        }
      ]
    },
    {
      "cell_type": "markdown",
      "metadata": {
        "id": "KxAE5v3sDbY8"
      },
      "source": [
        "### BERT word embeddings 2d visualization with UMAP"
      ]
    },
    {
      "cell_type": "code",
      "metadata": {
        "id": "9_Lwb3S1DbY8",
        "colab": {
          "base_uri": "https://localhost:8080/"
        },
        "outputId": "0cdcea83-bcbe-4fec-e32f-e2df322d4016"
      },
      "source": [
        "# embeddings = pd.read_pickle('bert_model/embeddings.pkl')\n",
        "bert_embedding = BertEmbedding()\n",
        "%time embeddings = bert_embedding(reviews)"
      ],
      "execution_count": null,
      "outputs": [
        {
          "output_type": "stream",
          "text": [
            "Vocab file is not found. Downloading.\n",
            "Downloading /root/.mxnet/models/book_corpus_wiki_en_uncased-a6607397.zip from https://apache-mxnet.s3-accelerate.dualstack.amazonaws.com/gluon/dataset/vocab/book_corpus_wiki_en_uncased-a6607397.zip...\n",
            "Downloading /root/.mxnet/models/bert_12_768_12_book_corpus_wiki_en_uncased-75cc780f.zip from https://apache-mxnet.s3-accelerate.dualstack.amazonaws.com/gluon/models/bert_12_768_12_book_corpus_wiki_en_uncased-75cc780f.zip...\n",
            "CPU times: user 13min 10s, sys: 6.97 s, total: 13min 17s\n",
            "Wall time: 13min 12s\n"
          ],
          "name": "stdout"
        }
      ]
    },
    {
      "cell_type": "code",
      "metadata": {
        "id": "OBnmwtGuB3af"
      },
      "source": [
        "pd.to_pickle(embeddings, 'bert_model_all/embeddings.pkl')"
      ],
      "execution_count": null,
      "outputs": []
    },
    {
      "cell_type": "code",
      "metadata": {
        "id": "6HBm1jdAGJmP"
      },
      "source": [
        "# embeddings\n",
        "tokens, embeds = embeddings[representative_docs[0]][0], embeddings[representative_docs[0]][1]\n",
        "# tokens\n",
        "# embeds"
      ],
      "execution_count": null,
      "outputs": []
    },
    {
      "cell_type": "code",
      "metadata": {
        "id": "-Oty0zI_DbY9",
        "colab": {
          "base_uri": "https://localhost:8080/"
        },
        "outputId": "6acdb9b4-0338-409b-b12f-642e17be475f"
      },
      "source": [
        "BERT = pd.concat([pd.Series(BERT_preds), pd.Series(BERT_proba.max(axis=1))],axis=1)\n",
        "BERT.columns = ['label', 'proba']\n",
        "\n",
        "representative_docs, representative_docs_umap, tokens_per_doc = [], [], []\n",
        "\n",
        "token_stopwords = set(stopwords.words('english')) | {\"'\",'.', \",\", \"would\", \"goes\", \"2\", '-', 'five', 'stars'}\n",
        "tsne = TSNE(n_components=2, random_state = 0)\n",
        "\n",
        "for i in range(6):\n",
        "    BERT_ = BERT.loc[BERT.label==i,:]\n",
        "    representative_docs.append(BERT_.index[np.argmax(BERT_.proba)])# Most representative documents per topic\n",
        "    tokens, embeds = embeddings[representative_docs[i]][0], embeddings[representative_docs[i]][1]\n",
        "    indices = [i for (i, token) in enumerate(np.array(tokens)) if token not in token_stopwords]# Remove the stopwords from each topic\n",
        "    clean_tokens = [tokens[i] for i in indices]\n",
        "    \n",
        "    tokens_per_doc.append(clean_tokens)    \n",
        "    try:# Try UMAP first, and if it throws an error, try TSNE\n",
        "        mapper2d = umap.UMAP(n_components=2, n_neighbors=2, random_state=1).fit(np.array([embeds[i] for i in indices]))\n",
        "        representative_docs_umap.append(mapper2d.embedding_)\n",
        "    except:\n",
        "        representative_docs_umap.append(tsne.fit_transform(np.array([embeds[i] for i in indices])))"
      ],
      "execution_count": null,
      "outputs": [
        {
          "output_type": "stream",
          "text": [
            "/usr/local/lib/python3.7/dist-packages/scipy/sparse/linalg/eigen/arpack/arpack.py:1592: RuntimeWarning: k >= N for N * N square matrix. Attempting to use scipy.linalg.eigh instead.\n",
            "  RuntimeWarning)\n"
          ],
          "name": "stderr"
        }
      ]
    },
    {
      "cell_type": "code",
      "metadata": {
        "id": "4vQW3AZ2DbZD",
        "colab": {
          "base_uri": "https://localhost:8080/",
          "height": 592
        },
        "outputId": "a780e645-803b-4813-81cf-58cc9512d6c7"
      },
      "source": [
        "ax = plt.figure(figsize=(10,10))\n",
        "colors = ['green', 'lightpink', 'gray', 'dodgerblue', 'darkred', 'goldenrod']\n",
        "for label in range(6):\n",
        "    word_embeddings = representative_docs_umap[label]\n",
        "    tokens = tokens_per_doc[label]\n",
        "    x, y = word_embeddings[:, 0], word_embeddings[:, 1]\n",
        "    plt.scatter(x, y, c=colors[label], label=topic_dict[label], alpha=0.6, marker = 'o', s=200);\n",
        "    texts = [plt.text(x[i], y[i], tokens[i], ha='center', va='center') for i in range(len(x))]\n",
        "    adjust_text(texts, avoid_points = False, expand_text = (1.05, 4.5))\n",
        "ax.legend(loc=6)\n",
        "ax.savefig('images/{}'.format(\"bert_cluster\"), dpi=200, transparent=True, bbox_inches = \"tight\");"
      ],
      "execution_count": null,
      "outputs": [
        {
          "output_type": "display_data",
          "data": {
            "image/png": "[encoded data removed]",
            "text/plain": [
              "<Figure size 720x720 with 1 Axes>"
            ]
          },
          "metadata": {
            "tags": [],
            "needs_background": "light"
          }
        }
      ]
    },
    {
      "cell_type": "code",
      "metadata": {
        "id": "ftZFa39eCPON"
      },
      "source": [
        ""
      ],
      "execution_count": null,
      "outputs": []
    }
  ]
}