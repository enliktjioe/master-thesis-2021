{
 "cells": [
  {
   "cell_type": "markdown",
   "metadata": {},
   "source": [
    "# Removing Rows in Dataframe"
   ]
  },
  {
   "cell_type": "code",
   "execution_count": 16,
   "metadata": {},
   "outputs": [
    {
     "name": "stderr",
     "output_type": "stream",
     "text": [
      "[nltk_data] Downloading package stopwords to /Users/enlik/nltk_data...\n",
      "[nltk_data]   Package stopwords is already up-to-date!\n"
     ]
    }
   ],
   "source": [
    "from langdetect import detect, detect_langs\n",
    "from utils import *\n",
    "\n",
    "from utils import *\n",
    "\n",
    "import ssl\n",
    "ssl._create_default_https_context = ssl._create_unverified_context\n",
    "\n",
    "config = get_config('config.yaml')"
   ]
  },
  {
   "cell_type": "code",
   "execution_count": 17,
   "metadata": {},
   "outputs": [
    {
     "name": "stdout",
     "output_type": "stream",
     "text": [
      "Total English reviews: 3154 \n",
      "\n",
      "Total unique users : 3149\n",
      "Total users who gave multiple reviews: 5\n",
      "\n",
      "Average rating for this app based on the textual reviews: 3.02 \n",
      "\n"
     ]
    }
   ],
   "source": [
    "df2 = read_csv_from_gdrive(config['csv_input']['bolt_apple'])\n",
    "total_reviews = len(df2)\n",
    "unique_users  = len(df2['userName'].unique())\n",
    "mean = df2['rating'].mean()\n",
    "\n",
    "print(f'Total English reviews: {total_reviews} \\n')\n",
    "print(f'Total unique users : {unique_users}')\n",
    "print(f'Total users who gave multiple reviews: {total_reviews - unique_users}\\n')\n",
    "print(f'Average rating for this app based on the textual reviews: {round(mean,2)} \\n')"
   ]
  },
  {
   "cell_type": "code",
   "execution_count": 18,
   "metadata": {},
   "outputs": [
    {
     "data": {
      "text/html": [
       "<div>\n",
       "<style scoped>\n",
       "    .dataframe tbody tr th:only-of-type {\n",
       "        vertical-align: middle;\n",
       "    }\n",
       "\n",
       "    .dataframe tbody tr th {\n",
       "        vertical-align: top;\n",
       "    }\n",
       "\n",
       "    .dataframe thead th {\n",
       "        text-align: right;\n",
       "    }\n",
       "</style>\n",
       "<table border=\"1\" class=\"dataframe\">\n",
       "  <thead>\n",
       "    <tr style=\"text-align: right;\">\n",
       "      <th></th>\n",
       "      <th>userName</th>\n",
       "      <th>isEdited</th>\n",
       "      <th>review</th>\n",
       "      <th>rating</th>\n",
       "      <th>title</th>\n",
       "      <th>date</th>\n",
       "    </tr>\n",
       "  </thead>\n",
       "  <tbody>\n",
       "    <tr>\n",
       "      <th>0</th>\n",
       "      <td>Tkay_Browning</td>\n",
       "      <td>False</td>\n",
       "      <td>I love bolt. I don’t use uber often because on...</td>\n",
       "      <td>5</td>\n",
       "      <td>Love it *Not sponsored*</td>\n",
       "      <td>2019-07-20 11:51:59</td>\n",
       "    </tr>\n",
       "    <tr>\n",
       "      <th>1</th>\n",
       "      <td>Livvii_xo</td>\n",
       "      <td>False</td>\n",
       "      <td>So annoyed with this app!! Definitely the wors...</td>\n",
       "      <td>1</td>\n",
       "      <td>Fake Arrival Time &amp; Car Tracking on Map</td>\n",
       "      <td>2020-03-05 08:22:05</td>\n",
       "    </tr>\n",
       "    <tr>\n",
       "      <th>2</th>\n",
       "      <td>Kazem Sharan</td>\n",
       "      <td>False</td>\n",
       "      <td>I’ve been using bolt for a month now. I had a ...</td>\n",
       "      <td>1</td>\n",
       "      <td>Drivers are unprofessional</td>\n",
       "      <td>2019-09-20 09:25:04</td>\n",
       "    </tr>\n",
       "    <tr>\n",
       "      <th>3</th>\n",
       "      <td>Doctor A Theo</td>\n",
       "      <td>False</td>\n",
       "      <td>To make things clear, I am not a regular revie...</td>\n",
       "      <td>1</td>\n",
       "      <td>Shockingly unreliable drivers and unhelpful se...</td>\n",
       "      <td>2020-02-24 08:36:59</td>\n",
       "    </tr>\n",
       "    <tr>\n",
       "      <th>4</th>\n",
       "      <td>Maria348794</td>\n",
       "      <td>False</td>\n",
       "      <td>I have used the app 3 or 4 times and I thought...</td>\n",
       "      <td>1</td>\n",
       "      <td>I feel scammed</td>\n",
       "      <td>2019-11-04 15:03:04</td>\n",
       "    </tr>\n",
       "  </tbody>\n",
       "</table>\n",
       "</div>"
      ],
      "text/plain": [
       "        userName  isEdited                                             review  \\\n",
       "0  Tkay_Browning     False  I love bolt. I don’t use uber often because on...   \n",
       "1      Livvii_xo     False  So annoyed with this app!! Definitely the wors...   \n",
       "2   Kazem Sharan     False  I’ve been using bolt for a month now. I had a ...   \n",
       "3  Doctor A Theo     False  To make things clear, I am not a regular revie...   \n",
       "4    Maria348794     False  I have used the app 3 or 4 times and I thought...   \n",
       "\n",
       "   rating                                              title  \\\n",
       "0       5                            Love it *Not sponsored*   \n",
       "1       1            Fake Arrival Time & Car Tracking on Map   \n",
       "2       1                         Drivers are unprofessional   \n",
       "3       1  Shockingly unreliable drivers and unhelpful se...   \n",
       "4       1                                     I feel scammed   \n",
       "\n",
       "                  date  \n",
       "0  2019-07-20 11:51:59  \n",
       "1  2020-03-05 08:22:05  \n",
       "2  2019-09-20 09:25:04  \n",
       "3  2020-02-24 08:36:59  \n",
       "4  2019-11-04 15:03:04  "
      ]
     },
     "execution_count": 18,
     "metadata": {},
     "output_type": "execute_result"
    }
   ],
   "source": [
    "df_test = df2.head()\n",
    "df_test"
   ]
  },
  {
   "cell_type": "code",
   "execution_count": 19,
   "metadata": {},
   "outputs": [],
   "source": [
    "rowsToRemove = []"
   ]
  },
  {
   "cell_type": "code",
   "execution_count": 20,
   "metadata": {},
   "outputs": [
    {
     "data": {
      "text/plain": [
       "[0]"
      ]
     },
     "execution_count": 20,
     "metadata": {},
     "output_type": "execute_result"
    }
   ],
   "source": [
    "rowsToRemove.append(0)\n",
    "rowsToRemove"
   ]
  },
  {
   "cell_type": "code",
   "execution_count": 21,
   "metadata": {},
   "outputs": [
    {
     "data": {
      "text/plain": [
       "[0, 1]"
      ]
     },
     "execution_count": 21,
     "metadata": {},
     "output_type": "execute_result"
    }
   ],
   "source": [
    "rowsToRemove.append(1)\n",
    "rowsToRemove"
   ]
  },
  {
   "cell_type": "code",
   "execution_count": 22,
   "metadata": {},
   "outputs": [
    {
     "data": {
      "text/plain": [
       "[0, 1, 3]"
      ]
     },
     "execution_count": 22,
     "metadata": {},
     "output_type": "execute_result"
    }
   ],
   "source": [
    "rowsToRemove.append(3)\n",
    "rowsToRemove"
   ]
  },
  {
   "cell_type": "code",
   "execution_count": 23,
   "metadata": {},
   "outputs": [
    {
     "data": {
      "text/plain": [
       "3"
      ]
     },
     "execution_count": 23,
     "metadata": {},
     "output_type": "execute_result"
    }
   ],
   "source": [
    "len(rowsToRemove)"
   ]
  },
  {
   "cell_type": "code",
   "execution_count": 24,
   "metadata": {},
   "outputs": [
    {
     "data": {
      "text/html": [
       "<div>\n",
       "<style scoped>\n",
       "    .dataframe tbody tr th:only-of-type {\n",
       "        vertical-align: middle;\n",
       "    }\n",
       "\n",
       "    .dataframe tbody tr th {\n",
       "        vertical-align: top;\n",
       "    }\n",
       "\n",
       "    .dataframe thead th {\n",
       "        text-align: right;\n",
       "    }\n",
       "</style>\n",
       "<table border=\"1\" class=\"dataframe\">\n",
       "  <thead>\n",
       "    <tr style=\"text-align: right;\">\n",
       "      <th></th>\n",
       "      <th>userName</th>\n",
       "      <th>isEdited</th>\n",
       "      <th>review</th>\n",
       "      <th>rating</th>\n",
       "      <th>title</th>\n",
       "      <th>date</th>\n",
       "    </tr>\n",
       "  </thead>\n",
       "  <tbody>\n",
       "    <tr>\n",
       "      <th>2</th>\n",
       "      <td>Kazem Sharan</td>\n",
       "      <td>False</td>\n",
       "      <td>I’ve been using bolt for a month now. I had a ...</td>\n",
       "      <td>1</td>\n",
       "      <td>Drivers are unprofessional</td>\n",
       "      <td>2019-09-20 09:25:04</td>\n",
       "    </tr>\n",
       "    <tr>\n",
       "      <th>4</th>\n",
       "      <td>Maria348794</td>\n",
       "      <td>False</td>\n",
       "      <td>I have used the app 3 or 4 times and I thought...</td>\n",
       "      <td>1</td>\n",
       "      <td>I feel scammed</td>\n",
       "      <td>2019-11-04 15:03:04</td>\n",
       "    </tr>\n",
       "  </tbody>\n",
       "</table>\n",
       "</div>"
      ],
      "text/plain": [
       "       userName  isEdited                                             review  \\\n",
       "2  Kazem Sharan     False  I’ve been using bolt for a month now. I had a ...   \n",
       "4   Maria348794     False  I have used the app 3 or 4 times and I thought...   \n",
       "\n",
       "   rating                       title                 date  \n",
       "2       1  Drivers are unprofessional  2019-09-20 09:25:04  \n",
       "4       1              I feel scammed  2019-11-04 15:03:04  "
      ]
     },
     "execution_count": 24,
     "metadata": {},
     "output_type": "execute_result"
    }
   ],
   "source": [
    "# df_test.drop([0, 1, 3])\n",
    "df_test.drop(rowsToRemove)"
   ]
  },
  {
   "cell_type": "markdown",
   "metadata": {},
   "source": [
    "# Understanding Preprocessing"
   ]
  },
  {
   "cell_type": "code",
   "execution_count": 10,
   "metadata": {},
   "outputs": [],
   "source": [
    "import re\n",
    "import string\n",
    "\n",
    "remove_digits_lower = lambda x: re.sub('\\w*\\d\\w*', ' ', x.lower())\n",
    "remove_punc = lambda x: re.sub('[%s]' % re.escape(string.punctuation), ' ', x)\n",
    "remove_repeats = lambda x: re.sub(r'(.)\\1+', r'\\1\\1', x)\n",
    "\n",
    "# def remove_things(text):\n",
    "#     \"\"\"\n",
    "#     Lowercase, remove punctuation, and remove repeats of more than 2.\n",
    "#     \"\"\"\n",
    "#     remove_digits_lower = lambda x: re.sub('\\w*\\d\\w*', ' ', x.lower())\n",
    "#     remove_punc = lambda x: re.sub('[%s]' % re.escape(string.punctuation), ' ', x)\n",
    "#     remove_repeats = lambda x: re.sub(r'(.)\\1+', r'\\1\\1', x)\n",
    "#     return text.map(remove_digits_lower).map(remove_punc).map(remove_repeats)"
   ]
  },
  {
   "cell_type": "code",
   "execution_count": 15,
   "metadata": {},
   "outputs": [],
   "source": [
    "# input_text = \"\"\"I’ve been using bolt for a month now. I had a few good journeys but 2 horrendous ones recently. \n",
    "#     The first occasion I was told to not cross my legs in the car because it “might” touch his chair. \n",
    "#     So apparently bolt encourages people to sit still and not move in the car, \n",
    "#     which was the response I got from customer service and no refund. The second time, \n",
    "#     I had a dental appointment and ordered a cab, the driver came and then he said where are you going? \n",
    "#     As soon as he found out what the location was, he got frustrated and swore and said “this is too far man I’m tired”. \n",
    "#     I asked why he had accepted it in the first place if he didn’t want to go too far. \n",
    "#     I didn’t get any proper explanation and no apology. I was in pain because of my dental extraction too. \n",
    "#     So I had to cancel from my end because he said he couldn’t do it. He said he would text bolt and let them know. \n",
    "#     And I messaged Bolt 3 days ago and still no reply. They have charged me £3 for this trip that didn’t happen. \n",
    "#     Terrible terrible drivers and very bad customer service. When incidents like this happened with Uber, \n",
    "#     they would always refund and apologise.\"\"\""
   ]
  },
  {
   "cell_type": "code",
   "execution_count": 14,
   "metadata": {},
   "outputs": [],
   "source": [
    "# input_text"
   ]
  },
  {
   "cell_type": "code",
   "execution_count": 27,
   "metadata": {},
   "outputs": [
    {
     "data": {
      "text/plain": [
       "0       I love bolt. I don’t use uber often because on...\n",
       "1       So annoyed with this app!! Definitely the wors...\n",
       "2       I’ve been using bolt for a month now. I had a ...\n",
       "3       To make things clear, I am not a regular revie...\n",
       "4       I have used the app 3 or 4 times and I thought...\n",
       "                              ...                        \n",
       "3149    Зачем регестрироваться? Я просто хочу посмотре...\n",
       "3150                                                   :)\n",
       "3151    Слишком мало машин, иногда нет вообще, часто п...\n",
       "3152    1. samm: positsioneerime telefoni\\n2. samm: \"V...\n",
       "3153    Taxify's purpose was that you can CHOOSE your ...\n",
       "Name: review, Length: 3154, dtype: object"
      ]
     },
     "execution_count": 27,
     "metadata": {},
     "output_type": "execute_result"
    }
   ],
   "source": [
    "input_text = df2.review.reset_index(drop=True)\n",
    "input_text"
   ]
  },
  {
   "cell_type": "code",
   "execution_count": 57,
   "metadata": {},
   "outputs": [
    {
     "data": {
      "text/plain": [
       "'I’ve been using bolt for a month now. I had a few good journeys but 2 horrendous ones recently. The first occasion I was told to not cross my legs in the car because it “might” touch his chair. So apparently bolt encourages people to sit still and not move in the car, which was the response I got from customer service and no refund. The second time, I had a dental appointment and ordered a cab, the driver came and then he said where are you going? As soon as he found out what the location was, he got frustrated and swore and said “this is too far man I’m tired”. I asked why he had accepted it in the first place if he didn’t want to go too far. I didn’t get any proper explanation and no apology. I was in pain because of my dental extraction too. So I had to cancel from my end because he said he couldn’t do it. He said he would text bolt and let them know. And I messaged Bolt 3 days ago and still no reply. They have charged me £3 for this trip that didn’t happen. Terrible terrible drivers and very bad customer service. When incidents like this happened with Uber, they would always refund and apologise.'"
      ]
     },
     "execution_count": 57,
     "metadata": {},
     "output_type": "execute_result"
    }
   ],
   "source": [
    "x = input_text[2]\n",
    "x"
   ]
  },
  {
   "cell_type": "code",
   "execution_count": 59,
   "metadata": {},
   "outputs": [
    {
     "data": {
      "text/plain": [
       "'i’ve been using bolt for a month now. i had a few good journeys but   horrendous ones recently. the first occasion i was told to not cross my legs in the car because it “might” touch his chair. so apparently bolt encourages people to sit still and not move in the car, which was the response i got from customer service and no refund. the second time, i had a dental appointment and ordered a cab, the driver came and then he said where are you going? as soon as he found out what the location was, he got frustrated and swore and said “this is too far man i’m tired”. i asked why he had accepted it in the first place if he didn’t want to go too far. i didn’t get any proper explanation and no apology. i was in pain because of my dental extraction too. so i had to cancel from my end because he said he couldn’t do it. he said he would text bolt and let them know. and i messaged bolt   days ago and still no reply. they have charged me £  for this trip that didn’t happen. terrible terrible drivers and very bad customer service. when incidents like this happened with uber, they would always refund and apologise.'"
      ]
     },
     "execution_count": 59,
     "metadata": {},
     "output_type": "execute_result"
    }
   ],
   "source": [
    "re.sub('\\w*\\d\\w*', ' ', x.lower())"
   ]
  },
  {
   "cell_type": "code",
   "execution_count": 58,
   "metadata": {},
   "outputs": [
    {
     "data": {
      "text/plain": [
       "'I’ve been using bolt for a month now  I had a few good journeys but 2 horrendous ones recently  The first occasion I was told to not cross my legs in the car because it “might” touch his chair  So apparently bolt encourages people to sit still and not move in the car  which was the response I got from customer service and no refund  The second time  I had a dental appointment and ordered a cab  the driver came and then he said where are you going  As soon as he found out what the location was  he got frustrated and swore and said “this is too far man I’m tired”  I asked why he had accepted it in the first place if he didn’t want to go too far  I didn’t get any proper explanation and no apology  I was in pain because of my dental extraction too  So I had to cancel from my end because he said he couldn’t do it  He said he would text bolt and let them know  And I messaged Bolt 3 days ago and still no reply  They have charged me £3 for this trip that didn’t happen  Terrible terrible drivers and very bad customer service  When incidents like this happened with Uber  they would always refund and apologise '"
      ]
     },
     "execution_count": 58,
     "metadata": {},
     "output_type": "execute_result"
    }
   ],
   "source": [
    "re.sub('[%s]' % re.escape(string.punctuation), ' ', x)"
   ]
  },
  {
   "cell_type": "code",
   "execution_count": 60,
   "metadata": {},
   "outputs": [],
   "source": [
    "y = \"hhhappy birthhhhhhdayyyuuu\""
   ]
  },
  {
   "cell_type": "code",
   "execution_count": 61,
   "metadata": {},
   "outputs": [
    {
     "data": {
      "text/plain": [
       "'hhappy birthhdayyuu'"
      ]
     },
     "execution_count": 61,
     "metadata": {},
     "output_type": "execute_result"
    }
   ],
   "source": [
    "re.sub(r'(.)\\1+', r'\\1\\1', y)"
   ]
  },
  {
   "cell_type": "markdown",
   "metadata": {},
   "source": [
    "# Using SentiStrength"
   ]
  },
  {
   "cell_type": "code",
   "execution_count": 75,
   "metadata": {},
   "outputs": [],
   "source": [
    "from sentistrength import PySentiStr\n",
    "senti = PySentiStr()\n",
    "senti.setSentiStrengthPath('/Users/enlik/GitRepo/master-thesis-2021/references/SentiStrengthCom.jar') # Note: Provide absolute path instead of relative path\n",
    "senti.setSentiStrengthLanguageFolderPath('/Users/enlik/GitRepo/master-thesis-2021/references/SentiStrengthData/') # Note: Provide absolute path instead of relative path"
   ]
  },
  {
   "cell_type": "code",
   "execution_count": 88,
   "metadata": {},
   "outputs": [
    {
     "name": "stdout",
     "output_type": "stream",
     "text": [
      "[-1]\n"
     ]
    }
   ],
   "source": [
    "result = senti.getSentiment('What a bad day')\n",
    "print(result)"
   ]
  },
  {
   "cell_type": "code",
   "execution_count": 82,
   "metadata": {},
   "outputs": [
    {
     "name": "stdout",
     "output_type": "stream",
     "text": [
      "[1, -1]\n"
     ]
    }
   ],
   "source": [
    "str_arr = ['What a lovely day', 'What a bad day']\n",
    "result = senti.getSentiment(str_arr, score='scale')\n",
    "print(result)"
   ]
  },
  {
   "cell_type": "code",
   "execution_count": 83,
   "metadata": {},
   "outputs": [
    {
     "name": "stdout",
     "output_type": "stream",
     "text": [
      "[(2, -1), (1, -2)]\n"
     ]
    }
   ],
   "source": [
    "str_arr = ['What a lovely day', 'What a bad day']\n",
    "result = senti.getSentiment(str_arr, score='dual')\n",
    "print(result)"
   ]
  },
  {
   "cell_type": "code",
   "execution_count": 84,
   "metadata": {},
   "outputs": [
    {
     "name": "stdout",
     "output_type": "stream",
     "text": [
      "[1, -1]\n"
     ]
    }
   ],
   "source": [
    "str_arr = ['What a lovely day', 'What a bad day']\n",
    "result = senti.getSentiment(str_arr, score='binary')\n",
    "print(result)"
   ]
  },
  {
   "cell_type": "code",
   "execution_count": 85,
   "metadata": {},
   "outputs": [
    {
     "name": "stdout",
     "output_type": "stream",
     "text": [
      "[(2, -1, 1), (1, -2, -1)]\n"
     ]
    }
   ],
   "source": [
    "str_arr = ['What a lovely day', 'What a bad day']\n",
    "result = senti.getSentiment(str_arr, score='trinary')\n",
    "print(result)"
   ]
  },
  {
   "cell_type": "code",
   "execution_count": null,
   "metadata": {},
   "outputs": [],
   "source": []
  }
 ],
 "metadata": {
  "kernelspec": {
   "display_name": "Python 3",
   "language": "python",
   "name": "python3"
  },
  "language_info": {
   "codemirror_mode": {
    "name": "ipython",
    "version": 3
   },
   "file_extension": ".py",
   "mimetype": "text/x-python",
   "name": "python",
   "nbconvert_exporter": "python",
   "pygments_lexer": "ipython3",
   "version": "3.6.7"
  },
  "toc": {
   "base_numbering": 1,
   "nav_menu": {},
   "number_sections": true,
   "sideBar": true,
   "skip_h1_title": false,
   "title_cell": "Table of Contents",
   "title_sidebar": "Contents",
   "toc_cell": false,
   "toc_position": {},
   "toc_section_display": true,
   "toc_window_display": true
  }
 },
 "nbformat": 4,
 "nbformat_minor": 2
}
