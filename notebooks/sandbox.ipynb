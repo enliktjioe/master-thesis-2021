{
 "cells": [
  {
   "cell_type": "code",
   "execution_count": 1,
   "metadata": {},
   "outputs": [
    {
     "name": "stderr",
     "output_type": "stream",
     "text": [
      "[nltk_data] Downloading package stopwords to /Users/enlik/nltk_data...\n",
      "[nltk_data]   Package stopwords is already up-to-date!\n"
     ]
    }
   ],
   "source": [
    "from langdetect import detect, detect_langs\n",
    "from utils import *\n",
    "\n",
    "from utils import *\n",
    "\n",
    "import ssl\n",
    "ssl._create_default_https_context = ssl._create_unverified_context\n",
    "\n",
    "config = get_config('config.yaml')"
   ]
  },
  {
   "cell_type": "code",
   "execution_count": 3,
   "metadata": {},
   "outputs": [
    {
     "name": "stdout",
     "output_type": "stream",
     "text": [
      "Total English reviews: 3154 \n",
      "\n",
      "Total unique users : 3149\n",
      "Total users who gave multiple reviews: 5\n",
      "\n",
      "Average rating for this app based on the textual reviews: 3.02 \n",
      "\n"
     ]
    }
   ],
   "source": [
    "df2 = read_csv_from_gdrive(config['csv_input']['bolt_apple'])\n",
    "total_reviews = len(df2)\n",
    "unique_users  = len(df2['userName'].unique())\n",
    "mean = df2['rating'].mean()\n",
    "\n",
    "print(f'Total English reviews: {total_reviews} \\n')\n",
    "print(f'Total unique users : {unique_users}')\n",
    "print(f'Total users who gave multiple reviews: {total_reviews - unique_users}\\n')\n",
    "print(f'Average rating for this app based on the textual reviews: {round(mean,2)} \\n')"
   ]
  },
  {
   "cell_type": "code",
   "execution_count": 6,
   "metadata": {},
   "outputs": [
    {
     "data": {
      "text/html": [
       "<div>\n",
       "<style scoped>\n",
       "    .dataframe tbody tr th:only-of-type {\n",
       "        vertical-align: middle;\n",
       "    }\n",
       "\n",
       "    .dataframe tbody tr th {\n",
       "        vertical-align: top;\n",
       "    }\n",
       "\n",
       "    .dataframe thead th {\n",
       "        text-align: right;\n",
       "    }\n",
       "</style>\n",
       "<table border=\"1\" class=\"dataframe\">\n",
       "  <thead>\n",
       "    <tr style=\"text-align: right;\">\n",
       "      <th></th>\n",
       "      <th>userName</th>\n",
       "      <th>isEdited</th>\n",
       "      <th>review</th>\n",
       "      <th>rating</th>\n",
       "      <th>title</th>\n",
       "      <th>date</th>\n",
       "    </tr>\n",
       "  </thead>\n",
       "  <tbody>\n",
       "    <tr>\n",
       "      <th>0</th>\n",
       "      <td>Tkay_Browning</td>\n",
       "      <td>False</td>\n",
       "      <td>I love bolt. I don’t use uber often because on...</td>\n",
       "      <td>5</td>\n",
       "      <td>Love it *Not sponsored*</td>\n",
       "      <td>2019-07-20 11:51:59</td>\n",
       "    </tr>\n",
       "    <tr>\n",
       "      <th>1</th>\n",
       "      <td>Livvii_xo</td>\n",
       "      <td>False</td>\n",
       "      <td>So annoyed with this app!! Definitely the wors...</td>\n",
       "      <td>1</td>\n",
       "      <td>Fake Arrival Time &amp; Car Tracking on Map</td>\n",
       "      <td>2020-03-05 08:22:05</td>\n",
       "    </tr>\n",
       "    <tr>\n",
       "      <th>2</th>\n",
       "      <td>Kazem Sharan</td>\n",
       "      <td>False</td>\n",
       "      <td>I’ve been using bolt for a month now. I had a ...</td>\n",
       "      <td>1</td>\n",
       "      <td>Drivers are unprofessional</td>\n",
       "      <td>2019-09-20 09:25:04</td>\n",
       "    </tr>\n",
       "    <tr>\n",
       "      <th>3</th>\n",
       "      <td>Doctor A Theo</td>\n",
       "      <td>False</td>\n",
       "      <td>To make things clear, I am not a regular revie...</td>\n",
       "      <td>1</td>\n",
       "      <td>Shockingly unreliable drivers and unhelpful se...</td>\n",
       "      <td>2020-02-24 08:36:59</td>\n",
       "    </tr>\n",
       "    <tr>\n",
       "      <th>4</th>\n",
       "      <td>Maria348794</td>\n",
       "      <td>False</td>\n",
       "      <td>I have used the app 3 or 4 times and I thought...</td>\n",
       "      <td>1</td>\n",
       "      <td>I feel scammed</td>\n",
       "      <td>2019-11-04 15:03:04</td>\n",
       "    </tr>\n",
       "  </tbody>\n",
       "</table>\n",
       "</div>"
      ],
      "text/plain": [
       "        userName  isEdited                                             review  \\\n",
       "0  Tkay_Browning     False  I love bolt. I don’t use uber often because on...   \n",
       "1      Livvii_xo     False  So annoyed with this app!! Definitely the wors...   \n",
       "2   Kazem Sharan     False  I’ve been using bolt for a month now. I had a ...   \n",
       "3  Doctor A Theo     False  To make things clear, I am not a regular revie...   \n",
       "4    Maria348794     False  I have used the app 3 or 4 times and I thought...   \n",
       "\n",
       "   rating                                              title  \\\n",
       "0       5                            Love it *Not sponsored*   \n",
       "1       1            Fake Arrival Time & Car Tracking on Map   \n",
       "2       1                         Drivers are unprofessional   \n",
       "3       1  Shockingly unreliable drivers and unhelpful se...   \n",
       "4       1                                     I feel scammed   \n",
       "\n",
       "                  date  \n",
       "0  2019-07-20 11:51:59  \n",
       "1  2020-03-05 08:22:05  \n",
       "2  2019-09-20 09:25:04  \n",
       "3  2020-02-24 08:36:59  \n",
       "4  2019-11-04 15:03:04  "
      ]
     },
     "execution_count": 6,
     "metadata": {},
     "output_type": "execute_result"
    }
   ],
   "source": [
    "df_test = df2.head()\n",
    "df_test"
   ]
  },
  {
   "cell_type": "code",
   "execution_count": 14,
   "metadata": {},
   "outputs": [],
   "source": [
    "rowsToRemove = []"
   ]
  },
  {
   "cell_type": "code",
   "execution_count": 15,
   "metadata": {},
   "outputs": [
    {
     "data": {
      "text/plain": [
       "[0]"
      ]
     },
     "execution_count": 15,
     "metadata": {},
     "output_type": "execute_result"
    }
   ],
   "source": [
    "rowsToRemove.append(0)\n",
    "rowsToRemove"
   ]
  },
  {
   "cell_type": "code",
   "execution_count": 17,
   "metadata": {},
   "outputs": [
    {
     "data": {
      "text/plain": [
       "[0, 1]"
      ]
     },
     "execution_count": 17,
     "metadata": {},
     "output_type": "execute_result"
    }
   ],
   "source": [
    "rowsToRemove.append(1)\n",
    "rowsToRemove"
   ]
  },
  {
   "cell_type": "code",
   "execution_count": 18,
   "metadata": {},
   "outputs": [
    {
     "data": {
      "text/plain": [
       "[0, 1, 3]"
      ]
     },
     "execution_count": 18,
     "metadata": {},
     "output_type": "execute_result"
    }
   ],
   "source": [
    "rowsToRemove.append(3)\n",
    "rowsToRemove"
   ]
  },
  {
   "cell_type": "code",
   "execution_count": 20,
   "metadata": {},
   "outputs": [
    {
     "data": {
      "text/plain": [
       "3"
      ]
     },
     "execution_count": 20,
     "metadata": {},
     "output_type": "execute_result"
    }
   ],
   "source": [
    "len(rowsToRemove)"
   ]
  },
  {
   "cell_type": "code",
   "execution_count": 19,
   "metadata": {},
   "outputs": [
    {
     "data": {
      "text/html": [
       "<div>\n",
       "<style scoped>\n",
       "    .dataframe tbody tr th:only-of-type {\n",
       "        vertical-align: middle;\n",
       "    }\n",
       "\n",
       "    .dataframe tbody tr th {\n",
       "        vertical-align: top;\n",
       "    }\n",
       "\n",
       "    .dataframe thead th {\n",
       "        text-align: right;\n",
       "    }\n",
       "</style>\n",
       "<table border=\"1\" class=\"dataframe\">\n",
       "  <thead>\n",
       "    <tr style=\"text-align: right;\">\n",
       "      <th></th>\n",
       "      <th>userName</th>\n",
       "      <th>isEdited</th>\n",
       "      <th>review</th>\n",
       "      <th>rating</th>\n",
       "      <th>title</th>\n",
       "      <th>date</th>\n",
       "    </tr>\n",
       "  </thead>\n",
       "  <tbody>\n",
       "    <tr>\n",
       "      <th>2</th>\n",
       "      <td>Kazem Sharan</td>\n",
       "      <td>False</td>\n",
       "      <td>I’ve been using bolt for a month now. I had a ...</td>\n",
       "      <td>1</td>\n",
       "      <td>Drivers are unprofessional</td>\n",
       "      <td>2019-09-20 09:25:04</td>\n",
       "    </tr>\n",
       "    <tr>\n",
       "      <th>4</th>\n",
       "      <td>Maria348794</td>\n",
       "      <td>False</td>\n",
       "      <td>I have used the app 3 or 4 times and I thought...</td>\n",
       "      <td>1</td>\n",
       "      <td>I feel scammed</td>\n",
       "      <td>2019-11-04 15:03:04</td>\n",
       "    </tr>\n",
       "  </tbody>\n",
       "</table>\n",
       "</div>"
      ],
      "text/plain": [
       "       userName  isEdited                                             review  \\\n",
       "2  Kazem Sharan     False  I’ve been using bolt for a month now. I had a ...   \n",
       "4   Maria348794     False  I have used the app 3 or 4 times and I thought...   \n",
       "\n",
       "   rating                       title                 date  \n",
       "2       1  Drivers are unprofessional  2019-09-20 09:25:04  \n",
       "4       1              I feel scammed  2019-11-04 15:03:04  "
      ]
     },
     "execution_count": 19,
     "metadata": {},
     "output_type": "execute_result"
    }
   ],
   "source": [
    "# df_test.drop([0, 1, 3])\n",
    "df_test.drop(rowsToRemove)"
   ]
  },
  {
   "cell_type": "code",
   "execution_count": null,
   "metadata": {},
   "outputs": [],
   "source": []
  }
 ],
 "metadata": {
  "kernelspec": {
   "display_name": "Python 3",
   "language": "python",
   "name": "python3"
  },
  "language_info": {
   "codemirror_mode": {
    "name": "ipython",
    "version": 3
   },
   "file_extension": ".py",
   "mimetype": "text/x-python",
   "name": "python",
   "nbconvert_exporter": "python",
   "pygments_lexer": "ipython3",
   "version": "3.6.7"
  },
  "toc": {
   "base_numbering": 1,
   "nav_menu": {},
   "number_sections": true,
   "sideBar": true,
   "skip_h1_title": false,
   "title_cell": "Table of Contents",
   "title_sidebar": "Contents",
   "toc_cell": false,
   "toc_position": {},
   "toc_section_display": true,
   "toc_window_display": false
  }
 },
 "nbformat": 4,
 "nbformat_minor": 2
}
