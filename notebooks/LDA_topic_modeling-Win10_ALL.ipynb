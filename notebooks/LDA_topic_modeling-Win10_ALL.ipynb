{
 "cells": [
  {
   "cell_type": "markdown",
   "metadata": {},
   "source": [
    "### Import modules"
   ]
  },
  {
   "cell_type": "code",
   "execution_count": 1,
   "metadata": {},
   "outputs": [
    {
     "name": "stderr",
     "output_type": "stream",
     "text": [
      "[nltk_data] Downloading package stopwords to\n",
      "[nltk_data]     C:\\Users\\enlik\\AppData\\Roaming\\nltk_data...\n",
      "[nltk_data]   Package stopwords is already up-to-date!\n",
      "C:\\Users\\enlik\\Miniconda3\\lib\\site-packages\\sklearn\\decomposition\\_lda.py:28: DeprecationWarning: `np.float` is a deprecated alias for the builtin `float`. To silence this warning, use `float` by itself. Doing this will not modify any behavior and is safe. If you specifically wanted the numpy scalar type, use `np.float64` here.\n",
      "Deprecated in NumPy 1.20; for more details and guidance: https://numpy.org/devdocs/release/1.20.0-notes.html#deprecations\n",
      "  EPS = np.finfo(np.float).eps\n"
     ]
    }
   ],
   "source": [
    "from utils import * \n",
    "\n",
    "import numpy as np\n",
    "import pandas as pd\n",
    "from pprint import pprint\n",
    "import os\n",
    "import matplotlib.pyplot as plt\n",
    "from collections import defaultdict\n",
    "\n",
    "# Gensim\n",
    "from gensim.test.utils import datapath\n",
    "from gensim.test.utils import common_texts, get_tmpfile\n",
    "\n",
    "# Plotting tools\n",
    "import pyLDAvis\n",
    "import pyLDAvis.gensim  # don't skip this\n",
    "import matplotlib.pyplot as plt\n",
    "%matplotlib inline\n",
    "\n",
    "pd.set_option('display.max_rows', 500)\n",
    "pd.set_option('display.max_columns', 500)\n",
    "pd.option_context('display.max_colwidth', 500);\n",
    "\n",
    "# Enable logging for gensim - optional\n",
    "import logging\n",
    "logging.basicConfig(format='%(asctime)s : %(levelname)s : %(message)s', level=logging.ERROR)\n",
    "\n",
    "import warnings\n",
    "warnings.filterwarnings(\"ignore\",category=DeprecationWarning)\n",
    "\n",
    "\n",
    "config = get_config('config.yaml')"
   ]
  },
  {
   "cell_type": "code",
   "execution_count": 26,
   "metadata": {},
   "outputs": [
    {
     "data": {
      "text/html": [
       "<div>\n",
       "<style scoped>\n",
       "    .dataframe tbody tr th:only-of-type {\n",
       "        vertical-align: middle;\n",
       "    }\n",
       "\n",
       "    .dataframe tbody tr th {\n",
       "        vertical-align: top;\n",
       "    }\n",
       "\n",
       "    .dataframe thead th {\n",
       "        text-align: right;\n",
       "    }\n",
       "</style>\n",
       "<table border=\"1\" class=\"dataframe\">\n",
       "  <thead>\n",
       "    <tr style=\"text-align: right;\">\n",
       "      <th></th>\n",
       "      <th>userName</th>\n",
       "      <th>review</th>\n",
       "      <th>rating</th>\n",
       "      <th>date</th>\n",
       "    </tr>\n",
       "  </thead>\n",
       "  <tbody>\n",
       "    <tr>\n",
       "      <th>0</th>\n",
       "      <td>Hilary Meyer</td>\n",
       "      <td>Your drivers are great BUT your support is no ...</td>\n",
       "      <td>3</td>\n",
       "      <td>2020-12-06 19:38:13</td>\n",
       "    </tr>\n",
       "    <tr>\n",
       "      <th>1</th>\n",
       "      <td>Kenneth B</td>\n",
       "      <td>Loving the app, but can only give it a medium ...</td>\n",
       "      <td>3</td>\n",
       "      <td>2020-12-11 14:06:15</td>\n",
       "    </tr>\n",
       "    <tr>\n",
       "      <th>2</th>\n",
       "      <td>Bonolo Mphahlele</td>\n",
       "      <td>The response time with regards to customer ser...</td>\n",
       "      <td>4</td>\n",
       "      <td>2020-12-07 13:59:18</td>\n",
       "    </tr>\n",
       "    <tr>\n",
       "      <th>3</th>\n",
       "      <td>jessfechi egolo</td>\n",
       "      <td>This has been happening for some time now and ...</td>\n",
       "      <td>1</td>\n",
       "      <td>2020-12-13 18:19:06</td>\n",
       "    </tr>\n",
       "    <tr>\n",
       "      <th>4</th>\n",
       "      <td>Safeeya Lawal</td>\n",
       "      <td>The drivers almost always never have change an...</td>\n",
       "      <td>3</td>\n",
       "      <td>2020-12-05 15:08:10</td>\n",
       "    </tr>\n",
       "    <tr>\n",
       "      <th>...</th>\n",
       "      <td>...</td>\n",
       "      <td>...</td>\n",
       "      <td>...</td>\n",
       "      <td>...</td>\n",
       "    </tr>\n",
       "    <tr>\n",
       "      <th>29808</th>\n",
       "      <td>P.Raimond</td>\n",
       "      <td>It’s rather difficult to get a taxi. Sometimes...</td>\n",
       "      <td>3</td>\n",
       "      <td>2018-05-30 05:37:16</td>\n",
       "    </tr>\n",
       "    <tr>\n",
       "      <th>29809</th>\n",
       "      <td>sõidan taksoga</td>\n",
       "      <td>Taxi drivers don’t speak Estonian or English. ...</td>\n",
       "      <td>1</td>\n",
       "      <td>2018-11-11 10:32:50</td>\n",
       "    </tr>\n",
       "    <tr>\n",
       "      <th>29810</th>\n",
       "      <td>madsp1r1t</td>\n",
       "      <td>Ride booking extension in Apple maps not avail...</td>\n",
       "      <td>3</td>\n",
       "      <td>2019-11-07 18:53:33</td>\n",
       "    </tr>\n",
       "    <tr>\n",
       "      <th>29811</th>\n",
       "      <td>hmerith</td>\n",
       "      <td>I ordered a taxi, but when it arrived the driv...</td>\n",
       "      <td>1</td>\n",
       "      <td>2019-07-12 23:33:57</td>\n",
       "    </tr>\n",
       "    <tr>\n",
       "      <th>29812</th>\n",
       "      <td>lalalaaalalaa</td>\n",
       "      <td>taxis are always late without exception. drive...</td>\n",
       "      <td>1</td>\n",
       "      <td>2020-11-07 15:30:33</td>\n",
       "    </tr>\n",
       "  </tbody>\n",
       "</table>\n",
       "<p>29813 rows × 4 columns</p>\n",
       "</div>"
      ],
      "text/plain": [
       "               userName                                             review  \\\n",
       "0          Hilary Meyer  Your drivers are great BUT your support is no ...   \n",
       "1             Kenneth B  Loving the app, but can only give it a medium ...   \n",
       "2      Bonolo Mphahlele  The response time with regards to customer ser...   \n",
       "3       jessfechi egolo  This has been happening for some time now and ...   \n",
       "4         Safeeya Lawal  The drivers almost always never have change an...   \n",
       "...                 ...                                                ...   \n",
       "29808         P.Raimond  It’s rather difficult to get a taxi. Sometimes...   \n",
       "29809    sõidan taksoga  Taxi drivers don’t speak Estonian or English. ...   \n",
       "29810         madsp1r1t  Ride booking extension in Apple maps not avail...   \n",
       "29811           hmerith  I ordered a taxi, but when it arrived the driv...   \n",
       "29812     lalalaaalalaa  taxis are always late without exception. drive...   \n",
       "\n",
       "       rating                 date  \n",
       "0           3  2020-12-06 19:38:13  \n",
       "1           3  2020-12-11 14:06:15  \n",
       "2           4  2020-12-07 13:59:18  \n",
       "3           1  2020-12-13 18:19:06  \n",
       "4           3  2020-12-05 15:08:10  \n",
       "...       ...                  ...  \n",
       "29808       3  2018-05-30 05:37:16  \n",
       "29809       1  2018-11-11 10:32:50  \n",
       "29810       3  2019-11-07 18:53:33  \n",
       "29811       1  2019-07-12 23:33:57  \n",
       "29812       1  2020-11-07 15:30:33  \n",
       "\n",
       "[29813 rows x 4 columns]"
      ]
     },
     "execution_count": 26,
     "metadata": {},
     "output_type": "execute_result"
    }
   ],
   "source": [
    "df"
   ]
  },
  {
   "cell_type": "code",
   "execution_count": 2,
   "metadata": {},
   "outputs": [
    {
     "data": {
      "text/plain": [
       "0        Your drivers are great BUT your support is no ...\n",
       "1        Loving the app, but can only give it a medium ...\n",
       "2        The response time with regards to customer ser...\n",
       "3        This has been happening for some time now and ...\n",
       "4        The drivers almost always never have change an...\n",
       "                               ...                        \n",
       "29808    It’s rather difficult to get a taxi. Sometimes...\n",
       "29809    Taxi drivers don’t speak Estonian or English. ...\n",
       "29810    Ride booking extension in Apple maps not avail...\n",
       "29811    I ordered a taxi, but when it arrived the driv...\n",
       "29812    taxis are always late without exception. drive...\n",
       "Name: review, Length: 29813, dtype: object"
      ]
     },
     "execution_count": 2,
     "metadata": {},
     "output_type": "execute_result"
    }
   ],
   "source": [
    "# setup input and output path\n",
    "input_path = 'preprocessed_data/all/'\n",
    "output_path = 'std_lda_vis/all/'\n",
    "\n",
    "# Import dataset\n",
    "df = pd.read_csv(config['csv_input_local']['all_reviews_p3'], index_col=0)\n",
    "df = df.reset_index(drop=True)\n",
    "reviews = df.review\n",
    "reviews"
   ]
  },
  {
   "cell_type": "markdown",
   "metadata": {},
   "source": [
    "NLPpipeline"
   ]
  },
  {
   "cell_type": "code",
   "execution_count": 3,
   "metadata": {},
   "outputs": [],
   "source": [
    "term_doc = pd.read_pickle(input_path + 'term_doc.pkl')\n",
    "data_lemmatized = pd.read_pickle(input_path + 'data_lemmatized.pkl')\n",
    "dictionary = pd.read_pickle(input_path + 'dictionary.pkl')\n",
    "tf_idf = pd.read_pickle(input_path + 'tf_idf.pkl')"
   ]
  },
  {
   "cell_type": "markdown",
   "metadata": {},
   "source": [
    "<string>Code for piepelining</strong>\n",
    "<code style=\"font-size: 10px; background-color:transparent;\">\n",
    "nlp_pipe = NLPpipe()\n",
    "term_doc = nlp_pipe.fit_transform(reviews, min_count = 3, threshold = -0.5)\n",
    "tf_idf = nlp_pipe.transform(reviews, tf_idf = True)\n",
    "data_lemmatized = nlp_pipe.clean_text\n",
    "dictionary = create_dictionary(data_lemmatized)\n",
    "</code>"
   ]
  },
  {
   "cell_type": "markdown",
   "metadata": {},
   "source": [
    "### (Standard) LDA model after tuning"
   ]
  },
  {
   "cell_type": "code",
   "execution_count": 6,
   "metadata": {},
   "outputs": [],
   "source": [
    "lda_model = gensim.models.ldamodel.LdaModel(corpus=term_doc,\n",
    "                                           id2word=dictionary,\n",
    "                                           num_topics= 6, \n",
    "                                           random_state=100,\n",
    "                                           update_every=1,\n",
    "                                           chunksize=2000,\n",
    "                                           passes=10,\n",
    "                                           alpha= 1.5,\n",
    "                                           per_word_topics=True)"
   ]
  },
  {
   "cell_type": "markdown",
   "metadata": {},
   "source": [
    "#### Visualize Standard LDA model"
   ]
  },
  {
   "cell_type": "code",
   "execution_count": 6,
   "metadata": {},
   "outputs": [
    {
     "name": "stderr",
     "output_type": "stream",
     "text": [
      "C:\\Users\\enlik\\Miniconda3\\lib\\site-packages\\pyLDAvis\\_prepare.py:247: FutureWarning: In a future version of pandas all arguments of DataFrame.drop except for the argument 'labels' will be keyword-only\n",
      "  default_term_info = default_term_info.sort_values(\n"
     ]
    }
   ],
   "source": [
    "# vis_data = pyLDAvis.gensim.prepare(lda_model, term_doc, dictionary, sort_topics=False)\n",
    "# pyLDAvis.save_html(vis_data, 'std_lda_vis/std_lda_topics=6&a=1.5&batchsize=1.html')"
   ]
  },
  {
   "cell_type": "markdown",
   "metadata": {},
   "source": [
    "*With chunksize = 100 after tuning, although the coherence scores are higher than stochastic one('update_every=1'), the topics are not much distinguishable and uninterpretable.*"
   ]
  },
  {
   "cell_type": "code",
   "execution_count": 7,
   "metadata": {},
   "outputs": [],
   "source": [
    "# lda_model_100 = gensim.models.ldamodel.LdaModel(corpus=term_doc,\n",
    "#                                            id2word=dictionary,\n",
    "#                                            num_topics= 15, \n",
    "#                                            random_state=100,\n",
    "#                                            update_every=100,\n",
    "#                                            chunksize=2000,\n",
    "#                                            passes=10,\n",
    "#                                            alpha= 1.5,\n",
    "#                                            per_word_topics=True)\n",
    "\n",
    "# vis_data = pyLDAvis.gensim.prepare(lda_model_100, term_doc, dictionary, sort_topics=False)\n",
    "# pyLDAvis.save_html(vis_data, 'std_lda_vis/std_lda_topics=15&a=1.5&batchsize=100.html')"
   ]
  },
  {
   "cell_type": "code",
   "execution_count": 8,
   "metadata": {},
   "outputs": [
    {
     "data": {
      "text/plain": [
       "-0.026390592113391367"
      ]
     },
     "execution_count": 8,
     "metadata": {},
     "output_type": "execute_result"
    }
   ],
   "source": [
    "# coherence_model = CoherenceModel(model=lda_model_100, texts=data_lemmatized, dictionary=dictionary, coherence='c_npmi')\n",
    "# np.mean(coherence_model.get_coherence_per_topic())"
   ]
  },
  {
   "cell_type": "markdown",
   "metadata": {},
   "source": [
    "## <mark>Mallet's LDA model after tuning &#8592; Best Model\n",
    "*The difference between Mallet and Gensim’s standard LDA is that Gensim uses a Variational Bayes sampling method which is faster but less precise that Mallet’s Gibbs Sampling.*  [link](https://towardsdatascience.com/basic-nlp-on-the-texts-of-harry-potter-topic-modeling-with-latent-dirichlet-allocation-f3c00f77b0f5)"
   ]
  },
  {
   "cell_type": "code",
   "execution_count": 4,
   "metadata": {},
   "outputs": [],
   "source": [
    "# mallet_path = '../mallet-2.0.8/bin/mallet' # update this path\n",
    "\n",
    "import os\n",
    "os.environ.update({'MALLET_HOME':r'C:/mallet-2.0.8/'})\n",
    "\n",
    "# mallet_path = 'mallet-2.0.8/bin/mallet.bat' # update this path\n",
    "mallet_path = 'C:/mallet-2.0.8/bin/mallet.bat'\n",
    "\n",
    "ldamallet = gensim.models.wrappers.LdaMallet(mallet_path, \n",
    "                                             corpus = term_doc,\n",
    "                                             num_topics = 6, \n",
    "                                             random_seed = 100,\n",
    "                                             id2word = dictionary,\n",
    "                                             alpha = 1.5)"
   ]
  },
  {
   "cell_type": "code",
   "execution_count": 15,
   "metadata": {},
   "outputs": [],
   "source": [
    "# ldamallet.save(datapath(\"model\"))\n",
    "# ldamallet = gensim.models.wrappers.LdaMallet.load(datapath(\"model\"))"
   ]
  },
  {
   "cell_type": "markdown",
   "metadata": {},
   "source": [
    "#### Visualize Mallet's LDA model"
   ]
  },
  {
   "cell_type": "code",
   "execution_count": 16,
   "metadata": {},
   "outputs": [],
   "source": [
    "# Visualize the topics\n",
    "model = gensim.models.wrappers.ldamallet.malletmodel2ldamodel(ldamallet)\n",
    "pyLDAvis.enable_notebook()"
   ]
  },
  {
   "cell_type": "code",
   "execution_count": 17,
   "metadata": {},
   "outputs": [
    {
     "name": "stderr",
     "output_type": "stream",
     "text": [
      "C:\\Users\\enlik\\Miniconda3\\lib\\site-packages\\pyLDAvis\\_prepare.py:247: FutureWarning: In a future version of pandas all arguments of DataFrame.drop except for the argument 'labels' will be keyword-only\n",
      "  default_term_info = default_term_info.sort_values(\n"
     ]
    }
   ],
   "source": [
    "vis = pyLDAvis.gensim.prepare(model, term_doc, dictionary)\n",
    "pyLDAvis.save_html(vis, 'mallet_lda_vis/mallet_lda_topics=6&a=1.5.html')"
   ]
  },
  {
   "cell_type": "code",
   "execution_count": 18,
   "metadata": {},
   "outputs": [
    {
     "data": {
      "text/plain": [
       "[0.025636387283576208,\n",
       " -0.00033672387712726484,\n",
       " 0.027459863226146547,\n",
       " 0.0016659080521791824,\n",
       " -0.06243695078854283,\n",
       " 0.022359884043397654]"
      ]
     },
     "execution_count": 18,
     "metadata": {},
     "output_type": "execute_result"
    }
   ],
   "source": [
    "coherence_model_m = CoherenceModel(model=model, texts=data_lemmatized, dictionary=dictionary, coherence='c_npmi')\n",
    "coherence_model_m.get_coherence_per_topic()"
   ]
  },
  {
   "cell_type": "code",
   "execution_count": 19,
   "metadata": {},
   "outputs": [],
   "source": [
    "# model = gensim.models.wrappers.ldamallet.malletmodel2ldamodel(ldamallet)\n",
    "# model.top_topics(corpus = term_doc,topn=10)"
   ]
  },
  {
   "cell_type": "markdown",
   "metadata": {},
   "source": [
    "#### For each topic, we could look at frequent and relevant words"
   ]
  },
  {
   "cell_type": "code",
   "execution_count": 20,
   "metadata": {},
   "outputs": [
    {
     "name": "stderr",
     "output_type": "stream",
     "text": [
      "C:\\Users\\enlik\\AppData\\Local\\Temp/ipykernel_14508/1698140663.py:3: RuntimeWarning: invalid value encountered in true_divide\n",
      "  p_word_given_topic = ldamallet.word_topics / np.sum(ldamallet.word_topics, axis = 0)\n"
     ]
    }
   ],
   "source": [
    "frequencies = ldamallet.word_topics.sum(axis=0)\n",
    "p_word = frequencies / ldamallet.word_topics.sum()\n",
    "p_word_given_topic = ldamallet.word_topics / np.sum(ldamallet.word_topics, axis = 0)\n",
    "\n",
    "lamda = 0.5\n",
    "relevance = lamda * p_word_given_topic + (1-lamda) * p_word_given_topic / p_word "
   ]
  },
  {
   "cell_type": "code",
   "execution_count": 21,
   "metadata": {},
   "outputs": [],
   "source": [
    "# topic_dict = {0.: \"Platform/Device\", 1.: \"User Experience\", 2.: \"Value\", 3.: \"Service\", 4.: \"Trouble-shooting\", 5.:\"Shows\"}\n",
    "\n",
    "# for topic_id in range(6):\n",
    "#     words = []\n",
    "#     for id in np.argsort(relevance[topic_id,])[::-1][:15]:\n",
    "#         words.append(dictionary[id])\n",
    "#     print(f\"Topic: {topic_dict[topic_id]}\")\n",
    "#     print(words)\n",
    "#     print('\\n')"
   ]
  },
  {
   "cell_type": "code",
   "execution_count": 22,
   "metadata": {},
   "outputs": [
    {
     "data": {
      "text/plain": [
       "array([1826, 1540, 4588,  270, 4624, 2459,  279, 5575, 2537,  306, 1493,\n",
       "       7027,  635,  321, 4734], dtype=int64)"
      ]
     },
     "execution_count": 22,
     "metadata": {},
     "output_type": "execute_result"
    }
   ],
   "source": [
    "np.argsort(relevance[0,])[::-1][:15]\n"
   ]
  },
  {
   "cell_type": "code",
   "execution_count": 23,
   "metadata": {},
   "outputs": [
    {
     "data": {
      "text/plain": [
       "'saw'"
      ]
     },
     "execution_count": 23,
     "metadata": {},
     "output_type": "execute_result"
    }
   ],
   "source": [
    "dictionary[1826]"
   ]
  },
  {
   "cell_type": "code",
   "execution_count": 24,
   "metadata": {},
   "outputs": [
    {
     "name": "stdout",
     "output_type": "stream",
     "text": [
      "Topic: Platform/Device\n",
      "['saw', 'think', 'around', 'thank', 'out', 'everyone', 'well', 'must', 'wonder', 'self', 'course', 'sometime', 'value', 'up', 'allow']\n",
      "\n",
      "\n",
      "Topic: User Experience\n",
      "['think', 'r', 'value', 'well', 'brief', 'noone', 'known', 'more', 'welcome', 'something', 'edu', 'thank', 'down', 'everyone', 'going']\n",
      "\n",
      "\n",
      "Topic: Value\n",
      "['going', 'com', 'everyone', 'try', 'twice', 'nothing', 'tell', 'become', 'want', 'see', 'go', 'everything', 'over', 'willing', 'do']\n",
      "\n",
      "\n",
      "Topic: Service\n",
      "['out', 'consider', 'up', 'another', 'again', 'around', 'come', 'sub', 'sorry', 'self', 'anyway', 'plus', 'wonder', 'looking', 'allow']\n",
      "\n",
      "\n",
      "Topic: Trouble-shooting\n",
      "['sometime', 'thanx', 'more', 'last', 'th', 'around', 'brief', 'nothing', 'as', 'again', 'here', 'up', 'furthermore', 'well', 'thank']\n",
      "\n",
      "\n",
      "Topic: Shows\n",
      "['second', 'allow', 'wish', 'take', 'etc', 'on', 'everyone', 'indicate', 'away', 'would', 'anyway', 'took', 'more', 'brief', 'like']\n",
      "\n",
      "\n"
     ]
    }
   ],
   "source": [
    "topic_dict = {0.: \"Platform/Device\", 1.: \"User Experience\", 2.: \"Value\", 3.: \"Service\", 4.: \"Trouble-shooting\", 5.:\"Shows\"}\n",
    "\n",
    "for topic_id in range(6):\n",
    "    words = []\n",
    "    for id in np.argsort(relevance[topic_id,])[::-1][:15]:\n",
    "        words.append(dictionary[id])\n",
    "    print(f\"Topic: {topic_dict[topic_id]}\")\n",
    "    print(words)\n",
    "    print('\\n')"
   ]
  },
  {
   "cell_type": "markdown",
   "metadata": {},
   "source": [
    "## Interpret the topic model\n",
    "1. Finding the dominant topic in each document\n",
    "2. Find the most representative document for each topic\n",
    "3. Topic distribution across documents\n",
    "**The code used here for interpretation of the model are based on this website with a little modification by the user myself: <br>\n",
    "https://www.machinelearningplus.com/nlp/topic-modeling-gensim-python/#11createthedictionaryandcorpusneededfortopicmodeling**"
   ]
  },
  {
   "cell_type": "markdown",
   "metadata": {},
   "source": [
    "### Standard LDA - Interpret the model"
   ]
  },
  {
   "cell_type": "code",
   "execution_count": 7,
   "metadata": {},
   "outputs": [
    {
     "name": "stdout",
     "output_type": "stream",
     "text": [
      "Getting main topic for document...\n",
      "0  1000  2000  3000  4000  5000  6000  7000  8000  9000  10000  11000  12000  13000  14000  15000  16000  17000  18000  19000  20000  21000  22000  23000  24000  25000  26000  27000  28000  29000  "
     ]
    }
   ],
   "source": [
    "df_topic_sents_keywords = format_topics_sentences(ldamodel=lda_model, corpus=term_doc, texts=data_lemmatized, df=df)"
   ]
  },
  {
   "cell_type": "markdown",
   "metadata": {},
   "source": [
    "#### 1. Standard LDA - Finding the dominant topic in each document"
   ]
  },
  {
   "cell_type": "code",
   "execution_count": 8,
   "metadata": {},
   "outputs": [
    {
     "name": "stdout",
     "output_type": "stream",
     "text": [
      "Finding the dominant topic in each document\n"
     ]
    },
    {
     "data": {
      "text/html": [
       "<style type=\"text/css\">\n",
       "#T_23eaf_row0_col5, #T_23eaf_row1_col5, #T_23eaf_row2_col5, #T_23eaf_row3_col5, #T_23eaf_row4_col5 {\n",
       "  width: 600px;\n",
       "}\n",
       "</style>\n",
       "<table id=\"T_23eaf_\">\n",
       "  <thead>\n",
       "    <tr>\n",
       "      <th class=\"blank level0\" >&nbsp;</th>\n",
       "      <th class=\"col_heading level0 col0\" >Dominant_Topic</th>\n",
       "      <th class=\"col_heading level0 col1\" >Perc_Contribution</th>\n",
       "      <th class=\"col_heading level0 col2\" >Keywords</th>\n",
       "      <th class=\"col_heading level0 col3\" >Text</th>\n",
       "      <th class=\"col_heading level0 col4\" >rating</th>\n",
       "      <th class=\"col_heading level0 col5\" >review</th>\n",
       "    </tr>\n",
       "  </thead>\n",
       "  <tbody>\n",
       "    <tr>\n",
       "      <th id=\"T_23eaf_level0_row0\" class=\"row_heading level0 row0\" >0</th>\n",
       "      <td id=\"T_23eaf_row0_col0\" class=\"data row0 col0\" >5.000000</td>\n",
       "      <td id=\"T_23eaf_row0_col1\" class=\"data row0 col1\" >0.377500</td>\n",
       "      <td id=\"T_23eaf_row0_col2\" class=\"data row0 col2\" >trip, customer, money, charge, issue, company, payment, phone, pay, card</td>\n",
       "      <td id=\"T_23eaf_row0_col3\" class=\"data row0 col3\" >['driver', 'support', 'computer', 'response', 'case', 'response', 'support', 'discount', 'account', 'thought', 'client']</td>\n",
       "      <td id=\"T_23eaf_row0_col4\" class=\"data row0 col4\" >3</td>\n",
       "      <td id=\"T_23eaf_row0_col5\" class=\"data row0 col5\" >Your drivers are great BUT your support is no good. Why can't it be like Uber where you can actually speak to someone. Instead of getting computer generated responses or like in my case, no response at all. The three stars are for the support. Also I have received a single discount to this account since I installed it three months ago. I'm very disappointed in Bolt, I thought they were there for their clients.</td>\n",
       "    </tr>\n",
       "    <tr>\n",
       "      <th id=\"T_23eaf_level0_row1\" class=\"row_heading level0 row1\" >1</th>\n",
       "      <td id=\"T_23eaf_row1_col0\" class=\"data row1 col0\" >4.000000</td>\n",
       "      <td id=\"T_23eaf_row1_col1\" class=\"data row1 col1\" >0.342600</td>\n",
       "      <td id=\"T_23eaf_row1_col2\" class=\"data row1 col2\" >app, people, fare, rate, passenger, book, travel, request, vehicle, drive</td>\n",
       "      <td id=\"T_23eaf_row1_col3\" class=\"data row1 col3\" >['rating', 'moment', 'driver', 'rating', 'trip', 'driver', 'apartment', 'ride', 'drive', 'destination']</td>\n",
       "      <td id=\"T_23eaf_row1_col4\" class=\"data row1 col4\" >3</td>\n",
       "      <td id=\"T_23eaf_row1_col5\" class=\"data row1 col5\" >Loving the app, but can only give it a medium rating at the moment as the drivers you give a bad rating on still gets your trip. I had a bad experience with a driver outside my apartment, but he always gets my rides as he's parked there when with my one star and bad review (refused to drive to the destination, rude and aggressive).</td>\n",
       "    </tr>\n",
       "    <tr>\n",
       "      <th id=\"T_23eaf_level0_row2\" class=\"row_heading level0 row2\" >2</th>\n",
       "      <td id=\"T_23eaf_row2_col0\" class=\"data row2 col0\" >5.000000</td>\n",
       "      <td id=\"T_23eaf_row2_col1\" class=\"data row2 col1\" >0.500000</td>\n",
       "      <td id=\"T_23eaf_row2_col2\" class=\"data row2 col2\" >trip, customer, money, charge, issue, company, payment, phone, pay, card</td>\n",
       "      <td id=\"T_23eaf_row2_col3\" class=\"data row2 col3\" >['response', 'reimbursement', 'part', 'customer', 'promo', 'part', 'situation', 'part', 'company', 'extra_money', 'people', 'card', 'dodgy', 'stick', 'amount', 'card']</td>\n",
       "      <td id=\"T_23eaf_row2_col4\" class=\"data row2 col4\" >4</td>\n",
       "      <td id=\"T_23eaf_row2_col5\" class=\"data row2 col5\" >The response time with regards to customer service was great and thank you. Kindly improve on the reimbursement part because it's not every customer who'll appreciate a promo. That part put some of us in a very sticky situation financially especially now that we have COVID-19. The last part would be for your company not to always take extra money just because people are paying with cards. That's dodgy. Stick to the same amount whether I'm paying cash or with a card.</td>\n",
       "    </tr>\n",
       "    <tr>\n",
       "      <th id=\"T_23eaf_level0_row3\" class=\"row_heading level0 row3\" >3</th>\n",
       "      <td id=\"T_23eaf_row3_col0\" class=\"data row3 col0\" >1.000000</td>\n",
       "      <td id=\"T_23eaf_row3_col1\" class=\"data row3 col1\" >0.375000</td>\n",
       "      <td id=\"T_23eaf_row3_col2\" class=\"data row3 col2\" >time, ride, price, destination, route, order, thing, cost, user, point</td>\n",
       "      <td id=\"T_23eaf_row3_col3\" class=\"data row3 col3\" >['time', 'show', 'estimate', 'amount', 'destination', 'location', 'price', 'feedback', 'uninstall', 'rubbish', 'app']</td>\n",
       "      <td id=\"T_23eaf_row3_col4\" class=\"data row3 col4\" >1</td>\n",
       "      <td id=\"T_23eaf_row3_col5\" class=\"data row3 col5\" >This has been happening for some time now and i always keep quiet. You will show me an estimate of the amount for the destination and when i get to my location the price i will see will be way higher than what you showed. I will stop using you. Just decided to give this feedback before i uninstall this rubbish app</td>\n",
       "    </tr>\n",
       "    <tr>\n",
       "      <th id=\"T_23eaf_level0_row4\" class=\"row_heading level0 row4\" >4</th>\n",
       "      <td id=\"T_23eaf_row4_col0\" class=\"data row4 col0\" >3.000000</td>\n",
       "      <td id=\"T_23eaf_row4_col1\" class=\"data row4 col1\" >0.363100</td>\n",
       "      <td id=\"T_23eaf_row4_col2\" class=\"data row4 col2\" >location, option, way, work, experience, application, update, call, thank, map</td>\n",
       "      <td id=\"T_23eaf_row4_col3\" class=\"data row4 col3\" >['driver', 'option', 'change', 'time', 'transfer', 'trust', 'card', 'cash', 'please_fix', 'problem', 'way']</td>\n",
       "      <td id=\"T_23eaf_row4_col4\" class=\"data row4 col4\" >3</td>\n",
       "      <td id=\"T_23eaf_row4_col5\" class=\"data row4 col5\" >The drivers almost always never have change and I'm left with no option but to leave my 100-300 naira change with them which I obviously don't intend to. It's not all the time we're able to transfer and not everyone trust using their cards with the app, for those of us that use cash please fix this problem whatever way, it's really annoying.</td>\n",
       "    </tr>\n",
       "  </tbody>\n",
       "</table>\n"
      ],
      "text/plain": [
       "<pandas.io.formats.style.Styler at 0x226b5d01fd0>"
      ]
     },
     "execution_count": 8,
     "metadata": {},
     "output_type": "execute_result"
    }
   ],
   "source": [
    "df_dominant_topic = find_dominant_topic_in_each_doc(df_topic_sents_keywords, df=df)\n",
    "print(\"Finding the dominant topic in each document\")\n",
    "df_dominant_topic.head(5).style.set_properties(subset=['review'], **{'width': '600px'})"
   ]
  },
  {
   "cell_type": "markdown",
   "metadata": {},
   "source": [
    "#### 2. Standard LDA - Find the most representative document for each topic"
   ]
  },
  {
   "cell_type": "code",
   "execution_count": 9,
   "metadata": {},
   "outputs": [
    {
     "name": "stdout",
     "output_type": "stream",
     "text": [
      "Find the most representative document for each topic\n"
     ]
    },
    {
     "data": {
      "text/html": [
       "<style type=\"text/css\">\n",
       "#T_83061_row0_col4, #T_83061_row1_col4, #T_83061_row2_col4, #T_83061_row3_col4, #T_83061_row4_col4, #T_83061_row5_col4 {\n",
       "  width: 1000px;\n",
       "}\n",
       "</style>\n",
       "<table id=\"T_83061_\">\n",
       "  <thead>\n",
       "    <tr>\n",
       "      <th class=\"blank level0\" >&nbsp;</th>\n",
       "      <th class=\"col_heading level0 col0\" >Dominant_Topic</th>\n",
       "      <th class=\"col_heading level0 col1\" >Perc_Contribution</th>\n",
       "      <th class=\"col_heading level0 col2\" >Topic_Keywords</th>\n",
       "      <th class=\"col_heading level0 col3\" >star_rating</th>\n",
       "      <th class=\"col_heading level0 col4\" >review</th>\n",
       "    </tr>\n",
       "  </thead>\n",
       "  <tbody>\n",
       "    <tr>\n",
       "      <th id=\"T_83061_level0_row0\" class=\"row_heading level0 row0\" >0</th>\n",
       "      <td id=\"T_83061_row0_col0\" class=\"data row0 col0\" >0.000000</td>\n",
       "      <td id=\"T_83061_row0_col1\" class=\"data row0 col1\" >0.553800</td>\n",
       "      <td id=\"T_83061_row0_col2\" class=\"data row0 col2\" >service, car, taxi, cab, use, day, auto, hour, lot, number</td>\n",
       "      <td id=\"T_83061_row0_col3\" class=\"data row0 col3\" >5</td>\n",
       "      <td id=\"T_83061_row0_col4\" class=\"data row0 col4\" >I came into NYC this past weekend for a birthday celebration! It was bitter cold and if it wasn't for the via car service the day would not of been pleasant! Both drivers that we had were pleasant and professional. One car was a Camry hybrid and all four of us were very comfortable. The Suburban was our second car and that is a land yacht. I am officially a Via convert!! I really had a great experience!</td>\n",
       "    </tr>\n",
       "    <tr>\n",
       "      <th id=\"T_83061_level0_row1\" class=\"row_heading level0 row1\" >1</th>\n",
       "      <td id=\"T_83061_row1_col0\" class=\"data row1 col0\" >1.000000</td>\n",
       "      <td id=\"T_83061_row1_col1\" class=\"data row1 col1\" >0.575300</td>\n",
       "      <td id=\"T_83061_row1_col2\" class=\"data row1 col2\" >time, ride, price, destination, route, order, thing, cost, user, point</td>\n",
       "      <td id=\"T_83061_row1_col3\" class=\"data row1 col3\" >3</td>\n",
       "      <td id=\"T_83061_row1_col4\" class=\"data row1 col4\" >Bolt may be cheaper than Uber, but 1) the ETA before the driver arrives is a lie every time, it'll show the driver as 1 min away when in reality it takes 5+ mins, and 2) it takes you on ridiculous detours / down back streets which adds to the time and cost - example: we were a few mins away from our destination in King's Cross and instead, we were taken on a 20+ minute detour through Hampstead/Highgate in North London. No road blocks or anything, just taken on a huge detour for fun I guess.</td>\n",
       "    </tr>\n",
       "    <tr>\n",
       "      <th id=\"T_83061_level0_row2\" class=\"row_heading level0 row2\" >2</th>\n",
       "      <td id=\"T_83061_row2_col0\" class=\"data row2 col0\" >2.000000</td>\n",
       "      <td id=\"T_83061_row2_col1\" class=\"data row2 col1\" >0.636100</td>\n",
       "      <td id=\"T_83061_row2_col2\" class=\"data row2 col2\" >driver, minute, love, place, taxi, today, show, min, road, job</td>\n",
       "      <td id=\"T_83061_row2_col3\" class=\"data row2 col3\" >3</td>\n",
       "      <td id=\"T_83061_row2_col4\" class=\"data row2 col4\" >I use uber a lot, but lately have been put off as many drivers use heavy aerosol sprays and air- fresheners to disguise smells or simply spruce up the interior. \n",
       "Whilst its welcoming to be in a fresh clean vehicle, the use of these aerosols or air fresheners is bad news for people with airborne allergies and asthma. These scents cause irritation and headaches in sensitive people (like myself and my child who has allergies) Please Uber, educate your members and discourage the use of heavy air scenting- its no different than outdoor air pollution, only we the passengers are subjected to it, indoors whilst also paying for cleaner air fees! The irony! \n",
       "I am sure drivers can maintain cleanliness without resorting to disguise or OTT air scenting. \n",
       "Otherwise Uber is a breath of fresh air in the taxi world. Thanks!</td>\n",
       "    </tr>\n",
       "    <tr>\n",
       "      <th id=\"T_83061_level0_row3\" class=\"row_heading level0 row3\" >3</th>\n",
       "      <td id=\"T_83061_row3_col0\" class=\"data row3 col0\" >3.000000</td>\n",
       "      <td id=\"T_83061_row3_col1\" class=\"data row3 col1\" >0.574800</td>\n",
       "      <td id=\"T_83061_row3_col2\" class=\"data row3 col2\" >location, option, way, work, experience, application, update, call, thank, map</td>\n",
       "      <td id=\"T_83061_row3_col3\" class=\"data row3 col3\" >1</td>\n",
       "      <td id=\"T_83061_row3_col4\" class=\"data row3 col4\" >Compared to Clever Taxi, this application is absolutely rubbish! There's no option for me to save the various adresses that I often call taxi at, like I used to do so easily on Clever!! And the localisation is ALWAYS wrong!! It takes ages to get the right location, when I write the correct street name, the application switches it instantly to a wrong street name in the vecinity. Horrendous!!</td>\n",
       "    </tr>\n",
       "    <tr>\n",
       "      <th id=\"T_83061_level0_row4\" class=\"row_heading level0 row4\" >4</th>\n",
       "      <td id=\"T_83061_row4_col0\" class=\"data row4 col0\" >4.000000</td>\n",
       "      <td id=\"T_83061_row4_col1\" class=\"data row4 col1\" >0.569700</td>\n",
       "      <td id=\"T_83061_row4_col2\" class=\"data row4 col2\" >app, people, fare, rate, passenger, book, travel, request, vehicle, drive</td>\n",
       "      <td id=\"T_83061_row4_col3\" class=\"data row4 col3\" >3</td>\n",
       "      <td id=\"T_83061_row4_col4\" class=\"data row4 col4\" >There are few problems with this app and there are few suggestions I will make and I hope you act accordingly. When you rate a driver and they don't rate you back, your rate still shows on their profile. I don't think this is either fair or right from your part. I believe there should be an option to change your rate after you see the other persons rate. I always rate people truthfully, but it happened to me a day ago that I got a rate that was subjective, not objective. Apparently I didn't sit well with the guy. I texted him the size of my bag, when I came the car couldn't open the back door. Also the thing for the speed didn't work so he was practically driving by feeling which I didn't like at all. It made me feel very insecure. And plus I was in the front and the firsy person to die when there is a car crash it's not the driver but the person next to him/her. I reported him here on Bla Bla Car but there is no choice to put for a vehicle that isn't functional. I didn't comment on that because I didn't want to upset the other passangers and I was let with a three hour drive that was very unsecure and caused me extreme emotional distress. I left a good grade because everything was fine, the drive, etc. But on second thought I should have put a different grade and warn others, but now the app doesn't allow me. I sent a request to change the rating but we'll see how that goes. If I would be able to change the rate and if the app changes the voting thingy I will give this app a straight five stars because this app deserves it. But I hope I can solve this quickly.</td>\n",
       "    </tr>\n",
       "    <tr>\n",
       "      <th id=\"T_83061_level0_row5\" class=\"row_heading level0 row5\" >5</th>\n",
       "      <td id=\"T_83061_row5_col0\" class=\"data row5 col0\" >5.000000</td>\n",
       "      <td id=\"T_83061_row5_col1\" class=\"data row5 col1\" >0.693700</td>\n",
       "      <td id=\"T_83061_row5_col2\" class=\"data row5 col2\" >trip, customer, money, charge, issue, company, payment, phone, pay, card</td>\n",
       "      <td id=\"T_83061_row5_col3\" class=\"data row5 col3\" >1</td>\n",
       "      <td id=\"T_83061_row5_col4\" class=\"data row5 col4\" >One sudden day, my ola account got blocked for permanently. When contacted the customer care, they said they had no information about my account getting blocked and asked me to drop mail to the ola grievance team, ever since the last 2 months, I have mailed multiple time s to the grievance team and other ola support emails, but got no valid response although have kept on receiving multiple mails and calls, for the payment of due ola money charges throughout last two months, I have confirmed them over the email and even told the customer care agent who called asking to pay the dues that, I would be able to pay the charges only if my account is unblocked. Although account is still blocked, I received a mail on 6th october stating that, as I have failed to pay the dues for around last 71 days, they would take legal action against me, ever since I received this mail, I have sent several mails to ola grievance and other support teams, asking to unblock my account first, thereafter I would clear the dues, as I have never denied to clear the dues, but till now, not received any valid response from them. They are least bothered. Have tried contacting the contact centres over phone, but each time the call is disconnected after initially getting connected to ola customer care, they have cut down all the channels to reach out to them over the phone. They have the worst possible customer service. Pathetic...!!!</td>\n",
       "    </tr>\n",
       "  </tbody>\n",
       "</table>\n"
      ],
      "text/plain": [
       "<pandas.io.formats.style.Styler at 0x226b4da9370>"
      ]
     },
     "execution_count": 9,
     "metadata": {},
     "output_type": "execute_result"
    }
   ],
   "source": [
    "print(\"Find the most representative document for each topic\")\n",
    "sent_topics_sorteddf = find_most_representative_doc_for_each_doc(df_topic_sents_keywords,df=df)\n",
    "sent_topics_sorteddf.style.set_properties(subset=['review'], **{'width': '1000px'})"
   ]
  },
  {
   "cell_type": "markdown",
   "metadata": {},
   "source": [
    "#### 3. Standard LDA - Topic distribution across documents"
   ]
  },
  {
   "cell_type": "code",
   "execution_count": 10,
   "metadata": {},
   "outputs": [
    {
     "name": "stdout",
     "output_type": "stream",
     "text": [
      "Topic distribution across documents\n"
     ]
    },
    {
     "data": {
      "text/html": [
       "<style type=\"text/css\">\n",
       "#T_8e11f_row0_col1, #T_8e11f_row1_col1, #T_8e11f_row2_col1, #T_8e11f_row3_col1, #T_8e11f_row4_col1, #T_8e11f_row5_col1 {\n",
       "  width: 400px;\n",
       "}\n",
       "</style>\n",
       "<table id=\"T_8e11f_\">\n",
       "  <thead>\n",
       "    <tr>\n",
       "      <th class=\"blank level0\" >&nbsp;</th>\n",
       "      <th class=\"col_heading level0 col0\" >Dominant_Topic</th>\n",
       "      <th class=\"col_heading level0 col1\" >Keywords</th>\n",
       "      <th class=\"col_heading level0 col2\" >Num_Documents</th>\n",
       "      <th class=\"col_heading level0 col3\" >Perc_Documents</th>\n",
       "    </tr>\n",
       "  </thead>\n",
       "  <tbody>\n",
       "    <tr>\n",
       "      <th id=\"T_8e11f_level0_row0\" class=\"row_heading level0 row0\" >0</th>\n",
       "      <td id=\"T_8e11f_row0_col0\" class=\"data row0 col0\" >0.000000</td>\n",
       "      <td id=\"T_8e11f_row0_col1\" class=\"data row0 col1\" >service, car, taxi, cab, use, day, auto, hour, lot, number</td>\n",
       "      <td id=\"T_8e11f_row0_col2\" class=\"data row0 col2\" >7868</td>\n",
       "      <td id=\"T_8e11f_row0_col3\" class=\"data row0 col3\" >0.263900</td>\n",
       "    </tr>\n",
       "    <tr>\n",
       "      <th id=\"T_8e11f_level0_row1\" class=\"row_heading level0 row1\" >1</th>\n",
       "      <td id=\"T_8e11f_row1_col0\" class=\"data row1 col0\" >1.000000</td>\n",
       "      <td id=\"T_8e11f_row1_col1\" class=\"data row1 col1\" >time, ride, price, destination, route, order, thing, cost, user, point</td>\n",
       "      <td id=\"T_8e11f_row1_col2\" class=\"data row1 col2\" >4632</td>\n",
       "      <td id=\"T_8e11f_row1_col3\" class=\"data row1 col3\" >0.155400</td>\n",
       "    </tr>\n",
       "    <tr>\n",
       "      <th id=\"T_8e11f_level0_row2\" class=\"row_heading level0 row2\" >2</th>\n",
       "      <td id=\"T_8e11f_row2_col0\" class=\"data row2 col0\" >2.000000</td>\n",
       "      <td id=\"T_8e11f_row2_col1\" class=\"data row2 col1\" >driver, minute, love, place, taxi, today, show, min, road, job</td>\n",
       "      <td id=\"T_8e11f_row2_col2\" class=\"data row2 col2\" >4586</td>\n",
       "      <td id=\"T_8e11f_row2_col3\" class=\"data row2 col3\" >0.153800</td>\n",
       "    </tr>\n",
       "    <tr>\n",
       "      <th id=\"T_8e11f_level0_row3\" class=\"row_heading level0 row3\" >3</th>\n",
       "      <td id=\"T_8e11f_row3_col0\" class=\"data row3 col0\" >3.000000</td>\n",
       "      <td id=\"T_8e11f_row3_col1\" class=\"data row3 col1\" >location, option, way, work, experience, application, update, call, thank, map</td>\n",
       "      <td id=\"T_8e11f_row3_col2\" class=\"data row3 col2\" >4310</td>\n",
       "      <td id=\"T_8e11f_row3_col3\" class=\"data row3 col3\" >0.144600</td>\n",
       "    </tr>\n",
       "    <tr>\n",
       "      <th id=\"T_8e11f_level0_row4\" class=\"row_heading level0 row4\" >4</th>\n",
       "      <td id=\"T_8e11f_row4_col0\" class=\"data row4 col0\" >4.000000</td>\n",
       "      <td id=\"T_8e11f_row4_col1\" class=\"data row4 col1\" >app, people, fare, rate, passenger, book, travel, request, vehicle, drive</td>\n",
       "      <td id=\"T_8e11f_row4_col2\" class=\"data row4 col2\" >4287</td>\n",
       "      <td id=\"T_8e11f_row4_col3\" class=\"data row4 col3\" >0.143800</td>\n",
       "    </tr>\n",
       "    <tr>\n",
       "      <th id=\"T_8e11f_level0_row5\" class=\"row_heading level0 row5\" >5</th>\n",
       "      <td id=\"T_8e11f_row5_col0\" class=\"data row5 col0\" >5.000000</td>\n",
       "      <td id=\"T_8e11f_row5_col1\" class=\"data row5 col1\" >trip, customer, money, charge, issue, company, payment, phone, pay, card</td>\n",
       "      <td id=\"T_8e11f_row5_col2\" class=\"data row5 col2\" >4130</td>\n",
       "      <td id=\"T_8e11f_row5_col3\" class=\"data row5 col3\" >0.138500</td>\n",
       "    </tr>\n",
       "  </tbody>\n",
       "</table>\n"
      ],
      "text/plain": [
       "<pandas.io.formats.style.Styler at 0x226b2984f70>"
      ]
     },
     "execution_count": 10,
     "metadata": {},
     "output_type": "execute_result"
    }
   ],
   "source": [
    "# Show\n",
    "print(\"Topic distribution across documents\")\n",
    "df_dominant_topic = topic_distribution_across_docs(df_topic_sents_keywords)\n",
    "df_dominant_topic.style.set_properties(subset=['Keywords'], **{'width': '400px'})"
   ]
  },
  {
   "cell_type": "code",
   "execution_count": 11,
   "metadata": {},
   "outputs": [
    {
     "data": {
      "text/plain": [
       "[-0.08499127887857232,\n",
       " -0.04825007465208696,\n",
       " -0.08316108524893653,\n",
       " -0.00571317760274162,\n",
       " -0.048308270486805964,\n",
       " 0.05511379503712159]"
      ]
     },
     "execution_count": 11,
     "metadata": {},
     "output_type": "execute_result"
    }
   ],
   "source": [
    "coherence_model = CoherenceModel(model=lda_model, texts=data_lemmatized, dictionary=dictionary, coherence='c_npmi')\n",
    "coherence_model.get_coherence_per_topic()"
   ]
  },
  {
   "cell_type": "markdown",
   "metadata": {},
   "source": [
    "### <mark>Mallet Model - Interpret the model</mark>"
   ]
  },
  {
   "cell_type": "code",
   "execution_count": 7,
   "metadata": {},
   "outputs": [],
   "source": [
    "# ldamallet = gensim.models.wrappers.LdaMallet.load(datapath('model'))\n",
    "model = gensim.models.wrappers.ldamallet.malletmodel2ldamodel(ldamallet)"
   ]
  },
  {
   "cell_type": "code",
   "execution_count": 8,
   "metadata": {},
   "outputs": [
    {
     "name": "stdout",
     "output_type": "stream",
     "text": [
      "Getting main topic for document...\n",
      "0  1000  2000  3000  4000  5000  6000  7000  8000  9000  10000  11000  12000  13000  14000  15000  16000  17000  18000  19000  20000  21000  22000  23000  24000  25000  26000  27000  28000  29000  "
     ]
    }
   ],
   "source": [
    "df_topic_sents_keywords_m = format_topics_sentences(model, term_doc, data_lemmatized, df)"
   ]
  },
  {
   "cell_type": "code",
   "execution_count": 9,
   "metadata": {},
   "outputs": [],
   "source": [
    "all_topics = model.get_document_topics(bow = term_doc)"
   ]
  },
  {
   "cell_type": "code",
   "execution_count": 24,
   "metadata": {},
   "outputs": [
    {
     "data": {
      "text/html": [
       "<div>\n",
       "<style scoped>\n",
       "    .dataframe tbody tr th:only-of-type {\n",
       "        vertical-align: middle;\n",
       "    }\n",
       "\n",
       "    .dataframe tbody tr th {\n",
       "        vertical-align: top;\n",
       "    }\n",
       "\n",
       "    .dataframe thead th {\n",
       "        text-align: right;\n",
       "    }\n",
       "</style>\n",
       "<table border=\"1\" class=\"dataframe\">\n",
       "  <thead>\n",
       "    <tr style=\"text-align: right;\">\n",
       "      <th></th>\n",
       "      <th>Dominant_Topic</th>\n",
       "      <th>Perc_Contribution</th>\n",
       "      <th>Keywords</th>\n",
       "      <th>Text</th>\n",
       "    </tr>\n",
       "  </thead>\n",
       "  <tbody>\n",
       "    <tr>\n",
       "      <th>0</th>\n",
       "      <td>2.0</td>\n",
       "      <td>0.7559</td>\n",
       "      <td>driver, app, ride, trip, service, money, charg...</td>\n",
       "      <td>[driver, support, computer, response, case, re...</td>\n",
       "    </tr>\n",
       "    <tr>\n",
       "      <th>1</th>\n",
       "      <td>1.0</td>\n",
       "      <td>0.6084</td>\n",
       "      <td>driver, car, service, passenger, time, app, cu...</td>\n",
       "      <td>[rating, moment, driver, rating, trip, driver,...</td>\n",
       "    </tr>\n",
       "    <tr>\n",
       "      <th>2</th>\n",
       "      <td>2.0</td>\n",
       "      <td>0.9262</td>\n",
       "      <td>driver, app, ride, trip, service, money, charg...</td>\n",
       "      <td>[response, reimbursement, part, customer, prom...</td>\n",
       "    </tr>\n",
       "    <tr>\n",
       "      <th>3</th>\n",
       "      <td>0.0</td>\n",
       "      <td>0.4061</td>\n",
       "      <td>app, location, ride, option, update, time, wor...</td>\n",
       "      <td>[time, show, estimate, amount, destination, lo...</td>\n",
       "    </tr>\n",
       "    <tr>\n",
       "      <th>4</th>\n",
       "      <td>2.0</td>\n",
       "      <td>0.6228</td>\n",
       "      <td>driver, app, ride, trip, service, money, charg...</td>\n",
       "      <td>[driver, option, change, time, transfer, trust...</td>\n",
       "    </tr>\n",
       "    <tr>\n",
       "      <th>...</th>\n",
       "      <td>...</td>\n",
       "      <td>...</td>\n",
       "      <td>...</td>\n",
       "      <td>...</td>\n",
       "    </tr>\n",
       "    <tr>\n",
       "      <th>29808</th>\n",
       "      <td>3.0</td>\n",
       "      <td>0.7760</td>\n",
       "      <td>driver, time, taxi, app, car, price, minute, s...</td>\n",
       "      <td>[difficult_get, taxi, time, takes_lot, time, t...</td>\n",
       "    </tr>\n",
       "    <tr>\n",
       "      <th>29809</th>\n",
       "      <td>2.0</td>\n",
       "      <td>0.6183</td>\n",
       "      <td>driver, app, ride, trip, service, money, charg...</td>\n",
       "      <td>[money, card, money, taxi]</td>\n",
       "    </tr>\n",
       "    <tr>\n",
       "      <th>29810</th>\n",
       "      <td>0.0</td>\n",
       "      <td>0.8025</td>\n",
       "      <td>app, location, ride, option, update, time, wor...</td>\n",
       "      <td>[ride, extension, apple, map, apple_pay]</td>\n",
       "    </tr>\n",
       "    <tr>\n",
       "      <th>29811</th>\n",
       "      <td>5.0</td>\n",
       "      <td>0.4135</td>\n",
       "      <td>driver, ride, time, service, cab, location, ap...</td>\n",
       "      <td>[driver, destination, destination, mad]</td>\n",
       "    </tr>\n",
       "    <tr>\n",
       "      <th>29812</th>\n",
       "      <td>3.0</td>\n",
       "      <td>0.5805</td>\n",
       "      <td>driver, time, taxi, app, car, price, minute, s...</td>\n",
       "      <td>[taxi, exception, driver, route]</td>\n",
       "    </tr>\n",
       "  </tbody>\n",
       "</table>\n",
       "<p>29813 rows × 4 columns</p>\n",
       "</div>"
      ],
      "text/plain": [
       "       Dominant_Topic  Perc_Contribution  \\\n",
       "0                 2.0             0.7559   \n",
       "1                 1.0             0.6084   \n",
       "2                 2.0             0.9262   \n",
       "3                 0.0             0.4061   \n",
       "4                 2.0             0.6228   \n",
       "...               ...                ...   \n",
       "29808             3.0             0.7760   \n",
       "29809             2.0             0.6183   \n",
       "29810             0.0             0.8025   \n",
       "29811             5.0             0.4135   \n",
       "29812             3.0             0.5805   \n",
       "\n",
       "                                                Keywords  \\\n",
       "0      driver, app, ride, trip, service, money, charg...   \n",
       "1      driver, car, service, passenger, time, app, cu...   \n",
       "2      driver, app, ride, trip, service, money, charg...   \n",
       "3      app, location, ride, option, update, time, wor...   \n",
       "4      driver, app, ride, trip, service, money, charg...   \n",
       "...                                                  ...   \n",
       "29808  driver, time, taxi, app, car, price, minute, s...   \n",
       "29809  driver, app, ride, trip, service, money, charg...   \n",
       "29810  app, location, ride, option, update, time, wor...   \n",
       "29811  driver, ride, time, service, cab, location, ap...   \n",
       "29812  driver, time, taxi, app, car, price, minute, s...   \n",
       "\n",
       "                                                    Text  \n",
       "0      [driver, support, computer, response, case, re...  \n",
       "1      [rating, moment, driver, rating, trip, driver,...  \n",
       "2      [response, reimbursement, part, customer, prom...  \n",
       "3      [time, show, estimate, amount, destination, lo...  \n",
       "4      [driver, option, change, time, transfer, trust...  \n",
       "...                                                  ...  \n",
       "29808  [difficult_get, taxi, time, takes_lot, time, t...  \n",
       "29809                         [money, card, money, taxi]  \n",
       "29810           [ride, extension, apple, map, apple_pay]  \n",
       "29811            [driver, destination, destination, mad]  \n",
       "29812                   [taxi, exception, driver, route]  \n",
       "\n",
       "[29813 rows x 4 columns]"
      ]
     },
     "execution_count": 24,
     "metadata": {},
     "output_type": "execute_result"
    }
   ],
   "source": [
    "# df_topic_sents_keywords_m[df_topic_sents_keywords_m[0]]\n",
    "df_topic_sents_keywords_m"
   ]
  },
  {
   "cell_type": "code",
   "execution_count": 25,
   "metadata": {},
   "outputs": [],
   "source": [
    "# save to pickle file - df_topic_sents_keywords_m\n",
    "import pickle\n",
    "\n",
    "output_path = 'lda_mallet_model/'\n",
    "with open(output_path + 'mallet_lda_df.pkl', 'wb') as f:\n",
    "    pickle.dump(df_topic_sents_keywords_m, f)\n"
   ]
  },
  {
   "cell_type": "code",
   "execution_count": null,
   "metadata": {},
   "outputs": [],
   "source": [
    "# save to pickle file - all_reviews_p3.csv\n",
    "import pickle\n",
    "\n",
    "output_path = 'raw_data/'\n",
    "with open(output_path + 'all_reviews_p3.pkl', 'wb') as f:\n",
    "    pickle.dump(df, f)"
   ]
  },
  {
   "cell_type": "markdown",
   "metadata": {},
   "source": [
    "#### 1. Mallet LDA - Finding the dominant topic in each document"
   ]
  },
  {
   "cell_type": "code",
   "execution_count": 11,
   "metadata": {},
   "outputs": [
    {
     "name": "stdout",
     "output_type": "stream",
     "text": [
      "Finding the dominant topic in each document\n"
     ]
    },
    {
     "data": {
      "text/html": [
       "<style type=\"text/css\">\n",
       "#T_358e8_row0_col5, #T_358e8_row1_col5, #T_358e8_row2_col5, #T_358e8_row3_col5, #T_358e8_row4_col5 {\n",
       "  width: 400px;\n",
       "}\n",
       "</style>\n",
       "<table id=\"T_358e8_\">\n",
       "  <thead>\n",
       "    <tr>\n",
       "      <th class=\"blank level0\" >&nbsp;</th>\n",
       "      <th class=\"col_heading level0 col0\" >Dominant_Topic</th>\n",
       "      <th class=\"col_heading level0 col1\" >Perc_Contribution</th>\n",
       "      <th class=\"col_heading level0 col2\" >Keywords</th>\n",
       "      <th class=\"col_heading level0 col3\" >Text</th>\n",
       "      <th class=\"col_heading level0 col4\" >rating</th>\n",
       "      <th class=\"col_heading level0 col5\" >review</th>\n",
       "    </tr>\n",
       "  </thead>\n",
       "  <tbody>\n",
       "    <tr>\n",
       "      <th id=\"T_358e8_level0_row0\" class=\"row_heading level0 row0\" >0</th>\n",
       "      <td id=\"T_358e8_row0_col0\" class=\"data row0 col0\" >2.000000</td>\n",
       "      <td id=\"T_358e8_row0_col1\" class=\"data row0 col1\" >0.755900</td>\n",
       "      <td id=\"T_358e8_row0_col2\" class=\"data row0 col2\" >driver, app, ride, trip, service, money, charge, amount, card, payment</td>\n",
       "      <td id=\"T_358e8_row0_col3\" class=\"data row0 col3\" >['driver', 'support', 'computer', 'response', 'case', 'response', 'support', 'discount', 'account', 'thought', 'client']</td>\n",
       "      <td id=\"T_358e8_row0_col4\" class=\"data row0 col4\" >3</td>\n",
       "      <td id=\"T_358e8_row0_col5\" class=\"data row0 col5\" >Your drivers are great BUT your support is no good. Why can't it be like Uber where you can actually speak to someone. Instead of getting computer generated responses or like in my case, no response at all. The three stars are for the support. Also I have received a single discount to this account since I installed it three months ago. I'm very disappointed in Bolt, I thought they were there for their clients.</td>\n",
       "    </tr>\n",
       "    <tr>\n",
       "      <th id=\"T_358e8_level0_row1\" class=\"row_heading level0 row1\" >1</th>\n",
       "      <td id=\"T_358e8_row1_col0\" class=\"data row1 col0\" >1.000000</td>\n",
       "      <td id=\"T_358e8_row1_col1\" class=\"data row1 col1\" >0.608400</td>\n",
       "      <td id=\"T_358e8_row1_col2\" class=\"data row1 col2\" >driver, car, service, passenger, time, app, customer, rider, trip, route</td>\n",
       "      <td id=\"T_358e8_row1_col3\" class=\"data row1 col3\" >['rating', 'moment', 'driver', 'rating', 'trip', 'driver', 'apartment', 'ride', 'drive', 'destination']</td>\n",
       "      <td id=\"T_358e8_row1_col4\" class=\"data row1 col4\" >3</td>\n",
       "      <td id=\"T_358e8_row1_col5\" class=\"data row1 col5\" >Loving the app, but can only give it a medium rating at the moment as the drivers you give a bad rating on still gets your trip. I had a bad experience with a driver outside my apartment, but he always gets my rides as he's parked there when with my one star and bad review (refused to drive to the destination, rude and aggressive).</td>\n",
       "    </tr>\n",
       "    <tr>\n",
       "      <th id=\"T_358e8_level0_row2\" class=\"row_heading level0 row2\" >2</th>\n",
       "      <td id=\"T_358e8_row2_col0\" class=\"data row2 col0\" >2.000000</td>\n",
       "      <td id=\"T_358e8_row2_col1\" class=\"data row2 col1\" >0.926200</td>\n",
       "      <td id=\"T_358e8_row2_col2\" class=\"data row2 col2\" >driver, app, ride, trip, service, money, charge, amount, card, payment</td>\n",
       "      <td id=\"T_358e8_row2_col3\" class=\"data row2 col3\" >['response', 'reimbursement', 'part', 'customer', 'promo', 'part', 'situation', 'part', 'company', 'extra_money', 'people', 'card', 'dodgy', 'stick', 'amount', 'card']</td>\n",
       "      <td id=\"T_358e8_row2_col4\" class=\"data row2 col4\" >4</td>\n",
       "      <td id=\"T_358e8_row2_col5\" class=\"data row2 col5\" >The response time with regards to customer service was great and thank you. Kindly improve on the reimbursement part because it's not every customer who'll appreciate a promo. That part put some of us in a very sticky situation financially especially now that we have COVID-19. The last part would be for your company not to always take extra money just because people are paying with cards. That's dodgy. Stick to the same amount whether I'm paying cash or with a card.</td>\n",
       "    </tr>\n",
       "    <tr>\n",
       "      <th id=\"T_358e8_level0_row3\" class=\"row_heading level0 row3\" >3</th>\n",
       "      <td id=\"T_358e8_row3_col0\" class=\"data row3 col0\" >0.000000</td>\n",
       "      <td id=\"T_358e8_row3_col1\" class=\"data row3 col1\" >0.406100</td>\n",
       "      <td id=\"T_358e8_row3_col2\" class=\"data row3 col2\" >app, location, ride, option, update, time, work, issue, phone, number</td>\n",
       "      <td id=\"T_358e8_row3_col3\" class=\"data row3 col3\" >['time', 'show', 'estimate', 'amount', 'destination', 'location', 'price', 'feedback', 'uninstall', 'rubbish', 'app']</td>\n",
       "      <td id=\"T_358e8_row3_col4\" class=\"data row3 col4\" >1</td>\n",
       "      <td id=\"T_358e8_row3_col5\" class=\"data row3 col5\" >This has been happening for some time now and i always keep quiet. You will show me an estimate of the amount for the destination and when i get to my location the price i will see will be way higher than what you showed. I will stop using you. Just decided to give this feedback before i uninstall this rubbish app</td>\n",
       "    </tr>\n",
       "    <tr>\n",
       "      <th id=\"T_358e8_level0_row4\" class=\"row_heading level0 row4\" >4</th>\n",
       "      <td id=\"T_358e8_row4_col0\" class=\"data row4 col0\" >2.000000</td>\n",
       "      <td id=\"T_358e8_row4_col1\" class=\"data row4 col1\" >0.622800</td>\n",
       "      <td id=\"T_358e8_row4_col2\" class=\"data row4 col2\" >driver, app, ride, trip, service, money, charge, amount, card, payment</td>\n",
       "      <td id=\"T_358e8_row4_col3\" class=\"data row4 col3\" >['driver', 'option', 'change', 'time', 'transfer', 'trust', 'card', 'cash', 'please_fix', 'problem', 'way']</td>\n",
       "      <td id=\"T_358e8_row4_col4\" class=\"data row4 col4\" >3</td>\n",
       "      <td id=\"T_358e8_row4_col5\" class=\"data row4 col5\" >The drivers almost always never have change and I'm left with no option but to leave my 100-300 naira change with them which I obviously don't intend to. It's not all the time we're able to transfer and not everyone trust using their cards with the app, for those of us that use cash please fix this problem whatever way, it's really annoying.</td>\n",
       "    </tr>\n",
       "  </tbody>\n",
       "</table>\n"
      ],
      "text/plain": [
       "<pandas.io.formats.style.Styler at 0x2088ec88190>"
      ]
     },
     "execution_count": 11,
     "metadata": {},
     "output_type": "execute_result"
    }
   ],
   "source": [
    "df_dominant_topic_m = find_dominant_topic_in_each_doc(df_topic_sents_keywords_m, df)\n",
    "print(\"Finding the dominant topic in each document\")\n",
    "df_dominant_topic_m.head(5).style.set_properties(subset=['review'], **{'width': '400px'})"
   ]
  },
  {
   "cell_type": "code",
   "execution_count": 12,
   "metadata": {},
   "outputs": [
    {
     "data": {
      "text/html": [
       "<div>\n",
       "<style scoped>\n",
       "    .dataframe tbody tr th:only-of-type {\n",
       "        vertical-align: middle;\n",
       "    }\n",
       "\n",
       "    .dataframe tbody tr th {\n",
       "        vertical-align: top;\n",
       "    }\n",
       "\n",
       "    .dataframe thead th {\n",
       "        text-align: right;\n",
       "    }\n",
       "</style>\n",
       "<table border=\"1\" class=\"dataframe\">\n",
       "  <thead>\n",
       "    <tr style=\"text-align: right;\">\n",
       "      <th></th>\n",
       "      <th>Dominant_Topic</th>\n",
       "      <th>Perc_Contribution</th>\n",
       "      <th>Keywords</th>\n",
       "      <th>Text</th>\n",
       "      <th>rating</th>\n",
       "      <th>review</th>\n",
       "    </tr>\n",
       "  </thead>\n",
       "  <tbody>\n",
       "    <tr>\n",
       "      <th>0</th>\n",
       "      <td>2.0</td>\n",
       "      <td>0.7559</td>\n",
       "      <td>driver, app, ride, trip, service, money, charg...</td>\n",
       "      <td>[driver, support, computer, response, case, re...</td>\n",
       "      <td>3</td>\n",
       "      <td>Your drivers are great BUT your support is no ...</td>\n",
       "    </tr>\n",
       "    <tr>\n",
       "      <th>1</th>\n",
       "      <td>1.0</td>\n",
       "      <td>0.6084</td>\n",
       "      <td>driver, car, service, passenger, time, app, cu...</td>\n",
       "      <td>[rating, moment, driver, rating, trip, driver,...</td>\n",
       "      <td>3</td>\n",
       "      <td>Loving the app, but can only give it a medium ...</td>\n",
       "    </tr>\n",
       "    <tr>\n",
       "      <th>2</th>\n",
       "      <td>2.0</td>\n",
       "      <td>0.9262</td>\n",
       "      <td>driver, app, ride, trip, service, money, charg...</td>\n",
       "      <td>[response, reimbursement, part, customer, prom...</td>\n",
       "      <td>4</td>\n",
       "      <td>The response time with regards to customer ser...</td>\n",
       "    </tr>\n",
       "    <tr>\n",
       "      <th>3</th>\n",
       "      <td>0.0</td>\n",
       "      <td>0.4061</td>\n",
       "      <td>app, location, ride, option, update, time, wor...</td>\n",
       "      <td>[time, show, estimate, amount, destination, lo...</td>\n",
       "      <td>1</td>\n",
       "      <td>This has been happening for some time now and ...</td>\n",
       "    </tr>\n",
       "    <tr>\n",
       "      <th>4</th>\n",
       "      <td>2.0</td>\n",
       "      <td>0.6228</td>\n",
       "      <td>driver, app, ride, trip, service, money, charg...</td>\n",
       "      <td>[driver, option, change, time, transfer, trust...</td>\n",
       "      <td>3</td>\n",
       "      <td>The drivers almost always never have change an...</td>\n",
       "    </tr>\n",
       "    <tr>\n",
       "      <th>...</th>\n",
       "      <td>...</td>\n",
       "      <td>...</td>\n",
       "      <td>...</td>\n",
       "      <td>...</td>\n",
       "      <td>...</td>\n",
       "      <td>...</td>\n",
       "    </tr>\n",
       "    <tr>\n",
       "      <th>29808</th>\n",
       "      <td>3.0</td>\n",
       "      <td>0.7760</td>\n",
       "      <td>driver, time, taxi, app, car, price, minute, s...</td>\n",
       "      <td>[difficult_get, taxi, time, takes_lot, time, t...</td>\n",
       "      <td>3</td>\n",
       "      <td>It’s rather difficult to get a taxi. Sometimes...</td>\n",
       "    </tr>\n",
       "    <tr>\n",
       "      <th>29809</th>\n",
       "      <td>2.0</td>\n",
       "      <td>0.6183</td>\n",
       "      <td>driver, app, ride, trip, service, money, charg...</td>\n",
       "      <td>[money, card, money, taxi]</td>\n",
       "      <td>1</td>\n",
       "      <td>Taxi drivers don’t speak Estonian or English. ...</td>\n",
       "    </tr>\n",
       "    <tr>\n",
       "      <th>29810</th>\n",
       "      <td>0.0</td>\n",
       "      <td>0.8025</td>\n",
       "      <td>app, location, ride, option, update, time, wor...</td>\n",
       "      <td>[ride, extension, apple, map, apple_pay]</td>\n",
       "      <td>3</td>\n",
       "      <td>Ride booking extension in Apple maps not avail...</td>\n",
       "    </tr>\n",
       "    <tr>\n",
       "      <th>29811</th>\n",
       "      <td>5.0</td>\n",
       "      <td>0.4135</td>\n",
       "      <td>driver, ride, time, service, cab, location, ap...</td>\n",
       "      <td>[driver, destination, destination, mad]</td>\n",
       "      <td>1</td>\n",
       "      <td>I ordered a taxi, but when it arrived the driv...</td>\n",
       "    </tr>\n",
       "    <tr>\n",
       "      <th>29812</th>\n",
       "      <td>3.0</td>\n",
       "      <td>0.5805</td>\n",
       "      <td>driver, time, taxi, app, car, price, minute, s...</td>\n",
       "      <td>[taxi, exception, driver, route]</td>\n",
       "      <td>1</td>\n",
       "      <td>taxis are always late without exception. drive...</td>\n",
       "    </tr>\n",
       "  </tbody>\n",
       "</table>\n",
       "<p>29813 rows × 6 columns</p>\n",
       "</div>"
      ],
      "text/plain": [
       "       Dominant_Topic  Perc_Contribution  \\\n",
       "0                 2.0             0.7559   \n",
       "1                 1.0             0.6084   \n",
       "2                 2.0             0.9262   \n",
       "3                 0.0             0.4061   \n",
       "4                 2.0             0.6228   \n",
       "...               ...                ...   \n",
       "29808             3.0             0.7760   \n",
       "29809             2.0             0.6183   \n",
       "29810             0.0             0.8025   \n",
       "29811             5.0             0.4135   \n",
       "29812             3.0             0.5805   \n",
       "\n",
       "                                                Keywords  \\\n",
       "0      driver, app, ride, trip, service, money, charg...   \n",
       "1      driver, car, service, passenger, time, app, cu...   \n",
       "2      driver, app, ride, trip, service, money, charg...   \n",
       "3      app, location, ride, option, update, time, wor...   \n",
       "4      driver, app, ride, trip, service, money, charg...   \n",
       "...                                                  ...   \n",
       "29808  driver, time, taxi, app, car, price, minute, s...   \n",
       "29809  driver, app, ride, trip, service, money, charg...   \n",
       "29810  app, location, ride, option, update, time, wor...   \n",
       "29811  driver, ride, time, service, cab, location, ap...   \n",
       "29812  driver, time, taxi, app, car, price, minute, s...   \n",
       "\n",
       "                                                    Text  rating  \\\n",
       "0      [driver, support, computer, response, case, re...       3   \n",
       "1      [rating, moment, driver, rating, trip, driver,...       3   \n",
       "2      [response, reimbursement, part, customer, prom...       4   \n",
       "3      [time, show, estimate, amount, destination, lo...       1   \n",
       "4      [driver, option, change, time, transfer, trust...       3   \n",
       "...                                                  ...     ...   \n",
       "29808  [difficult_get, taxi, time, takes_lot, time, t...       3   \n",
       "29809                         [money, card, money, taxi]       1   \n",
       "29810           [ride, extension, apple, map, apple_pay]       3   \n",
       "29811            [driver, destination, destination, mad]       1   \n",
       "29812                   [taxi, exception, driver, route]       1   \n",
       "\n",
       "                                                  review  \n",
       "0      Your drivers are great BUT your support is no ...  \n",
       "1      Loving the app, but can only give it a medium ...  \n",
       "2      The response time with regards to customer ser...  \n",
       "3      This has been happening for some time now and ...  \n",
       "4      The drivers almost always never have change an...  \n",
       "...                                                  ...  \n",
       "29808  It’s rather difficult to get a taxi. Sometimes...  \n",
       "29809  Taxi drivers don’t speak Estonian or English. ...  \n",
       "29810  Ride booking extension in Apple maps not avail...  \n",
       "29811  I ordered a taxi, but when it arrived the driv...  \n",
       "29812  taxis are always late without exception. drive...  \n",
       "\n",
       "[29813 rows x 6 columns]"
      ]
     },
     "execution_count": 12,
     "metadata": {},
     "output_type": "execute_result"
    }
   ],
   "source": [
    "df_dominant_topic_m"
   ]
  },
  {
   "cell_type": "markdown",
   "metadata": {},
   "source": [
    "#### 2. Mallet LDA - Find the most representative document for each topic"
   ]
  },
  {
   "cell_type": "code",
   "execution_count": 32,
   "metadata": {},
   "outputs": [
    {
     "name": "stdout",
     "output_type": "stream",
     "text": [
      "Find the most representative document for each topic\n"
     ]
    },
    {
     "data": {
      "text/html": [
       "<style type=\"text/css\">\n",
       "#T_e0462_row0_col4, #T_e0462_row1_col4, #T_e0462_row2_col4, #T_e0462_row3_col4, #T_e0462_row4_col4, #T_e0462_row5_col4 {\n",
       "  width: 400px;\n",
       "}\n",
       "</style>\n",
       "<table id=\"T_e0462_\">\n",
       "  <thead>\n",
       "    <tr>\n",
       "      <th class=\"blank level0\" >&nbsp;</th>\n",
       "      <th class=\"col_heading level0 col0\" >Dominant_Topic</th>\n",
       "      <th class=\"col_heading level0 col1\" >Perc_Contribution</th>\n",
       "      <th class=\"col_heading level0 col2\" >Topic_Keywords</th>\n",
       "      <th class=\"col_heading level0 col3\" >star_rating</th>\n",
       "      <th class=\"col_heading level0 col4\" >review</th>\n",
       "    </tr>\n",
       "  </thead>\n",
       "  <tbody>\n",
       "    <tr>\n",
       "      <th id=\"T_e0462_level0_row0\" class=\"row_heading level0 row0\" >0</th>\n",
       "      <td id=\"T_e0462_row0_col0\" class=\"data row0 col0\" >0.000000</td>\n",
       "      <td id=\"T_e0462_row0_col1\" class=\"data row0 col1\" >0.928000</td>\n",
       "      <td id=\"T_e0462_row0_col2\" class=\"data row0 col2\" >app, location, ride, option, update, time, work, issue, phone, number</td>\n",
       "      <td id=\"T_e0462_row0_col3\" class=\"data row0 col3\" >1</td>\n",
       "      <td id=\"T_e0462_row0_col4\" class=\"data row0 col4\" >Frustrated by such data hogging apps. My Personal Data is compromised by this app as it makes granting access to my sms mandatory. This permission is not atall essential for the app function and is a clear attempt to extract personal and financial information from my messages. App store should ban this app till such data violations are plugged. Uninstalling the app immediately.</td>\n",
       "    </tr>\n",
       "    <tr>\n",
       "      <th id=\"T_e0462_level0_row1\" class=\"row_heading level0 row1\" >1</th>\n",
       "      <td id=\"T_e0462_row1_col0\" class=\"data row1 col0\" >1.000000</td>\n",
       "      <td id=\"T_e0462_row1_col1\" class=\"data row1 col1\" >0.936800</td>\n",
       "      <td id=\"T_e0462_row1_col2\" class=\"data row1 col2\" >driver, car, service, passenger, time, app, customer, rider, trip, route</td>\n",
       "      <td id=\"T_e0462_row1_col3\" class=\"data row1 col3\" >3</td>\n",
       "      <td id=\"T_e0462_row1_col4\" class=\"data row1 col4\" >The app is easy to use and convenient. However, it favours drivers over passengers. For example, if a passenger cancels a trip, he/she will be charged £5 in London. But drivers pick up and cancel trips all the time. Several times, I’ve been in a situation, when 3 or 4 drivers in a row picked up my trip, I waited for 7-10 minutes for each of them, and then they cancelled (I ended up being late). There was no bad traffic in the area. For me as a customer, it feels really unfair. \n",
       "Also, the ratings system is confusing. Drivers cannot see their ratings, customers cannot see the ratings before they order. Ratings here are pointless.</td>\n",
       "    </tr>\n",
       "    <tr>\n",
       "      <th id=\"T_e0462_level0_row2\" class=\"row_heading level0 row2\" >2</th>\n",
       "      <td id=\"T_e0462_row2_col0\" class=\"data row2 col0\" >2.000000</td>\n",
       "      <td id=\"T_e0462_row2_col1\" class=\"data row2 col1\" >0.968400</td>\n",
       "      <td id=\"T_e0462_row2_col2\" class=\"data row2 col2\" >driver, app, ride, trip, service, money, charge, amount, card, payment</td>\n",
       "      <td id=\"T_e0462_row2_col3\" class=\"data row2 col3\" >1</td>\n",
       "      <td id=\"T_e0462_row2_col4\" class=\"data row2 col4\" >One sudden day, my ola account got blocked for permanently. When contacted the customer care, they said they had no information about my account getting blocked and asked me to drop mail to the ola grievance team, ever since the last 2 months, I have mailed multiple time s to the grievance team and other ola support emails, but got no valid response although have kept on receiving multiple mails and calls, for the payment of due ola money charges throughout last two months, I have confirmed them over the email and even told the customer care agent who called asking to pay the dues that, I would be able to pay the charges only if my account is unblocked. Although account is still blocked, I received a mail on 6th october stating that, as I have failed to pay the dues for around last 71 days, they would take legal action against me, ever since I received this mail, I have sent several mails to ola grievance and other support teams, asking to unblock my account first, thereafter I would clear the dues, as I have never denied to clear the dues, but till now, not received any valid response from them. They are least bothered. Have tried contacting the contact centres over phone, but each time the call is disconnected after initially getting connected to ola customer care, they have cut down all the channels to reach out to them over the phone. They have the worst possible customer service. Pathetic...!!!</td>\n",
       "    </tr>\n",
       "    <tr>\n",
       "      <th id=\"T_e0462_level0_row3\" class=\"row_heading level0 row3\" >3</th>\n",
       "      <td id=\"T_e0462_row3_col0\" class=\"data row3 col0\" >3.000000</td>\n",
       "      <td id=\"T_e0462_row3_col1\" class=\"data row3 col1\" >0.930600</td>\n",
       "      <td id=\"T_e0462_row3_col2\" class=\"data row3 col2\" >driver, time, taxi, app, car, price, minute, service, work, trip</td>\n",
       "      <td id=\"T_e0462_row3_col3\" class=\"data row3 col3\" >3</td>\n",
       "      <td id=\"T_e0462_row3_col4\" class=\"data row3 col4\" >The prices vary multiple euros (more expensive) if the taxi is using a taximeter or using the app for the fare pricing. The app calculates a higher fare charge if you take same taxi fare pricing, but with different means of measurments. The trip from work to home costs around 7-8 euros with a taximeter taxi, but the private or the a taxi what uses the app, its 10-11 euros, even though the pricing is sometimes even cheaper than the taximeter taxi.</td>\n",
       "    </tr>\n",
       "    <tr>\n",
       "      <th id=\"T_e0462_level0_row4\" class=\"row_heading level0 row4\" >4</th>\n",
       "      <td id=\"T_e0462_row4_col0\" class=\"data row4 col0\" >4.000000</td>\n",
       "      <td id=\"T_e0462_row4_col1\" class=\"data row4 col1\" >0.905700</td>\n",
       "      <td id=\"T_e0462_row4_col2\" class=\"data row4 col2\" >service, love, ride, driver, app, price, time, travel, experience, discount</td>\n",
       "      <td id=\"T_e0462_row4_col3\" class=\"data row4 col3\" >5</td>\n",
       "      <td id=\"T_e0462_row4_col4\" class=\"data row4 col4\" >A great way to share car travel, while you make best use of fuel and the driving efforts, get a good company to chat along. This App is helping save thousands of tonnes of carbon emissions.</td>\n",
       "    </tr>\n",
       "    <tr>\n",
       "      <th id=\"T_e0462_level0_row5\" class=\"row_heading level0 row5\" >5</th>\n",
       "      <td id=\"T_e0462_row5_col0\" class=\"data row5 col0\" >5.000000</td>\n",
       "      <td id=\"T_e0462_row5_col1\" class=\"data row5 col1\" >0.937200</td>\n",
       "      <td id=\"T_e0462_row5_col2\" class=\"data row5 col2\" >driver, ride, time, service, cab, location, app, auto, trip, customer</td>\n",
       "      <td id=\"T_e0462_row5_col3\" class=\"data row5 col3\" >1</td>\n",
       "      <td id=\"T_e0462_row5_col4\" class=\"data row5 col4\" >I almost missed my train! I'd pre booked a ride from Gandhinagar to Ahmedabad railway station on 6-6- 2019. I got a msg that the ride was scheduled & the details would be msgd to me 10 mins prior the pickup time. The scheduled ride got cancelled without any intimation/msg due to the unavailability of cabs in that area. I waited for a long time & when I saw that the scheduled ride no longer appeared on my app, I'd to book a special cab paying 3 times more.This is very UNPROFESSIONAL!</td>\n",
       "    </tr>\n",
       "  </tbody>\n",
       "</table>\n"
      ],
      "text/plain": [
       "<pandas.io.formats.style.Styler at 0x226b7a8ed30>"
      ]
     },
     "execution_count": 32,
     "metadata": {},
     "output_type": "execute_result"
    }
   ],
   "source": [
    "print(\"Find the most representative document for each topic\")\n",
    "sent_topics_sorteddf_m = find_most_representative_doc_for_each_doc(df_topic_sents_keywords_m, df)\n",
    "sent_topics_sorteddf_m.style.set_properties(subset=['review'], **{'width': '400px'})"
   ]
  },
  {
   "cell_type": "markdown",
   "metadata": {},
   "source": [
    "#### 3. Mallet LDA - Topic distribution across documents"
   ]
  },
  {
   "cell_type": "code",
   "execution_count": 33,
   "metadata": {},
   "outputs": [
    {
     "name": "stdout",
     "output_type": "stream",
     "text": [
      "Topic distribution across documents\n"
     ]
    },
    {
     "data": {
      "text/html": [
       "<style type=\"text/css\">\n",
       "#T_3bdd1_row0_col1, #T_3bdd1_row1_col1, #T_3bdd1_row2_col1, #T_3bdd1_row3_col1, #T_3bdd1_row4_col1, #T_3bdd1_row5_col1 {\n",
       "  width: 400px;\n",
       "}\n",
       "</style>\n",
       "<table id=\"T_3bdd1_\">\n",
       "  <thead>\n",
       "    <tr>\n",
       "      <th class=\"blank level0\" >&nbsp;</th>\n",
       "      <th class=\"col_heading level0 col0\" >Dominant_Topic</th>\n",
       "      <th class=\"col_heading level0 col1\" >Keywords</th>\n",
       "      <th class=\"col_heading level0 col2\" >Num_Documents</th>\n",
       "      <th class=\"col_heading level0 col3\" >Perc_Documents</th>\n",
       "    </tr>\n",
       "  </thead>\n",
       "  <tbody>\n",
       "    <tr>\n",
       "      <th id=\"T_3bdd1_level0_row0\" class=\"row_heading level0 row0\" >0</th>\n",
       "      <td id=\"T_3bdd1_row0_col0\" class=\"data row0 col0\" >0.000000</td>\n",
       "      <td id=\"T_3bdd1_row0_col1\" class=\"data row0 col1\" >app, location, ride, option, update, time, work, issue, phone, number</td>\n",
       "      <td id=\"T_3bdd1_row0_col2\" class=\"data row0 col2\" >7520</td>\n",
       "      <td id=\"T_3bdd1_row0_col3\" class=\"data row0 col3\" >0.252200</td>\n",
       "    </tr>\n",
       "    <tr>\n",
       "      <th id=\"T_3bdd1_level0_row1\" class=\"row_heading level0 row1\" >1</th>\n",
       "      <td id=\"T_3bdd1_row1_col0\" class=\"data row1 col0\" >1.000000</td>\n",
       "      <td id=\"T_3bdd1_row1_col1\" class=\"data row1 col1\" >driver, car, service, passenger, time, app, customer, rider, trip, route</td>\n",
       "      <td id=\"T_3bdd1_row1_col2\" class=\"data row1 col2\" >5770</td>\n",
       "      <td id=\"T_3bdd1_row1_col3\" class=\"data row1 col3\" >0.193500</td>\n",
       "    </tr>\n",
       "    <tr>\n",
       "      <th id=\"T_3bdd1_level0_row2\" class=\"row_heading level0 row2\" >2</th>\n",
       "      <td id=\"T_3bdd1_row2_col0\" class=\"data row2 col0\" >2.000000</td>\n",
       "      <td id=\"T_3bdd1_row2_col1\" class=\"data row2 col1\" >driver, app, ride, trip, service, money, charge, amount, card, payment</td>\n",
       "      <td id=\"T_3bdd1_row2_col2\" class=\"data row2 col2\" >4943</td>\n",
       "      <td id=\"T_3bdd1_row2_col3\" class=\"data row2 col3\" >0.165800</td>\n",
       "    </tr>\n",
       "    <tr>\n",
       "      <th id=\"T_3bdd1_level0_row3\" class=\"row_heading level0 row3\" >3</th>\n",
       "      <td id=\"T_3bdd1_row3_col0\" class=\"data row3 col0\" >3.000000</td>\n",
       "      <td id=\"T_3bdd1_row3_col1\" class=\"data row3 col1\" >driver, time, taxi, app, car, price, minute, service, work, trip</td>\n",
       "      <td id=\"T_3bdd1_row3_col2\" class=\"data row3 col2\" >4342</td>\n",
       "      <td id=\"T_3bdd1_row3_col3\" class=\"data row3 col3\" >0.145600</td>\n",
       "    </tr>\n",
       "    <tr>\n",
       "      <th id=\"T_3bdd1_level0_row4\" class=\"row_heading level0 row4\" >4</th>\n",
       "      <td id=\"T_3bdd1_row4_col0\" class=\"data row4 col0\" >4.000000</td>\n",
       "      <td id=\"T_3bdd1_row4_col1\" class=\"data row4 col1\" >service, love, ride, driver, app, price, time, travel, experience, discount</td>\n",
       "      <td id=\"T_3bdd1_row4_col2\" class=\"data row4 col2\" >3649</td>\n",
       "      <td id=\"T_3bdd1_row4_col3\" class=\"data row4 col3\" >0.122400</td>\n",
       "    </tr>\n",
       "    <tr>\n",
       "      <th id=\"T_3bdd1_level0_row5\" class=\"row_heading level0 row5\" >5</th>\n",
       "      <td id=\"T_3bdd1_row5_col0\" class=\"data row5 col0\" >5.000000</td>\n",
       "      <td id=\"T_3bdd1_row5_col1\" class=\"data row5 col1\" >driver, ride, time, service, cab, location, app, auto, trip, customer</td>\n",
       "      <td id=\"T_3bdd1_row5_col2\" class=\"data row5 col2\" >3589</td>\n",
       "      <td id=\"T_3bdd1_row5_col3\" class=\"data row5 col3\" >0.120400</td>\n",
       "    </tr>\n",
       "  </tbody>\n",
       "</table>\n"
      ],
      "text/plain": [
       "<pandas.io.formats.style.Styler at 0x226b7a8ebb0>"
      ]
     },
     "execution_count": 33,
     "metadata": {},
     "output_type": "execute_result"
    }
   ],
   "source": [
    "# Show\n",
    "print(\"Topic distribution across documents\")\n",
    "df_dominant_topic_m = topic_distribution_across_docs(df_topic_sents_keywords_m)\n",
    "df_dominant_topic_m.style.set_properties(subset=['Keywords'], **{'width': '400px'})"
   ]
  },
  {
   "cell_type": "code",
   "execution_count": 34,
   "metadata": {},
   "outputs": [
    {
     "data": {
      "text/plain": [
       "[0.025636387283576208,\n",
       " -0.00033672387712726484,\n",
       " 0.027459863226146547,\n",
       " 0.0016659080521791824,\n",
       " -0.06243695078854283,\n",
       " 0.022359884043397654]"
      ]
     },
     "execution_count": 34,
     "metadata": {},
     "output_type": "execute_result"
    }
   ],
   "source": [
    "coherence_model = CoherenceModel(model=ldamallet, texts=data_lemmatized, dictionary=dictionary, coherence='c_npmi')\n",
    "coherence_model.get_coherence_per_topic()"
   ]
  },
  {
   "cell_type": "markdown",
   "metadata": {},
   "source": [
    "## Try the model with TF-IDF dataset"
   ]
  },
  {
   "cell_type": "markdown",
   "metadata": {},
   "source": [
    "### Standard LDA with TF-IDF"
   ]
  },
  {
   "cell_type": "code",
   "execution_count": 35,
   "metadata": {},
   "outputs": [],
   "source": [
    "lda_model_tfidf = gensim.models.ldamodel.LdaModel(corpus=tf_idf,\n",
    "                                           num_topics= 6, \n",
    "                                           random_state=100,\n",
    "                                           update_every=1,\n",
    "                                           chunksize=2000,\n",
    "                                           passes=10,\n",
    "                                           alpha=1.5,\n",
    "                                           per_word_topics=True)"
   ]
  },
  {
   "cell_type": "code",
   "execution_count": 36,
   "metadata": {},
   "outputs": [
    {
     "name": "stderr",
     "output_type": "stream",
     "text": [
      "C:\\Users\\enlik\\Miniconda3\\lib\\site-packages\\pyLDAvis\\_prepare.py:247: FutureWarning: In a future version of pandas all arguments of DataFrame.drop except for the argument 'labels' will be keyword-only\n",
      "  default_term_info = default_term_info.sort_values(\n"
     ]
    }
   ],
   "source": [
    "vis_data = pyLDAvis.gensim.prepare(lda_model_tfidf, tf_idf, dictionary, sort_topics=False)\n",
    "pyLDAvis.save_html(vis_data, 'std_lda_vis/std_lda_vis_tfidf_num_topics=6&alpha=1.5.html')"
   ]
  },
  {
   "cell_type": "code",
   "execution_count": 37,
   "metadata": {},
   "outputs": [
    {
     "data": {
      "text/plain": [
       "[-0.0396091223390339,\n",
       " -0.060167577309842894,\n",
       " -0.023276531233836457,\n",
       " -0.10655968548248082,\n",
       " -0.04118598388871035,\n",
       " 0.023076828225845062]"
      ]
     },
     "execution_count": 37,
     "metadata": {},
     "output_type": "execute_result"
    }
   ],
   "source": [
    "coherence_model_m = CoherenceModel(model=lda_model_tfidf, texts=data_lemmatized, dictionary=dictionary, coherence='c_npmi')\n",
    "coherence_model_m.get_coherence_per_topic()"
   ]
  },
  {
   "cell_type": "code",
   "execution_count": 39,
   "metadata": {},
   "outputs": [
    {
     "name": "stdout",
     "output_type": "stream",
     "text": [
      "Getting main topic for document...\n",
      "0  1000  2000  3000  4000  5000  6000  7000  8000  9000  10000  11000  12000  13000  14000  15000  16000  17000  18000  19000  20000  21000  22000  23000  24000  25000  26000  27000  28000  29000  "
     ]
    }
   ],
   "source": [
    "df_topic_sents_keywords_tfidf = format_topics_sentences(ldamodel=lda_model_tfidf, corpus=term_doc, texts=data_lemmatized, df=df)"
   ]
  },
  {
   "cell_type": "markdown",
   "metadata": {},
   "source": [
    "#### 1. Standard LDA with TF-IDF - Finding the dominant topic in each document"
   ]
  },
  {
   "cell_type": "code",
   "execution_count": 40,
   "metadata": {},
   "outputs": [
    {
     "name": "stdout",
     "output_type": "stream",
     "text": [
      "Finding the dominant topic in each document\n"
     ]
    },
    {
     "data": {
      "text/html": [
       "<style type=\"text/css\">\n",
       "#T_072de_row0_col5, #T_072de_row1_col5, #T_072de_row2_col5, #T_072de_row3_col5, #T_072de_row4_col5 {\n",
       "  width: 400px;\n",
       "}\n",
       "</style>\n",
       "<table id=\"T_072de_\">\n",
       "  <thead>\n",
       "    <tr>\n",
       "      <th class=\"blank level0\" >&nbsp;</th>\n",
       "      <th class=\"col_heading level0 col0\" >Dominant_Topic</th>\n",
       "      <th class=\"col_heading level0 col1\" >Perc_Contribution</th>\n",
       "      <th class=\"col_heading level0 col2\" >Keywords</th>\n",
       "      <th class=\"col_heading level0 col3\" >Text</th>\n",
       "      <th class=\"col_heading level0 col4\" >rating</th>\n",
       "      <th class=\"col_heading level0 col5\" >review</th>\n",
       "    </tr>\n",
       "  </thead>\n",
       "  <tbody>\n",
       "    <tr>\n",
       "      <th id=\"T_072de_level0_row0\" class=\"row_heading level0 row0\" >0</th>\n",
       "      <td id=\"T_072de_row0_col0\" class=\"data row0 col0\" >5.000000</td>\n",
       "      <td id=\"T_072de_row0_col1\" class=\"data row0 col1\" >0.368100</td>\n",
       "      <td id=\"T_072de_row0_col2\" class=\"data row0 col2\" >135, 427, 18, 160, 17, 0, 19, 37, 104, 593</td>\n",
       "      <td id=\"T_072de_row0_col3\" class=\"data row0 col3\" >['driver', 'support', 'computer', 'response', 'case', 'response', 'support', 'discount', 'account', 'thought', 'client']</td>\n",
       "      <td id=\"T_072de_row0_col4\" class=\"data row0 col4\" >3</td>\n",
       "      <td id=\"T_072de_row0_col5\" class=\"data row0 col5\" >Your drivers are great BUT your support is no good. Why can't it be like Uber where you can actually speak to someone. Instead of getting computer generated responses or like in my case, no response at all. The three stars are for the support. Also I have received a single discount to this account since I installed it three months ago. I'm very disappointed in Bolt, I thought they were there for their clients.</td>\n",
       "    </tr>\n",
       "    <tr>\n",
       "      <th id=\"T_072de_level0_row1\" class=\"row_heading level0 row1\" >1</th>\n",
       "      <td id=\"T_072de_row1_col0\" class=\"data row1 col0\" >4.000000</td>\n",
       "      <td id=\"T_072de_row1_col1\" class=\"data row1 col1\" >0.381700</td>\n",
       "      <td id=\"T_072de_row1_col2\" class=\"data row1 col2\" >28, 5, 23, 59, 63, 95, 237, 15, 205, 519</td>\n",
       "      <td id=\"T_072de_row1_col3\" class=\"data row1 col3\" >['rating', 'moment', 'driver', 'rating', 'trip', 'driver', 'apartment', 'ride', 'drive', 'destination']</td>\n",
       "      <td id=\"T_072de_row1_col4\" class=\"data row1 col4\" >3</td>\n",
       "      <td id=\"T_072de_row1_col5\" class=\"data row1 col5\" >Loving the app, but can only give it a medium rating at the moment as the drivers you give a bad rating on still gets your trip. I had a bad experience with a driver outside my apartment, but he always gets my rides as he's parked there when with my one star and bad review (refused to drive to the destination, rude and aggressive).</td>\n",
       "    </tr>\n",
       "    <tr>\n",
       "      <th id=\"T_072de_level0_row2\" class=\"row_heading level0 row2\" >2</th>\n",
       "      <td id=\"T_072de_row2_col0\" class=\"data row2 col0\" >5.000000</td>\n",
       "      <td id=\"T_072de_row2_col1\" class=\"data row2 col1\" >0.449800</td>\n",
       "      <td id=\"T_072de_row2_col2\" class=\"data row2 col2\" >135, 427, 18, 160, 17, 0, 19, 37, 104, 593</td>\n",
       "      <td id=\"T_072de_row2_col3\" class=\"data row2 col3\" >['response', 'reimbursement', 'part', 'customer', 'promo', 'part', 'situation', 'part', 'company', 'extra_money', 'people', 'card', 'dodgy', 'stick', 'amount', 'card']</td>\n",
       "      <td id=\"T_072de_row2_col4\" class=\"data row2 col4\" >4</td>\n",
       "      <td id=\"T_072de_row2_col5\" class=\"data row2 col5\" >The response time with regards to customer service was great and thank you. Kindly improve on the reimbursement part because it's not every customer who'll appreciate a promo. That part put some of us in a very sticky situation financially especially now that we have COVID-19. The last part would be for your company not to always take extra money just because people are paying with cards. That's dodgy. Stick to the same amount whether I'm paying cash or with a card.</td>\n",
       "    </tr>\n",
       "    <tr>\n",
       "      <th id=\"T_072de_level0_row3\" class=\"row_heading level0 row3\" >3</th>\n",
       "      <td id=\"T_072de_row3_col0\" class=\"data row3 col0\" >3.000000</td>\n",
       "      <td id=\"T_072de_row3_col1\" class=\"data row3 col1\" >0.249300</td>\n",
       "      <td id=\"T_072de_row3_col2\" class=\"data row3 col2\" >31, 39, 111, 124, 270, 276, 44, 147, 317, 290</td>\n",
       "      <td id=\"T_072de_row3_col3\" class=\"data row3 col3\" >['time', 'show', 'estimate', 'amount', 'destination', 'location', 'price', 'feedback', 'uninstall', 'rubbish', 'app']</td>\n",
       "      <td id=\"T_072de_row3_col4\" class=\"data row3 col4\" >1</td>\n",
       "      <td id=\"T_072de_row3_col5\" class=\"data row3 col5\" >This has been happening for some time now and i always keep quiet. You will show me an estimate of the amount for the destination and when i get to my location the price i will see will be way higher than what you showed. I will stop using you. Just decided to give this feedback before i uninstall this rubbish app</td>\n",
       "    </tr>\n",
       "    <tr>\n",
       "      <th id=\"T_072de_level0_row4\" class=\"row_heading level0 row4\" >4</th>\n",
       "      <td id=\"T_072de_row4_col0\" class=\"data row4 col0\" >3.000000</td>\n",
       "      <td id=\"T_072de_row4_col1\" class=\"data row4 col1\" >0.266900</td>\n",
       "      <td id=\"T_072de_row4_col2\" class=\"data row4 col2\" >31, 39, 111, 124, 270, 276, 44, 147, 317, 290</td>\n",
       "      <td id=\"T_072de_row4_col3\" class=\"data row4 col3\" >['driver', 'option', 'change', 'time', 'transfer', 'trust', 'card', 'cash', 'please_fix', 'problem', 'way']</td>\n",
       "      <td id=\"T_072de_row4_col4\" class=\"data row4 col4\" >3</td>\n",
       "      <td id=\"T_072de_row4_col5\" class=\"data row4 col5\" >The drivers almost always never have change and I'm left with no option but to leave my 100-300 naira change with them which I obviously don't intend to. It's not all the time we're able to transfer and not everyone trust using their cards with the app, for those of us that use cash please fix this problem whatever way, it's really annoying.</td>\n",
       "    </tr>\n",
       "  </tbody>\n",
       "</table>\n"
      ],
      "text/plain": [
       "<pandas.io.formats.style.Styler at 0x226b5e32eb0>"
      ]
     },
     "execution_count": 40,
     "metadata": {},
     "output_type": "execute_result"
    }
   ],
   "source": [
    "df_dominant_topic_tfidf = find_dominant_topic_in_each_doc(df_topic_sents_keywords_tfidf, df)\n",
    "print(\"Finding the dominant topic in each document\")\n",
    "df_dominant_topic_tfidf.head(5).style.set_properties(subset=['review'], **{'width': '400px'})"
   ]
  },
  {
   "cell_type": "markdown",
   "metadata": {},
   "source": [
    "#### 2. Standard LDA with TF-IDF - Find the most representative document for each topic"
   ]
  },
  {
   "cell_type": "code",
   "execution_count": 41,
   "metadata": {},
   "outputs": [
    {
     "name": "stdout",
     "output_type": "stream",
     "text": [
      "Find the most representative document for each topic\n"
     ]
    },
    {
     "data": {
      "text/html": [
       "<style type=\"text/css\">\n",
       "#T_cb013_row0_col4, #T_cb013_row1_col4, #T_cb013_row2_col4, #T_cb013_row3_col4, #T_cb013_row4_col4, #T_cb013_row5_col4 {\n",
       "  width: 400px;\n",
       "}\n",
       "</style>\n",
       "<table id=\"T_cb013_\">\n",
       "  <thead>\n",
       "    <tr>\n",
       "      <th class=\"blank level0\" >&nbsp;</th>\n",
       "      <th class=\"col_heading level0 col0\" >Dominant_Topic</th>\n",
       "      <th class=\"col_heading level0 col1\" >Perc_Contribution</th>\n",
       "      <th class=\"col_heading level0 col2\" >Topic_Keywords</th>\n",
       "      <th class=\"col_heading level0 col3\" >star_rating</th>\n",
       "      <th class=\"col_heading level0 col4\" >review</th>\n",
       "    </tr>\n",
       "  </thead>\n",
       "  <tbody>\n",
       "    <tr>\n",
       "      <th id=\"T_cb013_level0_row0\" class=\"row_heading level0 row0\" >0</th>\n",
       "      <td id=\"T_cb013_row0_col0\" class=\"data row0 col0\" >0.000000</td>\n",
       "      <td id=\"T_cb013_row0_col1\" class=\"data row0 col1\" >0.532800</td>\n",
       "      <td id=\"T_cb013_row0_col2\" class=\"data row0 col2\" >45, 155, 529, 546, 84, 745, 415, 368, 15, 255</td>\n",
       "      <td id=\"T_cb013_row0_col3\" class=\"data row0 col3\" >5</td>\n",
       "      <td id=\"T_cb013_row0_col4\" class=\"data row0 col4\" >Amazing great idea and service. I am on business trip in Spain and started using \"normal\" taxi service. Overpriced, expensive, driving around the city instead of straight to the destination point.  After one week started using Cabify service.  Which is simply, easy, cheap and transparent.  I would recommend to everyone. Greg.</td>\n",
       "    </tr>\n",
       "    <tr>\n",
       "      <th id=\"T_cb013_level0_row1\" class=\"row_heading level0 row1\" >1</th>\n",
       "      <td id=\"T_cb013_row1_col0\" class=\"data row1 col0\" >1.000000</td>\n",
       "      <td id=\"T_cb013_row1_col1\" class=\"data row1 col1\" >0.558800</td>\n",
       "      <td id=\"T_cb013_row1_col2\" class=\"data row1 col2\" >14, 32, 121, 35, 10, 224, 249, 28, 453, 438</td>\n",
       "      <td id=\"T_cb013_row1_col3\" class=\"data row1 col3\" >5</td>\n",
       "      <td id=\"T_cb013_row1_col4\" class=\"data row1 col4\" >Love it, Love it, Love it, Love it, Love it, Love it, Love it, Love it, Love it, Love it, Love it, Love it,</td>\n",
       "    </tr>\n",
       "    <tr>\n",
       "      <th id=\"T_cb013_level0_row2\" class=\"row_heading level0 row2\" >2</th>\n",
       "      <td id=\"T_cb013_row2_col0\" class=\"data row2 col0\" >2.000000</td>\n",
       "      <td id=\"T_cb013_row2_col1\" class=\"data row2 col1\" >0.517700</td>\n",
       "      <td id=\"T_cb013_row2_col2\" class=\"data row2 col2\" >5, 35, 172, 61, 364, 137, 41, 529, 96, 34</td>\n",
       "      <td id=\"T_cb013_row2_col3\" class=\"data row2 col3\" >2</td>\n",
       "      <td id=\"T_cb013_row2_col4\" class=\"data row2 col4\" >This was way better earlier. Last 4 times we called for Bolt: estimate time was showing 2-4 minutes. Arrival times were 10-15. When they show where driver is on map, it is obvious, that driver cannot make it even in 10 minutes, but app insists it will arrive in 2 mintues for the remaining time of 10 minutes. If I see Bolt that it will come after 15 minutes, I would cancel that driver and look for another one, however I will get penalized for that. So either stop lying about estimated arrival times, or stop penalizing for 10 minutes late drivers, when there is another one nearby.</td>\n",
       "    </tr>\n",
       "    <tr>\n",
       "      <th id=\"T_cb013_level0_row3\" class=\"row_heading level0 row3\" >3</th>\n",
       "      <td id=\"T_cb013_row3_col0\" class=\"data row3 col0\" >3.000000</td>\n",
       "      <td id=\"T_cb013_row3_col1\" class=\"data row3 col1\" >0.558700</td>\n",
       "      <td id=\"T_cb013_row3_col2\" class=\"data row3 col2\" >31, 39, 111, 124, 270, 276, 44, 147, 317, 290</td>\n",
       "      <td id=\"T_cb013_row3_col3\" class=\"data row3 col3\" >3</td>\n",
       "      <td id=\"T_cb013_row3_col4\" class=\"data row3 col4\" >When I go to input my car details 'Sport' is missing on comfort and 'coupe' is missing in vehicle type. A sound system category would be good, this is important for long trips, I have a 1000w sound system and would like to let them know if that interests them at all. How about just allow people an open text description box called 'about my car'</td>\n",
       "    </tr>\n",
       "    <tr>\n",
       "      <th id=\"T_cb013_level0_row4\" class=\"row_heading level0 row4\" >4</th>\n",
       "      <td id=\"T_cb013_row4_col0\" class=\"data row4 col0\" >4.000000</td>\n",
       "      <td id=\"T_cb013_row4_col1\" class=\"data row4 col1\" >0.545300</td>\n",
       "      <td id=\"T_cb013_row4_col2\" class=\"data row4 col2\" >28, 5, 23, 59, 63, 95, 237, 15, 205, 519</td>\n",
       "      <td id=\"T_cb013_row4_col3\" class=\"data row4 col3\" >1</td>\n",
       "      <td id=\"T_cb013_row4_col4\" class=\"data row4 col4\" >People want something like Uber, but since the taxi drivers in Ireland are terrified they won't be able to rip people off anymore they refuse to allow it and have made this as similar as possible, but made sure they can still rip us off.. It's as simple as letting us know how much our journey will cost us before we order the taxi.. It should always give the taxi driver our actual location, because most people using this is drunk so they won't actually move the marker manually. The Taxi drivers will tell you themselves that people are always at the wrong location. Uber is better. To bad we're in Ireland.</td>\n",
       "    </tr>\n",
       "    <tr>\n",
       "      <th id=\"T_cb013_level0_row5\" class=\"row_heading level0 row5\" >5</th>\n",
       "      <td id=\"T_cb013_row5_col0\" class=\"data row5 col0\" >5.000000</td>\n",
       "      <td id=\"T_cb013_row5_col1\" class=\"data row5 col1\" >0.581500</td>\n",
       "      <td id=\"T_cb013_row5_col2\" class=\"data row5 col2\" >135, 427, 18, 160, 17, 0, 19, 37, 104, 593</td>\n",
       "      <td id=\"T_cb013_row5_col3\" class=\"data row5 col3\" >1</td>\n",
       "      <td id=\"T_cb013_row5_col4\" class=\"data row5 col4\" >I have been charged twice and still.. Im getting call multiple times. As postpaid amount is due.. Where i have not used any. And paid via Phonepay.. Many times sent mail with transaction proof. Till now no replies and customer pathetic never receives call.. Still everyday notifications of due amount.</td>\n",
       "    </tr>\n",
       "  </tbody>\n",
       "</table>\n"
      ],
      "text/plain": [
       "<pandas.io.formats.style.Styler at 0x226b6044910>"
      ]
     },
     "execution_count": 41,
     "metadata": {},
     "output_type": "execute_result"
    }
   ],
   "source": [
    "print(\"Find the most representative document for each topic\")\n",
    "sent_topics_sorteddf_tfidf = find_most_representative_doc_for_each_doc(df_topic_sents_keywords_tfidf, df)\n",
    "sent_topics_sorteddf_tfidf.style.set_properties(subset=['review'], **{'width': '400px'})"
   ]
  },
  {
   "cell_type": "markdown",
   "metadata": {},
   "source": [
    "#### 3. Standard LDA with TF-IDF - Topic distribution across documents"
   ]
  },
  {
   "cell_type": "code",
   "execution_count": 42,
   "metadata": {},
   "outputs": [
    {
     "name": "stdout",
     "output_type": "stream",
     "text": [
      "Topic distribution across documents\n"
     ]
    },
    {
     "data": {
      "text/html": [
       "<style type=\"text/css\">\n",
       "#T_be2fc_row0_col1, #T_be2fc_row1_col1, #T_be2fc_row2_col1, #T_be2fc_row3_col1, #T_be2fc_row4_col1, #T_be2fc_row5_col1 {\n",
       "  width: 400px;\n",
       "}\n",
       "</style>\n",
       "<table id=\"T_be2fc_\">\n",
       "  <thead>\n",
       "    <tr>\n",
       "      <th class=\"blank level0\" >&nbsp;</th>\n",
       "      <th class=\"col_heading level0 col0\" >Dominant_Topic</th>\n",
       "      <th class=\"col_heading level0 col1\" >Keywords</th>\n",
       "      <th class=\"col_heading level0 col2\" >Num_Documents</th>\n",
       "      <th class=\"col_heading level0 col3\" >Perc_Documents</th>\n",
       "    </tr>\n",
       "  </thead>\n",
       "  <tbody>\n",
       "    <tr>\n",
       "      <th id=\"T_be2fc_level0_row0\" class=\"row_heading level0 row0\" >0</th>\n",
       "      <td id=\"T_be2fc_row0_col0\" class=\"data row0 col0\" >0.000000</td>\n",
       "      <td id=\"T_be2fc_row0_col1\" class=\"data row0 col1\" >45, 155, 529, 546, 84, 745, 415, 368, 15, 255</td>\n",
       "      <td id=\"T_be2fc_row0_col2\" class=\"data row0 col2\" >7440</td>\n",
       "      <td id=\"T_be2fc_row0_col3\" class=\"data row0 col3\" >0.249600</td>\n",
       "    </tr>\n",
       "    <tr>\n",
       "      <th id=\"T_be2fc_level0_row1\" class=\"row_heading level0 row1\" >1</th>\n",
       "      <td id=\"T_be2fc_row1_col0\" class=\"data row1 col0\" >1.000000</td>\n",
       "      <td id=\"T_be2fc_row1_col1\" class=\"data row1 col1\" >14, 32, 121, 35, 10, 224, 249, 28, 453, 438</td>\n",
       "      <td id=\"T_be2fc_row1_col2\" class=\"data row1 col2\" >5800</td>\n",
       "      <td id=\"T_be2fc_row1_col3\" class=\"data row1 col3\" >0.194500</td>\n",
       "    </tr>\n",
       "    <tr>\n",
       "      <th id=\"T_be2fc_level0_row2\" class=\"row_heading level0 row2\" >2</th>\n",
       "      <td id=\"T_be2fc_row2_col0\" class=\"data row2 col0\" >2.000000</td>\n",
       "      <td id=\"T_be2fc_row2_col1\" class=\"data row2 col1\" >5, 35, 172, 61, 364, 137, 41, 529, 96, 34</td>\n",
       "      <td id=\"T_be2fc_row2_col2\" class=\"data row2 col2\" >4466</td>\n",
       "      <td id=\"T_be2fc_row2_col3\" class=\"data row2 col3\" >0.149800</td>\n",
       "    </tr>\n",
       "    <tr>\n",
       "      <th id=\"T_be2fc_level0_row3\" class=\"row_heading level0 row3\" >3</th>\n",
       "      <td id=\"T_be2fc_row3_col0\" class=\"data row3 col0\" >3.000000</td>\n",
       "      <td id=\"T_be2fc_row3_col1\" class=\"data row3 col1\" >31, 39, 111, 124, 270, 276, 44, 147, 317, 290</td>\n",
       "      <td id=\"T_be2fc_row3_col2\" class=\"data row3 col2\" >4449</td>\n",
       "      <td id=\"T_be2fc_row3_col3\" class=\"data row3 col3\" >0.149200</td>\n",
       "    </tr>\n",
       "    <tr>\n",
       "      <th id=\"T_be2fc_level0_row4\" class=\"row_heading level0 row4\" >4</th>\n",
       "      <td id=\"T_be2fc_row4_col0\" class=\"data row4 col0\" >4.000000</td>\n",
       "      <td id=\"T_be2fc_row4_col1\" class=\"data row4 col1\" >28, 5, 23, 59, 63, 95, 237, 15, 205, 519</td>\n",
       "      <td id=\"T_be2fc_row4_col2\" class=\"data row4 col2\" >3841</td>\n",
       "      <td id=\"T_be2fc_row4_col3\" class=\"data row4 col3\" >0.128800</td>\n",
       "    </tr>\n",
       "    <tr>\n",
       "      <th id=\"T_be2fc_level0_row5\" class=\"row_heading level0 row5\" >5</th>\n",
       "      <td id=\"T_be2fc_row5_col0\" class=\"data row5 col0\" >5.000000</td>\n",
       "      <td id=\"T_be2fc_row5_col1\" class=\"data row5 col1\" >135, 427, 18, 160, 17, 0, 19, 37, 104, 593</td>\n",
       "      <td id=\"T_be2fc_row5_col2\" class=\"data row5 col2\" >3817</td>\n",
       "      <td id=\"T_be2fc_row5_col3\" class=\"data row5 col3\" >0.128000</td>\n",
       "    </tr>\n",
       "  </tbody>\n",
       "</table>\n"
      ],
      "text/plain": [
       "<pandas.io.formats.style.Styler at 0x226b5e3beb0>"
      ]
     },
     "execution_count": 42,
     "metadata": {},
     "output_type": "execute_result"
    }
   ],
   "source": [
    "# Show\n",
    "print(\"Topic distribution across documents\")\n",
    "df_dominant_topic_tfidf = topic_distribution_across_docs(df_topic_sents_keywords_tfidf)\n",
    "df_dominant_topic_tfidf.style.set_properties(subset=['Keywords'], **{'width': '400px'})"
   ]
  },
  {
   "cell_type": "code",
   "execution_count": 43,
   "metadata": {},
   "outputs": [],
   "source": [
    "coherence_model_tfidf = CoherenceModel(model=lda_model_tfidf, texts=data_lemmatized, dictionary=dictionary, coherence='c_npmi')"
   ]
  },
  {
   "cell_type": "code",
   "execution_count": 44,
   "metadata": {},
   "outputs": [
    {
     "data": {
      "text/plain": [
       "[-0.0396091223390339,\n",
       " -0.060167577309842894,\n",
       " -0.023276531233836457,\n",
       " -0.10655968548248082,\n",
       " -0.04118598388871035,\n",
       " 0.023076828225845062]"
      ]
     },
     "execution_count": 44,
     "metadata": {},
     "output_type": "execute_result"
    }
   ],
   "source": [
    "coherence_model_tfidf.get_coherence_per_topic()"
   ]
  },
  {
   "cell_type": "markdown",
   "metadata": {},
   "source": [
    "### Mallet's LDA with TF-IDF"
   ]
  },
  {
   "cell_type": "code",
   "execution_count": 45,
   "metadata": {},
   "outputs": [],
   "source": [
    "import os\n",
    "os.environ.update({'MALLET_HOME':r'C:/mallet-2.0.8/'})\n",
    "\n",
    "mallet_path = 'C:/mallet-2.0.8/bin/mallet.bat'\n",
    "\n",
    "ldamallet_tfidf = gensim.models.wrappers.LdaMallet(mallet_path, \n",
    "                                                   corpus=tf_idf, \n",
    "                                                   num_topics=6, \n",
    "                                                   random_seed = 100,\n",
    "                                                   id2word=dictionary,\n",
    "                                                   alpha = 1.5)"
   ]
  },
  {
   "cell_type": "code",
   "execution_count": 46,
   "metadata": {},
   "outputs": [],
   "source": [
    "# Visualize the topics\n",
    "model = gensim.models.wrappers.ldamallet.malletmodel2ldamodel(ldamallet_tfidf)\n",
    "pyLDAvis.enable_notebook()\n",
    "vis = pyLDAvis.gensim.prepare(model, tf_idf, dictionary)\n",
    "pyLDAvis.save_html(vis, 'mallet_lda_vis/mallet_lda_vis_tfidf_num_topics=6&alpha=1.5.html')"
   ]
  },
  {
   "cell_type": "code",
   "execution_count": 47,
   "metadata": {},
   "outputs": [
    {
     "data": {
      "text/plain": [
       "[-0.34257277514201,\n",
       " -0.30710748357391965,\n",
       " -0.1448369798718913,\n",
       " -0.30519371034115916,\n",
       " -0.2651728781887421,\n",
       " -0.2874400049962764]"
      ]
     },
     "execution_count": 47,
     "metadata": {},
     "output_type": "execute_result"
    }
   ],
   "source": [
    "coherence_model_m = CoherenceModel(model=model, texts=data_lemmatized, dictionary=dictionary, coherence='c_npmi')\n",
    "coherence_model_m.get_coherence_per_topic()"
   ]
  },
  {
   "cell_type": "code",
   "execution_count": 49,
   "metadata": {},
   "outputs": [
    {
     "name": "stdout",
     "output_type": "stream",
     "text": [
      "Getting main topic for document...\n",
      "0  1000  2000  3000  4000  5000  6000  7000  8000  9000  10000  11000  12000  13000  14000  15000  16000  17000  18000  19000  20000  21000  22000  23000  24000  25000  26000  27000  28000  29000  "
     ]
    }
   ],
   "source": [
    "df_topic_sents_keywords_tfidf_m = format_topics_sentences(ldamodel=ldamallet_tfidf, corpus=term_doc, texts=data_lemmatized, df=df)"
   ]
  },
  {
   "cell_type": "markdown",
   "metadata": {},
   "source": [
    "#### 1. Mallet's LDA with TF-IDF - Finding the dominant topic in each document"
   ]
  },
  {
   "cell_type": "code",
   "execution_count": 50,
   "metadata": {},
   "outputs": [
    {
     "name": "stdout",
     "output_type": "stream",
     "text": [
      "Finding the dominant topic in each document\n"
     ]
    },
    {
     "data": {
      "text/html": [
       "<style type=\"text/css\">\n",
       "#T_a60b4_row0_col5, #T_a60b4_row1_col5, #T_a60b4_row2_col5, #T_a60b4_row3_col5, #T_a60b4_row4_col5 {\n",
       "  width: 400px;\n",
       "}\n",
       "</style>\n",
       "<table id=\"T_a60b4_\">\n",
       "  <thead>\n",
       "    <tr>\n",
       "      <th class=\"blank level0\" >&nbsp;</th>\n",
       "      <th class=\"col_heading level0 col0\" >Dominant_Topic</th>\n",
       "      <th class=\"col_heading level0 col1\" >Perc_Contribution</th>\n",
       "      <th class=\"col_heading level0 col2\" >Keywords</th>\n",
       "      <th class=\"col_heading level0 col3\" >Text</th>\n",
       "      <th class=\"col_heading level0 col4\" >rating</th>\n",
       "      <th class=\"col_heading level0 col5\" >review</th>\n",
       "    </tr>\n",
       "  </thead>\n",
       "  <tbody>\n",
       "    <tr>\n",
       "      <th id=\"T_a60b4_level0_row0\" class=\"row_heading level0 row0\" >0</th>\n",
       "      <td id=\"T_a60b4_row0_col0\" class=\"data row0 col0\" >3.000000</td>\n",
       "      <td id=\"T_a60b4_row0_col1\" class=\"data row0 col1\" >0.320100</td>\n",
       "      <td id=\"T_a60b4_row0_col2\" class=\"data row0 col2\" >service, experience, app, friendly_driver, good, cab, good_price, good_application, star, polite_driver</td>\n",
       "      <td id=\"T_a60b4_row0_col3\" class=\"data row0 col3\" >['driver', 'support', 'computer', 'response', 'case', 'response', 'support', 'discount', 'account', 'thought', 'client']</td>\n",
       "      <td id=\"T_a60b4_row0_col4\" class=\"data row0 col4\" >3</td>\n",
       "      <td id=\"T_a60b4_row0_col5\" class=\"data row0 col5\" >Your drivers are great BUT your support is no good. Why can't it be like Uber where you can actually speak to someone. Instead of getting computer generated responses or like in my case, no response at all. The three stars are for the support. Also I have received a single discount to this account since I installed it three months ago. I'm very disappointed in Bolt, I thought they were there for their clients.</td>\n",
       "    </tr>\n",
       "    <tr>\n",
       "      <th id=\"T_a60b4_level0_row1\" class=\"row_heading level0 row1\" >1</th>\n",
       "      <td id=\"T_a60b4_row1_col0\" class=\"data row1 col0\" >2.000000</td>\n",
       "      <td id=\"T_a60b4_row1_col1\" class=\"data row1 col1\" >0.362400</td>\n",
       "      <td id=\"T_a60b4_row1_col2\" class=\"data row1 col2\" >app, driver, easy_use, discount, guy, transportation, location, promotion, drive, transport</td>\n",
       "      <td id=\"T_a60b4_row1_col3\" class=\"data row1 col3\" >['rating', 'moment', 'driver', 'rating', 'trip', 'driver', 'apartment', 'ride', 'drive', 'destination']</td>\n",
       "      <td id=\"T_a60b4_row1_col4\" class=\"data row1 col4\" >3</td>\n",
       "      <td id=\"T_a60b4_row1_col5\" class=\"data row1 col5\" >Loving the app, but can only give it a medium rating at the moment as the drivers you give a bad rating on still gets your trip. I had a bad experience with a driver outside my apartment, but he always gets my rides as he's parked there when with my one star and bad review (refused to drive to the destination, rude and aggressive).</td>\n",
       "    </tr>\n",
       "    <tr>\n",
       "      <th id=\"T_a60b4_level0_row2\" class=\"row_heading level0 row2\" >2</th>\n",
       "      <td id=\"T_a60b4_row2_col0\" class=\"data row2 col0\" >3.000000</td>\n",
       "      <td id=\"T_a60b4_row2_col1\" class=\"data row2 col1\" >0.323000</td>\n",
       "      <td id=\"T_a60b4_row2_col2\" class=\"data row2 col2\" >service, experience, app, friendly_driver, good, cab, good_price, good_application, star, polite_driver</td>\n",
       "      <td id=\"T_a60b4_row2_col3\" class=\"data row2 col3\" >['response', 'reimbursement', 'part', 'customer', 'promo', 'part', 'situation', 'part', 'company', 'extra_money', 'people', 'card', 'dodgy', 'stick', 'amount', 'card']</td>\n",
       "      <td id=\"T_a60b4_row2_col4\" class=\"data row2 col4\" >4</td>\n",
       "      <td id=\"T_a60b4_row2_col5\" class=\"data row2 col5\" >The response time with regards to customer service was great and thank you. Kindly improve on the reimbursement part because it's not every customer who'll appreciate a promo. That part put some of us in a very sticky situation financially especially now that we have COVID-19. The last part would be for your company not to always take extra money just because people are paying with cards. That's dodgy. Stick to the same amount whether I'm paying cash or with a card.</td>\n",
       "    </tr>\n",
       "    <tr>\n",
       "      <th id=\"T_a60b4_level0_row3\" class=\"row_heading level0 row3\" >3</th>\n",
       "      <td id=\"T_a60b4_row3_col0\" class=\"data row3 col0\" >1.000000</td>\n",
       "      <td id=\"T_a60b4_row3_col1\" class=\"data row3 col1\" >0.340600</td>\n",
       "      <td id=\"T_a60b4_row3_col2\" class=\"data row3 col2\" >driver, trip, travel, friendly_driver, promo, quick_efficient, driving, company, recommend, enjoy</td>\n",
       "      <td id=\"T_a60b4_row3_col3\" class=\"data row3 col3\" >['time', 'show', 'estimate', 'amount', 'destination', 'location', 'price', 'feedback', 'uninstall', 'rubbish', 'app']</td>\n",
       "      <td id=\"T_a60b4_row3_col4\" class=\"data row3 col4\" >1</td>\n",
       "      <td id=\"T_a60b4_row3_col5\" class=\"data row3 col5\" >This has been happening for some time now and i always keep quiet. You will show me an estimate of the amount for the destination and when i get to my location the price i will see will be way higher than what you showed. I will stop using you. Just decided to give this feedback before i uninstall this rubbish app</td>\n",
       "    </tr>\n",
       "    <tr>\n",
       "      <th id=\"T_a60b4_level0_row4\" class=\"row_heading level0 row4\" >4</th>\n",
       "      <td id=\"T_a60b4_row4_col0\" class=\"data row4 col0\" >5.000000</td>\n",
       "      <td id=\"T_a60b4_row4_col1\" class=\"data row4 col1\" >0.404800</td>\n",
       "      <td id=\"T_a60b4_row4_col2\" class=\"data row4 col2\" >driver, people, drivers_alway, update, good_service, day, application, code, city, job</td>\n",
       "      <td id=\"T_a60b4_row4_col3\" class=\"data row4 col3\" >['driver', 'option', 'change', 'time', 'transfer', 'trust', 'card', 'cash', 'please_fix', 'problem', 'way']</td>\n",
       "      <td id=\"T_a60b4_row4_col4\" class=\"data row4 col4\" >3</td>\n",
       "      <td id=\"T_a60b4_row4_col5\" class=\"data row4 col5\" >The drivers almost always never have change and I'm left with no option but to leave my 100-300 naira change with them which I obviously don't intend to. It's not all the time we're able to transfer and not everyone trust using their cards with the app, for those of us that use cash please fix this problem whatever way, it's really annoying.</td>\n",
       "    </tr>\n",
       "  </tbody>\n",
       "</table>\n"
      ],
      "text/plain": [
       "<pandas.io.formats.style.Styler at 0x226b5eff1f0>"
      ]
     },
     "execution_count": 50,
     "metadata": {},
     "output_type": "execute_result"
    }
   ],
   "source": [
    "df_dominant_topic_tfidf_m = find_dominant_topic_in_each_doc(df_topic_sents_keywords_tfidf_m, df)\n",
    "print(\"Finding the dominant topic in each document\")\n",
    "df_dominant_topic_tfidf_m.head(5).style.set_properties(subset=['review'], **{'width': '400px'})"
   ]
  },
  {
   "cell_type": "markdown",
   "metadata": {},
   "source": [
    "#### 2. Mallet's LDA with TF-IDF - Find the most representative document for each topic"
   ]
  },
  {
   "cell_type": "code",
   "execution_count": 51,
   "metadata": {},
   "outputs": [
    {
     "name": "stdout",
     "output_type": "stream",
     "text": [
      "Find the most representative document for each topic\n"
     ]
    },
    {
     "data": {
      "text/html": [
       "<style type=\"text/css\">\n",
       "#T_d6c47_row0_col4, #T_d6c47_row1_col4, #T_d6c47_row2_col4, #T_d6c47_row3_col4, #T_d6c47_row4_col4, #T_d6c47_row5_col4, #T_d6c47_row6_col4, #T_d6c47_row7_col4, #T_d6c47_row8_col4 {\n",
       "  width: 400px;\n",
       "}\n",
       "</style>\n",
       "<table id=\"T_d6c47_\">\n",
       "  <thead>\n",
       "    <tr>\n",
       "      <th class=\"blank level0\" >&nbsp;</th>\n",
       "      <th class=\"col_heading level0 col0\" >Dominant_Topic</th>\n",
       "      <th class=\"col_heading level0 col1\" >Perc_Contribution</th>\n",
       "      <th class=\"col_heading level0 col2\" >Topic_Keywords</th>\n",
       "      <th class=\"col_heading level0 col3\" >star_rating</th>\n",
       "      <th class=\"col_heading level0 col4\" >review</th>\n",
       "    </tr>\n",
       "  </thead>\n",
       "  <tbody>\n",
       "    <tr>\n",
       "      <th id=\"T_d6c47_level0_row0\" class=\"row_heading level0 row0\" >0</th>\n",
       "      <td id=\"T_d6c47_row0_col0\" class=\"data row0 col0\" >0.000000</td>\n",
       "      <td id=\"T_d6c47_row0_col1\" class=\"data row0 col1\" >0.772700</td>\n",
       "      <td id=\"T_d6c47_row0_col2\" class=\"data row0 col2\" >time, price, work, car, fast_efficient, money, destination, amazing_service, place, reliable_efficient</td>\n",
       "      <td id=\"T_d6c47_row0_col3\" class=\"data row0 col3\" >3</td>\n",
       "      <td id=\"T_d6c47_row0_col4\" class=\"data row0 col4\" >Most of the times it shows an ETA, let's say 2 minutes, but it keeps changing and end up waiting 15 minutes, but it still displays 2-3 minutes.</td>\n",
       "    </tr>\n",
       "    <tr>\n",
       "      <th id=\"T_d6c47_level0_row1\" class=\"row_heading level0 row1\" >1</th>\n",
       "      <td id=\"T_d6c47_row1_col0\" class=\"data row1 col0\" >0.000000</td>\n",
       "      <td id=\"T_d6c47_row1_col1\" class=\"data row1 col1\" >0.772700</td>\n",
       "      <td id=\"T_d6c47_row1_col2\" class=\"data row1 col2\" >time, price, work, car, fast_efficient, money, destination, amazing_service, place, reliable_efficient</td>\n",
       "      <td id=\"T_d6c47_row1_col3\" class=\"data row1 col3\" >4</td>\n",
       "      <td id=\"T_d6c47_row1_col4\" class=\"data row1 col4\" >it would be nice if it was possible to choose maybe from 3 cars ( by time ), not always needing a car in 2 minutes....</td>\n",
       "    </tr>\n",
       "    <tr>\n",
       "      <th id=\"T_d6c47_level0_row2\" class=\"row_heading level0 row2\" >2</th>\n",
       "      <td id=\"T_d6c47_row2_col0\" class=\"data row2 col0\" >0.000000</td>\n",
       "      <td id=\"T_d6c47_row2_col1\" class=\"data row2 col1\" >0.772700</td>\n",
       "      <td id=\"T_d6c47_row2_col2\" class=\"data row2 col2\" >time, price, work, car, fast_efficient, money, destination, amazing_service, place, reliable_efficient</td>\n",
       "      <td id=\"T_d6c47_row2_col3\" class=\"data row2 col3\" >1</td>\n",
       "      <td id=\"T_d6c47_row2_col4\" class=\"data row2 col4\" >How can you charge 7500 from ikenegbu to Futo and back to Ikenegbu? The time had already started reading 30-35 minutes before I even entered the car. But I didn't say anything... Then while we were coming back we were stopped and searched by the police . All the time they wasted arguing still added to my bills. I'm very disappointed. I am deleting this app now, going back to my URU.</td>\n",
       "    </tr>\n",
       "    <tr>\n",
       "      <th id=\"T_d6c47_level0_row3\" class=\"row_heading level0 row3\" >3</th>\n",
       "      <td id=\"T_d6c47_row3_col0\" class=\"data row3 col0\" >1.000000</td>\n",
       "      <td id=\"T_d6c47_row3_col1\" class=\"data row3 col1\" >0.833300</td>\n",
       "      <td id=\"T_d6c47_row3_col2\" class=\"data row3 col2\" >driver, trip, travel, friendly_driver, promo, quick_efficient, driving, company, recommend, enjoy</td>\n",
       "      <td id=\"T_d6c47_row3_col3\" class=\"data row3 col3\" >1</td>\n",
       "      <td id=\"T_d6c47_row3_col4\" class=\"data row3 col4\" >Auto driver charged extra amount......we booking ola for low price.... but they charged extra amount......we will give always feedback but you not responding..... very bad and worst app.... because of drivers</td>\n",
       "    </tr>\n",
       "    <tr>\n",
       "      <th id=\"T_d6c47_level0_row4\" class=\"row_heading level0 row4\" >4</th>\n",
       "      <td id=\"T_d6c47_row4_col0\" class=\"data row4 col0\" >2.000000</td>\n",
       "      <td id=\"T_d6c47_row4_col1\" class=\"data row4 col1\" >0.839900</td>\n",
       "      <td id=\"T_d6c47_row4_col2\" class=\"data row4 col2\" >app, driver, easy_use, discount, guy, transportation, location, promotion, drive, transport</td>\n",
       "      <td id=\"T_d6c47_row4_col3\" class=\"data row4 col3\" >1</td>\n",
       "      <td id=\"T_d6c47_row4_col4\" class=\"data row4 col4\" >I already have an Uber account. The app doesn’t give me the option to log into the existing account. The App starts with a screen asking my mobile and when I enter my mobile, e message says this mobile is already registered. Obviously registered because it is my bloody account and I don’t want to create another account. I just want to log into my existing account. How and where???? Useless</td>\n",
       "    </tr>\n",
       "    <tr>\n",
       "      <th id=\"T_d6c47_level0_row5\" class=\"row_heading level0 row5\" >5</th>\n",
       "      <td id=\"T_d6c47_row5_col0\" class=\"data row5 col0\" >3.000000</td>\n",
       "      <td id=\"T_d6c47_row5_col1\" class=\"data row5 col1\" >0.807700</td>\n",
       "      <td id=\"T_d6c47_row5_col2\" class=\"data row5 col2\" >service, experience, app, friendly_driver, good, cab, good_price, good_application, star, polite_driver</td>\n",
       "      <td id=\"T_d6c47_row5_col3\" class=\"data row5 col3\" >3</td>\n",
       "      <td id=\"T_d6c47_row5_col4\" class=\"data row5 col4\" >Please make available for Kindle Fire Phone. Missing out on a share of the market there! Would of been 5 stars. Get this sorted so I can start using it again!!</td>\n",
       "    </tr>\n",
       "    <tr>\n",
       "      <th id=\"T_d6c47_level0_row6\" class=\"row_heading level0 row6\" >6</th>\n",
       "      <td id=\"T_d6c47_row6_col0\" class=\"data row6 col0\" >3.000000</td>\n",
       "      <td id=\"T_d6c47_row6_col1\" class=\"data row6 col1\" >0.807700</td>\n",
       "      <td id=\"T_d6c47_row6_col2\" class=\"data row6 col2\" >service, experience, app, friendly_driver, good, cab, good_price, good_application, star, polite_driver</td>\n",
       "      <td id=\"T_d6c47_row6_col3\" class=\"data row6 col3\" >1</td>\n",
       "      <td id=\"T_d6c47_row6_col4\" class=\"data row6 col4\" >Terrible service missed my train, prebooked my cab 2 weeks ago and one the day it neverturned up , details will shown before 10mins of pick up just vanished, I was stuck. Pathetic cab service totally unreliable.</td>\n",
       "    </tr>\n",
       "    <tr>\n",
       "      <th id=\"T_d6c47_level0_row7\" class=\"row_heading level0 row7\" >7</th>\n",
       "      <td id=\"T_d6c47_row7_col0\" class=\"data row7 col0\" >4.000000</td>\n",
       "      <td id=\"T_d6c47_row7_col1\" class=\"data row7 col1\" >0.868400</td>\n",
       "      <td id=\"T_d6c47_row7_col2\" class=\"data row7 col2\" >ride, love, rate, taxi, option, route, customer, fun, rider, map</td>\n",
       "      <td id=\"T_d6c47_row7_col3\" class=\"data row7 col3\" >5</td>\n",
       "      <td id=\"T_d6c47_row7_col4\" class=\"data row7 col4\" >Love it, Love it, Love it, Love it, Love it, Love it, Love it, Love it, Love it, Love it, Love it, Love it,</td>\n",
       "    </tr>\n",
       "    <tr>\n",
       "      <th id=\"T_d6c47_level0_row8\" class=\"row_heading level0 row8\" >8</th>\n",
       "      <td id=\"T_d6c47_row8_col0\" class=\"data row8 col0\" >5.000000</td>\n",
       "      <td id=\"T_d6c47_row8_col1\" class=\"data row8 col1\" >0.772700</td>\n",
       "      <td id=\"T_d6c47_row8_col2\" class=\"data row8 col2\" >driver, people, drivers_alway, update, good_service, day, application, code, city, job</td>\n",
       "      <td id=\"T_d6c47_row8_col3\" class=\"data row8 col3\" >5</td>\n",
       "      <td id=\"T_d6c47_row8_col4\" class=\"data row8 col4\" >Cornelius is absolutely the best driver and so kind. Ive had a great experience with all the drivers, but Cornelius is my favorite. Have a blessed day everyone.</td>\n",
       "    </tr>\n",
       "  </tbody>\n",
       "</table>\n"
      ],
      "text/plain": [
       "<pandas.io.formats.style.Styler at 0x226b7a8e8e0>"
      ]
     },
     "execution_count": 51,
     "metadata": {},
     "output_type": "execute_result"
    }
   ],
   "source": [
    "print(\"Find the most representative document for each topic\")\n",
    "sent_topics_sorteddf_tfidf_m = find_most_representative_doc_for_each_doc(df_topic_sents_keywords_tfidf_m, df)\n",
    "sent_topics_sorteddf_tfidf_m.style.set_properties(subset=['review'], **{'width': '400px'})"
   ]
  },
  {
   "cell_type": "markdown",
   "metadata": {},
   "source": [
    "#### 3. Mallet's LDA with TF-IDF - Topic distribution across documents"
   ]
  },
  {
   "cell_type": "code",
   "execution_count": 52,
   "metadata": {},
   "outputs": [
    {
     "name": "stdout",
     "output_type": "stream",
     "text": [
      "Topic distribution across documents\n"
     ]
    },
    {
     "data": {
      "text/html": [
       "<style type=\"text/css\">\n",
       "#T_919d0_row0_col1, #T_919d0_row1_col1, #T_919d0_row2_col1, #T_919d0_row3_col1, #T_919d0_row4_col1, #T_919d0_row5_col1 {\n",
       "  width: 400px;\n",
       "}\n",
       "</style>\n",
       "<table id=\"T_919d0_\">\n",
       "  <thead>\n",
       "    <tr>\n",
       "      <th class=\"blank level0\" >&nbsp;</th>\n",
       "      <th class=\"col_heading level0 col0\" >Dominant_Topic</th>\n",
       "      <th class=\"col_heading level0 col1\" >Keywords</th>\n",
       "      <th class=\"col_heading level0 col2\" >Num_Documents</th>\n",
       "      <th class=\"col_heading level0 col3\" >Perc_Documents</th>\n",
       "    </tr>\n",
       "  </thead>\n",
       "  <tbody>\n",
       "    <tr>\n",
       "      <th id=\"T_919d0_level0_row0\" class=\"row_heading level0 row0\" >0</th>\n",
       "      <td id=\"T_919d0_row0_col0\" class=\"data row0 col0\" >0.000000</td>\n",
       "      <td id=\"T_919d0_row0_col1\" class=\"data row0 col1\" >time, price, work, car, fast_efficient, money, destination, amazing_service, place, reliable_efficient</td>\n",
       "      <td id=\"T_919d0_row0_col2\" class=\"data row0 col2\" >9025</td>\n",
       "      <td id=\"T_919d0_row0_col3\" class=\"data row0 col3\" >0.302700</td>\n",
       "    </tr>\n",
       "    <tr>\n",
       "      <th id=\"T_919d0_level0_row1\" class=\"row_heading level0 row1\" >1</th>\n",
       "      <td id=\"T_919d0_row1_col0\" class=\"data row1 col0\" >1.000000</td>\n",
       "      <td id=\"T_919d0_row1_col1\" class=\"data row1 col1\" >driver, trip, travel, friendly_driver, promo, quick_efficient, driving, company, recommend, enjoy</td>\n",
       "      <td id=\"T_919d0_row1_col2\" class=\"data row1 col2\" >5035</td>\n",
       "      <td id=\"T_919d0_row1_col3\" class=\"data row1 col3\" >0.168900</td>\n",
       "    </tr>\n",
       "    <tr>\n",
       "      <th id=\"T_919d0_level0_row2\" class=\"row_heading level0 row2\" >2</th>\n",
       "      <td id=\"T_919d0_row2_col0\" class=\"data row2 col0\" >2.000000</td>\n",
       "      <td id=\"T_919d0_row2_col1\" class=\"data row2 col1\" >app, driver, easy_use, discount, guy, transportation, location, promotion, drive, transport</td>\n",
       "      <td id=\"T_919d0_row2_col2\" class=\"data row2 col2\" >4575</td>\n",
       "      <td id=\"T_919d0_row2_col3\" class=\"data row2 col3\" >0.153500</td>\n",
       "    </tr>\n",
       "    <tr>\n",
       "      <th id=\"T_919d0_level0_row3\" class=\"row_heading level0 row3\" >3</th>\n",
       "      <td id=\"T_919d0_row3_col0\" class=\"data row3 col0\" >3.000000</td>\n",
       "      <td id=\"T_919d0_row3_col1\" class=\"data row3 col1\" >service, experience, app, friendly_driver, good, cab, good_price, good_application, star, polite_driver</td>\n",
       "      <td id=\"T_919d0_row3_col2\" class=\"data row3 col2\" >4152</td>\n",
       "      <td id=\"T_919d0_row3_col3\" class=\"data row3 col3\" >0.139300</td>\n",
       "    </tr>\n",
       "    <tr>\n",
       "      <th id=\"T_919d0_level0_row4\" class=\"row_heading level0 row4\" >4</th>\n",
       "      <td id=\"T_919d0_row4_col0\" class=\"data row4 col0\" >4.000000</td>\n",
       "      <td id=\"T_919d0_row4_col1\" class=\"data row4 col1\" >ride, love, rate, taxi, option, route, customer, fun, rider, map</td>\n",
       "      <td id=\"T_919d0_row4_col2\" class=\"data row4 col2\" >3955</td>\n",
       "      <td id=\"T_919d0_row4_col3\" class=\"data row4 col3\" >0.132700</td>\n",
       "    </tr>\n",
       "    <tr>\n",
       "      <th id=\"T_919d0_level0_row5\" class=\"row_heading level0 row5\" >5</th>\n",
       "      <td id=\"T_919d0_row5_col0\" class=\"data row5 col0\" >5.000000</td>\n",
       "      <td id=\"T_919d0_row5_col1\" class=\"data row5 col1\" >driver, people, drivers_alway, update, good_service, day, application, code, city, job</td>\n",
       "      <td id=\"T_919d0_row5_col2\" class=\"data row5 col2\" >3071</td>\n",
       "      <td id=\"T_919d0_row5_col3\" class=\"data row5 col3\" >0.103000</td>\n",
       "    </tr>\n",
       "  </tbody>\n",
       "</table>\n"
      ],
      "text/plain": [
       "<pandas.io.formats.style.Styler at 0x226b5e3b3a0>"
      ]
     },
     "execution_count": 52,
     "metadata": {},
     "output_type": "execute_result"
    }
   ],
   "source": [
    "# Show\n",
    "print(\"Topic distribution across documents\")\n",
    "df_dominant_topic_tfidf_m = topic_distribution_across_docs(df_topic_sents_keywords_tfidf_m)\n",
    "df_dominant_topic_tfidf_m.style.set_properties(subset=['Keywords'], **{'width': '400px'})"
   ]
  },
  {
   "cell_type": "code",
   "execution_count": 53,
   "metadata": {},
   "outputs": [],
   "source": [
    "coherence_model_tfidf_m = CoherenceModel(model=ldamallet_tfidf, texts=data_lemmatized, dictionary=dictionary, coherence='c_npmi')"
   ]
  },
  {
   "cell_type": "code",
   "execution_count": 54,
   "metadata": {},
   "outputs": [
    {
     "data": {
      "text/plain": [
       "[-0.34257277514201,\n",
       " -0.30710748357391965,\n",
       " -0.1448369798718913,\n",
       " -0.30519371034115916,\n",
       " -0.2651728781887421,\n",
       " -0.2874400049962764]"
      ]
     },
     "execution_count": 54,
     "metadata": {},
     "output_type": "execute_result"
    }
   ],
   "source": [
    "coherence_model_tfidf_m.get_coherence_per_topic()"
   ]
  }
 ],
 "metadata": {
  "kernelspec": {
   "display_name": "Python 3 (ipykernel)",
   "language": "python",
   "name": "python3"
  },
  "language_info": {
   "codemirror_mode": {
    "name": "ipython",
    "version": 3
   },
   "file_extension": ".py",
   "mimetype": "text/x-python",
   "name": "python",
   "nbconvert_exporter": "python",
   "pygments_lexer": "ipython3",
   "version": "3.8.5"
  },
  "toc": {
   "base_numbering": 1,
   "nav_menu": {},
   "number_sections": true,
   "sideBar": true,
   "skip_h1_title": false,
   "title_cell": "Table of Contents",
   "title_sidebar": "Contents",
   "toc_cell": false,
   "toc_position": {
    "height": "calc(100% - 180px)",
    "left": "10px",
    "top": "150px",
    "width": "256px"
   },
   "toc_section_display": true,
   "toc_window_display": true
  }
 },
 "nbformat": 4,
 "nbformat_minor": 4
}
