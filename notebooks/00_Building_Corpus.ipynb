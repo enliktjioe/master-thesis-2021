{
 "cells": [
  {
   "cell_type": "markdown",
   "id": "funky-photographer",
   "metadata": {},
   "source": [
    "# References\n",
    "\n",
    "- https://stackabuse.com/python-for-nlp-tokenization-stemming-and-lemmatization-with-spacy-library\n",
    "- https://www.tutorialspoint.com/gensim/gensim_creating_a_dictionary.htm\n",
    "- https://github.com/fiyero/LDA_gensim\n",
    "- https://github.com/fiyero/LDA_gensim/blob/master/LDA%20with%20Gensim_git.ipynb"
   ]
  },
  {
   "cell_type": "markdown",
   "id": "blank-portrait",
   "metadata": {},
   "source": [
    "## Raw Data Prep"
   ]
  },
  {
   "cell_type": "code",
   "execution_count": 1,
   "id": "early-activation",
   "metadata": {},
   "outputs": [
    {
     "name": "stderr",
     "output_type": "stream",
     "text": [
      "[nltk_data] Downloading package stopwords to\n",
      "[nltk_data]     C:\\Users\\enlik\\AppData\\Roaming\\nltk_data...\n",
      "[nltk_data]   Package stopwords is already up-to-date!\n"
     ]
    }
   ],
   "source": [
    "from utils import *\n",
    "from pprint import pprint\n",
    "\n",
    "import ssl\n",
    "ssl._create_default_https_context = ssl._create_unverified_context\n",
    "\n",
    "config = get_config('config.yaml')"
   ]
  },
  {
   "cell_type": "code",
   "execution_count": 2,
   "id": "excited-tobacco",
   "metadata": {},
   "outputs": [
    {
     "name": "stdout",
     "output_type": "stream",
     "text": [
      "Total English reviews: 3154 \n",
      "\n",
      "Total unique users : 3149\n",
      "Total users who gave multiple reviews: 5\n",
      "\n",
      "Average rating for this app based on the textual reviews: 3.02 \n",
      "\n"
     ]
    }
   ],
   "source": [
    "df2 = read_csv_from_gdrive(config['csv_input']['bolt_apple'])\n",
    "total_reviews = len(df2)\n",
    "unique_users  = len(df2['userName'].unique())\n",
    "mean = df2['rating'].mean()\n",
    "\n",
    "print(f'Total English reviews: {total_reviews} \\n')\n",
    "print(f'Total unique users : {unique_users}')\n",
    "print(f'Total users who gave multiple reviews: {total_reviews - unique_users}\\n')\n",
    "print(f'Average rating for this app based on the textual reviews: {round(mean,2)} \\n')"
   ]
  },
  {
   "cell_type": "code",
   "execution_count": 7,
   "id": "mathematical-principal",
   "metadata": {},
   "outputs": [
    {
     "data": {
      "text/plain": [
       "0       I love bolt. I don’t use uber often because on...\n",
       "1       So annoyed with this app!! Definitely the wors...\n",
       "2       I’ve been using bolt for a month now. I had a ...\n",
       "3       To make things clear, I am not a regular revie...\n",
       "4       I have used the app 3 or 4 times and I thought...\n",
       "                              ...                        \n",
       "3149    Зачем регестрироваться? Я просто хочу посмотре...\n",
       "3150                                                   :)\n",
       "3151    Слишком мало машин, иногда нет вообще, часто п...\n",
       "3152    1. samm: positsioneerime telefoni\\n2. samm: \"V...\n",
       "3153    Taxify's purpose was that you can CHOOSE your ...\n",
       "Name: review, Length: 3154, dtype: object"
      ]
     },
     "execution_count": 7,
     "metadata": {},
     "output_type": "execute_result"
    }
   ],
   "source": [
    "apple = df2.review.astype(str)\n",
    "apple = apple.reset_index(drop=True)\n",
    "apple"
   ]
  },
  {
   "cell_type": "code",
   "execution_count": null,
   "id": "second-waste",
   "metadata": {},
   "outputs": [],
   "source": []
  },
  {
   "cell_type": "markdown",
   "id": "unusual-circumstances",
   "metadata": {},
   "source": [
    "## Removing Stop Words"
   ]
  },
  {
   "cell_type": "code",
   "execution_count": 61,
   "id": "silent-organic",
   "metadata": {},
   "outputs": [
    {
     "data": {
      "text/plain": [
       "'I love bolt. I don’t use uber often because one ride even if it’s short is like £11. Whereas from my high street to my house is £3. Not only that but their drivers are SUPER friendly! I was sick one day (my first time using bolt) and the driver was so understanding and encouraged me throughout my journey. Bolt is 100% recommended by me. I don’t write reviews so that’s how you know I defiantly recommend it. My Instagram name is: TeeKezi if you wish to get in contact with me about bolt. I’m not an ambassador 😂 or anything like that. Just super happy with the service I have been receiving x'"
      ]
     },
     "execution_count": 61,
     "metadata": {},
     "output_type": "execute_result"
    }
   ],
   "source": [
    "doc = apple[0]\n",
    "doc"
   ]
  },
  {
   "cell_type": "code",
   "execution_count": 12,
   "id": "advised-resolution",
   "metadata": {},
   "outputs": [],
   "source": [
    "stop_words = stopwords.words('english')\n",
    "stop_words.extend(['bolt','taxify','uber','blablacar'])"
   ]
  },
  {
   "cell_type": "code",
   "execution_count": 17,
   "id": "least-bridge",
   "metadata": {},
   "outputs": [
    {
     "data": {
      "text/plain": [
       "['love',\n",
       " 'use',\n",
       " 'often',\n",
       " 'one',\n",
       " 'ride',\n",
       " 'even',\n",
       " 'short',\n",
       " 'like',\n",
       " 'whereas',\n",
       " 'high',\n",
       " 'street',\n",
       " 'house',\n",
       " 'drivers',\n",
       " 'super',\n",
       " 'friendly',\n",
       " 'sick',\n",
       " 'one',\n",
       " 'day',\n",
       " 'first',\n",
       " 'time',\n",
       " 'using',\n",
       " 'driver',\n",
       " 'understanding',\n",
       " 'encouraged',\n",
       " 'throughout',\n",
       " 'journey',\n",
       " 'recommended',\n",
       " 'write',\n",
       " 'reviews',\n",
       " 'know',\n",
       " 'defiantly',\n",
       " 'recommend',\n",
       " 'instagram',\n",
       " 'name',\n",
       " 'teekezi',\n",
       " 'wish',\n",
       " 'get',\n",
       " 'contact',\n",
       " 'ambassador',\n",
       " 'anything',\n",
       " 'like',\n",
       " 'super',\n",
       " 'happy',\n",
       " 'service',\n",
       " 'receiving']"
      ]
     },
     "execution_count": 17,
     "metadata": {},
     "output_type": "execute_result"
    }
   ],
   "source": [
    "[word for word in simple_preprocess(str(doc)) if word not in stop_words]"
   ]
  },
  {
   "cell_type": "markdown",
   "id": "bored-livestock",
   "metadata": {},
   "source": [
    "## Removing Punctuations"
   ]
  },
  {
   "cell_type": "code",
   "execution_count": 19,
   "id": "marked-mining",
   "metadata": {},
   "outputs": [
    {
     "data": {
      "text/plain": [
       "'I love bolt. I don’t use uber often because one ride even if it’s short is like £11. Whereas from my high street to my house is £3. Not only that but their drivers are SUPER friendly! I was sick one day (my first time using bolt) and the driver was so understanding and encouraged me throughout my journey. Bolt is 100% recommended by me. I don’t write reviews so that’s how you know I defiantly recommend it. My Instagram name is: TeeKezi if you wish to get in contact with me about bolt. I’m not an ambassador 😂 or anything like that. Just super happy with the service I have been receiving x'"
      ]
     },
     "execution_count": 19,
     "metadata": {},
     "output_type": "execute_result"
    }
   ],
   "source": [
    "doc = apple[0]\n",
    "doc"
   ]
  },
  {
   "cell_type": "code",
   "execution_count": 18,
   "id": "intelligent-device",
   "metadata": {},
   "outputs": [
    {
     "data": {
      "text/plain": [
       "'I love bolt  I don’t use uber often because one ride even if it’s short is like £11  Whereas from my high street to my house is £3  Not only that but their drivers are SUPER friendly  I was sick one day  my first time using bolt  and the driver was so understanding and encouraged me throughout my journey  Bolt is 100  recommended by me  I don’t write reviews so that’s how you know I defiantly recommend it  My Instagram name is  TeeKezi if you wish to get in contact with me about bolt  I’m not an ambassador 😂 or anything like that  Just super happy with the service I have been receiving x'"
      ]
     },
     "execution_count": 18,
     "metadata": {},
     "output_type": "execute_result"
    }
   ],
   "source": [
    "re.sub('[%s]' % re.escape(string.punctuation), ' ', doc)"
   ]
  },
  {
   "cell_type": "code",
   "execution_count": null,
   "id": "loaded-guyana",
   "metadata": {},
   "outputs": [],
   "source": []
  },
  {
   "cell_type": "markdown",
   "id": "bacterial-writer",
   "metadata": {},
   "source": [
    "## Stemming The Words"
   ]
  },
  {
   "cell_type": "code",
   "execution_count": 20,
   "id": "arabic-firmware",
   "metadata": {},
   "outputs": [],
   "source": [
    "from nltk.stem import PorterStemmer\n",
    "from nltk.tokenize import word_tokenize"
   ]
  },
  {
   "cell_type": "code",
   "execution_count": 21,
   "id": "veterinary-syndication",
   "metadata": {},
   "outputs": [],
   "source": [
    "stemming = PorterStemmer()"
   ]
  },
  {
   "cell_type": "code",
   "execution_count": 25,
   "id": "persistent-mailing",
   "metadata": {},
   "outputs": [],
   "source": [
    "list_of_words = [word for word in simple_preprocess(str(doc)) if word not in stop_words]"
   ]
  },
  {
   "cell_type": "code",
   "execution_count": 26,
   "id": "relevant-transportation",
   "metadata": {},
   "outputs": [
    {
     "name": "stdout",
     "output_type": "stream",
     "text": [
      "love  :  love\n",
      "use  :  use\n",
      "often  :  often\n",
      "one  :  one\n",
      "ride  :  ride\n",
      "even  :  even\n",
      "short  :  short\n",
      "like  :  like\n",
      "whereas  :  wherea\n",
      "high  :  high\n",
      "street  :  street\n",
      "house  :  hous\n",
      "drivers  :  driver\n",
      "super  :  super\n",
      "friendly  :  friendli\n",
      "sick  :  sick\n",
      "one  :  one\n",
      "day  :  day\n",
      "first  :  first\n",
      "time  :  time\n",
      "using  :  use\n",
      "driver  :  driver\n",
      "understanding  :  understand\n",
      "encouraged  :  encourag\n",
      "throughout  :  throughout\n",
      "journey  :  journey\n",
      "recommended  :  recommend\n",
      "write  :  write\n",
      "reviews  :  review\n",
      "know  :  know\n",
      "defiantly  :  defiantli\n",
      "recommend  :  recommend\n",
      "instagram  :  instagram\n",
      "name  :  name\n",
      "teekezi  :  teekezi\n",
      "wish  :  wish\n",
      "get  :  get\n",
      "contact  :  contact\n",
      "ambassador  :  ambassador\n",
      "anything  :  anyth\n",
      "like  :  like\n",
      "super  :  super\n",
      "happy  :  happi\n",
      "service  :  servic\n",
      "receiving  :  receiv\n"
     ]
    }
   ],
   "source": [
    "for x in list_of_words:\n",
    "    print(x, ' : ', stemming.stem(x))"
   ]
  },
  {
   "cell_type": "markdown",
   "id": "virtual-pulse",
   "metadata": {},
   "source": [
    "## Lemmatization"
   ]
  },
  {
   "cell_type": "markdown",
   "id": "received-depression",
   "metadata": {},
   "source": [
    "### Using NLTK"
   ]
  },
  {
   "cell_type": "code",
   "execution_count": 28,
   "id": "lined-compromise",
   "metadata": {},
   "outputs": [
    {
     "name": "stderr",
     "output_type": "stream",
     "text": [
      "[nltk_data] Downloading package wordnet to\n",
      "[nltk_data]     C:\\Users\\enlik\\AppData\\Roaming\\nltk_data...\n",
      "[nltk_data]   Package wordnet is already up-to-date!\n"
     ]
    }
   ],
   "source": [
    "import nltk\n",
    "nltk.download('wordnet')\n",
    "from nltk.stem import WordNetLemmatizer"
   ]
  },
  {
   "cell_type": "code",
   "execution_count": 29,
   "id": "starting-feeding",
   "metadata": {},
   "outputs": [],
   "source": [
    "lemmatizer = WordNetLemmatizer()"
   ]
  },
  {
   "cell_type": "code",
   "execution_count": 30,
   "id": "current-senate",
   "metadata": {},
   "outputs": [],
   "source": [
    "list_of_words = [word for word in simple_preprocess(str(doc)) if word not in stop_words]"
   ]
  },
  {
   "cell_type": "code",
   "execution_count": 32,
   "id": "satisfied-forge",
   "metadata": {},
   "outputs": [
    {
     "name": "stdout",
     "output_type": "stream",
     "text": [
      "love  :  love\n",
      "use  :  use\n",
      "often  :  often\n",
      "one  :  one\n",
      "ride  :  ride\n",
      "even  :  even\n",
      "short  :  short\n",
      "like  :  like\n",
      "whereas  :  whereas\n",
      "high  :  high\n",
      "street  :  street\n",
      "house  :  house\n",
      "drivers  :  driver\n",
      "super  :  super\n",
      "friendly  :  friendly\n",
      "sick  :  sick\n",
      "one  :  one\n",
      "day  :  day\n",
      "first  :  first\n",
      "time  :  time\n",
      "using  :  using\n",
      "driver  :  driver\n",
      "understanding  :  understanding\n",
      "encouraged  :  encouraged\n",
      "throughout  :  throughout\n",
      "journey  :  journey\n",
      "recommended  :  recommended\n",
      "write  :  write\n",
      "reviews  :  review\n",
      "know  :  know\n",
      "defiantly  :  defiantly\n",
      "recommend  :  recommend\n",
      "instagram  :  instagram\n",
      "name  :  name\n",
      "teekezi  :  teekezi\n",
      "wish  :  wish\n",
      "get  :  get\n",
      "contact  :  contact\n",
      "ambassador  :  ambassador\n",
      "anything  :  anything\n",
      "like  :  like\n",
      "super  :  super\n",
      "happy  :  happy\n",
      "service  :  service\n",
      "receiving  :  receiving\n"
     ]
    }
   ],
   "source": [
    "for x in list_of_words:\n",
    "    print(x, ' : ', lemmatizer.lemmatize(x))"
   ]
  },
  {
   "cell_type": "markdown",
   "id": "beneficial-buying",
   "metadata": {},
   "source": [
    "### Using Spacy"
   ]
  },
  {
   "cell_type": "code",
   "execution_count": 62,
   "id": "incorporate-scenario",
   "metadata": {},
   "outputs": [
    {
     "data": {
      "text/plain": [
       "'I love bolt. I don’t use uber often because one ride even if it’s short is like £11. Whereas from my high street to my house is £3. Not only that but their drivers are SUPER friendly! I was sick one day (my first time using bolt) and the driver was so understanding and encouraged me throughout my journey. Bolt is 100% recommended by me. I don’t write reviews so that’s how you know I defiantly recommend it. My Instagram name is: TeeKezi if you wish to get in contact with me about bolt. I’m not an ambassador 😂 or anything like that. Just super happy with the service I have been receiving x'"
      ]
     },
     "execution_count": 62,
     "metadata": {},
     "output_type": "execute_result"
    }
   ],
   "source": [
    "doc"
   ]
  },
  {
   "cell_type": "code",
   "execution_count": 64,
   "id": "addressed-material",
   "metadata": {},
   "outputs": [
    {
     "name": "stdout",
     "output_type": "stream",
     "text": [
      "-PRON- love bolt . -PRON- do not use uber often because one ride even if -PRON- ’ short be like £ 11 . whereas from -PRON- high street to -PRON- house be £ 3 . not only that but -PRON- driver be super friendly ! -PRON- be sick one day ( -PRON- first time use bolt ) and the driver be so understanding and encourage -PRON- throughout -PRON- journey . Bolt be 100 % recommend by -PRON- . -PRON- do not write review so that ’ how -PRON- know -PRON- defiantly recommend -PRON- . -PRON- Instagram name be : TeeKezi if -PRON- wish to get in contact with -PRON- about bolt . -PRON- be not an ambassador 😂 or anything like that . just super happy with the service -PRON- have be receive x\n"
     ]
    }
   ],
   "source": [
    "import spacy\n",
    "\n",
    "sp = spacy.load('en_core_web_sm', disable=['parser', 'ner'])\n",
    "# spacy_doc = sp('testing the best game ever that I ever played')\n",
    "spacy_doc = sp(doc)\n",
    "print (\" \".join([token.lemma_ for token in spacy_doc]))"
   ]
  },
  {
   "cell_type": "code",
   "execution_count": 65,
   "id": "verified-amateur",
   "metadata": {},
   "outputs": [
    {
     "name": "stdout",
     "output_type": "stream",
     "text": [
      "do display word\n"
     ]
    }
   ],
   "source": [
    "nlp = spacy.load('en_core_web_sm', disable=['parser', 'ner'])\n",
    "test_doc = nlp('did displaying words')\n",
    "print (\" \".join([token.lemma_ for token in test_doc]))"
   ]
  },
  {
   "cell_type": "markdown",
   "id": "atlantic-plumbing",
   "metadata": {},
   "source": [
    "## Building Corpus using gensim"
   ]
  },
  {
   "cell_type": "markdown",
   "id": "careful-adams",
   "metadata": {},
   "source": [
    "### Using utils.py"
   ]
  },
  {
   "cell_type": "code",
   "execution_count": 68,
   "id": "thrown-china",
   "metadata": {},
   "outputs": [],
   "source": [
    "import gensim\n",
    "from gensim import corpora"
   ]
  },
  {
   "cell_type": "code",
   "execution_count": 66,
   "id": "particular-nation",
   "metadata": {},
   "outputs": [
    {
     "name": "stdout",
     "output_type": "stream",
     "text": [
      "Making bigrams...\n",
      "Lemmatizing...\n"
     ]
    }
   ],
   "source": [
    "cleaned_docs = remove_things(apple)\n",
    "lists_of_words = list(sentences_to_words(cleaned_docs))\n",
    "lists_of_words_no_stops = remove_stopwords(lists_of_words)\n",
    "ngrams = make_bigrams(lists_of_words_no_stops)\n",
    "data_lemmatized = lemmatize(ngrams, allowed_postags=['NOUN'])"
   ]
  },
  {
   "cell_type": "code",
   "execution_count": 67,
   "id": "respiratory-vault",
   "metadata": {},
   "outputs": [
    {
     "name": "stdout",
     "output_type": "stream",
     "text": [
      "[[(0, 1), (1, 1), (2, 1), (3, 2), (4, 1), (5, 1), (6, 1), (7, 1), (8, 1), (9, 1), (10, 1)]]\n"
     ]
    }
   ],
   "source": [
    "# Create Dictionary\n",
    "id2word = corpora.Dictionary(data_lemmatized)\n",
    "\n",
    "# Create Corpus\n",
    "corpus  = [id2word.doc2bow(text) for text in data_lemmatized]\n",
    "\n",
    "# View\n",
    "print(corpus[:1])"
   ]
  },
  {
   "cell_type": "code",
   "execution_count": 70,
   "id": "educational-input",
   "metadata": {},
   "outputs": [
    {
     "data": {
      "text/plain": [
       "[[('ambassador', 1),\n",
       "  ('contact', 1),\n",
       "  ('day', 1),\n",
       "  ('driver', 2),\n",
       "  ('journey', 1),\n",
       "  ('love', 1),\n",
       "  ('review', 1),\n",
       "  ('ride', 1),\n",
       "  ('understanding', 1),\n",
       "  ('use', 1),\n",
       "  ('write', 1)]]"
      ]
     },
     "execution_count": 70,
     "metadata": {},
     "output_type": "execute_result"
    }
   ],
   "source": [
    "[[(id2word[id], freq) for id, freq in cp] for cp in corpus[:1]]"
   ]
  },
  {
   "cell_type": "markdown",
   "id": "mature-speaker",
   "metadata": {},
   "source": [
    "### Creating Dictionary using Gensim"
   ]
  },
  {
   "cell_type": "code",
   "execution_count": 71,
   "id": "pregnant-hughes",
   "metadata": {},
   "outputs": [],
   "source": [
    "import gensim\n",
    "from gensim import corpora\n",
    "from pprint import pprint"
   ]
  },
  {
   "cell_type": "code",
   "execution_count": 78,
   "id": "viral-warren",
   "metadata": {},
   "outputs": [
    {
     "data": {
      "text/plain": [
       "[['CNTK', 'formerly', 'known', 'as', 'Computational', 'Network', 'Toolkit'],\n",
       " ['is',\n",
       "  'a',\n",
       "  'free',\n",
       "  'easy-to-use',\n",
       "  'open-source',\n",
       "  'commercial-grade',\n",
       "  'toolkit'],\n",
       " ['that',\n",
       "  'enable',\n",
       "  'us',\n",
       "  'to',\n",
       "  'train',\n",
       "  'deep',\n",
       "  'learning',\n",
       "  'algorithms',\n",
       "  'to',\n",
       "  'learn',\n",
       "  'like',\n",
       "  'the',\n",
       "  'human',\n",
       "  'brain.']]"
      ]
     },
     "execution_count": 78,
     "metadata": {},
     "output_type": "execute_result"
    }
   ],
   "source": [
    "doc = [\n",
    "   \"CNTK formerly known as Computational Network Toolkit\",\n",
    "   \"is a free easy-to-use open-source commercial-grade toolkit\",\n",
    "   \"that enable us to train deep learning algorithms to learn like the human brain.\"\n",
    "]\n",
    "\n",
    "text_tokens = [[text for text in doc.split()] for doc in doc]\n",
    "text_tokens"
   ]
  },
  {
   "cell_type": "code",
   "execution_count": 75,
   "id": "sudden-consequence",
   "metadata": {},
   "outputs": [
    {
     "name": "stdout",
     "output_type": "stream",
     "text": [
      "Dictionary(27 unique tokens: ['CNTK', 'Computational', 'Network', 'Toolkit', 'as']...)\n"
     ]
    }
   ],
   "source": [
    "dict_LoS = corpora.Dictionary(text_tokens)\n",
    "print(dict_LoS)"
   ]
  },
  {
   "cell_type": "code",
   "execution_count": 77,
   "id": "plastic-matrix",
   "metadata": {},
   "outputs": [
    {
     "name": "stdout",
     "output_type": "stream",
     "text": [
      "{'CNTK': 0, 'Computational': 1, 'Network': 2, 'Toolkit': 3, 'as': 4, 'formerly': 5, 'known': 6, 'a': 7, 'commercial-grade': 8, 'easy-to-use': 9, 'free': 10, 'is': 11, 'open-source': 12, 'toolkit': 13, 'algorithms': 14, 'brain.': 15, 'deep': 16, 'enable': 17, 'human': 18, 'learn': 19, 'learning': 20, 'like': 21, 'that': 22, 'the': 23, 'to': 24, 'train': 25, 'us': 26}\n"
     ]
    }
   ],
   "source": [
    "print(dict_LoS.token2id)"
   ]
  },
  {
   "cell_type": "markdown",
   "id": "hawaiian-surge",
   "metadata": {},
   "source": [
    "### Creating BoW Corpus"
   ]
  },
  {
   "cell_type": "code",
   "execution_count": 80,
   "id": "ranging-phoenix",
   "metadata": {},
   "outputs": [
    {
     "name": "stdout",
     "output_type": "stream",
     "text": [
      "[[(0, 1), (1, 1), (2, 1), (3, 1)], [(2, 1), (3, 1), (4, 2)], [(0, 2), (3, 3), (5, 2), (6, 1), (7, 2), (8, 1)]]\n",
      "[[('are', 1), ('hello', 1), ('how', 1), ('you', 1)], [('how', 1), ('you', 1), ('do', 2)], [('are', 2), ('you', 3), ('doing', 2), ('hey', 1), ('what', 2), ('yes', 1)]]\n"
     ]
    }
   ],
   "source": [
    "import gensim\n",
    "import pprint\n",
    "from gensim import corpora\n",
    "from gensim.utils import simple_preprocess\n",
    "doc_list = [\n",
    "   \"Hello, how are you?\", \"How do you do?\", \n",
    "   \"Hey what are you doing? yes you What are you doing?\"\n",
    "]\n",
    "doc_tokenized = [simple_preprocess(doc) for doc in doc_list]\n",
    "dictionary = corpora.Dictionary()\n",
    "BoW_corpus = [dictionary.doc2bow(doc, allow_update=True) for doc in doc_tokenized]\n",
    "print(BoW_corpus)\n",
    "id_words = [[(dictionary[id], count) for id, count in line] for line in BoW_corpus]\n",
    "print(id_words)"
   ]
  },
  {
   "cell_type": "markdown",
   "id": "hollywood-expression",
   "metadata": {},
   "source": [
    "### (Optional) Get the TF-IDF Corpus Form"
   ]
  },
  {
   "cell_type": "code",
   "execution_count": 86,
   "id": "solar-unemployment",
   "metadata": {},
   "outputs": [
    {
     "data": {
      "text/plain": [
       "[[(0, 1), (1, 1), (2, 1), (3, 1)],\n",
       " [(2, 1), (3, 1), (4, 2)],\n",
       " [(0, 2), (3, 3), (5, 2), (6, 1), (7, 2), (8, 1)]]"
      ]
     },
     "execution_count": 86,
     "metadata": {},
     "output_type": "execute_result"
    }
   ],
   "source": [
    "BoW_corpus"
   ]
  },
  {
   "cell_type": "code",
   "execution_count": 87,
   "id": "electoral-singapore",
   "metadata": {},
   "outputs": [],
   "source": [
    "tfidf = gensim.models.TfidfModel(BoW_corpus)\n",
    "corpus_tfidf = tfidf[BoW_corpus]"
   ]
  },
  {
   "cell_type": "code",
   "execution_count": 91,
   "id": "unexpected-introduction",
   "metadata": {},
   "outputs": [],
   "source": [
    "lda_model = gensim.models.LdaMulticore(BoW_corpus, \n",
    "                                       num_topics=10, \n",
    "                                       id2word = id2word, \n",
    "                                       passes = 2, \n",
    "                                       workers=2)\n"
   ]
  },
  {
   "cell_type": "code",
   "execution_count": 92,
   "id": "growing-strain",
   "metadata": {},
   "outputs": [
    {
     "name": "stdout",
     "output_type": "stream",
     "text": [
      "Topic: 0 \n",
      "Words: 0.000*\"driver\" + 0.000*\"ambassador\" + 0.000*\"journey\" + 0.000*\"day\" + 0.000*\"love\" + 0.000*\"contact\" + 0.000*\"ride\" + 0.000*\"review\" + 0.000*\"understanding\" + 0.000*\"equation\"\n",
      "Topic: 1 \n",
      "Words: 0.000*\"journey\" + 0.000*\"driver\" + 0.000*\"day\" + 0.000*\"ambassador\" + 0.000*\"contact\" + 0.000*\"love\" + 0.000*\"ride\" + 0.000*\"review\" + 0.000*\"understanding\" + 0.000*\"equation\"\n",
      "Topic: 2 \n",
      "Words: 0.000*\"driver\" + 0.000*\"ambassador\" + 0.000*\"journey\" + 0.000*\"day\" + 0.000*\"contact\" + 0.000*\"love\" + 0.000*\"ride\" + 0.000*\"review\" + 0.000*\"understanding\" + 0.000*\"equation\"\n",
      "Topic: 3 \n",
      "Words: 0.000*\"driver\" + 0.000*\"journey\" + 0.000*\"ambassador\" + 0.000*\"day\" + 0.000*\"contact\" + 0.000*\"love\" + 0.000*\"ride\" + 0.000*\"review\" + 0.000*\"understanding\" + 0.000*\"equation\"\n",
      "Topic: 4 \n",
      "Words: 0.007*\"driver\" + 0.007*\"day\" + 0.007*\"journey\" + 0.004*\"contact\" + 0.004*\"ambassador\" + 0.000*\"love\" + 0.000*\"ride\" + 0.000*\"review\" + 0.000*\"understanding\" + 0.000*\"equation\"\n",
      "Topic: 5 \n",
      "Words: 0.000*\"driver\" + 0.000*\"day\" + 0.000*\"journey\" + 0.000*\"ambassador\" + 0.000*\"contact\" + 0.000*\"love\" + 0.000*\"ride\" + 0.000*\"review\" + 0.000*\"understanding\" + 0.000*\"equation\"\n",
      "Topic: 6 \n",
      "Words: 0.000*\"driver\" + 0.000*\"day\" + 0.000*\"journey\" + 0.000*\"ambassador\" + 0.000*\"contact\" + 0.000*\"love\" + 0.000*\"ride\" + 0.000*\"review\" + 0.000*\"understanding\" + 0.000*\"equation\"\n",
      "Topic: 7 \n",
      "Words: 0.000*\"driver\" + 0.000*\"journey\" + 0.000*\"day\" + 0.000*\"ambassador\" + 0.000*\"contact\" + 0.000*\"love\" + 0.000*\"ride\" + 0.000*\"review\" + 0.000*\"understanding\" + 0.000*\"equation\"\n",
      "Topic: 8 \n",
      "Words: 0.010*\"driver\" + 0.007*\"ride\" + 0.007*\"love\" + 0.007*\"ambassador\" + 0.004*\"understanding\" + 0.004*\"review\" + 0.000*\"journey\" + 0.000*\"day\" + 0.000*\"contact\" + 0.000*\"facture_et\"\n",
      "Topic: 9 \n",
      "Words: 0.000*\"driver\" + 0.000*\"journey\" + 0.000*\"day\" + 0.000*\"ambassador\" + 0.000*\"love\" + 0.000*\"contact\" + 0.000*\"ride\" + 0.000*\"review\" + 0.000*\"understanding\" + 0.000*\"equation\"\n"
     ]
    }
   ],
   "source": [
    "for idx, topic in lda_model.print_topics():\n",
    "    print('Topic: {} \\nWords: {}'.format(idx, topic))"
   ]
  },
  {
   "cell_type": "markdown",
   "id": "convinced-badge",
   "metadata": {},
   "source": [
    "### Example from https://github.com/fiyero/LDA_gensim/blob/master/LDA%20with%20Gensim_git.ipynb"
   ]
  },
  {
   "cell_type": "code",
   "execution_count": 96,
   "id": "verified-heater",
   "metadata": {},
   "outputs": [
    {
     "data": {
      "text/html": [
       "<div>\n",
       "<style scoped>\n",
       "    .dataframe tbody tr th:only-of-type {\n",
       "        vertical-align: middle;\n",
       "    }\n",
       "\n",
       "    .dataframe tbody tr th {\n",
       "        vertical-align: top;\n",
       "    }\n",
       "\n",
       "    .dataframe thead th {\n",
       "        text-align: right;\n",
       "    }\n",
       "</style>\n",
       "<table border=\"1\" class=\"dataframe\">\n",
       "  <thead>\n",
       "    <tr style=\"text-align: right;\">\n",
       "      <th></th>\n",
       "      <th>publish_date</th>\n",
       "      <th>headline_text</th>\n",
       "    </tr>\n",
       "  </thead>\n",
       "  <tbody>\n",
       "    <tr>\n",
       "      <th>0</th>\n",
       "      <td>20030219</td>\n",
       "      <td>aba decides against community broadcasting lic...</td>\n",
       "    </tr>\n",
       "    <tr>\n",
       "      <th>1</th>\n",
       "      <td>20030219</td>\n",
       "      <td>act fire witnesses must be aware of defamation</td>\n",
       "    </tr>\n",
       "    <tr>\n",
       "      <th>2</th>\n",
       "      <td>20030219</td>\n",
       "      <td>a g calls for infrastructure protection summit</td>\n",
       "    </tr>\n",
       "    <tr>\n",
       "      <th>3</th>\n",
       "      <td>20030219</td>\n",
       "      <td>air nz staff in aust strike for pay rise</td>\n",
       "    </tr>\n",
       "    <tr>\n",
       "      <th>4</th>\n",
       "      <td>20030219</td>\n",
       "      <td>air nz strike to affect australian travellers</td>\n",
       "    </tr>\n",
       "  </tbody>\n",
       "</table>\n",
       "</div>"
      ],
      "text/plain": [
       "   publish_date                                      headline_text\n",
       "0      20030219  aba decides against community broadcasting lic...\n",
       "1      20030219     act fire witnesses must be aware of defamation\n",
       "2      20030219     a g calls for infrastructure protection summit\n",
       "3      20030219           air nz staff in aust strike for pay rise\n",
       "4      20030219      air nz strike to affect australian travellers"
      ]
     },
     "execution_count": 96,
     "metadata": {},
     "output_type": "execute_result"
    }
   ],
   "source": [
    "import pandas as pd\n",
    "data = pd.read_csv('datasets/abcnews-date-text.csv', error_bad_lines=False)\n",
    "\n",
    "data.head()"
   ]
  },
  {
   "cell_type": "code",
   "execution_count": 102,
   "id": "solar-mirror",
   "metadata": {},
   "outputs": [
    {
     "data": {
      "text/html": [
       "<div>\n",
       "<style scoped>\n",
       "    .dataframe tbody tr th:only-of-type {\n",
       "        vertical-align: middle;\n",
       "    }\n",
       "\n",
       "    .dataframe tbody tr th {\n",
       "        vertical-align: top;\n",
       "    }\n",
       "\n",
       "    .dataframe thead th {\n",
       "        text-align: right;\n",
       "    }\n",
       "</style>\n",
       "<table border=\"1\" class=\"dataframe\">\n",
       "  <thead>\n",
       "    <tr style=\"text-align: right;\">\n",
       "      <th></th>\n",
       "      <th>headline_text</th>\n",
       "    </tr>\n",
       "  </thead>\n",
       "  <tbody>\n",
       "    <tr>\n",
       "      <th>0</th>\n",
       "      <td>aba decides against community broadcasting lic...</td>\n",
       "    </tr>\n",
       "    <tr>\n",
       "      <th>1</th>\n",
       "      <td>act fire witnesses must be aware of defamation</td>\n",
       "    </tr>\n",
       "    <tr>\n",
       "      <th>2</th>\n",
       "      <td>a g calls for infrastructure protection summit</td>\n",
       "    </tr>\n",
       "    <tr>\n",
       "      <th>3</th>\n",
       "      <td>air nz staff in aust strike for pay rise</td>\n",
       "    </tr>\n",
       "    <tr>\n",
       "      <th>4</th>\n",
       "      <td>air nz strike to affect australian travellers</td>\n",
       "    </tr>\n",
       "  </tbody>\n",
       "</table>\n",
       "</div>"
      ],
      "text/plain": [
       "                                       headline_text\n",
       "0  aba decides against community broadcasting lic...\n",
       "1     act fire witnesses must be aware of defamation\n",
       "2     a g calls for infrastructure protection summit\n",
       "3           air nz staff in aust strike for pay rise\n",
       "4      air nz strike to affect australian travellers"
      ]
     },
     "execution_count": 102,
     "metadata": {},
     "output_type": "execute_result"
    }
   ],
   "source": [
    "data_text = data[:300000][['headline_text']]\n",
    "\n",
    "data_text.head()"
   ]
  },
  {
   "cell_type": "code",
   "execution_count": 103,
   "id": "appreciated-crystal",
   "metadata": {},
   "outputs": [
    {
     "data": {
      "text/html": [
       "<div>\n",
       "<style scoped>\n",
       "    .dataframe tbody tr th:only-of-type {\n",
       "        vertical-align: middle;\n",
       "    }\n",
       "\n",
       "    .dataframe tbody tr th {\n",
       "        vertical-align: top;\n",
       "    }\n",
       "\n",
       "    .dataframe thead th {\n",
       "        text-align: right;\n",
       "    }\n",
       "</style>\n",
       "<table border=\"1\" class=\"dataframe\">\n",
       "  <thead>\n",
       "    <tr style=\"text-align: right;\">\n",
       "      <th></th>\n",
       "      <th>headline_text</th>\n",
       "      <th>index</th>\n",
       "    </tr>\n",
       "  </thead>\n",
       "  <tbody>\n",
       "    <tr>\n",
       "      <th>0</th>\n",
       "      <td>aba decides against community broadcasting lic...</td>\n",
       "      <td>0</td>\n",
       "    </tr>\n",
       "    <tr>\n",
       "      <th>1</th>\n",
       "      <td>act fire witnesses must be aware of defamation</td>\n",
       "      <td>1</td>\n",
       "    </tr>\n",
       "    <tr>\n",
       "      <th>2</th>\n",
       "      <td>a g calls for infrastructure protection summit</td>\n",
       "      <td>2</td>\n",
       "    </tr>\n",
       "    <tr>\n",
       "      <th>3</th>\n",
       "      <td>air nz staff in aust strike for pay rise</td>\n",
       "      <td>3</td>\n",
       "    </tr>\n",
       "    <tr>\n",
       "      <th>4</th>\n",
       "      <td>air nz strike to affect australian travellers</td>\n",
       "      <td>4</td>\n",
       "    </tr>\n",
       "  </tbody>\n",
       "</table>\n",
       "</div>"
      ],
      "text/plain": [
       "                                       headline_text  index\n",
       "0  aba decides against community broadcasting lic...      0\n",
       "1     act fire witnesses must be aware of defamation      1\n",
       "2     a g calls for infrastructure protection summit      2\n",
       "3           air nz staff in aust strike for pay rise      3\n",
       "4      air nz strike to affect australian travellers      4"
      ]
     },
     "execution_count": 103,
     "metadata": {},
     "output_type": "execute_result"
    }
   ],
   "source": [
    "data_text['index'] = data_text.index\n",
    "\n",
    "documents = data_text\n",
    "documents.head()"
   ]
  },
  {
   "cell_type": "code",
   "execution_count": 110,
   "id": "medical-christopher",
   "metadata": {},
   "outputs": [
    {
     "name": "stderr",
     "output_type": "stream",
     "text": [
      "[nltk_data] Downloading package wordnet to\n",
      "[nltk_data]     C:\\Users\\enlik\\AppData\\Roaming\\nltk_data...\n",
      "[nltk_data]   Package wordnet is already up-to-date!\n"
     ]
    }
   ],
   "source": [
    "import gensim\n",
    "from gensim.utils import simple_preprocess\n",
    "from nltk.corpus import stopwords\n",
    "from nltk.stem.porter import *\n",
    "import numpy as np\n",
    "\n",
    "import nltk\n",
    "nltk.download('wordnet')\n",
    "\n",
    "stemmer = PorterStemmer()"
   ]
  },
  {
   "cell_type": "code",
   "execution_count": 111,
   "id": "black-blood",
   "metadata": {},
   "outputs": [],
   "source": [
    "def lemmatize_stemming(text):\n",
    "    return stemmer.stem(WordNetLemmatizer().lemmatize(text, pos='v'))\n",
    "\n",
    "def preprocess(text):\n",
    "    result=[]\n",
    "    for token in gensim.utils.simple_preprocess(text) :\n",
    "        if token not in stopwords.words('english') and len(token) > 3:\n",
    "            result.append(lemmatize_stemming(token))\n",
    "    return result\n"
   ]
  },
  {
   "cell_type": "code",
   "execution_count": 112,
   "id": "injured-heather",
   "metadata": {},
   "outputs": [
    {
     "name": "stdout",
     "output_type": "stream",
     "text": [
      "Original document: \n",
      "['ratepayers', 'group', 'wants', 'compulsory', 'local', 'govt', 'voting']\n",
      "\n",
      "\n",
      "Tokenized and lemmatized document: \n",
      "['ratepay', 'group', 'want', 'compulsori', 'local', 'govt', 'vote']\n"
     ]
    }
   ],
   "source": [
    "document_num = 4310\n",
    "doc_sample = documents[documents['index'] == document_num].values[0][0]\n",
    "\n",
    "print(\"Original document: \")\n",
    "words = []\n",
    "for word in doc_sample.split(' '):\n",
    "    words.append(word)\n",
    "print(words)\n",
    "print(\"\\n\\nTokenized and lemmatized document: \")\n",
    "print(preprocess(doc_sample))\n"
   ]
  },
  {
   "cell_type": "code",
   "execution_count": 113,
   "id": "changing-rebecca",
   "metadata": {},
   "outputs": [
    {
     "data": {
      "text/plain": [
       "0                   [decid, commun, broadcast, licenc]\n",
       "1                       [fire, wit, must, awar, defam]\n",
       "2               [call, infrastructur, protect, summit]\n",
       "3                          [staff, aust, strike, rise]\n",
       "4                 [strike, affect, australian, travel]\n",
       "5                   [ambiti, olsson, win, tripl, jump]\n",
       "6               [antic, delight, record, break, barca]\n",
       "7    [aussi, qualifi, stosur, wast, four, memphi, m...\n",
       "8                [aust, address, secur, council, iraq]\n",
       "9                             [australia, lock, timet]\n",
       "Name: headline_text, dtype: object"
      ]
     },
     "execution_count": 113,
     "metadata": {},
     "output_type": "execute_result"
    }
   ],
   "source": [
    "processed_docs = documents['headline_text'].map(preprocess)\n",
    "processed_docs[:10]"
   ]
  },
  {
   "cell_type": "code",
   "execution_count": 114,
   "id": "liable-avenue",
   "metadata": {},
   "outputs": [
    {
     "name": "stdout",
     "output_type": "stream",
     "text": [
      "0 broadcast\n",
      "1 commun\n",
      "2 decid\n",
      "3 licenc\n",
      "4 awar\n",
      "5 defam\n",
      "6 fire\n",
      "7 must\n",
      "8 wit\n",
      "9 call\n",
      "10 infrastructur\n"
     ]
    }
   ],
   "source": [
    "dictionary = gensim.corpora.Dictionary(processed_docs)\n",
    "count = 0\n",
    "for k, v in dictionary.items():\n",
    "    print(k, v)\n",
    "    count += 1\n",
    "    if count > 10:\n",
    "        break\n"
   ]
  },
  {
   "cell_type": "code",
   "execution_count": 115,
   "id": "difficult-cedar",
   "metadata": {},
   "outputs": [],
   "source": [
    "dictionary.filter_extremes(no_below=15, no_above=0.1, keep_n=100000)\n"
   ]
  },
  {
   "cell_type": "code",
   "execution_count": 116,
   "id": "talented-security",
   "metadata": {},
   "outputs": [
    {
     "name": "stdout",
     "output_type": "stream",
     "text": [
      "Word 159 (\"govt\") appears 1 time.\n",
      "Word 238 (\"group\") appears 1 time.\n",
      "Word 287 (\"vote\") appears 1 time.\n",
      "Word 578 (\"local\") appears 1 time.\n",
      "Word 827 (\"want\") appears 1 time.\n",
      "Word 3230 (\"compulsori\") appears 1 time.\n",
      "Word 3231 (\"ratepay\") appears 1 time.\n"
     ]
    }
   ],
   "source": [
    "bow_corpus = [dictionary.doc2bow(doc) for doc in processed_docs]\n",
    "bow_doc_4310 = bow_corpus[document_num]\n",
    "\n",
    "for i in range(len(bow_doc_4310)):\n",
    "    print(\"Word {} (\\\"{}\\\") appears {} time.\".format(bow_doc_4310[i][0], \n",
    "                                                     dictionary[bow_doc_4310[i][0]], \n",
    "                                                     bow_doc_4310[i][1]))\n"
   ]
  },
  {
   "cell_type": "code",
   "execution_count": 118,
   "id": "later-building",
   "metadata": {},
   "outputs": [],
   "source": [
    "tfidf = gensim.models.TfidfModel(bow_corpus)\n",
    "corpus_tfidf = tfidf[bow_corpus]"
   ]
  },
  {
   "cell_type": "code",
   "execution_count": 119,
   "id": "neither-scientist",
   "metadata": {},
   "outputs": [
    {
     "name": "stdout",
     "output_type": "stream",
     "text": [
      "[(0, 0.5971141346931055), (1, 0.3879165862525364), (2, 0.4862366442503009), (3, 0.5065070167807045)]\n"
     ]
    }
   ],
   "source": [
    "for doc in corpus_tfidf:\n",
    "    print(doc)\n",
    "    break"
   ]
  },
  {
   "cell_type": "code",
   "execution_count": 120,
   "id": "moved-cancellation",
   "metadata": {},
   "outputs": [],
   "source": [
    "lda_model = gensim.models.LdaMulticore(bow_corpus, \n",
    "                                       num_topics=10, \n",
    "                                       id2word = dictionary, \n",
    "                                       passes = 2, \n",
    "                                       workers=2)"
   ]
  },
  {
   "cell_type": "code",
   "execution_count": 121,
   "id": "residential-citizenship",
   "metadata": {},
   "outputs": [
    {
     "name": "stdout",
     "output_type": "stream",
     "text": [
      "Topic: 0 \n",
      "Words: 0.025*\"closer\" + 0.023*\"power\" + 0.018*\"deal\" + 0.018*\"rule\" + 0.013*\"blaze\" + 0.013*\"firefight\" + 0.012*\"compani\" + 0.012*\"suspect\" + 0.011*\"move\" + 0.011*\"blue\"\n",
      "\n",
      "\n",
      "Topic: 1 \n",
      "Words: 0.024*\"help\" + 0.021*\"fire\" + 0.013*\"break\" + 0.013*\"north\" + 0.012*\"rain\" + 0.012*\"drought\" + 0.011*\"protest\" + 0.011*\"polic\" + 0.010*\"storm\" + 0.010*\"hous\"\n",
      "\n",
      "\n",
      "Topic: 2 \n",
      "Words: 0.030*\"warn\" + 0.023*\"road\" + 0.022*\"concern\" + 0.022*\"crash\" + 0.018*\"fear\" + 0.017*\"death\" + 0.017*\"australia\" + 0.016*\"polic\" + 0.016*\"driver\" + 0.015*\"play\"\n",
      "\n",
      "\n",
      "Topic: 3 \n",
      "Words: 0.022*\"boost\" + 0.019*\"chang\" + 0.017*\"worker\" + 0.017*\"work\" + 0.017*\"make\" + 0.015*\"fund\" + 0.015*\"industri\" + 0.014*\"govt\" + 0.013*\"union\" + 0.010*\"farm\"\n",
      "\n",
      "\n",
      "Topic: 4 \n",
      "Words: 0.043*\"govt\" + 0.038*\"water\" + 0.023*\"urg\" + 0.021*\"plan\" + 0.019*\"group\" + 0.016*\"health\" + 0.015*\"nation\" + 0.013*\"fund\" + 0.013*\"call\" + 0.012*\"say\"\n",
      "\n",
      "\n",
      "Topic: 5 \n",
      "Words: 0.041*\"polic\" + 0.033*\"charg\" + 0.028*\"court\" + 0.027*\"face\" + 0.023*\"find\" + 0.020*\"miss\" + 0.020*\"jail\" + 0.018*\"accus\" + 0.017*\"murder\" + 0.016*\"drug\"\n",
      "\n",
      "\n",
      "Topic: 6 \n",
      "Words: 0.047*\"council\" + 0.024*\"claim\" + 0.022*\"investig\" + 0.019*\"reject\" + 0.017*\"polic\" + 0.015*\"plan\" + 0.014*\"crash\" + 0.014*\"die\" + 0.014*\"probe\" + 0.013*\"mine\"\n",
      "\n",
      "\n",
      "Topic: 7 \n",
      "Words: 0.017*\"howard\" + 0.014*\"leader\" + 0.014*\"begin\" + 0.014*\"talk\" + 0.013*\"sale\" + 0.012*\"meet\" + 0.011*\"world\" + 0.011*\"award\" + 0.009*\"black\" + 0.009*\"demand\"\n",
      "\n",
      "\n",
      "Topic: 8 \n",
      "Words: 0.022*\"rise\" + 0.018*\"continu\" + 0.017*\"price\" + 0.016*\"high\" + 0.012*\"fight\" + 0.012*\"market\" + 0.012*\"stand\" + 0.012*\"resid\" + 0.011*\"hick\" + 0.010*\"share\"\n",
      "\n",
      "\n",
      "Topic: 9 \n",
      "Words: 0.037*\"kill\" + 0.025*\"iraq\" + 0.023*\"open\" + 0.020*\"forc\" + 0.018*\"elect\" + 0.014*\"aust\" + 0.014*\"troop\" + 0.011*\"bomb\" + 0.011*\"timor\" + 0.011*\"target\"\n",
      "\n",
      "\n"
     ]
    }
   ],
   "source": [
    "for idx, topic in lda_model.print_topics():\n",
    "    print(\"Topic: {} \\nWords: {}\".format(idx, topic))\n",
    "    print(\"\\n\")\n"
   ]
  },
  {
   "cell_type": "code",
   "execution_count": 122,
   "id": "satisfactory-union",
   "metadata": {},
   "outputs": [
    {
     "name": "stdout",
     "output_type": "stream",
     "text": [
      "\n",
      "Coherence Score:  0.27022512018337325\n"
     ]
    }
   ],
   "source": [
    "from gensim.models import CoherenceModel\n",
    "\n",
    "coherence_model_lda = CoherenceModel(model=lda_model, texts=processed_docs, dictionary=dictionary, coherence='c_v')\n",
    "coherence_lda = coherence_model_lda.get_coherence()\n",
    "print('\\nCoherence Score: ', coherence_lda)"
   ]
  },
  {
   "cell_type": "code",
   "execution_count": 123,
   "id": "civic-scale",
   "metadata": {},
   "outputs": [
    {
     "name": "stdout",
     "output_type": "stream",
     "text": [
      "\n",
      "Coherence Score:  -6.81466980651183\n"
     ]
    }
   ],
   "source": [
    "from gensim.models import CoherenceModel\n",
    "\n",
    "coherence_model_lda = CoherenceModel(model=lda_model, texts=processed_docs, dictionary=dictionary, coherence=\"u_mass\")\n",
    "coherence_lda = coherence_model_lda.get_coherence()\n",
    "print('\\nCoherence Score: ', coherence_lda)"
   ]
  },
  {
   "cell_type": "code",
   "execution_count": 124,
   "id": "heavy-myrtle",
   "metadata": {},
   "outputs": [],
   "source": [
    "def compute_coherence_values(dictionary, corpus, texts, limit, start=2, step=3):\n",
    "\n",
    "    coherence_values = []\n",
    "    model_list = []\n",
    "    for num_topics in range(start, limit, step):\n",
    "        model=gensim.models.LdaMulticore(corpus=corpus, id2word=dictionary, num_topics=num_topics)\n",
    "        model_list.append(model)\n",
    "        coherencemodel = CoherenceModel(model=model, texts=texts, dictionary=dictionary, coherence='c_v')\n",
    "        coherence_values.append(coherencemodel.get_coherence())\n",
    "\n",
    "    return model_list, coherence_values"
   ]
  },
  {
   "cell_type": "code",
   "execution_count": 125,
   "id": "humanitarian-ticket",
   "metadata": {},
   "outputs": [],
   "source": [
    "model_list, coherence_values = compute_coherence_values(dictionary=dictionary, corpus=bow_corpus, texts=processed_docs, start=2, limit=40, step=6)"
   ]
  },
  {
   "cell_type": "code",
   "execution_count": 126,
   "id": "outdoor-handling",
   "metadata": {},
   "outputs": [
    {
     "data": {
      "image/png": "[encoded data removed]",
      "text/plain": [
       "<Figure size 432x288 with 1 Axes>"
      ]
     },
     "metadata": {
      "needs_background": "light"
     },
     "output_type": "display_data"
    }
   ],
   "source": [
    "import matplotlib.pyplot as plt\n",
    "limit=40; start=2; step=6;\n",
    "x = range(start, limit, step)\n",
    "plt.plot(x, coherence_values)\n",
    "plt.xlabel(\"Num Topics\")\n",
    "plt.ylabel(\"Coherence score\")\n",
    "plt.legend((\"coherence_values\"), loc='best')\n",
    "plt.show()"
   ]
  },
  {
   "cell_type": "code",
   "execution_count": 127,
   "id": "august-contrary",
   "metadata": {},
   "outputs": [
    {
     "name": "stdout",
     "output_type": "stream",
     "text": [
      "Topic: 0 Word: 0.011*\"nuclear\" + 0.008*\"timor\" + 0.007*\"iran\" + 0.007*\"doubt\" + 0.006*\"korea\" + 0.006*\"say\" + 0.006*\"talk\" + 0.006*\"teacher\" + 0.005*\"downer\" + 0.005*\"dump\"\n",
      "\n",
      "\n",
      "Topic: 1 Word: 0.021*\"polic\" + 0.019*\"crash\" + 0.017*\"kill\" + 0.013*\"miss\" + 0.012*\"charg\" + 0.011*\"search\" + 0.010*\"find\" + 0.010*\"investig\" + 0.010*\"die\" + 0.009*\"woman\"\n",
      "\n",
      "\n",
      "Topic: 2 Word: 0.014*\"govt\" + 0.011*\"water\" + 0.010*\"fund\" + 0.010*\"health\" + 0.008*\"urg\" + 0.008*\"plan\" + 0.008*\"council\" + 0.008*\"servic\" + 0.007*\"boost\" + 0.007*\"fire\"\n",
      "\n",
      "\n",
      "Topic: 3 Word: 0.007*\"israel\" + 0.007*\"troop\" + 0.007*\"isra\" + 0.007*\"drink\" + 0.006*\"palestinian\" + 0.006*\"refus\" + 0.006*\"bail\" + 0.005*\"mill\" + 0.005*\"kill\" + 0.005*\"strike\"\n",
      "\n",
      "\n",
      "Topic: 4 Word: 0.008*\"final\" + 0.007*\"clean\" + 0.006*\"whale\" + 0.005*\"bull\" + 0.005*\"sailor\" + 0.004*\"speed\" + 0.004*\"hewitt\" + 0.004*\"japanes\" + 0.004*\"cruis\" + 0.004*\"spot\"\n",
      "\n",
      "\n",
      "Topic: 5 Word: 0.031*\"closer\" + 0.006*\"titl\" + 0.006*\"climat\" + 0.006*\"lead\" + 0.006*\"uranium\" + 0.006*\"lebanon\" + 0.006*\"victori\" + 0.005*\"open\" + 0.005*\"beazley\" + 0.005*\"news\"\n",
      "\n",
      "\n",
      "Topic: 6 Word: 0.009*\"coast\" + 0.008*\"firefight\" + 0.008*\"road\" + 0.007*\"toll\" + 0.006*\"blaze\" + 0.006*\"plan\" + 0.006*\"gold\" + 0.006*\"wind\" + 0.006*\"council\" + 0.006*\"farm\"\n",
      "\n",
      "\n",
      "Topic: 7 Word: 0.010*\"price\" + 0.009*\"rise\" + 0.008*\"busi\" + 0.006*\"highlight\" + 0.006*\"council\" + 0.006*\"labor\" + 0.006*\"govt\" + 0.005*\"elect\" + 0.005*\"fuel\" + 0.005*\"rat\"\n",
      "\n",
      "\n",
      "Topic: 8 Word: 0.011*\"child\" + 0.010*\"court\" + 0.008*\"assault\" + 0.008*\"charg\" + 0.007*\"face\" + 0.007*\"abus\" + 0.006*\"care\" + 0.006*\"nurs\" + 0.006*\"polic\" + 0.006*\"accus\"\n",
      "\n",
      "\n",
      "Topic: 9 Word: 0.008*\"england\" + 0.006*\"solomon\" + 0.005*\"world\" + 0.005*\"inquest\" + 0.005*\"club\" + 0.004*\"extend\" + 0.004*\"intern\" + 0.004*\"fiji\" + 0.004*\"global\" + 0.004*\"mother\"\n",
      "\n",
      "\n"
     ]
    }
   ],
   "source": [
    "lda_model_tfidf = gensim.models.LdaMulticore(corpus_tfidf, \n",
    "                                             num_topics=10, \n",
    "                                             id2word = dictionary, \n",
    "                                             passes = 2, \n",
    "                                             workers=4)\n",
    "\n",
    "for idx, topic in lda_model_tfidf.print_topics(-1):\n",
    "    print(\"Topic: {} Word: {}\".format(idx, topic))\n",
    "    print(\"\\n\")"
   ]
  },
  {
   "cell_type": "code",
   "execution_count": 128,
   "id": "least-button",
   "metadata": {},
   "outputs": [
    {
     "name": "stdout",
     "output_type": "stream",
     "text": [
      "\n",
      "Coherence Score:  0.3583451324456751\n"
     ]
    }
   ],
   "source": [
    "from gensim.models import CoherenceModel\n",
    "\n",
    "coherence_model_lda_idf = CoherenceModel(model=lda_model_tfidf, texts=processed_docs, dictionary=dictionary, coherence='c_v')\n",
    "coherence_model_lda_idf = coherence_model_lda_idf.get_coherence()\n",
    "print('\\nCoherence Score: ', coherence_model_lda_idf)"
   ]
  },
  {
   "cell_type": "code",
   "execution_count": 129,
   "id": "assumed-banana",
   "metadata": {},
   "outputs": [
    {
     "data": {
      "text/plain": [
       "['ratepay', 'group', 'want', 'compulsori', 'local', 'govt', 'vote']"
      ]
     },
     "execution_count": 129,
     "metadata": {},
     "output_type": "execute_result"
    }
   ],
   "source": [
    "#original Text of sample document 4310\n",
    "processed_docs[document_num]"
   ]
  },
  {
   "cell_type": "code",
   "execution_count": 130,
   "id": "awful-killing",
   "metadata": {},
   "outputs": [
    {
     "name": "stdout",
     "output_type": "stream",
     "text": [
      "\n",
      "Score: 0.5201311707496643\t Topic: 0.043*\"govt\" + 0.038*\"water\" + 0.023*\"urg\" + 0.021*\"plan\" + 0.019*\"group\"\n",
      "\n",
      "Score: 0.3798331320285797\t Topic: 0.022*\"rise\" + 0.018*\"continu\" + 0.017*\"price\" + 0.016*\"high\" + 0.012*\"fight\"\n",
      "\n",
      "Score: 0.012510480359196663\t Topic: 0.047*\"council\" + 0.024*\"claim\" + 0.022*\"investig\" + 0.019*\"reject\" + 0.017*\"polic\"\n",
      "\n",
      "Score: 0.012505877763032913\t Topic: 0.017*\"howard\" + 0.014*\"leader\" + 0.014*\"begin\" + 0.014*\"talk\" + 0.013*\"sale\"\n",
      "\n",
      "Score: 0.01250541303306818\t Topic: 0.022*\"boost\" + 0.019*\"chang\" + 0.017*\"worker\" + 0.017*\"work\" + 0.017*\"make\"\n",
      "\n",
      "Score: 0.012503890320658684\t Topic: 0.037*\"kill\" + 0.025*\"iraq\" + 0.023*\"open\" + 0.020*\"forc\" + 0.018*\"elect\"\n",
      "\n",
      "Score: 0.012503398582339287\t Topic: 0.025*\"closer\" + 0.023*\"power\" + 0.018*\"deal\" + 0.018*\"rule\" + 0.013*\"blaze\"\n",
      "\n",
      "Score: 0.012502227909862995\t Topic: 0.030*\"warn\" + 0.023*\"road\" + 0.022*\"concern\" + 0.022*\"crash\" + 0.018*\"fear\"\n",
      "\n",
      "Score: 0.012502209283411503\t Topic: 0.041*\"polic\" + 0.033*\"charg\" + 0.028*\"court\" + 0.027*\"face\" + 0.023*\"find\"\n",
      "\n",
      "Score: 0.012502207420766354\t Topic: 0.024*\"help\" + 0.021*\"fire\" + 0.013*\"break\" + 0.013*\"north\" + 0.012*\"rain\"\n"
     ]
    }
   ],
   "source": [
    "for index, score in sorted(lda_model[bow_corpus[document_num]], key=lambda tup: tup[1], reverse=True):\n",
    "    print(\"\\nScore: {}\\t Topic: {}\".format(score, lda_model.print_topic(index, 5)))"
   ]
  },
  {
   "cell_type": "code",
   "execution_count": 131,
   "id": "embedded-province",
   "metadata": {},
   "outputs": [
    {
     "data": {
      "text/plain": [
       "[(0, 0.0125033995),\n",
       " (1, 0.012502208),\n",
       " (2, 0.012502229),\n",
       " (3, 0.012505413),\n",
       " (4, 0.52013195),\n",
       " (5, 0.01250221),\n",
       " (6, 0.012510644),\n",
       " (7, 0.012505879),\n",
       " (8, 0.37983218),\n",
       " (9, 0.012503891)]"
      ]
     },
     "execution_count": 131,
     "metadata": {},
     "output_type": "execute_result"
    }
   ],
   "source": [
    "lda_model[bow_corpus[document_num]]"
   ]
  },
  {
   "cell_type": "code",
   "execution_count": 132,
   "id": "executed-snake",
   "metadata": {},
   "outputs": [
    {
     "data": {
      "text/plain": [
       "[(4, 0.5201361),\n",
       " (8, 0.3798252),\n",
       " (6, 0.012513381),\n",
       " (7, 0.012505882),\n",
       " (3, 0.012505417),\n",
       " (9, 0.012503895),\n",
       " (0, 0.012503402),\n",
       " (2, 0.01250223),\n",
       " (5, 0.012502211),\n",
       " (1, 0.012502209)]"
      ]
     },
     "execution_count": 132,
     "metadata": {},
     "output_type": "execute_result"
    }
   ],
   "source": [
    "sorted(lda_model[bow_corpus[document_num]], key=lambda tup: tup[1], reverse=True)"
   ]
  },
  {
   "cell_type": "code",
   "execution_count": 133,
   "id": "successful-nursing",
   "metadata": {},
   "outputs": [
    {
     "data": {
      "text/plain": [
       "'0.024*\"help\" + 0.021*\"fire\" + 0.013*\"break\" + 0.013*\"north\" + 0.012*\"rain\" + 0.012*\"drought\" + 0.011*\"protest\" + 0.011*\"polic\" + 0.010*\"storm\" + 0.010*\"hous\"'"
      ]
     },
     "execution_count": 133,
     "metadata": {},
     "output_type": "execute_result"
    }
   ],
   "source": [
    "lda_model.print_topic(index, 10)"
   ]
  },
  {
   "cell_type": "code",
   "execution_count": 134,
   "id": "terminal-pressing",
   "metadata": {},
   "outputs": [
    {
     "name": "stdout",
     "output_type": "stream",
     "text": [
      "\n",
      "Score: 0.36969637870788574\t Topic: 0.014*\"govt\" + 0.011*\"water\" + 0.010*\"fund\" + 0.010*\"health\" + 0.008*\"urg\"\n",
      "\n",
      "Score: 0.30608195066452026\t Topic: 0.009*\"coast\" + 0.008*\"firefight\" + 0.008*\"road\" + 0.007*\"toll\" + 0.006*\"blaze\"\n",
      "\n",
      "Score: 0.23668622970581055\t Topic: 0.031*\"closer\" + 0.006*\"titl\" + 0.006*\"climat\" + 0.006*\"lead\" + 0.006*\"uranium\"\n",
      "\n",
      "Score: 0.012506979517638683\t Topic: 0.010*\"price\" + 0.009*\"rise\" + 0.008*\"busi\" + 0.006*\"highlight\" + 0.006*\"council\"\n",
      "\n",
      "Score: 0.012506232596933842\t Topic: 0.011*\"nuclear\" + 0.008*\"timor\" + 0.007*\"iran\" + 0.007*\"doubt\" + 0.006*\"korea\"\n",
      "\n",
      "Score: 0.01250552013516426\t Topic: 0.007*\"israel\" + 0.007*\"troop\" + 0.007*\"isra\" + 0.007*\"drink\" + 0.006*\"palestinian\"\n",
      "\n",
      "Score: 0.012504888698458672\t Topic: 0.011*\"child\" + 0.010*\"court\" + 0.008*\"assault\" + 0.008*\"charg\" + 0.007*\"face\"\n",
      "\n",
      "Score: 0.012504447251558304\t Topic: 0.008*\"final\" + 0.007*\"clean\" + 0.006*\"whale\" + 0.005*\"bull\" + 0.005*\"sailor\"\n",
      "\n",
      "Score: 0.012504221871495247\t Topic: 0.008*\"england\" + 0.006*\"solomon\" + 0.005*\"world\" + 0.005*\"inquest\" + 0.005*\"club\"\n",
      "\n",
      "Score: 0.012503117322921753\t Topic: 0.021*\"polic\" + 0.019*\"crash\" + 0.017*\"kill\" + 0.013*\"miss\" + 0.012*\"charg\"\n"
     ]
    }
   ],
   "source": [
    "for index, score in sorted(lda_model_tfidf[bow_corpus[document_num]], key=lambda tup: tup[1], reverse=True):\n",
    "    print(\"\\nScore: {}\\t Topic: {}\".format(score, lda_model_tfidf.print_topic(index, 5)))"
   ]
  },
  {
   "cell_type": "code",
   "execution_count": 135,
   "id": "confused-tradition",
   "metadata": {},
   "outputs": [
    {
     "name": "stdout",
     "output_type": "stream",
     "text": [
      "Score: 0.36676767468452454\t Topic: 0.030*\"warn\" + 0.023*\"road\" + 0.022*\"concern\" + 0.022*\"crash\" + 0.018*\"fear\"\n",
      "Score: 0.36648374795913696\t Topic: 0.041*\"polic\" + 0.033*\"charg\" + 0.028*\"court\" + 0.027*\"face\" + 0.023*\"find\"\n",
      "Score: 0.03334357216954231\t Topic: 0.025*\"closer\" + 0.023*\"power\" + 0.018*\"deal\" + 0.018*\"rule\" + 0.013*\"blaze\"\n",
      "Score: 0.03334357216954231\t Topic: 0.024*\"help\" + 0.021*\"fire\" + 0.013*\"break\" + 0.013*\"north\" + 0.012*\"rain\"\n",
      "Score: 0.03334357216954231\t Topic: 0.022*\"boost\" + 0.019*\"chang\" + 0.017*\"worker\" + 0.017*\"work\" + 0.017*\"make\"\n",
      "Score: 0.03334357216954231\t Topic: 0.043*\"govt\" + 0.038*\"water\" + 0.023*\"urg\" + 0.021*\"plan\" + 0.019*\"group\"\n",
      "Score: 0.03334357216954231\t Topic: 0.047*\"council\" + 0.024*\"claim\" + 0.022*\"investig\" + 0.019*\"reject\" + 0.017*\"polic\"\n",
      "Score: 0.03334357216954231\t Topic: 0.017*\"howard\" + 0.014*\"leader\" + 0.014*\"begin\" + 0.014*\"talk\" + 0.013*\"sale\"\n",
      "Score: 0.03334357216954231\t Topic: 0.022*\"rise\" + 0.018*\"continu\" + 0.017*\"price\" + 0.016*\"high\" + 0.012*\"fight\"\n",
      "Score: 0.03334357216954231\t Topic: 0.037*\"kill\" + 0.025*\"iraq\" + 0.023*\"open\" + 0.020*\"forc\" + 0.018*\"elect\"\n"
     ]
    }
   ],
   "source": [
    "unseen_document = \"My name is Patrick.\"\n",
    "\n",
    "bow_vector = dictionary.doc2bow(preprocess(unseen_document))\n",
    "\n",
    "for index, score in sorted(lda_model[bow_vector], key=lambda tup: tup[1], reverse=True):\n",
    "    print(\"Score: {}\\t Topic: {}\".format(score, lda_model.print_topic(index, 5)))"
   ]
  },
  {
   "cell_type": "code",
   "execution_count": null,
   "id": "scientific-verse",
   "metadata": {},
   "outputs": [],
   "source": []
  }
 ],
 "metadata": {
  "kernelspec": {
   "display_name": "Python 3",
   "language": "python",
   "name": "python3"
  },
  "language_info": {
   "codemirror_mode": {
    "name": "ipython",
    "version": 3
   },
   "file_extension": ".py",
   "mimetype": "text/x-python",
   "name": "python",
   "nbconvert_exporter": "python",
   "pygments_lexer": "ipython3",
   "version": "3.8.5"
  },
  "toc": {
   "base_numbering": 1,
   "nav_menu": {},
   "number_sections": true,
   "sideBar": true,
   "skip_h1_title": false,
   "title_cell": "Table of Contents",
   "title_sidebar": "Contents",
   "toc_cell": false,
   "toc_position": {},
   "toc_section_display": true,
   "toc_window_display": false
  }
 },
 "nbformat": 4,
 "nbformat_minor": 5
}
