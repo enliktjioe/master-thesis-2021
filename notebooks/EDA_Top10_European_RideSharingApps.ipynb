{
 "cells": [
  {
   "cell_type": "markdown",
   "id": "22454d6b",
   "metadata": {},
   "source": [
    "# References\n",
    "\n",
    "- [Pandas: How to read CSV file from google drive public?](https://stackoverflow.com/a/56611995/2670476)"
   ]
  },
  {
   "cell_type": "code",
   "execution_count": 146,
   "id": "fb7245b9",
   "metadata": {},
   "outputs": [],
   "source": [
    "import pandas as pd\n",
    "import yaml\n",
    "import re\n",
    "\n",
    "from langdetect import detect_langs, DetectorFactory\n",
    "\n",
    "# https://pypi.org/project/langdetect/\n",
    "# Language detection algorithm is non-deterministic, which means that if you try to run it on a text which is either too short or too ambiguous, you might get different results everytime you run it.\n",
    "# To enforce consistent results, call following code before the first language detection:\n",
    "DetectorFactory.seed = 0"
   ]
  },
  {
   "cell_type": "code",
   "execution_count": 147,
   "id": "bc1c2397",
   "metadata": {},
   "outputs": [],
   "source": [
    "config_file = open('config.yaml')\n",
    "config = yaml.load(config_file, Loader=yaml.FullLoader)"
   ]
  },
  {
   "cell_type": "code",
   "execution_count": 148,
   "id": "4fab1986",
   "metadata": {},
   "outputs": [],
   "source": [
    "def read_csv_from_gdrive(csvInput, columnToUsed = None):\n",
    "    url='https://drive.google.com/uc?id=' + csvInput.split('/')[-2]\n",
    "    df = pd.read_csv(url, usecols=columnToUsed, index_col=0)\n",
    "    return df"
   ]
  },
  {
   "cell_type": "code",
   "execution_count": 157,
   "id": "f0847776",
   "metadata": {},
   "outputs": [],
   "source": [
    "def isEnglishReview(textInput):\n",
    "#     print(textInput)\n",
    "    \n",
    "    a = detect_langs(textInput)\n",
    "    listToStr = ','.join(map(str, a))\n",
    "#     print(listToStr)\n",
    "    \n",
    "#     check after and before string\n",
    "#     https://stackoverflow.com/questions/12572362/how-to-get-a-string-after-a-specific-substring\n",
    "#     https://stackoverflow.com/questions/27387415/how-would-i-get-everything-before-a-in-a-string-python\n",
    "    try:\n",
    "        english_score = float((listToStr.partition('en:')[2]).partition(',')[0])\n",
    "    except ValueError:\n",
    "        english_score = 0\n",
    "        \n",
    "#     print(english_score)\n",
    "    \n",
    "    if english_score > 0.1:\n",
    "#         print('English')\n",
    "        isEnglish = True\n",
    "    else:\n",
    "#         print('Non-English')\n",
    "        isEnglish = False\n",
    "    \n",
    "    return isEnglish, listToStr, english_score"
   ]
  },
  {
   "cell_type": "markdown",
   "id": "adc35665",
   "metadata": {},
   "source": [
    "# Exploratory Data Analysis"
   ]
  },
  {
   "cell_type": "markdown",
   "id": "88ee2d85",
   "metadata": {},
   "source": [
    "## Bolt"
   ]
  },
  {
   "cell_type": "markdown",
   "id": "ccf06d97",
   "metadata": {},
   "source": [
    "### Google Play Store"
   ]
  },
  {
   "cell_type": "code",
   "execution_count": 150,
   "id": "e88b8bda",
   "metadata": {
    "scrolled": true
   },
   "outputs": [
    {
     "data": {
      "text/plain": [
       "51907"
      ]
     },
     "execution_count": 150,
     "metadata": {},
     "output_type": "execute_result"
    }
   ],
   "source": [
    "df = read_csv_from_gdrive(config['csv_input']['bolt_google'])\n",
    "# df = df[0:200]\n",
    "totalLength = len(df)\n",
    "totalLength"
   ]
  },
  {
   "cell_type": "code",
   "execution_count": null,
   "id": "51ea7903",
   "metadata": {},
   "outputs": [
    {
     "name": "stdout",
     "output_type": "stream",
     "text": [
      "Best affordable rides ever drivers are also very friendly\n",
      "da:0.9999961215417512\n",
      "0\n",
      "Missing ETA in map view\n",
      "af:0.9999940159313521\n",
      "0\n",
      "Convenient and reliable No qualms at all\n",
      "ca:0.999995948823814\n",
      "0\n",
      "Fantastic idea Affordable accurate Overall just excellent\n",
      "ca:0.8571390622535419,ro:0.14285885654506922\n",
      "0\n",
      "Excellent app and polite drivers\n",
      "fr:0.9999934137383802\n",
      "0\n",
      "Available and a durable price\n",
      "fr:0.999994945466036\n",
      "0\n",
      "It keep on saying datacenter error\n",
      "nl:0.9999962792876764\n",
      "0\n",
      "Convenient Reliable Fast\n",
      "fr:0.7142828215409623,ca:0.14285881847377885,es:0.14285700844509153\n",
      "0\n",
      "Excellent drive neat drivers\n",
      "da:0.42608661707078727,fr:0.2881905769628283,ca:0.14286491535974366,it:0.14285682227305763\n",
      "0\n",
      "Excellent service so far no complain\n",
      "fr:0.857139329175301,it:0.14286019078478104\n",
      "0\n",
      "Map time are not accurate sometimes\n",
      "it:0.9999935097787407\n",
      "0\n",
      "Convenient n affordable rates\n",
      "fr:0.8571420093572993,da:0.14285701224270217\n",
      "0\n",
      "Your map doesn t give accurate destination\n",
      "fr:0.9999962331145354\n",
      "0\n"
     ]
    }
   ],
   "source": [
    "# decode all emoji characters\n",
    "# https://stackoverflow.com/a/57514515/2670476\n",
    "df = df.astype(str).apply(lambda x: x.str.encode('ascii', 'ignore').str.decode('ascii'))\n",
    "\n",
    "# Replace all non-letters with space\n",
    "df.content = df.apply(lambda row: \" \".join(re.sub(\"[^a-zA-Z]+\", \" \", row.content).split()), 1)\n",
    "\n",
    "for i in range(0,len(df)):\n",
    "    isEnglish, listToStr, english_score = isEnglishReview(df['content'][i])\n",
    "    \n",
    "    if isEnglish == False:\n",
    "        print(df['content'][i])\n",
    "        print(listToStr)\n",
    "        print(english_score)"
   ]
  },
  {
   "cell_type": "code",
   "execution_count": null,
   "id": "0741d023",
   "metadata": {},
   "outputs": [],
   "source": []
  }
 ],
 "metadata": {
  "kernelspec": {
   "display_name": "Python 3",
   "language": "python",
   "name": "python3"
  },
  "language_info": {
   "codemirror_mode": {
    "name": "ipython",
    "version": 3
   },
   "file_extension": ".py",
   "mimetype": "text/x-python",
   "name": "python",
   "nbconvert_exporter": "python",
   "pygments_lexer": "ipython3",
   "version": "3.8.10"
  },
  "toc": {
   "base_numbering": 1,
   "nav_menu": {},
   "number_sections": true,
   "sideBar": true,
   "skip_h1_title": false,
   "title_cell": "Table of Contents",
   "title_sidebar": "Contents",
   "toc_cell": false,
   "toc_position": {
    "height": "calc(100% - 180px)",
    "left": "10px",
    "top": "150px",
    "width": "256px"
   },
   "toc_section_display": true,
   "toc_window_display": true
  }
 },
 "nbformat": 4,
 "nbformat_minor": 5
}
