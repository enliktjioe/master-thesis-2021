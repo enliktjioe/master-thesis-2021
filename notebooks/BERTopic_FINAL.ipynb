{
 "cells": [
  {
   "cell_type": "code",
   "execution_count": 1,
   "id": "ranging-mention",
   "metadata": {},
   "outputs": [
    {
     "name": "stderr",
     "output_type": "stream",
     "text": [
      "[nltk_data] Downloading package stopwords to\n",
      "[nltk_data]     C:\\Users\\enlik\\AppData\\Roaming\\nltk_data...\n",
      "[nltk_data]   Package stopwords is already up-to-date!\n"
     ]
    }
   ],
   "source": [
    "from utils import * \n",
    "\n",
    "import numpy as np\n",
    "import pandas as pd\n",
    "from pprint import pprint\n",
    "import os\n",
    "\n",
    "pd.set_option('display.max_rows', 500)\n",
    "pd.set_option('display.max_columns', 500)\n",
    "pd.option_context('display.max_colwidth', 500);\n",
    "\n",
    "# Enable logging for gensim - optional\n",
    "import logging\n",
    "logging.basicConfig(format='%(asctime)s : %(levelname)s : %(message)s', level=logging.ERROR)\n",
    "\n",
    "import warnings\n",
    "warnings.filterwarnings(\"ignore\",category=DeprecationWarning)\n",
    "\n",
    "\n",
    "config = get_config('config.yaml')"
   ]
  },
  {
   "cell_type": "markdown",
   "id": "respective-latin",
   "metadata": {},
   "source": [
    "# BOLT"
   ]
  },
  {
   "cell_type": "markdown",
   "id": "exterior-knowing",
   "metadata": {},
   "source": [
    "## P1"
   ]
  },
  {
   "cell_type": "code",
   "execution_count": 19,
   "id": "durable-mapping",
   "metadata": {},
   "outputs": [
    {
     "data": {
      "text/plain": [
       "40365"
      ]
     },
     "execution_count": 19,
     "metadata": {},
     "output_type": "execute_result"
    }
   ],
   "source": [
    "# # Import dataset\n",
    "# import pandas as pd\n",
    "# df = pd.read_csv(config['csv_input_local']['bolt_apple_google_p1'], index_col=0)\n",
    "# df = df.reset_index(drop=True)\n",
    "# reviews = df.review.tolist()\n",
    "# # reviews = reviews[:500] # testing purpose\n",
    "# len(reviews)"
   ]
  },
  {
   "cell_type": "code",
   "execution_count": 23,
   "id": "higher-banner",
   "metadata": {},
   "outputs": [
    {
     "data": {
      "application/vnd.jupyter.widget-view+json": {
       "model_id": "a5580ac5bf654aef91eafc1ed5f5374f",
       "version_major": 2,
       "version_minor": 0
      },
      "text/plain": [
       "Batches:   0%|          | 0/1262 [00:00<?, ?it/s]"
      ]
     },
     "metadata": {},
     "output_type": "display_data"
    },
    {
     "name": "stderr",
     "output_type": "stream",
     "text": [
      "2021-08-04 01:41:04,208 - BERTopic - Transformed documents to Embeddings\n",
      "2021-08-04 01:41:33,131 - BERTopic - Reduced dimensionality with UMAP\n",
      "2021-08-04 01:41:37,269 - BERTopic - Clustered UMAP embeddings with HDBSCAN\n",
      "2021-08-04 01:42:33,517 - BERTopic - Reduced number of topics from 551 to 21\n"
     ]
    },
    {
     "name": "stdout",
     "output_type": "stream",
     "text": [
      "Wall time: 6min 18s\n"
     ]
    }
   ],
   "source": [
    "# %%time\n",
    "# from bertopic import BERTopic\n",
    "\n",
    "# # topic_model = BERTopic(language=\"english\", calculate_probabilities=True, verbose=True)\n",
    "# # topics, probs = topic_model.fit_transform(reviews)\n",
    "# topic_model = BERTopic(language=\"english\", nr_topics=20, low_memory=True, verbose=True)\n",
    "# topics, _ = topic_model.fit_transform(reviews)"
   ]
  },
  {
   "cell_type": "code",
   "execution_count": 24,
   "id": "amber-chapel",
   "metadata": {},
   "outputs": [
    {
     "name": "stderr",
     "output_type": "stream",
     "text": [
      "C:\\Users\\enlik\\Miniconda3\\lib\\site-packages\\scipy\\sparse\\_index.py:126: SparseEfficiencyWarning: Changing the sparsity structure of a csr_matrix is expensive. lil_matrix is more efficient.\n",
      "  self._set_arrayXarray(i, j, x)\n"
     ]
    }
   ],
   "source": [
    "# Save model\n",
    "# topic_model.save(\"my_model.pt\")\n",
    "topic_model.save(\"bert_topic_model/bolt_model_p1.pt\", save_embedding_model=True)"
   ]
  },
  {
   "cell_type": "code",
   "execution_count": 38,
   "id": "casual-dinner",
   "metadata": {},
   "outputs": [],
   "source": [
    "# Load model\n",
    "my_model = BERTopic.load(\"bert_topic_model/bolt_model_p1.pt\")"
   ]
  },
  {
   "cell_type": "code",
   "execution_count": 39,
   "id": "sublime-drunk",
   "metadata": {},
   "outputs": [
    {
     "data": {
      "text/html": [
       "<div>\n",
       "<style scoped>\n",
       "    .dataframe tbody tr th:only-of-type {\n",
       "        vertical-align: middle;\n",
       "    }\n",
       "\n",
       "    .dataframe tbody tr th {\n",
       "        vertical-align: top;\n",
       "    }\n",
       "\n",
       "    .dataframe thead th {\n",
       "        text-align: right;\n",
       "    }\n",
       "</style>\n",
       "<table border=\"1\" class=\"dataframe\">\n",
       "  <thead>\n",
       "    <tr style=\"text-align: right;\">\n",
       "      <th></th>\n",
       "      <th>Topic</th>\n",
       "      <th>Count</th>\n",
       "      <th>Name</th>\n",
       "    </tr>\n",
       "  </thead>\n",
       "  <tbody>\n",
       "    <tr>\n",
       "      <th>0</th>\n",
       "      <td>-1</td>\n",
       "      <td>15862</td>\n",
       "      <td>-1_you_my_drivers_driver</td>\n",
       "    </tr>\n",
       "    <tr>\n",
       "      <th>1</th>\n",
       "      <td>0</td>\n",
       "      <td>2192</td>\n",
       "      <td>0_affordable_promo_cheaper_uber</td>\n",
       "    </tr>\n",
       "    <tr>\n",
       "      <th>2</th>\n",
       "      <td>1</td>\n",
       "      <td>1953</td>\n",
       "      <td>1_time_minutes_convenient_affordable</td>\n",
       "    </tr>\n",
       "    <tr>\n",
       "      <th>3</th>\n",
       "      <td>2</td>\n",
       "      <td>1620</td>\n",
       "      <td>2_nice_good_best_great</td>\n",
       "    </tr>\n",
       "    <tr>\n",
       "      <th>4</th>\n",
       "      <td>3</td>\n",
       "      <td>1478</td>\n",
       "      <td>3_love_its_good_bolt</td>\n",
       "    </tr>\n",
       "    <tr>\n",
       "      <th>5</th>\n",
       "      <td>4</td>\n",
       "      <td>1412</td>\n",
       "      <td>4_safe_efficient_reliable_friendly</td>\n",
       "    </tr>\n",
       "    <tr>\n",
       "      <th>6</th>\n",
       "      <td>5</td>\n",
       "      <td>1397</td>\n",
       "      <td>5_drivers_taxify_driver_he</td>\n",
       "    </tr>\n",
       "    <tr>\n",
       "      <th>7</th>\n",
       "      <td>6</td>\n",
       "      <td>1337</td>\n",
       "      <td>6_phone_sms_number_cant</td>\n",
       "    </tr>\n",
       "    <tr>\n",
       "      <th>8</th>\n",
       "      <td>7</td>\n",
       "      <td>1305</td>\n",
       "      <td>7_friendly_driver_drivers_nice</td>\n",
       "    </tr>\n",
       "    <tr>\n",
       "      <th>9</th>\n",
       "      <td>8</td>\n",
       "      <td>1271</td>\n",
       "      <td>8_drivers_app_friendly_great</td>\n",
       "    </tr>\n",
       "    <tr>\n",
       "      <th>10</th>\n",
       "      <td>9</td>\n",
       "      <td>1195</td>\n",
       "      <td>9_perfect_awesome_exceptional_great</td>\n",
       "    </tr>\n",
       "    <tr>\n",
       "      <th>11</th>\n",
       "      <td>10</td>\n",
       "      <td>1126</td>\n",
       "      <td>10_location_gps_map_address</td>\n",
       "    </tr>\n",
       "    <tr>\n",
       "      <th>12</th>\n",
       "      <td>11</td>\n",
       "      <td>1117</td>\n",
       "      <td>11_card_account_cancel_no</td>\n",
       "    </tr>\n",
       "    <tr>\n",
       "      <th>13</th>\n",
       "      <td>12</td>\n",
       "      <td>1047</td>\n",
       "      <td>12_app_download_application_bolt</td>\n",
       "    </tr>\n",
       "    <tr>\n",
       "      <th>14</th>\n",
       "      <td>13</td>\n",
       "      <td>1036</td>\n",
       "      <td>13_great_kenya_ghana_nairobi</td>\n",
       "    </tr>\n",
       "    <tr>\n",
       "      <th>15</th>\n",
       "      <td>14</td>\n",
       "      <td>1017</td>\n",
       "      <td>14_uber_great_good_better</td>\n",
       "    </tr>\n",
       "    <tr>\n",
       "      <th>16</th>\n",
       "      <td>15</td>\n",
       "      <td>979</td>\n",
       "      <td>15_ride_rides_good_enjoyed</td>\n",
       "    </tr>\n",
       "    <tr>\n",
       "      <th>17</th>\n",
       "      <td>16</td>\n",
       "      <td>845</td>\n",
       "      <td>16_transport_transportation_easy_bolt</td>\n",
       "    </tr>\n",
       "    <tr>\n",
       "      <th>18</th>\n",
       "      <td>17</td>\n",
       "      <td>782</td>\n",
       "      <td>17_comfortable_clean_cars_drivers</td>\n",
       "    </tr>\n",
       "    <tr>\n",
       "      <th>19</th>\n",
       "      <td>18</td>\n",
       "      <td>707</td>\n",
       "      <td>18_app_useful_job_helpful</td>\n",
       "    </tr>\n",
       "    <tr>\n",
       "      <th>20</th>\n",
       "      <td>19</td>\n",
       "      <td>687</td>\n",
       "      <td>19_service_good_drivers_excellent</td>\n",
       "    </tr>\n",
       "  </tbody>\n",
       "</table>\n",
       "</div>"
      ],
      "text/plain": [
       "    Topic  Count                                   Name\n",
       "0      -1  15862               -1_you_my_drivers_driver\n",
       "1       0   2192        0_affordable_promo_cheaper_uber\n",
       "2       1   1953   1_time_minutes_convenient_affordable\n",
       "3       2   1620                 2_nice_good_best_great\n",
       "4       3   1478                   3_love_its_good_bolt\n",
       "5       4   1412     4_safe_efficient_reliable_friendly\n",
       "6       5   1397             5_drivers_taxify_driver_he\n",
       "7       6   1337                6_phone_sms_number_cant\n",
       "8       7   1305         7_friendly_driver_drivers_nice\n",
       "9       8   1271           8_drivers_app_friendly_great\n",
       "10      9   1195    9_perfect_awesome_exceptional_great\n",
       "11     10   1126            10_location_gps_map_address\n",
       "12     11   1117              11_card_account_cancel_no\n",
       "13     12   1047       12_app_download_application_bolt\n",
       "14     13   1036           13_great_kenya_ghana_nairobi\n",
       "15     14   1017              14_uber_great_good_better\n",
       "16     15    979             15_ride_rides_good_enjoyed\n",
       "17     16    845  16_transport_transportation_easy_bolt\n",
       "18     17    782      17_comfortable_clean_cars_drivers\n",
       "19     18    707              18_app_useful_job_helpful\n",
       "20     19    687      19_service_good_drivers_excellent"
      ]
     },
     "execution_count": 39,
     "metadata": {},
     "output_type": "execute_result"
    }
   ],
   "source": [
    "freq = my_model.get_topic_info(); freq.head(50)"
   ]
  },
  {
   "cell_type": "code",
   "execution_count": 40,
   "id": "raised-community",
   "metadata": {},
   "outputs": [
    {
     "name": "stdout",
     "output_type": "stream",
     "text": [
      "topic 0\n",
      "[('affordable', 0.02803076383480905), ('promo', 0.02775569774781488), ('cheaper', 0.027094911804774354), ('uber', 0.026046806052165264), ('discounts', 0.022585523643378205), ('cheap', 0.020166154950876574), ('app', 0.019960717158545013), ('discount', 0.018914523059637946), ('ride', 0.017690927948939866), ('rides', 0.014967608072972835)]\n",
      "topic 1\n",
      "[('time', 0.043774875778065034), ('minutes', 0.03402677937745808), ('convenient', 0.026415188810967872), ('affordable', 0.0230472093100381), ('driver', 0.022416211715920502), ('fast', 0.02166213278742174), ('waiting', 0.01853644411969341), ('scooter', 0.018136792822620797), ('wait', 0.01642396280612429), ('when', 0.013761009609583442)]\n",
      "topic 2\n",
      "[('nice', 0.14562096759369084), ('good', 0.10384350743454239), ('best', 0.09446005034516064), ('great', 0.09110983380846238), ('satisfactory', 0.06696870735238634), ('cool', 0.059784390977531764), ('amazing', 0.03610503340262617), ('perfect', 0.029958633541800166), ('loved', 0.02560009018036576), ('wonderful', 0.024740586024451536)]\n",
      "topic 3\n",
      "[('love', 0.13038434296342571), ('its', 0.07267771514205411), ('good', 0.057779000387868804), ('bolt', 0.051101261719621316), ('great', 0.04197239067489619), ('free', 0.02335861983561885), ('app', 0.017739676961984783), ('gud', 0.016274233961202176), ('loving', 0.01554279079321929), ('try', 0.015446169753638895)]\n",
      "topic 4\n",
      "[('safe', 0.09996493210451586), ('efficient', 0.08689363128998338), ('reliable', 0.07181488814270322), ('friendly', 0.0489612108197294), ('good', 0.04008979029301649), ('affordable', 0.03574653220905773), ('effective', 0.033483484373588994), ('convenient', 0.03224736613289976), ('nice', 0.017172160566856446), ('drive', 0.015610350074512202)]\n",
      "topic 5\n",
      "[('drivers', 0.026854174979432925), ('taxify', 0.023025658776665188), ('driver', 0.020003012536573352), ('he', 0.01784822521892819), ('rude', 0.016185455005184177), ('that', 0.01507857353101774), ('me', 0.015044515018031912), ('service', 0.014253043011010783), ('uber', 0.014251147797056227), ('this', 0.013543784599150344)]\n",
      "topic 6\n",
      "[('phone', 0.041597414416716695), ('sms', 0.038313309084777196), ('number', 0.024387407397285232), ('cant', 0.02211678023366719), ('services', 0.021831145910629988), ('service', 0.021694723750150666), ('app', 0.017451445991677007), ('network', 0.0157448841223011), ('call', 0.014781084735212982), ('card', 0.013624618755503722)]\n",
      "topic 7\n",
      "[('friendly', 0.10369703579853082), ('driver', 0.06652900953534366), ('drivers', 0.0655425159164496), ('nice', 0.040187817185355856), ('polite', 0.033848380329043325), ('lovely', 0.02745364992372305), ('respectful', 0.025063360445901964), ('great', 0.018062888454458463), ('car', 0.01588613102646064), ('drive', 0.013154789388633877)]\n",
      "topic 8\n",
      "[('drivers', 0.04570959865725064), ('app', 0.04435921833885892), ('friendly', 0.040539537814615646), ('great', 0.040236670894270715), ('lovely', 0.039269705309665434), ('nice', 0.03388569445070383), ('user', 0.029902110477343657), ('awesome', 0.02398499341790678), ('affordable', 0.018758835636811216), ('wonderful', 0.0142404027245766)]\n",
      "topic 9\n",
      "[('perfect', 0.1650698904755438), ('awesome', 0.090744956224379), ('exceptional', 0.06787853122346192), ('great', 0.048366167501129154), ('fantastic', 0.04751424186629731), ('amazing', 0.04594727886575815), ('wonderful', 0.022818586495691035), ('satisfied', 0.017764823633893027), ('excellent', 0.016638224461844552), ('incredible', 0.01645643593988766)]\n",
      "topic 10\n",
      "[('location', 0.06954421820718265), ('gps', 0.05366002757413546), ('map', 0.05133099037221367), ('address', 0.03309077902869635), ('pick', 0.025721734328543543), ('maps', 0.018822283929212185), ('doesnt', 0.018213839749441824), ('locations', 0.017412081470383364), ('its', 0.0161557740765531), ('destination', 0.015499026280924796)]\n",
      "topic 11\n",
      "[('card', 0.03060195414798577), ('account', 0.027397509524834968), ('cancel', 0.019262848067678563), ('no', 0.018261343995042305), ('blocked', 0.018014786509688196), ('money', 0.01674841920698353), ('charged', 0.016569398690207304), ('trip', 0.01628355930792636), ('payment', 0.013689274029134377), ('driver', 0.013580533808482839)]\n",
      "topic 12\n",
      "[('app', 0.10657534971060212), ('download', 0.09034289807679864), ('application', 0.033206444669570324), ('bolt', 0.03081824406628591), ('downloading', 0.0254064143802884), ('slow', 0.019133515425497634), ('install', 0.018636012014323175), ('perfect', 0.015573301799564346), ('downloaded', 0.013148435819560267), ('swift', 0.013129989050369932)]\n",
      "topic 13\n",
      "[('great', 0.26819558512232033), ('kenya', 0.049450082456817174), ('ghana', 0.046008825932850266), ('nairobi', 0.02464595413294272), ('lagos', 0.017427409786914542), ('horrible', 0.016955346992490294), ('drivers', 0.016021750512615306), ('africa', 0.014951367616541138), ('nigeria', 0.014073433823997106), ('dont', 0.012767434647193106)]\n",
      "topic 14\n",
      "[('uber', 0.051844525133478606), ('great', 0.045816267305248556), ('good', 0.04322324372668929), ('better', 0.04189639994084362), ('best', 0.035863762377274656), ('taxify', 0.032565397952964925), ('excellent', 0.02506727505458402), ('affordable', 0.024901685874090154), ('taxi', 0.015442846658430646), ('services', 0.014700017076748634)]\n",
      "topic 15\n",
      "[('ride', 0.07382438292272986), ('rides', 0.06012650485258927), ('good', 0.04207655403450902), ('enjoyed', 0.041777196724083324), ('enjoy', 0.036251674633718485), ('nice', 0.03192493834198418), ('enjoying', 0.029699294499614344), ('drivers', 0.01715554169349027), ('better', 0.017120820759514484), ('im', 0.016713848692589225)]\n",
      "topic 16\n",
      "[('transport', 0.08095637507576513), ('transportation', 0.0713449521003623), ('easy', 0.04759959538713732), ('bolt', 0.03840104353227999), ('easier', 0.029444429701876395), ('trips', 0.029389493221266848), ('ride', 0.027989895447239458), ('travel', 0.02772668078951054), ('fast', 0.02221538773234994), ('trip', 0.022054142934877334)]\n",
      "topic 17\n",
      "[('comfortable', 0.09624499590487245), ('clean', 0.05862953022189696), ('cars', 0.05840799072653961), ('drivers', 0.04467380022297994), ('friendly', 0.039097506949626666), ('safe', 0.02965710255425344), ('car', 0.029374673398503495), ('smooth', 0.029193300149898786), ('nice', 0.02491888714294536), ('polite', 0.0169157428522359)]\n",
      "topic 18\n",
      "[('app', 0.08427908818915238), ('useful', 0.05959923021532385), ('job', 0.058201845609914704), ('helpful', 0.03972673013173659), ('taxify', 0.03481286907929631), ('nice', 0.030531077503172608), ('works', 0.03034548198812629), ('helps', 0.018867917935004443), ('helping', 0.015431182221006055), ('work', 0.015064088598963183)]\n",
      "topic 19\n",
      "[('service', 0.12235190408409599), ('good', 0.06365407450264654), ('drivers', 0.052230186020884556), ('excellent', 0.027687085518021168), ('great', 0.02333579050338052), ('loving', 0.019224851583441047), ('services', 0.017220353382009414), ('love', 0.016656535761305213), ('taxi', 0.01660793369282969), ('care', 0.014154386487417183)]\n"
     ]
    }
   ],
   "source": [
    "for i in range(0,len(freq)-1):\n",
    "  # print(i)\n",
    "  print('topic ' + str(i))\n",
    "  print(my_model.get_topic(i))  # Select the most frequent topic"
   ]
  },
  {
   "cell_type": "code",
   "execution_count": 41,
   "id": "technical-collect",
   "metadata": {},
   "outputs": [
    {
     "data": {
      "application/vnd.plotly.v1+json": {
       "config": {
        "plotlyServerURL": "https://plot.ly"
       },
       "data": [
        {
         "customdata": [
          [
           6.019461154937744,
           1.2867778539657593,
           0,
           "affordable | promo | cheaper | uber | discounts",
           2192
          ],
          [
           6.759175777435303,
           0.16049185395240784,
           1,
           "time | minutes | convenient | affordable | driver",
           1953
          ],
          [
           8.180734634399414,
           4.419222354888916,
           2,
           "nice | good | best | great | satisfactory",
           1620
          ],
          [
           0.06477251648902893,
           -7.779493808746338,
           3,
           "love | its | good | bolt | great",
           1478
          ],
          [
           -0.3710864186286926,
           -7.789376258850098,
           4,
           "safe | efficient | reliable | friendly | good",
           1412
          ],
          [
           6.526819229125977,
           1.5244641304016113,
           5,
           "drivers | taxify | driver | he | rude",
           1397
          ],
          [
           7.555510997772217,
           1.3847519159317017,
           6,
           "phone | sms | number | cant | services",
           1337
          ],
          [
           8.144189834594727,
           4.78650426864624,
           7,
           "friendly | driver | drivers | nice | polite",
           1305
          ],
          [
           7.960259437561035,
           5.295881271362305,
           8,
           "drivers | app | friendly | great | lovely",
           1271
          ],
          [
           -0.33650097250938416,
           -6.9590983390808105,
           9,
           "perfect | awesome | exceptional | great | fantastic",
           1195
          ],
          [
           6.991526126861572,
           -0.2899443805217743,
           10,
           "location | gps | map | address | pick",
           1126
          ],
          [
           6.371367931365967,
           1.864638090133667,
           11,
           "card | account | cancel | no | blocked",
           1117
          ],
          [
           7.713929653167725,
           1.3577908277511597,
           12,
           "app | download | application | bolt | downloading",
           1047
          ],
          [
           5.839493751525879,
           1.4172016382217407,
           13,
           "great | kenya | ghana | nairobi | lagos",
           1036
          ],
          [
           -0.5053293108940125,
           -7.16070556640625,
           14,
           "uber | great | good | better | best",
           1017
          ],
          [
           7.916110515594482,
           4.643113613128662,
           15,
           "ride | rides | good | enjoyed | enjoy",
           979
          ],
          [
           7.761802673339844,
           4.447540283203125,
           16,
           "transport | transportation | easy | bolt | easier",
           845
          ],
          [
           7.711917877197266,
           5.636992454528809,
           17,
           "comfortable | clean | cars | drivers | friendly",
           782
          ],
          [
           7.282166957855225,
           -0.6334046125411987,
           18,
           "app | useful | job | helpful | taxify",
           707
          ],
          [
           -0.13285867869853973,
           -7.452770709991455,
           19,
           "service | good | drivers | excellent | great",
           687
          ]
         ],
         "hovertemplate": "<b>Topic %{customdata[2]}</b><br>Words: %{customdata[3]}<br>Size: %{customdata[4]}",
         "legendgroup": "",
         "marker": {
          "color": "#B0BEC5",
          "line": {
           "color": "DarkSlateGrey",
           "width": 2
          },
          "size": [
           2192,
           1953,
           1620,
           1478,
           1412,
           1397,
           1337,
           1305,
           1271,
           1195,
           1126,
           1117,
           1047,
           1036,
           1017,
           979,
           845,
           782,
           707,
           687
          ],
          "sizemode": "area",
          "sizeref": 1.37,
          "symbol": "circle"
         },
         "mode": "markers",
         "name": "",
         "orientation": "v",
         "showlegend": false,
         "type": "scatter",
         "x": [
          6.019461154937744,
          6.759175777435303,
          8.180734634399414,
          0.06477251648902893,
          -0.3710864186286926,
          6.526819229125977,
          7.555510997772217,
          8.144189834594727,
          7.960259437561035,
          -0.33650097250938416,
          6.991526126861572,
          6.371367931365967,
          7.713929653167725,
          5.839493751525879,
          -0.5053293108940125,
          7.916110515594482,
          7.761802673339844,
          7.711917877197266,
          7.282166957855225,
          -0.13285867869853973
         ],
         "xaxis": "x",
         "y": [
          1.2867778539657593,
          0.16049185395240784,
          4.419222354888916,
          -7.779493808746338,
          -7.789376258850098,
          1.5244641304016113,
          1.3847519159317017,
          4.78650426864624,
          5.295881271362305,
          -6.9590983390808105,
          -0.2899443805217743,
          1.864638090133667,
          1.3577908277511597,
          1.4172016382217407,
          -7.16070556640625,
          4.643113613128662,
          4.447540283203125,
          5.636992454528809,
          -0.6334046125411987,
          -7.452770709991455
         ],
         "yaxis": "y"
        }
       ],
       "layout": {
        "annotations": [
         {
          "showarrow": false,
          "text": "D1",
          "x": -0.5811287075281143,
          "y": -1.2376206874847409,
          "yshift": 10
         },
         {
          "showarrow": false,
          "text": "D2",
          "x": 4.4133580610156065,
          "xshift": 10,
          "y": 6.48254132270813
         }
        ],
        "height": 650,
        "hoverlabel": {
         "bgcolor": "white",
         "font": {
          "family": "Rockwell",
          "size": 16
         }
        },
        "legend": {
         "itemsizing": "constant",
         "tracegroupgap": 0
        },
        "margin": {
         "t": 60
        },
        "shapes": [
         {
          "line": {
           "color": "#CFD8DC",
           "width": 2
          },
          "type": "line",
          "x0": 4.4133580610156065,
          "x1": 4.4133580610156065,
          "y0": -8.957782697677612,
          "y1": 6.48254132270813
         },
         {
          "line": {
           "color": "#9E9E9E",
           "width": 2
          },
          "type": "line",
          "x0": -0.5811287075281143,
          "x1": 9.407844829559327,
          "y0": -1.2376206874847409,
          "y1": -1.2376206874847409
         }
        ],
        "sliders": [
         {
          "active": 0,
          "pad": {
           "t": 50
          },
          "steps": [
           {
            "args": [
             {
              "marker.color": [
               [
                "red",
                "#B0BEC5",
                "#B0BEC5",
                "#B0BEC5",
                "#B0BEC5",
                "#B0BEC5",
                "#B0BEC5",
                "#B0BEC5",
                "#B0BEC5",
                "#B0BEC5",
                "#B0BEC5",
                "#B0BEC5",
                "#B0BEC5",
                "#B0BEC5",
                "#B0BEC5",
                "#B0BEC5",
                "#B0BEC5",
                "#B0BEC5",
                "#B0BEC5",
                "#B0BEC5"
               ]
              ]
             }
            ],
            "label": "Topic 0",
            "method": "update"
           },
           {
            "args": [
             {
              "marker.color": [
               [
                "#B0BEC5",
                "red",
                "#B0BEC5",
                "#B0BEC5",
                "#B0BEC5",
                "#B0BEC5",
                "#B0BEC5",
                "#B0BEC5",
                "#B0BEC5",
                "#B0BEC5",
                "#B0BEC5",
                "#B0BEC5",
                "#B0BEC5",
                "#B0BEC5",
                "#B0BEC5",
                "#B0BEC5",
                "#B0BEC5",
                "#B0BEC5",
                "#B0BEC5",
                "#B0BEC5"
               ]
              ]
             }
            ],
            "label": "Topic 1",
            "method": "update"
           },
           {
            "args": [
             {
              "marker.color": [
               [
                "#B0BEC5",
                "#B0BEC5",
                "red",
                "#B0BEC5",
                "#B0BEC5",
                "#B0BEC5",
                "#B0BEC5",
                "#B0BEC5",
                "#B0BEC5",
                "#B0BEC5",
                "#B0BEC5",
                "#B0BEC5",
                "#B0BEC5",
                "#B0BEC5",
                "#B0BEC5",
                "#B0BEC5",
                "#B0BEC5",
                "#B0BEC5",
                "#B0BEC5",
                "#B0BEC5"
               ]
              ]
             }
            ],
            "label": "Topic 2",
            "method": "update"
           },
           {
            "args": [
             {
              "marker.color": [
               [
                "#B0BEC5",
                "#B0BEC5",
                "#B0BEC5",
                "red",
                "#B0BEC5",
                "#B0BEC5",
                "#B0BEC5",
                "#B0BEC5",
                "#B0BEC5",
                "#B0BEC5",
                "#B0BEC5",
                "#B0BEC5",
                "#B0BEC5",
                "#B0BEC5",
                "#B0BEC5",
                "#B0BEC5",
                "#B0BEC5",
                "#B0BEC5",
                "#B0BEC5",
                "#B0BEC5"
               ]
              ]
             }
            ],
            "label": "Topic 3",
            "method": "update"
           },
           {
            "args": [
             {
              "marker.color": [
               [
                "#B0BEC5",
                "#B0BEC5",
                "#B0BEC5",
                "#B0BEC5",
                "red",
                "#B0BEC5",
                "#B0BEC5",
                "#B0BEC5",
                "#B0BEC5",
                "#B0BEC5",
                "#B0BEC5",
                "#B0BEC5",
                "#B0BEC5",
                "#B0BEC5",
                "#B0BEC5",
                "#B0BEC5",
                "#B0BEC5",
                "#B0BEC5",
                "#B0BEC5",
                "#B0BEC5"
               ]
              ]
             }
            ],
            "label": "Topic 4",
            "method": "update"
           },
           {
            "args": [
             {
              "marker.color": [
               [
                "#B0BEC5",
                "#B0BEC5",
                "#B0BEC5",
                "#B0BEC5",
                "#B0BEC5",
                "red",
                "#B0BEC5",
                "#B0BEC5",
                "#B0BEC5",
                "#B0BEC5",
                "#B0BEC5",
                "#B0BEC5",
                "#B0BEC5",
                "#B0BEC5",
                "#B0BEC5",
                "#B0BEC5",
                "#B0BEC5",
                "#B0BEC5",
                "#B0BEC5",
                "#B0BEC5"
               ]
              ]
             }
            ],
            "label": "Topic 5",
            "method": "update"
           },
           {
            "args": [
             {
              "marker.color": [
               [
                "#B0BEC5",
                "#B0BEC5",
                "#B0BEC5",
                "#B0BEC5",
                "#B0BEC5",
                "#B0BEC5",
                "red",
                "#B0BEC5",
                "#B0BEC5",
                "#B0BEC5",
                "#B0BEC5",
                "#B0BEC5",
                "#B0BEC5",
                "#B0BEC5",
                "#B0BEC5",
                "#B0BEC5",
                "#B0BEC5",
                "#B0BEC5",
                "#B0BEC5",
                "#B0BEC5"
               ]
              ]
             }
            ],
            "label": "Topic 6",
            "method": "update"
           },
           {
            "args": [
             {
              "marker.color": [
               [
                "#B0BEC5",
                "#B0BEC5",
                "#B0BEC5",
                "#B0BEC5",
                "#B0BEC5",
                "#B0BEC5",
                "#B0BEC5",
                "red",
                "#B0BEC5",
                "#B0BEC5",
                "#B0BEC5",
                "#B0BEC5",
                "#B0BEC5",
                "#B0BEC5",
                "#B0BEC5",
                "#B0BEC5",
                "#B0BEC5",
                "#B0BEC5",
                "#B0BEC5",
                "#B0BEC5"
               ]
              ]
             }
            ],
            "label": "Topic 7",
            "method": "update"
           },
           {
            "args": [
             {
              "marker.color": [
               [
                "#B0BEC5",
                "#B0BEC5",
                "#B0BEC5",
                "#B0BEC5",
                "#B0BEC5",
                "#B0BEC5",
                "#B0BEC5",
                "#B0BEC5",
                "red",
                "#B0BEC5",
                "#B0BEC5",
                "#B0BEC5",
                "#B0BEC5",
                "#B0BEC5",
                "#B0BEC5",
                "#B0BEC5",
                "#B0BEC5",
                "#B0BEC5",
                "#B0BEC5",
                "#B0BEC5"
               ]
              ]
             }
            ],
            "label": "Topic 8",
            "method": "update"
           },
           {
            "args": [
             {
              "marker.color": [
               [
                "#B0BEC5",
                "#B0BEC5",
                "#B0BEC5",
                "#B0BEC5",
                "#B0BEC5",
                "#B0BEC5",
                "#B0BEC5",
                "#B0BEC5",
                "#B0BEC5",
                "red",
                "#B0BEC5",
                "#B0BEC5",
                "#B0BEC5",
                "#B0BEC5",
                "#B0BEC5",
                "#B0BEC5",
                "#B0BEC5",
                "#B0BEC5",
                "#B0BEC5",
                "#B0BEC5"
               ]
              ]
             }
            ],
            "label": "Topic 9",
            "method": "update"
           },
           {
            "args": [
             {
              "marker.color": [
               [
                "#B0BEC5",
                "#B0BEC5",
                "#B0BEC5",
                "#B0BEC5",
                "#B0BEC5",
                "#B0BEC5",
                "#B0BEC5",
                "#B0BEC5",
                "#B0BEC5",
                "#B0BEC5",
                "red",
                "#B0BEC5",
                "#B0BEC5",
                "#B0BEC5",
                "#B0BEC5",
                "#B0BEC5",
                "#B0BEC5",
                "#B0BEC5",
                "#B0BEC5",
                "#B0BEC5"
               ]
              ]
             }
            ],
            "label": "Topic 10",
            "method": "update"
           },
           {
            "args": [
             {
              "marker.color": [
               [
                "#B0BEC5",
                "#B0BEC5",
                "#B0BEC5",
                "#B0BEC5",
                "#B0BEC5",
                "#B0BEC5",
                "#B0BEC5",
                "#B0BEC5",
                "#B0BEC5",
                "#B0BEC5",
                "#B0BEC5",
                "red",
                "#B0BEC5",
                "#B0BEC5",
                "#B0BEC5",
                "#B0BEC5",
                "#B0BEC5",
                "#B0BEC5",
                "#B0BEC5",
                "#B0BEC5"
               ]
              ]
             }
            ],
            "label": "Topic 11",
            "method": "update"
           },
           {
            "args": [
             {
              "marker.color": [
               [
                "#B0BEC5",
                "#B0BEC5",
                "#B0BEC5",
                "#B0BEC5",
                "#B0BEC5",
                "#B0BEC5",
                "#B0BEC5",
                "#B0BEC5",
                "#B0BEC5",
                "#B0BEC5",
                "#B0BEC5",
                "#B0BEC5",
                "red",
                "#B0BEC5",
                "#B0BEC5",
                "#B0BEC5",
                "#B0BEC5",
                "#B0BEC5",
                "#B0BEC5",
                "#B0BEC5"
               ]
              ]
             }
            ],
            "label": "Topic 12",
            "method": "update"
           },
           {
            "args": [
             {
              "marker.color": [
               [
                "#B0BEC5",
                "#B0BEC5",
                "#B0BEC5",
                "#B0BEC5",
                "#B0BEC5",
                "#B0BEC5",
                "#B0BEC5",
                "#B0BEC5",
                "#B0BEC5",
                "#B0BEC5",
                "#B0BEC5",
                "#B0BEC5",
                "#B0BEC5",
                "red",
                "#B0BEC5",
                "#B0BEC5",
                "#B0BEC5",
                "#B0BEC5",
                "#B0BEC5",
                "#B0BEC5"
               ]
              ]
             }
            ],
            "label": "Topic 13",
            "method": "update"
           },
           {
            "args": [
             {
              "marker.color": [
               [
                "#B0BEC5",
                "#B0BEC5",
                "#B0BEC5",
                "#B0BEC5",
                "#B0BEC5",
                "#B0BEC5",
                "#B0BEC5",
                "#B0BEC5",
                "#B0BEC5",
                "#B0BEC5",
                "#B0BEC5",
                "#B0BEC5",
                "#B0BEC5",
                "#B0BEC5",
                "red",
                "#B0BEC5",
                "#B0BEC5",
                "#B0BEC5",
                "#B0BEC5",
                "#B0BEC5"
               ]
              ]
             }
            ],
            "label": "Topic 14",
            "method": "update"
           },
           {
            "args": [
             {
              "marker.color": [
               [
                "#B0BEC5",
                "#B0BEC5",
                "#B0BEC5",
                "#B0BEC5",
                "#B0BEC5",
                "#B0BEC5",
                "#B0BEC5",
                "#B0BEC5",
                "#B0BEC5",
                "#B0BEC5",
                "#B0BEC5",
                "#B0BEC5",
                "#B0BEC5",
                "#B0BEC5",
                "#B0BEC5",
                "red",
                "#B0BEC5",
                "#B0BEC5",
                "#B0BEC5",
                "#B0BEC5"
               ]
              ]
             }
            ],
            "label": "Topic 15",
            "method": "update"
           },
           {
            "args": [
             {
              "marker.color": [
               [
                "#B0BEC5",
                "#B0BEC5",
                "#B0BEC5",
                "#B0BEC5",
                "#B0BEC5",
                "#B0BEC5",
                "#B0BEC5",
                "#B0BEC5",
                "#B0BEC5",
                "#B0BEC5",
                "#B0BEC5",
                "#B0BEC5",
                "#B0BEC5",
                "#B0BEC5",
                "#B0BEC5",
                "#B0BEC5",
                "red",
                "#B0BEC5",
                "#B0BEC5",
                "#B0BEC5"
               ]
              ]
             }
            ],
            "label": "Topic 16",
            "method": "update"
           },
           {
            "args": [
             {
              "marker.color": [
               [
                "#B0BEC5",
                "#B0BEC5",
                "#B0BEC5",
                "#B0BEC5",
                "#B0BEC5",
                "#B0BEC5",
                "#B0BEC5",
                "#B0BEC5",
                "#B0BEC5",
                "#B0BEC5",
                "#B0BEC5",
                "#B0BEC5",
                "#B0BEC5",
                "#B0BEC5",
                "#B0BEC5",
                "#B0BEC5",
                "#B0BEC5",
                "red",
                "#B0BEC5",
                "#B0BEC5"
               ]
              ]
             }
            ],
            "label": "Topic 17",
            "method": "update"
           },
           {
            "args": [
             {
              "marker.color": [
               [
                "#B0BEC5",
                "#B0BEC5",
                "#B0BEC5",
                "#B0BEC5",
                "#B0BEC5",
                "#B0BEC5",
                "#B0BEC5",
                "#B0BEC5",
                "#B0BEC5",
                "#B0BEC5",
                "#B0BEC5",
                "#B0BEC5",
                "#B0BEC5",
                "#B0BEC5",
                "#B0BEC5",
                "#B0BEC5",
                "#B0BEC5",
                "#B0BEC5",
                "red",
                "#B0BEC5"
               ]
              ]
             }
            ],
            "label": "Topic 18",
            "method": "update"
           },
           {
            "args": [
             {
              "marker.color": [
               [
                "#B0BEC5",
                "#B0BEC5",
                "#B0BEC5",
                "#B0BEC5",
                "#B0BEC5",
                "#B0BEC5",
                "#B0BEC5",
                "#B0BEC5",
                "#B0BEC5",
                "#B0BEC5",
                "#B0BEC5",
                "#B0BEC5",
                "#B0BEC5",
                "#B0BEC5",
                "#B0BEC5",
                "#B0BEC5",
                "#B0BEC5",
                "#B0BEC5",
                "#B0BEC5",
                "red"
               ]
              ]
             }
            ],
            "label": "Topic 19",
            "method": "update"
           }
          ]
         }
        ],
        "template": {
         "data": {
          "bar": [
           {
            "error_x": {
             "color": "rgb(36,36,36)"
            },
            "error_y": {
             "color": "rgb(36,36,36)"
            },
            "marker": {
             "line": {
              "color": "white",
              "width": 0.5
             }
            },
            "type": "bar"
           }
          ],
          "barpolar": [
           {
            "marker": {
             "line": {
              "color": "white",
              "width": 0.5
             }
            },
            "type": "barpolar"
           }
          ],
          "carpet": [
           {
            "aaxis": {
             "endlinecolor": "rgb(36,36,36)",
             "gridcolor": "white",
             "linecolor": "white",
             "minorgridcolor": "white",
             "startlinecolor": "rgb(36,36,36)"
            },
            "baxis": {
             "endlinecolor": "rgb(36,36,36)",
             "gridcolor": "white",
             "linecolor": "white",
             "minorgridcolor": "white",
             "startlinecolor": "rgb(36,36,36)"
            },
            "type": "carpet"
           }
          ],
          "choropleth": [
           {
            "colorbar": {
             "outlinewidth": 1,
             "tickcolor": "rgb(36,36,36)",
             "ticks": "outside"
            },
            "type": "choropleth"
           }
          ],
          "contour": [
           {
            "colorbar": {
             "outlinewidth": 1,
             "tickcolor": "rgb(36,36,36)",
             "ticks": "outside"
            },
            "colorscale": [
             [
              0,
              "#440154"
             ],
             [
              0.1111111111111111,
              "#482878"
             ],
             [
              0.2222222222222222,
              "#3e4989"
             ],
             [
              0.3333333333333333,
              "#31688e"
             ],
             [
              0.4444444444444444,
              "#26828e"
             ],
             [
              0.5555555555555556,
              "#1f9e89"
             ],
             [
              0.6666666666666666,
              "#35b779"
             ],
             [
              0.7777777777777778,
              "#6ece58"
             ],
             [
              0.8888888888888888,
              "#b5de2b"
             ],
             [
              1,
              "#fde725"
             ]
            ],
            "type": "contour"
           }
          ],
          "contourcarpet": [
           {
            "colorbar": {
             "outlinewidth": 1,
             "tickcolor": "rgb(36,36,36)",
             "ticks": "outside"
            },
            "type": "contourcarpet"
           }
          ],
          "heatmap": [
           {
            "colorbar": {
             "outlinewidth": 1,
             "tickcolor": "rgb(36,36,36)",
             "ticks": "outside"
            },
            "colorscale": [
             [
              0,
              "#440154"
             ],
             [
              0.1111111111111111,
              "#482878"
             ],
             [
              0.2222222222222222,
              "#3e4989"
             ],
             [
              0.3333333333333333,
              "#31688e"
             ],
             [
              0.4444444444444444,
              "#26828e"
             ],
             [
              0.5555555555555556,
              "#1f9e89"
             ],
             [
              0.6666666666666666,
              "#35b779"
             ],
             [
              0.7777777777777778,
              "#6ece58"
             ],
             [
              0.8888888888888888,
              "#b5de2b"
             ],
             [
              1,
              "#fde725"
             ]
            ],
            "type": "heatmap"
           }
          ],
          "heatmapgl": [
           {
            "colorbar": {
             "outlinewidth": 1,
             "tickcolor": "rgb(36,36,36)",
             "ticks": "outside"
            },
            "colorscale": [
             [
              0,
              "#440154"
             ],
             [
              0.1111111111111111,
              "#482878"
             ],
             [
              0.2222222222222222,
              "#3e4989"
             ],
             [
              0.3333333333333333,
              "#31688e"
             ],
             [
              0.4444444444444444,
              "#26828e"
             ],
             [
              0.5555555555555556,
              "#1f9e89"
             ],
             [
              0.6666666666666666,
              "#35b779"
             ],
             [
              0.7777777777777778,
              "#6ece58"
             ],
             [
              0.8888888888888888,
              "#b5de2b"
             ],
             [
              1,
              "#fde725"
             ]
            ],
            "type": "heatmapgl"
           }
          ],
          "histogram": [
           {
            "marker": {
             "line": {
              "color": "white",
              "width": 0.6
             }
            },
            "type": "histogram"
           }
          ],
          "histogram2d": [
           {
            "colorbar": {
             "outlinewidth": 1,
             "tickcolor": "rgb(36,36,36)",
             "ticks": "outside"
            },
            "colorscale": [
             [
              0,
              "#440154"
             ],
             [
              0.1111111111111111,
              "#482878"
             ],
             [
              0.2222222222222222,
              "#3e4989"
             ],
             [
              0.3333333333333333,
              "#31688e"
             ],
             [
              0.4444444444444444,
              "#26828e"
             ],
             [
              0.5555555555555556,
              "#1f9e89"
             ],
             [
              0.6666666666666666,
              "#35b779"
             ],
             [
              0.7777777777777778,
              "#6ece58"
             ],
             [
              0.8888888888888888,
              "#b5de2b"
             ],
             [
              1,
              "#fde725"
             ]
            ],
            "type": "histogram2d"
           }
          ],
          "histogram2dcontour": [
           {
            "colorbar": {
             "outlinewidth": 1,
             "tickcolor": "rgb(36,36,36)",
             "ticks": "outside"
            },
            "colorscale": [
             [
              0,
              "#440154"
             ],
             [
              0.1111111111111111,
              "#482878"
             ],
             [
              0.2222222222222222,
              "#3e4989"
             ],
             [
              0.3333333333333333,
              "#31688e"
             ],
             [
              0.4444444444444444,
              "#26828e"
             ],
             [
              0.5555555555555556,
              "#1f9e89"
             ],
             [
              0.6666666666666666,
              "#35b779"
             ],
             [
              0.7777777777777778,
              "#6ece58"
             ],
             [
              0.8888888888888888,
              "#b5de2b"
             ],
             [
              1,
              "#fde725"
             ]
            ],
            "type": "histogram2dcontour"
           }
          ],
          "mesh3d": [
           {
            "colorbar": {
             "outlinewidth": 1,
             "tickcolor": "rgb(36,36,36)",
             "ticks": "outside"
            },
            "type": "mesh3d"
           }
          ],
          "parcoords": [
           {
            "line": {
             "colorbar": {
              "outlinewidth": 1,
              "tickcolor": "rgb(36,36,36)",
              "ticks": "outside"
             }
            },
            "type": "parcoords"
           }
          ],
          "pie": [
           {
            "automargin": true,
            "type": "pie"
           }
          ],
          "scatter": [
           {
            "marker": {
             "colorbar": {
              "outlinewidth": 1,
              "tickcolor": "rgb(36,36,36)",
              "ticks": "outside"
             }
            },
            "type": "scatter"
           }
          ],
          "scatter3d": [
           {
            "line": {
             "colorbar": {
              "outlinewidth": 1,
              "tickcolor": "rgb(36,36,36)",
              "ticks": "outside"
             }
            },
            "marker": {
             "colorbar": {
              "outlinewidth": 1,
              "tickcolor": "rgb(36,36,36)",
              "ticks": "outside"
             }
            },
            "type": "scatter3d"
           }
          ],
          "scattercarpet": [
           {
            "marker": {
             "colorbar": {
              "outlinewidth": 1,
              "tickcolor": "rgb(36,36,36)",
              "ticks": "outside"
             }
            },
            "type": "scattercarpet"
           }
          ],
          "scattergeo": [
           {
            "marker": {
             "colorbar": {
              "outlinewidth": 1,
              "tickcolor": "rgb(36,36,36)",
              "ticks": "outside"
             }
            },
            "type": "scattergeo"
           }
          ],
          "scattergl": [
           {
            "marker": {
             "colorbar": {
              "outlinewidth": 1,
              "tickcolor": "rgb(36,36,36)",
              "ticks": "outside"
             }
            },
            "type": "scattergl"
           }
          ],
          "scattermapbox": [
           {
            "marker": {
             "colorbar": {
              "outlinewidth": 1,
              "tickcolor": "rgb(36,36,36)",
              "ticks": "outside"
             }
            },
            "type": "scattermapbox"
           }
          ],
          "scatterpolar": [
           {
            "marker": {
             "colorbar": {
              "outlinewidth": 1,
              "tickcolor": "rgb(36,36,36)",
              "ticks": "outside"
             }
            },
            "type": "scatterpolar"
           }
          ],
          "scatterpolargl": [
           {
            "marker": {
             "colorbar": {
              "outlinewidth": 1,
              "tickcolor": "rgb(36,36,36)",
              "ticks": "outside"
             }
            },
            "type": "scatterpolargl"
           }
          ],
          "scatterternary": [
           {
            "marker": {
             "colorbar": {
              "outlinewidth": 1,
              "tickcolor": "rgb(36,36,36)",
              "ticks": "outside"
             }
            },
            "type": "scatterternary"
           }
          ],
          "surface": [
           {
            "colorbar": {
             "outlinewidth": 1,
             "tickcolor": "rgb(36,36,36)",
             "ticks": "outside"
            },
            "colorscale": [
             [
              0,
              "#440154"
             ],
             [
              0.1111111111111111,
              "#482878"
             ],
             [
              0.2222222222222222,
              "#3e4989"
             ],
             [
              0.3333333333333333,
              "#31688e"
             ],
             [
              0.4444444444444444,
              "#26828e"
             ],
             [
              0.5555555555555556,
              "#1f9e89"
             ],
             [
              0.6666666666666666,
              "#35b779"
             ],
             [
              0.7777777777777778,
              "#6ece58"
             ],
             [
              0.8888888888888888,
              "#b5de2b"
             ],
             [
              1,
              "#fde725"
             ]
            ],
            "type": "surface"
           }
          ],
          "table": [
           {
            "cells": {
             "fill": {
              "color": "rgb(237,237,237)"
             },
             "line": {
              "color": "white"
             }
            },
            "header": {
             "fill": {
              "color": "rgb(217,217,217)"
             },
             "line": {
              "color": "white"
             }
            },
            "type": "table"
           }
          ]
         },
         "layout": {
          "annotationdefaults": {
           "arrowhead": 0,
           "arrowwidth": 1
          },
          "autotypenumbers": "strict",
          "coloraxis": {
           "colorbar": {
            "outlinewidth": 1,
            "tickcolor": "rgb(36,36,36)",
            "ticks": "outside"
           }
          },
          "colorscale": {
           "diverging": [
            [
             0,
             "rgb(103,0,31)"
            ],
            [
             0.1,
             "rgb(178,24,43)"
            ],
            [
             0.2,
             "rgb(214,96,77)"
            ],
            [
             0.3,
             "rgb(244,165,130)"
            ],
            [
             0.4,
             "rgb(253,219,199)"
            ],
            [
             0.5,
             "rgb(247,247,247)"
            ],
            [
             0.6,
             "rgb(209,229,240)"
            ],
            [
             0.7,
             "rgb(146,197,222)"
            ],
            [
             0.8,
             "rgb(67,147,195)"
            ],
            [
             0.9,
             "rgb(33,102,172)"
            ],
            [
             1,
             "rgb(5,48,97)"
            ]
           ],
           "sequential": [
            [
             0,
             "#440154"
            ],
            [
             0.1111111111111111,
             "#482878"
            ],
            [
             0.2222222222222222,
             "#3e4989"
            ],
            [
             0.3333333333333333,
             "#31688e"
            ],
            [
             0.4444444444444444,
             "#26828e"
            ],
            [
             0.5555555555555556,
             "#1f9e89"
            ],
            [
             0.6666666666666666,
             "#35b779"
            ],
            [
             0.7777777777777778,
             "#6ece58"
            ],
            [
             0.8888888888888888,
             "#b5de2b"
            ],
            [
             1,
             "#fde725"
            ]
           ],
           "sequentialminus": [
            [
             0,
             "#440154"
            ],
            [
             0.1111111111111111,
             "#482878"
            ],
            [
             0.2222222222222222,
             "#3e4989"
            ],
            [
             0.3333333333333333,
             "#31688e"
            ],
            [
             0.4444444444444444,
             "#26828e"
            ],
            [
             0.5555555555555556,
             "#1f9e89"
            ],
            [
             0.6666666666666666,
             "#35b779"
            ],
            [
             0.7777777777777778,
             "#6ece58"
            ],
            [
             0.8888888888888888,
             "#b5de2b"
            ],
            [
             1,
             "#fde725"
            ]
           ]
          },
          "colorway": [
           "#1F77B4",
           "#FF7F0E",
           "#2CA02C",
           "#D62728",
           "#9467BD",
           "#8C564B",
           "#E377C2",
           "#7F7F7F",
           "#BCBD22",
           "#17BECF"
          ],
          "font": {
           "color": "rgb(36,36,36)"
          },
          "geo": {
           "bgcolor": "white",
           "lakecolor": "white",
           "landcolor": "white",
           "showlakes": true,
           "showland": true,
           "subunitcolor": "white"
          },
          "hoverlabel": {
           "align": "left"
          },
          "hovermode": "closest",
          "mapbox": {
           "style": "light"
          },
          "paper_bgcolor": "white",
          "plot_bgcolor": "white",
          "polar": {
           "angularaxis": {
            "gridcolor": "rgb(232,232,232)",
            "linecolor": "rgb(36,36,36)",
            "showgrid": false,
            "showline": true,
            "ticks": "outside"
           },
           "bgcolor": "white",
           "radialaxis": {
            "gridcolor": "rgb(232,232,232)",
            "linecolor": "rgb(36,36,36)",
            "showgrid": false,
            "showline": true,
            "ticks": "outside"
           }
          },
          "scene": {
           "xaxis": {
            "backgroundcolor": "white",
            "gridcolor": "rgb(232,232,232)",
            "gridwidth": 2,
            "linecolor": "rgb(36,36,36)",
            "showbackground": true,
            "showgrid": false,
            "showline": true,
            "ticks": "outside",
            "zeroline": false,
            "zerolinecolor": "rgb(36,36,36)"
           },
           "yaxis": {
            "backgroundcolor": "white",
            "gridcolor": "rgb(232,232,232)",
            "gridwidth": 2,
            "linecolor": "rgb(36,36,36)",
            "showbackground": true,
            "showgrid": false,
            "showline": true,
            "ticks": "outside",
            "zeroline": false,
            "zerolinecolor": "rgb(36,36,36)"
           },
           "zaxis": {
            "backgroundcolor": "white",
            "gridcolor": "rgb(232,232,232)",
            "gridwidth": 2,
            "linecolor": "rgb(36,36,36)",
            "showbackground": true,
            "showgrid": false,
            "showline": true,
            "ticks": "outside",
            "zeroline": false,
            "zerolinecolor": "rgb(36,36,36)"
           }
          },
          "shapedefaults": {
           "fillcolor": "black",
           "line": {
            "width": 0
           },
           "opacity": 0.3
          },
          "ternary": {
           "aaxis": {
            "gridcolor": "rgb(232,232,232)",
            "linecolor": "rgb(36,36,36)",
            "showgrid": false,
            "showline": true,
            "ticks": "outside"
           },
           "baxis": {
            "gridcolor": "rgb(232,232,232)",
            "linecolor": "rgb(36,36,36)",
            "showgrid": false,
            "showline": true,
            "ticks": "outside"
           },
           "bgcolor": "white",
           "caxis": {
            "gridcolor": "rgb(232,232,232)",
            "linecolor": "rgb(36,36,36)",
            "showgrid": false,
            "showline": true,
            "ticks": "outside"
           }
          },
          "title": {
           "x": 0.05
          },
          "xaxis": {
           "automargin": true,
           "gridcolor": "rgb(232,232,232)",
           "linecolor": "rgb(36,36,36)",
           "showgrid": false,
           "showline": true,
           "ticks": "outside",
           "title": {
            "standoff": 15
           },
           "zeroline": false,
           "zerolinecolor": "rgb(36,36,36)"
          },
          "yaxis": {
           "automargin": true,
           "gridcolor": "rgb(232,232,232)",
           "linecolor": "rgb(36,36,36)",
           "showgrid": false,
           "showline": true,
           "ticks": "outside",
           "title": {
            "standoff": 15
           },
           "zeroline": false,
           "zerolinecolor": "rgb(36,36,36)"
          }
         }
        },
        "title": {
         "font": {
          "color": "Black",
          "size": 22
         },
         "text": "<b>Intertopic Distance Map",
         "x": 0.5,
         "xanchor": "center",
         "y": 0.95,
         "yanchor": "top"
        },
        "width": 650,
        "xaxis": {
         "anchor": "y",
         "domain": [
          0,
          1
         ],
         "range": [
          -0.5811287075281143,
          9.407844829559327
         ],
         "title": {
          "text": ""
         },
         "visible": false
        },
        "yaxis": {
         "anchor": "x",
         "domain": [
          0,
          1
         ],
         "range": [
          -8.957782697677612,
          6.48254132270813
         ],
         "title": {
          "text": ""
         },
         "visible": false
        }
       }
      },
      "text/html": [
       "<div>                            <div id=\"3490d69b-9c60-4c45-859b-d390298f435b\" class=\"plotly-graph-div\" style=\"height:650px; width:650px;\"></div>            <script type=\"text/javascript\">                require([\"plotly\"], function(Plotly) {                    window.PLOTLYENV=window.PLOTLYENV || {};                                    if (document.getElementById(\"3490d69b-9c60-4c45-859b-d390298f435b\")) {                    Plotly.newPlot(                        \"3490d69b-9c60-4c45-859b-d390298f435b\",                        [{\"customdata\": [[6.019461154937744, 1.2867778539657593, 0, \"affordable | promo | cheaper | uber | discounts\", 2192], [6.759175777435303, 0.16049185395240784, 1, \"time | minutes | convenient | affordable | driver\", 1953], [8.180734634399414, 4.419222354888916, 2, \"nice | good | best | great | satisfactory\", 1620], [0.06477251648902893, -7.779493808746338, 3, \"love | its | good | bolt | great\", 1478], [-0.3710864186286926, -7.789376258850098, 4, \"safe | efficient | reliable | friendly | good\", 1412], [6.526819229125977, 1.5244641304016113, 5, \"drivers | taxify | driver | he | rude\", 1397], [7.555510997772217, 1.3847519159317017, 6, \"phone | sms | number | cant | services\", 1337], [8.144189834594727, 4.78650426864624, 7, \"friendly | driver | drivers | nice | polite\", 1305], [7.960259437561035, 5.295881271362305, 8, \"drivers | app | friendly | great | lovely\", 1271], [-0.33650097250938416, -6.9590983390808105, 9, \"perfect | awesome | exceptional | great | fantastic\", 1195], [6.991526126861572, -0.2899443805217743, 10, \"location | gps | map | address | pick\", 1126], [6.371367931365967, 1.864638090133667, 11, \"card | account | cancel | no | blocked\", 1117], [7.713929653167725, 1.3577908277511597, 12, \"app | download | application | bolt | downloading\", 1047], [5.839493751525879, 1.4172016382217407, 13, \"great | kenya | ghana | nairobi | lagos\", 1036], [-0.5053293108940125, -7.16070556640625, 14, \"uber | great | good | better | best\", 1017], [7.916110515594482, 4.643113613128662, 15, \"ride | rides | good | enjoyed | enjoy\", 979], [7.761802673339844, 4.447540283203125, 16, \"transport | transportation | easy | bolt | easier\", 845], [7.711917877197266, 5.636992454528809, 17, \"comfortable | clean | cars | drivers | friendly\", 782], [7.282166957855225, -0.6334046125411987, 18, \"app | useful | job | helpful | taxify\", 707], [-0.13285867869853973, -7.452770709991455, 19, \"service | good | drivers | excellent | great\", 687]], \"hovertemplate\": \"<b>Topic %{customdata[2]}</b><br>Words: %{customdata[3]}<br>Size: %{customdata[4]}\", \"legendgroup\": \"\", \"marker\": {\"color\": \"#B0BEC5\", \"line\": {\"color\": \"DarkSlateGrey\", \"width\": 2}, \"size\": [2192, 1953, 1620, 1478, 1412, 1397, 1337, 1305, 1271, 1195, 1126, 1117, 1047, 1036, 1017, 979, 845, 782, 707, 687], \"sizemode\": \"area\", \"sizeref\": 1.37, \"symbol\": \"circle\"}, \"mode\": \"markers\", \"name\": \"\", \"orientation\": \"v\", \"showlegend\": false, \"type\": \"scatter\", \"x\": [6.019461154937744, 6.759175777435303, 8.180734634399414, 0.06477251648902893, -0.3710864186286926, 6.526819229125977, 7.555510997772217, 8.144189834594727, 7.960259437561035, -0.33650097250938416, 6.991526126861572, 6.371367931365967, 7.713929653167725, 5.839493751525879, -0.5053293108940125, 7.916110515594482, 7.761802673339844, 7.711917877197266, 7.282166957855225, -0.13285867869853973], \"xaxis\": \"x\", \"y\": [1.2867778539657593, 0.16049185395240784, 4.419222354888916, -7.779493808746338, -7.789376258850098, 1.5244641304016113, 1.3847519159317017, 4.78650426864624, 5.295881271362305, -6.9590983390808105, -0.2899443805217743, 1.864638090133667, 1.3577908277511597, 1.4172016382217407, -7.16070556640625, 4.643113613128662, 4.447540283203125, 5.636992454528809, -0.6334046125411987, -7.452770709991455], \"yaxis\": \"y\"}],                        {\"annotations\": [{\"showarrow\": false, \"text\": \"D1\", \"x\": -0.5811287075281143, \"y\": -1.2376206874847409, \"yshift\": 10}, {\"showarrow\": false, \"text\": \"D2\", \"x\": 4.4133580610156065, \"xshift\": 10, \"y\": 6.48254132270813}], \"height\": 650, \"hoverlabel\": {\"bgcolor\": \"white\", \"font\": {\"family\": \"Rockwell\", \"size\": 16}}, \"legend\": {\"itemsizing\": \"constant\", \"tracegroupgap\": 0}, \"margin\": {\"t\": 60}, \"shapes\": [{\"line\": {\"color\": \"#CFD8DC\", \"width\": 2}, \"type\": \"line\", \"x0\": 4.4133580610156065, \"x1\": 4.4133580610156065, \"y0\": -8.957782697677612, \"y1\": 6.48254132270813}, {\"line\": {\"color\": \"#9E9E9E\", \"width\": 2}, \"type\": \"line\", \"x0\": -0.5811287075281143, \"x1\": 9.407844829559327, \"y0\": -1.2376206874847409, \"y1\": -1.2376206874847409}], \"sliders\": [{\"active\": 0, \"pad\": {\"t\": 50}, \"steps\": [{\"args\": [{\"marker.color\": [[\"red\", \"#B0BEC5\", \"#B0BEC5\", \"#B0BEC5\", \"#B0BEC5\", \"#B0BEC5\", \"#B0BEC5\", \"#B0BEC5\", \"#B0BEC5\", \"#B0BEC5\", \"#B0BEC5\", \"#B0BEC5\", \"#B0BEC5\", \"#B0BEC5\", \"#B0BEC5\", \"#B0BEC5\", \"#B0BEC5\", \"#B0BEC5\", \"#B0BEC5\", \"#B0BEC5\"]]}], \"label\": \"Topic 0\", \"method\": \"update\"}, {\"args\": [{\"marker.color\": [[\"#B0BEC5\", \"red\", \"#B0BEC5\", \"#B0BEC5\", \"#B0BEC5\", \"#B0BEC5\", \"#B0BEC5\", \"#B0BEC5\", \"#B0BEC5\", \"#B0BEC5\", \"#B0BEC5\", \"#B0BEC5\", \"#B0BEC5\", \"#B0BEC5\", \"#B0BEC5\", \"#B0BEC5\", \"#B0BEC5\", \"#B0BEC5\", \"#B0BEC5\", \"#B0BEC5\"]]}], \"label\": \"Topic 1\", \"method\": \"update\"}, {\"args\": [{\"marker.color\": [[\"#B0BEC5\", \"#B0BEC5\", \"red\", \"#B0BEC5\", \"#B0BEC5\", \"#B0BEC5\", \"#B0BEC5\", \"#B0BEC5\", \"#B0BEC5\", \"#B0BEC5\", \"#B0BEC5\", \"#B0BEC5\", \"#B0BEC5\", \"#B0BEC5\", \"#B0BEC5\", \"#B0BEC5\", \"#B0BEC5\", \"#B0BEC5\", \"#B0BEC5\", \"#B0BEC5\"]]}], \"label\": \"Topic 2\", \"method\": \"update\"}, {\"args\": [{\"marker.color\": [[\"#B0BEC5\", \"#B0BEC5\", \"#B0BEC5\", \"red\", \"#B0BEC5\", \"#B0BEC5\", \"#B0BEC5\", \"#B0BEC5\", \"#B0BEC5\", \"#B0BEC5\", \"#B0BEC5\", \"#B0BEC5\", \"#B0BEC5\", \"#B0BEC5\", \"#B0BEC5\", \"#B0BEC5\", \"#B0BEC5\", \"#B0BEC5\", \"#B0BEC5\", \"#B0BEC5\"]]}], \"label\": \"Topic 3\", \"method\": \"update\"}, {\"args\": [{\"marker.color\": [[\"#B0BEC5\", \"#B0BEC5\", \"#B0BEC5\", \"#B0BEC5\", \"red\", \"#B0BEC5\", \"#B0BEC5\", \"#B0BEC5\", \"#B0BEC5\", \"#B0BEC5\", \"#B0BEC5\", \"#B0BEC5\", \"#B0BEC5\", \"#B0BEC5\", \"#B0BEC5\", \"#B0BEC5\", \"#B0BEC5\", \"#B0BEC5\", \"#B0BEC5\", \"#B0BEC5\"]]}], \"label\": \"Topic 4\", \"method\": \"update\"}, {\"args\": [{\"marker.color\": [[\"#B0BEC5\", \"#B0BEC5\", \"#B0BEC5\", \"#B0BEC5\", \"#B0BEC5\", \"red\", \"#B0BEC5\", \"#B0BEC5\", \"#B0BEC5\", \"#B0BEC5\", \"#B0BEC5\", \"#B0BEC5\", \"#B0BEC5\", \"#B0BEC5\", \"#B0BEC5\", \"#B0BEC5\", \"#B0BEC5\", \"#B0BEC5\", \"#B0BEC5\", \"#B0BEC5\"]]}], \"label\": \"Topic 5\", \"method\": \"update\"}, {\"args\": [{\"marker.color\": [[\"#B0BEC5\", \"#B0BEC5\", \"#B0BEC5\", \"#B0BEC5\", \"#B0BEC5\", \"#B0BEC5\", \"red\", \"#B0BEC5\", \"#B0BEC5\", \"#B0BEC5\", \"#B0BEC5\", \"#B0BEC5\", \"#B0BEC5\", \"#B0BEC5\", \"#B0BEC5\", \"#B0BEC5\", \"#B0BEC5\", \"#B0BEC5\", \"#B0BEC5\", \"#B0BEC5\"]]}], \"label\": \"Topic 6\", \"method\": \"update\"}, {\"args\": [{\"marker.color\": [[\"#B0BEC5\", \"#B0BEC5\", \"#B0BEC5\", \"#B0BEC5\", \"#B0BEC5\", \"#B0BEC5\", \"#B0BEC5\", \"red\", \"#B0BEC5\", \"#B0BEC5\", \"#B0BEC5\", \"#B0BEC5\", \"#B0BEC5\", \"#B0BEC5\", \"#B0BEC5\", \"#B0BEC5\", \"#B0BEC5\", \"#B0BEC5\", \"#B0BEC5\", \"#B0BEC5\"]]}], \"label\": \"Topic 7\", \"method\": \"update\"}, {\"args\": [{\"marker.color\": [[\"#B0BEC5\", \"#B0BEC5\", \"#B0BEC5\", \"#B0BEC5\", \"#B0BEC5\", \"#B0BEC5\", \"#B0BEC5\", \"#B0BEC5\", \"red\", \"#B0BEC5\", \"#B0BEC5\", \"#B0BEC5\", \"#B0BEC5\", \"#B0BEC5\", \"#B0BEC5\", \"#B0BEC5\", \"#B0BEC5\", \"#B0BEC5\", \"#B0BEC5\", \"#B0BEC5\"]]}], \"label\": \"Topic 8\", \"method\": \"update\"}, {\"args\": [{\"marker.color\": [[\"#B0BEC5\", \"#B0BEC5\", \"#B0BEC5\", \"#B0BEC5\", \"#B0BEC5\", \"#B0BEC5\", \"#B0BEC5\", \"#B0BEC5\", \"#B0BEC5\", \"red\", \"#B0BEC5\", \"#B0BEC5\", \"#B0BEC5\", \"#B0BEC5\", \"#B0BEC5\", \"#B0BEC5\", \"#B0BEC5\", \"#B0BEC5\", \"#B0BEC5\", \"#B0BEC5\"]]}], \"label\": \"Topic 9\", \"method\": \"update\"}, {\"args\": [{\"marker.color\": [[\"#B0BEC5\", \"#B0BEC5\", \"#B0BEC5\", \"#B0BEC5\", \"#B0BEC5\", \"#B0BEC5\", \"#B0BEC5\", \"#B0BEC5\", \"#B0BEC5\", \"#B0BEC5\", \"red\", \"#B0BEC5\", \"#B0BEC5\", \"#B0BEC5\", \"#B0BEC5\", \"#B0BEC5\", \"#B0BEC5\", \"#B0BEC5\", \"#B0BEC5\", \"#B0BEC5\"]]}], \"label\": \"Topic 10\", \"method\": \"update\"}, {\"args\": [{\"marker.color\": [[\"#B0BEC5\", \"#B0BEC5\", \"#B0BEC5\", \"#B0BEC5\", \"#B0BEC5\", \"#B0BEC5\", \"#B0BEC5\", \"#B0BEC5\", \"#B0BEC5\", \"#B0BEC5\", \"#B0BEC5\", \"red\", \"#B0BEC5\", \"#B0BEC5\", \"#B0BEC5\", \"#B0BEC5\", \"#B0BEC5\", \"#B0BEC5\", \"#B0BEC5\", \"#B0BEC5\"]]}], \"label\": \"Topic 11\", \"method\": \"update\"}, {\"args\": [{\"marker.color\": [[\"#B0BEC5\", \"#B0BEC5\", \"#B0BEC5\", \"#B0BEC5\", \"#B0BEC5\", \"#B0BEC5\", \"#B0BEC5\", \"#B0BEC5\", \"#B0BEC5\", \"#B0BEC5\", \"#B0BEC5\", \"#B0BEC5\", \"red\", \"#B0BEC5\", \"#B0BEC5\", \"#B0BEC5\", \"#B0BEC5\", \"#B0BEC5\", \"#B0BEC5\", \"#B0BEC5\"]]}], \"label\": \"Topic 12\", \"method\": \"update\"}, {\"args\": [{\"marker.color\": [[\"#B0BEC5\", \"#B0BEC5\", \"#B0BEC5\", \"#B0BEC5\", \"#B0BEC5\", \"#B0BEC5\", \"#B0BEC5\", \"#B0BEC5\", \"#B0BEC5\", \"#B0BEC5\", \"#B0BEC5\", \"#B0BEC5\", \"#B0BEC5\", \"red\", \"#B0BEC5\", \"#B0BEC5\", \"#B0BEC5\", \"#B0BEC5\", \"#B0BEC5\", \"#B0BEC5\"]]}], \"label\": \"Topic 13\", \"method\": \"update\"}, {\"args\": [{\"marker.color\": [[\"#B0BEC5\", \"#B0BEC5\", \"#B0BEC5\", \"#B0BEC5\", \"#B0BEC5\", \"#B0BEC5\", \"#B0BEC5\", \"#B0BEC5\", \"#B0BEC5\", \"#B0BEC5\", \"#B0BEC5\", \"#B0BEC5\", \"#B0BEC5\", \"#B0BEC5\", \"red\", \"#B0BEC5\", \"#B0BEC5\", \"#B0BEC5\", \"#B0BEC5\", \"#B0BEC5\"]]}], \"label\": \"Topic 14\", \"method\": \"update\"}, {\"args\": [{\"marker.color\": [[\"#B0BEC5\", \"#B0BEC5\", \"#B0BEC5\", \"#B0BEC5\", \"#B0BEC5\", \"#B0BEC5\", \"#B0BEC5\", \"#B0BEC5\", \"#B0BEC5\", \"#B0BEC5\", \"#B0BEC5\", \"#B0BEC5\", \"#B0BEC5\", \"#B0BEC5\", \"#B0BEC5\", \"red\", \"#B0BEC5\", \"#B0BEC5\", \"#B0BEC5\", \"#B0BEC5\"]]}], \"label\": \"Topic 15\", \"method\": \"update\"}, {\"args\": [{\"marker.color\": [[\"#B0BEC5\", \"#B0BEC5\", \"#B0BEC5\", \"#B0BEC5\", \"#B0BEC5\", \"#B0BEC5\", \"#B0BEC5\", \"#B0BEC5\", \"#B0BEC5\", \"#B0BEC5\", \"#B0BEC5\", \"#B0BEC5\", \"#B0BEC5\", \"#B0BEC5\", \"#B0BEC5\", \"#B0BEC5\", \"red\", \"#B0BEC5\", \"#B0BEC5\", \"#B0BEC5\"]]}], \"label\": \"Topic 16\", \"method\": \"update\"}, {\"args\": [{\"marker.color\": [[\"#B0BEC5\", \"#B0BEC5\", \"#B0BEC5\", \"#B0BEC5\", \"#B0BEC5\", \"#B0BEC5\", \"#B0BEC5\", \"#B0BEC5\", \"#B0BEC5\", \"#B0BEC5\", \"#B0BEC5\", \"#B0BEC5\", \"#B0BEC5\", \"#B0BEC5\", \"#B0BEC5\", \"#B0BEC5\", \"#B0BEC5\", \"red\", \"#B0BEC5\", \"#B0BEC5\"]]}], \"label\": \"Topic 17\", \"method\": \"update\"}, {\"args\": [{\"marker.color\": [[\"#B0BEC5\", \"#B0BEC5\", \"#B0BEC5\", \"#B0BEC5\", \"#B0BEC5\", \"#B0BEC5\", \"#B0BEC5\", \"#B0BEC5\", \"#B0BEC5\", \"#B0BEC5\", \"#B0BEC5\", \"#B0BEC5\", \"#B0BEC5\", \"#B0BEC5\", \"#B0BEC5\", \"#B0BEC5\", \"#B0BEC5\", \"#B0BEC5\", \"red\", \"#B0BEC5\"]]}], \"label\": \"Topic 18\", \"method\": \"update\"}, {\"args\": [{\"marker.color\": [[\"#B0BEC5\", \"#B0BEC5\", \"#B0BEC5\", \"#B0BEC5\", \"#B0BEC5\", \"#B0BEC5\", \"#B0BEC5\", \"#B0BEC5\", \"#B0BEC5\", \"#B0BEC5\", \"#B0BEC5\", \"#B0BEC5\", \"#B0BEC5\", \"#B0BEC5\", \"#B0BEC5\", \"#B0BEC5\", \"#B0BEC5\", \"#B0BEC5\", \"#B0BEC5\", \"red\"]]}], \"label\": \"Topic 19\", \"method\": \"update\"}]}], \"template\": {\"data\": {\"bar\": [{\"error_x\": {\"color\": \"rgb(36,36,36)\"}, \"error_y\": {\"color\": \"rgb(36,36,36)\"}, \"marker\": {\"line\": {\"color\": \"white\", \"width\": 0.5}}, \"type\": \"bar\"}], \"barpolar\": [{\"marker\": {\"line\": {\"color\": \"white\", \"width\": 0.5}}, \"type\": \"barpolar\"}], \"carpet\": [{\"aaxis\": {\"endlinecolor\": \"rgb(36,36,36)\", \"gridcolor\": \"white\", \"linecolor\": \"white\", \"minorgridcolor\": \"white\", \"startlinecolor\": \"rgb(36,36,36)\"}, \"baxis\": {\"endlinecolor\": \"rgb(36,36,36)\", \"gridcolor\": \"white\", \"linecolor\": \"white\", \"minorgridcolor\": \"white\", \"startlinecolor\": \"rgb(36,36,36)\"}, \"type\": \"carpet\"}], \"choropleth\": [{\"colorbar\": {\"outlinewidth\": 1, \"tickcolor\": \"rgb(36,36,36)\", \"ticks\": \"outside\"}, \"type\": \"choropleth\"}], \"contour\": [{\"colorbar\": {\"outlinewidth\": 1, \"tickcolor\": \"rgb(36,36,36)\", \"ticks\": \"outside\"}, \"colorscale\": [[0.0, \"#440154\"], [0.1111111111111111, \"#482878\"], [0.2222222222222222, \"#3e4989\"], [0.3333333333333333, \"#31688e\"], [0.4444444444444444, \"#26828e\"], [0.5555555555555556, \"#1f9e89\"], [0.6666666666666666, \"#35b779\"], [0.7777777777777778, \"#6ece58\"], [0.8888888888888888, \"#b5de2b\"], [1.0, \"#fde725\"]], \"type\": \"contour\"}], \"contourcarpet\": [{\"colorbar\": {\"outlinewidth\": 1, \"tickcolor\": \"rgb(36,36,36)\", \"ticks\": \"outside\"}, \"type\": \"contourcarpet\"}], \"heatmap\": [{\"colorbar\": {\"outlinewidth\": 1, \"tickcolor\": \"rgb(36,36,36)\", \"ticks\": \"outside\"}, \"colorscale\": [[0.0, \"#440154\"], [0.1111111111111111, \"#482878\"], [0.2222222222222222, \"#3e4989\"], [0.3333333333333333, \"#31688e\"], [0.4444444444444444, \"#26828e\"], [0.5555555555555556, \"#1f9e89\"], [0.6666666666666666, \"#35b779\"], [0.7777777777777778, \"#6ece58\"], [0.8888888888888888, \"#b5de2b\"], [1.0, \"#fde725\"]], \"type\": \"heatmap\"}], \"heatmapgl\": [{\"colorbar\": {\"outlinewidth\": 1, \"tickcolor\": \"rgb(36,36,36)\", \"ticks\": \"outside\"}, \"colorscale\": [[0.0, \"#440154\"], [0.1111111111111111, \"#482878\"], [0.2222222222222222, \"#3e4989\"], [0.3333333333333333, \"#31688e\"], [0.4444444444444444, \"#26828e\"], [0.5555555555555556, \"#1f9e89\"], [0.6666666666666666, \"#35b779\"], [0.7777777777777778, \"#6ece58\"], [0.8888888888888888, \"#b5de2b\"], [1.0, \"#fde725\"]], \"type\": \"heatmapgl\"}], \"histogram\": [{\"marker\": {\"line\": {\"color\": \"white\", \"width\": 0.6}}, \"type\": \"histogram\"}], \"histogram2d\": [{\"colorbar\": {\"outlinewidth\": 1, \"tickcolor\": \"rgb(36,36,36)\", \"ticks\": \"outside\"}, \"colorscale\": [[0.0, \"#440154\"], [0.1111111111111111, \"#482878\"], [0.2222222222222222, \"#3e4989\"], [0.3333333333333333, \"#31688e\"], [0.4444444444444444, \"#26828e\"], [0.5555555555555556, \"#1f9e89\"], [0.6666666666666666, \"#35b779\"], [0.7777777777777778, \"#6ece58\"], [0.8888888888888888, \"#b5de2b\"], [1.0, \"#fde725\"]], \"type\": \"histogram2d\"}], \"histogram2dcontour\": [{\"colorbar\": {\"outlinewidth\": 1, \"tickcolor\": \"rgb(36,36,36)\", \"ticks\": \"outside\"}, \"colorscale\": [[0.0, \"#440154\"], [0.1111111111111111, \"#482878\"], [0.2222222222222222, \"#3e4989\"], [0.3333333333333333, \"#31688e\"], [0.4444444444444444, \"#26828e\"], [0.5555555555555556, \"#1f9e89\"], [0.6666666666666666, \"#35b779\"], [0.7777777777777778, \"#6ece58\"], [0.8888888888888888, \"#b5de2b\"], [1.0, \"#fde725\"]], \"type\": \"histogram2dcontour\"}], \"mesh3d\": [{\"colorbar\": {\"outlinewidth\": 1, \"tickcolor\": \"rgb(36,36,36)\", \"ticks\": \"outside\"}, \"type\": \"mesh3d\"}], \"parcoords\": [{\"line\": {\"colorbar\": {\"outlinewidth\": 1, \"tickcolor\": \"rgb(36,36,36)\", \"ticks\": \"outside\"}}, \"type\": \"parcoords\"}], \"pie\": [{\"automargin\": true, \"type\": \"pie\"}], \"scatter\": [{\"marker\": {\"colorbar\": {\"outlinewidth\": 1, \"tickcolor\": \"rgb(36,36,36)\", \"ticks\": \"outside\"}}, \"type\": \"scatter\"}], \"scatter3d\": [{\"line\": {\"colorbar\": {\"outlinewidth\": 1, \"tickcolor\": \"rgb(36,36,36)\", \"ticks\": \"outside\"}}, \"marker\": {\"colorbar\": {\"outlinewidth\": 1, \"tickcolor\": \"rgb(36,36,36)\", \"ticks\": \"outside\"}}, \"type\": \"scatter3d\"}], \"scattercarpet\": [{\"marker\": {\"colorbar\": {\"outlinewidth\": 1, \"tickcolor\": \"rgb(36,36,36)\", \"ticks\": \"outside\"}}, \"type\": \"scattercarpet\"}], \"scattergeo\": [{\"marker\": {\"colorbar\": {\"outlinewidth\": 1, \"tickcolor\": \"rgb(36,36,36)\", \"ticks\": \"outside\"}}, \"type\": \"scattergeo\"}], \"scattergl\": [{\"marker\": {\"colorbar\": {\"outlinewidth\": 1, \"tickcolor\": \"rgb(36,36,36)\", \"ticks\": \"outside\"}}, \"type\": \"scattergl\"}], \"scattermapbox\": [{\"marker\": {\"colorbar\": {\"outlinewidth\": 1, \"tickcolor\": \"rgb(36,36,36)\", \"ticks\": \"outside\"}}, \"type\": \"scattermapbox\"}], \"scatterpolar\": [{\"marker\": {\"colorbar\": {\"outlinewidth\": 1, \"tickcolor\": \"rgb(36,36,36)\", \"ticks\": \"outside\"}}, \"type\": \"scatterpolar\"}], \"scatterpolargl\": [{\"marker\": {\"colorbar\": {\"outlinewidth\": 1, \"tickcolor\": \"rgb(36,36,36)\", \"ticks\": \"outside\"}}, \"type\": \"scatterpolargl\"}], \"scatterternary\": [{\"marker\": {\"colorbar\": {\"outlinewidth\": 1, \"tickcolor\": \"rgb(36,36,36)\", \"ticks\": \"outside\"}}, \"type\": \"scatterternary\"}], \"surface\": [{\"colorbar\": {\"outlinewidth\": 1, \"tickcolor\": \"rgb(36,36,36)\", \"ticks\": \"outside\"}, \"colorscale\": [[0.0, \"#440154\"], [0.1111111111111111, \"#482878\"], [0.2222222222222222, \"#3e4989\"], [0.3333333333333333, \"#31688e\"], [0.4444444444444444, \"#26828e\"], [0.5555555555555556, \"#1f9e89\"], [0.6666666666666666, \"#35b779\"], [0.7777777777777778, \"#6ece58\"], [0.8888888888888888, \"#b5de2b\"], [1.0, \"#fde725\"]], \"type\": \"surface\"}], \"table\": [{\"cells\": {\"fill\": {\"color\": \"rgb(237,237,237)\"}, \"line\": {\"color\": \"white\"}}, \"header\": {\"fill\": {\"color\": \"rgb(217,217,217)\"}, \"line\": {\"color\": \"white\"}}, \"type\": \"table\"}]}, \"layout\": {\"annotationdefaults\": {\"arrowhead\": 0, \"arrowwidth\": 1}, \"autotypenumbers\": \"strict\", \"coloraxis\": {\"colorbar\": {\"outlinewidth\": 1, \"tickcolor\": \"rgb(36,36,36)\", \"ticks\": \"outside\"}}, \"colorscale\": {\"diverging\": [[0.0, \"rgb(103,0,31)\"], [0.1, \"rgb(178,24,43)\"], [0.2, \"rgb(214,96,77)\"], [0.3, \"rgb(244,165,130)\"], [0.4, \"rgb(253,219,199)\"], [0.5, \"rgb(247,247,247)\"], [0.6, \"rgb(209,229,240)\"], [0.7, \"rgb(146,197,222)\"], [0.8, \"rgb(67,147,195)\"], [0.9, \"rgb(33,102,172)\"], [1.0, \"rgb(5,48,97)\"]], \"sequential\": [[0.0, \"#440154\"], [0.1111111111111111, \"#482878\"], [0.2222222222222222, \"#3e4989\"], [0.3333333333333333, \"#31688e\"], [0.4444444444444444, \"#26828e\"], [0.5555555555555556, \"#1f9e89\"], [0.6666666666666666, \"#35b779\"], [0.7777777777777778, \"#6ece58\"], [0.8888888888888888, \"#b5de2b\"], [1.0, \"#fde725\"]], \"sequentialminus\": [[0.0, \"#440154\"], [0.1111111111111111, \"#482878\"], [0.2222222222222222, \"#3e4989\"], [0.3333333333333333, \"#31688e\"], [0.4444444444444444, \"#26828e\"], [0.5555555555555556, \"#1f9e89\"], [0.6666666666666666, \"#35b779\"], [0.7777777777777778, \"#6ece58\"], [0.8888888888888888, \"#b5de2b\"], [1.0, \"#fde725\"]]}, \"colorway\": [\"#1F77B4\", \"#FF7F0E\", \"#2CA02C\", \"#D62728\", \"#9467BD\", \"#8C564B\", \"#E377C2\", \"#7F7F7F\", \"#BCBD22\", \"#17BECF\"], \"font\": {\"color\": \"rgb(36,36,36)\"}, \"geo\": {\"bgcolor\": \"white\", \"lakecolor\": \"white\", \"landcolor\": \"white\", \"showlakes\": true, \"showland\": true, \"subunitcolor\": \"white\"}, \"hoverlabel\": {\"align\": \"left\"}, \"hovermode\": \"closest\", \"mapbox\": {\"style\": \"light\"}, \"paper_bgcolor\": \"white\", \"plot_bgcolor\": \"white\", \"polar\": {\"angularaxis\": {\"gridcolor\": \"rgb(232,232,232)\", \"linecolor\": \"rgb(36,36,36)\", \"showgrid\": false, \"showline\": true, \"ticks\": \"outside\"}, \"bgcolor\": \"white\", \"radialaxis\": {\"gridcolor\": \"rgb(232,232,232)\", \"linecolor\": \"rgb(36,36,36)\", \"showgrid\": false, \"showline\": true, \"ticks\": \"outside\"}}, \"scene\": {\"xaxis\": {\"backgroundcolor\": \"white\", \"gridcolor\": \"rgb(232,232,232)\", \"gridwidth\": 2, \"linecolor\": \"rgb(36,36,36)\", \"showbackground\": true, \"showgrid\": false, \"showline\": true, \"ticks\": \"outside\", \"zeroline\": false, \"zerolinecolor\": \"rgb(36,36,36)\"}, \"yaxis\": {\"backgroundcolor\": \"white\", \"gridcolor\": \"rgb(232,232,232)\", \"gridwidth\": 2, \"linecolor\": \"rgb(36,36,36)\", \"showbackground\": true, \"showgrid\": false, \"showline\": true, \"ticks\": \"outside\", \"zeroline\": false, \"zerolinecolor\": \"rgb(36,36,36)\"}, \"zaxis\": {\"backgroundcolor\": \"white\", \"gridcolor\": \"rgb(232,232,232)\", \"gridwidth\": 2, \"linecolor\": \"rgb(36,36,36)\", \"showbackground\": true, \"showgrid\": false, \"showline\": true, \"ticks\": \"outside\", \"zeroline\": false, \"zerolinecolor\": \"rgb(36,36,36)\"}}, \"shapedefaults\": {\"fillcolor\": \"black\", \"line\": {\"width\": 0}, \"opacity\": 0.3}, \"ternary\": {\"aaxis\": {\"gridcolor\": \"rgb(232,232,232)\", \"linecolor\": \"rgb(36,36,36)\", \"showgrid\": false, \"showline\": true, \"ticks\": \"outside\"}, \"baxis\": {\"gridcolor\": \"rgb(232,232,232)\", \"linecolor\": \"rgb(36,36,36)\", \"showgrid\": false, \"showline\": true, \"ticks\": \"outside\"}, \"bgcolor\": \"white\", \"caxis\": {\"gridcolor\": \"rgb(232,232,232)\", \"linecolor\": \"rgb(36,36,36)\", \"showgrid\": false, \"showline\": true, \"ticks\": \"outside\"}}, \"title\": {\"x\": 0.05}, \"xaxis\": {\"automargin\": true, \"gridcolor\": \"rgb(232,232,232)\", \"linecolor\": \"rgb(36,36,36)\", \"showgrid\": false, \"showline\": true, \"ticks\": \"outside\", \"title\": {\"standoff\": 15}, \"zeroline\": false, \"zerolinecolor\": \"rgb(36,36,36)\"}, \"yaxis\": {\"automargin\": true, \"gridcolor\": \"rgb(232,232,232)\", \"linecolor\": \"rgb(36,36,36)\", \"showgrid\": false, \"showline\": true, \"ticks\": \"outside\", \"title\": {\"standoff\": 15}, \"zeroline\": false, \"zerolinecolor\": \"rgb(36,36,36)\"}}}, \"title\": {\"font\": {\"color\": \"Black\", \"size\": 22}, \"text\": \"<b>Intertopic Distance Map\", \"x\": 0.5, \"xanchor\": \"center\", \"y\": 0.95, \"yanchor\": \"top\"}, \"width\": 650, \"xaxis\": {\"anchor\": \"y\", \"domain\": [0.0, 1.0], \"range\": [-0.5811287075281143, 9.407844829559327], \"title\": {\"text\": \"\"}, \"visible\": false}, \"yaxis\": {\"anchor\": \"x\", \"domain\": [0.0, 1.0], \"range\": [-8.957782697677612, 6.48254132270813], \"title\": {\"text\": \"\"}, \"visible\": false}},                        {\"responsive\": true}                    ).then(function(){\n",
       "                            \n",
       "var gd = document.getElementById('3490d69b-9c60-4c45-859b-d390298f435b');\n",
       "var x = new MutationObserver(function (mutations, observer) {{\n",
       "        var display = window.getComputedStyle(gd).display;\n",
       "        if (!display || display === 'none') {{\n",
       "            console.log([gd, 'removed!']);\n",
       "            Plotly.purge(gd);\n",
       "            observer.disconnect();\n",
       "        }}\n",
       "}});\n",
       "\n",
       "// Listen for the removal of the full notebook cells\n",
       "var notebookContainer = gd.closest('#notebook-container');\n",
       "if (notebookContainer) {{\n",
       "    x.observe(notebookContainer, {childList: true});\n",
       "}}\n",
       "\n",
       "// Listen for the clearing of the current output cell\n",
       "var outputEl = gd.closest('.output');\n",
       "if (outputEl) {{\n",
       "    x.observe(outputEl, {childList: true});\n",
       "}}\n",
       "\n",
       "                        })                };                });            </script>        </div>"
      ]
     },
     "metadata": {},
     "output_type": "display_data"
    }
   ],
   "source": [
    "my_model.visualize_topics()"
   ]
  },
  {
   "cell_type": "markdown",
   "id": "chemical-philosophy",
   "metadata": {},
   "source": [
    "## P3"
   ]
  },
  {
   "cell_type": "code",
   "execution_count": 49,
   "id": "representative-value",
   "metadata": {},
   "outputs": [],
   "source": [
    "# Import dataset\n",
    "import pandas as pd\n",
    "df = pd.read_csv(config['csv_input_local']['bolt_apple_google_p3'], index_col=0)\n",
    "df = df.reset_index(drop=True)\n",
    "reviews = df.review.tolist()\n",
    "# reviews = reviews[:500] # testing purpose\n",
    "len(reviews)\n",
    "\n",
    "timestamps = df.date.tolist()"
   ]
  },
  {
   "cell_type": "code",
   "execution_count": 8,
   "id": "cabd2eda",
   "metadata": {},
   "outputs": [
    {
     "data": {
      "application/vnd.jupyter.widget-view+json": {
       "model_id": "ec71b2dd9eea4f938c08831fb94bf143",
       "version_major": 2,
       "version_minor": 0
      },
      "text/plain": [
       "Batches:   0%|          | 0/338 [00:00<?, ?it/s]"
      ]
     },
     "metadata": {},
     "output_type": "display_data"
    },
    {
     "name": "stderr",
     "output_type": "stream",
     "text": [
      "2021-08-04 01:30:14,663 - BERTopic - Transformed documents to Embeddings\n",
      "2021-08-04 01:30:30,683 - BERTopic - Reduced dimensionality with UMAP\n",
      "2021-08-04 01:30:31,104 - BERTopic - Clustered UMAP embeddings with HDBSCAN\n",
      "2021-08-04 01:30:41,741 - BERTopic - Reduced number of topics from 117 to 21\n"
     ]
    },
    {
     "name": "stdout",
     "output_type": "stream",
     "text": [
      "Wall time: 1min 57s\n"
     ]
    }
   ],
   "source": [
    "# %%time\n",
    "# from bertopic import BERTopic\n",
    "\n",
    "# # topic_model = BERTopic(language=\"english\", calculate_probabilities=True, verbose=True)\n",
    "# # topics, probs = topic_model.fit_transform(reviews)\n",
    "# topic_model = BERTopic(language=\"english\", nr_topics=20, low_memory=True, verbose=True)\n",
    "# topics, _ = topic_model.fit_transform(reviews)"
   ]
  },
  {
   "cell_type": "code",
   "execution_count": 11,
   "id": "palestinian-twist",
   "metadata": {},
   "outputs": [],
   "source": [
    "# Save model\n",
    "# topic_model.save(\"my_model.pt\")\n",
    "topic_model.save(\"bert_topic_model/bolt_model_p3.pt\", save_embedding_model=True)"
   ]
  },
  {
   "cell_type": "code",
   "execution_count": 42,
   "id": "primary-strike",
   "metadata": {},
   "outputs": [],
   "source": [
    "# Load model\n",
    "my_model = BERTopic.load(\"bert_topic_model/bolt_model_p3.pt\")"
   ]
  },
  {
   "cell_type": "code",
   "execution_count": 43,
   "id": "bridal-hunter",
   "metadata": {},
   "outputs": [
    {
     "data": {
      "text/html": [
       "<div>\n",
       "<style scoped>\n",
       "    .dataframe tbody tr th:only-of-type {\n",
       "        vertical-align: middle;\n",
       "    }\n",
       "\n",
       "    .dataframe tbody tr th {\n",
       "        vertical-align: top;\n",
       "    }\n",
       "\n",
       "    .dataframe thead th {\n",
       "        text-align: right;\n",
       "    }\n",
       "</style>\n",
       "<table border=\"1\" class=\"dataframe\">\n",
       "  <thead>\n",
       "    <tr style=\"text-align: right;\">\n",
       "      <th></th>\n",
       "      <th>Topic</th>\n",
       "      <th>Count</th>\n",
       "      <th>Name</th>\n",
       "    </tr>\n",
       "  </thead>\n",
       "  <tbody>\n",
       "    <tr>\n",
       "      <th>0</th>\n",
       "      <td>-1</td>\n",
       "      <td>4483</td>\n",
       "      <td>-1_driver_my_drivers_this</td>\n",
       "    </tr>\n",
       "    <tr>\n",
       "      <th>1</th>\n",
       "      <td>0</td>\n",
       "      <td>846</td>\n",
       "      <td>0_app_good_easy_service</td>\n",
       "    </tr>\n",
       "    <tr>\n",
       "      <th>2</th>\n",
       "      <td>1</td>\n",
       "      <td>529</td>\n",
       "      <td>1_drivers_cars_clean_great</td>\n",
       "    </tr>\n",
       "    <tr>\n",
       "      <th>3</th>\n",
       "      <td>2</td>\n",
       "      <td>466</td>\n",
       "      <td>2_service_drivers_customer_excellent</td>\n",
       "    </tr>\n",
       "    <tr>\n",
       "      <th>4</th>\n",
       "      <td>3</td>\n",
       "      <td>453</td>\n",
       "      <td>3_ride_rides_enjoyed_enjoy</td>\n",
       "    </tr>\n",
       "    <tr>\n",
       "      <th>5</th>\n",
       "      <td>4</td>\n",
       "      <td>403</td>\n",
       "      <td>4_prices_discounts_price_good</td>\n",
       "    </tr>\n",
       "    <tr>\n",
       "      <th>6</th>\n",
       "      <td>5</td>\n",
       "      <td>386</td>\n",
       "      <td>5_bolt_was_driver_with</td>\n",
       "    </tr>\n",
       "    <tr>\n",
       "      <th>7</th>\n",
       "      <td>6</td>\n",
       "      <td>296</td>\n",
       "      <td>6_bolt_experience_always_awesome</td>\n",
       "    </tr>\n",
       "    <tr>\n",
       "      <th>8</th>\n",
       "      <td>7</td>\n",
       "      <td>295</td>\n",
       "      <td>7_affordable_good_nice_efficient</td>\n",
       "    </tr>\n",
       "    <tr>\n",
       "      <th>9</th>\n",
       "      <td>8</td>\n",
       "      <td>288</td>\n",
       "      <td>8_taxify_taxi_that_my</td>\n",
       "    </tr>\n",
       "    <tr>\n",
       "      <th>10</th>\n",
       "      <td>9</td>\n",
       "      <td>283</td>\n",
       "      <td>9_friendly_drivers_good_nice</td>\n",
       "    </tr>\n",
       "    <tr>\n",
       "      <th>11</th>\n",
       "      <td>10</td>\n",
       "      <td>260</td>\n",
       "      <td>10_time_minutes_waiting_wait</td>\n",
       "    </tr>\n",
       "    <tr>\n",
       "      <th>12</th>\n",
       "      <td>11</td>\n",
       "      <td>243</td>\n",
       "      <td>11_enjoy_rides_ride_enjoying</td>\n",
       "    </tr>\n",
       "    <tr>\n",
       "      <th>13</th>\n",
       "      <td>12</td>\n",
       "      <td>222</td>\n",
       "      <td>12_efficient_reliable_service_good</td>\n",
       "    </tr>\n",
       "    <tr>\n",
       "      <th>14</th>\n",
       "      <td>13</td>\n",
       "      <td>216</td>\n",
       "      <td>13_card_code_sms_cant</td>\n",
       "    </tr>\n",
       "    <tr>\n",
       "      <th>15</th>\n",
       "      <td>14</td>\n",
       "      <td>212</td>\n",
       "      <td>14_easy_safe_update_app</td>\n",
       "    </tr>\n",
       "    <tr>\n",
       "      <th>16</th>\n",
       "      <td>15</td>\n",
       "      <td>189</td>\n",
       "      <td>15_driver_nice_awesome_great</td>\n",
       "    </tr>\n",
       "    <tr>\n",
       "      <th>17</th>\n",
       "      <td>16</td>\n",
       "      <td>188</td>\n",
       "      <td>16_map_gps_location_maps</td>\n",
       "    </tr>\n",
       "    <tr>\n",
       "      <th>18</th>\n",
       "      <td>17</td>\n",
       "      <td>185</td>\n",
       "      <td>17_uber_better_cheaper_more</td>\n",
       "    </tr>\n",
       "    <tr>\n",
       "      <th>19</th>\n",
       "      <td>18</td>\n",
       "      <td>174</td>\n",
       "      <td>18_transport_transportation_app_easy</td>\n",
       "    </tr>\n",
       "    <tr>\n",
       "      <th>20</th>\n",
       "      <td>19</td>\n",
       "      <td>168</td>\n",
       "      <td>19_promo_promos_code_promotions</td>\n",
       "    </tr>\n",
       "  </tbody>\n",
       "</table>\n",
       "</div>"
      ],
      "text/plain": [
       "    Topic  Count                                  Name\n",
       "0      -1   4483             -1_driver_my_drivers_this\n",
       "1       0    846               0_app_good_easy_service\n",
       "2       1    529            1_drivers_cars_clean_great\n",
       "3       2    466  2_service_drivers_customer_excellent\n",
       "4       3    453            3_ride_rides_enjoyed_enjoy\n",
       "5       4    403         4_prices_discounts_price_good\n",
       "6       5    386                5_bolt_was_driver_with\n",
       "7       6    296      6_bolt_experience_always_awesome\n",
       "8       7    295      7_affordable_good_nice_efficient\n",
       "9       8    288                 8_taxify_taxi_that_my\n",
       "10      9    283          9_friendly_drivers_good_nice\n",
       "11     10    260          10_time_minutes_waiting_wait\n",
       "12     11    243          11_enjoy_rides_ride_enjoying\n",
       "13     12    222    12_efficient_reliable_service_good\n",
       "14     13    216                 13_card_code_sms_cant\n",
       "15     14    212               14_easy_safe_update_app\n",
       "16     15    189          15_driver_nice_awesome_great\n",
       "17     16    188              16_map_gps_location_maps\n",
       "18     17    185           17_uber_better_cheaper_more\n",
       "19     18    174  18_transport_transportation_app_easy\n",
       "20     19    168       19_promo_promos_code_promotions"
      ]
     },
     "execution_count": 43,
     "metadata": {},
     "output_type": "execute_result"
    }
   ],
   "source": [
    "freq = my_model.get_topic_info(); freq.head(50)"
   ]
  },
  {
   "cell_type": "code",
   "execution_count": 44,
   "id": "modular-background",
   "metadata": {},
   "outputs": [
    {
     "name": "stdout",
     "output_type": "stream",
     "text": [
      "topic 0\n",
      "[('app', 0.06035472501566308), ('good', 0.05817001559651245), ('easy', 0.04696587252611877), ('service', 0.038409434509800375), ('love', 0.03457040576689893), ('experience', 0.03380658503104982), ('excellent', 0.022928099773553243), ('reliable', 0.01780584516321329), ('wonderful', 0.016053047119754724), ('quick', 0.01562896865488228)]\n",
      "topic 1\n",
      "[('drivers', 0.052786787609606596), ('cars', 0.05135566977985677), ('clean', 0.04007777079861973), ('great', 0.03985975559455899), ('good', 0.03667328963553482), ('friendly', 0.029466733041621278), ('nice', 0.028242667523448804), ('car', 0.022918373578068082), ('awesome', 0.015906629640135974), ('driver', 0.013264422281065245)]\n",
      "topic 2\n",
      "[('service', 0.10060695625491779), ('drivers', 0.04515481063394292), ('customer', 0.04444100638082785), ('excellent', 0.03516756783743653), ('services', 0.0331305498647429), ('friendly', 0.03044793042093892), ('great', 0.030108716738646412), ('always', 0.023442323333383766), ('respectful', 0.018304076452181156), ('care', 0.016765230820664025)]\n",
      "topic 3\n",
      "[('ride', 0.11931697380340954), ('rides', 0.0980324589736775), ('enjoyed', 0.057188746639338255), ('enjoy', 0.03135984603735681), ('good', 0.02944304670989803), ('affordable', 0.026307080951041735), ('nice', 0.02593841490787943), ('enjoying', 0.02439148221738421), ('safe', 0.021589632477849025), ('comfortable', 0.018901743560483356)]\n",
      "topic 4\n",
      "[('prices', 0.07797099052212655), ('discounts', 0.07310583514587303), ('price', 0.062026010976389406), ('good', 0.04046226122467161), ('great', 0.03644123341629096), ('discount', 0.03256208983054432), ('affordable', 0.02210552918205804), ('excellent', 0.018291997329862614), ('pricing', 0.014194032885116399), ('best', 0.014111368522271175)]\n",
      "topic 5\n",
      "[('bolt', 0.05800576862057804), ('was', 0.018960763612869296), ('driver', 0.017545206478908316), ('with', 0.015324001789722028), ('have', 0.01520371098510693), ('but', 0.015141650445061628), ('on', 0.014390324379185748), ('he', 0.0127927946639904), ('dont', 0.011902259581311575), ('had', 0.011781156010231796)]\n",
      "topic 6\n",
      "[('bolt', 0.13946559032104824), ('experience', 0.025082226651854715), ('always', 0.023243203507090103), ('awesome', 0.020817096593076696), ('good', 0.020327100364484624), ('great', 0.017769626403949378), ('drivers', 0.017760501525669877), ('use', 0.01608581219376371), ('recommend', 0.014381281917516336), ('enjoy', 0.01391703463803775)]\n",
      "topic 7\n",
      "[('affordable', 0.3971077235305631), ('good', 0.08866821365887259), ('nice', 0.05866265622939048), ('efficient', 0.04726316654552741), ('great', 0.04488975277080453), ('service', 0.04444694287302164), ('services', 0.029229515532651688), ('excellent', 0.02885698213923974), ('convenient', 0.01642786630293423), ('delivery', 0.012011707353963166)]\n",
      "topic 8\n",
      "[('taxify', 0.06664841462720539), ('taxi', 0.03389569896179534), ('that', 0.017614378833789763), ('my', 0.016577293002930583), ('uber', 0.01439112656661419), ('cab', 0.013833383539114936), ('this', 0.01379476495066476), ('drivers', 0.013682043999022462), ('app', 0.01154437814059565), ('be', 0.011482913914817055)]\n",
      "topic 9\n",
      "[('friendly', 0.09938412465218997), ('drivers', 0.09919609484333976), ('good', 0.058722974047442054), ('nice', 0.03971431947617903), ('loving', 0.0270073870670763), ('great', 0.022997939232140253), ('efficient', 0.022664487140668783), ('pleasant', 0.01679410128172128), ('lovely', 0.016251925189253183), ('excellent', 0.015349737801144833)]\n",
      "topic 10\n",
      "[('time', 0.04766610662724866), ('minutes', 0.04499666977046631), ('waiting', 0.030605148536617374), ('wait', 0.02610044591291234), ('arrival', 0.025891670042426828), ('arrive', 0.020461280965527913), ('times', 0.020235666901058578), ('long', 0.018305065945287823), ('slow', 0.016975385663859074), ('minute', 0.01635222671162776)]\n",
      "topic 11\n",
      "[('enjoy', 0.08125334609525768), ('rides', 0.05962506231009154), ('ride', 0.051668366568639525), ('enjoying', 0.050498893010866575), ('drivers', 0.04840586253176374), ('trips', 0.029026435846069704), ('enjoyable', 0.02856908470135234), ('drive', 0.025164180467976787), ('trip', 0.020831828204590633), ('driving', 0.0185203721794876)]\n",
      "topic 12\n",
      "[('efficient', 0.44391448449747245), ('reliable', 0.29171165252363424), ('service', 0.07775371345546873), ('good', 0.069126287508238), ('great', 0.0414370945479676), ('effective', 0.03896510820870739), ('convenient', 0.028054011513040787), ('excellent', 0.021119709320321527), ('services', 0.019198269343839332), ('timely', 0.012581153717539813)]\n",
      "topic 13\n",
      "[('card', 0.06431783548355594), ('code', 0.03299140762627641), ('sms', 0.030820466956253758), ('cant', 0.026420012614588817), ('number', 0.02512631086982005), ('payment', 0.024101681061662137), ('phone', 0.023923889765533456), ('error', 0.023578892872580273), ('app', 0.019928899834269515), ('account', 0.01765911053182621)]\n",
      "topic 14\n",
      "[('easy', 0.05284172493021472), ('safe', 0.047593145373391633), ('update', 0.03949894889894845), ('app', 0.029786094332789753), ('convenient', 0.024280259539626342), ('quick', 0.023786752686929435), ('notifications', 0.015973009124363117), ('updates', 0.015280736000070388), ('keeps', 0.014783018258783198), ('efficient', 0.0147147411159386)]\n",
      "topic 15\n",
      "[('driver', 0.13909485808111427), ('nice', 0.058022190894354474), ('awesome', 0.05613127492095209), ('great', 0.04305421266953291), ('wonderful', 0.023196315230770058), ('amazing', 0.022321561998981086), ('driving', 0.020553938000278), ('excellent', 0.019769300967308386), ('lovely', 0.019735178633732756), ('pleasant', 0.01784436377919513)]\n",
      "topic 16\n",
      "[('map', 0.08924468915152246), ('gps', 0.08875805436709287), ('location', 0.052151870587095674), ('maps', 0.03417583386793214), ('accurate', 0.027586247630703546), ('locations', 0.018869804703073798), ('directions', 0.01581221320711585), ('improve', 0.015176959792494159), ('drivers', 0.014874174173629948), ('address', 0.014490638239641713)]\n",
      "topic 17\n",
      "[('uber', 0.1648527129991999), ('better', 0.07717050827032236), ('cheaper', 0.0292628538602603), ('more', 0.028731631951276305), ('prices', 0.025634974580902727), ('alternative', 0.022515961583210894), ('app', 0.021869931435714803), ('drivers', 0.01547974561747192), ('cars', 0.015092904222014562), ('love', 0.01321608827160553)]\n",
      "topic 18\n",
      "[('transport', 0.09716879852389605), ('transportation', 0.08282524139037939), ('app', 0.04630449173263769), ('easy', 0.04271593239693279), ('trips', 0.03585851695996294), ('great', 0.03435110619035658), ('travel', 0.027385978829559943), ('trip', 0.020659572911440854), ('affordable', 0.017322520304585212), ('destinations', 0.01595614646318098)]\n",
      "topic 19\n",
      "[('promo', 0.13124211998125426), ('promos', 0.06641744479375766), ('code', 0.06343320184567629), ('promotions', 0.04203288239465046), ('codes', 0.03874923648045537), ('love', 0.023162104558210432), ('free', 0.022394070132472268), ('app', 0.016986521120733983), ('give', 0.015810281399233194), ('dont', 0.015457986251083024)]\n"
     ]
    }
   ],
   "source": [
    "for i in range(0,len(freq)-1):\n",
    "  # print(i)\n",
    "  print('topic ' + str(i))\n",
    "  print(my_model.get_topic(i))  # Select the most frequent topic"
   ]
  },
  {
   "cell_type": "code",
   "execution_count": 50,
   "id": "optical-logging",
   "metadata": {},
   "outputs": [
    {
     "data": {
      "application/vnd.plotly.v1+json": {
       "config": {
        "plotlyServerURL": "https://plot.ly"
       },
       "data": [
        {
         "customdata": [
          [
           -8.73071575164795,
           -0.6297393441200256,
           0,
           "app | good | easy | service | love",
           846
          ],
          [
           -8.808023452758789,
           -0.5504847764968872,
           1,
           "drivers | cars | clean | great | good",
           529
          ],
          [
           -0.07121212780475616,
           -1.7198079824447632,
           2,
           "service | drivers | customer | excellent | services",
           466
          ],
          [
           1.2633283138275146,
           -1.1182317733764648,
           3,
           "ride | rides | enjoyed | enjoy | good",
           453
          ],
          [
           -7.598214626312256,
           8.399380683898926,
           4,
           "prices | discounts | price | good | great",
           403
          ],
          [
           14.461407661437988,
           9.243949890136719,
           5,
           "bolt | was | driver | with | have",
           386
          ],
          [
           0.14302216470241547,
           -1.4482477903366089,
           6,
           "bolt | experience | always | awesome | good",
           296
          ],
          [
           1.636195182800293,
           -0.4400660991668701,
           7,
           "affordable | good | nice | efficient | great",
           295
          ],
          [
           14.254525184631348,
           9.037320137023926,
           8,
           "taxify | taxi | that | my | uber",
           288
          ],
          [
           0.694179892539978,
           -1.2987794876098633,
           9,
           "friendly | drivers | good | nice | loving",
           283
          ],
          [
           -7.337643623352051,
           8.689740180969238,
           10,
           "time | minutes | waiting | wait | arrival",
           260
          ],
          [
           0.29536083340644836,
           -0.8986498117446899,
           11,
           "enjoy | rides | ride | enjoying | drivers",
           243
          ],
          [
           1.9031404256820679,
           -0.28298187255859375,
           12,
           "efficient | reliable | service | good | great",
           222
          ],
          [
           3.064926862716675,
           8.750385284423828,
           13,
           "card | code | sms | cant | number",
           216
          ],
          [
           3.4692912101745605,
           9.1546049118042,
           14,
           "easy | safe | update | app | convenient",
           212
          ],
          [
           0.6113924384117126,
           -0.75836580991745,
           15,
           "driver | nice | awesome | great | wonderful",
           189
          ],
          [
           -7.111500263214111,
           8.933345794677734,
           16,
           "map | gps | location | maps | accurate",
           188
          ],
          [
           -7.838481903076172,
           8.144627571105957,
           17,
           "uber | better | cheaper | more | prices",
           185
          ],
          [
           0.9761202931404114,
           -1.7979822158813477,
           18,
           "transport | transportation | app | easy | trips",
           174
          ],
          [
           3.27665114402771,
           8.962167739868164,
           19,
           "promo | promos | code | promotions | codes",
           168
          ]
         ],
         "hovertemplate": "<b>Topic %{customdata[2]}</b><br>Words: %{customdata[3]}<br>Size: %{customdata[4]}",
         "legendgroup": "",
         "marker": {
          "color": "#B0BEC5",
          "line": {
           "color": "DarkSlateGrey",
           "width": 2
          },
          "size": [
           846,
           529,
           466,
           453,
           403,
           386,
           296,
           295,
           288,
           283,
           260,
           243,
           222,
           216,
           212,
           189,
           188,
           185,
           174,
           168
          ],
          "sizemode": "area",
          "sizeref": 0.52875,
          "symbol": "circle"
         },
         "mode": "markers",
         "name": "",
         "orientation": "v",
         "showlegend": false,
         "type": "scatter",
         "x": [
          -8.73071575164795,
          -8.808023452758789,
          -0.07121212780475616,
          1.2633283138275146,
          -7.598214626312256,
          14.461407661437988,
          0.14302216470241547,
          1.636195182800293,
          14.254525184631348,
          0.694179892539978,
          -7.337643623352051,
          0.29536083340644836,
          1.9031404256820679,
          3.064926862716675,
          3.4692912101745605,
          0.6113924384117126,
          -7.111500263214111,
          -7.838481903076172,
          0.9761202931404114,
          3.27665114402771
         ],
         "xaxis": "x",
         "y": [
          -0.6297393441200256,
          -0.5504847764968872,
          -1.7198079824447632,
          -1.1182317733764648,
          8.399380683898926,
          9.243949890136719,
          -1.4482477903366089,
          -0.4400660991668701,
          9.037320137023926,
          -1.2987794876098633,
          8.689740180969238,
          -0.8986498117446899,
          -0.28298187255859375,
          8.750385284423828,
          9.1546049118042,
          -0.75836580991745,
          8.933345794677734,
          8.144627571105957,
          -1.7979822158813477,
          8.962167739868164
         ],
         "yaxis": "y"
        }
       ],
       "layout": {
        "annotations": [
         {
          "showarrow": false,
          "text": "D1",
          "x": -10.129226970672608,
          "y": 4.281431412696838,
          "yshift": 10
         },
         {
          "showarrow": false,
          "text": "D2",
          "x": 3.250695919990539,
          "xshift": 10,
          "y": 10.630542373657226
         }
        ],
        "height": 650,
        "hoverlabel": {
         "bgcolor": "white",
         "font": {
          "family": "Rockwell",
          "size": 16
         }
        },
        "legend": {
         "itemsizing": "constant",
         "tracegroupgap": 0
        },
        "margin": {
         "t": 60
        },
        "shapes": [
         {
          "line": {
           "color": "#CFD8DC",
           "width": 2
          },
          "type": "line",
          "x0": 3.250695919990539,
          "x1": 3.250695919990539,
          "y0": -2.0676795482635497,
          "y1": 10.630542373657226
         },
         {
          "line": {
           "color": "#9E9E9E",
           "width": 2
          },
          "type": "line",
          "x0": -10.129226970672608,
          "x1": 16.630618810653687,
          "y0": 4.281431412696838,
          "y1": 4.281431412696838
         }
        ],
        "sliders": [
         {
          "active": 0,
          "pad": {
           "t": 50
          },
          "steps": [
           {
            "args": [
             {
              "marker.color": [
               [
                "red",
                "#B0BEC5",
                "#B0BEC5",
                "#B0BEC5",
                "#B0BEC5",
                "#B0BEC5",
                "#B0BEC5",
                "#B0BEC5",
                "#B0BEC5",
                "#B0BEC5",
                "#B0BEC5",
                "#B0BEC5",
                "#B0BEC5",
                "#B0BEC5",
                "#B0BEC5",
                "#B0BEC5",
                "#B0BEC5",
                "#B0BEC5",
                "#B0BEC5",
                "#B0BEC5"
               ]
              ]
             }
            ],
            "label": "Topic 0",
            "method": "update"
           },
           {
            "args": [
             {
              "marker.color": [
               [
                "#B0BEC5",
                "red",
                "#B0BEC5",
                "#B0BEC5",
                "#B0BEC5",
                "#B0BEC5",
                "#B0BEC5",
                "#B0BEC5",
                "#B0BEC5",
                "#B0BEC5",
                "#B0BEC5",
                "#B0BEC5",
                "#B0BEC5",
                "#B0BEC5",
                "#B0BEC5",
                "#B0BEC5",
                "#B0BEC5",
                "#B0BEC5",
                "#B0BEC5",
                "#B0BEC5"
               ]
              ]
             }
            ],
            "label": "Topic 1",
            "method": "update"
           },
           {
            "args": [
             {
              "marker.color": [
               [
                "#B0BEC5",
                "#B0BEC5",
                "red",
                "#B0BEC5",
                "#B0BEC5",
                "#B0BEC5",
                "#B0BEC5",
                "#B0BEC5",
                "#B0BEC5",
                "#B0BEC5",
                "#B0BEC5",
                "#B0BEC5",
                "#B0BEC5",
                "#B0BEC5",
                "#B0BEC5",
                "#B0BEC5",
                "#B0BEC5",
                "#B0BEC5",
                "#B0BEC5",
                "#B0BEC5"
               ]
              ]
             }
            ],
            "label": "Topic 2",
            "method": "update"
           },
           {
            "args": [
             {
              "marker.color": [
               [
                "#B0BEC5",
                "#B0BEC5",
                "#B0BEC5",
                "red",
                "#B0BEC5",
                "#B0BEC5",
                "#B0BEC5",
                "#B0BEC5",
                "#B0BEC5",
                "#B0BEC5",
                "#B0BEC5",
                "#B0BEC5",
                "#B0BEC5",
                "#B0BEC5",
                "#B0BEC5",
                "#B0BEC5",
                "#B0BEC5",
                "#B0BEC5",
                "#B0BEC5",
                "#B0BEC5"
               ]
              ]
             }
            ],
            "label": "Topic 3",
            "method": "update"
           },
           {
            "args": [
             {
              "marker.color": [
               [
                "#B0BEC5",
                "#B0BEC5",
                "#B0BEC5",
                "#B0BEC5",
                "red",
                "#B0BEC5",
                "#B0BEC5",
                "#B0BEC5",
                "#B0BEC5",
                "#B0BEC5",
                "#B0BEC5",
                "#B0BEC5",
                "#B0BEC5",
                "#B0BEC5",
                "#B0BEC5",
                "#B0BEC5",
                "#B0BEC5",
                "#B0BEC5",
                "#B0BEC5",
                "#B0BEC5"
               ]
              ]
             }
            ],
            "label": "Topic 4",
            "method": "update"
           },
           {
            "args": [
             {
              "marker.color": [
               [
                "#B0BEC5",
                "#B0BEC5",
                "#B0BEC5",
                "#B0BEC5",
                "#B0BEC5",
                "red",
                "#B0BEC5",
                "#B0BEC5",
                "#B0BEC5",
                "#B0BEC5",
                "#B0BEC5",
                "#B0BEC5",
                "#B0BEC5",
                "#B0BEC5",
                "#B0BEC5",
                "#B0BEC5",
                "#B0BEC5",
                "#B0BEC5",
                "#B0BEC5",
                "#B0BEC5"
               ]
              ]
             }
            ],
            "label": "Topic 5",
            "method": "update"
           },
           {
            "args": [
             {
              "marker.color": [
               [
                "#B0BEC5",
                "#B0BEC5",
                "#B0BEC5",
                "#B0BEC5",
                "#B0BEC5",
                "#B0BEC5",
                "red",
                "#B0BEC5",
                "#B0BEC5",
                "#B0BEC5",
                "#B0BEC5",
                "#B0BEC5",
                "#B0BEC5",
                "#B0BEC5",
                "#B0BEC5",
                "#B0BEC5",
                "#B0BEC5",
                "#B0BEC5",
                "#B0BEC5",
                "#B0BEC5"
               ]
              ]
             }
            ],
            "label": "Topic 6",
            "method": "update"
           },
           {
            "args": [
             {
              "marker.color": [
               [
                "#B0BEC5",
                "#B0BEC5",
                "#B0BEC5",
                "#B0BEC5",
                "#B0BEC5",
                "#B0BEC5",
                "#B0BEC5",
                "red",
                "#B0BEC5",
                "#B0BEC5",
                "#B0BEC5",
                "#B0BEC5",
                "#B0BEC5",
                "#B0BEC5",
                "#B0BEC5",
                "#B0BEC5",
                "#B0BEC5",
                "#B0BEC5",
                "#B0BEC5",
                "#B0BEC5"
               ]
              ]
             }
            ],
            "label": "Topic 7",
            "method": "update"
           },
           {
            "args": [
             {
              "marker.color": [
               [
                "#B0BEC5",
                "#B0BEC5",
                "#B0BEC5",
                "#B0BEC5",
                "#B0BEC5",
                "#B0BEC5",
                "#B0BEC5",
                "#B0BEC5",
                "red",
                "#B0BEC5",
                "#B0BEC5",
                "#B0BEC5",
                "#B0BEC5",
                "#B0BEC5",
                "#B0BEC5",
                "#B0BEC5",
                "#B0BEC5",
                "#B0BEC5",
                "#B0BEC5",
                "#B0BEC5"
               ]
              ]
             }
            ],
            "label": "Topic 8",
            "method": "update"
           },
           {
            "args": [
             {
              "marker.color": [
               [
                "#B0BEC5",
                "#B0BEC5",
                "#B0BEC5",
                "#B0BEC5",
                "#B0BEC5",
                "#B0BEC5",
                "#B0BEC5",
                "#B0BEC5",
                "#B0BEC5",
                "red",
                "#B0BEC5",
                "#B0BEC5",
                "#B0BEC5",
                "#B0BEC5",
                "#B0BEC5",
                "#B0BEC5",
                "#B0BEC5",
                "#B0BEC5",
                "#B0BEC5",
                "#B0BEC5"
               ]
              ]
             }
            ],
            "label": "Topic 9",
            "method": "update"
           },
           {
            "args": [
             {
              "marker.color": [
               [
                "#B0BEC5",
                "#B0BEC5",
                "#B0BEC5",
                "#B0BEC5",
                "#B0BEC5",
                "#B0BEC5",
                "#B0BEC5",
                "#B0BEC5",
                "#B0BEC5",
                "#B0BEC5",
                "red",
                "#B0BEC5",
                "#B0BEC5",
                "#B0BEC5",
                "#B0BEC5",
                "#B0BEC5",
                "#B0BEC5",
                "#B0BEC5",
                "#B0BEC5",
                "#B0BEC5"
               ]
              ]
             }
            ],
            "label": "Topic 10",
            "method": "update"
           },
           {
            "args": [
             {
              "marker.color": [
               [
                "#B0BEC5",
                "#B0BEC5",
                "#B0BEC5",
                "#B0BEC5",
                "#B0BEC5",
                "#B0BEC5",
                "#B0BEC5",
                "#B0BEC5",
                "#B0BEC5",
                "#B0BEC5",
                "#B0BEC5",
                "red",
                "#B0BEC5",
                "#B0BEC5",
                "#B0BEC5",
                "#B0BEC5",
                "#B0BEC5",
                "#B0BEC5",
                "#B0BEC5",
                "#B0BEC5"
               ]
              ]
             }
            ],
            "label": "Topic 11",
            "method": "update"
           },
           {
            "args": [
             {
              "marker.color": [
               [
                "#B0BEC5",
                "#B0BEC5",
                "#B0BEC5",
                "#B0BEC5",
                "#B0BEC5",
                "#B0BEC5",
                "#B0BEC5",
                "#B0BEC5",
                "#B0BEC5",
                "#B0BEC5",
                "#B0BEC5",
                "#B0BEC5",
                "red",
                "#B0BEC5",
                "#B0BEC5",
                "#B0BEC5",
                "#B0BEC5",
                "#B0BEC5",
                "#B0BEC5",
                "#B0BEC5"
               ]
              ]
             }
            ],
            "label": "Topic 12",
            "method": "update"
           },
           {
            "args": [
             {
              "marker.color": [
               [
                "#B0BEC5",
                "#B0BEC5",
                "#B0BEC5",
                "#B0BEC5",
                "#B0BEC5",
                "#B0BEC5",
                "#B0BEC5",
                "#B0BEC5",
                "#B0BEC5",
                "#B0BEC5",
                "#B0BEC5",
                "#B0BEC5",
                "#B0BEC5",
                "red",
                "#B0BEC5",
                "#B0BEC5",
                "#B0BEC5",
                "#B0BEC5",
                "#B0BEC5",
                "#B0BEC5"
               ]
              ]
             }
            ],
            "label": "Topic 13",
            "method": "update"
           },
           {
            "args": [
             {
              "marker.color": [
               [
                "#B0BEC5",
                "#B0BEC5",
                "#B0BEC5",
                "#B0BEC5",
                "#B0BEC5",
                "#B0BEC5",
                "#B0BEC5",
                "#B0BEC5",
                "#B0BEC5",
                "#B0BEC5",
                "#B0BEC5",
                "#B0BEC5",
                "#B0BEC5",
                "#B0BEC5",
                "red",
                "#B0BEC5",
                "#B0BEC5",
                "#B0BEC5",
                "#B0BEC5",
                "#B0BEC5"
               ]
              ]
             }
            ],
            "label": "Topic 14",
            "method": "update"
           },
           {
            "args": [
             {
              "marker.color": [
               [
                "#B0BEC5",
                "#B0BEC5",
                "#B0BEC5",
                "#B0BEC5",
                "#B0BEC5",
                "#B0BEC5",
                "#B0BEC5",
                "#B0BEC5",
                "#B0BEC5",
                "#B0BEC5",
                "#B0BEC5",
                "#B0BEC5",
                "#B0BEC5",
                "#B0BEC5",
                "#B0BEC5",
                "red",
                "#B0BEC5",
                "#B0BEC5",
                "#B0BEC5",
                "#B0BEC5"
               ]
              ]
             }
            ],
            "label": "Topic 15",
            "method": "update"
           },
           {
            "args": [
             {
              "marker.color": [
               [
                "#B0BEC5",
                "#B0BEC5",
                "#B0BEC5",
                "#B0BEC5",
                "#B0BEC5",
                "#B0BEC5",
                "#B0BEC5",
                "#B0BEC5",
                "#B0BEC5",
                "#B0BEC5",
                "#B0BEC5",
                "#B0BEC5",
                "#B0BEC5",
                "#B0BEC5",
                "#B0BEC5",
                "#B0BEC5",
                "red",
                "#B0BEC5",
                "#B0BEC5",
                "#B0BEC5"
               ]
              ]
             }
            ],
            "label": "Topic 16",
            "method": "update"
           },
           {
            "args": [
             {
              "marker.color": [
               [
                "#B0BEC5",
                "#B0BEC5",
                "#B0BEC5",
                "#B0BEC5",
                "#B0BEC5",
                "#B0BEC5",
                "#B0BEC5",
                "#B0BEC5",
                "#B0BEC5",
                "#B0BEC5",
                "#B0BEC5",
                "#B0BEC5",
                "#B0BEC5",
                "#B0BEC5",
                "#B0BEC5",
                "#B0BEC5",
                "#B0BEC5",
                "red",
                "#B0BEC5",
                "#B0BEC5"
               ]
              ]
             }
            ],
            "label": "Topic 17",
            "method": "update"
           },
           {
            "args": [
             {
              "marker.color": [
               [
                "#B0BEC5",
                "#B0BEC5",
                "#B0BEC5",
                "#B0BEC5",
                "#B0BEC5",
                "#B0BEC5",
                "#B0BEC5",
                "#B0BEC5",
                "#B0BEC5",
                "#B0BEC5",
                "#B0BEC5",
                "#B0BEC5",
                "#B0BEC5",
                "#B0BEC5",
                "#B0BEC5",
                "#B0BEC5",
                "#B0BEC5",
                "#B0BEC5",
                "red",
                "#B0BEC5"
               ]
              ]
             }
            ],
            "label": "Topic 18",
            "method": "update"
           },
           {
            "args": [
             {
              "marker.color": [
               [
                "#B0BEC5",
                "#B0BEC5",
                "#B0BEC5",
                "#B0BEC5",
                "#B0BEC5",
                "#B0BEC5",
                "#B0BEC5",
                "#B0BEC5",
                "#B0BEC5",
                "#B0BEC5",
                "#B0BEC5",
                "#B0BEC5",
                "#B0BEC5",
                "#B0BEC5",
                "#B0BEC5",
                "#B0BEC5",
                "#B0BEC5",
                "#B0BEC5",
                "#B0BEC5",
                "red"
               ]
              ]
             }
            ],
            "label": "Topic 19",
            "method": "update"
           }
          ]
         }
        ],
        "template": {
         "data": {
          "bar": [
           {
            "error_x": {
             "color": "rgb(36,36,36)"
            },
            "error_y": {
             "color": "rgb(36,36,36)"
            },
            "marker": {
             "line": {
              "color": "white",
              "width": 0.5
             }
            },
            "type": "bar"
           }
          ],
          "barpolar": [
           {
            "marker": {
             "line": {
              "color": "white",
              "width": 0.5
             }
            },
            "type": "barpolar"
           }
          ],
          "carpet": [
           {
            "aaxis": {
             "endlinecolor": "rgb(36,36,36)",
             "gridcolor": "white",
             "linecolor": "white",
             "minorgridcolor": "white",
             "startlinecolor": "rgb(36,36,36)"
            },
            "baxis": {
             "endlinecolor": "rgb(36,36,36)",
             "gridcolor": "white",
             "linecolor": "white",
             "minorgridcolor": "white",
             "startlinecolor": "rgb(36,36,36)"
            },
            "type": "carpet"
           }
          ],
          "choropleth": [
           {
            "colorbar": {
             "outlinewidth": 1,
             "tickcolor": "rgb(36,36,36)",
             "ticks": "outside"
            },
            "type": "choropleth"
           }
          ],
          "contour": [
           {
            "colorbar": {
             "outlinewidth": 1,
             "tickcolor": "rgb(36,36,36)",
             "ticks": "outside"
            },
            "colorscale": [
             [
              0,
              "#440154"
             ],
             [
              0.1111111111111111,
              "#482878"
             ],
             [
              0.2222222222222222,
              "#3e4989"
             ],
             [
              0.3333333333333333,
              "#31688e"
             ],
             [
              0.4444444444444444,
              "#26828e"
             ],
             [
              0.5555555555555556,
              "#1f9e89"
             ],
             [
              0.6666666666666666,
              "#35b779"
             ],
             [
              0.7777777777777778,
              "#6ece58"
             ],
             [
              0.8888888888888888,
              "#b5de2b"
             ],
             [
              1,
              "#fde725"
             ]
            ],
            "type": "contour"
           }
          ],
          "contourcarpet": [
           {
            "colorbar": {
             "outlinewidth": 1,
             "tickcolor": "rgb(36,36,36)",
             "ticks": "outside"
            },
            "type": "contourcarpet"
           }
          ],
          "heatmap": [
           {
            "colorbar": {
             "outlinewidth": 1,
             "tickcolor": "rgb(36,36,36)",
             "ticks": "outside"
            },
            "colorscale": [
             [
              0,
              "#440154"
             ],
             [
              0.1111111111111111,
              "#482878"
             ],
             [
              0.2222222222222222,
              "#3e4989"
             ],
             [
              0.3333333333333333,
              "#31688e"
             ],
             [
              0.4444444444444444,
              "#26828e"
             ],
             [
              0.5555555555555556,
              "#1f9e89"
             ],
             [
              0.6666666666666666,
              "#35b779"
             ],
             [
              0.7777777777777778,
              "#6ece58"
             ],
             [
              0.8888888888888888,
              "#b5de2b"
             ],
             [
              1,
              "#fde725"
             ]
            ],
            "type": "heatmap"
           }
          ],
          "heatmapgl": [
           {
            "colorbar": {
             "outlinewidth": 1,
             "tickcolor": "rgb(36,36,36)",
             "ticks": "outside"
            },
            "colorscale": [
             [
              0,
              "#440154"
             ],
             [
              0.1111111111111111,
              "#482878"
             ],
             [
              0.2222222222222222,
              "#3e4989"
             ],
             [
              0.3333333333333333,
              "#31688e"
             ],
             [
              0.4444444444444444,
              "#26828e"
             ],
             [
              0.5555555555555556,
              "#1f9e89"
             ],
             [
              0.6666666666666666,
              "#35b779"
             ],
             [
              0.7777777777777778,
              "#6ece58"
             ],
             [
              0.8888888888888888,
              "#b5de2b"
             ],
             [
              1,
              "#fde725"
             ]
            ],
            "type": "heatmapgl"
           }
          ],
          "histogram": [
           {
            "marker": {
             "line": {
              "color": "white",
              "width": 0.6
             }
            },
            "type": "histogram"
           }
          ],
          "histogram2d": [
           {
            "colorbar": {
             "outlinewidth": 1,
             "tickcolor": "rgb(36,36,36)",
             "ticks": "outside"
            },
            "colorscale": [
             [
              0,
              "#440154"
             ],
             [
              0.1111111111111111,
              "#482878"
             ],
             [
              0.2222222222222222,
              "#3e4989"
             ],
             [
              0.3333333333333333,
              "#31688e"
             ],
             [
              0.4444444444444444,
              "#26828e"
             ],
             [
              0.5555555555555556,
              "#1f9e89"
             ],
             [
              0.6666666666666666,
              "#35b779"
             ],
             [
              0.7777777777777778,
              "#6ece58"
             ],
             [
              0.8888888888888888,
              "#b5de2b"
             ],
             [
              1,
              "#fde725"
             ]
            ],
            "type": "histogram2d"
           }
          ],
          "histogram2dcontour": [
           {
            "colorbar": {
             "outlinewidth": 1,
             "tickcolor": "rgb(36,36,36)",
             "ticks": "outside"
            },
            "colorscale": [
             [
              0,
              "#440154"
             ],
             [
              0.1111111111111111,
              "#482878"
             ],
             [
              0.2222222222222222,
              "#3e4989"
             ],
             [
              0.3333333333333333,
              "#31688e"
             ],
             [
              0.4444444444444444,
              "#26828e"
             ],
             [
              0.5555555555555556,
              "#1f9e89"
             ],
             [
              0.6666666666666666,
              "#35b779"
             ],
             [
              0.7777777777777778,
              "#6ece58"
             ],
             [
              0.8888888888888888,
              "#b5de2b"
             ],
             [
              1,
              "#fde725"
             ]
            ],
            "type": "histogram2dcontour"
           }
          ],
          "mesh3d": [
           {
            "colorbar": {
             "outlinewidth": 1,
             "tickcolor": "rgb(36,36,36)",
             "ticks": "outside"
            },
            "type": "mesh3d"
           }
          ],
          "parcoords": [
           {
            "line": {
             "colorbar": {
              "outlinewidth": 1,
              "tickcolor": "rgb(36,36,36)",
              "ticks": "outside"
             }
            },
            "type": "parcoords"
           }
          ],
          "pie": [
           {
            "automargin": true,
            "type": "pie"
           }
          ],
          "scatter": [
           {
            "marker": {
             "colorbar": {
              "outlinewidth": 1,
              "tickcolor": "rgb(36,36,36)",
              "ticks": "outside"
             }
            },
            "type": "scatter"
           }
          ],
          "scatter3d": [
           {
            "line": {
             "colorbar": {
              "outlinewidth": 1,
              "tickcolor": "rgb(36,36,36)",
              "ticks": "outside"
             }
            },
            "marker": {
             "colorbar": {
              "outlinewidth": 1,
              "tickcolor": "rgb(36,36,36)",
              "ticks": "outside"
             }
            },
            "type": "scatter3d"
           }
          ],
          "scattercarpet": [
           {
            "marker": {
             "colorbar": {
              "outlinewidth": 1,
              "tickcolor": "rgb(36,36,36)",
              "ticks": "outside"
             }
            },
            "type": "scattercarpet"
           }
          ],
          "scattergeo": [
           {
            "marker": {
             "colorbar": {
              "outlinewidth": 1,
              "tickcolor": "rgb(36,36,36)",
              "ticks": "outside"
             }
            },
            "type": "scattergeo"
           }
          ],
          "scattergl": [
           {
            "marker": {
             "colorbar": {
              "outlinewidth": 1,
              "tickcolor": "rgb(36,36,36)",
              "ticks": "outside"
             }
            },
            "type": "scattergl"
           }
          ],
          "scattermapbox": [
           {
            "marker": {
             "colorbar": {
              "outlinewidth": 1,
              "tickcolor": "rgb(36,36,36)",
              "ticks": "outside"
             }
            },
            "type": "scattermapbox"
           }
          ],
          "scatterpolar": [
           {
            "marker": {
             "colorbar": {
              "outlinewidth": 1,
              "tickcolor": "rgb(36,36,36)",
              "ticks": "outside"
             }
            },
            "type": "scatterpolar"
           }
          ],
          "scatterpolargl": [
           {
            "marker": {
             "colorbar": {
              "outlinewidth": 1,
              "tickcolor": "rgb(36,36,36)",
              "ticks": "outside"
             }
            },
            "type": "scatterpolargl"
           }
          ],
          "scatterternary": [
           {
            "marker": {
             "colorbar": {
              "outlinewidth": 1,
              "tickcolor": "rgb(36,36,36)",
              "ticks": "outside"
             }
            },
            "type": "scatterternary"
           }
          ],
          "surface": [
           {
            "colorbar": {
             "outlinewidth": 1,
             "tickcolor": "rgb(36,36,36)",
             "ticks": "outside"
            },
            "colorscale": [
             [
              0,
              "#440154"
             ],
             [
              0.1111111111111111,
              "#482878"
             ],
             [
              0.2222222222222222,
              "#3e4989"
             ],
             [
              0.3333333333333333,
              "#31688e"
             ],
             [
              0.4444444444444444,
              "#26828e"
             ],
             [
              0.5555555555555556,
              "#1f9e89"
             ],
             [
              0.6666666666666666,
              "#35b779"
             ],
             [
              0.7777777777777778,
              "#6ece58"
             ],
             [
              0.8888888888888888,
              "#b5de2b"
             ],
             [
              1,
              "#fde725"
             ]
            ],
            "type": "surface"
           }
          ],
          "table": [
           {
            "cells": {
             "fill": {
              "color": "rgb(237,237,237)"
             },
             "line": {
              "color": "white"
             }
            },
            "header": {
             "fill": {
              "color": "rgb(217,217,217)"
             },
             "line": {
              "color": "white"
             }
            },
            "type": "table"
           }
          ]
         },
         "layout": {
          "annotationdefaults": {
           "arrowhead": 0,
           "arrowwidth": 1
          },
          "autotypenumbers": "strict",
          "coloraxis": {
           "colorbar": {
            "outlinewidth": 1,
            "tickcolor": "rgb(36,36,36)",
            "ticks": "outside"
           }
          },
          "colorscale": {
           "diverging": [
            [
             0,
             "rgb(103,0,31)"
            ],
            [
             0.1,
             "rgb(178,24,43)"
            ],
            [
             0.2,
             "rgb(214,96,77)"
            ],
            [
             0.3,
             "rgb(244,165,130)"
            ],
            [
             0.4,
             "rgb(253,219,199)"
            ],
            [
             0.5,
             "rgb(247,247,247)"
            ],
            [
             0.6,
             "rgb(209,229,240)"
            ],
            [
             0.7,
             "rgb(146,197,222)"
            ],
            [
             0.8,
             "rgb(67,147,195)"
            ],
            [
             0.9,
             "rgb(33,102,172)"
            ],
            [
             1,
             "rgb(5,48,97)"
            ]
           ],
           "sequential": [
            [
             0,
             "#440154"
            ],
            [
             0.1111111111111111,
             "#482878"
            ],
            [
             0.2222222222222222,
             "#3e4989"
            ],
            [
             0.3333333333333333,
             "#31688e"
            ],
            [
             0.4444444444444444,
             "#26828e"
            ],
            [
             0.5555555555555556,
             "#1f9e89"
            ],
            [
             0.6666666666666666,
             "#35b779"
            ],
            [
             0.7777777777777778,
             "#6ece58"
            ],
            [
             0.8888888888888888,
             "#b5de2b"
            ],
            [
             1,
             "#fde725"
            ]
           ],
           "sequentialminus": [
            [
             0,
             "#440154"
            ],
            [
             0.1111111111111111,
             "#482878"
            ],
            [
             0.2222222222222222,
             "#3e4989"
            ],
            [
             0.3333333333333333,
             "#31688e"
            ],
            [
             0.4444444444444444,
             "#26828e"
            ],
            [
             0.5555555555555556,
             "#1f9e89"
            ],
            [
             0.6666666666666666,
             "#35b779"
            ],
            [
             0.7777777777777778,
             "#6ece58"
            ],
            [
             0.8888888888888888,
             "#b5de2b"
            ],
            [
             1,
             "#fde725"
            ]
           ]
          },
          "colorway": [
           "#1F77B4",
           "#FF7F0E",
           "#2CA02C",
           "#D62728",
           "#9467BD",
           "#8C564B",
           "#E377C2",
           "#7F7F7F",
           "#BCBD22",
           "#17BECF"
          ],
          "font": {
           "color": "rgb(36,36,36)"
          },
          "geo": {
           "bgcolor": "white",
           "lakecolor": "white",
           "landcolor": "white",
           "showlakes": true,
           "showland": true,
           "subunitcolor": "white"
          },
          "hoverlabel": {
           "align": "left"
          },
          "hovermode": "closest",
          "mapbox": {
           "style": "light"
          },
          "paper_bgcolor": "white",
          "plot_bgcolor": "white",
          "polar": {
           "angularaxis": {
            "gridcolor": "rgb(232,232,232)",
            "linecolor": "rgb(36,36,36)",
            "showgrid": false,
            "showline": true,
            "ticks": "outside"
           },
           "bgcolor": "white",
           "radialaxis": {
            "gridcolor": "rgb(232,232,232)",
            "linecolor": "rgb(36,36,36)",
            "showgrid": false,
            "showline": true,
            "ticks": "outside"
           }
          },
          "scene": {
           "xaxis": {
            "backgroundcolor": "white",
            "gridcolor": "rgb(232,232,232)",
            "gridwidth": 2,
            "linecolor": "rgb(36,36,36)",
            "showbackground": true,
            "showgrid": false,
            "showline": true,
            "ticks": "outside",
            "zeroline": false,
            "zerolinecolor": "rgb(36,36,36)"
           },
           "yaxis": {
            "backgroundcolor": "white",
            "gridcolor": "rgb(232,232,232)",
            "gridwidth": 2,
            "linecolor": "rgb(36,36,36)",
            "showbackground": true,
            "showgrid": false,
            "showline": true,
            "ticks": "outside",
            "zeroline": false,
            "zerolinecolor": "rgb(36,36,36)"
           },
           "zaxis": {
            "backgroundcolor": "white",
            "gridcolor": "rgb(232,232,232)",
            "gridwidth": 2,
            "linecolor": "rgb(36,36,36)",
            "showbackground": true,
            "showgrid": false,
            "showline": true,
            "ticks": "outside",
            "zeroline": false,
            "zerolinecolor": "rgb(36,36,36)"
           }
          },
          "shapedefaults": {
           "fillcolor": "black",
           "line": {
            "width": 0
           },
           "opacity": 0.3
          },
          "ternary": {
           "aaxis": {
            "gridcolor": "rgb(232,232,232)",
            "linecolor": "rgb(36,36,36)",
            "showgrid": false,
            "showline": true,
            "ticks": "outside"
           },
           "baxis": {
            "gridcolor": "rgb(232,232,232)",
            "linecolor": "rgb(36,36,36)",
            "showgrid": false,
            "showline": true,
            "ticks": "outside"
           },
           "bgcolor": "white",
           "caxis": {
            "gridcolor": "rgb(232,232,232)",
            "linecolor": "rgb(36,36,36)",
            "showgrid": false,
            "showline": true,
            "ticks": "outside"
           }
          },
          "title": {
           "x": 0.05
          },
          "xaxis": {
           "automargin": true,
           "gridcolor": "rgb(232,232,232)",
           "linecolor": "rgb(36,36,36)",
           "showgrid": false,
           "showline": true,
           "ticks": "outside",
           "title": {
            "standoff": 15
           },
           "zeroline": false,
           "zerolinecolor": "rgb(36,36,36)"
          },
          "yaxis": {
           "automargin": true,
           "gridcolor": "rgb(232,232,232)",
           "linecolor": "rgb(36,36,36)",
           "showgrid": false,
           "showline": true,
           "ticks": "outside",
           "title": {
            "standoff": 15
           },
           "zeroline": false,
           "zerolinecolor": "rgb(36,36,36)"
          }
         }
        },
        "title": {
         "font": {
          "color": "Black",
          "size": 22
         },
         "text": "<b>Intertopic Distance Map",
         "x": 0.5,
         "xanchor": "center",
         "y": 0.95,
         "yanchor": "top"
        },
        "width": 650,
        "xaxis": {
         "anchor": "y",
         "domain": [
          0,
          1
         ],
         "range": [
          -10.129226970672608,
          16.630618810653687
         ],
         "title": {
          "text": ""
         },
         "visible": false
        },
        "yaxis": {
         "anchor": "x",
         "domain": [
          0,
          1
         ],
         "range": [
          -2.0676795482635497,
          10.630542373657226
         ],
         "title": {
          "text": ""
         },
         "visible": false
        }
       }
      },
      "text/html": [
       "<div>                            <div id=\"fc9fe39f-e9ac-4238-9e9a-ba913ca23ef7\" class=\"plotly-graph-div\" style=\"height:650px; width:650px;\"></div>            <script type=\"text/javascript\">                require([\"plotly\"], function(Plotly) {                    window.PLOTLYENV=window.PLOTLYENV || {};                                    if (document.getElementById(\"fc9fe39f-e9ac-4238-9e9a-ba913ca23ef7\")) {                    Plotly.newPlot(                        \"fc9fe39f-e9ac-4238-9e9a-ba913ca23ef7\",                        [{\"customdata\": [[-8.73071575164795, -0.6297393441200256, 0, \"app | good | easy | service | love\", 846], [-8.808023452758789, -0.5504847764968872, 1, \"drivers | cars | clean | great | good\", 529], [-0.07121212780475616, -1.7198079824447632, 2, \"service | drivers | customer | excellent | services\", 466], [1.2633283138275146, -1.1182317733764648, 3, \"ride | rides | enjoyed | enjoy | good\", 453], [-7.598214626312256, 8.399380683898926, 4, \"prices | discounts | price | good | great\", 403], [14.461407661437988, 9.243949890136719, 5, \"bolt | was | driver | with | have\", 386], [0.14302216470241547, -1.4482477903366089, 6, \"bolt | experience | always | awesome | good\", 296], [1.636195182800293, -0.4400660991668701, 7, \"affordable | good | nice | efficient | great\", 295], [14.254525184631348, 9.037320137023926, 8, \"taxify | taxi | that | my | uber\", 288], [0.694179892539978, -1.2987794876098633, 9, \"friendly | drivers | good | nice | loving\", 283], [-7.337643623352051, 8.689740180969238, 10, \"time | minutes | waiting | wait | arrival\", 260], [0.29536083340644836, -0.8986498117446899, 11, \"enjoy | rides | ride | enjoying | drivers\", 243], [1.9031404256820679, -0.28298187255859375, 12, \"efficient | reliable | service | good | great\", 222], [3.064926862716675, 8.750385284423828, 13, \"card | code | sms | cant | number\", 216], [3.4692912101745605, 9.1546049118042, 14, \"easy | safe | update | app | convenient\", 212], [0.6113924384117126, -0.75836580991745, 15, \"driver | nice | awesome | great | wonderful\", 189], [-7.111500263214111, 8.933345794677734, 16, \"map | gps | location | maps | accurate\", 188], [-7.838481903076172, 8.144627571105957, 17, \"uber | better | cheaper | more | prices\", 185], [0.9761202931404114, -1.7979822158813477, 18, \"transport | transportation | app | easy | trips\", 174], [3.27665114402771, 8.962167739868164, 19, \"promo | promos | code | promotions | codes\", 168]], \"hovertemplate\": \"<b>Topic %{customdata[2]}</b><br>Words: %{customdata[3]}<br>Size: %{customdata[4]}\", \"legendgroup\": \"\", \"marker\": {\"color\": \"#B0BEC5\", \"line\": {\"color\": \"DarkSlateGrey\", \"width\": 2}, \"size\": [846, 529, 466, 453, 403, 386, 296, 295, 288, 283, 260, 243, 222, 216, 212, 189, 188, 185, 174, 168], \"sizemode\": \"area\", \"sizeref\": 0.52875, \"symbol\": \"circle\"}, \"mode\": \"markers\", \"name\": \"\", \"orientation\": \"v\", \"showlegend\": false, \"type\": \"scatter\", \"x\": [-8.73071575164795, -8.808023452758789, -0.07121212780475616, 1.2633283138275146, -7.598214626312256, 14.461407661437988, 0.14302216470241547, 1.636195182800293, 14.254525184631348, 0.694179892539978, -7.337643623352051, 0.29536083340644836, 1.9031404256820679, 3.064926862716675, 3.4692912101745605, 0.6113924384117126, -7.111500263214111, -7.838481903076172, 0.9761202931404114, 3.27665114402771], \"xaxis\": \"x\", \"y\": [-0.6297393441200256, -0.5504847764968872, -1.7198079824447632, -1.1182317733764648, 8.399380683898926, 9.243949890136719, -1.4482477903366089, -0.4400660991668701, 9.037320137023926, -1.2987794876098633, 8.689740180969238, -0.8986498117446899, -0.28298187255859375, 8.750385284423828, 9.1546049118042, -0.75836580991745, 8.933345794677734, 8.144627571105957, -1.7979822158813477, 8.962167739868164], \"yaxis\": \"y\"}],                        {\"annotations\": [{\"showarrow\": false, \"text\": \"D1\", \"x\": -10.129226970672608, \"y\": 4.281431412696838, \"yshift\": 10}, {\"showarrow\": false, \"text\": \"D2\", \"x\": 3.250695919990539, \"xshift\": 10, \"y\": 10.630542373657226}], \"height\": 650, \"hoverlabel\": {\"bgcolor\": \"white\", \"font\": {\"family\": \"Rockwell\", \"size\": 16}}, \"legend\": {\"itemsizing\": \"constant\", \"tracegroupgap\": 0}, \"margin\": {\"t\": 60}, \"shapes\": [{\"line\": {\"color\": \"#CFD8DC\", \"width\": 2}, \"type\": \"line\", \"x0\": 3.250695919990539, \"x1\": 3.250695919990539, \"y0\": -2.0676795482635497, \"y1\": 10.630542373657226}, {\"line\": {\"color\": \"#9E9E9E\", \"width\": 2}, \"type\": \"line\", \"x0\": -10.129226970672608, \"x1\": 16.630618810653687, \"y0\": 4.281431412696838, \"y1\": 4.281431412696838}], \"sliders\": [{\"active\": 0, \"pad\": {\"t\": 50}, \"steps\": [{\"args\": [{\"marker.color\": [[\"red\", \"#B0BEC5\", \"#B0BEC5\", \"#B0BEC5\", \"#B0BEC5\", \"#B0BEC5\", \"#B0BEC5\", \"#B0BEC5\", \"#B0BEC5\", \"#B0BEC5\", \"#B0BEC5\", \"#B0BEC5\", \"#B0BEC5\", \"#B0BEC5\", \"#B0BEC5\", \"#B0BEC5\", \"#B0BEC5\", \"#B0BEC5\", \"#B0BEC5\", \"#B0BEC5\"]]}], \"label\": \"Topic 0\", \"method\": \"update\"}, {\"args\": [{\"marker.color\": [[\"#B0BEC5\", \"red\", \"#B0BEC5\", \"#B0BEC5\", \"#B0BEC5\", \"#B0BEC5\", \"#B0BEC5\", \"#B0BEC5\", \"#B0BEC5\", \"#B0BEC5\", \"#B0BEC5\", \"#B0BEC5\", \"#B0BEC5\", \"#B0BEC5\", \"#B0BEC5\", \"#B0BEC5\", \"#B0BEC5\", \"#B0BEC5\", \"#B0BEC5\", \"#B0BEC5\"]]}], \"label\": \"Topic 1\", \"method\": \"update\"}, {\"args\": [{\"marker.color\": [[\"#B0BEC5\", \"#B0BEC5\", \"red\", \"#B0BEC5\", \"#B0BEC5\", \"#B0BEC5\", \"#B0BEC5\", \"#B0BEC5\", \"#B0BEC5\", \"#B0BEC5\", \"#B0BEC5\", \"#B0BEC5\", \"#B0BEC5\", \"#B0BEC5\", \"#B0BEC5\", \"#B0BEC5\", \"#B0BEC5\", \"#B0BEC5\", \"#B0BEC5\", \"#B0BEC5\"]]}], \"label\": \"Topic 2\", \"method\": \"update\"}, {\"args\": [{\"marker.color\": [[\"#B0BEC5\", \"#B0BEC5\", \"#B0BEC5\", \"red\", \"#B0BEC5\", \"#B0BEC5\", \"#B0BEC5\", \"#B0BEC5\", \"#B0BEC5\", \"#B0BEC5\", \"#B0BEC5\", \"#B0BEC5\", \"#B0BEC5\", \"#B0BEC5\", \"#B0BEC5\", \"#B0BEC5\", \"#B0BEC5\", \"#B0BEC5\", \"#B0BEC5\", \"#B0BEC5\"]]}], \"label\": \"Topic 3\", \"method\": \"update\"}, {\"args\": [{\"marker.color\": [[\"#B0BEC5\", \"#B0BEC5\", \"#B0BEC5\", \"#B0BEC5\", \"red\", \"#B0BEC5\", \"#B0BEC5\", \"#B0BEC5\", \"#B0BEC5\", \"#B0BEC5\", \"#B0BEC5\", \"#B0BEC5\", \"#B0BEC5\", \"#B0BEC5\", \"#B0BEC5\", \"#B0BEC5\", \"#B0BEC5\", \"#B0BEC5\", \"#B0BEC5\", \"#B0BEC5\"]]}], \"label\": \"Topic 4\", \"method\": \"update\"}, {\"args\": [{\"marker.color\": [[\"#B0BEC5\", \"#B0BEC5\", \"#B0BEC5\", \"#B0BEC5\", \"#B0BEC5\", \"red\", \"#B0BEC5\", \"#B0BEC5\", \"#B0BEC5\", \"#B0BEC5\", \"#B0BEC5\", \"#B0BEC5\", \"#B0BEC5\", \"#B0BEC5\", \"#B0BEC5\", \"#B0BEC5\", \"#B0BEC5\", \"#B0BEC5\", \"#B0BEC5\", \"#B0BEC5\"]]}], \"label\": \"Topic 5\", \"method\": \"update\"}, {\"args\": [{\"marker.color\": [[\"#B0BEC5\", \"#B0BEC5\", \"#B0BEC5\", \"#B0BEC5\", \"#B0BEC5\", \"#B0BEC5\", \"red\", \"#B0BEC5\", \"#B0BEC5\", \"#B0BEC5\", \"#B0BEC5\", \"#B0BEC5\", \"#B0BEC5\", \"#B0BEC5\", \"#B0BEC5\", \"#B0BEC5\", \"#B0BEC5\", \"#B0BEC5\", \"#B0BEC5\", \"#B0BEC5\"]]}], \"label\": \"Topic 6\", \"method\": \"update\"}, {\"args\": [{\"marker.color\": [[\"#B0BEC5\", \"#B0BEC5\", \"#B0BEC5\", \"#B0BEC5\", \"#B0BEC5\", \"#B0BEC5\", \"#B0BEC5\", \"red\", \"#B0BEC5\", \"#B0BEC5\", \"#B0BEC5\", \"#B0BEC5\", \"#B0BEC5\", \"#B0BEC5\", \"#B0BEC5\", \"#B0BEC5\", \"#B0BEC5\", \"#B0BEC5\", \"#B0BEC5\", \"#B0BEC5\"]]}], \"label\": \"Topic 7\", \"method\": \"update\"}, {\"args\": [{\"marker.color\": [[\"#B0BEC5\", \"#B0BEC5\", \"#B0BEC5\", \"#B0BEC5\", \"#B0BEC5\", \"#B0BEC5\", \"#B0BEC5\", \"#B0BEC5\", \"red\", \"#B0BEC5\", \"#B0BEC5\", \"#B0BEC5\", \"#B0BEC5\", \"#B0BEC5\", \"#B0BEC5\", \"#B0BEC5\", \"#B0BEC5\", \"#B0BEC5\", \"#B0BEC5\", \"#B0BEC5\"]]}], \"label\": \"Topic 8\", \"method\": \"update\"}, {\"args\": [{\"marker.color\": [[\"#B0BEC5\", \"#B0BEC5\", \"#B0BEC5\", \"#B0BEC5\", \"#B0BEC5\", \"#B0BEC5\", \"#B0BEC5\", \"#B0BEC5\", \"#B0BEC5\", \"red\", \"#B0BEC5\", \"#B0BEC5\", \"#B0BEC5\", \"#B0BEC5\", \"#B0BEC5\", \"#B0BEC5\", \"#B0BEC5\", \"#B0BEC5\", \"#B0BEC5\", \"#B0BEC5\"]]}], \"label\": \"Topic 9\", \"method\": \"update\"}, {\"args\": [{\"marker.color\": [[\"#B0BEC5\", \"#B0BEC5\", \"#B0BEC5\", \"#B0BEC5\", \"#B0BEC5\", \"#B0BEC5\", \"#B0BEC5\", \"#B0BEC5\", \"#B0BEC5\", \"#B0BEC5\", \"red\", \"#B0BEC5\", \"#B0BEC5\", \"#B0BEC5\", \"#B0BEC5\", \"#B0BEC5\", \"#B0BEC5\", \"#B0BEC5\", \"#B0BEC5\", \"#B0BEC5\"]]}], \"label\": \"Topic 10\", \"method\": \"update\"}, {\"args\": [{\"marker.color\": [[\"#B0BEC5\", \"#B0BEC5\", \"#B0BEC5\", \"#B0BEC5\", \"#B0BEC5\", \"#B0BEC5\", \"#B0BEC5\", \"#B0BEC5\", \"#B0BEC5\", \"#B0BEC5\", \"#B0BEC5\", \"red\", \"#B0BEC5\", \"#B0BEC5\", \"#B0BEC5\", \"#B0BEC5\", \"#B0BEC5\", \"#B0BEC5\", \"#B0BEC5\", \"#B0BEC5\"]]}], \"label\": \"Topic 11\", \"method\": \"update\"}, {\"args\": [{\"marker.color\": [[\"#B0BEC5\", \"#B0BEC5\", \"#B0BEC5\", \"#B0BEC5\", \"#B0BEC5\", \"#B0BEC5\", \"#B0BEC5\", \"#B0BEC5\", \"#B0BEC5\", \"#B0BEC5\", \"#B0BEC5\", \"#B0BEC5\", \"red\", \"#B0BEC5\", \"#B0BEC5\", \"#B0BEC5\", \"#B0BEC5\", \"#B0BEC5\", \"#B0BEC5\", \"#B0BEC5\"]]}], \"label\": \"Topic 12\", \"method\": \"update\"}, {\"args\": [{\"marker.color\": [[\"#B0BEC5\", \"#B0BEC5\", \"#B0BEC5\", \"#B0BEC5\", \"#B0BEC5\", \"#B0BEC5\", \"#B0BEC5\", \"#B0BEC5\", \"#B0BEC5\", \"#B0BEC5\", \"#B0BEC5\", \"#B0BEC5\", \"#B0BEC5\", \"red\", \"#B0BEC5\", \"#B0BEC5\", \"#B0BEC5\", \"#B0BEC5\", \"#B0BEC5\", \"#B0BEC5\"]]}], \"label\": \"Topic 13\", \"method\": \"update\"}, {\"args\": [{\"marker.color\": [[\"#B0BEC5\", \"#B0BEC5\", \"#B0BEC5\", \"#B0BEC5\", \"#B0BEC5\", \"#B0BEC5\", \"#B0BEC5\", \"#B0BEC5\", \"#B0BEC5\", \"#B0BEC5\", \"#B0BEC5\", \"#B0BEC5\", \"#B0BEC5\", \"#B0BEC5\", \"red\", \"#B0BEC5\", \"#B0BEC5\", \"#B0BEC5\", \"#B0BEC5\", \"#B0BEC5\"]]}], \"label\": \"Topic 14\", \"method\": \"update\"}, {\"args\": [{\"marker.color\": [[\"#B0BEC5\", \"#B0BEC5\", \"#B0BEC5\", \"#B0BEC5\", \"#B0BEC5\", \"#B0BEC5\", \"#B0BEC5\", \"#B0BEC5\", \"#B0BEC5\", \"#B0BEC5\", \"#B0BEC5\", \"#B0BEC5\", \"#B0BEC5\", \"#B0BEC5\", \"#B0BEC5\", \"red\", \"#B0BEC5\", \"#B0BEC5\", \"#B0BEC5\", \"#B0BEC5\"]]}], \"label\": \"Topic 15\", \"method\": \"update\"}, {\"args\": [{\"marker.color\": [[\"#B0BEC5\", \"#B0BEC5\", \"#B0BEC5\", \"#B0BEC5\", \"#B0BEC5\", \"#B0BEC5\", \"#B0BEC5\", \"#B0BEC5\", \"#B0BEC5\", \"#B0BEC5\", \"#B0BEC5\", \"#B0BEC5\", \"#B0BEC5\", \"#B0BEC5\", \"#B0BEC5\", \"#B0BEC5\", \"red\", \"#B0BEC5\", \"#B0BEC5\", \"#B0BEC5\"]]}], \"label\": \"Topic 16\", \"method\": \"update\"}, {\"args\": [{\"marker.color\": [[\"#B0BEC5\", \"#B0BEC5\", \"#B0BEC5\", \"#B0BEC5\", \"#B0BEC5\", \"#B0BEC5\", \"#B0BEC5\", \"#B0BEC5\", \"#B0BEC5\", \"#B0BEC5\", \"#B0BEC5\", \"#B0BEC5\", \"#B0BEC5\", \"#B0BEC5\", \"#B0BEC5\", \"#B0BEC5\", \"#B0BEC5\", \"red\", \"#B0BEC5\", \"#B0BEC5\"]]}], \"label\": \"Topic 17\", \"method\": \"update\"}, {\"args\": [{\"marker.color\": [[\"#B0BEC5\", \"#B0BEC5\", \"#B0BEC5\", \"#B0BEC5\", \"#B0BEC5\", \"#B0BEC5\", \"#B0BEC5\", \"#B0BEC5\", \"#B0BEC5\", \"#B0BEC5\", \"#B0BEC5\", \"#B0BEC5\", \"#B0BEC5\", \"#B0BEC5\", \"#B0BEC5\", \"#B0BEC5\", \"#B0BEC5\", \"#B0BEC5\", \"red\", \"#B0BEC5\"]]}], \"label\": \"Topic 18\", \"method\": \"update\"}, {\"args\": [{\"marker.color\": [[\"#B0BEC5\", \"#B0BEC5\", \"#B0BEC5\", \"#B0BEC5\", \"#B0BEC5\", \"#B0BEC5\", \"#B0BEC5\", \"#B0BEC5\", \"#B0BEC5\", \"#B0BEC5\", \"#B0BEC5\", \"#B0BEC5\", \"#B0BEC5\", \"#B0BEC5\", \"#B0BEC5\", \"#B0BEC5\", \"#B0BEC5\", \"#B0BEC5\", \"#B0BEC5\", \"red\"]]}], \"label\": \"Topic 19\", \"method\": \"update\"}]}], \"template\": {\"data\": {\"bar\": [{\"error_x\": {\"color\": \"rgb(36,36,36)\"}, \"error_y\": {\"color\": \"rgb(36,36,36)\"}, \"marker\": {\"line\": {\"color\": \"white\", \"width\": 0.5}}, \"type\": \"bar\"}], \"barpolar\": [{\"marker\": {\"line\": {\"color\": \"white\", \"width\": 0.5}}, \"type\": \"barpolar\"}], \"carpet\": [{\"aaxis\": {\"endlinecolor\": \"rgb(36,36,36)\", \"gridcolor\": \"white\", \"linecolor\": \"white\", \"minorgridcolor\": \"white\", \"startlinecolor\": \"rgb(36,36,36)\"}, \"baxis\": {\"endlinecolor\": \"rgb(36,36,36)\", \"gridcolor\": \"white\", \"linecolor\": \"white\", \"minorgridcolor\": \"white\", \"startlinecolor\": \"rgb(36,36,36)\"}, \"type\": \"carpet\"}], \"choropleth\": [{\"colorbar\": {\"outlinewidth\": 1, \"tickcolor\": \"rgb(36,36,36)\", \"ticks\": \"outside\"}, \"type\": \"choropleth\"}], \"contour\": [{\"colorbar\": {\"outlinewidth\": 1, \"tickcolor\": \"rgb(36,36,36)\", \"ticks\": \"outside\"}, \"colorscale\": [[0.0, \"#440154\"], [0.1111111111111111, \"#482878\"], [0.2222222222222222, \"#3e4989\"], [0.3333333333333333, \"#31688e\"], [0.4444444444444444, \"#26828e\"], [0.5555555555555556, \"#1f9e89\"], [0.6666666666666666, \"#35b779\"], [0.7777777777777778, \"#6ece58\"], [0.8888888888888888, \"#b5de2b\"], [1.0, \"#fde725\"]], \"type\": \"contour\"}], \"contourcarpet\": [{\"colorbar\": {\"outlinewidth\": 1, \"tickcolor\": \"rgb(36,36,36)\", \"ticks\": \"outside\"}, \"type\": \"contourcarpet\"}], \"heatmap\": [{\"colorbar\": {\"outlinewidth\": 1, \"tickcolor\": \"rgb(36,36,36)\", \"ticks\": \"outside\"}, \"colorscale\": [[0.0, \"#440154\"], [0.1111111111111111, \"#482878\"], [0.2222222222222222, \"#3e4989\"], [0.3333333333333333, \"#31688e\"], [0.4444444444444444, \"#26828e\"], [0.5555555555555556, \"#1f9e89\"], [0.6666666666666666, \"#35b779\"], [0.7777777777777778, \"#6ece58\"], [0.8888888888888888, \"#b5de2b\"], [1.0, \"#fde725\"]], \"type\": \"heatmap\"}], \"heatmapgl\": [{\"colorbar\": {\"outlinewidth\": 1, \"tickcolor\": \"rgb(36,36,36)\", \"ticks\": \"outside\"}, \"colorscale\": [[0.0, \"#440154\"], [0.1111111111111111, \"#482878\"], [0.2222222222222222, \"#3e4989\"], [0.3333333333333333, \"#31688e\"], [0.4444444444444444, \"#26828e\"], [0.5555555555555556, \"#1f9e89\"], [0.6666666666666666, \"#35b779\"], [0.7777777777777778, \"#6ece58\"], [0.8888888888888888, \"#b5de2b\"], [1.0, \"#fde725\"]], \"type\": \"heatmapgl\"}], \"histogram\": [{\"marker\": {\"line\": {\"color\": \"white\", \"width\": 0.6}}, \"type\": \"histogram\"}], \"histogram2d\": [{\"colorbar\": {\"outlinewidth\": 1, \"tickcolor\": \"rgb(36,36,36)\", \"ticks\": \"outside\"}, \"colorscale\": [[0.0, \"#440154\"], [0.1111111111111111, \"#482878\"], [0.2222222222222222, \"#3e4989\"], [0.3333333333333333, \"#31688e\"], [0.4444444444444444, \"#26828e\"], [0.5555555555555556, \"#1f9e89\"], [0.6666666666666666, \"#35b779\"], [0.7777777777777778, \"#6ece58\"], [0.8888888888888888, \"#b5de2b\"], [1.0, \"#fde725\"]], \"type\": \"histogram2d\"}], \"histogram2dcontour\": [{\"colorbar\": {\"outlinewidth\": 1, \"tickcolor\": \"rgb(36,36,36)\", \"ticks\": \"outside\"}, \"colorscale\": [[0.0, \"#440154\"], [0.1111111111111111, \"#482878\"], [0.2222222222222222, \"#3e4989\"], [0.3333333333333333, \"#31688e\"], [0.4444444444444444, \"#26828e\"], [0.5555555555555556, \"#1f9e89\"], [0.6666666666666666, \"#35b779\"], [0.7777777777777778, \"#6ece58\"], [0.8888888888888888, \"#b5de2b\"], [1.0, \"#fde725\"]], \"type\": \"histogram2dcontour\"}], \"mesh3d\": [{\"colorbar\": {\"outlinewidth\": 1, \"tickcolor\": \"rgb(36,36,36)\", \"ticks\": \"outside\"}, \"type\": \"mesh3d\"}], \"parcoords\": [{\"line\": {\"colorbar\": {\"outlinewidth\": 1, \"tickcolor\": \"rgb(36,36,36)\", \"ticks\": \"outside\"}}, \"type\": \"parcoords\"}], \"pie\": [{\"automargin\": true, \"type\": \"pie\"}], \"scatter\": [{\"marker\": {\"colorbar\": {\"outlinewidth\": 1, \"tickcolor\": \"rgb(36,36,36)\", \"ticks\": \"outside\"}}, \"type\": \"scatter\"}], \"scatter3d\": [{\"line\": {\"colorbar\": {\"outlinewidth\": 1, \"tickcolor\": \"rgb(36,36,36)\", \"ticks\": \"outside\"}}, \"marker\": {\"colorbar\": {\"outlinewidth\": 1, \"tickcolor\": \"rgb(36,36,36)\", \"ticks\": \"outside\"}}, \"type\": \"scatter3d\"}], \"scattercarpet\": [{\"marker\": {\"colorbar\": {\"outlinewidth\": 1, \"tickcolor\": \"rgb(36,36,36)\", \"ticks\": \"outside\"}}, \"type\": \"scattercarpet\"}], \"scattergeo\": [{\"marker\": {\"colorbar\": {\"outlinewidth\": 1, \"tickcolor\": \"rgb(36,36,36)\", \"ticks\": \"outside\"}}, \"type\": \"scattergeo\"}], \"scattergl\": [{\"marker\": {\"colorbar\": {\"outlinewidth\": 1, \"tickcolor\": \"rgb(36,36,36)\", \"ticks\": \"outside\"}}, \"type\": \"scattergl\"}], \"scattermapbox\": [{\"marker\": {\"colorbar\": {\"outlinewidth\": 1, \"tickcolor\": \"rgb(36,36,36)\", \"ticks\": \"outside\"}}, \"type\": \"scattermapbox\"}], \"scatterpolar\": [{\"marker\": {\"colorbar\": {\"outlinewidth\": 1, \"tickcolor\": \"rgb(36,36,36)\", \"ticks\": \"outside\"}}, \"type\": \"scatterpolar\"}], \"scatterpolargl\": [{\"marker\": {\"colorbar\": {\"outlinewidth\": 1, \"tickcolor\": \"rgb(36,36,36)\", \"ticks\": \"outside\"}}, \"type\": \"scatterpolargl\"}], \"scatterternary\": [{\"marker\": {\"colorbar\": {\"outlinewidth\": 1, \"tickcolor\": \"rgb(36,36,36)\", \"ticks\": \"outside\"}}, \"type\": \"scatterternary\"}], \"surface\": [{\"colorbar\": {\"outlinewidth\": 1, \"tickcolor\": \"rgb(36,36,36)\", \"ticks\": \"outside\"}, \"colorscale\": [[0.0, \"#440154\"], [0.1111111111111111, \"#482878\"], [0.2222222222222222, \"#3e4989\"], [0.3333333333333333, \"#31688e\"], [0.4444444444444444, \"#26828e\"], [0.5555555555555556, \"#1f9e89\"], [0.6666666666666666, \"#35b779\"], [0.7777777777777778, \"#6ece58\"], [0.8888888888888888, \"#b5de2b\"], [1.0, \"#fde725\"]], \"type\": \"surface\"}], \"table\": [{\"cells\": {\"fill\": {\"color\": \"rgb(237,237,237)\"}, \"line\": {\"color\": \"white\"}}, \"header\": {\"fill\": {\"color\": \"rgb(217,217,217)\"}, \"line\": {\"color\": \"white\"}}, \"type\": \"table\"}]}, \"layout\": {\"annotationdefaults\": {\"arrowhead\": 0, \"arrowwidth\": 1}, \"autotypenumbers\": \"strict\", \"coloraxis\": {\"colorbar\": {\"outlinewidth\": 1, \"tickcolor\": \"rgb(36,36,36)\", \"ticks\": \"outside\"}}, \"colorscale\": {\"diverging\": [[0.0, \"rgb(103,0,31)\"], [0.1, \"rgb(178,24,43)\"], [0.2, \"rgb(214,96,77)\"], [0.3, \"rgb(244,165,130)\"], [0.4, \"rgb(253,219,199)\"], [0.5, \"rgb(247,247,247)\"], [0.6, \"rgb(209,229,240)\"], [0.7, \"rgb(146,197,222)\"], [0.8, \"rgb(67,147,195)\"], [0.9, \"rgb(33,102,172)\"], [1.0, \"rgb(5,48,97)\"]], \"sequential\": [[0.0, \"#440154\"], [0.1111111111111111, \"#482878\"], [0.2222222222222222, \"#3e4989\"], [0.3333333333333333, \"#31688e\"], [0.4444444444444444, \"#26828e\"], [0.5555555555555556, \"#1f9e89\"], [0.6666666666666666, \"#35b779\"], [0.7777777777777778, \"#6ece58\"], [0.8888888888888888, \"#b5de2b\"], [1.0, \"#fde725\"]], \"sequentialminus\": [[0.0, \"#440154\"], [0.1111111111111111, \"#482878\"], [0.2222222222222222, \"#3e4989\"], [0.3333333333333333, \"#31688e\"], [0.4444444444444444, \"#26828e\"], [0.5555555555555556, \"#1f9e89\"], [0.6666666666666666, \"#35b779\"], [0.7777777777777778, \"#6ece58\"], [0.8888888888888888, \"#b5de2b\"], [1.0, \"#fde725\"]]}, \"colorway\": [\"#1F77B4\", \"#FF7F0E\", \"#2CA02C\", \"#D62728\", \"#9467BD\", \"#8C564B\", \"#E377C2\", \"#7F7F7F\", \"#BCBD22\", \"#17BECF\"], \"font\": {\"color\": \"rgb(36,36,36)\"}, \"geo\": {\"bgcolor\": \"white\", \"lakecolor\": \"white\", \"landcolor\": \"white\", \"showlakes\": true, \"showland\": true, \"subunitcolor\": \"white\"}, \"hoverlabel\": {\"align\": \"left\"}, \"hovermode\": \"closest\", \"mapbox\": {\"style\": \"light\"}, \"paper_bgcolor\": \"white\", \"plot_bgcolor\": \"white\", \"polar\": {\"angularaxis\": {\"gridcolor\": \"rgb(232,232,232)\", \"linecolor\": \"rgb(36,36,36)\", \"showgrid\": false, \"showline\": true, \"ticks\": \"outside\"}, \"bgcolor\": \"white\", \"radialaxis\": {\"gridcolor\": \"rgb(232,232,232)\", \"linecolor\": \"rgb(36,36,36)\", \"showgrid\": false, \"showline\": true, \"ticks\": \"outside\"}}, \"scene\": {\"xaxis\": {\"backgroundcolor\": \"white\", \"gridcolor\": \"rgb(232,232,232)\", \"gridwidth\": 2, \"linecolor\": \"rgb(36,36,36)\", \"showbackground\": true, \"showgrid\": false, \"showline\": true, \"ticks\": \"outside\", \"zeroline\": false, \"zerolinecolor\": \"rgb(36,36,36)\"}, \"yaxis\": {\"backgroundcolor\": \"white\", \"gridcolor\": \"rgb(232,232,232)\", \"gridwidth\": 2, \"linecolor\": \"rgb(36,36,36)\", \"showbackground\": true, \"showgrid\": false, \"showline\": true, \"ticks\": \"outside\", \"zeroline\": false, \"zerolinecolor\": \"rgb(36,36,36)\"}, \"zaxis\": {\"backgroundcolor\": \"white\", \"gridcolor\": \"rgb(232,232,232)\", \"gridwidth\": 2, \"linecolor\": \"rgb(36,36,36)\", \"showbackground\": true, \"showgrid\": false, \"showline\": true, \"ticks\": \"outside\", \"zeroline\": false, \"zerolinecolor\": \"rgb(36,36,36)\"}}, \"shapedefaults\": {\"fillcolor\": \"black\", \"line\": {\"width\": 0}, \"opacity\": 0.3}, \"ternary\": {\"aaxis\": {\"gridcolor\": \"rgb(232,232,232)\", \"linecolor\": \"rgb(36,36,36)\", \"showgrid\": false, \"showline\": true, \"ticks\": \"outside\"}, \"baxis\": {\"gridcolor\": \"rgb(232,232,232)\", \"linecolor\": \"rgb(36,36,36)\", \"showgrid\": false, \"showline\": true, \"ticks\": \"outside\"}, \"bgcolor\": \"white\", \"caxis\": {\"gridcolor\": \"rgb(232,232,232)\", \"linecolor\": \"rgb(36,36,36)\", \"showgrid\": false, \"showline\": true, \"ticks\": \"outside\"}}, \"title\": {\"x\": 0.05}, \"xaxis\": {\"automargin\": true, \"gridcolor\": \"rgb(232,232,232)\", \"linecolor\": \"rgb(36,36,36)\", \"showgrid\": false, \"showline\": true, \"ticks\": \"outside\", \"title\": {\"standoff\": 15}, \"zeroline\": false, \"zerolinecolor\": \"rgb(36,36,36)\"}, \"yaxis\": {\"automargin\": true, \"gridcolor\": \"rgb(232,232,232)\", \"linecolor\": \"rgb(36,36,36)\", \"showgrid\": false, \"showline\": true, \"ticks\": \"outside\", \"title\": {\"standoff\": 15}, \"zeroline\": false, \"zerolinecolor\": \"rgb(36,36,36)\"}}}, \"title\": {\"font\": {\"color\": \"Black\", \"size\": 22}, \"text\": \"<b>Intertopic Distance Map\", \"x\": 0.5, \"xanchor\": \"center\", \"y\": 0.95, \"yanchor\": \"top\"}, \"width\": 650, \"xaxis\": {\"anchor\": \"y\", \"domain\": [0.0, 1.0], \"range\": [-10.129226970672608, 16.630618810653687], \"title\": {\"text\": \"\"}, \"visible\": false}, \"yaxis\": {\"anchor\": \"x\", \"domain\": [0.0, 1.0], \"range\": [-2.0676795482635497, 10.630542373657226], \"title\": {\"text\": \"\"}, \"visible\": false}},                        {\"responsive\": true}                    ).then(function(){\n",
       "                            \n",
       "var gd = document.getElementById('fc9fe39f-e9ac-4238-9e9a-ba913ca23ef7');\n",
       "var x = new MutationObserver(function (mutations, observer) {{\n",
       "        var display = window.getComputedStyle(gd).display;\n",
       "        if (!display || display === 'none') {{\n",
       "            console.log([gd, 'removed!']);\n",
       "            Plotly.purge(gd);\n",
       "            observer.disconnect();\n",
       "        }}\n",
       "}});\n",
       "\n",
       "// Listen for the removal of the full notebook cells\n",
       "var notebookContainer = gd.closest('#notebook-container');\n",
       "if (notebookContainer) {{\n",
       "    x.observe(notebookContainer, {childList: true});\n",
       "}}\n",
       "\n",
       "// Listen for the clearing of the current output cell\n",
       "var outputEl = gd.closest('.output');\n",
       "if (outputEl) {{\n",
       "    x.observe(outputEl, {childList: true});\n",
       "}}\n",
       "\n",
       "                        })                };                });            </script>        </div>"
      ]
     },
     "metadata": {},
     "output_type": "display_data"
    }
   ],
   "source": [
    "my_model.visualize_topics()"
   ]
  },
  {
   "cell_type": "code",
   "execution_count": 52,
   "id": "finnish-kitchen",
   "metadata": {},
   "outputs": [
    {
     "data": {
      "application/vnd.jupyter.widget-view+json": {
       "model_id": "a26cb68fc25e4cc191ac09ea786c9b0d",
       "version_major": 2,
       "version_minor": 0
      },
      "text/plain": [
       "Batches:   0%|          | 0/338 [00:00<?, ?it/s]"
      ]
     },
     "metadata": {},
     "output_type": "display_data"
    },
    {
     "name": "stderr",
     "output_type": "stream",
     "text": [
      "2021-08-04 01:54:35,182 - BERTopic - Transformed documents to Embeddings\n",
      "2021-08-04 01:54:43,927 - BERTopic - Reduced dimensionality with UMAP\n",
      "2021-08-04 01:54:44,374 - BERTopic - Clustered UMAP embeddings with HDBSCAN\n",
      "2021-08-04 01:54:54,003 - BERTopic - Reduced number of topics from 88 to 21\n"
     ]
    },
    {
     "name": "stdout",
     "output_type": "stream",
     "text": [
      "Wall time: 1min 50s\n"
     ]
    }
   ],
   "source": [
    "%%time\n",
    "topics, _ = my_model.fit_transform(reviews)"
   ]
  },
  {
   "cell_type": "code",
   "execution_count": 56,
   "id": "prerequisite-journal",
   "metadata": {},
   "outputs": [
    {
     "data": {
      "text/plain": [
       "['2020-12-06 19:38:13',\n",
       " '2020-12-11 14:06:15',\n",
       " '2020-12-07 13:59:18',\n",
       " '2020-12-13 18:19:06',\n",
       " '2020-12-05 15:08:10',\n",
       " '2020-12-16 11:53:35',\n",
       " '2020-12-03 15:19:45',\n",
       " '2020-12-09 15:58:28',\n",
       " '2020-12-12 21:21:26',\n",
       " '2020-12-16 12:37:43',\n",
       " '2020-12-18 00:57:43',\n",
       " '2020-12-14 22:39:52',\n",
       " '2020-12-12 08:07:55',\n",
       " '2020-12-11 13:17:05',\n",
       " '2020-12-17 18:15:21',\n",
       " '2020-12-07 13:02:44',\n",
       " '2020-12-07 20:21:56',\n",
       " '2020-12-16 20:14:04',\n",
       " '2020-12-08 15:33:42',\n",
       " '2020-12-10 03:01:47',\n",
       " '2020-12-10 07:55:31',\n",
       " '2020-12-16 12:45:52',\n",
       " '2020-12-03 09:07:33',\n",
       " '2020-12-03 18:43:06',\n",
       " '2020-12-04 11:35:01',\n",
       " '2020-12-13 20:38:49',\n",
       " '2020-12-05 17:22:47',\n",
       " '2020-12-03 09:34:47',\n",
       " '2020-12-12 17:03:57',\n",
       " '2020-12-16 16:21:49',\n",
       " '2020-12-15 14:40:25',\n",
       " '2020-12-08 11:37:28',\n",
       " '2020-12-04 13:01:35',\n",
       " '2020-12-06 14:24:32',\n",
       " '2020-12-04 08:18:45',\n",
       " '2020-12-18 12:00:37',\n",
       " '2020-12-15 06:42:38',\n",
       " '2020-12-18 12:39:38',\n",
       " '2020-11-28 16:37:18',\n",
       " '2020-12-09 14:46:33',\n",
       " '2020-12-16 01:06:55',\n",
       " '2020-12-16 18:23:56',\n",
       " '2020-11-06 16:01:55',\n",
       " '2020-12-03 23:14:36',\n",
       " '2020-11-24 18:52:04',\n",
       " '2020-12-05 14:54:38',\n",
       " '2020-11-21 06:00:03',\n",
       " '2020-10-13 13:30:14',\n",
       " '2020-10-21 17:05:41',\n",
       " '2020-12-20 12:22:37',\n",
       " '2020-11-24 08:03:22',\n",
       " '2020-12-13 19:16:01',\n",
       " '2020-12-20 10:01:47',\n",
       " '2020-11-26 10:00:12',\n",
       " '2020-10-14 15:21:19',\n",
       " '2020-12-05 19:23:17',\n",
       " '2020-11-26 09:23:33',\n",
       " '2020-12-04 16:34:46',\n",
       " '2020-12-01 16:10:50',\n",
       " '2020-12-10 16:40:37',\n",
       " '2020-12-04 17:13:21',\n",
       " '2020-10-05 03:56:54',\n",
       " '2020-11-06 23:37:32',\n",
       " '2020-11-14 13:20:10',\n",
       " '2020-11-24 08:41:37',\n",
       " '2020-12-19 16:17:37',\n",
       " '2020-11-05 07:39:22',\n",
       " '2020-12-14 12:38:33',\n",
       " '2020-12-07 12:08:00',\n",
       " '2020-11-20 09:11:59',\n",
       " '2020-11-27 21:02:33',\n",
       " '2020-11-24 15:57:09',\n",
       " '2020-11-11 20:49:50',\n",
       " '2020-12-05 14:04:02',\n",
       " '2020-10-25 11:09:11',\n",
       " '2020-11-04 08:40:19',\n",
       " '2020-12-01 01:42:10',\n",
       " '2020-12-01 08:38:24',\n",
       " '2020-11-18 20:40:00',\n",
       " '2020-12-15 10:59:19',\n",
       " '2020-11-03 17:39:49',\n",
       " '2020-10-01 14:39:58',\n",
       " '2020-11-05 06:21:47',\n",
       " '2020-12-09 15:44:29',\n",
       " '2020-10-03 17:25:56',\n",
       " '2020-11-23 15:57:04',\n",
       " '2020-12-13 08:47:32',\n",
       " '2020-11-13 06:00:07',\n",
       " '2020-12-19 17:01:38',\n",
       " '2020-12-11 14:06:08',\n",
       " '2020-12-05 06:12:26',\n",
       " '2020-11-27 09:10:21',\n",
       " '2020-11-28 22:52:04',\n",
       " '2020-10-11 16:01:42',\n",
       " '2020-11-27 19:49:37',\n",
       " '2020-11-24 20:07:03',\n",
       " '2020-11-30 11:43:19',\n",
       " '2020-12-09 12:19:50',\n",
       " '2020-11-26 13:18:39',\n",
       " '2020-12-03 21:03:37',\n",
       " '2020-12-19 09:26:45',\n",
       " '2020-12-05 13:32:53',\n",
       " '2020-10-03 18:50:06',\n",
       " '2020-11-19 08:10:02',\n",
       " '2020-11-11 12:07:30',\n",
       " '2020-10-09 11:26:01',\n",
       " '2020-10-20 19:47:50',\n",
       " '2020-10-27 19:46:56',\n",
       " '2020-12-10 19:40:12',\n",
       " '2020-12-03 07:39:12',\n",
       " '2020-12-07 17:50:18',\n",
       " '2020-12-19 15:11:56',\n",
       " '2020-11-26 20:22:38',\n",
       " '2020-11-05 15:54:36',\n",
       " '2020-10-31 18:53:23',\n",
       " '2020-11-16 08:03:31',\n",
       " '2020-11-02 20:33:30',\n",
       " '2020-11-28 03:16:13',\n",
       " '2020-12-20 11:11:48',\n",
       " '2020-12-10 18:07:28',\n",
       " '2020-11-25 08:17:45',\n",
       " '2020-10-09 05:19:41',\n",
       " '2020-11-08 16:41:59',\n",
       " '2020-11-03 10:46:27',\n",
       " '2020-10-07 12:44:31',\n",
       " '2020-10-02 22:38:54',\n",
       " '2020-11-30 20:58:06',\n",
       " '2020-11-05 09:45:22',\n",
       " '2020-12-11 15:29:44',\n",
       " '2020-10-09 09:44:25',\n",
       " '2020-11-20 08:54:29',\n",
       " '2020-10-18 12:22:40',\n",
       " '2020-11-27 11:16:01',\n",
       " '2020-10-06 08:45:02',\n",
       " '2020-10-30 13:41:53',\n",
       " '2020-10-30 11:47:40',\n",
       " '2020-10-26 23:52:53',\n",
       " '2020-11-11 02:26:37',\n",
       " '2020-11-01 20:00:09',\n",
       " '2020-10-08 20:45:22',\n",
       " '2020-10-09 10:22:26',\n",
       " '2020-10-18 08:00:49',\n",
       " '2020-10-26 06:39:25',\n",
       " '2020-12-16 05:19:42',\n",
       " '2020-12-16 11:07:00',\n",
       " '2020-12-12 10:48:44',\n",
       " '2020-12-11 18:48:30',\n",
       " '2020-10-21 13:53:44',\n",
       " '2020-11-28 18:24:24',\n",
       " '2020-11-20 13:59:56',\n",
       " '2020-10-07 18:47:40',\n",
       " '2020-11-08 02:21:32',\n",
       " '2020-10-08 14:23:48',\n",
       " '2020-11-16 11:20:28',\n",
       " '2020-10-08 09:18:54',\n",
       " '2020-10-10 08:57:14',\n",
       " '2020-10-04 00:32:42',\n",
       " '2020-11-21 23:10:09',\n",
       " '2020-10-02 19:12:19',\n",
       " '2020-10-09 11:20:18',\n",
       " '2020-10-02 06:01:30',\n",
       " '2020-12-07 20:47:20',\n",
       " '2020-11-23 11:50:43',\n",
       " '2020-12-17 10:01:04',\n",
       " '2020-12-05 07:03:46',\n",
       " '2020-11-02 21:46:32',\n",
       " '2020-11-08 09:01:31',\n",
       " '2020-11-14 21:50:44',\n",
       " '2020-11-10 02:00:53',\n",
       " '2020-11-29 19:23:57',\n",
       " '2020-10-07 14:35:53',\n",
       " '2020-12-06 22:00:10',\n",
       " '2020-11-29 01:08:12',\n",
       " '2020-10-11 15:41:24',\n",
       " '2020-12-10 19:40:03',\n",
       " '2020-12-09 12:31:24',\n",
       " '2020-10-09 05:59:56',\n",
       " '2020-12-17 13:08:05',\n",
       " '2020-11-19 10:03:02',\n",
       " '2020-10-21 11:24:20',\n",
       " '2020-10-09 22:53:25',\n",
       " '2020-11-24 12:54:35',\n",
       " '2020-12-16 00:20:33',\n",
       " '2020-11-19 07:47:31',\n",
       " '2020-11-29 11:52:23',\n",
       " '2020-12-15 13:07:34',\n",
       " '2020-11-08 18:02:50',\n",
       " '2020-12-01 18:28:33',\n",
       " '2020-11-26 00:20:54',\n",
       " '2020-12-03 13:56:39',\n",
       " '2020-12-07 15:17:21',\n",
       " '2020-12-05 14:29:44',\n",
       " '2020-10-30 06:30:15',\n",
       " '2020-11-08 07:32:25',\n",
       " '2020-11-02 19:58:29',\n",
       " '2020-11-25 11:09:40',\n",
       " '2020-11-20 21:55:53',\n",
       " '2020-10-19 17:45:40',\n",
       " '2020-10-02 21:11:31',\n",
       " '2020-10-07 13:54:20',\n",
       " '2020-10-23 20:44:26',\n",
       " '2020-11-20 10:02:56',\n",
       " '2020-10-19 19:04:48',\n",
       " '2020-11-29 13:28:53',\n",
       " '2020-12-12 22:53:07',\n",
       " '2020-12-01 11:28:43',\n",
       " '2020-10-12 17:12:42',\n",
       " '2020-10-11 10:28:50',\n",
       " '2020-11-13 23:15:31',\n",
       " '2020-11-25 19:05:23',\n",
       " '2020-10-27 07:30:06',\n",
       " '2020-11-26 10:31:50',\n",
       " '2020-12-08 11:47:16',\n",
       " '2020-12-02 18:22:07',\n",
       " '2020-11-29 13:07:13',\n",
       " '2020-11-16 14:42:31',\n",
       " '2020-10-22 23:58:23',\n",
       " '2020-11-20 09:40:00',\n",
       " '2020-11-13 14:45:09',\n",
       " '2020-10-12 14:08:31',\n",
       " '2020-11-30 13:22:51',\n",
       " '2020-10-31 19:50:10',\n",
       " '2020-10-30 19:59:03',\n",
       " '2020-11-20 06:29:20',\n",
       " '2020-10-26 13:09:53',\n",
       " '2020-10-19 18:07:38',\n",
       " '2020-12-08 09:24:34',\n",
       " '2020-11-22 13:51:56',\n",
       " '2020-12-17 19:23:16',\n",
       " '2020-10-29 15:44:43',\n",
       " '2020-11-30 22:16:14',\n",
       " '2020-10-29 16:46:10',\n",
       " '2020-12-01 16:21:54',\n",
       " '2020-12-07 13:27:21',\n",
       " '2020-10-30 17:54:39',\n",
       " '2020-12-10 09:25:08',\n",
       " '2020-12-17 16:35:06',\n",
       " '2020-11-27 10:22:00',\n",
       " '2020-10-19 08:40:21',\n",
       " '2020-11-16 03:30:02',\n",
       " '2020-12-17 14:45:00',\n",
       " '2020-11-25 03:24:39',\n",
       " '2020-11-18 15:11:36',\n",
       " '2020-10-12 11:19:47',\n",
       " '2020-11-27 18:08:17',\n",
       " '2020-11-02 10:55:18',\n",
       " '2020-10-07 14:59:33',\n",
       " '2020-11-22 08:29:39',\n",
       " '2020-10-17 12:38:02',\n",
       " '2020-12-18 13:09:35',\n",
       " '2020-11-12 17:03:46',\n",
       " '2020-10-22 00:23:30',\n",
       " '2020-11-12 16:13:56',\n",
       " '2020-10-08 19:22:58',\n",
       " '2020-11-03 12:04:35',\n",
       " '2020-12-15 07:22:13',\n",
       " '2020-10-05 11:09:08',\n",
       " '2020-11-12 17:03:04',\n",
       " '2020-10-29 07:17:59',\n",
       " '2020-11-01 22:19:16',\n",
       " '2020-10-30 16:46:21',\n",
       " '2020-10-11 10:42:59',\n",
       " '2020-11-07 18:36:45',\n",
       " '2020-11-16 11:47:27',\n",
       " '2020-10-10 19:47:16',\n",
       " '2020-11-08 15:52:51',\n",
       " '2020-12-09 08:30:49',\n",
       " '2020-12-17 16:23:21',\n",
       " '2020-11-19 06:56:05',\n",
       " '2020-11-29 13:18:49',\n",
       " '2020-11-10 17:54:59',\n",
       " '2020-10-09 10:33:41',\n",
       " '2020-10-22 15:33:41',\n",
       " '2020-10-18 16:29:45',\n",
       " '2020-11-19 07:53:55',\n",
       " '2020-11-15 11:58:21',\n",
       " '2020-10-11 22:18:29',\n",
       " '2020-12-16 13:32:43',\n",
       " '2020-11-04 17:15:13',\n",
       " '2020-12-17 08:46:37',\n",
       " '2020-11-12 16:17:07',\n",
       " '2020-11-12 16:57:28',\n",
       " '2020-10-22 17:19:15',\n",
       " '2020-11-08 08:16:32',\n",
       " '2020-10-29 14:39:11',\n",
       " '2020-11-02 10:17:09',\n",
       " '2020-10-23 14:12:46',\n",
       " '2020-11-24 18:34:39',\n",
       " '2020-11-08 20:22:42',\n",
       " '2020-12-18 15:17:47',\n",
       " '2020-10-14 15:36:07',\n",
       " '2020-10-28 20:44:30',\n",
       " '2020-11-15 02:18:18',\n",
       " '2020-10-10 11:56:35',\n",
       " '2020-10-16 18:05:04',\n",
       " '2020-11-25 19:37:11',\n",
       " '2020-11-25 18:22:08',\n",
       " '2020-10-21 09:38:23',\n",
       " '2020-10-30 13:50:57',\n",
       " '2020-11-28 19:23:39',\n",
       " '2020-11-27 06:18:30',\n",
       " '2020-11-22 13:06:36',\n",
       " '2020-12-02 20:28:46',\n",
       " '2020-10-06 13:30:30',\n",
       " '2020-11-28 21:03:41',\n",
       " '2020-11-26 19:15:59',\n",
       " '2020-11-20 23:37:43',\n",
       " '2020-10-15 17:28:11',\n",
       " '2020-10-08 23:53:41',\n",
       " '2020-12-03 11:07:43',\n",
       " '2020-10-16 17:45:07',\n",
       " '2020-10-15 17:14:32',\n",
       " '2020-11-04 09:32:18',\n",
       " '2020-12-04 14:03:13',\n",
       " '2020-11-05 08:33:19',\n",
       " '2020-11-26 18:18:11',\n",
       " '2020-10-24 14:32:10',\n",
       " '2020-10-14 06:45:28',\n",
       " '2020-10-26 10:51:51',\n",
       " '2020-11-05 03:33:37',\n",
       " '2020-11-30 10:40:02',\n",
       " '2020-11-02 04:42:30',\n",
       " '2020-10-27 10:07:49',\n",
       " '2020-10-13 16:02:29',\n",
       " '2020-10-10 17:40:51',\n",
       " '2020-11-14 12:13:12',\n",
       " '2020-10-16 13:35:23',\n",
       " '2020-10-31 15:40:25',\n",
       " '2020-11-20 00:01:37',\n",
       " '2020-12-01 18:05:22',\n",
       " '2020-10-19 13:28:06',\n",
       " '2020-10-01 23:14:20',\n",
       " '2020-10-31 20:25:25',\n",
       " '2020-10-07 09:45:33',\n",
       " '2020-11-18 18:40:36',\n",
       " '2020-12-05 16:49:03',\n",
       " '2020-10-24 06:07:39',\n",
       " '2020-11-06 13:18:20',\n",
       " '2020-10-11 13:20:28',\n",
       " '2020-10-20 16:38:40',\n",
       " '2020-12-16 15:14:41',\n",
       " '2020-12-10 17:55:47',\n",
       " '2020-11-20 14:05:32',\n",
       " '2020-10-01 09:11:00',\n",
       " '2020-11-03 21:22:50',\n",
       " '2020-10-13 09:01:00',\n",
       " '2020-11-05 09:35:13',\n",
       " '2020-10-15 17:59:20',\n",
       " '2020-10-12 14:12:02',\n",
       " '2020-11-26 09:12:02',\n",
       " '2020-10-21 12:04:02',\n",
       " '2020-10-18 13:50:35',\n",
       " '2020-11-20 09:31:12',\n",
       " '2020-10-07 20:25:29',\n",
       " '2020-10-12 09:11:02',\n",
       " '2020-10-24 23:01:51',\n",
       " '2020-12-17 13:12:03',\n",
       " '2020-10-26 09:02:20',\n",
       " '2020-12-18 16:13:19',\n",
       " '2020-10-16 19:33:08',\n",
       " '2020-12-05 14:53:42',\n",
       " '2020-11-07 11:26:19',\n",
       " '2020-12-01 05:07:28',\n",
       " '2020-10-16 16:39:19',\n",
       " '2020-12-14 16:33:59',\n",
       " '2020-10-12 08:28:23',\n",
       " '2020-12-01 13:59:20',\n",
       " '2020-12-16 22:37:01',\n",
       " '2020-10-09 23:12:02',\n",
       " '2020-11-14 11:14:46',\n",
       " '2020-10-17 18:07:45',\n",
       " '2020-10-25 16:41:22',\n",
       " '2020-12-11 13:03:33',\n",
       " '2020-12-13 09:19:20',\n",
       " '2020-12-04 05:00:56',\n",
       " '2020-12-10 09:03:05',\n",
       " '2020-12-10 16:21:16',\n",
       " '2020-12-06 18:32:29',\n",
       " '2020-11-12 11:19:00',\n",
       " '2020-10-17 12:04:52',\n",
       " '2020-12-19 00:53:32',\n",
       " '2020-11-13 10:27:41',\n",
       " '2020-11-14 15:34:34',\n",
       " '2020-11-04 08:08:55',\n",
       " '2020-11-12 05:44:24',\n",
       " '2020-12-12 21:14:30',\n",
       " '2020-10-23 22:21:11',\n",
       " '2020-10-25 17:24:15',\n",
       " '2020-11-18 09:21:14',\n",
       " '2020-10-18 10:35:58',\n",
       " '2020-11-28 16:13:12',\n",
       " '2020-12-15 20:55:53',\n",
       " '2020-10-03 21:29:31',\n",
       " '2020-10-30 14:30:31',\n",
       " '2020-10-14 17:33:33',\n",
       " '2020-10-13 12:43:12',\n",
       " '2020-11-26 13:27:40',\n",
       " '2020-11-03 05:40:01',\n",
       " '2020-11-18 11:44:44',\n",
       " '2020-10-16 08:33:38',\n",
       " '2020-11-17 18:35:44',\n",
       " '2020-11-23 14:16:26',\n",
       " '2020-10-12 01:30:56',\n",
       " '2020-12-03 15:26:35',\n",
       " '2020-11-14 14:25:06',\n",
       " '2020-11-12 17:49:14',\n",
       " '2020-12-06 09:36:39',\n",
       " '2020-10-25 23:35:32',\n",
       " '2020-12-16 13:15:08',\n",
       " '2020-10-26 09:07:52',\n",
       " '2020-12-02 10:02:56',\n",
       " '2020-10-06 16:57:59',\n",
       " '2020-11-08 22:26:21',\n",
       " '2020-10-23 20:37:53',\n",
       " '2020-11-06 11:07:58',\n",
       " '2020-11-13 11:11:23',\n",
       " '2020-11-03 11:21:19',\n",
       " '2020-11-28 11:33:20',\n",
       " '2020-11-28 18:13:44',\n",
       " '2020-11-26 07:52:13',\n",
       " '2020-11-18 17:14:13',\n",
       " '2020-10-19 08:55:50',\n",
       " '2020-10-31 13:42:45',\n",
       " '2020-12-11 18:50:39',\n",
       " '2020-11-24 22:09:01',\n",
       " '2020-12-10 07:47:25',\n",
       " '2020-11-06 10:11:25',\n",
       " '2020-10-22 13:27:45',\n",
       " '2020-12-05 17:35:40',\n",
       " '2020-10-25 20:52:39',\n",
       " '2020-10-04 12:38:10',\n",
       " '2020-10-07 17:26:01',\n",
       " '2020-11-30 08:06:00',\n",
       " '2020-10-07 17:56:25',\n",
       " '2020-10-29 12:31:27',\n",
       " '2020-11-13 13:34:55',\n",
       " '2020-10-07 13:23:53',\n",
       " '2020-11-24 17:23:16',\n",
       " '2020-11-04 06:25:28',\n",
       " '2020-12-04 06:19:43',\n",
       " '2020-11-15 09:49:55',\n",
       " '2020-12-01 14:07:30',\n",
       " '2020-11-17 12:21:41',\n",
       " '2020-10-28 12:25:08',\n",
       " '2020-11-13 11:40:56',\n",
       " '2020-11-26 10:49:33',\n",
       " '2020-11-04 10:16:53',\n",
       " '2020-10-31 15:14:57',\n",
       " '2020-11-05 11:39:33',\n",
       " '2020-11-23 07:25:58',\n",
       " '2020-12-19 16:50:34',\n",
       " '2020-11-15 14:51:21',\n",
       " '2020-11-08 16:59:32',\n",
       " '2020-11-01 20:08:24',\n",
       " '2020-11-03 20:18:15',\n",
       " '2020-10-11 14:57:35',\n",
       " '2020-11-26 12:05:46',\n",
       " '2020-10-14 04:21:29',\n",
       " '2020-11-20 07:06:18',\n",
       " '2020-11-04 16:04:19',\n",
       " '2020-12-08 09:25:18',\n",
       " '2020-11-22 12:52:17',\n",
       " '2020-11-24 13:38:56',\n",
       " '2020-10-04 21:10:39',\n",
       " '2020-12-13 14:52:04',\n",
       " '2020-11-23 06:14:06',\n",
       " '2020-12-18 11:42:03',\n",
       " '2020-11-20 00:22:18',\n",
       " '2020-12-19 17:17:45',\n",
       " '2020-11-22 10:04:07',\n",
       " '2020-10-25 09:06:01',\n",
       " '2020-11-10 10:37:59',\n",
       " '2020-10-06 17:13:01',\n",
       " '2020-10-19 13:53:03',\n",
       " '2020-10-19 08:16:20',\n",
       " '2020-11-23 10:17:26',\n",
       " '2020-11-06 15:52:58',\n",
       " '2020-11-02 09:03:43',\n",
       " '2020-11-03 15:20:33',\n",
       " '2020-12-02 17:39:23',\n",
       " '2020-10-29 08:17:41',\n",
       " '2020-11-08 18:01:07',\n",
       " '2020-10-09 12:14:41',\n",
       " '2020-11-25 09:30:58',\n",
       " '2020-10-26 10:33:04',\n",
       " '2020-11-01 13:11:20',\n",
       " '2020-12-07 14:20:38',\n",
       " '2020-11-29 01:54:41',\n",
       " '2020-12-19 22:47:04',\n",
       " '2020-12-07 11:20:10',\n",
       " '2020-11-17 08:02:18',\n",
       " '2020-11-07 18:09:16',\n",
       " '2020-11-07 22:09:56',\n",
       " '2020-11-09 12:16:38',\n",
       " '2020-10-18 01:27:34',\n",
       " '2020-12-04 08:03:43',\n",
       " '2020-12-10 15:08:25',\n",
       " '2020-10-30 12:58:00',\n",
       " '2020-10-20 13:53:18',\n",
       " '2020-10-21 22:24:47',\n",
       " '2020-12-09 16:07:56',\n",
       " '2020-11-07 07:10:45',\n",
       " '2020-10-08 13:34:19',\n",
       " '2020-11-06 06:20:01',\n",
       " '2020-12-05 08:55:16',\n",
       " '2020-12-14 10:56:22',\n",
       " '2020-12-06 20:29:26',\n",
       " '2020-11-04 09:19:03',\n",
       " '2020-11-22 00:24:04',\n",
       " '2020-10-18 03:01:56',\n",
       " '2020-10-15 18:40:52',\n",
       " '2020-10-27 10:33:12',\n",
       " '2020-10-15 15:02:10',\n",
       " '2020-11-03 07:32:21',\n",
       " '2020-10-28 19:31:31',\n",
       " '2020-11-08 17:06:38',\n",
       " '2020-12-05 12:05:12',\n",
       " '2020-10-19 13:13:07',\n",
       " '2020-10-31 08:45:50',\n",
       " '2020-12-03 17:22:10',\n",
       " '2020-10-08 11:09:56',\n",
       " '2020-10-11 16:34:49',\n",
       " '2020-11-28 22:38:56',\n",
       " '2020-10-08 15:23:34',\n",
       " '2020-11-02 10:36:43',\n",
       " '2020-10-19 17:57:07',\n",
       " '2020-10-22 14:30:24',\n",
       " '2020-10-19 07:06:51',\n",
       " '2020-12-06 14:10:04',\n",
       " '2020-10-15 13:43:37',\n",
       " '2020-12-02 20:30:36',\n",
       " '2020-12-17 09:53:25',\n",
       " '2020-10-11 15:25:02',\n",
       " '2020-10-03 22:38:56',\n",
       " '2020-11-13 01:17:42',\n",
       " '2020-10-17 20:18:38',\n",
       " '2020-10-17 10:32:28',\n",
       " '2020-11-03 09:36:27',\n",
       " '2020-10-08 09:49:11',\n",
       " '2020-10-23 14:39:12',\n",
       " '2020-11-15 18:04:03',\n",
       " '2020-12-06 12:37:28',\n",
       " '2020-11-14 01:06:56',\n",
       " '2020-10-20 08:06:00',\n",
       " '2020-10-30 12:37:26',\n",
       " '2020-11-11 16:11:21',\n",
       " '2020-11-21 11:30:42',\n",
       " '2020-10-24 08:46:40',\n",
       " '2020-10-10 00:56:40',\n",
       " '2020-12-01 14:08:28',\n",
       " '2020-11-08 22:58:02',\n",
       " '2020-11-24 14:03:29',\n",
       " '2020-10-06 11:36:49',\n",
       " '2020-10-08 18:38:45',\n",
       " '2020-09-23 08:34:46',\n",
       " '2020-11-09 21:23:11',\n",
       " '2020-10-23 03:06:03',\n",
       " '2020-10-24 09:50:17',\n",
       " '2020-10-25 11:00:08',\n",
       " '2020-11-06 12:10:34',\n",
       " '2020-10-04 10:41:29',\n",
       " '2020-11-11 15:08:16',\n",
       " '2020-12-03 08:02:25',\n",
       " '2020-09-30 01:59:55',\n",
       " '2020-11-19 11:46:11',\n",
       " '2020-11-27 18:37:52',\n",
       " '2020-10-27 15:28:02',\n",
       " '2020-11-24 14:38:04',\n",
       " '2020-10-04 13:30:32',\n",
       " '2020-11-24 18:38:18',\n",
       " '2020-11-24 05:38:10',\n",
       " '2020-12-04 23:24:16',\n",
       " '2020-11-27 07:57:07',\n",
       " '2020-11-15 15:57:18',\n",
       " '2020-10-31 20:00:01',\n",
       " '2020-10-08 09:48:56',\n",
       " '2020-12-11 13:12:36',\n",
       " '2020-11-02 12:02:34',\n",
       " '2020-09-28 10:22:48',\n",
       " '2020-12-15 19:55:07',\n",
       " '2020-11-26 10:09:19',\n",
       " '2020-12-05 16:33:42',\n",
       " '2020-10-10 14:23:21',\n",
       " '2020-10-30 15:55:58',\n",
       " '2020-11-06 20:48:26',\n",
       " '2020-10-02 16:33:42',\n",
       " '2020-11-16 11:30:05',\n",
       " '2020-11-12 18:33:08',\n",
       " '2020-12-02 14:53:40',\n",
       " '2020-12-05 16:45:03',\n",
       " '2020-11-30 12:03:13',\n",
       " '2020-11-02 17:35:20',\n",
       " '2020-09-25 16:16:05',\n",
       " '2020-10-23 16:58:24',\n",
       " '2020-11-15 11:25:56',\n",
       " '2020-11-29 13:14:57',\n",
       " '2020-11-04 15:10:02',\n",
       " '2020-11-30 14:05:09',\n",
       " '2020-12-07 09:09:10',\n",
       " '2020-10-24 01:39:20',\n",
       " '2020-10-07 17:36:34',\n",
       " '2020-11-21 22:12:47',\n",
       " '2020-11-14 09:22:58',\n",
       " '2020-11-26 11:17:09',\n",
       " '2020-11-07 09:23:06',\n",
       " '2020-12-06 19:41:36',\n",
       " '2020-12-13 07:54:13',\n",
       " '2020-10-29 17:24:19',\n",
       " '2020-11-11 20:23:56',\n",
       " '2020-11-03 20:18:14',\n",
       " '2020-10-15 18:16:53',\n",
       " '2020-11-16 14:47:34',\n",
       " '2020-11-02 18:32:51',\n",
       " '2020-10-26 13:50:56',\n",
       " '2020-10-18 13:25:47',\n",
       " '2020-12-04 12:24:55',\n",
       " '2020-10-24 19:01:54',\n",
       " '2020-11-03 18:40:57',\n",
       " '2020-10-04 11:09:41',\n",
       " '2020-11-06 12:30:49',\n",
       " '2020-10-01 17:25:22',\n",
       " '2020-10-18 23:49:13',\n",
       " '2020-10-15 08:34:39',\n",
       " '2020-10-06 20:14:58',\n",
       " '2020-11-02 08:16:24',\n",
       " '2020-10-21 12:32:07',\n",
       " '2020-11-28 18:42:35',\n",
       " '2020-11-10 19:13:55',\n",
       " '2020-10-16 18:09:33',\n",
       " '2020-12-03 01:06:02',\n",
       " '2020-11-22 15:02:54',\n",
       " '2020-10-31 21:23:38',\n",
       " '2020-11-26 13:35:14',\n",
       " '2020-12-08 12:47:01',\n",
       " '2020-11-19 13:50:30',\n",
       " '2020-10-07 12:36:54',\n",
       " '2020-12-11 17:33:59',\n",
       " '2020-10-28 15:35:35',\n",
       " '2020-10-15 18:37:01',\n",
       " '2020-10-13 15:40:10',\n",
       " '2020-09-29 19:41:19',\n",
       " '2020-12-01 10:15:15',\n",
       " '2020-10-04 20:47:13',\n",
       " '2020-10-04 12:37:00',\n",
       " '2020-12-01 21:12:26',\n",
       " '2020-10-16 21:00:00',\n",
       " '2020-10-03 15:03:23',\n",
       " '2020-11-14 10:48:31',\n",
       " '2020-12-05 00:09:53',\n",
       " '2020-11-09 10:28:43',\n",
       " '2020-10-14 16:48:20',\n",
       " '2020-12-05 07:15:48',\n",
       " '2020-12-10 00:58:05',\n",
       " '2020-11-03 15:37:46',\n",
       " '2020-10-27 11:39:08',\n",
       " '2020-09-28 13:10:43',\n",
       " '2020-11-07 20:24:04',\n",
       " '2020-11-27 10:43:19',\n",
       " '2020-11-03 06:13:02',\n",
       " '2020-12-19 19:50:51',\n",
       " '2020-10-14 13:14:55',\n",
       " '2020-12-07 18:02:03',\n",
       " '2020-09-28 08:56:19',\n",
       " '2020-10-12 16:22:41',\n",
       " '2020-11-02 14:20:16',\n",
       " '2020-11-01 07:38:36',\n",
       " '2020-12-12 20:29:15',\n",
       " '2020-09-27 13:47:27',\n",
       " '2020-11-04 09:04:06',\n",
       " '2020-10-28 16:28:05',\n",
       " '2020-11-25 09:33:36',\n",
       " '2020-11-22 18:58:31',\n",
       " '2020-08-20 01:31:36',\n",
       " '2020-11-06 00:08:20',\n",
       " '2020-12-11 18:38:37',\n",
       " '2020-08-28 16:59:12',\n",
       " '2020-09-27 12:52:38',\n",
       " '2020-10-06 10:36:47',\n",
       " '2020-12-11 07:12:31',\n",
       " '2020-10-16 19:36:13',\n",
       " '2020-10-07 21:22:44',\n",
       " '2020-11-30 14:23:39',\n",
       " '2020-10-17 12:55:38',\n",
       " '2020-10-22 17:47:23',\n",
       " '2020-11-28 16:25:15',\n",
       " '2020-09-26 21:50:20',\n",
       " '2020-12-03 14:46:24',\n",
       " '2020-11-13 13:20:09',\n",
       " '2020-12-15 20:28:01',\n",
       " '2020-11-11 09:10:45',\n",
       " '2020-10-11 11:06:15',\n",
       " '2020-10-11 22:09:13',\n",
       " '2020-07-23 11:41:09',\n",
       " '2020-10-24 15:34:51',\n",
       " '2020-09-01 20:32:23',\n",
       " '2020-10-12 18:40:52',\n",
       " '2020-10-18 19:11:08',\n",
       " '2020-10-08 23:04:11',\n",
       " '2020-08-22 12:10:41',\n",
       " '2020-07-23 01:23:33',\n",
       " '2020-09-20 17:35:42',\n",
       " '2020-11-06 07:07:39',\n",
       " '2020-11-07 21:43:01',\n",
       " '2020-11-07 09:45:42',\n",
       " '2020-10-31 11:59:16',\n",
       " '2020-09-04 12:30:33',\n",
       " '2020-11-22 12:57:23',\n",
       " '2020-11-03 09:37:42',\n",
       " '2020-12-16 17:43:17',\n",
       " '2020-10-17 17:25:36',\n",
       " '2020-10-10 18:29:12',\n",
       " '2020-10-17 10:45:51',\n",
       " '2020-10-04 19:31:40',\n",
       " '2020-11-10 13:40:28',\n",
       " '2020-10-25 17:08:47',\n",
       " '2020-10-10 10:56:55',\n",
       " '2020-12-06 23:47:44',\n",
       " '2020-10-21 06:04:05',\n",
       " '2020-11-25 12:07:46',\n",
       " '2020-08-11 10:38:22',\n",
       " '2020-10-01 10:18:08',\n",
       " '2020-11-18 10:50:17',\n",
       " '2020-11-15 14:04:38',\n",
       " '2020-11-22 18:30:26',\n",
       " '2020-10-17 15:43:18',\n",
       " '2020-09-16 07:50:32',\n",
       " '2020-11-06 21:23:56',\n",
       " '2020-09-14 14:18:03',\n",
       " '2020-12-15 15:07:22',\n",
       " '2020-11-04 12:21:42',\n",
       " '2020-10-14 21:16:36',\n",
       " '2020-09-26 00:51:21',\n",
       " '2020-11-15 17:45:47',\n",
       " '2020-12-12 08:37:05',\n",
       " '2020-12-03 08:34:18',\n",
       " '2020-10-31 16:56:04',\n",
       " '2020-09-02 14:15:55',\n",
       " '2020-09-27 13:44:26',\n",
       " '2020-09-22 11:12:40',\n",
       " '2020-10-21 20:13:43',\n",
       " '2020-08-27 20:04:23',\n",
       " '2020-12-05 14:40:11',\n",
       " '2020-09-03 17:57:24',\n",
       " '2020-11-06 07:18:26',\n",
       " '2020-07-30 15:04:56',\n",
       " '2020-12-18 22:56:02',\n",
       " '2020-10-14 22:25:48',\n",
       " '2020-08-01 01:58:12',\n",
       " '2020-07-19 17:05:55',\n",
       " '2020-08-11 08:42:14',\n",
       " '2020-12-18 06:25:20',\n",
       " '2020-11-12 04:23:53',\n",
       " '2020-10-01 20:56:44',\n",
       " '2020-12-13 08:42:39',\n",
       " '2020-10-10 07:50:25',\n",
       " '2020-10-11 15:10:54',\n",
       " '2020-11-15 20:51:56',\n",
       " '2020-11-07 13:25:28',\n",
       " '2020-09-26 18:51:58',\n",
       " '2020-07-10 08:05:16',\n",
       " '2020-10-27 11:52:55',\n",
       " '2020-10-01 13:00:04',\n",
       " '2020-08-13 11:02:36',\n",
       " '2020-10-25 08:46:51',\n",
       " '2020-11-28 13:37:18',\n",
       " '2020-12-01 10:11:33',\n",
       " '2020-07-18 11:50:21',\n",
       " '2020-10-05 10:18:07',\n",
       " '2020-11-09 10:40:31',\n",
       " '2020-09-02 18:42:20',\n",
       " '2020-09-18 09:18:30',\n",
       " '2020-10-07 04:39:25',\n",
       " '2020-09-24 12:22:41',\n",
       " '2020-08-17 16:47:01',\n",
       " '2020-11-13 10:47:12',\n",
       " '2020-09-19 01:14:45',\n",
       " '2020-12-10 09:12:51',\n",
       " '2020-11-08 18:33:44',\n",
       " '2020-07-10 19:16:57',\n",
       " '2020-08-30 15:06:29',\n",
       " '2020-10-31 21:35:20',\n",
       " '2020-08-03 19:31:38',\n",
       " '2020-10-27 08:46:18',\n",
       " '2020-12-06 12:16:52',\n",
       " '2020-09-25 11:05:44',\n",
       " '2020-09-26 01:06:52',\n",
       " '2020-10-13 10:24:03',\n",
       " '2020-10-07 19:59:41',\n",
       " '2020-09-25 12:10:34',\n",
       " '2020-08-03 17:51:03',\n",
       " '2020-09-29 08:44:37',\n",
       " '2020-10-01 12:09:15',\n",
       " '2020-10-15 21:05:54',\n",
       " '2020-11-03 11:26:39',\n",
       " '2020-10-12 13:08:52',\n",
       " '2020-11-10 15:05:17',\n",
       " '2020-12-17 18:52:24',\n",
       " '2020-11-14 11:56:54',\n",
       " '2020-08-27 21:05:58',\n",
       " '2020-10-12 02:52:55',\n",
       " '2020-09-04 06:59:56',\n",
       " '2020-10-15 22:38:15',\n",
       " '2020-12-01 11:36:05',\n",
       " '2020-11-30 08:01:07',\n",
       " '2020-12-03 10:11:13',\n",
       " '2020-10-08 14:06:50',\n",
       " '2020-11-23 20:35:54',\n",
       " '2020-10-04 18:21:21',\n",
       " '2020-10-28 12:29:15',\n",
       " '2020-10-07 08:35:50',\n",
       " '2020-10-31 16:31:38',\n",
       " '2020-11-24 11:43:04',\n",
       " '2020-10-25 17:25:40',\n",
       " '2020-11-11 00:11:45',\n",
       " '2020-10-26 05:47:08',\n",
       " '2020-07-20 14:26:37',\n",
       " '2020-10-09 14:20:44',\n",
       " '2020-08-17 15:50:56',\n",
       " '2020-11-26 08:25:10',\n",
       " '2020-11-16 16:09:35',\n",
       " '2020-08-23 15:59:18',\n",
       " '2020-11-30 16:25:32',\n",
       " '2020-10-29 09:34:26',\n",
       " '2020-09-06 08:50:33',\n",
       " '2020-09-02 19:24:37',\n",
       " '2020-09-23 17:36:40',\n",
       " '2020-11-22 16:57:47',\n",
       " '2020-11-09 10:13:48',\n",
       " '2020-10-30 20:09:01',\n",
       " '2020-08-10 14:55:49',\n",
       " '2020-12-01 09:38:39',\n",
       " '2020-09-27 07:56:32',\n",
       " '2020-12-04 08:35:59',\n",
       " '2020-12-01 13:35:23',\n",
       " '2020-09-07 19:45:46',\n",
       " '2020-10-29 21:34:28',\n",
       " '2020-08-10 14:10:18',\n",
       " '2020-07-13 11:31:13',\n",
       " '2020-07-30 05:34:35',\n",
       " '2020-09-26 23:12:32',\n",
       " '2020-11-22 00:57:37',\n",
       " '2020-08-24 09:31:01',\n",
       " '2020-08-07 19:16:44',\n",
       " '2020-10-11 10:21:00',\n",
       " '2020-10-09 23:22:24',\n",
       " '2020-08-08 22:20:03',\n",
       " '2020-07-27 12:40:12',\n",
       " '2020-09-12 14:16:14',\n",
       " '2020-11-25 12:57:59',\n",
       " '2020-09-25 15:25:48',\n",
       " '2020-11-22 15:12:59',\n",
       " '2020-09-07 17:07:54',\n",
       " '2020-09-16 06:40:32',\n",
       " '2020-11-14 07:28:24',\n",
       " '2020-09-24 07:00:50',\n",
       " '2020-09-03 22:34:07',\n",
       " '2020-11-11 16:07:56',\n",
       " '2020-12-06 14:12:57',\n",
       " '2020-09-25 15:29:22',\n",
       " '2020-08-02 16:31:36',\n",
       " '2020-07-11 21:46:19',\n",
       " '2020-09-01 10:00:20',\n",
       " '2020-09-28 16:52:44',\n",
       " '2020-08-12 11:01:48',\n",
       " '2020-12-16 12:25:26',\n",
       " '2020-10-30 14:58:34',\n",
       " '2020-11-04 07:53:25',\n",
       " '2020-08-20 09:57:11',\n",
       " '2020-11-29 21:44:51',\n",
       " '2020-11-26 12:14:42',\n",
       " '2020-07-24 16:32:39',\n",
       " '2020-11-25 08:07:41',\n",
       " '2020-09-04 09:31:05',\n",
       " '2020-08-20 02:13:11',\n",
       " '2020-11-29 11:27:55',\n",
       " '2020-12-13 14:33:00',\n",
       " '2020-08-20 11:06:43',\n",
       " '2020-11-28 18:05:37',\n",
       " '2020-09-04 00:26:10',\n",
       " '2020-07-29 11:53:15',\n",
       " '2020-12-09 13:05:01',\n",
       " '2020-11-11 12:07:13',\n",
       " '2020-11-29 12:43:29',\n",
       " '2020-10-10 17:51:18',\n",
       " '2020-12-01 14:18:22',\n",
       " '2020-08-03 16:28:51',\n",
       " '2020-11-21 12:36:08',\n",
       " '2020-10-11 18:21:31',\n",
       " '2020-09-10 16:04:58',\n",
       " '2020-08-09 15:12:19',\n",
       " '2020-11-28 08:10:36',\n",
       " '2020-11-22 19:08:50',\n",
       " '2020-07-31 19:06:19',\n",
       " '2020-09-05 02:32:55',\n",
       " '2020-10-24 08:24:28',\n",
       " '2020-10-01 16:15:52',\n",
       " '2020-11-23 10:17:24',\n",
       " '2020-12-05 17:22:36',\n",
       " '2020-10-21 16:14:09',\n",
       " '2020-07-26 02:53:43',\n",
       " '2020-07-31 17:56:05',\n",
       " '2020-11-06 13:04:40',\n",
       " '2020-09-25 10:28:26',\n",
       " '2020-10-31 16:58:07',\n",
       " '2020-08-22 11:52:44',\n",
       " '2020-08-19 13:10:35',\n",
       " '2020-12-09 07:24:38',\n",
       " '2020-10-19 15:13:24',\n",
       " '2020-07-27 17:29:31',\n",
       " '2020-08-13 09:56:33',\n",
       " '2020-12-04 08:33:14',\n",
       " '2020-08-16 17:26:57',\n",
       " '2020-10-21 08:17:46',\n",
       " '2020-09-09 13:19:46',\n",
       " '2020-10-04 15:46:57',\n",
       " '2020-10-08 11:56:46',\n",
       " '2020-10-11 08:40:30',\n",
       " '2020-08-19 15:48:50',\n",
       " '2020-11-08 22:06:29',\n",
       " '2020-11-10 05:25:44',\n",
       " '2020-10-18 17:46:21',\n",
       " '2020-09-30 10:10:45',\n",
       " '2020-07-16 13:03:06',\n",
       " '2020-07-20 21:52:41',\n",
       " '2020-11-01 21:43:14',\n",
       " '2020-10-15 15:44:15',\n",
       " '2020-11-06 15:00:37',\n",
       " '2020-10-26 21:49:08',\n",
       " '2020-10-25 16:36:24',\n",
       " '2020-12-04 12:45:55',\n",
       " '2020-10-16 16:38:41',\n",
       " '2020-09-02 20:54:23',\n",
       " '2020-08-23 04:10:13',\n",
       " '2020-11-03 20:50:35',\n",
       " '2020-09-22 07:38:13',\n",
       " '2020-12-18 15:45:11',\n",
       " '2020-12-01 21:27:50',\n",
       " '2020-12-16 11:41:13',\n",
       " '2020-11-30 07:27:57',\n",
       " '2020-10-07 12:04:08',\n",
       " '2020-10-20 08:04:59',\n",
       " '2020-09-02 21:01:27',\n",
       " '2020-09-24 17:37:51',\n",
       " '2020-11-26 09:37:21',\n",
       " '2020-09-04 12:27:38',\n",
       " '2020-10-07 10:23:10',\n",
       " '2020-11-08 14:44:09',\n",
       " '2020-09-27 08:51:44',\n",
       " '2020-09-27 15:39:56',\n",
       " '2020-08-28 18:37:30',\n",
       " '2020-08-16 13:29:36',\n",
       " '2020-07-15 08:25:01',\n",
       " '2020-10-25 22:49:31',\n",
       " '2020-11-21 17:17:08',\n",
       " '2020-12-07 13:19:07',\n",
       " '2020-10-14 16:45:48',\n",
       " '2020-10-18 22:19:04',\n",
       " '2020-11-26 15:49:33',\n",
       " '2020-10-15 19:35:58',\n",
       " '2020-10-19 18:37:58',\n",
       " '2020-09-21 17:03:17',\n",
       " '2020-09-22 02:50:28',\n",
       " '2020-11-14 08:42:12',\n",
       " '2020-10-13 12:51:48',\n",
       " '2020-12-14 02:44:09',\n",
       " '2020-12-09 16:55:41',\n",
       " '2020-10-02 13:31:19',\n",
       " '2020-10-27 23:01:38',\n",
       " '2020-09-28 01:53:56',\n",
       " '2020-10-10 23:10:23',\n",
       " '2020-09-16 00:53:32',\n",
       " '2020-10-05 20:31:36',\n",
       " '2020-07-18 10:41:11',\n",
       " '2020-09-10 18:31:45',\n",
       " '2020-12-06 11:34:45',\n",
       " '2020-10-29 17:22:45',\n",
       " '2020-12-18 15:26:16',\n",
       " '2020-09-22 12:45:53',\n",
       " '2020-07-27 14:54:51',\n",
       " '2020-11-25 10:06:24',\n",
       " '2020-09-23 21:54:19',\n",
       " '2020-08-20 10:45:58',\n",
       " '2020-08-09 16:10:11',\n",
       " '2020-07-31 20:39:09',\n",
       " '2020-10-09 16:30:16',\n",
       " '2020-12-06 21:36:44',\n",
       " '2020-12-13 20:51:48',\n",
       " '2020-07-30 10:00:42',\n",
       " '2020-09-06 12:13:36',\n",
       " '2020-10-18 18:40:18',\n",
       " '2020-07-13 10:28:57',\n",
       " '2020-09-27 13:52:35',\n",
       " '2020-12-01 14:38:01',\n",
       " '2020-10-04 12:56:31',\n",
       " '2020-12-01 06:27:27',\n",
       " '2020-12-11 11:48:43',\n",
       " '2020-09-05 15:59:23',\n",
       " '2020-08-26 14:01:58',\n",
       " '2020-11-04 10:10:43',\n",
       " '2020-09-23 16:28:36',\n",
       " ...]"
      ]
     },
     "execution_count": 56,
     "metadata": {},
     "output_type": "execute_result"
    }
   ],
   "source": [
    "timestamps"
   ]
  },
  {
   "cell_type": "code",
   "execution_count": 55,
   "id": "seasonal-louisville",
   "metadata": {},
   "outputs": [
    {
     "data": {
      "application/vnd.plotly.v1+json": {
       "config": {
        "plotlyServerURL": "https://plot.ly"
       },
       "data": [
        {
         "coloraxis": "coloraxis",
         "hovertemplate": "x: %{x}<br>y: %{y}<br>Similarity Score: %{z}<extra></extra>",
         "name": "0",
         "type": "heatmap",
         "x": [
          "-1_you_my_drivers",
          "0_affordable_promo_cheaper",
          "1_time_minutes_convenient",
          "2_nice_good_best",
          "3_love_its_good",
          "4_safe_efficient_reliable",
          "5_drivers_taxify_driver",
          "6_phone_sms_number",
          "7_friendly_driver_drivers",
          "8_drivers_app_friendly",
          "14_uber_great_good",
          "9_perfect_awesome_exceptional",
          "13_great_kenya_ghana",
          "10_location_gps_map",
          "11_card_account_cancel",
          "12_app_download_application",
          "15_ride_rides_good",
          "16_transport_transportation...",
          "17_comfortable_clean_cars",
          "18_app_useful_job",
          "19_service_good_drivers"
         ],
         "xaxis": "x",
         "y": [
          "-1_you_my_drivers",
          "0_affordable_promo_cheaper",
          "1_time_minutes_convenient",
          "2_nice_good_best",
          "3_love_its_good",
          "4_safe_efficient_reliable",
          "5_drivers_taxify_driver",
          "6_phone_sms_number",
          "7_friendly_driver_drivers",
          "8_drivers_app_friendly",
          "14_uber_great_good",
          "9_perfect_awesome_exceptional",
          "13_great_kenya_ghana",
          "10_location_gps_map",
          "11_card_account_cancel",
          "12_app_download_application",
          "15_ride_rides_good",
          "16_transport_transportation...",
          "17_comfortable_clean_cars",
          "18_app_useful_job",
          "19_service_good_drivers"
         ],
         "yaxis": "y",
         "z": [
          [
           0.9999999999999996,
           0.41149892988736203,
           0.6463939277198989,
           0.5987376945102943,
           0.6856144539997712,
           0.4876461608084287,
           0.840223216581617,
           0.42137671903517127,
           0.7515884315904486,
           0.7125751571719219,
           0.6440103821589425,
           0.5602684535543924,
           0.5797987547789514,
           0.42987371373941496,
           0.5332316581182037,
           0.3389161641854448,
           0.7483952136041058,
           0.6557049446211058,
           0.647472792281738,
           0.5461774444161347,
           0.6607962737748037
          ],
          [
           0.41149892988736203,
           1,
           0.5188421958243723,
           0.38412174902100665,
           0.3697889484748143,
           0.53380031506781,
           0.4539674480480299,
           0.41937345672455273,
           0.41766115902713874,
           0.5279548615086398,
           0.6011086067386919,
           0.3144883856244014,
           0.29985310842361323,
           0.30893725272826,
           0.5608906259648353,
           0.49149545119851434,
           0.5643245540900175,
           0.5120416912413804,
           0.4596873840350075,
           0.4735672632412074,
           0.4732536550749103
          ],
          [
           0.6463939277198989,
           0.5188421958243723,
           0.9999999999999997,
           0.5268219758787457,
           0.5112678348850435,
           0.6393272321993008,
           0.6247359056523342,
           0.4586241893849916,
           0.5868958879524065,
           0.5962384946597366,
           0.5940619832252441,
           0.4687239694940369,
           0.4473110172185855,
           0.36402738617622377,
           0.4712368686770109,
           0.3666825202680848,
           0.5913808169659285,
           0.5946192512431756,
           0.6307341859763325,
           0.5218050000487622,
           0.5702291072656331
          ],
          [
           0.5987376945102943,
           0.38412174902100665,
           0.5268219758787457,
           1,
           0.7549024440033403,
           0.7418178532070405,
           0.5120470437579774,
           0.3018560181938904,
           0.7149876722460891,
           0.8373756160299309,
           0.8605699530869577,
           0.8851958838902668,
           0.8012639410128026,
           0.28528537325822223,
           0.3168958739693729,
           0.2808304813817216,
           0.7242341692522405,
           0.43273304027748993,
           0.6832819891646966,
           0.6151930033983343,
           0.7228798285643061
          ],
          [
           0.6856144539997712,
           0.3697889484748143,
           0.5112678348850435,
           0.7549024440033403,
           0.9999999999999994,
           0.5559362846389404,
           0.5443931557354577,
           0.4299868229446263,
           0.5940605722674637,
           0.7367137689292411,
           0.6802573173104269,
           0.7048029478740843,
           0.7211059417896309,
           0.3588077494482304,
           0.4061250834296809,
           0.4522656936323277,
           0.6333972050748198,
           0.48765507146269393,
           0.5183086688946723,
           0.6026774184170003,
           0.6967673710192065
          ],
          [
           0.4876461608084287,
           0.53380031506781,
           0.6393272321993008,
           0.7418178532070405,
           0.5559362846389404,
           0.9999999999999998,
           0.521644532254203,
           0.4221353157358227,
           0.6482647006102945,
           0.7064072450672052,
           0.7626122212665842,
           0.5841818345228325,
           0.5383872626371208,
           0.3253109581097636,
           0.43717248307938184,
           0.40639269627897145,
           0.5953930149667443,
           0.5153094859552599,
           0.7502835331046231,
           0.701222745198755,
           0.7061428125118655
          ],
          [
           0.840223216581617,
           0.4539674480480299,
           0.6247359056523342,
           0.5120470437579774,
           0.5443931557354577,
           0.521644532254203,
           1.0000000000000002,
           0.4975113685452248,
           0.8130770243208,
           0.7011599487414728,
           0.6835381312942461,
           0.44883765751668153,
           0.4977407799476899,
           0.39458367487507817,
           0.5576901251146075,
           0.3354045761096674,
           0.603892461990331,
           0.6035909535481128,
           0.6932194723838568,
           0.609321663166677,
           0.7396514697545601
          ],
          [
           0.42137671903517127,
           0.41937345672455273,
           0.4586241893849916,
           0.3018560181938904,
           0.4299868229446263,
           0.4221353157358227,
           0.4975113685452248,
           1.0000000000000004,
           0.3793347233930289,
           0.5041287723253299,
           0.4134622823634143,
           0.2334420378922111,
           0.30321749888745037,
           0.4586698962878652,
           0.526373350508013,
           0.552273752335296,
           0.3215352631343833,
           0.4363960011347785,
           0.3350922028732463,
           0.6067313545306782,
           0.6087972470157366
          ],
          [
           0.7515884315904486,
           0.41766115902713874,
           0.5868958879524065,
           0.7149876722460891,
           0.5940605722674637,
           0.6482647006102945,
           0.8130770243208,
           0.3793347233930289,
           1.0000000000000002,
           0.871100407320078,
           0.7113094626725379,
           0.6016145496440634,
           0.5867470767311773,
           0.3799450182609625,
           0.46082770464030665,
           0.29365963331626266,
           0.693015253647925,
           0.539061272217255,
           0.8396701230277215,
           0.5502424148480862,
           0.7274191149445414
          ],
          [
           0.7125751571719219,
           0.5279548615086398,
           0.5962384946597366,
           0.8373756160299309,
           0.7367137689292411,
           0.7064072450672052,
           0.7011599487414728,
           0.5041287723253299,
           0.871100407320078,
           0.9999999999999999,
           0.806778443666611,
           0.7765542999785139,
           0.7466450971531317,
           0.42313625901984875,
           0.46396185459969347,
           0.5065652531990865,
           0.7360316222068204,
           0.5200334435862066,
           0.7334562380069651,
           0.7033136922310971,
           0.7803719395642553
          ],
          [
           0.6440103821589425,
           0.6011086067386919,
           0.5940619832252441,
           0.8605699530869577,
           0.6802573173104269,
           0.7626122212665842,
           0.6835381312942461,
           0.4134622823634143,
           0.7113094626725379,
           0.806778443666611,
           0.9999999999999994,
           0.7540723244484397,
           0.7295892824418716,
           0.35550053847779767,
           0.44901108467329176,
           0.40155210186142254,
           0.7232308132711389,
           0.5788359310081771,
           0.6828668367912452,
           0.6768374853753949,
           0.7986435667685798
          ],
          [
           0.5602684535543924,
           0.3144883856244014,
           0.4687239694940369,
           0.8851958838902668,
           0.7048029478740843,
           0.5841818345228325,
           0.44883765751668153,
           0.2334420378922111,
           0.6016145496440634,
           0.7765542999785139,
           0.7540723244484397,
           1.0000000000000002,
           0.8270114624707905,
           0.28262784960518883,
           0.24344099371300226,
           0.2832519982099636,
           0.6229301192190231,
           0.3729128049472071,
           0.5357899764295424,
           0.4829429218625342,
           0.6425717419262557
          ],
          [
           0.5797987547789514,
           0.29985310842361323,
           0.4473110172185855,
           0.8012639410128026,
           0.7211059417896309,
           0.5383872626371208,
           0.4977407799476899,
           0.30321749888745037,
           0.5867470767311773,
           0.7466450971531317,
           0.7295892824418716,
           0.8270114624707905,
           1.0000000000000002,
           0.3319720310012932,
           0.3201319941959844,
           0.25478693687341447,
           0.5555401755997087,
           0.3972299742375877,
           0.4573211881081883,
           0.4981604414030324,
           0.6581295714200361
          ],
          [
           0.42987371373941496,
           0.30893725272826,
           0.36402738617622377,
           0.28528537325822223,
           0.3588077494482304,
           0.3253109581097636,
           0.39458367487507817,
           0.4586698962878652,
           0.3799450182609625,
           0.42313625901984875,
           0.35550053847779767,
           0.28262784960518883,
           0.3319720310012932,
           1.0000000000000002,
           0.30195036217683174,
           0.3605637844862054,
           0.31828709513176917,
           0.5303820938212636,
           0.34148402494280583,
           0.4021306129783583,
           0.4279368575379564
          ],
          [
           0.5332316581182037,
           0.5608906259648353,
           0.4712368686770109,
           0.3168958739693729,
           0.4061250834296809,
           0.43717248307938184,
           0.5576901251146075,
           0.526373350508013,
           0.46082770464030665,
           0.46396185459969347,
           0.44901108467329176,
           0.24344099371300226,
           0.3201319941959844,
           0.30195036217683174,
           1,
           0.3362494886617231,
           0.4385402851735396,
           0.47312254127853826,
           0.40748657828059276,
           0.4387072171028029,
           0.5126620030488929
          ],
          [
           0.3389161641854448,
           0.49149545119851434,
           0.3666825202680848,
           0.2808304813817216,
           0.4522656936323277,
           0.40639269627897145,
           0.3354045761096674,
           0.552273752335296,
           0.29365963331626266,
           0.5065652531990865,
           0.40155210186142254,
           0.2832519982099636,
           0.25478693687341447,
           0.3605637844862054,
           0.3362494886617231,
           1.0000000000000007,
           0.35211672810122935,
           0.4149478632167404,
           0.27945301711575515,
           0.6021211926108953,
           0.3958447205032553
          ],
          [
           0.7483952136041058,
           0.5643245540900175,
           0.5913808169659285,
           0.7242341692522405,
           0.6333972050748198,
           0.5953930149667443,
           0.603892461990331,
           0.3215352631343833,
           0.693015253647925,
           0.7360316222068204,
           0.7232308132711389,
           0.6229301192190231,
           0.5555401755997087,
           0.31828709513176917,
           0.4385402851735396,
           0.35211672810122935,
           1,
           0.6385146790292715,
           0.6791178924551795,
           0.5607785366166449,
           0.622901359953956
          ],
          [
           0.6557049446211058,
           0.5120416912413804,
           0.5946192512431756,
           0.43273304027748993,
           0.48765507146269393,
           0.5153094859552599,
           0.6035909535481128,
           0.4363960011347785,
           0.539061272217255,
           0.5200334435862066,
           0.5788359310081771,
           0.3729128049472071,
           0.3972299742375877,
           0.5303820938212636,
           0.47312254127853826,
           0.4149478632167404,
           0.6385146790292715,
           1.0000000000000002,
           0.560295266405417,
           0.5290018354444339,
           0.5435414206287855
          ],
          [
           0.647472792281738,
           0.4596873840350075,
           0.6307341859763325,
           0.6832819891646966,
           0.5183086688946723,
           0.7502835331046231,
           0.6932194723838568,
           0.3350922028732463,
           0.8396701230277215,
           0.7334562380069651,
           0.6828668367912452,
           0.5357899764295424,
           0.4573211881081883,
           0.34148402494280583,
           0.40748657828059276,
           0.27945301711575515,
           0.6791178924551795,
           0.560295266405417,
           1.0000000000000004,
           0.5779398937270281,
           0.646372441952831
          ],
          [
           0.5461774444161347,
           0.4735672632412074,
           0.5218050000487622,
           0.6151930033983343,
           0.6026774184170003,
           0.701222745198755,
           0.609321663166677,
           0.6067313545306782,
           0.5502424148480862,
           0.7033136922310971,
           0.6768374853753949,
           0.4829429218625342,
           0.4981604414030324,
           0.4021306129783583,
           0.4387072171028029,
           0.6021211926108953,
           0.5607785366166449,
           0.5290018354444339,
           0.5779398937270281,
           1.0000000000000002,
           0.7462131122718662
          ],
          [
           0.6607962737748037,
           0.4732536550749103,
           0.5702291072656331,
           0.7228798285643061,
           0.6967673710192065,
           0.7061428125118655,
           0.7396514697545601,
           0.6087972470157366,
           0.7274191149445414,
           0.7803719395642553,
           0.7986435667685798,
           0.6425717419262557,
           0.6581295714200361,
           0.4279368575379564,
           0.5126620030488929,
           0.3958447205032553,
           0.622901359953956,
           0.5435414206287855,
           0.646372441952831,
           0.7462131122718662,
           1
          ]
         ]
        }
       ],
       "layout": {
        "coloraxis": {
         "colorbar": {
          "title": {
           "text": "Similarity Score"
          }
         },
         "colorscale": [
          [
           0,
           "rgb(247,252,240)"
          ],
          [
           0.125,
           "rgb(224,243,219)"
          ],
          [
           0.25,
           "rgb(204,235,197)"
          ],
          [
           0.375,
           "rgb(168,221,181)"
          ],
          [
           0.5,
           "rgb(123,204,196)"
          ],
          [
           0.625,
           "rgb(78,179,211)"
          ],
          [
           0.75,
           "rgb(43,140,190)"
          ],
          [
           0.875,
           "rgb(8,104,172)"
          ],
          [
           1,
           "rgb(8,64,129)"
          ]
         ]
        },
        "height": 1000,
        "hoverlabel": {
         "bgcolor": "white",
         "font": {
          "family": "Rockwell",
          "size": 16
         }
        },
        "legend": {
         "title": {
          "text": "Trend"
         }
        },
        "margin": {
         "t": 60
        },
        "showlegend": true,
        "template": {
         "data": {
          "bar": [
           {
            "error_x": {
             "color": "#2a3f5f"
            },
            "error_y": {
             "color": "#2a3f5f"
            },
            "marker": {
             "line": {
              "color": "#E5ECF6",
              "width": 0.5
             }
            },
            "type": "bar"
           }
          ],
          "barpolar": [
           {
            "marker": {
             "line": {
              "color": "#E5ECF6",
              "width": 0.5
             }
            },
            "type": "barpolar"
           }
          ],
          "carpet": [
           {
            "aaxis": {
             "endlinecolor": "#2a3f5f",
             "gridcolor": "white",
             "linecolor": "white",
             "minorgridcolor": "white",
             "startlinecolor": "#2a3f5f"
            },
            "baxis": {
             "endlinecolor": "#2a3f5f",
             "gridcolor": "white",
             "linecolor": "white",
             "minorgridcolor": "white",
             "startlinecolor": "#2a3f5f"
            },
            "type": "carpet"
           }
          ],
          "choropleth": [
           {
            "colorbar": {
             "outlinewidth": 0,
             "ticks": ""
            },
            "type": "choropleth"
           }
          ],
          "contour": [
           {
            "colorbar": {
             "outlinewidth": 0,
             "ticks": ""
            },
            "colorscale": [
             [
              0,
              "#0d0887"
             ],
             [
              0.1111111111111111,
              "#46039f"
             ],
             [
              0.2222222222222222,
              "#7201a8"
             ],
             [
              0.3333333333333333,
              "#9c179e"
             ],
             [
              0.4444444444444444,
              "#bd3786"
             ],
             [
              0.5555555555555556,
              "#d8576b"
             ],
             [
              0.6666666666666666,
              "#ed7953"
             ],
             [
              0.7777777777777778,
              "#fb9f3a"
             ],
             [
              0.8888888888888888,
              "#fdca26"
             ],
             [
              1,
              "#f0f921"
             ]
            ],
            "type": "contour"
           }
          ],
          "contourcarpet": [
           {
            "colorbar": {
             "outlinewidth": 0,
             "ticks": ""
            },
            "type": "contourcarpet"
           }
          ],
          "heatmap": [
           {
            "colorbar": {
             "outlinewidth": 0,
             "ticks": ""
            },
            "colorscale": [
             [
              0,
              "#0d0887"
             ],
             [
              0.1111111111111111,
              "#46039f"
             ],
             [
              0.2222222222222222,
              "#7201a8"
             ],
             [
              0.3333333333333333,
              "#9c179e"
             ],
             [
              0.4444444444444444,
              "#bd3786"
             ],
             [
              0.5555555555555556,
              "#d8576b"
             ],
             [
              0.6666666666666666,
              "#ed7953"
             ],
             [
              0.7777777777777778,
              "#fb9f3a"
             ],
             [
              0.8888888888888888,
              "#fdca26"
             ],
             [
              1,
              "#f0f921"
             ]
            ],
            "type": "heatmap"
           }
          ],
          "heatmapgl": [
           {
            "colorbar": {
             "outlinewidth": 0,
             "ticks": ""
            },
            "colorscale": [
             [
              0,
              "#0d0887"
             ],
             [
              0.1111111111111111,
              "#46039f"
             ],
             [
              0.2222222222222222,
              "#7201a8"
             ],
             [
              0.3333333333333333,
              "#9c179e"
             ],
             [
              0.4444444444444444,
              "#bd3786"
             ],
             [
              0.5555555555555556,
              "#d8576b"
             ],
             [
              0.6666666666666666,
              "#ed7953"
             ],
             [
              0.7777777777777778,
              "#fb9f3a"
             ],
             [
              0.8888888888888888,
              "#fdca26"
             ],
             [
              1,
              "#f0f921"
             ]
            ],
            "type": "heatmapgl"
           }
          ],
          "histogram": [
           {
            "marker": {
             "colorbar": {
              "outlinewidth": 0,
              "ticks": ""
             }
            },
            "type": "histogram"
           }
          ],
          "histogram2d": [
           {
            "colorbar": {
             "outlinewidth": 0,
             "ticks": ""
            },
            "colorscale": [
             [
              0,
              "#0d0887"
             ],
             [
              0.1111111111111111,
              "#46039f"
             ],
             [
              0.2222222222222222,
              "#7201a8"
             ],
             [
              0.3333333333333333,
              "#9c179e"
             ],
             [
              0.4444444444444444,
              "#bd3786"
             ],
             [
              0.5555555555555556,
              "#d8576b"
             ],
             [
              0.6666666666666666,
              "#ed7953"
             ],
             [
              0.7777777777777778,
              "#fb9f3a"
             ],
             [
              0.8888888888888888,
              "#fdca26"
             ],
             [
              1,
              "#f0f921"
             ]
            ],
            "type": "histogram2d"
           }
          ],
          "histogram2dcontour": [
           {
            "colorbar": {
             "outlinewidth": 0,
             "ticks": ""
            },
            "colorscale": [
             [
              0,
              "#0d0887"
             ],
             [
              0.1111111111111111,
              "#46039f"
             ],
             [
              0.2222222222222222,
              "#7201a8"
             ],
             [
              0.3333333333333333,
              "#9c179e"
             ],
             [
              0.4444444444444444,
              "#bd3786"
             ],
             [
              0.5555555555555556,
              "#d8576b"
             ],
             [
              0.6666666666666666,
              "#ed7953"
             ],
             [
              0.7777777777777778,
              "#fb9f3a"
             ],
             [
              0.8888888888888888,
              "#fdca26"
             ],
             [
              1,
              "#f0f921"
             ]
            ],
            "type": "histogram2dcontour"
           }
          ],
          "mesh3d": [
           {
            "colorbar": {
             "outlinewidth": 0,
             "ticks": ""
            },
            "type": "mesh3d"
           }
          ],
          "parcoords": [
           {
            "line": {
             "colorbar": {
              "outlinewidth": 0,
              "ticks": ""
             }
            },
            "type": "parcoords"
           }
          ],
          "pie": [
           {
            "automargin": true,
            "type": "pie"
           }
          ],
          "scatter": [
           {
            "marker": {
             "colorbar": {
              "outlinewidth": 0,
              "ticks": ""
             }
            },
            "type": "scatter"
           }
          ],
          "scatter3d": [
           {
            "line": {
             "colorbar": {
              "outlinewidth": 0,
              "ticks": ""
             }
            },
            "marker": {
             "colorbar": {
              "outlinewidth": 0,
              "ticks": ""
             }
            },
            "type": "scatter3d"
           }
          ],
          "scattercarpet": [
           {
            "marker": {
             "colorbar": {
              "outlinewidth": 0,
              "ticks": ""
             }
            },
            "type": "scattercarpet"
           }
          ],
          "scattergeo": [
           {
            "marker": {
             "colorbar": {
              "outlinewidth": 0,
              "ticks": ""
             }
            },
            "type": "scattergeo"
           }
          ],
          "scattergl": [
           {
            "marker": {
             "colorbar": {
              "outlinewidth": 0,
              "ticks": ""
             }
            },
            "type": "scattergl"
           }
          ],
          "scattermapbox": [
           {
            "marker": {
             "colorbar": {
              "outlinewidth": 0,
              "ticks": ""
             }
            },
            "type": "scattermapbox"
           }
          ],
          "scatterpolar": [
           {
            "marker": {
             "colorbar": {
              "outlinewidth": 0,
              "ticks": ""
             }
            },
            "type": "scatterpolar"
           }
          ],
          "scatterpolargl": [
           {
            "marker": {
             "colorbar": {
              "outlinewidth": 0,
              "ticks": ""
             }
            },
            "type": "scatterpolargl"
           }
          ],
          "scatterternary": [
           {
            "marker": {
             "colorbar": {
              "outlinewidth": 0,
              "ticks": ""
             }
            },
            "type": "scatterternary"
           }
          ],
          "surface": [
           {
            "colorbar": {
             "outlinewidth": 0,
             "ticks": ""
            },
            "colorscale": [
             [
              0,
              "#0d0887"
             ],
             [
              0.1111111111111111,
              "#46039f"
             ],
             [
              0.2222222222222222,
              "#7201a8"
             ],
             [
              0.3333333333333333,
              "#9c179e"
             ],
             [
              0.4444444444444444,
              "#bd3786"
             ],
             [
              0.5555555555555556,
              "#d8576b"
             ],
             [
              0.6666666666666666,
              "#ed7953"
             ],
             [
              0.7777777777777778,
              "#fb9f3a"
             ],
             [
              0.8888888888888888,
              "#fdca26"
             ],
             [
              1,
              "#f0f921"
             ]
            ],
            "type": "surface"
           }
          ],
          "table": [
           {
            "cells": {
             "fill": {
              "color": "#EBF0F8"
             },
             "line": {
              "color": "white"
             }
            },
            "header": {
             "fill": {
              "color": "#C8D4E3"
             },
             "line": {
              "color": "white"
             }
            },
            "type": "table"
           }
          ]
         },
         "layout": {
          "annotationdefaults": {
           "arrowcolor": "#2a3f5f",
           "arrowhead": 0,
           "arrowwidth": 1
          },
          "autotypenumbers": "strict",
          "coloraxis": {
           "colorbar": {
            "outlinewidth": 0,
            "ticks": ""
           }
          },
          "colorscale": {
           "diverging": [
            [
             0,
             "#8e0152"
            ],
            [
             0.1,
             "#c51b7d"
            ],
            [
             0.2,
             "#de77ae"
            ],
            [
             0.3,
             "#f1b6da"
            ],
            [
             0.4,
             "#fde0ef"
            ],
            [
             0.5,
             "#f7f7f7"
            ],
            [
             0.6,
             "#e6f5d0"
            ],
            [
             0.7,
             "#b8e186"
            ],
            [
             0.8,
             "#7fbc41"
            ],
            [
             0.9,
             "#4d9221"
            ],
            [
             1,
             "#276419"
            ]
           ],
           "sequential": [
            [
             0,
             "#0d0887"
            ],
            [
             0.1111111111111111,
             "#46039f"
            ],
            [
             0.2222222222222222,
             "#7201a8"
            ],
            [
             0.3333333333333333,
             "#9c179e"
            ],
            [
             0.4444444444444444,
             "#bd3786"
            ],
            [
             0.5555555555555556,
             "#d8576b"
            ],
            [
             0.6666666666666666,
             "#ed7953"
            ],
            [
             0.7777777777777778,
             "#fb9f3a"
            ],
            [
             0.8888888888888888,
             "#fdca26"
            ],
            [
             1,
             "#f0f921"
            ]
           ],
           "sequentialminus": [
            [
             0,
             "#0d0887"
            ],
            [
             0.1111111111111111,
             "#46039f"
            ],
            [
             0.2222222222222222,
             "#7201a8"
            ],
            [
             0.3333333333333333,
             "#9c179e"
            ],
            [
             0.4444444444444444,
             "#bd3786"
            ],
            [
             0.5555555555555556,
             "#d8576b"
            ],
            [
             0.6666666666666666,
             "#ed7953"
            ],
            [
             0.7777777777777778,
             "#fb9f3a"
            ],
            [
             0.8888888888888888,
             "#fdca26"
            ],
            [
             1,
             "#f0f921"
            ]
           ]
          },
          "colorway": [
           "#636efa",
           "#EF553B",
           "#00cc96",
           "#ab63fa",
           "#FFA15A",
           "#19d3f3",
           "#FF6692",
           "#B6E880",
           "#FF97FF",
           "#FECB52"
          ],
          "font": {
           "color": "#2a3f5f"
          },
          "geo": {
           "bgcolor": "white",
           "lakecolor": "white",
           "landcolor": "#E5ECF6",
           "showlakes": true,
           "showland": true,
           "subunitcolor": "white"
          },
          "hoverlabel": {
           "align": "left"
          },
          "hovermode": "closest",
          "mapbox": {
           "style": "light"
          },
          "paper_bgcolor": "white",
          "plot_bgcolor": "#E5ECF6",
          "polar": {
           "angularaxis": {
            "gridcolor": "white",
            "linecolor": "white",
            "ticks": ""
           },
           "bgcolor": "#E5ECF6",
           "radialaxis": {
            "gridcolor": "white",
            "linecolor": "white",
            "ticks": ""
           }
          },
          "scene": {
           "xaxis": {
            "backgroundcolor": "#E5ECF6",
            "gridcolor": "white",
            "gridwidth": 2,
            "linecolor": "white",
            "showbackground": true,
            "ticks": "",
            "zerolinecolor": "white"
           },
           "yaxis": {
            "backgroundcolor": "#E5ECF6",
            "gridcolor": "white",
            "gridwidth": 2,
            "linecolor": "white",
            "showbackground": true,
            "ticks": "",
            "zerolinecolor": "white"
           },
           "zaxis": {
            "backgroundcolor": "#E5ECF6",
            "gridcolor": "white",
            "gridwidth": 2,
            "linecolor": "white",
            "showbackground": true,
            "ticks": "",
            "zerolinecolor": "white"
           }
          },
          "shapedefaults": {
           "line": {
            "color": "#2a3f5f"
           }
          },
          "ternary": {
           "aaxis": {
            "gridcolor": "white",
            "linecolor": "white",
            "ticks": ""
           },
           "baxis": {
            "gridcolor": "white",
            "linecolor": "white",
            "ticks": ""
           },
           "bgcolor": "#E5ECF6",
           "caxis": {
            "gridcolor": "white",
            "linecolor": "white",
            "ticks": ""
           }
          },
          "title": {
           "x": 0.05
          },
          "xaxis": {
           "automargin": true,
           "gridcolor": "white",
           "linecolor": "white",
           "ticks": "",
           "title": {
            "standoff": 15
           },
           "zerolinecolor": "white",
           "zerolinewidth": 2
          },
          "yaxis": {
           "automargin": true,
           "gridcolor": "white",
           "linecolor": "white",
           "ticks": "",
           "title": {
            "standoff": 15
           },
           "zerolinecolor": "white",
           "zerolinewidth": 2
          }
         }
        },
        "title": {
         "font": {
          "color": "Black",
          "size": 22
         },
         "text": "<b>Similarity Matrix",
         "x": 0.55,
         "xanchor": "center",
         "y": 0.95,
         "yanchor": "top"
        },
        "width": 1000,
        "xaxis": {
         "anchor": "y",
         "constrain": "domain",
         "domain": [
          0,
          1
         ],
         "scaleanchor": "y"
        },
        "yaxis": {
         "anchor": "x",
         "autorange": "reversed",
         "constrain": "domain",
         "domain": [
          0,
          1
         ]
        }
       }
      },
      "text/html": [
       "<div>                            <div id=\"d8720094-6c27-49f8-805d-6f48c798f2c5\" class=\"plotly-graph-div\" style=\"height:1000px; width:1000px;\"></div>            <script type=\"text/javascript\">                require([\"plotly\"], function(Plotly) {                    window.PLOTLYENV=window.PLOTLYENV || {};                                    if (document.getElementById(\"d8720094-6c27-49f8-805d-6f48c798f2c5\")) {                    Plotly.newPlot(                        \"d8720094-6c27-49f8-805d-6f48c798f2c5\",                        [{\"coloraxis\": \"coloraxis\", \"hovertemplate\": \"x: %{x}<br>y: %{y}<br>Similarity Score: %{z}<extra></extra>\", \"name\": \"0\", \"type\": \"heatmap\", \"x\": [\"-1_you_my_drivers\", \"0_affordable_promo_cheaper\", \"1_time_minutes_convenient\", \"2_nice_good_best\", \"3_love_its_good\", \"4_safe_efficient_reliable\", \"5_drivers_taxify_driver\", \"6_phone_sms_number\", \"7_friendly_driver_drivers\", \"8_drivers_app_friendly\", \"14_uber_great_good\", \"9_perfect_awesome_exceptional\", \"13_great_kenya_ghana\", \"10_location_gps_map\", \"11_card_account_cancel\", \"12_app_download_application\", \"15_ride_rides_good\", \"16_transport_transportation...\", \"17_comfortable_clean_cars\", \"18_app_useful_job\", \"19_service_good_drivers\"], \"xaxis\": \"x\", \"y\": [\"-1_you_my_drivers\", \"0_affordable_promo_cheaper\", \"1_time_minutes_convenient\", \"2_nice_good_best\", \"3_love_its_good\", \"4_safe_efficient_reliable\", \"5_drivers_taxify_driver\", \"6_phone_sms_number\", \"7_friendly_driver_drivers\", \"8_drivers_app_friendly\", \"14_uber_great_good\", \"9_perfect_awesome_exceptional\", \"13_great_kenya_ghana\", \"10_location_gps_map\", \"11_card_account_cancel\", \"12_app_download_application\", \"15_ride_rides_good\", \"16_transport_transportation...\", \"17_comfortable_clean_cars\", \"18_app_useful_job\", \"19_service_good_drivers\"], \"yaxis\": \"y\", \"z\": [[0.9999999999999996, 0.41149892988736203, 0.6463939277198989, 0.5987376945102943, 0.6856144539997712, 0.4876461608084287, 0.840223216581617, 0.42137671903517127, 0.7515884315904486, 0.7125751571719219, 0.6440103821589425, 0.5602684535543924, 0.5797987547789514, 0.42987371373941496, 0.5332316581182037, 0.3389161641854448, 0.7483952136041058, 0.6557049446211058, 0.647472792281738, 0.5461774444161347, 0.6607962737748037], [0.41149892988736203, 1.0, 0.5188421958243723, 0.38412174902100665, 0.3697889484748143, 0.53380031506781, 0.4539674480480299, 0.41937345672455273, 0.41766115902713874, 0.5279548615086398, 0.6011086067386919, 0.3144883856244014, 0.29985310842361323, 0.30893725272826, 0.5608906259648353, 0.49149545119851434, 0.5643245540900175, 0.5120416912413804, 0.4596873840350075, 0.4735672632412074, 0.4732536550749103], [0.6463939277198989, 0.5188421958243723, 0.9999999999999997, 0.5268219758787457, 0.5112678348850435, 0.6393272321993008, 0.6247359056523342, 0.4586241893849916, 0.5868958879524065, 0.5962384946597366, 0.5940619832252441, 0.4687239694940369, 0.4473110172185855, 0.36402738617622377, 0.4712368686770109, 0.3666825202680848, 0.5913808169659285, 0.5946192512431756, 0.6307341859763325, 0.5218050000487622, 0.5702291072656331], [0.5987376945102943, 0.38412174902100665, 0.5268219758787457, 1.0, 0.7549024440033403, 0.7418178532070405, 0.5120470437579774, 0.3018560181938904, 0.7149876722460891, 0.8373756160299309, 0.8605699530869577, 0.8851958838902668, 0.8012639410128026, 0.28528537325822223, 0.3168958739693729, 0.2808304813817216, 0.7242341692522405, 0.43273304027748993, 0.6832819891646966, 0.6151930033983343, 0.7228798285643061], [0.6856144539997712, 0.3697889484748143, 0.5112678348850435, 0.7549024440033403, 0.9999999999999994, 0.5559362846389404, 0.5443931557354577, 0.4299868229446263, 0.5940605722674637, 0.7367137689292411, 0.6802573173104269, 0.7048029478740843, 0.7211059417896309, 0.3588077494482304, 0.4061250834296809, 0.4522656936323277, 0.6333972050748198, 0.48765507146269393, 0.5183086688946723, 0.6026774184170003, 0.6967673710192065], [0.4876461608084287, 0.53380031506781, 0.6393272321993008, 0.7418178532070405, 0.5559362846389404, 0.9999999999999998, 0.521644532254203, 0.4221353157358227, 0.6482647006102945, 0.7064072450672052, 0.7626122212665842, 0.5841818345228325, 0.5383872626371208, 0.3253109581097636, 0.43717248307938184, 0.40639269627897145, 0.5953930149667443, 0.5153094859552599, 0.7502835331046231, 0.701222745198755, 0.7061428125118655], [0.840223216581617, 0.4539674480480299, 0.6247359056523342, 0.5120470437579774, 0.5443931557354577, 0.521644532254203, 1.0000000000000002, 0.4975113685452248, 0.8130770243208, 0.7011599487414728, 0.6835381312942461, 0.44883765751668153, 0.4977407799476899, 0.39458367487507817, 0.5576901251146075, 0.3354045761096674, 0.603892461990331, 0.6035909535481128, 0.6932194723838568, 0.609321663166677, 0.7396514697545601], [0.42137671903517127, 0.41937345672455273, 0.4586241893849916, 0.3018560181938904, 0.4299868229446263, 0.4221353157358227, 0.4975113685452248, 1.0000000000000004, 0.3793347233930289, 0.5041287723253299, 0.4134622823634143, 0.2334420378922111, 0.30321749888745037, 0.4586698962878652, 0.526373350508013, 0.552273752335296, 0.3215352631343833, 0.4363960011347785, 0.3350922028732463, 0.6067313545306782, 0.6087972470157366], [0.7515884315904486, 0.41766115902713874, 0.5868958879524065, 0.7149876722460891, 0.5940605722674637, 0.6482647006102945, 0.8130770243208, 0.3793347233930289, 1.0000000000000002, 0.871100407320078, 0.7113094626725379, 0.6016145496440634, 0.5867470767311773, 0.3799450182609625, 0.46082770464030665, 0.29365963331626266, 0.693015253647925, 0.539061272217255, 0.8396701230277215, 0.5502424148480862, 0.7274191149445414], [0.7125751571719219, 0.5279548615086398, 0.5962384946597366, 0.8373756160299309, 0.7367137689292411, 0.7064072450672052, 0.7011599487414728, 0.5041287723253299, 0.871100407320078, 0.9999999999999999, 0.806778443666611, 0.7765542999785139, 0.7466450971531317, 0.42313625901984875, 0.46396185459969347, 0.5065652531990865, 0.7360316222068204, 0.5200334435862066, 0.7334562380069651, 0.7033136922310971, 0.7803719395642553], [0.6440103821589425, 0.6011086067386919, 0.5940619832252441, 0.8605699530869577, 0.6802573173104269, 0.7626122212665842, 0.6835381312942461, 0.4134622823634143, 0.7113094626725379, 0.806778443666611, 0.9999999999999994, 0.7540723244484397, 0.7295892824418716, 0.35550053847779767, 0.44901108467329176, 0.40155210186142254, 0.7232308132711389, 0.5788359310081771, 0.6828668367912452, 0.6768374853753949, 0.7986435667685798], [0.5602684535543924, 0.3144883856244014, 0.4687239694940369, 0.8851958838902668, 0.7048029478740843, 0.5841818345228325, 0.44883765751668153, 0.2334420378922111, 0.6016145496440634, 0.7765542999785139, 0.7540723244484397, 1.0000000000000002, 0.8270114624707905, 0.28262784960518883, 0.24344099371300226, 0.2832519982099636, 0.6229301192190231, 0.3729128049472071, 0.5357899764295424, 0.4829429218625342, 0.6425717419262557], [0.5797987547789514, 0.29985310842361323, 0.4473110172185855, 0.8012639410128026, 0.7211059417896309, 0.5383872626371208, 0.4977407799476899, 0.30321749888745037, 0.5867470767311773, 0.7466450971531317, 0.7295892824418716, 0.8270114624707905, 1.0000000000000002, 0.3319720310012932, 0.3201319941959844, 0.25478693687341447, 0.5555401755997087, 0.3972299742375877, 0.4573211881081883, 0.4981604414030324, 0.6581295714200361], [0.42987371373941496, 0.30893725272826, 0.36402738617622377, 0.28528537325822223, 0.3588077494482304, 0.3253109581097636, 0.39458367487507817, 0.4586698962878652, 0.3799450182609625, 0.42313625901984875, 0.35550053847779767, 0.28262784960518883, 0.3319720310012932, 1.0000000000000002, 0.30195036217683174, 0.3605637844862054, 0.31828709513176917, 0.5303820938212636, 0.34148402494280583, 0.4021306129783583, 0.4279368575379564], [0.5332316581182037, 0.5608906259648353, 0.4712368686770109, 0.3168958739693729, 0.4061250834296809, 0.43717248307938184, 0.5576901251146075, 0.526373350508013, 0.46082770464030665, 0.46396185459969347, 0.44901108467329176, 0.24344099371300226, 0.3201319941959844, 0.30195036217683174, 1.0, 0.3362494886617231, 0.4385402851735396, 0.47312254127853826, 0.40748657828059276, 0.4387072171028029, 0.5126620030488929], [0.3389161641854448, 0.49149545119851434, 0.3666825202680848, 0.2808304813817216, 0.4522656936323277, 0.40639269627897145, 0.3354045761096674, 0.552273752335296, 0.29365963331626266, 0.5065652531990865, 0.40155210186142254, 0.2832519982099636, 0.25478693687341447, 0.3605637844862054, 0.3362494886617231, 1.0000000000000007, 0.35211672810122935, 0.4149478632167404, 0.27945301711575515, 0.6021211926108953, 0.3958447205032553], [0.7483952136041058, 0.5643245540900175, 0.5913808169659285, 0.7242341692522405, 0.6333972050748198, 0.5953930149667443, 0.603892461990331, 0.3215352631343833, 0.693015253647925, 0.7360316222068204, 0.7232308132711389, 0.6229301192190231, 0.5555401755997087, 0.31828709513176917, 0.4385402851735396, 0.35211672810122935, 1.0, 0.6385146790292715, 0.6791178924551795, 0.5607785366166449, 0.622901359953956], [0.6557049446211058, 0.5120416912413804, 0.5946192512431756, 0.43273304027748993, 0.48765507146269393, 0.5153094859552599, 0.6035909535481128, 0.4363960011347785, 0.539061272217255, 0.5200334435862066, 0.5788359310081771, 0.3729128049472071, 0.3972299742375877, 0.5303820938212636, 0.47312254127853826, 0.4149478632167404, 0.6385146790292715, 1.0000000000000002, 0.560295266405417, 0.5290018354444339, 0.5435414206287855], [0.647472792281738, 0.4596873840350075, 0.6307341859763325, 0.6832819891646966, 0.5183086688946723, 0.7502835331046231, 0.6932194723838568, 0.3350922028732463, 0.8396701230277215, 0.7334562380069651, 0.6828668367912452, 0.5357899764295424, 0.4573211881081883, 0.34148402494280583, 0.40748657828059276, 0.27945301711575515, 0.6791178924551795, 0.560295266405417, 1.0000000000000004, 0.5779398937270281, 0.646372441952831], [0.5461774444161347, 0.4735672632412074, 0.5218050000487622, 0.6151930033983343, 0.6026774184170003, 0.701222745198755, 0.609321663166677, 0.6067313545306782, 0.5502424148480862, 0.7033136922310971, 0.6768374853753949, 0.4829429218625342, 0.4981604414030324, 0.4021306129783583, 0.4387072171028029, 0.6021211926108953, 0.5607785366166449, 0.5290018354444339, 0.5779398937270281, 1.0000000000000002, 0.7462131122718662], [0.6607962737748037, 0.4732536550749103, 0.5702291072656331, 0.7228798285643061, 0.6967673710192065, 0.7061428125118655, 0.7396514697545601, 0.6087972470157366, 0.7274191149445414, 0.7803719395642553, 0.7986435667685798, 0.6425717419262557, 0.6581295714200361, 0.4279368575379564, 0.5126620030488929, 0.3958447205032553, 0.622901359953956, 0.5435414206287855, 0.646372441952831, 0.7462131122718662, 1.0]]}],                        {\"coloraxis\": {\"colorbar\": {\"title\": {\"text\": \"Similarity Score\"}}, \"colorscale\": [[0.0, \"rgb(247,252,240)\"], [0.125, \"rgb(224,243,219)\"], [0.25, \"rgb(204,235,197)\"], [0.375, \"rgb(168,221,181)\"], [0.5, \"rgb(123,204,196)\"], [0.625, \"rgb(78,179,211)\"], [0.75, \"rgb(43,140,190)\"], [0.875, \"rgb(8,104,172)\"], [1.0, \"rgb(8,64,129)\"]]}, \"height\": 1000, \"hoverlabel\": {\"bgcolor\": \"white\", \"font\": {\"family\": \"Rockwell\", \"size\": 16}}, \"legend\": {\"title\": {\"text\": \"Trend\"}}, \"margin\": {\"t\": 60}, \"showlegend\": true, \"template\": {\"data\": {\"bar\": [{\"error_x\": {\"color\": \"#2a3f5f\"}, \"error_y\": {\"color\": \"#2a3f5f\"}, \"marker\": {\"line\": {\"color\": \"#E5ECF6\", \"width\": 0.5}}, \"type\": \"bar\"}], \"barpolar\": [{\"marker\": {\"line\": {\"color\": \"#E5ECF6\", \"width\": 0.5}}, \"type\": \"barpolar\"}], \"carpet\": [{\"aaxis\": {\"endlinecolor\": \"#2a3f5f\", \"gridcolor\": \"white\", \"linecolor\": \"white\", \"minorgridcolor\": \"white\", \"startlinecolor\": \"#2a3f5f\"}, \"baxis\": {\"endlinecolor\": \"#2a3f5f\", \"gridcolor\": \"white\", \"linecolor\": \"white\", \"minorgridcolor\": \"white\", \"startlinecolor\": \"#2a3f5f\"}, \"type\": \"carpet\"}], \"choropleth\": [{\"colorbar\": {\"outlinewidth\": 0, \"ticks\": \"\"}, \"type\": \"choropleth\"}], \"contour\": [{\"colorbar\": {\"outlinewidth\": 0, \"ticks\": \"\"}, \"colorscale\": [[0.0, \"#0d0887\"], [0.1111111111111111, \"#46039f\"], [0.2222222222222222, \"#7201a8\"], [0.3333333333333333, \"#9c179e\"], [0.4444444444444444, \"#bd3786\"], [0.5555555555555556, \"#d8576b\"], [0.6666666666666666, \"#ed7953\"], [0.7777777777777778, \"#fb9f3a\"], [0.8888888888888888, \"#fdca26\"], [1.0, \"#f0f921\"]], \"type\": \"contour\"}], \"contourcarpet\": [{\"colorbar\": {\"outlinewidth\": 0, \"ticks\": \"\"}, \"type\": \"contourcarpet\"}], \"heatmap\": [{\"colorbar\": {\"outlinewidth\": 0, \"ticks\": \"\"}, \"colorscale\": [[0.0, \"#0d0887\"], [0.1111111111111111, \"#46039f\"], [0.2222222222222222, \"#7201a8\"], [0.3333333333333333, \"#9c179e\"], [0.4444444444444444, \"#bd3786\"], [0.5555555555555556, \"#d8576b\"], [0.6666666666666666, \"#ed7953\"], [0.7777777777777778, \"#fb9f3a\"], [0.8888888888888888, \"#fdca26\"], [1.0, \"#f0f921\"]], \"type\": \"heatmap\"}], \"heatmapgl\": [{\"colorbar\": {\"outlinewidth\": 0, \"ticks\": \"\"}, \"colorscale\": [[0.0, \"#0d0887\"], [0.1111111111111111, \"#46039f\"], [0.2222222222222222, \"#7201a8\"], [0.3333333333333333, \"#9c179e\"], [0.4444444444444444, \"#bd3786\"], [0.5555555555555556, \"#d8576b\"], [0.6666666666666666, \"#ed7953\"], [0.7777777777777778, \"#fb9f3a\"], [0.8888888888888888, \"#fdca26\"], [1.0, \"#f0f921\"]], \"type\": \"heatmapgl\"}], \"histogram\": [{\"marker\": {\"colorbar\": {\"outlinewidth\": 0, \"ticks\": \"\"}}, \"type\": \"histogram\"}], \"histogram2d\": [{\"colorbar\": {\"outlinewidth\": 0, \"ticks\": \"\"}, \"colorscale\": [[0.0, \"#0d0887\"], [0.1111111111111111, \"#46039f\"], [0.2222222222222222, \"#7201a8\"], [0.3333333333333333, \"#9c179e\"], [0.4444444444444444, \"#bd3786\"], [0.5555555555555556, \"#d8576b\"], [0.6666666666666666, \"#ed7953\"], [0.7777777777777778, \"#fb9f3a\"], [0.8888888888888888, \"#fdca26\"], [1.0, \"#f0f921\"]], \"type\": \"histogram2d\"}], \"histogram2dcontour\": [{\"colorbar\": {\"outlinewidth\": 0, \"ticks\": \"\"}, \"colorscale\": [[0.0, \"#0d0887\"], [0.1111111111111111, \"#46039f\"], [0.2222222222222222, \"#7201a8\"], [0.3333333333333333, \"#9c179e\"], [0.4444444444444444, \"#bd3786\"], [0.5555555555555556, \"#d8576b\"], [0.6666666666666666, \"#ed7953\"], [0.7777777777777778, \"#fb9f3a\"], [0.8888888888888888, \"#fdca26\"], [1.0, \"#f0f921\"]], \"type\": \"histogram2dcontour\"}], \"mesh3d\": [{\"colorbar\": {\"outlinewidth\": 0, \"ticks\": \"\"}, \"type\": \"mesh3d\"}], \"parcoords\": [{\"line\": {\"colorbar\": {\"outlinewidth\": 0, \"ticks\": \"\"}}, \"type\": \"parcoords\"}], \"pie\": [{\"automargin\": true, \"type\": \"pie\"}], \"scatter\": [{\"marker\": {\"colorbar\": {\"outlinewidth\": 0, \"ticks\": \"\"}}, \"type\": \"scatter\"}], \"scatter3d\": [{\"line\": {\"colorbar\": {\"outlinewidth\": 0, \"ticks\": \"\"}}, \"marker\": {\"colorbar\": {\"outlinewidth\": 0, \"ticks\": \"\"}}, \"type\": \"scatter3d\"}], \"scattercarpet\": [{\"marker\": {\"colorbar\": {\"outlinewidth\": 0, \"ticks\": \"\"}}, \"type\": \"scattercarpet\"}], \"scattergeo\": [{\"marker\": {\"colorbar\": {\"outlinewidth\": 0, \"ticks\": \"\"}}, \"type\": \"scattergeo\"}], \"scattergl\": [{\"marker\": {\"colorbar\": {\"outlinewidth\": 0, \"ticks\": \"\"}}, \"type\": \"scattergl\"}], \"scattermapbox\": [{\"marker\": {\"colorbar\": {\"outlinewidth\": 0, \"ticks\": \"\"}}, \"type\": \"scattermapbox\"}], \"scatterpolar\": [{\"marker\": {\"colorbar\": {\"outlinewidth\": 0, \"ticks\": \"\"}}, \"type\": \"scatterpolar\"}], \"scatterpolargl\": [{\"marker\": {\"colorbar\": {\"outlinewidth\": 0, \"ticks\": \"\"}}, \"type\": \"scatterpolargl\"}], \"scatterternary\": [{\"marker\": {\"colorbar\": {\"outlinewidth\": 0, \"ticks\": \"\"}}, \"type\": \"scatterternary\"}], \"surface\": [{\"colorbar\": {\"outlinewidth\": 0, \"ticks\": \"\"}, \"colorscale\": [[0.0, \"#0d0887\"], [0.1111111111111111, \"#46039f\"], [0.2222222222222222, \"#7201a8\"], [0.3333333333333333, \"#9c179e\"], [0.4444444444444444, \"#bd3786\"], [0.5555555555555556, \"#d8576b\"], [0.6666666666666666, \"#ed7953\"], [0.7777777777777778, \"#fb9f3a\"], [0.8888888888888888, \"#fdca26\"], [1.0, \"#f0f921\"]], \"type\": \"surface\"}], \"table\": [{\"cells\": {\"fill\": {\"color\": \"#EBF0F8\"}, \"line\": {\"color\": \"white\"}}, \"header\": {\"fill\": {\"color\": \"#C8D4E3\"}, \"line\": {\"color\": \"white\"}}, \"type\": \"table\"}]}, \"layout\": {\"annotationdefaults\": {\"arrowcolor\": \"#2a3f5f\", \"arrowhead\": 0, \"arrowwidth\": 1}, \"autotypenumbers\": \"strict\", \"coloraxis\": {\"colorbar\": {\"outlinewidth\": 0, \"ticks\": \"\"}}, \"colorscale\": {\"diverging\": [[0, \"#8e0152\"], [0.1, \"#c51b7d\"], [0.2, \"#de77ae\"], [0.3, \"#f1b6da\"], [0.4, \"#fde0ef\"], [0.5, \"#f7f7f7\"], [0.6, \"#e6f5d0\"], [0.7, \"#b8e186\"], [0.8, \"#7fbc41\"], [0.9, \"#4d9221\"], [1, \"#276419\"]], \"sequential\": [[0.0, \"#0d0887\"], [0.1111111111111111, \"#46039f\"], [0.2222222222222222, \"#7201a8\"], [0.3333333333333333, \"#9c179e\"], [0.4444444444444444, \"#bd3786\"], [0.5555555555555556, \"#d8576b\"], [0.6666666666666666, \"#ed7953\"], [0.7777777777777778, \"#fb9f3a\"], [0.8888888888888888, \"#fdca26\"], [1.0, \"#f0f921\"]], \"sequentialminus\": [[0.0, \"#0d0887\"], [0.1111111111111111, \"#46039f\"], [0.2222222222222222, \"#7201a8\"], [0.3333333333333333, \"#9c179e\"], [0.4444444444444444, \"#bd3786\"], [0.5555555555555556, \"#d8576b\"], [0.6666666666666666, \"#ed7953\"], [0.7777777777777778, \"#fb9f3a\"], [0.8888888888888888, \"#fdca26\"], [1.0, \"#f0f921\"]]}, \"colorway\": [\"#636efa\", \"#EF553B\", \"#00cc96\", \"#ab63fa\", \"#FFA15A\", \"#19d3f3\", \"#FF6692\", \"#B6E880\", \"#FF97FF\", \"#FECB52\"], \"font\": {\"color\": \"#2a3f5f\"}, \"geo\": {\"bgcolor\": \"white\", \"lakecolor\": \"white\", \"landcolor\": \"#E5ECF6\", \"showlakes\": true, \"showland\": true, \"subunitcolor\": \"white\"}, \"hoverlabel\": {\"align\": \"left\"}, \"hovermode\": \"closest\", \"mapbox\": {\"style\": \"light\"}, \"paper_bgcolor\": \"white\", \"plot_bgcolor\": \"#E5ECF6\", \"polar\": {\"angularaxis\": {\"gridcolor\": \"white\", \"linecolor\": \"white\", \"ticks\": \"\"}, \"bgcolor\": \"#E5ECF6\", \"radialaxis\": {\"gridcolor\": \"white\", \"linecolor\": \"white\", \"ticks\": \"\"}}, \"scene\": {\"xaxis\": {\"backgroundcolor\": \"#E5ECF6\", \"gridcolor\": \"white\", \"gridwidth\": 2, \"linecolor\": \"white\", \"showbackground\": true, \"ticks\": \"\", \"zerolinecolor\": \"white\"}, \"yaxis\": {\"backgroundcolor\": \"#E5ECF6\", \"gridcolor\": \"white\", \"gridwidth\": 2, \"linecolor\": \"white\", \"showbackground\": true, \"ticks\": \"\", \"zerolinecolor\": \"white\"}, \"zaxis\": {\"backgroundcolor\": \"#E5ECF6\", \"gridcolor\": \"white\", \"gridwidth\": 2, \"linecolor\": \"white\", \"showbackground\": true, \"ticks\": \"\", \"zerolinecolor\": \"white\"}}, \"shapedefaults\": {\"line\": {\"color\": \"#2a3f5f\"}}, \"ternary\": {\"aaxis\": {\"gridcolor\": \"white\", \"linecolor\": \"white\", \"ticks\": \"\"}, \"baxis\": {\"gridcolor\": \"white\", \"linecolor\": \"white\", \"ticks\": \"\"}, \"bgcolor\": \"#E5ECF6\", \"caxis\": {\"gridcolor\": \"white\", \"linecolor\": \"white\", \"ticks\": \"\"}}, \"title\": {\"x\": 0.05}, \"xaxis\": {\"automargin\": true, \"gridcolor\": \"white\", \"linecolor\": \"white\", \"ticks\": \"\", \"title\": {\"standoff\": 15}, \"zerolinecolor\": \"white\", \"zerolinewidth\": 2}, \"yaxis\": {\"automargin\": true, \"gridcolor\": \"white\", \"linecolor\": \"white\", \"ticks\": \"\", \"title\": {\"standoff\": 15}, \"zerolinecolor\": \"white\", \"zerolinewidth\": 2}}}, \"title\": {\"font\": {\"color\": \"Black\", \"size\": 22}, \"text\": \"<b>Similarity Matrix\", \"x\": 0.55, \"xanchor\": \"center\", \"y\": 0.95, \"yanchor\": \"top\"}, \"width\": 1000, \"xaxis\": {\"anchor\": \"y\", \"constrain\": \"domain\", \"domain\": [0.0, 1.0], \"scaleanchor\": \"y\"}, \"yaxis\": {\"anchor\": \"x\", \"autorange\": \"reversed\", \"constrain\": \"domain\", \"domain\": [0.0, 1.0]}},                        {\"responsive\": true}                    ).then(function(){\n",
       "                            \n",
       "var gd = document.getElementById('d8720094-6c27-49f8-805d-6f48c798f2c5');\n",
       "var x = new MutationObserver(function (mutations, observer) {{\n",
       "        var display = window.getComputedStyle(gd).display;\n",
       "        if (!display || display === 'none') {{\n",
       "            console.log([gd, 'removed!']);\n",
       "            Plotly.purge(gd);\n",
       "            observer.disconnect();\n",
       "        }}\n",
       "}});\n",
       "\n",
       "// Listen for the removal of the full notebook cells\n",
       "var notebookContainer = gd.closest('#notebook-container');\n",
       "if (notebookContainer) {{\n",
       "    x.observe(notebookContainer, {childList: true});\n",
       "}}\n",
       "\n",
       "// Listen for the clearing of the current output cell\n",
       "var outputEl = gd.closest('.output');\n",
       "if (outputEl) {{\n",
       "    x.observe(outputEl, {childList: true});\n",
       "}}\n",
       "\n",
       "                        })                };                });            </script>        </div>"
      ]
     },
     "metadata": {},
     "output_type": "display_data"
    }
   ],
   "source": [
    "topic_model.visualize_heatmap(n_clusters=20, width=1000, height=1000)"
   ]
  },
  {
   "cell_type": "code",
   "execution_count": null,
   "id": "amber-retention",
   "metadata": {},
   "outputs": [],
   "source": []
  }
 ],
 "metadata": {
  "kernelspec": {
   "display_name": "Python 3 (ipykernel)",
   "language": "python",
   "name": "python3"
  },
  "language_info": {
   "codemirror_mode": {
    "name": "ipython",
    "version": 3
   },
   "file_extension": ".py",
   "mimetype": "text/x-python",
   "name": "python",
   "nbconvert_exporter": "python",
   "pygments_lexer": "ipython3",
   "version": "3.8.5"
  },
  "toc": {
   "base_numbering": 1,
   "nav_menu": {},
   "number_sections": true,
   "sideBar": true,
   "skip_h1_title": false,
   "title_cell": "Table of Contents",
   "title_sidebar": "Contents",
   "toc_cell": false,
   "toc_position": {},
   "toc_section_display": true,
   "toc_window_display": true
  }
 },
 "nbformat": 4,
 "nbformat_minor": 5
}
