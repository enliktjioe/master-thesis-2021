{
 "cells": [
  {
   "cell_type": "markdown",
   "metadata": {},
   "source": [
    "[![Open In Colab](https://colab.research.google.com/assets/colab-badge.svg)](https://colab.research.google.com/github/enliktjioe/master-thesis-2021/blob/main/notebooks/safe_feature_extraction.ipynb)"
   ]
  },
  {
   "cell_type": "markdown",
   "metadata": {},
   "source": [
    "# Preparation\n",
    "\n",
    "- wget http://nlp.stanford.edu/software/stanford-postagger-full-2016-10-31.zip\n",
    "- put in `references/re_2017_johann_et-al` (private files, licensed by the author)\n",
    "- Update in `FE_Safe.py` variable `path_to_model` and `path_to_jar` with absolute path to its directory\n",
    "\n",
    " \n",
    "**Required libraries**:\n",
    "```\n",
    "import nltk\n",
    "nltk.download('stopwords')\n",
    "nltk.download('punkt')\n",
    "```"
   ]
  },
  {
   "cell_type": "code",
   "execution_count": 1,
   "metadata": {},
   "outputs": [],
   "source": [
    "# Python path referencing\n",
    "import os\n",
    "import sys\n",
    "\n",
    "module_path = os.path.abspath(os.path.join('..'))\n",
    "if module_path not in sys.path:\n",
    "    sys.path.append(module_path+\"/references/re_2017_johann_et-al\")\n",
    "    \n",
    "import FE_SAFE as fs\n",
    "# print(sys.path)"
   ]
  },
  {
   "cell_type": "markdown",
   "metadata": {},
   "source": [
    "## [Test] Manual Copy Paste Review "
   ]
  },
  {
   "cell_type": "code",
   "execution_count": 3,
   "metadata": {},
   "outputs": [
    {
     "name": "stdout",
     "output_type": "stream",
     "text": [
      "CPU times: user 3.68 s, sys: 470 ms, total: 4.15 s\n",
      "Wall time: 1min 9s\n"
     ]
    },
    {
     "data": {
      "text/plain": [
       "{'ambassador anything',\n",
       " 'day driver understanding',\n",
       " 'encourage throughout journey',\n",
       " 'get contact bolt',\n",
       " 'instagram name teekezi',\n",
       " 'receive x',\n",
       " 'street house',\n",
       " 'write review'}"
      ]
     },
     "execution_count": 3,
     "metadata": {},
     "output_type": "execute_result"
    }
   ],
   "source": [
    "%%time\n",
    "\n",
    "\n",
    "example_review = \"\"\"\n",
    "        I love bolt. I don’t use uber often because one ride even if it’s short is like £11. Whereas from my high street to my house is £3. Not only that but their drivers are SUPER friendly! I was sick one day (my first time using bolt) and the driver was so understanding and encouraged me throughout my journey. Bolt is 100% recommended by me. I don’t write reviews so that’s how you know I defiantly recommend it. My Instagram name is: TeeKezi if you wish to get in contact with me about bolt. I’m not an ambassador 😂 or anything like that. Just super happy with the service I have been receiving x,5,Love it\n",
    "    \"\"\"\n",
    "\n",
    "#     feature_extractor = SAFE()\n",
    "feature_extractor = fs.SAFE()\n",
    "feature_extractor.extract_from_review(example_review)"
   ]
  },
  {
   "cell_type": "markdown",
   "metadata": {},
   "source": [
    "## Data Pre-Processing"
   ]
  },
  {
   "cell_type": "code",
   "execution_count": 4,
   "metadata": {},
   "outputs": [],
   "source": [
    "import pandas as pd"
   ]
  },
  {
   "cell_type": "code",
   "execution_count": 54,
   "metadata": {},
   "outputs": [],
   "source": [
    "bolt_path = \"../review_mining/csv_output/1_bolt/bolt_google_playstore_review.csv\"\n",
    "uber_path = \"../review_mining/csv_output/2_uber/uber_google_playstore_review.csv\"\n",
    "blablacar_path = \"../review_mining/csv_output/3_blablacar/blablacar_google_playstore_review.csv\"\n",
    "cabify_path = \"../review_mining/csv_output/4_cabify/cabify_google_playstore_review.csv\"\n",
    "via_path = \"../review_mining/csv_output/5_via/via_google_playstore_review.csv\"\n",
    "\n",
    "getaround_path = \"../review_mining/csv_output/6_getaround/getaround_google_playstore_review.csv\"\n",
    "ola_path = \"../review_mining/csv_output/7_olacabs/olacabs_google_playstore_review.csv\"\n",
    "taxieu_path = \"../review_mining/csv_output/8_taxieu/taxieu_google_playstore_review.csv\"\n",
    "freenow_path = \"../review_mining/csv_output/9_freenow/freenow_google_playstore_review.csv\"\n",
    "yandexgo_path = \"../review_mining/csv_output/10_yandexgo/yandexgo_google_playstore_review.csv\"\n",
    "\n",
    "review_col = [4] # column that contains review text\n",
    "number_of_rows = 1 # for testing, only used the first 100 rows of csv file"
   ]
  },
  {
   "cell_type": "code",
   "execution_count": 55,
   "metadata": {},
   "outputs": [],
   "source": [
    "review_bolt = pd.read_csv(bolt_path, usecols=review_col, nrows = number_of_rows)\n",
    "review_bolt = review_bolt.content.str.cat(sep='; ') # source = https://stackoverflow.com/a/33280080/2670476\n",
    "\n",
    "review_uber = pd.read_csv(uber_path, usecols=review_col, nrows = number_of_rows)\n",
    "review_uber = review_uber.content.str.cat(sep='; ') \n",
    "\n",
    "review_blablacar = pd.read_csv(blablacar_path, usecols=review_col, nrows = number_of_rows)\n",
    "review_blablacar = review_blablacar.content.str.cat(sep='; ') \n",
    "\n",
    "review_cabify = pd.read_csv(cabify_path, usecols=review_col, nrows = number_of_rows)\n",
    "review_cabify = review_cabify.content.str.cat(sep='; ') \n",
    "\n",
    "review_via = pd.read_csv(via_path, usecols=review_col, nrows = number_of_rows)\n",
    "review_via = review_via.content.str.cat(sep='; ')\n",
    "\n",
    "review_getaround = pd.read_csv(getaround_path, usecols=review_col, nrows = number_of_rows)\n",
    "review_getaround = review_getaround.content.str.cat(sep='; ')\n",
    "\n",
    "review_ola = pd.read_csv(ola_path, usecols=review_col, nrows = number_of_rows)\n",
    "review_ola = review_ola.content.str.cat(sep='; ') \n",
    "\n",
    "review_taxieu = pd.read_csv(taxieu_path, usecols=review_col, nrows = number_of_rows)\n",
    "review_taxieu = review_taxieu.content.str.cat(sep='; ') \n",
    "\n",
    "review_freenow = pd.read_csv(freenow_path, usecols=review_col, nrows = number_of_rows)\n",
    "review_freenow = review_freenow.content.str.cat(sep='; ') \n",
    "\n",
    "review_yandexgo = pd.read_csv(yandexgo_path, usecols=review_col, nrows = number_of_rows)\n",
    "review_yandexgo = review_yandexgo.content.str.cat(sep='; ')"
   ]
  },
  {
   "cell_type": "code",
   "execution_count": 56,
   "metadata": {},
   "outputs": [
    {
     "data": {
      "text/plain": [
       "\"In general, the app is awesome, but there are a couple of issues which don't give me the desired user experience. 1. The map is delaying from the driver's map, and is lagging when the driver gets another route than the one on the map. 2. I can't add MasterCard cards which were issued by another bank other than YooMoney (the issue is that I have a YooMoney card and a Visa one issued by anoyher bank, and I want to add another card issued by the same bank, which is MasterCard, and I can't add it)\""
      ]
     },
     "execution_count": 56,
     "metadata": {},
     "output_type": "execute_result"
    }
   ],
   "source": [
    "review_yandexgo"
   ]
  },
  {
   "cell_type": "markdown",
   "metadata": {},
   "source": [
    "# Google Play Store Reviews"
   ]
  },
  {
   "cell_type": "markdown",
   "metadata": {},
   "source": [
    "## Bolt"
   ]
  },
  {
   "cell_type": "code",
   "execution_count": 36,
   "metadata": {},
   "outputs": [
    {
     "name": "stdout",
     "output_type": "stream",
     "text": [
      "CPU times: user 82 ms, sys: 271 ms, total: 353 ms\n",
      "Wall time: 42.8 s\n"
     ]
    },
    {
     "data": {
      "text/plain": [
       "{'catch flight',\n",
       " 'disappear show',\n",
       " 'find driver',\n",
       " 'go book',\n",
       " 'pm today',\n",
       " 'rid today',\n",
       " 'thing notice prenook trip'}"
      ]
     },
     "execution_count": 36,
     "metadata": {},
     "output_type": "execute_result"
    }
   ],
   "source": [
    "%%time\n",
    "\n",
    "feature_extractor = fs.SAFE()\n",
    "feature_extractor.extract_from_review(review_bolt)"
   ]
  },
  {
   "cell_type": "markdown",
   "metadata": {},
   "source": [
    "## Uber"
   ]
  },
  {
   "cell_type": "code",
   "execution_count": 42,
   "metadata": {},
   "outputs": [
    {
     "name": "stdout",
     "output_type": "stream",
     "text": [
      "CPU times: user 38.6 ms, sys: 112 ms, total: 151 ms\n",
      "Wall time: 18.5 s\n"
     ]
    },
    {
     "data": {
      "text/plain": [
       "{'cairn taxi mob', 'job guy', 'uber happy uber'}"
      ]
     },
     "execution_count": 42,
     "metadata": {},
     "output_type": "execute_result"
    }
   ],
   "source": [
    "%%time\n",
    "\n",
    "feature_extractor = fs.SAFE()\n",
    "feature_extractor.extract_from_review(review_uber)"
   ]
  },
  {
   "cell_type": "markdown",
   "metadata": {},
   "source": [
    "## Blablacar"
   ]
  },
  {
   "cell_type": "code",
   "execution_count": 43,
   "metadata": {},
   "outputs": [
    {
     "name": "stdout",
     "output_type": "stream",
     "text": [
      "CPU times: user 61.5 ms, sys: 184 ms, total: 246 ms\n",
      "Wall time: 30.4 s\n"
     ]
    },
    {
     "data": {
      "text/plain": [
       "{'afford full cab charge',\n",
       " 'cab service',\n",
       " 'run office',\n",
       " 'send cab',\n",
       " 'send car',\n",
       " 'star bcoz'}"
      ]
     },
     "execution_count": 43,
     "metadata": {},
     "output_type": "execute_result"
    }
   ],
   "source": [
    "%%time\n",
    "\n",
    "feature_extractor = fs.SAFE()\n",
    "feature_extractor.extract_from_review(review_blablacar)"
   ]
  },
  {
   "cell_type": "markdown",
   "metadata": {},
   "source": [
    "## Cabify"
   ]
  },
  {
   "cell_type": "code",
   "execution_count": 44,
   "metadata": {},
   "outputs": [
    {
     "name": "stdout",
     "output_type": "stream",
     "text": [
      "CPU times: user 94.6 ms, sys: 287 ms, total: 382 ms\n",
      "Wall time: 47.5 s\n"
     ]
    },
    {
     "data": {
      "text/plain": [
       "{'bisol taxi ride',\n",
       " 'chilling winter',\n",
       " 'deactivate leave',\n",
       " 'get pay',\n",
       " 'give email address',\n",
       " 'mexico city',\n",
       " 'submit form'}"
      ]
     },
     "execution_count": 44,
     "metadata": {},
     "output_type": "execute_result"
    }
   ],
   "source": [
    "%%time\n",
    "\n",
    "feature_extractor = fs.SAFE()\n",
    "feature_extractor.extract_from_review(review_cabify)"
   ]
  },
  {
   "cell_type": "markdown",
   "metadata": {},
   "source": [
    "## Via"
   ]
  },
  {
   "cell_type": "code",
   "execution_count": 45,
   "metadata": {},
   "outputs": [
    {
     "name": "stdout",
     "output_type": "stream",
     "text": [
      "CPU times: user 28.6 ms, sys: 71.5 ms, total: 100 ms\n",
      "Wall time: 10.9 s\n"
     ]
    },
    {
     "data": {
      "text/plain": [
       "{'know stop', 'want b pick'}"
      ]
     },
     "execution_count": 45,
     "metadata": {},
     "output_type": "execute_result"
    }
   ],
   "source": [
    "%%time\n",
    "\n",
    "feature_extractor = fs.SAFE()\n",
    "feature_extractor.extract_from_review(review_via)"
   ]
  },
  {
   "cell_type": "markdown",
   "metadata": {},
   "source": [
    "## Getaround"
   ]
  },
  {
   "cell_type": "code",
   "execution_count": 57,
   "metadata": {},
   "outputs": [
    {
     "name": "stdout",
     "output_type": "stream",
     "text": [
      "CPU times: user 80.4 ms, sys: 255 ms, total: 335 ms\n",
      "Wall time: 47.1 s\n"
     ]
    },
    {
     "data": {
      "text/plain": [
       "{'area car stand',\n",
       " 'frustrating upload',\n",
       " 'give star',\n",
       " 'hang helpline',\n",
       " 'idea top',\n",
       " 'photo car data',\n",
       " 'take photo car',\n",
       " 'time assistance'}"
      ]
     },
     "execution_count": 57,
     "metadata": {},
     "output_type": "execute_result"
    }
   ],
   "source": [
    "%%time\n",
    "\n",
    "feature_extractor = fs.SAFE()\n",
    "feature_extractor.extract_from_review(review_getaround)"
   ]
  },
  {
   "cell_type": "markdown",
   "metadata": {},
   "source": [
    "## Ola"
   ]
  },
  {
   "cell_type": "code",
   "execution_count": 58,
   "metadata": {},
   "outputs": [
    {
     "name": "stdout",
     "output_type": "stream",
     "text": [
      "CPU times: user 47.1 ms, sys: 131 ms, total: 178 ms\n",
      "Wall time: 38.4 s\n"
     ]
    },
    {
     "data": {
      "text/plain": [
       "{'account ola support team', 'login account', 'regard amit'}"
      ]
     },
     "execution_count": 58,
     "metadata": {},
     "output_type": "execute_result"
    }
   ],
   "source": [
    "%%time\n",
    "\n",
    "feature_extractor = fs.SAFE()\n",
    "feature_extractor.extract_from_review(review_ola)"
   ]
  },
  {
   "cell_type": "markdown",
   "metadata": {},
   "source": [
    "## Taxi.eu"
   ]
  },
  {
   "cell_type": "code",
   "execution_count": 59,
   "metadata": {},
   "outputs": [
    {
     "name": "stdout",
     "output_type": "stream",
     "text": [
      "CPU times: user 51.8 ms, sys: 138 ms, total: 190 ms\n",
      "Wall time: 40.3 s\n"
     ]
    },
    {
     "data": {
      "text/plain": [
       "{'pay amount order history', 'payment card work', 'time service'}"
      ]
     },
     "execution_count": 59,
     "metadata": {},
     "output_type": "execute_result"
    }
   ],
   "source": [
    "%%time\n",
    "\n",
    "feature_extractor = fs.SAFE()\n",
    "feature_extractor.extract_from_review(review_taxieu)"
   ]
  },
  {
   "cell_type": "markdown",
   "metadata": {},
   "source": [
    "## Free Now"
   ]
  },
  {
   "cell_type": "code",
   "execution_count": 60,
   "metadata": {},
   "outputs": [
    {
     "name": "stdout",
     "output_type": "stream",
     "text": [
      "CPU times: user 26.5 ms, sys: 51 ms, total: 77.5 ms\n",
      "Wall time: 10.2 s\n"
     ]
    },
    {
     "data": {
      "text/plain": [
       "{'ask taxi', 'authorize bank', 'keep start', 'school way', 'time taxi'}"
      ]
     },
     "execution_count": 60,
     "metadata": {},
     "output_type": "execute_result"
    }
   ],
   "source": [
    "%%time\n",
    "\n",
    "feature_extractor = fs.SAFE()\n",
    "feature_extractor.extract_from_review(review_freenow)"
   ]
  },
  {
   "cell_type": "markdown",
   "metadata": {},
   "source": [
    "## Yandex Go"
   ]
  },
  {
   "cell_type": "code",
   "execution_count": 61,
   "metadata": {},
   "outputs": [
    {
     "name": "stdout",
     "output_type": "stream",
     "text": [
      "CPU times: user 44.7 ms, sys: 109 ms, total: 154 ms\n",
      "Wall time: 20.3 s\n"
     ]
    },
    {
     "data": {
      "text/plain": [
       "{'add mastercard card issue',\n",
       " 'bank yoomoney',\n",
       " 'couple issue',\n",
       " 'give desire user experience'}"
      ]
     },
     "execution_count": 61,
     "metadata": {},
     "output_type": "execute_result"
    }
   ],
   "source": [
    "%%time\n",
    "\n",
    "feature_extractor = fs.SAFE()\n",
    "feature_extractor.extract_from_review(review_yandexgo)"
   ]
  },
  {
   "cell_type": "code",
   "execution_count": null,
   "metadata": {},
   "outputs": [],
   "source": []
  }
 ],
 "metadata": {
  "kernelspec": {
   "display_name": "Python 3",
   "language": "python",
   "name": "python3"
  },
  "language_info": {
   "codemirror_mode": {
    "name": "ipython",
    "version": 3
   },
   "file_extension": ".py",
   "mimetype": "text/x-python",
   "name": "python",
   "nbconvert_exporter": "python",
   "pygments_lexer": "ipython3",
   "version": "3.6.7"
  },
  "toc": {
   "base_numbering": 1,
   "nav_menu": {},
   "number_sections": true,
   "sideBar": true,
   "skip_h1_title": false,
   "title_cell": "Table of Contents",
   "title_sidebar": "Contents",
   "toc_cell": false,
   "toc_position": {
    "height": "calc(100% - 180px)",
    "left": "10px",
    "top": "150px",
    "width": "285.867px"
   },
   "toc_section_display": true,
   "toc_window_display": false
  }
 },
 "nbformat": 4,
 "nbformat_minor": 4
}
