{
 "cells": [
  {
   "cell_type": "markdown",
   "metadata": {},
   "source": [
    "# References"
   ]
  },
  {
   "cell_type": "markdown",
   "metadata": {},
   "source": [
    "# Modified from KEFE's preprocess_review.py"
   ]
  },
  {
   "cell_type": "code",
   "execution_count": 1,
   "metadata": {},
   "outputs": [
    {
     "name": "stdout",
     "output_type": "stream",
     "text": [
      "Python 3.6.3 :: Anaconda, Inc.\n",
      "/gpfs/space/home/enlik/GitRepo/master-thesis-2021/notebooks\n"
     ]
    }
   ],
   "source": [
    "!python --version\n",
    "!pwd"
   ]
  },
  {
   "cell_type": "code",
   "execution_count": 2,
   "metadata": {},
   "outputs": [
    {
     "name": "stderr",
     "output_type": "stream",
     "text": [
      "[nltk_data] Downloading package stopwords to\n",
      "[nltk_data]     /gpfs/space/home/enlik/nltk_data...\n",
      "[nltk_data]   Package stopwords is already up-to-date!\n",
      "/gpfs/space/home/enlik/.local/lib/python3.6/site-packages/gensim/similarities/__init__.py:15: UserWarning: The gensim.similarities.levenshtein submodule is disabled, because the optional Levenshtein package <https://pypi.org/project/python-Levenshtein/> is unavailable. Install Levenhstein (e.g. `pip install python-Levenshtein`) to suppress this warning.\n",
      "  warnings.warn(msg)\n"
     ]
    }
   ],
   "source": [
    "# from pl_utils import read_csv_from_gdrive, get_config, preprocess_review\n",
    "from utils import *\n",
    "\n",
    "import ssl\n",
    "ssl._create_default_https_context = ssl._create_unverified_context\n",
    "\n",
    "config = get_config('config.yaml')"
   ]
  },
  {
   "cell_type": "markdown",
   "metadata": {},
   "source": [
    "# Let's Get Started"
   ]
  },
  {
   "cell_type": "markdown",
   "metadata": {},
   "source": [
    "## Test"
   ]
  },
  {
   "cell_type": "code",
   "execution_count": 3,
   "metadata": {},
   "outputs": [
    {
     "name": "stdout",
     "output_type": "stream",
     "text": [
      "Total English reviews: 10000 \n",
      "\n",
      "Total unique users : 9911\n",
      "Total unknown users: 26\n",
      "Total users who gave multiple reviews: 63\n",
      "\n",
      "Average rating for this app based on the textual reviews: 3.3 \n",
      "\n"
     ]
    }
   ],
   "source": [
    "df = read_csv_from_gdrive(config['csv_input']['uber_google'])\n",
    "total_reviews = len(df)\n",
    "unique_users  = len(df['userName'].unique())\n",
    "unknown_users = len(df[df['userName']=='A Google user'])\n",
    "mean = df['score'].mean()\n",
    "\n",
    "print(f'Total English reviews: {total_reviews} \\n')\n",
    "print(f'Total unique users : {unique_users}')\n",
    "print(f'Total unknown users: {unknown_users}')\n",
    "print(f'Total users who gave multiple reviews: {total_reviews - unique_users - unknown_users}\\n')\n",
    "print(f'Average rating for this app based on the textual reviews: {round(mean,2)} \\n')"
   ]
  },
  {
   "cell_type": "code",
   "execution_count": 4,
   "metadata": {},
   "outputs": [
    {
     "data": {
      "text/plain": [
       "0       amazing just absolutely love the cheap fares a...\n",
       "1       superb services with uber cab  i loving it tha...\n",
       "2       always on time  courteous drivers  highly reco...\n",
       "3       i had to use lyft the last  days because uber ...\n",
       "4       terrible  drivers are rude and uber don t even...\n",
       "                              ...                        \n",
       "9995           still the best experience around the globe\n",
       "9996    the worst app which we are using today  instea...\n",
       "9997    uber is a time waster compared to just phoning...\n",
       "9998                           excellent service thus far\n",
       "9999                            convinient and accessible\n",
       "Name: content, Length: 10000, dtype: object"
      ]
     },
     "execution_count": 4,
     "metadata": {},
     "output_type": "execute_result"
    }
   ],
   "source": [
    "remove_things(df['content'])"
   ]
  },
  {
   "cell_type": "code",
   "execution_count": null,
   "metadata": {},
   "outputs": [],
   "source": []
  },
  {
   "cell_type": "code",
   "execution_count": null,
   "metadata": {},
   "outputs": [],
   "source": []
  }
 ],
 "metadata": {
  "kernelspec": {
   "display_name": "Python 3",
   "language": "python",
   "name": "python3"
  },
  "language_info": {
   "codemirror_mode": {
    "name": "ipython",
    "version": 3
   },
   "file_extension": ".py",
   "mimetype": "text/x-python",
   "name": "python",
   "nbconvert_exporter": "python",
   "pygments_lexer": "ipython3",
   "version": "3.6.3"
  },
  "toc": {
   "base_numbering": 1,
   "nav_menu": {},
   "number_sections": true,
   "sideBar": true,
   "skip_h1_title": false,
   "title_cell": "Table of Contents",
   "title_sidebar": "Contents",
   "toc_cell": false,
   "toc_position": {},
   "toc_section_display": true,
   "toc_window_display": true
  }
 },
 "nbformat": 4,
 "nbformat_minor": 5
}
