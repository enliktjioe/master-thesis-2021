{
 "cells": [
  {
   "cell_type": "markdown",
   "metadata": {},
   "source": [
    "Reference: https://github.com/JoMingyu/google-play-scraper"
   ]
  },
  {
   "cell_type": "markdown",
   "metadata": {},
   "source": [
    "## Library Needed"
   ]
  },
  {
   "cell_type": "code",
   "execution_count": 1,
   "metadata": {},
   "outputs": [],
   "source": [
    "# !pip install google-play-scraper"
   ]
  },
  {
   "cell_type": "code",
   "execution_count": 2,
   "metadata": {},
   "outputs": [],
   "source": [
    "# for macOS 10.12.6 issue - urllib and “SSL: CERTIFICATE_VERIFY_FAILED” Error\n",
    "# solution: https://stackoverflow.com/a/28052583/2670476\n",
    "import ssl\n",
    "ssl._create_default_https_context = ssl._create_unverified_context\n",
    "\n",
    "import pandas as pd"
   ]
  },
  {
   "cell_type": "markdown",
   "metadata": {},
   "source": [
    "## App Reviews"
   ]
  },
  {
   "cell_type": "code",
   "execution_count": 3,
   "metadata": {},
   "outputs": [],
   "source": [
    "from google_play_scraper import Sort, reviews_all\n",
    "\n",
    "result = reviews_all(\n",
    "    'ee.mtakso.client',\n",
    "    sleep_milliseconds=0, # defaults to 0\n",
    "    lang='en', # defaults to 'en'\n",
    "    country='ee', # defaults to 'us'\n",
    "    sort=Sort.MOST_RELEVANT, # defaults to Sort.MOST_RELEVANT\n",
    "    filter_score_with=None # defaults to None(means all score)\n",
    ")"
   ]
  },
  {
   "cell_type": "code",
   "execution_count": 4,
   "metadata": {},
   "outputs": [
    {
     "name": "stdout",
     "output_type": "stream",
     "text": [
      "                                                reviewId  \\\n",
      "0      gp:AOqpTOEUbAnaYcIN2Sbd1NZcVua0q2PTO0TyoWAqkO7...   \n",
      "1      gp:AOqpTOH2gFHcQU4H9AXXzKWK0X62gt5x7n-IlDEcn2v...   \n",
      "2      gp:AOqpTOEMutsgCZkVmIFx2KkpkZLb6nOXHrslm8aMOLp...   \n",
      "3      gp:AOqpTOEyN9Z2ESi9pXZ0nRFBewtnzQ76wyIk1yqKIo3...   \n",
      "4      gp:AOqpTOGnNJKA5lWUmq7V9n5VWnIh9E4_oNQoqgBALVw...   \n",
      "...                                                  ...   \n",
      "95404  gp:AOqpTOF_aowEkJApSIkCfPcKi95EUmDOFfWz2wAjcLX...   \n",
      "95405  gp:AOqpTOFDtDMZmPMzxQotuzeZxb7z8NAAApgWnn0i8rl...   \n",
      "95406  gp:AOqpTOGVXpxEf1t10WO7nPZhT-TKF_8yV1KIe5wAfTb...   \n",
      "95407  lg:AOqpTOEWgt3A--q8CIDNMlkBd6VB47DeoJxh6pFG9Ij...   \n",
      "95408  gp:AOqpTOH5LmWNd9qg6uDZXAZI0eZBT_Db6Ibh0RLuC5Y...   \n",
      "\n",
      "                          userName  \\\n",
      "0              Miguel Reis Orcinha   \n",
      "1                              E O   \n",
      "2      Thaayt there Sweet manchild   \n",
      "3                   Sifiso Magadla   \n",
      "4                   Muhammad Vahed   \n",
      "...                            ...   \n",
      "95404              jackline munyao   \n",
      "95405               shahid charles   \n",
      "95406                A Google user   \n",
      "95407                A Google user   \n",
      "95408                        Mar V   \n",
      "\n",
      "                                               userImage  \\\n",
      "0      https://play-lh.googleusercontent.com/-vPaiqIX...   \n",
      "1      https://play-lh.googleusercontent.com/-dkEXxoA...   \n",
      "2      https://play-lh.googleusercontent.com/a-/AOh14...   \n",
      "3      https://play-lh.googleusercontent.com/a-/AOh14...   \n",
      "4      https://play-lh.googleusercontent.com/-xCcQQDc...   \n",
      "...                                                  ...   \n",
      "95404  https://play-lh.googleusercontent.com/-fkYqoQu...   \n",
      "95405  https://play-lh.googleusercontent.com/a-/AOh14...   \n",
      "95406  https://play-lh.googleusercontent.com/EGemoI2N...   \n",
      "95407  https://play-lh.googleusercontent.com/EGemoI2N...   \n",
      "95408  https://play-lh.googleusercontent.com/-n9mRpDj...   \n",
      "\n",
      "                                                 content  score  \\\n",
      "0      Works well most of the time and is very compet...      4   \n",
      "1      The app does not make use of feedback intuitiv...      3   \n",
      "2      Great app. I love that Bolt came to Saint Pete...      5   \n",
      "3      I still enjoy it even though lately it has bee...      5   \n",
      "4      Great app . I love the app , its reliable and ...      4   \n",
      "...                                                  ...    ...   \n",
      "95404       l gzc😤😣😬😠😬😕😉😣😣😣😈😕😯😄😤😯😈😯😥😯😨😲😥😤😡😨😨😤😬😣😣😤😥😣😨😲; \"      5   \n",
      "95405        📹📼📼🎈📼📼📼📼📼💻📼⏰⏰🔐🔔🔔🔔🔔🐣😞😒😒😛🐱📱🐚🐚🐚🐚🐚🐚🐚🐚🐚🐚⛺🌅🌅🐣🐣🐣🐜🐟      5   \n",
      "95406                                               None      5   \n",
      "95407                                               None      1   \n",
      "95408                                               None      2   \n",
      "\n",
      "       thumbsUpCount reviewCreatedVersion                  at replyContent  \\\n",
      "0                 37              CA.6.18 2020-11-10 23:01:50         None   \n",
      "1                304              CA.6.18 2020-11-05 07:39:22         None   \n",
      "2                149              CA.6.18 2020-11-06 23:37:32         None   \n",
      "3                206              CA.6.18 2020-11-03 09:12:29         None   \n",
      "4                 68              CA.6.18 2020-11-04 08:40:19         None   \n",
      "...              ...                  ...                 ...          ...   \n",
      "95404              0                 None 2020-10-03 12:01:54         None   \n",
      "95405              0                 None 2020-06-24 13:28:50         None   \n",
      "95406              0                 None 2017-07-19 15:17:07         None   \n",
      "95407              0                 None 2016-10-26 17:44:38         None   \n",
      "95408              0                 None 2014-03-09 21:00:35         None   \n",
      "\n",
      "      repliedAt  \n",
      "0           NaT  \n",
      "1           NaT  \n",
      "2           NaT  \n",
      "3           NaT  \n",
      "4           NaT  \n",
      "...         ...  \n",
      "95404       NaT  \n",
      "95405       NaT  \n",
      "95406       NaT  \n",
      "95407       NaT  \n",
      "95408       NaT  \n",
      "\n",
      "[95409 rows x 10 columns]\n"
     ]
    }
   ],
   "source": [
    "df = pd.json_normalize(result)\n",
    "print(df)"
   ]
  },
  {
   "cell_type": "code",
   "execution_count": 5,
   "metadata": {},
   "outputs": [],
   "source": [
    "df.to_csv(\"bolt_google_playstore_review.csv\")"
   ]
  }
 ],
 "metadata": {
  "kernelspec": {
   "display_name": "Python 3",
   "language": "python",
   "name": "python3"
  },
  "language_info": {
   "codemirror_mode": {
    "name": "ipython",
    "version": 3
   },
   "file_extension": ".py",
   "mimetype": "text/x-python",
   "name": "python",
   "nbconvert_exporter": "python",
   "pygments_lexer": "ipython3",
   "version": "3.6.7"
  }
 },
 "nbformat": 4,
 "nbformat_minor": 2
}
