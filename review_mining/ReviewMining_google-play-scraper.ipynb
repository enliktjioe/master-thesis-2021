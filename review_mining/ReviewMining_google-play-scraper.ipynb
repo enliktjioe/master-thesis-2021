{
 "cells": [
  {
   "cell_type": "markdown",
   "metadata": {},
   "source": [
    "Reference: https://github.com/JoMingyu/google-play-scraper"
   ]
  },
  {
   "cell_type": "markdown",
   "metadata": {},
   "source": [
    "## Library Needed"
   ]
  },
  {
   "cell_type": "code",
   "execution_count": 1,
   "metadata": {},
   "outputs": [],
   "source": [
    "# !pip install google-play-scraper"
   ]
  },
  {
   "cell_type": "code",
   "execution_count": 2,
   "metadata": {},
   "outputs": [],
   "source": [
    "# for macOS 10.12.6 issue - urllib and “SSL: CERTIFICATE_VERIFY_FAILED” Error\n",
    "# solution: https://stackoverflow.com/a/28052583/2670476\n",
    "import ssl\n",
    "ssl._create_default_https_context = ssl._create_unverified_context\n",
    "\n",
    "import pandas as pd\n",
    "import yaml\n",
    "from google_play_scraper import Sort, reviews_all"
   ]
  },
  {
   "cell_type": "markdown",
   "metadata": {},
   "source": [
    "## Setup Input (App ID and country) and Output (CSV file name)"
   ]
  },
  {
   "cell_type": "code",
   "execution_count": 3,
   "metadata": {},
   "outputs": [],
   "source": [
    "config_file = open('config.yaml')\n",
    "config = yaml.load(config_file, Loader=yaml.FullLoader)"
   ]
  },
  {
   "cell_type": "code",
   "execution_count": 4,
   "metadata": {},
   "outputs": [],
   "source": [
    "list_of_app_id = [\n",
    "#     config['app_id']['bolt_google'],\n",
    "    config['app_id']['uber_google'],\n",
    "#     config['app_id']['blablacar_google'],\n",
    "    config['app_id']['cabify_google'],\n",
    "    config['app_id']['via_google'],\n",
    "    config['app_id']['getaround_google'],\n",
    "    config['app_id']['olacabs_google'],\n",
    "    config['app_id']['taxieu_google'],\n",
    "#     config['app_id']['freenow_google'],\n",
    "#     config['app_id']['yandexgo_google']\n",
    "]\n",
    "\n",
    "output_path = config['output_path']"
   ]
  },
  {
   "cell_type": "markdown",
   "metadata": {},
   "source": [
    "## App Reviews"
   ]
  },
  {
   "cell_type": "code",
   "execution_count": null,
   "metadata": {},
   "outputs": [],
   "source": [
    "for app_id in list_of_app_id:\n",
    "    result = reviews_all(\n",
    "        app_id,\n",
    "        lang='en', # defaults to 'en'\n",
    "        country='us', # defaults to 'us'\n",
    "        sort=Sort.MOST_RELEVANT, # defaults to Sort.MOST_RELEVANT\n",
    "        filter_score_with=None # defaults to None(means all score)\n",
    "    )\n",
    "    df = pd.json_normalize(result)\n",
    "    \n",
    "    csv_file_name = app_id + '_google_playstore_review.csv'\n",
    "    df.to_csv(output_path + csv_file_name)"
   ]
  }
 ],
 "metadata": {
  "kernelspec": {
   "display_name": "Python 3",
   "language": "python",
   "name": "python3"
  },
  "language_info": {
   "codemirror_mode": {
    "name": "ipython",
    "version": 3
   },
   "file_extension": ".py",
   "mimetype": "text/x-python",
   "name": "python",
   "nbconvert_exporter": "python",
   "pygments_lexer": "ipython3",
   "version": "3.6.7"
  }
 },
 "nbformat": 4,
 "nbformat_minor": 2
}
