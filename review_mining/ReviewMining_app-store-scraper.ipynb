{
 "cells": [
  {
   "cell_type": "markdown",
   "metadata": {},
   "source": [
    "Reference: https://github.com/cowboy-bebug/app-store-scraper"
   ]
  },
  {
   "cell_type": "code",
   "execution_count": 1,
   "metadata": {},
   "outputs": [],
   "source": [
    "# !pip install app-store-scraper"
   ]
  },
  {
   "cell_type": "code",
   "execution_count": 2,
   "metadata": {},
   "outputs": [],
   "source": [
    "import pandas as pd\n",
    "import yaml\n",
    "from app_store_scraper import AppStore\n",
    "from pprint import pprint"
   ]
  },
  {
   "cell_type": "markdown",
   "metadata": {},
   "source": [
    "## Setup Input (App ID and country) and Output (CSV file name)"
   ]
  },
  {
   "cell_type": "code",
   "execution_count": 3,
   "metadata": {},
   "outputs": [],
   "source": [
    "config_file = open('config.yaml')\n",
    "config = yaml.load(config_file, Loader=yaml.FullLoader)"
   ]
  },
  {
   "cell_type": "code",
   "execution_count": 4,
   "metadata": {},
   "outputs": [],
   "source": [
    "# app_id = config['app_id']['uber_apple']\n",
    "list_of_app_id = [\n",
    "    config['app_id']['bolt_apple'],\n",
    "#     config['app_id']['uber_apple'],\n",
    "#     config['app_id']['blablacar_apple'],\n",
    "#     config['app_id']['cabify_apple'],\n",
    "#     config['app_id']['via_apple'],\n",
    "#     config['app_id']['getaround_apple'],\n",
    "#     config['app_id']['olacabs_apple'],\n",
    "#     config['app_id']['taxieu_apple'],\n",
    "#     config['app_id']['freenow_apple'],\n",
    "#     config['app_id']['yandexgo_apple']\n",
    "]\n",
    "    \n",
    "list_of_country_code = config['country_code']\n",
    "output_path = config['output_path']"
   ]
  },
  {
   "cell_type": "code",
   "execution_count": 5,
   "metadata": {},
   "outputs": [
    {
     "name": "stderr",
     "output_type": "stream",
     "text": [
      "2020-12-22 00:33:33,893 [INFO] Base - Searching for app id\n",
      "2020-12-22 00:33:35,969 [INFO] Base - Initialised: AppStore('ee', 'free-now-mytaxi', 357852748)\n",
      "2020-12-22 00:33:35,971 [INFO] Base - Ready to fetch reviews from: https://apps.apple.com/ee/app/free-now-mytaxi/id357852748\n",
      "2020-12-22 00:33:54,342 [ERROR] Base - Something went wrong: HTTPSConnectionPool(host='amp-api.apps.apple.com', port=443): Max retries exceeded with url: /v1/catalog/ee/apps/357852748/reviews?l=en-GB&offset=0&limit=20&platform=web&additionalPlatforms=appletv%2Cipad%2Ciphone%2Cmac (Caused by ResponseError('too many 404 error responses',))\n",
      "2020-12-22 00:33:54,347 [INFO] Base - [id:357852748] Fetched 0 reviews (0 fetched in total)\n",
      "2020-12-22 00:33:54,354 [INFO] Base - Searching for app id\n",
      "2020-12-22 00:33:56,358 [INFO] Base - Initialised: AppStore('de', 'free-now-mytaxi', 357852748)\n",
      "2020-12-22 00:33:56,359 [INFO] Base - Ready to fetch reviews from: https://apps.apple.com/de/app/free-now-mytaxi/id357852748\n",
      "2020-12-22 00:34:15,133 [INFO] Base - [id:357852748] Fetched 20 reviews (20 fetched in total)\n",
      "2020-12-22 00:34:23,290 [INFO] Base - [id:357852748] Fetched 180 reviews (180 fetched in total)\n",
      "2020-12-22 00:34:32,248 [INFO] Base - [id:357852748] Fetched 360 reviews (360 fetched in total)\n",
      "2020-12-22 00:34:51,158 [INFO] Base - [id:357852748] Fetched 400 reviews (400 fetched in total)\n",
      "2020-12-22 00:34:58,118 [INFO] Base - [id:357852748] Fetched 460 reviews (460 fetched in total)\n",
      "2020-12-22 00:35:05,278 [INFO] Base - [id:357852748] Fetched 520 reviews (520 fetched in total)\n",
      "2020-12-22 00:35:29,302 [INFO] Base - [id:357852748] Fetched 880 reviews (880 fetched in total)\n",
      "2020-12-22 00:35:37,586 [INFO] Base - [id:357852748] Fetched 960 reviews (960 fetched in total)\n",
      "2020-12-22 00:35:52,276 [INFO] Base - [id:357852748] Fetched 1060 reviews (1060 fetched in total)\n",
      "2020-12-22 00:36:01,171 [INFO] Base - [id:357852748] Fetched 1260 reviews (1260 fetched in total)\n",
      "2020-12-22 00:36:10,160 [INFO] Base - [id:357852748] Fetched 1480 reviews (1480 fetched in total)\n",
      "2020-12-22 00:36:19,124 [INFO] Base - [id:357852748] Fetched 1640 reviews (1640 fetched in total)\n",
      "2020-12-22 00:36:27,251 [INFO] Base - [id:357852748] Fetched 1780 reviews (1780 fetched in total)\n",
      "2020-12-22 00:36:37,410 [INFO] Base - [id:357852748] Fetched 1940 reviews (1940 fetched in total)\n",
      "2020-12-22 00:36:45,328 [INFO] Base - [id:357852748] Fetched 2020 reviews (2020 fetched in total)\n",
      "2020-12-22 00:36:50,845 [INFO] Base - [id:357852748] Fetched 2340 reviews (2340 fetched in total)\n",
      "2020-12-22 00:36:56,356 [INFO] Base - [id:357852748] Fetched 2660 reviews (2660 fetched in total)\n",
      "2020-12-22 00:37:06,309 [INFO] Base - [id:357852748] Fetched 2860 reviews (2860 fetched in total)\n",
      "2020-12-22 00:37:13,366 [INFO] Base - [id:357852748] Fetched 2900 reviews (2900 fetched in total)\n",
      "2020-12-22 00:37:18,675 [INFO] Base - [id:357852748] Fetched 3220 reviews (3220 fetched in total)\n",
      "2020-12-22 00:37:28,403 [INFO] Base - [id:357852748] Fetched 3380 reviews (3380 fetched in total)\n",
      "2020-12-22 00:37:37,212 [INFO] Base - [id:357852748] Fetched 3500 reviews (3500 fetched in total)\n",
      "2020-12-22 00:37:44,276 [INFO] Base - [id:357852748] Fetched 3560 reviews (3560 fetched in total)\n",
      "2020-12-22 00:37:55,247 [INFO] Base - [id:357852748] Fetched 3800 reviews (3800 fetched in total)\n",
      "2020-12-22 00:38:02,457 [INFO] Base - [id:357852748] Fetched 3840 reviews (3840 fetched in total)\n",
      "2020-12-22 00:38:09,468 [INFO] Base - [id:357852748] Fetched 3880 reviews (3880 fetched in total)\n",
      "2020-12-22 00:38:15,195 [INFO] Base - [id:357852748] Fetched 4180 reviews (4180 fetched in total)\n",
      "2020-12-22 00:38:26,257 [INFO] Base - [id:357852748] Fetched 4400 reviews (4400 fetched in total)\n",
      "2020-12-22 00:38:31,586 [INFO] Base - [id:357852748] Fetched 4720 reviews (4720 fetched in total)\n",
      "2020-12-22 00:38:41,281 [INFO] Base - [id:357852748] Fetched 4940 reviews (4940 fetched in total)\n",
      "2020-12-22 00:38:46,613 [INFO] Base - [id:357852748] Fetched 5240 reviews (5240 fetched in total)\n",
      "2020-12-22 00:39:00,153 [INFO] Base - [id:357852748] Fetched 5280 reviews (5280 fetched in total)\n",
      "2020-12-22 00:39:10,393 [INFO] Base - [id:357852748] Fetched 5460 reviews (5460 fetched in total)\n",
      "2020-12-22 00:39:20,378 [INFO] Base - [id:357852748] Fetched 5620 reviews (5620 fetched in total)\n",
      "2020-12-22 00:39:29,443 [INFO] Base - [id:357852748] Fetched 5740 reviews (5740 fetched in total)\n",
      "2020-12-22 00:39:43,282 [INFO] Base - [id:357852748] Fetched 5800 reviews (5800 fetched in total)\n",
      "2020-12-22 00:40:04,285 [INFO] Base - [id:357852748] Fetched 5920 reviews (5920 fetched in total)\n",
      "2020-12-22 00:40:11,525 [INFO] Base - [id:357852748] Fetched 5960 reviews (5960 fetched in total)\n",
      "2020-12-22 00:40:19,412 [INFO] Base - [id:357852748] Fetched 6040 reviews (6040 fetched in total)\n",
      "2020-12-22 00:40:25,250 [INFO] Base - [id:357852748] Fetched 6300 reviews (6300 fetched in total)\n",
      "2020-12-22 00:40:33,250 [INFO] Base - [id:357852748] Fetched 6400 reviews (6400 fetched in total)\n",
      "2020-12-22 00:40:38,544 [INFO] Base - [id:357852748] Fetched 6840 reviews (6840 fetched in total)\n",
      "2020-12-22 00:40:43,800 [INFO] Base - [id:357852748] Fetched 7220 reviews (7220 fetched in total)\n",
      "2020-12-22 00:40:49,119 [INFO] Base - [id:357852748] Fetched 7700 reviews (7700 fetched in total)\n",
      "2020-12-22 00:40:56,163 [INFO] Base - [id:357852748] Fetched 7760 reviews (7760 fetched in total)\n",
      "2020-12-22 00:40:58,279 [INFO] Base - [id:357852748] Fetched 7954 reviews (7954 fetched in total)\n",
      "2020-12-22 00:40:58,659 [INFO] Base - Searching for app id\n",
      "2020-12-22 00:41:00,587 [INFO] Base - Initialised: AppStore('gb', 'free-now-mytaxi', 357852748)\n",
      "2020-12-22 00:41:00,589 [INFO] Base - Ready to fetch reviews from: https://apps.apple.com/gb/app/free-now-mytaxi/id357852748\n",
      "2020-12-22 00:41:08,207 [INFO] Base - [id:357852748] Fetched 120 reviews (120 fetched in total)\n",
      "2020-12-22 00:41:18,201 [INFO] Base - [id:357852748] Fetched 420 reviews (420 fetched in total)\n",
      "2020-12-22 00:41:27,157 [INFO] Base - [id:357852748] Fetched 680 reviews (680 fetched in total)\n",
      "2020-12-22 00:41:36,212 [INFO] Base - [id:357852748] Fetched 920 reviews (920 fetched in total)\n",
      "2020-12-22 00:41:43,208 [INFO] Base - [id:357852748] Fetched 980 reviews (980 fetched in total)\n",
      "2020-12-22 00:41:43,406 [INFO] Base - [id:357852748] Fetched 998 reviews (998 fetched in total)\n",
      "2020-12-22 00:41:43,471 [INFO] Base - Searching for app id\n",
      "2020-12-22 00:41:48,017 [INFO] Base - Initialised: AppStore('fr', 'free-now-mytaxi', 357852748)\n",
      "2020-12-22 00:41:48,018 [INFO] Base - Ready to fetch reviews from: https://apps.apple.com/fr/app/free-now-mytaxi/id357852748\n",
      "2020-12-22 00:41:57,205 [INFO] Base - [id:357852748] Fetched 240 reviews (240 fetched in total)\n",
      "2020-12-22 00:41:58,532 [INFO] Base - [id:357852748] Fetched 322 reviews (322 fetched in total)\n",
      "2020-12-22 00:41:58,553 [INFO] Base - Searching for app id\n",
      "2020-12-22 00:42:00,786 [INFO] Base - Initialised: AppStore('dk', 'free-now-mytaxi', 357852748)\n",
      "2020-12-22 00:42:00,787 [INFO] Base - Ready to fetch reviews from: https://apps.apple.com/dk/app/free-now-mytaxi/id357852748\n",
      "2020-12-22 00:42:01,195 [INFO] Base - [id:357852748] Fetched 31 reviews (31 fetched in total)\n",
      "2020-12-22 00:42:01,202 [INFO] Base - Searching for app id\n",
      "2020-12-22 00:42:03,119 [INFO] Base - Initialised: AppStore('se', 'free-now-mytaxi', 357852748)\n",
      "2020-12-22 00:42:03,120 [INFO] Base - Ready to fetch reviews from: https://apps.apple.com/se/app/free-now-mytaxi/id357852748\n",
      "2020-12-22 00:42:03,772 [INFO] Base - [id:357852748] Fetched 45 reviews (45 fetched in total)\n",
      "2020-12-22 00:42:03,802 [INFO] Base - Searching for app id\n",
      "2020-12-22 00:42:05,928 [INFO] Base - Initialised: AppStore('ee', 'yandex-go-taxi-and-delivery', 472650686)\n",
      "2020-12-22 00:42:05,929 [INFO] Base - Ready to fetch reviews from: https://apps.apple.com/ee/app/yandex-go-taxi-and-delivery/id472650686\n",
      "2020-12-22 00:42:06,560 [INFO] Base - [id:472650686] Fetched 42 reviews (42 fetched in total)\n",
      "2020-12-22 00:42:06,566 [INFO] Base - Searching for app id\n",
      "2020-12-22 00:42:09,693 [INFO] Base - Initialised: AppStore('de', 'yandex-go-taxi-and-delivery', 472650686)\n",
      "2020-12-22 00:42:09,694 [INFO] Base - Ready to fetch reviews from: https://apps.apple.com/de/app/yandex-go-taxi-and-delivery/id472650686\n"
     ]
    },
    {
     "name": "stderr",
     "output_type": "stream",
     "text": [
      "2020-12-22 00:42:10,275 [INFO] Base - [id:472650686] Fetched 37 reviews (37 fetched in total)\n",
      "2020-12-22 00:42:10,285 [INFO] Base - Searching for app id\n",
      "2020-12-22 00:42:13,442 [INFO] Base - Initialised: AppStore('gb', 'yandex-go-taxi-and-delivery', 472650686)\n",
      "2020-12-22 00:42:13,443 [INFO] Base - Ready to fetch reviews from: https://apps.apple.com/gb/app/yandex-go-taxi-and-delivery/id472650686\n",
      "2020-12-22 00:42:20,258 [INFO] Base - [id:472650686] Fetched 40 reviews (40 fetched in total)\n",
      "2020-12-22 00:42:20,490 [INFO] Base - [id:472650686] Fetched 60 reviews (60 fetched in total)\n",
      "2020-12-22 00:42:20,499 [INFO] Base - Searching for app id\n",
      "2020-12-22 00:42:23,200 [INFO] Base - Initialised: AppStore('fr', 'yandex-go-taxi-and-delivery', 472650686)\n",
      "2020-12-22 00:42:23,201 [INFO] Base - Ready to fetch reviews from: https://apps.apple.com/fr/app/yandex-go-taxi-and-delivery/id472650686\n",
      "2020-12-22 00:42:23,455 [INFO] Base - [id:472650686] Fetched 10 reviews (10 fetched in total)\n",
      "2020-12-22 00:42:23,463 [INFO] Base - Searching for app id\n",
      "2020-12-22 00:42:26,326 [INFO] Base - Initialised: AppStore('dk', 'yandex-go-taxi-and-delivery', 472650686)\n",
      "2020-12-22 00:42:26,327 [INFO] Base - Ready to fetch reviews from: https://apps.apple.com/dk/app/yandex-go-taxi-and-delivery/id472650686\n",
      "2020-12-22 00:42:26,551 [INFO] Base - [id:472650686] Fetched 3 reviews (3 fetched in total)\n",
      "2020-12-22 00:42:26,561 [INFO] Base - Searching for app id\n",
      "2020-12-22 00:42:30,562 [INFO] Base - Initialised: AppStore('se', 'yandex-go-taxi-and-delivery', 472650686)\n",
      "2020-12-22 00:42:30,563 [INFO] Base - Ready to fetch reviews from: https://apps.apple.com/se/app/yandex-go-taxi-and-delivery/id472650686\n",
      "2020-12-22 00:42:31,438 [INFO] Base - [id:472650686] Fetched 3 reviews (3 fetched in total)\n"
     ]
    }
   ],
   "source": [
    "for app_id in list_of_app_id:\n",
    "    df_merged = None\n",
    "    \n",
    "    for country_code in list_of_country_code:\n",
    "        appstore = AppStore(country=country_code, app_name=app_id)\n",
    "        appstore.review(how_many=100000)\n",
    "\n",
    "        if df_merged is not None:\n",
    "            df = pd.json_normalize(appstore.reviews)\n",
    "            df_merged.append(df)\n",
    "        else:\n",
    "            df_merged = pd.json_normalize(appstore.reviews)\n",
    "\n",
    "\n",
    "        csv_file_name = app_id + '_apple_appstore_review.csv'\n",
    "\n",
    "    df_merged.to_csv(output_path + csv_file_name)"
   ]
  }
 ],
 "metadata": {
  "kernelspec": {
   "display_name": "Python 3",
   "language": "python",
   "name": "python3"
  },
  "language_info": {
   "codemirror_mode": {
    "name": "ipython",
    "version": 3
   },
   "file_extension": ".py",
   "mimetype": "text/x-python",
   "name": "python",
   "nbconvert_exporter": "python",
   "pygments_lexer": "ipython3",
   "version": "3.6.7"
  }
 },
 "nbformat": 4,
 "nbformat_minor": 2
}
