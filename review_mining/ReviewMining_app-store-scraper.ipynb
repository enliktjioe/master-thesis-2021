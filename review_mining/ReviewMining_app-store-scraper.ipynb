{
 "cells": [
  {
   "cell_type": "markdown",
   "metadata": {},
   "source": [
    "Reference: https://github.com/cowboy-bebug/app-store-scraper"
   ]
  },
  {
   "cell_type": "code",
   "execution_count": 1,
   "metadata": {},
   "outputs": [],
   "source": [
    "# !pip install app-store-scraper"
   ]
  },
  {
   "cell_type": "code",
   "execution_count": 2,
   "metadata": {},
   "outputs": [],
   "source": [
    "import pandas as pd\n",
    "import yaml\n",
    "from app_store_scraper import AppStore\n",
    "from pprint import pprint"
   ]
  },
  {
   "cell_type": "markdown",
   "metadata": {},
   "source": [
    "## Setup Input (App ID and country) and Output (CSV file name)"
   ]
  },
  {
   "cell_type": "code",
   "execution_count": 3,
   "metadata": {},
   "outputs": [],
   "source": [
    "config_file = open('config.yaml')\n",
    "config = yaml.load(config_file, Loader=yaml.FullLoader)"
   ]
  },
  {
   "cell_type": "code",
   "execution_count": 4,
   "metadata": {},
   "outputs": [],
   "source": [
    "# app_id = config['app_id']['uber_apple']\n",
    "list_of_app_id = [\n",
    "#     config['app_id']['bolt_apple'],\n",
    "    config['app_id']['uber_apple'],\n",
    "    config['app_id']['blablacar_apple'],\n",
    "    config['app_id']['cabify_apple'],\n",
    "    config['app_id']['via_apple'],\n",
    "    config['app_id']['getaround_apple'],\n",
    "    config['app_id']['olacabs_apple'],\n",
    "    config['app_id']['taxieu_apple'],\n",
    "    config['app_id']['freenow_apple'],\n",
    "    config['app_id']['yandexgo_apple']\n",
    "]\n",
    "    \n",
    "list_of_country_code = config['country_code']\n",
    "output_path = config['output_path']"
   ]
  },
  {
   "cell_type": "code",
   "execution_count": null,
   "metadata": {},
   "outputs": [
    {
     "name": "stderr",
     "output_type": "stream",
     "text": [
      "2020-12-22 00:55:06,416 [INFO] Base - Searching for app id\n",
      "2020-12-22 00:55:08,671 [INFO] Base - Initialised: AppStore('gb', 'uber', 368677368)\n",
      "2020-12-22 00:55:08,673 [INFO] Base - Ready to fetch reviews from: https://apps.apple.com/gb/app/uber/id368677368\n",
      "2020-12-22 00:55:27,707 [ERROR] Base - Something went wrong: HTTPSConnectionPool(host='amp-api.apps.apple.com', port=443): Max retries exceeded with url: /v1/catalog/gb/apps/368677368/reviews?l=en-GB&offset=0&limit=20&platform=web&additionalPlatforms=appletv%2Cipad%2Ciphone%2Cmac (Caused by ResponseError('too many 429 error responses',))\n",
      "2020-12-22 00:55:27,710 [INFO] Base - [id:368677368] Fetched 0 reviews (0 fetched in total)\n",
      "2020-12-22 00:55:27,717 [INFO] Base - Searching for app id\n",
      "2020-12-22 00:55:29,992 [INFO] Base - Initialised: AppStore('fr', 'uber', 368677368)\n",
      "2020-12-22 00:55:29,993 [INFO] Base - Ready to fetch reviews from: https://apps.apple.com/fr/app/uber/id368677368\n",
      "2020-12-22 00:55:49,968 [ERROR] Base - Something went wrong: HTTPSConnectionPool(host='amp-api.apps.apple.com', port=443): Max retries exceeded with url: /v1/catalog/fr/apps/368677368/reviews?l=en-GB&offset=0&limit=20&platform=web&additionalPlatforms=appletv%2Cipad%2Ciphone%2Cmac (Caused by ResponseError('too many 429 error responses',))\n",
      "2020-12-22 00:55:49,971 [INFO] Base - [id:368677368] Fetched 0 reviews (0 fetched in total)\n",
      "2020-12-22 00:55:49,975 [INFO] Base - Searching for app id\n",
      "2020-12-22 00:55:53,437 [INFO] Base - Initialised: AppStore('it', 'uber', 368677368)\n",
      "2020-12-22 00:55:53,438 [INFO] Base - Ready to fetch reviews from: https://apps.apple.com/it/app/uber/id368677368\n",
      "2020-12-22 00:56:13,601 [ERROR] Base - Something went wrong: HTTPSConnectionPool(host='amp-api.apps.apple.com', port=443): Max retries exceeded with url: /v1/catalog/it/apps/368677368/reviews?l=en-GB&offset=0&limit=20&platform=web&additionalPlatforms=appletv%2Cipad%2Ciphone%2Cmac (Caused by ResponseError('too many 429 error responses',))\n",
      "2020-12-22 00:56:13,604 [INFO] Base - [id:368677368] Fetched 0 reviews (0 fetched in total)\n",
      "2020-12-22 00:56:13,608 [INFO] Base - Searching for app id\n",
      "2020-12-22 00:56:17,325 [INFO] Base - Initialised: AppStore('de', 'uber', 368677368)\n",
      "2020-12-22 00:56:17,326 [INFO] Base - Ready to fetch reviews from: https://apps.apple.com/de/app/uber/id368677368\n",
      "2020-12-22 00:56:36,631 [ERROR] Base - Something went wrong: HTTPSConnectionPool(host='amp-api.apps.apple.com', port=443): Max retries exceeded with url: /v1/catalog/de/apps/368677368/reviews?l=en-GB&offset=0&limit=20&platform=web&additionalPlatforms=appletv%2Cipad%2Ciphone%2Cmac (Caused by ResponseError('too many 429 error responses',))\n",
      "2020-12-22 00:56:36,637 [INFO] Base - [id:368677368] Fetched 0 reviews (0 fetched in total)\n",
      "2020-12-22 00:56:36,647 [INFO] Base - Searching for app id\n",
      "2020-12-22 00:56:40,154 [INFO] Base - Initialised: AppStore('es', 'uber', 368677368)\n",
      "2020-12-22 00:56:40,157 [INFO] Base - Ready to fetch reviews from: https://apps.apple.com/es/app/uber/id368677368\n",
      "2020-12-22 00:57:01,227 [INFO] Base - [id:368677368] Fetched 80 reviews (80 fetched in total)\n",
      "2020-12-22 00:57:20,097 [ERROR] Base - Something went wrong: HTTPSConnectionPool(host='amp-api.apps.apple.com', port=443): Max retries exceeded with url: /v1/catalog/es/apps/368677368/reviews?l=en-GB&offset=80&limit=20&platform=web&additionalPlatforms=appletv%2Cipad%2Ciphone%2Cmac (Caused by ResponseError('too many 429 error responses',))\n",
      "2020-12-22 00:57:20,102 [INFO] Base - [id:368677368] Fetched 80 reviews (80 fetched in total)\n",
      "2020-12-22 00:57:20,120 [INFO] Base - Searching for app id\n",
      "2020-12-22 00:57:21,962 [INFO] Base - Initialised: AppStore('ee', 'uber', 368677368)\n",
      "2020-12-22 00:57:21,963 [INFO] Base - Ready to fetch reviews from: https://apps.apple.com/ee/app/uber/id368677368\n",
      "2020-12-22 00:57:41,101 [ERROR] Base - Something went wrong: HTTPSConnectionPool(host='amp-api.apps.apple.com', port=443): Max retries exceeded with url: /v1/catalog/ee/apps/368677368/reviews?l=en-GB&offset=20&limit=20&platform=web&additionalPlatforms=appletv%2Cipad%2Ciphone%2Cmac (Caused by ResponseError('too many 429 error responses',))\n",
      "2020-12-22 00:57:41,104 [INFO] Base - [id:368677368] Fetched 20 reviews (20 fetched in total)\n",
      "2020-12-22 00:57:41,129 [INFO] Base - Searching for app id\n",
      "2020-12-22 00:57:43,245 [INFO] Base - Initialised: AppStore('gb', 'blablacar-carpooling-and-bus', 341329033)\n",
      "2020-12-22 00:57:43,246 [INFO] Base - Ready to fetch reviews from: https://apps.apple.com/gb/app/blablacar-carpooling-and-bus/id341329033\n",
      "2020-12-22 00:57:50,023 [INFO] Base - [id:341329033] Fetched 20 reviews (20 fetched in total)\n",
      "2020-12-22 00:58:08,727 [ERROR] Base - Something went wrong: HTTPSConnectionPool(host='amp-api.apps.apple.com', port=443): Max retries exceeded with url: /v1/catalog/gb/apps/341329033/reviews?l=en-GB&offset=20&limit=20&platform=web&additionalPlatforms=appletv%2Cipad%2Ciphone%2Cmac (Caused by ResponseError('too many 429 error responses',))\n",
      "2020-12-22 00:58:08,730 [INFO] Base - [id:341329033] Fetched 20 reviews (20 fetched in total)\n",
      "2020-12-22 00:58:08,737 [INFO] Base - Searching for app id\n"
     ]
    }
   ],
   "source": [
    "for app_id in list_of_app_id:\n",
    "    df_merged = None\n",
    "    \n",
    "    for country_code in list_of_country_code:\n",
    "        appstore = AppStore(country=country_code, app_name=app_id)\n",
    "        appstore.review(how_many=100000)\n",
    "\n",
    "        if df_merged is not None:\n",
    "            df = pd.json_normalize(appstore.reviews)\n",
    "            df_merged = df_merged.append(df)\n",
    "        else:\n",
    "            df_merged = pd.json_normalize(appstore.reviews)\n",
    "\n",
    "\n",
    "        csv_file_name = app_id + '_apple_appstore_review.csv'\n",
    "\n",
    "    df_merged.to_csv(output_path + csv_file_name)"
   ]
  }
 ],
 "metadata": {
  "kernelspec": {
   "display_name": "Python 3",
   "language": "python",
   "name": "python3"
  },
  "language_info": {
   "codemirror_mode": {
    "name": "ipython",
    "version": 3
   },
   "file_extension": ".py",
   "mimetype": "text/x-python",
   "name": "python",
   "nbconvert_exporter": "python",
   "pygments_lexer": "ipython3",
   "version": "3.6.7"
  }
 },
 "nbformat": 4,
 "nbformat_minor": 2
}
