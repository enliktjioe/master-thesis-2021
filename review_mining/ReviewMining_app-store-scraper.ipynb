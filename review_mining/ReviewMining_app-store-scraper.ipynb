{
 "cells": [
  {
   "cell_type": "markdown",
   "metadata": {},
   "source": [
    "Reference: https://github.com/cowboy-bebug/app-store-scraper"
   ]
  },
  {
   "cell_type": "code",
   "execution_count": 1,
   "metadata": {},
   "outputs": [],
   "source": [
    "# !pip install app-store-scraper"
   ]
  },
  {
   "cell_type": "code",
   "execution_count": 2,
   "metadata": {},
   "outputs": [],
   "source": [
    "import pandas as pd\n",
    "import yaml\n",
    "from app_store_scraper import AppStore\n",
    "from pprint import pprint"
   ]
  },
  {
   "cell_type": "markdown",
   "metadata": {},
   "source": [
    "## Setup Input (App ID and country) and Output (CSV file name)"
   ]
  },
  {
   "cell_type": "code",
   "execution_count": 3,
   "metadata": {},
   "outputs": [],
   "source": [
    "config_file = open('config.yaml')\n",
    "config = yaml.load(config_file, Loader=yaml.FullLoader)"
   ]
  },
  {
   "cell_type": "code",
   "execution_count": 4,
   "metadata": {},
   "outputs": [],
   "source": [
    "app_id = config['app_id']['uber_apple']\n",
    "country_code = config['country_code']\n",
    "csv_file_name = app_id + '_' + country_code + '_apple_appstore_review.csv'"
   ]
  },
  {
   "cell_type": "code",
   "execution_count": 5,
   "metadata": {},
   "outputs": [
    {
     "name": "stderr",
     "output_type": "stream",
     "text": [
      "2020-11-20 00:19:25,783 [INFO] Base - Searching for app id\n",
      "2020-11-20 00:19:29,344 [INFO] Base - Initialised: AppStore('gb', 'uber', 368677368)\n",
      "2020-11-20 00:19:29,345 [INFO] Base - Ready to fetch reviews from: https://apps.apple.com/gb/app/uber/id368677368\n",
      "2020-11-20 00:19:34,550 [INFO] Base - [id:368677368] Fetched 320 reviews (320 fetched in total)\n",
      "2020-11-20 00:19:39,966 [INFO] Base - [id:368677368] Fetched 580 reviews (580 fetched in total)\n",
      "2020-11-20 00:19:45,406 [INFO] Base - [id:368677368] Fetched 840 reviews (840 fetched in total)\n",
      "2020-11-20 00:19:50,730 [INFO] Base - [id:368677368] Fetched 1120 reviews (1120 fetched in total)\n",
      "2020-11-20 00:19:56,270 [INFO] Base - [id:368677368] Fetched 1520 reviews (1520 fetched in total)\n",
      "2020-11-20 00:20:01,775 [INFO] Base - [id:368677368] Fetched 1900 reviews (1900 fetched in total)\n",
      "2020-11-20 00:20:07,207 [INFO] Base - [id:368677368] Fetched 2340 reviews (2340 fetched in total)\n",
      "2020-11-20 00:20:12,636 [INFO] Base - [id:368677368] Fetched 2720 reviews (2720 fetched in total)\n",
      "2020-11-20 00:20:17,961 [INFO] Base - [id:368677368] Fetched 3140 reviews (3140 fetched in total)\n",
      "2020-11-20 00:20:23,398 [INFO] Base - [id:368677368] Fetched 3440 reviews (3440 fetched in total)\n",
      "2020-11-20 00:20:28,816 [INFO] Base - [id:368677368] Fetched 3720 reviews (3720 fetched in total)\n",
      "2020-11-20 00:20:34,275 [INFO] Base - [id:368677368] Fetched 4100 reviews (4100 fetched in total)\n",
      "2020-11-20 00:20:39,548 [INFO] Base - [id:368677368] Fetched 4460 reviews (4460 fetched in total)\n",
      "2020-11-20 00:20:45,313 [INFO] Base - [id:368677368] Fetched 4780 reviews (4780 fetched in total)\n",
      "2020-11-20 00:20:51,556 [INFO] Base - [id:368677368] Fetched 5080 reviews (5080 fetched in total)\n",
      "2020-11-20 00:20:56,966 [INFO] Base - [id:368677368] Fetched 5420 reviews (5420 fetched in total)\n",
      "2020-11-20 00:21:02,513 [INFO] Base - [id:368677368] Fetched 5820 reviews (5820 fetched in total)\n",
      "2020-11-20 00:21:07,948 [INFO] Base - [id:368677368] Fetched 6120 reviews (6120 fetched in total)\n",
      "2020-11-20 00:21:13,365 [INFO] Base - [id:368677368] Fetched 6400 reviews (6400 fetched in total)\n",
      "2020-11-20 00:21:18,946 [INFO] Base - [id:368677368] Fetched 6740 reviews (6740 fetched in total)\n",
      "2020-11-20 00:21:24,427 [INFO] Base - [id:368677368] Fetched 7040 reviews (7040 fetched in total)\n",
      "2020-11-20 00:21:29,752 [INFO] Base - [id:368677368] Fetched 7380 reviews (7380 fetched in total)\n",
      "2020-11-20 00:21:35,076 [INFO] Base - [id:368677368] Fetched 7700 reviews (7700 fetched in total)\n",
      "2020-11-20 00:21:40,413 [INFO] Base - [id:368677368] Fetched 8060 reviews (8060 fetched in total)\n",
      "2020-11-20 00:21:45,698 [INFO] Base - [id:368677368] Fetched 8480 reviews (8480 fetched in total)\n",
      "2020-11-20 00:21:51,114 [INFO] Base - [id:368677368] Fetched 8920 reviews (8920 fetched in total)\n",
      "2020-11-20 00:21:56,582 [INFO] Base - [id:368677368] Fetched 9280 reviews (9280 fetched in total)\n",
      "2020-11-20 00:22:01,906 [INFO] Base - [id:368677368] Fetched 9600 reviews (9600 fetched in total)\n",
      "2020-11-20 00:22:07,538 [INFO] Base - [id:368677368] Fetched 9920 reviews (9920 fetched in total)\n",
      "2020-11-20 00:22:13,019 [INFO] Base - [id:368677368] Fetched 10300 reviews (10300 fetched in total)\n",
      "2020-11-20 00:22:13,740 [INFO] Base - [id:368677368] Fetched 10342 reviews (10342 fetched in total)\n"
     ]
    }
   ],
   "source": [
    "appstore = AppStore(country=country_code, app_name=app_id)\n",
    "appstore.review(how_many=100000)"
   ]
  },
  {
   "cell_type": "code",
   "execution_count": 6,
   "metadata": {},
   "outputs": [],
   "source": [
    "df = pd.json_normalize(appstore.reviews)"
   ]
  },
  {
   "cell_type": "code",
   "execution_count": 7,
   "metadata": {},
   "outputs": [],
   "source": [
    "df.to_csv(csv_file_name)"
   ]
  }
 ],
 "metadata": {
  "kernelspec": {
   "display_name": "Python 3",
   "language": "python",
   "name": "python3"
  },
  "language_info": {
   "codemirror_mode": {
    "name": "ipython",
    "version": 3
   },
   "file_extension": ".py",
   "mimetype": "text/x-python",
   "name": "python",
   "nbconvert_exporter": "python",
   "pygments_lexer": "ipython3",
   "version": "3.6.7"
  }
 },
 "nbformat": 4,
 "nbformat_minor": 2
}
